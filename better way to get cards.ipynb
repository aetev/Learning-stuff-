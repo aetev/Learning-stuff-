{
 "cells": [
  {
   "cell_type": "code",
   "execution_count": 1,
   "id": "64d1a282-8166-4748-8753-4cb3ed211edf",
   "metadata": {},
   "outputs": [],
   "source": [
    "import requests"
   ]
  },
  {
   "cell_type": "code",
   "execution_count": 18,
   "id": "922ff7b8-f6af-4bd1-b40a-0e35bffeb584",
   "metadata": {},
   "outputs": [
    {
     "name": "stdout",
     "output_type": "stream",
     "text": [
      "Access Token: USrlaplxbPKF3eK8v7zqWWZIoux2KmmLRL\n"
     ]
    }
   ],
   "source": [
    "# Your credentials\n",
    "client_id = '0e64da7ef19646e4b8d1f01e5c296f04'\n",
    "client_secret = 'gRSqnm8qURgxlht6va1FyfVs2Btwr2en'\n",
    "\n",
    "# OAuth endpoint\n",
    "token_url = 'https://oauth.battle.net/token'\n",
    "\n",
    "# Request an access token\n",
    "response = requests.post(token_url, data={\n",
    "    'grant_type': 'client_credentials',\n",
    "}, auth=(client_id, client_secret))\n",
    "\n",
    "# Check if the request was successful\n",
    "if response.status_code == 200:\n",
    "    token_data = response.json()\n",
    "    access_token = token_data['access_token']\n",
    "    print('Access Token:', access_token)\n",
    "else:\n",
    "    print('Failed to obtain access token:', response.status_code, response.text)"
   ]
  },
  {
   "cell_type": "code",
   "execution_count": 62,
   "id": "a08a6b6b-fde3-43ed-8825-f9173ea9d2a2",
   "metadata": {
    "tags": []
   },
   "outputs": [],
   "source": [
    "headers = {\n",
    "    'Authorization': f'Bearer {access_token}',\n",
    "    'Battlenet-Namespace': 'static-us'  # Adjust namespace if needed\n",
    "}\n",
    "\n",
    "# Example endpoint for Hearthstone card data (adjust URL as needed)\n",
    "card_data_url = 'https://us.api.blizzard.com/hearthstone/cards/?page=3'\n",
    "\n",
    "# Make the API request\n",
    "response = requests.get(card_data_url, headers=headers)\n"
   ]
  },
  {
   "cell_type": "code",
   "execution_count": 144,
   "id": "cd60280c-72d6-49f6-8dc9-9ad9d3d2a450",
   "metadata": {},
   "outputs": [],
   "source": [
    "import time\n",
    "\n",
    "setlist = ['whizbangs-workshop','perils-in-paradise','festival-of-legends',\n",
    "           'titans','showdown-in-the-badlands'\n",
    "          ]\n",
    "\n",
    "def getCards(Page,setnum):\n",
    "    \n",
    "    \n",
    "    \n",
    "    \n",
    "    Url = 'https://us.api.blizzard.com/hearthstone/cards/?collectible=1&set=' + setlist[setnum] + '&page=' + str(Page)\n",
    "    # Make the API request\n",
    "    response = requests.get(Url, headers=headers)\n",
    "\n",
    "    # Check if the request was successful\n",
    "    if response.status_code == 200:\n",
    "        # Parse the JSON response\n",
    "        data = response.json()\n",
    "    \n",
    "        # Initialize an empty list to hold card names\n",
    "        card_names = []\n",
    "    \n",
    "        # Check if the data is a dictionary and contains 'cards'\n",
    "        if isinstance(data, dict) and 'cards' in data:\n",
    "            cards = data['cards']\n",
    "        \n",
    "            # Iterate through the list of cards\n",
    "            for card in cards:\n",
    "                if isinstance(card, dict):\n",
    "                    # Check if 'name' is in the card and it's a dictionary\n",
    "                    name_info = card.get('name')\n",
    "                    if isinstance(name_info, dict) and 'en_US' in name_info:\n",
    "                        card_names.append(name_info['en_US'])\n",
    "        else:\n",
    "            print('Failed to retrieve data:', response.status_code, response.text)\n",
    "        \n",
    "    return card_names"
   ]
  },
  {
   "cell_type": "code",
   "execution_count": 120,
   "id": "137c6ef1-e89f-46a7-ad4a-d02133671421",
   "metadata": {},
   "outputs": [],
   "source": [
    "from IPython.display import clear_output"
   ]
  },
  {
   "cell_type": "code",
   "execution_count": 146,
   "id": "9bfa2449-f359-46b7-b7f5-f8a91a6b8de1",
   "metadata": {},
   "outputs": [
    {
     "ename": "IndexError",
     "evalue": "list index out of range",
     "output_type": "error",
     "traceback": [
      "\u001b[0;31m---------------------------------------------------------------------------\u001b[0m",
      "\u001b[0;31mIndexError\u001b[0m                                Traceback (most recent call last)",
      "Cell \u001b[0;32mIn [146], line 5\u001b[0m\n\u001b[1;32m      3\u001b[0m \u001b[38;5;28;01mfor\u001b[39;00m i \u001b[38;5;129;01min\u001b[39;00m \u001b[38;5;28mrange\u001b[39m(\u001b[38;5;241m10000\u001b[39m):\n\u001b[1;32m      4\u001b[0m     time\u001b[38;5;241m.\u001b[39msleep(\u001b[38;5;241m0.001\u001b[39m)\n\u001b[0;32m----> 5\u001b[0m     cardlist \u001b[38;5;241m=\u001b[39m \u001b[43mgetCards\u001b[49m\u001b[43m(\u001b[49m\u001b[43mi\u001b[49m\u001b[38;5;241;43m+\u001b[39;49m\u001b[38;5;241;43m1\u001b[39;49m\u001b[43m,\u001b[49m\u001b[38;5;241;43m5\u001b[39;49m\u001b[43m)\u001b[49m\n\u001b[1;32m      6\u001b[0m     clear_output(wait\u001b[38;5;241m=\u001b[39m\u001b[38;5;28;01mTrue\u001b[39;00m)\n\u001b[1;32m      7\u001b[0m     \u001b[38;5;28mprint\u001b[39m(i)\n",
      "Cell \u001b[0;32mIn [144], line 12\u001b[0m, in \u001b[0;36mgetCards\u001b[0;34m(Page, setnum)\u001b[0m\n\u001b[1;32m      7\u001b[0m \u001b[38;5;28;01mdef\u001b[39;00m \u001b[38;5;21mgetCards\u001b[39m(Page,setnum):\n\u001b[0;32m---> 12\u001b[0m     Url \u001b[38;5;241m=\u001b[39m \u001b[38;5;124m'\u001b[39m\u001b[38;5;124mhttps://us.api.blizzard.com/hearthstone/cards/?collectible=1&set=\u001b[39m\u001b[38;5;124m'\u001b[39m \u001b[38;5;241m+\u001b[39m \u001b[43msetlist\u001b[49m\u001b[43m[\u001b[49m\u001b[43msetnum\u001b[49m\u001b[43m]\u001b[49m \u001b[38;5;241m+\u001b[39m \u001b[38;5;124m'\u001b[39m\u001b[38;5;124m&page=\u001b[39m\u001b[38;5;124m'\u001b[39m \u001b[38;5;241m+\u001b[39m \u001b[38;5;28mstr\u001b[39m(Page)\n\u001b[1;32m     13\u001b[0m     \u001b[38;5;66;03m# Make the API request\u001b[39;00m\n\u001b[1;32m     14\u001b[0m     response \u001b[38;5;241m=\u001b[39m requests\u001b[38;5;241m.\u001b[39mget(Url, headers\u001b[38;5;241m=\u001b[39mheaders)\n",
      "\u001b[0;31mIndexError\u001b[0m: list index out of range"
     ]
    }
   ],
   "source": [
    "import csv\n",
    "card_names = []\n",
    "for i in range(10000):\n",
    "    time.sleep(0.001)\n",
    "    cardlist = getCards(i+1,4)\n",
    "    clear_output(wait=True)\n",
    "    print(i)\n",
    "    \n",
    "    if len(cardlist) == 0:\n",
    "        break\n",
    "    else:\n",
    "        card_names = card_names+cardlist\n",
    "        card_names = list(set(card_names))\n",
    "        \n",
    "# Specify the file name\n",
    "filename = 'cardsfromapi.csv'\n",
    "\n",
    "# Write the 1D list to a CSV file\n",
    "with open(filename, 'w', newline='') as file:\n",
    "    writer = csv.writer(file)\n",
    "    writer.writerow(card_names)\n",
    "\n",
    "print(f\"Data written to {filename}\")    "
   ]
  },
  {
   "cell_type": "code",
   "execution_count": 138,
   "id": "6045118d-3f6e-41d1-967b-a8a0238a2c8f",
   "metadata": {},
   "outputs": [
    {
     "data": {
      "text/plain": [
       "145"
      ]
     },
     "execution_count": 138,
     "metadata": {},
     "output_type": "execute_result"
    }
   ],
   "source": [
    "card_names = list(set(card_names))\n",
    "len(card_names)"
   ]
  }
 ],
 "metadata": {
  "kernelspec": {
   "display_name": "Python 3 (ipykernel)",
   "language": "python",
   "name": "python3"
  },
  "language_info": {
   "codemirror_mode": {
    "name": "ipython",
    "version": 3
   },
   "file_extension": ".py",
   "mimetype": "text/x-python",
   "name": "python",
   "nbconvert_exporter": "python",
   "pygments_lexer": "ipython3",
   "version": "3.8.13"
  }
 },
 "nbformat": 4,
 "nbformat_minor": 5
}
