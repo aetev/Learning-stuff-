{
 "cells": [
  {
   "cell_type": "markdown",
   "metadata": {
    "colab_type": "text",
    "id": "view-in-github"
   },
   "source": [
    "<a href=\"https://colab.research.google.com/github/aetev/Learning-stuff-/blob/main/YF%20RL%20(2)%20(1)%20(19)%20test.ipynb\" target=\"_parent\"><img src=\"https://colab.research.google.com/assets/colab-badge.svg\" alt=\"Open In Colab\"/></a>"
   ]
  },
  {
   "cell_type": "code",
   "execution_count": 1,
   "metadata": {
    "colab": {
     "base_uri": "https://localhost:8080/"
    },
    "id": "so8O99AzB95T",
    "outputId": "60ebff0d-41a7-4264-dbf4-ea9275e56acd"
   },
   "outputs": [
    {
     "name": "stdout",
     "output_type": "stream",
     "text": [
      "Requirement already satisfied: tf_agents[reverb] in /usr/local/lib/python3.8/dist-packages (0.17.0)\n",
      "Requirement already satisfied: cloudpickle>=1.3 in /usr/local/lib/python3.8/dist-packages (from tf_agents[reverb]) (3.0.0)\n",
      "Requirement already satisfied: absl-py>=0.6.1 in /usr/local/lib/python3.8/dist-packages (from tf_agents[reverb]) (1.4.0)\n",
      "Requirement already satisfied: wrapt>=1.11.1 in /usr/local/lib/python3.8/dist-packages (from tf_agents[reverb]) (1.14.1)\n",
      "Requirement already satisfied: protobuf>=3.11.3 in /usr/local/lib/python3.8/dist-packages (from tf_agents[reverb]) (4.22.1)\n",
      "Requirement already satisfied: tensorflow-probability~=0.20.1 in /usr/local/lib/python3.8/dist-packages (from tf_agents[reverb]) (0.20.1)\n",
      "Requirement already satisfied: numpy>=1.19.0 in /usr/local/lib/python3.8/dist-packages (from tf_agents[reverb]) (1.23.5)\n",
      "Requirement already satisfied: gin-config>=0.4.0 in /usr/local/lib/python3.8/dist-packages (from tf_agents[reverb]) (0.5.0)\n",
      "Requirement already satisfied: gym<=0.23.0,>=0.17.0 in /usr/local/lib/python3.8/dist-packages (from tf_agents[reverb]) (0.23.0)\n",
      "Requirement already satisfied: pygame==2.1.3 in /usr/local/lib/python3.8/dist-packages (from tf_agents[reverb]) (2.1.3)\n",
      "Requirement already satisfied: typing-extensions<4.6.0,>=3.7.4.3 in /usr/local/lib/python3.8/dist-packages (from tf_agents[reverb]) (4.5.0)\n",
      "Requirement already satisfied: pillow in /usr/local/lib/python3.8/dist-packages (from tf_agents[reverb]) (9.4.0)\n",
      "Requirement already satisfied: six>=1.10.0 in /usr/lib/python3/dist-packages (from tf_agents[reverb]) (1.14.0)\n",
      "Requirement already satisfied: dm-reverb~=0.12.0 in /usr/local/lib/python3.8/dist-packages (from tf_agents[reverb]) (0.12.0)\n",
      "Requirement already satisfied: tensorflow~=2.13.0 in /usr/local/lib/python3.8/dist-packages (from tf_agents[reverb]) (2.13.1)\n",
      "Requirement already satisfied: rlds in /usr/local/lib/python3.8/dist-packages (from tf_agents[reverb]) (0.1.8)\n",
      "Requirement already satisfied: portpicker in /usr/local/lib/python3.8/dist-packages (from dm-reverb~=0.12.0->tf_agents[reverb]) (1.6.0)\n",
      "Requirement already satisfied: dm-tree in /usr/local/lib/python3.8/dist-packages (from dm-reverb~=0.12.0->tf_agents[reverb]) (0.1.8)\n",
      "Requirement already satisfied: gym-notices>=0.0.4 in /usr/local/lib/python3.8/dist-packages (from gym<=0.23.0,>=0.17.0->tf_agents[reverb]) (0.0.8)\n",
      "Requirement already satisfied: importlib-metadata>=4.10.0 in /usr/local/lib/python3.8/dist-packages (from gym<=0.23.0,>=0.17.0->tf_agents[reverb]) (6.1.0)\n",
      "Requirement already satisfied: tensorboard<2.14,>=2.13 in /usr/local/lib/python3.8/dist-packages (from tensorflow~=2.13.0->tf_agents[reverb]) (2.13.0)\n",
      "Requirement already satisfied: keras<2.14,>=2.13.1 in /usr/local/lib/python3.8/dist-packages (from tensorflow~=2.13.0->tf_agents[reverb]) (2.13.1)\n",
      "Requirement already satisfied: tensorflow-io-gcs-filesystem>=0.23.1 in /usr/local/lib/python3.8/dist-packages (from tensorflow~=2.13.0->tf_agents[reverb]) (0.31.0)\n",
      "Requirement already satisfied: h5py>=2.9.0 in /usr/local/lib/python3.8/dist-packages (from tensorflow~=2.13.0->tf_agents[reverb]) (3.8.0)\n",
      "Requirement already satisfied: termcolor>=1.1.0 in /usr/local/lib/python3.8/dist-packages (from tensorflow~=2.13.0->tf_agents[reverb]) (2.2.0)\n",
      "Requirement already satisfied: grpcio<2.0,>=1.24.3 in /usr/local/lib/python3.8/dist-packages (from tensorflow~=2.13.0->tf_agents[reverb]) (1.51.3)\n",
      "Requirement already satisfied: google-pasta>=0.1.1 in /usr/local/lib/python3.8/dist-packages (from tensorflow~=2.13.0->tf_agents[reverb]) (0.2.0)\n",
      "Requirement already satisfied: setuptools in /usr/local/lib/python3.8/dist-packages (from tensorflow~=2.13.0->tf_agents[reverb]) (67.6.0)\n",
      "Requirement already satisfied: libclang>=13.0.0 in /usr/local/lib/python3.8/dist-packages (from tensorflow~=2.13.0->tf_agents[reverb]) (16.0.0)\n",
      "Requirement already satisfied: flatbuffers>=23.1.21 in /usr/local/lib/python3.8/dist-packages (from tensorflow~=2.13.0->tf_agents[reverb]) (23.3.3)\n",
      "Requirement already satisfied: tensorflow-estimator<2.14,>=2.13.0 in /usr/local/lib/python3.8/dist-packages (from tensorflow~=2.13.0->tf_agents[reverb]) (2.13.0)\n",
      "Requirement already satisfied: gast<=0.4.0,>=0.2.1 in /usr/local/lib/python3.8/dist-packages (from tensorflow~=2.13.0->tf_agents[reverb]) (0.4.0)\n",
      "Requirement already satisfied: packaging in /usr/local/lib/python3.8/dist-packages (from tensorflow~=2.13.0->tf_agents[reverb]) (23.0)\n",
      "Requirement already satisfied: opt-einsum>=2.3.2 in /usr/local/lib/python3.8/dist-packages (from tensorflow~=2.13.0->tf_agents[reverb]) (3.3.0)\n",
      "Requirement already satisfied: astunparse>=1.6.0 in /usr/local/lib/python3.8/dist-packages (from tensorflow~=2.13.0->tf_agents[reverb]) (1.6.3)\n",
      "Requirement already satisfied: decorator in /usr/local/lib/python3.8/dist-packages (from tensorflow-probability~=0.20.1->tf_agents[reverb]) (5.1.1)\n",
      "Requirement already satisfied: wheel<1.0,>=0.23.0 in /usr/local/lib/python3.8/dist-packages (from astunparse>=1.6.0->tensorflow~=2.13.0->tf_agents[reverb]) (0.40.0)\n",
      "Requirement already satisfied: zipp>=0.5 in /usr/local/lib/python3.8/dist-packages (from importlib-metadata>=4.10.0->gym<=0.23.0,>=0.17.0->tf_agents[reverb]) (3.15.0)\n",
      "Requirement already satisfied: werkzeug>=1.0.1 in /usr/local/lib/python3.8/dist-packages (from tensorboard<2.14,>=2.13->tensorflow~=2.13.0->tf_agents[reverb]) (2.2.3)\n",
      "Requirement already satisfied: requests<3,>=2.21.0 in /usr/local/lib/python3.8/dist-packages (from tensorboard<2.14,>=2.13->tensorflow~=2.13.0->tf_agents[reverb]) (2.31.0)\n",
      "Requirement already satisfied: tensorboard-data-server<0.8.0,>=0.7.0 in /usr/local/lib/python3.8/dist-packages (from tensorboard<2.14,>=2.13->tensorflow~=2.13.0->tf_agents[reverb]) (0.7.0)\n",
      "Requirement already satisfied: markdown>=2.6.8 in /usr/local/lib/python3.8/dist-packages (from tensorboard<2.14,>=2.13->tensorflow~=2.13.0->tf_agents[reverb]) (3.4.3)\n",
      "Requirement already satisfied: google-auth<3,>=1.6.3 in /usr/local/lib/python3.8/dist-packages (from tensorboard<2.14,>=2.13->tensorflow~=2.13.0->tf_agents[reverb]) (2.16.2)\n",
      "Requirement already satisfied: google-auth-oauthlib<1.1,>=0.5 in /usr/local/lib/python3.8/dist-packages (from tensorboard<2.14,>=2.13->tensorflow~=2.13.0->tf_agents[reverb]) (1.0.0)\n",
      "Requirement already satisfied: psutil in /usr/local/lib/python3.8/dist-packages (from portpicker->dm-reverb~=0.12.0->tf_agents[reverb]) (5.9.4)\n",
      "Requirement already satisfied: cachetools<6.0,>=2.0.0 in /usr/local/lib/python3.8/dist-packages (from google-auth<3,>=1.6.3->tensorboard<2.14,>=2.13->tensorflow~=2.13.0->tf_agents[reverb]) (5.3.0)\n",
      "Requirement already satisfied: rsa<5,>=3.1.4 in /usr/local/lib/python3.8/dist-packages (from google-auth<3,>=1.6.3->tensorboard<2.14,>=2.13->tensorflow~=2.13.0->tf_agents[reverb]) (4.9)\n",
      "Requirement already satisfied: pyasn1-modules>=0.2.1 in /usr/local/lib/python3.8/dist-packages (from google-auth<3,>=1.6.3->tensorboard<2.14,>=2.13->tensorflow~=2.13.0->tf_agents[reverb]) (0.2.8)\n",
      "Requirement already satisfied: requests-oauthlib>=0.7.0 in /usr/local/lib/python3.8/dist-packages (from google-auth-oauthlib<1.1,>=0.5->tensorboard<2.14,>=2.13->tensorflow~=2.13.0->tf_agents[reverb]) (1.3.1)\n",
      "Requirement already satisfied: idna<4,>=2.5 in /usr/lib/python3/dist-packages (from requests<3,>=2.21.0->tensorboard<2.14,>=2.13->tensorflow~=2.13.0->tf_agents[reverb]) (2.8)\n",
      "Requirement already satisfied: urllib3<3,>=1.21.1 in /usr/lib/python3/dist-packages (from requests<3,>=2.21.0->tensorboard<2.14,>=2.13->tensorflow~=2.13.0->tf_agents[reverb]) (1.25.8)\n",
      "Requirement already satisfied: charset-normalizer<4,>=2 in /usr/local/lib/python3.8/dist-packages (from requests<3,>=2.21.0->tensorboard<2.14,>=2.13->tensorflow~=2.13.0->tf_agents[reverb]) (3.3.0)\n",
      "Requirement already satisfied: certifi>=2017.4.17 in /usr/lib/python3/dist-packages (from requests<3,>=2.21.0->tensorboard<2.14,>=2.13->tensorflow~=2.13.0->tf_agents[reverb]) (2019.11.28)\n",
      "Requirement already satisfied: MarkupSafe>=2.1.1 in /usr/local/lib/python3.8/dist-packages (from werkzeug>=1.0.1->tensorboard<2.14,>=2.13->tensorflow~=2.13.0->tf_agents[reverb]) (2.1.2)\n",
      "Requirement already satisfied: pyasn1<0.5.0,>=0.4.6 in /usr/local/lib/python3.8/dist-packages (from pyasn1-modules>=0.2.1->google-auth<3,>=1.6.3->tensorboard<2.14,>=2.13->tensorflow~=2.13.0->tf_agents[reverb]) (0.4.8)\n",
      "Requirement already satisfied: oauthlib>=3.0.0 in /usr/local/lib/python3.8/dist-packages (from requests-oauthlib>=0.7.0->google-auth-oauthlib<1.1,>=0.5->tensorboard<2.14,>=2.13->tensorflow~=2.13.0->tf_agents[reverb]) (3.2.2)\n",
      "\u001b[33mWARNING: Running pip as the 'root' user can result in broken permissions and conflicting behaviour with the system package manager. It is recommended to use a virtual environment instead: https://pip.pypa.io/warnings/venv\u001b[0m\u001b[33m\r\n",
      "\u001b[0m\r\n",
      "\u001b[1m[\u001b[0m\u001b[34;49mnotice\u001b[0m\u001b[1;39;49m]\u001b[0m\u001b[39;49m A new release of pip is available: \u001b[0m\u001b[31;49m23.0.1\u001b[0m\u001b[39;49m -> \u001b[0m\u001b[32;49m23.3\u001b[0m\r\n",
      "\u001b[1m[\u001b[0m\u001b[34;49mnotice\u001b[0m\u001b[1;39;49m]\u001b[0m\u001b[39;49m To update, run: \u001b[0m\u001b[32;49mpython3 -m pip install --upgrade pip\u001b[0m\r\n"
     ]
    }
   ],
   "source": [
    "!pip install tf_agents[reverb]"
   ]
  },
  {
   "cell_type": "code",
   "execution_count": 2,
   "metadata": {
    "colab": {
     "base_uri": "https://localhost:8080/"
    },
    "id": "qt7Q6vUhbKNs",
    "outputId": "9b3b7687-cf2a-49a6-bbb3-680426b45655",
    "scrolled": true
   },
   "outputs": [
    {
     "name": "stdout",
     "output_type": "stream",
     "text": [
      "Requirement already satisfied: yfinance in /usr/local/lib/python3.8/dist-packages (0.2.31)\n",
      "Requirement already satisfied: peewee>=3.16.2 in /usr/local/lib/python3.8/dist-packages (from yfinance) (3.17.0)\n",
      "Requirement already satisfied: frozendict>=2.3.4 in /usr/local/lib/python3.8/dist-packages (from yfinance) (2.3.8)\n",
      "Requirement already satisfied: requests>=2.31 in /usr/local/lib/python3.8/dist-packages (from yfinance) (2.31.0)\n",
      "Requirement already satisfied: multitasking>=0.0.7 in /usr/local/lib/python3.8/dist-packages (from yfinance) (0.0.11)\n",
      "Requirement already satisfied: appdirs>=1.4.4 in /usr/local/lib/python3.8/dist-packages (from yfinance) (1.4.4)\n",
      "Requirement already satisfied: lxml>=4.9.1 in /usr/local/lib/python3.8/dist-packages (from yfinance) (4.9.3)\n",
      "Requirement already satisfied: html5lib>=1.1 in /usr/local/lib/python3.8/dist-packages (from yfinance) (1.1)\n",
      "Requirement already satisfied: pytz>=2022.5 in /usr/local/lib/python3.8/dist-packages (from yfinance) (2023.3.post1)\n",
      "Requirement already satisfied: beautifulsoup4>=4.11.1 in /usr/local/lib/python3.8/dist-packages (from yfinance) (4.12.0)\n",
      "Requirement already satisfied: numpy>=1.16.5 in /usr/local/lib/python3.8/dist-packages (from yfinance) (1.23.5)\n",
      "Requirement already satisfied: pandas>=1.3.0 in /usr/local/lib/python3.8/dist-packages (from yfinance) (2.0.3)\n",
      "Requirement already satisfied: soupsieve>1.2 in /usr/local/lib/python3.8/dist-packages (from beautifulsoup4>=4.11.1->yfinance) (2.4)\n",
      "Requirement already satisfied: six>=1.9 in /usr/lib/python3/dist-packages (from html5lib>=1.1->yfinance) (1.14.0)\n",
      "Requirement already satisfied: webencodings in /usr/local/lib/python3.8/dist-packages (from html5lib>=1.1->yfinance) (0.5.1)\n",
      "Requirement already satisfied: tzdata>=2022.1 in /usr/local/lib/python3.8/dist-packages (from pandas>=1.3.0->yfinance) (2023.3)\n",
      "Requirement already satisfied: python-dateutil>=2.8.2 in /usr/local/lib/python3.8/dist-packages (from pandas>=1.3.0->yfinance) (2.8.2)\n",
      "Requirement already satisfied: idna<4,>=2.5 in /usr/lib/python3/dist-packages (from requests>=2.31->yfinance) (2.8)\n",
      "Requirement already satisfied: urllib3<3,>=1.21.1 in /usr/lib/python3/dist-packages (from requests>=2.31->yfinance) (1.25.8)\n",
      "Requirement already satisfied: charset-normalizer<4,>=2 in /usr/local/lib/python3.8/dist-packages (from requests>=2.31->yfinance) (3.3.0)\n",
      "Requirement already satisfied: certifi>=2017.4.17 in /usr/lib/python3/dist-packages (from requests>=2.31->yfinance) (2019.11.28)\n",
      "\u001b[33mWARNING: Running pip as the 'root' user can result in broken permissions and conflicting behaviour with the system package manager. It is recommended to use a virtual environment instead: https://pip.pypa.io/warnings/venv\u001b[0m\u001b[33m\n",
      "\u001b[0m\n",
      "\u001b[1m[\u001b[0m\u001b[34;49mnotice\u001b[0m\u001b[1;39;49m]\u001b[0m\u001b[39;49m A new release of pip is available: \u001b[0m\u001b[31;49m23.0.1\u001b[0m\u001b[39;49m -> \u001b[0m\u001b[32;49m23.3\u001b[0m\n",
      "\u001b[1m[\u001b[0m\u001b[34;49mnotice\u001b[0m\u001b[1;39;49m]\u001b[0m\u001b[39;49m To update, run: \u001b[0m\u001b[32;49mpython3 -m pip install --upgrade pip\u001b[0m\n"
     ]
    }
   ],
   "source": [
    "!pip install yfinance"
   ]
  },
  {
   "cell_type": "code",
   "execution_count": 2,
   "metadata": {
    "id": "MQ3xx6ozshhG"
   },
   "outputs": [],
   "source": [
    "import os\n",
    "os.environ[\"CUDA_VISIBLE_DEVICES\"] = \"-1\""
   ]
  },
  {
   "cell_type": "code",
   "execution_count": 3,
   "metadata": {
    "id": "R8uczkI2c8cJ"
   },
   "outputs": [
    {
     "name": "stderr",
     "output_type": "stream",
     "text": [
      "2023-10-22 23:14:30.660686: I tensorflow/core/platform/cpu_feature_guard.cc:182] This TensorFlow binary is optimized to use available CPU instructions in performance-critical operations.\n",
      "To enable the following instructions: AVX2 FMA, in other operations, rebuild TensorFlow with the appropriate compiler flags.\n"
     ]
    }
   ],
   "source": [
    "import yfinance as yf\n",
    "from datetime import datetime, timedelta\n",
    "import pandas as pd\n",
    "import numpy as np\n",
    "import matplotlib.pyplot as plt\n",
    "from numpy.lib.stride_tricks import sliding_window_view\n",
    "import tracemalloc\n",
    "\n",
    "import tensorflow_probability as tfp\n",
    "\n",
    "import tensorflow as tf\n",
    "from tensorflow.keras import layers\n",
    "from tensorflow.keras.models import Sequential\n",
    "from tensorflow.keras.layers import LSTM, Dense, Dropout, BatchNormalization, Concatenate, GaussianNoise\n",
    "from tensorflow.keras.regularizers import l2\n",
    "\n",
    "from tf_agents.networks import network\n",
    "from tf_agents.agents.categorical_dqn import categorical_dqn_agent\n",
    "from tf_agents.environments import py_environment, tf_py_environment, utils\n",
    "from tf_agents.specs import array_spec, tensor_spec\n",
    "from tf_agents.trajectories import trajectory, time_step as ts\n",
    "from tf_agents.replay_buffers.tf_uniform_replay_buffer import TFUniformReplayBuffer\n",
    "from tf_agents.policies.random_tf_policy import RandomTFPolicy\n",
    "from tf_agents.policies.boltzmann_policy import BoltzmannPolicy\n",
    "from tf_agents.policies import tf_policy\n",
    "from tf_agents.utils import common"
   ]
  },
  {
   "cell_type": "code",
   "execution_count": 4,
   "metadata": {
    "id": "mJzdcerJK3Ti"
   },
   "outputs": [],
   "source": [
    "BATCH_SIZE = 64 # @param {type:\"integer\"}\n",
    "EVAL_EPISODES = 3 # @param {type:\"integer\"}\n",
    "NUMBER_EPISODES = 10000000000 # @param {type:\"integer\"}\n",
    "COLLECTION_STEPS = 1 # @param {type:\"integer\"}\n",
    "EVAL_INTERVAL =  500 # @param {type:\"integer\"}"
   ]
  },
  {
   "cell_type": "markdown",
   "metadata": {
    "id": "2IlkLhMwK4kg"
   },
   "source": [
    "### <font color='purple'><center>**-------------------Create Data-------------------**</font>"
   ]
  },
  {
   "cell_type": "code",
   "execution_count": 5,
   "metadata": {
    "colab": {
     "base_uri": "https://localhost:8080/"
    },
    "id": "0BYJXzKDbKNv",
    "outputId": "8699bd10-c30b-482f-a82f-01f5bf66781c"
   },
   "outputs": [
    {
     "name": "stdout",
     "output_type": "stream",
     "text": [
      "[*********************100%%**********************]  1 of 1 completed\n",
      "[*********************100%%**********************]  1 of 1 completed\n",
      "[*********************100%%**********************]  1 of 1 completed\n",
      "[*********************100%%**********************]  1 of 1 completed\n",
      "[*********************100%%**********************]  1 of 1 completed\n",
      "[*********************100%%**********************]  1 of 1 completed\n",
      "[*********************100%%**********************]  1 of 1 completed\n",
      "[*********************100%%**********************]  1 of 1 completed\n",
      "[*********************100%%**********************]  1 of 1 completed\n",
      "[*********************100%%**********************]  1 of 1 completed\n",
      "[*********************100%%**********************]  1 of 1 completed\n",
      "[*********************100%%**********************]  1 of 1 completed\n",
      "[*********************100%%**********************]  1 of 1 completed\n",
      "[*********************100%%**********************]  1 of 1 completed\n"
     ]
    }
   ],
   "source": [
    "end_date = datetime.now()\n",
    "start_date = end_date - timedelta(days=729)\n",
    "\n",
    "tickers = [\n",
    "    'EURUSD=X', 'USDEUR=X',  # Euro/US Dollar\n",
    "    'USDJPY=X', 'JPYUSD=X',  # US Dollar/Japanese Yen\n",
    "    'GBPUSD=X', 'USDGBP=X',  # British Pound/US Dollar\n",
    "    'USDCHF=X', 'CHFUSD=X',  # US Dollar/Swiss Franc\n",
    "    'AUDUSD=X', 'USDAUD=X',  # Australian Dollar/US Dollar\n",
    "    'USDCAD=X', 'CADUSD=X',  # US Dollar/Canadian Dollar\n",
    "    'NZDUSD=X', 'USDNZD=X',  # New Zealand Dollar/US Dollar\n",
    "]\n",
    "\n",
    "data_list = []\n",
    "for ticker in tickers:\n",
    "    data = yf.download(ticker, start=start_date, end=end_date, interval='1h')\n",
    "    data_list.append(data)"
   ]
  },
  {
   "cell_type": "code",
   "execution_count": 6,
   "metadata": {
    "id": "4DBT7rscbKNw"
   },
   "outputs": [],
   "source": [
    "def create_data(raw_data, window_size):\n",
    "    High = raw_data['High'].to_numpy()\n",
    "    Close = raw_data['Close'].to_numpy()\n",
    "    Low = raw_data['Low'].to_numpy()\n",
    "    Std = np.std(np.diff(Close))\n",
    "    Close_Diff = np.diff(Close)/Std\n",
    "    High_Adj = (High[1:]-Close[1:])/Std\n",
    "    Low_Adj = (Close[1:]-Low[1:])/Std\n",
    "\n",
    "    stack = np.stack((Close_Diff, High_Adj, Low_Adj), axis=1)\n",
    "\n",
    "    window_view = np.lib.stride_tricks.sliding_window_view(stack, (window_size,),axis=0)\n",
    "\n",
    "    Forex_Data = window_view[:-1]\n",
    "    Forex_Data = Forex_Data.astype('float32')\n",
    "    target = Close_Diff[window_size:]\n",
    "\n",
    "    return Forex_Data, target\n"
   ]
  },
  {
   "cell_type": "code",
   "execution_count": 7,
   "metadata": {
    "id": "EoEfR1l5bKNw"
   },
   "outputs": [],
   "source": [
    "window_list = []\n",
    "target_list = []\n",
    "for data in data_list:\n",
    "    window, target =  create_data(data, 50)\n",
    "    window_list.append(window)\n",
    "    target_list.append(target)\n"
   ]
  },
  {
   "cell_type": "markdown",
   "metadata": {
    "id": "Inm6-iBTDdHD"
   },
   "source": [
    "### <font color='red'><center>**-------------------Create Environment-------------------**</font>"
   ]
  },
  {
   "cell_type": "code",
   "execution_count": 8,
   "metadata": {
    "id": "dqH-AjKRmsg9"
   },
   "outputs": [],
   "source": [
    "def custom_formatter(x):\n",
    "  return f'{x:.4f}'\n",
    "\n",
    "def test_environment(env, num_steps):\n",
    "    # Reset the environment\n",
    "    observation = env.reset()\n",
    "\n",
    "    # Get the upper bound of the action range\n",
    "    action_spec = env.action_spec().maximum\n",
    "\n",
    "    # Loop through the time steps and take random actions\n",
    "    for _ in range(num_steps):\n",
    "        # Select a random action from the range of valid values\n",
    "        action = np.random.randint(0, action_spec)\n",
    "\n",
    "        # Execute the action and get the next observation, reward, done, and info\n",
    "        observation, reward, done, info = env.step(action)\n",
    "\n",
    "        # Print the current time step\n",
    "        np.set_printoptions(formatter={'float_kind':custom_formatter})\n",
    "        print(action,\"{:.4f}\".format(reward),info[1])"
   ]
  },
  {
   "cell_type": "code",
   "execution_count": 10,
   "metadata": {
    "id": "y9l_vEgsbKNx"
   },
   "outputs": [],
   "source": [
    "def SortinoRatio(df, T):\n",
    "    \"\"\"Calculates the Sortino ratio from univariate excess returns.\n",
    "\n",
    "    Args:\n",
    "        df ([float]): The dataframe or pandas series of univariate excess returns.\n",
    "        T ([integer]): The targeted return.\n",
    "    \"\"\"\n",
    "\n",
    "    # Check if there are less than two numbers in the array or no downside returns\n",
    "    if len(df) < 2:\n",
    "        return -1\n",
    "    if np.all(df >= T):\n",
    "        return 0\n",
    "\n",
    "    #downside deviation:\n",
    "    temp = np.minimum(0, df - T)**2\n",
    "    temp_expectation = np.mean(temp)\n",
    "    downside_dev = np.sqrt(temp_expectation)\n",
    "\n",
    "    #Sortino ratio:\n",
    "    sortino_ratio = np.mean(df - T) / downside_dev\n",
    "\n",
    "    return(sortino_ratio)"
   ]
  },
  {
   "cell_type": "code",
   "execution_count": 606,
   "metadata": {},
   "outputs": [],
   "source": [
    "def calculate_downside_deviation(returns, threshold=0.02):\n",
    "    \"\"\"\n",
    "    Calculate the downside deviation of a numpy array of returns.\n",
    "\n",
    "    Parameters:\n",
    "    returns (numpy.ndarray): A numpy array of returns.\n",
    "    MAR (float): The minimum acceptable return. Default is 0.02.\n",
    "\n",
    "    Returns:\n",
    "    float: The downside deviation.\n",
    "    \"\"\"\n",
    "    # Check if the array is empty\n",
    "    if returns.size == 0:\n",
    "        return 0\n",
    "\n",
    "    # Calculate downside returns\n",
    "    downside_returns = np.where(returns < threshold, returns - threshold, 0)\n",
    "\n",
    "    # Calculate downside deviation\n",
    "    downside_deviation = np.std(downside_returns)\n",
    "\n",
    "    return -downside_deviation"
   ]
  },
  {
   "cell_type": "code",
   "execution_count": 607,
   "metadata": {},
   "outputs": [],
   "source": [
    "def mean_of_negatives(arr, threshold=0):\n",
    "    \"\"\"\n",
    "    Calculate the mean of the negative returns of a numpy array.\n",
    "\n",
    "    Parameters:\n",
    "    arr (numpy.ndarray): A numpy array of returns.\n",
    "    threshold (float): The minimum acceptable return. Default is 0.\n",
    "\n",
    "    Returns:\n",
    "    float: The mean of the negative returns.\n",
    "    \"\"\"\n",
    "    # Check if the array is empty\n",
    "    if arr.size == 0:\n",
    "        return 0\n",
    "\n",
    "    # Calculate the negative returns\n",
    "    negative_returns = np.where(arr < threshold, arr - threshold, 0)\n",
    "\n",
    "    # Check if there are any negative returns\n",
    "    if not np.any(negative_returns < 0):\n",
    "        return 0\n",
    "\n",
    "    # Select only the negative numbers\n",
    "    negatives = negative_returns[negative_returns < 0]\n",
    "\n",
    "    # Calculate the mean of the negative numbers\n",
    "    mean = np.mean(negatives)\n",
    "\n",
    "    return mean"
   ]
  },
  {
   "cell_type": "code",
   "execution_count": 608,
   "metadata": {
    "colab": {
     "base_uri": "https://localhost:8080/"
    },
    "id": "IoX4ce_Ecafu",
    "outputId": "53e9001d-c95d-4544-93fc-d06dfac0344b"
   },
   "outputs": [
    {
     "name": "stdout",
     "output_type": "stream",
     "text": [
      "0.75\n",
      "3.9999959728237764\n"
     ]
    }
   ],
   "source": [
    "look_ahead_steps = 4\n",
    "\n",
    "#Define the parameters\n",
    "max_reward_per_step = 1\n",
    "discount_factor = 1-1/look_ahead_steps\n",
    "num_steps = 48\n",
    "\n",
    "# Calculate the maximum Q-value per step\n",
    "max_q_value_per_step = max_reward_per_step * (1 - discount_factor**num_steps) / (1 - discount_factor)\n",
    "discount_factor = round(discount_factor,3)\n",
    "print(discount_factor)\n",
    "print(max_q_value_per_step)"
   ]
  },
  {
   "cell_type": "code",
   "execution_count": 1517,
   "metadata": {},
   "outputs": [
    {
     "name": "stdout",
     "output_type": "stream",
     "text": [
      "Observation Spec:\n",
      "(BoundedArraySpec(shape=(3, 50), dtype=dtype('float32'), name='observation1', minimum=-3.4028234663852886e+38, maximum=3.4028234663852886e+38), BoundedArraySpec(shape=(2,), dtype=dtype('float32'), name='observation2', minimum=-3.4028234663852886e+38, maximum=3.4028234663852886e+38))\n",
      "Reward Spec:\n",
      "ArraySpec(shape=(), dtype=dtype('float32'), name='reward')\n",
      "Action Spec:\n",
      "BoundedArraySpec(shape=(), dtype=dtype('int64'), name='action', minimum=0, maximum=3)\n"
     ]
    }
   ],
   "source": [
    "start = 1\n",
    "epi_length = 48\n",
    "class TradingEnv(py_environment.PyEnvironment):\n",
    "\n",
    "  def __init__(self):\n",
    "    global start\n",
    "    self._action_spec = array_spec.BoundedArraySpec(\n",
    "        shape=(), dtype=np.int64, minimum=0, maximum=3, name='action')\n",
    "\n",
    "    self._observation_spec = (\n",
    "        array_spec.BoundedArraySpec(shape=(3,50), dtype=np.float32, name='observation1'),\n",
    "        array_spec.BoundedArraySpec(shape=(2,), dtype=np.float32, name='observation2')\n",
    "    )\n",
    "\n",
    "    self._count = np.random.randint(1,10000)#startstart\n",
    "    self._ticker = np.random.randint(0,len(window_list))\n",
    "\n",
    "    self._max_ep_len = self._count + epi_length\n",
    "    self._scaler = np.sum(np.absolute(target_list[self._ticker][self._count:self._max_ep_len]))\n",
    "    self._state = (window_list[self._ticker][self._count-1], np.array([0,0], dtype=np.float32))\n",
    "    self._episode_ended = False\n",
    "    self._trade_info = {'value': 0,'direction': 0}\n",
    "    self._balance = np.array([])\n",
    "    self._new = False\n",
    "\n",
    "\n",
    "  def action_spec(self):\n",
    "    return self._action_spec\n",
    "\n",
    "  def observation_spec(self):\n",
    "    return self._observation_spec\n",
    "\n",
    "  def get_balance(self):\n",
    "    return self._balance\n",
    "\n",
    "\n",
    "  def _reset(self):\n",
    "    global start\n",
    "    self._count = np.random.randint(1,10000)#start\n",
    "    self._ticker = np.random.randint(0,len(window_list))\n",
    "    self._max_ep_len = self._count + epi_length\n",
    "    self._scaler = np.sum(np.absolute(target_list[self._ticker][self._count:self._max_ep_len]))\n",
    "    self._state = (window_list[self._ticker][self._count-1], np.array([0,0], dtype=np.float32))\n",
    "    self._episode_ended = False\n",
    "    self._trade_info = {'value': 0,'direction': 0}\n",
    "    self._balance = np.array([])\n",
    "    self._new = False\n",
    "\n",
    "\n",
    "    return ts.restart(self._state)\n",
    "\n",
    "  def _step(self, action):\n",
    "    global start\n",
    "\n",
    "    if self._episode_ended:\n",
    "      return self.reset()\n",
    "\n",
    "    profit = 0\n",
    "    reward = 0\n",
    "    fee = 0\n",
    "    cur_target = target_list[self._ticker][self._count]\n",
    "    new_action = False\n",
    "\n",
    "\n",
    "    if action == 0:\n",
    "        profit = self._trade_info['value']\n",
    "        new_action = True \n",
    "        reward = cur_target\n",
    "        fee = .1\n",
    "        self._trade_info['value'] = cur_target\n",
    "        self._trade_info['direction'] = 1\n",
    "    elif action == 1:\n",
    "        profit = self._trade_info['value']\n",
    "        new_action = True\n",
    "        reward = -cur_target\n",
    "        fee = .1\n",
    "        self._trade_info['value'] = -cur_target\n",
    "        self._trade_info['direction'] = -1\n",
    "    elif action == 2:\n",
    "        self._trade_info['value'] += cur_target*self._trade_info['direction']\n",
    "        reward = cur_target*self._trade_info['direction']\n",
    "    else:\n",
    "        profit = self._trade_info['value']\n",
    "        reward = -1 if self._trade_info['value'] == 0 else 0\n",
    "        self._trade_info['value'] = 0\n",
    "        self._trade_info['direction'] = 0\n",
    "\n",
    "\n",
    "\n",
    "\n",
    "\n",
    "\n",
    "    trade_array = np.array([self._trade_info['value'],self._trade_info['direction']], dtype=np.float32)\n",
    "\n",
    "\n",
    "    self._state = (window_list[self._ticker][self._count], trade_array)\n",
    "\n",
    "    if profit != 0:\n",
    "        #reward = profit\n",
    "        self._balance = np.append(self._balance,profit)\n",
    "        \n",
    "    reward -= fee\n",
    "    \n",
    "    max_reached = self._count >= self._max_ep_len\n",
    "\n",
    "    if max_reached and self._trade_info['value'] == 0 or max_reached and new_action:\n",
    "        if self._trade_info['value'] < 0:       \n",
    "            self._balance = np.append(self._balance,self._trade_info['value'])\n",
    "        self._episode_ended = True\n",
    "    elif self._count >= self._max_ep_len + 100:\n",
    "        if self._trade_info['value'] < 0:       \n",
    "            self._balance = np.append(self._balance,self._trade_info['value'])\n",
    "        self._episode_ended = True\n",
    "\n",
    "    self._count += 1 \n",
    "\n",
    "    if self._episode_ended:\n",
    "      reward = calculate_downside_deviation(self._balance,-.5)\n",
    "      return ts.termination(self._state, reward=reward)\n",
    "    else:\n",
    "      return ts.transition(self._state, reward=reward, discount=discount_factor)\n",
    "\n",
    "\n",
    "\n",
    "env = TradingEnv()\n",
    "utils.validate_py_environment(env, episodes=2)\n",
    "\n",
    "print('Observation Spec:')\n",
    "print(env.time_step_spec().observation)\n",
    "\n",
    "print('Reward Spec:')\n",
    "print(env.time_step_spec().reward)\n",
    "\n",
    "print('Action Spec:')\n",
    "print(env.action_spec())\n",
    "\n",
    "train_env = tf_py_environment.TFPyEnvironment(env)\n",
    "evaluation_env = tf_py_environment.TFPyEnvironment(env)"
   ]
  },
  {
   "cell_type": "code",
   "execution_count": 1518,
   "metadata": {
    "colab": {
     "base_uri": "https://localhost:8080/"
    },
    "id": "cTDOYxUUm1yP",
    "outputId": "f293dfb6-f40e-4f01-a1fe-47bb57bdafc3",
    "scrolled": true
   },
   "outputs": [
    {
     "name": "stdout",
     "output_type": "stream",
     "text": [
      "2 0.0000 [0.0000 0.0000]\n",
      "0 0.8808 [0.9808 1.0000]\n",
      "1 0.9167 [1.0167 -1.0000]\n",
      "2 0.6119 [1.6286 -1.0000]\n",
      "2 -0.3310 [1.2976 -1.0000]\n",
      "0 -1.6311 [-1.5311 1.0000]\n",
      "2 0.0718 [-1.4593 1.0000]\n",
      "1 -0.7464 [-0.6464 -1.0000]\n",
      "1 -0.3660 [-0.2660 -1.0000]\n",
      "1 0.5683 [0.6683 -1.0000]\n",
      "1 -0.1718 [-0.0718 -1.0000]\n",
      "2 -0.7907 [-0.8625 -1.0000]\n",
      "1 0.2595 [0.3595 -1.0000]\n",
      "0 -0.6461 [-0.5461 1.0000]\n",
      "1 -0.0713 [0.0287 -1.0000]\n",
      "0 -0.1360 [-0.0360 1.0000]\n",
      "2 -0.4234 [-0.4593 1.0000]\n",
      "0 -0.2650 [-0.1650 1.0000]\n",
      "2 1.0481 [0.8832 1.0000]\n",
      "0 0.5329 [0.6329 1.0000]\n",
      "2 0.6696 [1.3024 1.0000]\n",
      "2 -0.7919 [0.5105 1.0000]\n",
      "2 1.0154 [1.5259 1.0000]\n",
      "0 -9.4123 [-9.3123 1.0000]\n",
      "0 1.6576 [1.7576 1.0000]\n",
      "0 1.3434 [1.4434 1.0000]\n",
      "1 -9.6184 [-9.5184 -1.0000]\n",
      "1 0.8645 [0.9645 -1.0000]\n",
      "1 -3.5969 [-3.4969 -1.0000]\n",
      "2 0.9476 [-2.5493 -1.0000]\n",
      "0 -2.1781 [-2.0781 1.0000]\n",
      "2 0.1233 [-1.9548 1.0000]\n",
      "0 0.1249 [0.2249 1.0000]\n",
      "0 0.3211 [0.4211 1.0000]\n",
      "1 1.4952 [1.5952 -1.0000]\n",
      "2 0.0361 [1.6313 -1.0000]\n",
      "2 -2.8674 [-1.2361 -1.0000]\n",
      "1 -0.1146 [-0.0146 -1.0000]\n",
      "1 -0.4569 [-0.3569 -1.0000]\n",
      "0 -0.4204 [-0.3204 1.0000]\n",
      "1 0.3077 [0.4077 -1.0000]\n",
      "1 -1.1925 [-1.0925 -1.0000]\n",
      "0 -1.9993 [-1.8993 1.0000]\n",
      "2 -3.3012 [-5.2005 1.0000]\n",
      "2 -0.6779 [-5.8784 1.0000]\n",
      "0 1.1048 [1.2048 1.0000]\n",
      "0 -2.9018 [-2.8018 1.0000]\n",
      "0 5.1129 [5.2129 1.0000]\n",
      "0 -2.3411 [-4.8753 1.0000]\n",
      "2 0.0000 [0.0000 0.0000]\n",
      "0 -0.3280 [-0.2280 1.0000]\n",
      "1 0.4845 [0.5845 -1.0000]\n",
      "2 0.2579 [0.8424 -1.0000]\n",
      "0 0.8488 [0.9488 1.0000]\n",
      "0 1.0713 [1.1713 1.0000]\n",
      "0 -2.0836 [-1.9836 1.0000]\n",
      "0 -0.5473 [-0.4473 1.0000]\n",
      "1 -1.3899 [-1.2899 -1.0000]\n",
      "2 0.4252 [-0.8647 -1.0000]\n",
      "2 0.5160 [-0.3487 -1.0000]\n",
      "0 -1.3952 [-1.2952 1.0000]\n",
      "0 -1.3466 [-1.2466 1.0000]\n",
      "0 2.0627 [2.1627 1.0000]\n",
      "1 1.4662 [1.5662 -1.0000]\n",
      "0 -2.8876 [-2.7876 1.0000]\n",
      "1 1.7675 [1.8675 -1.0000]\n",
      "2 -0.2621 [1.6054 -1.0000]\n",
      "2 -0.4422 [1.1632 -1.0000]\n",
      "0 -0.1675 [-0.0675 1.0000]\n",
      "2 0.0600 [-0.0075 1.0000]\n",
      "1 -0.2425 [-0.1425 -1.0000]\n",
      "2 0.3524 [0.2099 -1.0000]\n",
      "1 0.9704 [1.0704 -1.0000]\n",
      "1 -0.8483 [-0.7483 -1.0000]\n",
      "0 0.0274 [0.1274 1.0000]\n",
      "2 0.0824 [0.2098 1.0000]\n",
      "2 -0.2846 [-0.0749 1.0000]\n",
      "2 -0.9500 [-1.0249 1.0000]\n",
      "1 -1.1699 [-1.0699 -1.0000]\n",
      "2 0.5465 [-0.5234 -1.0000]\n",
      "0 -0.4216 [-0.3216 1.0000]\n",
      "1 1.5421 [1.6421 -1.0000]\n",
      "2 -1.8889 [-0.2469 -1.0000]\n",
      "0 10.4812 [10.5812 1.0000]\n",
      "2 2.7491 [13.3302 1.0000]\n",
      "1 -2.3161 [-2.2161 -1.0000]\n",
      "2 1.9550 [-0.2611 -1.0000]\n",
      "1 2.4211 [2.5211 -1.0000]\n",
      "0 1.5308 [1.6308 1.0000]\n",
      "0 1.7053 [1.8053 1.0000]\n",
      "2 1.9584 [3.7638 1.0000]\n",
      "0 0.3560 [0.4560 1.0000]\n",
      "2 -1.4515 [-0.9956 1.0000]\n",
      "1 -0.7943 [-0.6943 -1.0000]\n",
      "0 -0.7943 [-0.6943 1.0000]\n",
      "2 -1.3937 [-2.0880 1.0000]\n",
      "1 -1.8948 [-1.7948 -1.0000]\n",
      "1 0.1315 [0.2315 -1.0000]\n",
      "1 -0.5728 [-0.5247 -1.0000]\n",
      "2 0.0000 [0.0000 0.0000]\n"
     ]
    }
   ],
   "source": [
    "test_environment(env,100)"
   ]
  },
  {
   "cell_type": "markdown",
   "metadata": {
    "id": "VE8qjYImGIEp"
   },
   "source": [
    "### <font color='blue'><center>**-------------------Create Network-------------------**</font>"
   ]
  },
  {
   "cell_type": "code",
   "execution_count": 1519,
   "metadata": {
    "id": "p-oj9MnyBRRT"
   },
   "outputs": [],
   "source": [
    "class CustomQNetwork(network.Network):\n",
    "    def __init__(self, input_tensor_spec, action_spec, name='CustomQNetwork'):\n",
    "        super(CustomQNetwork, self).__init__(input_tensor_spec=input_tensor_spec,\n",
    "                                             state_spec=(),\n",
    "                                             name=name)\n",
    "        # Define your custom layers and architecture here\n",
    "        self.LSTM1 = LSTM(units=200, activation='gelu', return_sequences=True)\n",
    "        self.LSTM2 = LSTM(units=10, activation='gelu', return_sequences=False)\n",
    "        self.BatchNorm1 = BatchNormalization()\n",
    "        self.Concat = Concatenate()\n",
    "        self.Dense1 = Dense(10,activation='gelu')\n",
    "        self.BatchNorm2 = BatchNormalization()\n",
    "        self.Dense2 = Dense(200,activation='gelu')\n",
    "        self.BatchNorm3 = BatchNormalization()\n",
    "        self.q_values_layer = Dense(action_spec.maximum - action_spec.minimum + 1,\n",
    "                                                    activation=None)\n",
    "        self.gaussian_noise_layer = GaussianNoise(stddev=.2)  # Add Gaussian noise with stddev=0.2\n",
    "\n",
    "    def call(self, observation, step_type=None, network_state=(), training=False):\n",
    "        # Split the observation into two arrays\n",
    "        observation1, observation2 = observation\n",
    "\n",
    "        if training:\n",
    "            observation1 = self.gaussian_noise_layer(observation1)\n",
    "\n",
    "        x = self.LSTM1(observation1)\n",
    "        x = self.LSTM2(x)\n",
    "        x = self.BatchNorm1(x)\n",
    "        x = self.Concat([x,observation2])\n",
    "        x = self.Dense1(x)\n",
    "        x = self.BatchNorm2(x)\n",
    "        x = self.Dense2(x)\n",
    "        x = self.BatchNorm3(x)\n",
    "        q_values = self.q_values_layer(x)\n",
    "        return q_values, network_state"
   ]
  },
  {
   "cell_type": "code",
   "execution_count": 1520,
   "metadata": {
    "id": "D5B8riShDDw9"
   },
   "outputs": [],
   "source": [
    "class CategoricalQNetwork(network.Network):\n",
    "    def __init__(self, input_tensor_spec, action_spec, num_atoms=51, preprocessing_layers=None,\n",
    "                 preprocessing_combiner=None, conv_layer_params=None, fc_layer_params=None,\n",
    "                 activation_fn=tf.nn.relu, name='CategoricalQNetwork'):\n",
    "        super(CategoricalQNetwork, self).__init__(input_tensor_spec=input_tensor_spec,\n",
    "                                                  state_spec=(),\n",
    "                                                  name=name)\n",
    "        # Check if action_spec is a BoundedTensorSpec\n",
    "        if not isinstance(action_spec, tensor_spec.BoundedTensorSpec):\n",
    "            raise TypeError('action_spec must be a BoundedTensorSpec. Got: %s' % (action_spec,))\n",
    "\n",
    "        self._num_actions = action_spec.maximum - action_spec.minimum + 1\n",
    "        self._num_atoms = num_atoms\n",
    "\n",
    "        # Create a BoundedTensorSpec for the q_network action\n",
    "        q_network_action_spec = tensor_spec.BoundedTensorSpec((), tf.int32,\n",
    "                                                              minimum=0,\n",
    "                                                              maximum=self._num_actions * num_atoms - 1)\n",
    "\n",
    "        # Create the q_network\n",
    "        self._q_network = CustomQNetwork(input_tensor_spec=input_tensor_spec,\n",
    "                                             action_spec=q_network_action_spec,\n",
    "                                             )\n",
    "    def call(self, observation, step_type=None, network_state=(), training=False):\n",
    "        logits, network_state = self._q_network(observation, step_type, network_state, training=training)\n",
    "        logits = tf.reshape(logits, [-1, self._num_actions, self._num_atoms])\n",
    "        return logits, network_state\n",
    "    @property\n",
    "    def num_atoms(self):\n",
    "        return self._num_atoms"
   ]
  },
  {
   "cell_type": "code",
   "execution_count": 1521,
   "metadata": {
    "id": "lfIpj9ALG_IN"
   },
   "outputs": [],
   "source": [
    "observation_spec = train_env.observation_spec()\n",
    "action_spec = train_env.action_spec()\n",
    "num_atoms = 51\n",
    "custom_network = CategoricalQNetwork(observation_spec,action_spec, num_atoms)"
   ]
  },
  {
   "cell_type": "code",
   "execution_count": 1522,
   "metadata": {
    "colab": {
     "base_uri": "https://localhost:8080/"
    },
    "id": "cLAwiRNVbKN0",
    "outputId": "c5233c43-c0e8-4d7d-a089-6276df47b5fa"
   },
   "outputs": [
    {
     "data": {
      "text/plain": [
       "<tf_agents.environments.tf_py_environment.TFPyEnvironment at 0x7f5d746f51c0>"
      ]
     },
     "execution_count": 1522,
     "metadata": {},
     "output_type": "execute_result"
    }
   ],
   "source": [
    "EPSILON_INIT = .5\n",
    "EPSILON_MIN = 0.1\n",
    "EPSILON_DECAY_STEPS = 2e5\n",
    "\n",
    "\n",
    "# Define the epsilon decay function\n",
    "def epsilon_decay(global_step):\n",
    "    epsilon = EPSILON_INIT - (EPSILON_INIT - EPSILON_MIN) * tf.minimum(1.0, tf.cast(global_step, tf.float32) / EPSILON_DECAY_STEPS)\n",
    "    return epsilon\n",
    "train_env"
   ]
  },
  {
   "cell_type": "code",
   "execution_count": 1523,
   "metadata": {
    "id": "9ebSdMkaHHZD"
   },
   "outputs": [],
   "source": [
    "min_q = -3.7\n",
    "max_q = 7\n",
    "optimizer = tf.compat.v1.train.AdamOptimizer(learning_rate=0.001)\n",
    "global_step = tf.Variable(0, name='global_step', trainable=False)\n",
    "train_step_counter = tf.Variable(0)\n",
    "\n",
    "C51_agent = categorical_dqn_agent.CategoricalDqnAgent(\n",
    "    train_env.time_step_spec(),\n",
    "    train_env.action_spec(),\n",
    "    categorical_q_network=custom_network,\n",
    "    optimizer=optimizer,\n",
    "    min_q_value=min_q,\n",
    "    max_q_value=max_q,\n",
    "    epsilon_greedy=None,\n",
    "    n_step_update=2,\n",
    "    boltzmann_temperature=.8,\n",
    "    target_update_tau=.0001,\n",
    "    td_errors_loss_fn=common.element_wise_squared_loss,\n",
    "    gamma=1,\n",
    "    train_step_counter=train_step_counter)\n",
    "C51_agent.initialize()"
   ]
  },
  {
   "cell_type": "markdown",
   "metadata": {
    "id": "-mEDhh1OH2Km"
   },
   "source": [
    "### <font color='green'><center>**-------------------Create Replay Buffer And Training Loop-------------------**</font>"
   ]
  },
  {
   "cell_type": "code",
   "execution_count": 1524,
   "metadata": {
    "id": "l8JtYIT4bKN0"
   },
   "outputs": [],
   "source": [
    "def timestamp_data(environment, policy, replay_buffer):\n",
    "        time_step = environment.current_time_step()\n",
    "        action_step = policy.action(time_step)\n",
    "        next_time_step = environment.step(action_step.action)\n",
    "        timestamp_trajectory = trajectory.from_transition(time_step, action_step, next_time_step)\n",
    "        replay_buffer.add_batch(timestamp_trajectory)"
   ]
  },
  {
   "cell_type": "code",
   "execution_count": 1525,
   "metadata": {
    "id": "Vc6ZK0CabKN0"
   },
   "outputs": [],
   "source": [
    "replay_buffer.clear()\n",
    "#define replay buffer\n",
    "replay_buffer = TFUniformReplayBuffer(\n",
    "            data_spec=C51_agent.collect_data_spec,\n",
    "            batch_size=train_env.batch_size,\n",
    "            max_length=50000)\n",
    "\n",
    "#random policy for filling buffer\n",
    "random_policy = RandomTFPolicy(train_env.time_step_spec(),\n",
    "                                                train_env.action_spec())\n",
    "\n",
    "train_env.reset()\n",
    "#fill replay buffer\n",
    "for _ in range(1000):\n",
    "    timestamp_data(train_env, random_policy,replay_buffer)\n",
    "\n",
    "#create dataset from buffer\n",
    "dataset = replay_buffer.as_dataset(\n",
    "            num_parallel_calls=tf.data.AUTOTUNE,\n",
    "            sample_batch_size=BATCH_SIZE,\n",
    "            num_steps=2).prefetch(tf.data.AUTOTUNE)\n",
    "\n",
    "iterator = iter(dataset)\n"
   ]
  },
  {
   "cell_type": "code",
   "execution_count": 1526,
   "metadata": {
    "id": "LE2uUUn6bKN1"
   },
   "outputs": [],
   "source": [
    "#define checkpointer\n",
    "\n",
    "checkpoint_dir = '/tmp/MODEL2'\n",
    "\n",
    "train_checkpointer = common.Checkpointer(\n",
    "        ckpt_dir=checkpoint_dir,\n",
    "        max_to_keep=1,\n",
    "        agent=C51_agent,\n",
    "        policy=C51_agent.policy,\n",
    "        replay_buffer=replay_buffer,\n",
    "        global_step=global_step\n",
    "    )\n"
   ]
  },
  {
   "cell_type": "code",
   "execution_count": 1527,
   "metadata": {
    "id": "PCaFKlKqbKN1",
    "scrolled": true
   },
   "outputs": [
    {
     "data": {
      "text/plain": [
       "<tensorflow.python.checkpoint.checkpoint.InitializationOnlyStatus at 0x7f5d74a50d90>"
      ]
     },
     "execution_count": 1527,
     "metadata": {},
     "output_type": "execute_result"
    }
   ],
   "source": [
    "train_checkpointer.initialize_or_restore(checkpoint_dir)"
   ]
  },
  {
   "cell_type": "code",
   "execution_count": 1528,
   "metadata": {
    "id": "XTHVTtISbKN1"
   },
   "outputs": [
    {
     "name": "stdout",
     "output_type": "stream",
     "text": [
      "BoundedTensorSpec(shape=(), dtype=tf.int64, name='action', minimum=array(0), maximum=array(3))\n"
     ]
    }
   ],
   "source": [
    "from tf_agents.trajectories import policy_step\n",
    "class CustomPolicy(tf_policy.TFPolicy):\n",
    "    def __init__(self, time_step_spec, action_spec,network,agent, name=None):\n",
    "        super(CustomPolicy, self).__init__(\n",
    "            time_step_spec,\n",
    "            action_spec,\n",
    "            policy_state_spec=(),\n",
    "            clip=False,\n",
    "            name=name)\n",
    "        self._network = network\n",
    "        self._agent = agent\n",
    "        self._epsilon = epsilon_decay(global_step)\n",
    "\n",
    "    def _action(self, time_step, policy_state=(), seed=None):\n",
    "        # Define your action logic here\n",
    "        self._epsilon = epsilon_decay(global_step)\n",
    "\n",
    "        if tf.random.uniform([], minval=0, maxval=1, dtype=tf.float32) < .3:\n",
    "            Distribution = self._network(time_step.observation)[0][0]\n",
    "            tensors = []\n",
    "\n",
    "            highest_index = Entropy(Distribution)\n",
    "            action = tf.cast(highest_index,tf.int64)\n",
    "            action = tf.reshape(action,(1,))\n",
    "        else:\n",
    "            action = self._agent.policy.action(time_step)[0]\n",
    "            \n",
    "            \n",
    "            \n",
    "            \n",
    "        return policy_step.PolicyStep(action, state=policy_state, info=())\n",
    "\n",
    "    def _get_initial_state(self, batch_size=None):\n",
    "        # Define your initial state logic here\n",
    "        return ()\n",
    "    \n",
    "time_step_spec = train_env.time_step_spec()\n",
    "action_spec = train_env.action_spec()\n",
    "print(action_spec)\n",
    "my_policy = CustomPolicy(time_step_spec,action_spec,custom_network,C51_agent)   "
   ]
  },
  {
   "cell_type": "code",
   "execution_count": 1529,
   "metadata": {
    "id": "TIZnw4VTbKN2"
   },
   "outputs": [],
   "source": [
    "def run_environment(env,policy):\n",
    "    time_step = env.reset()\n",
    "    reward = 0.0\n",
    "    while not time_step.is_last():\n",
    "        action = policy.action(time_step)\n",
    "        next_time_step = env.step(action)\n",
    "        reward += next_time_step.reward[0]\n",
    "        time_step = next_time_step\n",
    "\n",
    "    return reward"
   ]
  },
  {
   "cell_type": "code",
   "execution_count": 1530,
   "metadata": {
    "colab": {
     "base_uri": "https://localhost:8080/",
     "height": 1000
    },
    "id": "9BtaKgY0bKN1",
    "outputId": "237ce7e2-39da-4e30-a9de-679136553e88",
    "scrolled": false
   },
   "outputs": [
    {
     "name": "stdout",
     "output_type": "stream",
     "text": [
      "Action: SELL\n",
      "Highest Entropy: HOLD\n",
      "[0 0]\n"
     ]
    },
    {
     "data": {
      "image/png": "[encoded data removed]",
      "text/plain": [
       "<Figure size 700x200 with 1 Axes>"
      ]
     },
     "metadata": {},
     "output_type": "display_data"
    },
    {
     "data": {
      "image/png": "[encoded data removed]",
      "text/plain": [
       "<Figure size 700x200 with 1 Axes>"
      ]
     },
     "metadata": {},
     "output_type": "display_data"
    },
    {
     "data": {
      "image/png": "[encoded data removed]",
      "text/plain": [
       "<Figure size 700x200 with 1 Axes>"
      ]
     },
     "metadata": {},
     "output_type": "display_data"
    },
    {
     "data": {
      "image/png": "[encoded data removed]",
      "text/plain": [
       "<Figure size 700x200 with 1 Axes>"
      ]
     },
     "metadata": {},
     "output_type": "display_data"
    }
   ],
   "source": [
    "from scipy.stats import entropy\n",
    "import scipy\n",
    "# Get the distribution\n",
    "time_step = train_env.current_time_step()\n",
    "action_step = C51_agent.policy.action(time_step)\n",
    "#action_step = my_policy.action(time_step)\n",
    "next_time_step = train_env.step(action_step.action)\n",
    "state = time_step.observation\n",
    "distributions = custom_network(state)[0][0]\n",
    "testttt = tf.cast(distributions,tf.float32)\n",
    "#softmax_distribution = tf.nn.softmax(testttt)\n",
    "#entropy = -tf.reduce_sum(softmax_distribution * tf.math.log(softmax_distribution))\n",
    "\n",
    "#the_val = testttt.numpy()\n",
    "#val = scipy.stats.entropy(the_val)\n",
    "\n",
    "\n",
    "\n",
    "\n",
    "\n",
    "def entropy_single(logits):\n",
    "    #epsilon = 1e-10\n",
    "    #min_value = tf.reduce_min(distribution)\n",
    "    #tensor_subtracted = tf.subtract(distribution, min_value)\n",
    "    #offset = tf.add(tensor_subtracted,epsilon)\n",
    "    #sum_tensor = tf.reduce_sum(offset)\n",
    "    #p = tf.divide(offset, sum_tensor)\n",
    "    p = tf.nn.softmax(logits)\n",
    "    return -tf.reduce_sum(p * tf.math.log(p))\n",
    "\n",
    "def Entropy(Distribution):\n",
    "    entropy_values = tf.map_fn(entropy_single, Distribution)\n",
    "    highest_index = tf.math.argmax(entropy_values)\n",
    "    return highest_index\n",
    "\n",
    "action = \"\"\n",
    "action_num = action_step[0][0]\n",
    "\n",
    "def return_action(action_input):\n",
    "    \n",
    "    if action_input == 0:\n",
    "        action = \"BUY\"\n",
    "    elif action_input == 1:\n",
    "        action = \"SELL\"\n",
    "    elif action_input == 2:\n",
    "        action = \"HOLD\"\n",
    "    else:\n",
    "        action = \"CLOSE\"\n",
    "        \n",
    "    return action\n",
    "\n",
    "\n",
    "    \n",
    "print(\"Action: \" + return_action(action_num))\n",
    "print(\"Highest Entropy: \" + return_action(Entropy(distributions).numpy()))\n",
    "values = np.linspace(min_q, max_q, 51)\n",
    "#values = [round(value, 2) for value in values]\n",
    "\n",
    "# Round the numbers to one decimal place and only include every other value\n",
    "values = [round(value, 2) for value in values[::5]]\n",
    "tf.print(state[1][0])\n",
    "Names = [\"BUY\",\"SELL\",\"HOLD\",\"CLOSE\"]\n",
    "for i in range(4):\n",
    "    #print(i)\n",
    "    #print(entropy_single(testttt[i]).numpy())\n",
    "    dist = tf.nn.softmax(testttt[i])\n",
    "    \n",
    "    \n",
    "    plt.figure(figsize=(7,2)) \n",
    "    plt.bar(range(len(dist)), dist)\n",
    "    plt.xticks(range(len(dist))[::5], values)\n",
    "    plt.title(Names[i])\n",
    "    #chart goes from low q to high q value\n",
    "    plt.show()\n",
    "\n",
    "\n"
   ]
  },
  {
   "cell_type": "code",
   "execution_count": null,
   "metadata": {
    "colab": {
     "base_uri": "https://localhost:8080/",
     "height": 534
    },
    "id": "IKcDVSJUbKN2",
    "outputId": "faab7e71-58b4-4814-ab43-fa9242847464",
    "scrolled": true
   },
   "outputs": [
    {
     "name": "stdout",
     "output_type": "stream",
     "text": [
      "**********************************\n",
      "Training C51_agent\n",
      "**********************************\n",
      "Reward: 4.26855659  Loss: 4.35920715  Epsilon: 0.5\n",
      "Reward: -3.42829466  Loss: 3.61724424  Epsilon: 0.499\n",
      "Reward: -9.57051754  Loss: 3.58243036  Epsilon: 0.498\n",
      "Reward: 1.76965404  Loss: 3.53923488  Epsilon: 0.497\n",
      "Reward: 1.47304046  Loss: 3.47112656  Epsilon: 0.496\n",
      "Reward: -10.0784988  Loss: 3.43112946  Epsilon: 0.495\n",
      "Reward: -5.56442881  Loss: 3.30224085  Epsilon: 0.494\n",
      "Reward: 2.95117617  Loss: 3.37360406  Epsilon: 0.493\n",
      "Reward: -2.22449064  Loss: 3.34683084  Epsilon: 0.492\n",
      "Reward: -0.754348278  Loss: 3.33065081  Epsilon: 0.491\n",
      "Reward: -1.79716146  Loss: 3.34093022  Epsilon: 0.49\n",
      "Reward: 7.5776763  Loss: 3.31657314  Epsilon: 0.489\n",
      "Reward: -0.690447927  Loss: 3.25467515  Epsilon: 0.488\n",
      "Reward: -6.48557329  Loss: 3.29233503  Epsilon: 0.487\n",
      "Reward: -1.99784958  Loss: 3.3029685  Epsilon: 0.486\n",
      "Reward: 1.62938917  Loss: 3.14729166  Epsilon: 0.485\n",
      "Reward: 2.52345443  Loss: 3.22617531  Epsilon: 0.484\n",
      "Reward: -6.28393126  Loss: 3.22602606  Epsilon: 0.483\n",
      "Reward: 4.18222284  Loss: 3.25751257  Epsilon: 0.482\n",
      "Reward: 15.1225471  Loss: 3.2494452  Epsilon: 0.481\n",
      "Reward: -6.05075693  Loss: 3.11519885  Epsilon: 0.48\n",
      "Reward: 1.45564437  Loss: 3.1613493  Epsilon: 0.479\n",
      "Reward: -0.724274576  Loss: 3.10315657  Epsilon: 0.478\n",
      "Reward: -0.184702322  Loss: 3.13644505  Epsilon: 0.477\n",
      "Reward: -4.84588099  Loss: 3.12737  Epsilon: 0.476\n",
      "Reward: -1.31819415  Loss: 3.11168623  Epsilon: 0.475\n",
      "Reward: -4.97313499  Loss: 3.08239245  Epsilon: 0.474\n",
      "Reward: -5.60915375  Loss: 2.94171715  Epsilon: 0.473\n",
      "Reward: -4.05947876  Loss: 3.07024908  Epsilon: 0.472\n",
      "Reward: 0.983828127  Loss: 3.00384378  Epsilon: 0.471000016\n",
      "Reward: -3.696069  Loss: 2.90326071  Epsilon: 0.47\n",
      "Reward: 0.467654526  Loss: 2.8654139  Epsilon: 0.469\n",
      "Reward: 4.56963  Loss: 2.92249727  Epsilon: 0.468\n",
      "Reward: 5.16321182  Loss: 2.87889266  Epsilon: 0.467\n",
      "Reward: -6.88133192  Loss: 2.92340732  Epsilon: 0.466\n",
      "Reward: -10.7498026  Loss: 2.83338594  Epsilon: 0.465\n",
      "Reward: 7.35786676  Loss: 2.80928373  Epsilon: 0.464\n",
      "Reward: -10.0061159  Loss: 2.74548984  Epsilon: 0.463\n",
      "Reward: 6.79137421  Loss: 2.62313795  Epsilon: 0.462\n",
      "Reward: 18.914772  Loss: 2.88143873  Epsilon: 0.461\n",
      "Reward: -3.67716026  Loss: 2.73858  Epsilon: 0.46\n",
      "Reward: -4.68061399  Loss: 2.73974299  Epsilon: 0.459\n",
      "Reward: -2.82666206  Loss: 2.87328506  Epsilon: 0.458\n"
     ]
    }
   ],
   "source": [
    "\n",
    "\n",
    "\n",
    "\n",
    "@tf.function\n",
    "def train(agent):\n",
    "\n",
    "    for step in tf.range(1000):\n",
    "        for _ in tf.range(COLLECTION_STEPS):\n",
    "        #while not time_step.is_last():\n",
    "            timestamp_data(train_env, my_policy, replay_buffer)\n",
    "\n",
    "        experience, info = next(iterator)\n",
    "        train_loss = agent.train(experience).loss\n",
    "\n",
    "        if step % EVAL_INTERVAL == 0:\n",
    "            avg_reward = run_environment(evaluation_env,agent.policy)\n",
    "\n",
    "            tf.print('Reward:',avg_reward,' Loss:',train_loss,' Epsilon:',epsilon_decay(global_step))\n",
    "\n",
    "\n",
    "        #Increment the global step variable\n",
    "        global_step.assign_add(1)\n",
    "\n",
    "\n",
    "print(\"**********************************\")\n",
    "print(\"Training C51_agent\")\n",
    "print(\"**********************************\")\n",
    "for i in range(1000000000):\n",
    "    C51_reward = train(C51_agent)\n",
    "    train_checkpointer.save(global_step)"
   ]
  },
  {
   "cell_type": "code",
   "execution_count": null,
   "metadata": {
    "id": "tKKotNLUpDvd"
   },
   "outputs": [],
   "source": [
    "def compute_avg_return_print(environment, policy, num_episodes=10):\n",
    "\n",
    "  total_return = 0.0\n",
    "  for episode in range(num_episodes):\n",
    "    balance_arr = []\n",
    "    time_step = environment.reset()\n",
    "    episode_return = 0.0\n",
    "    returns = np.array([])\n",
    "    while not time_step.is_last():\n",
    "      action_step = policy.action(time_step)\n",
    "      time_step = environment.step(action_step.action)\n",
    "      obs = time_step.observation\n",
    "\n",
    "      balance = np.sum(env.get_balance())\n",
    "      returns = env.get_balance()\n",
    "      balance_arr.append(balance)\n",
    "      # Print the episode number and observation at each step\n",
    "      print(f\"Episode {episode + 1}: Observation = {obs[1]}\")\n",
    "\n",
    "      episode_return += time_step.reward\n",
    "    plt.plot(balance_arr)\n",
    "    total_return += episode_return\n",
    "    #print(-calculate_downside_deviation(returns,-.5))\n",
    "    print(mean_of_negatives(returns))\n",
    "  avg_return = total_return / num_episodes\n",
    "  return avg_return.numpy()[0]"
   ]
  },
  {
   "cell_type": "code",
   "execution_count": null,
   "metadata": {
    "colab": {
     "base_uri": "https://localhost:8080/",
     "height": 1000
    },
    "id": "ml7fgMofpJxD",
    "outputId": "cdf0bd39-48bd-4485-bd2a-ab8a3900fd22",
    "scrolled": true
   },
   "outputs": [],
   "source": [
    "avg_return = compute_avg_return_print(evaluation_env, C51_agent.policy, 20)\n",
    "print(avg_return)"
   ]
  },
  {
   "cell_type": "code",
   "execution_count": null,
   "metadata": {
    "id": "kIxIWlwAbKN3"
   },
   "outputs": [],
   "source": [
    "snapshot = tracemalloc.take_snapshot()\n",
    "top_stats = snapshot.statistics('lineno')\n",
    "\n",
    "for stat in top_stats[:10]:\n",
    "    print(stat)"
   ]
  },
  {
   "cell_type": "code",
   "execution_count": null,
   "metadata": {
    "id": "gmry1-WebKN3"
   },
   "outputs": [],
   "source": []
  }
 ],
 "metadata": {
  "colab": {
   "include_colab_link": true,
   "name": "Welcome To Colaboratory",
   "provenance": []
  },
  "kernelspec": {
   "display_name": "Python 3 (ipykernel)",
   "language": "python",
   "name": "python3"
  },
  "language_info": {
   "codemirror_mode": {
    "name": "ipython",
    "version": 3
   },
   "file_extension": ".py",
   "mimetype": "text/x-python",
   "name": "python",
   "nbconvert_exporter": "python",
   "pygments_lexer": "ipython3",
   "version": "3.8.10"
  }
 },
 "nbformat": 4,
 "nbformat_minor": 1
}
