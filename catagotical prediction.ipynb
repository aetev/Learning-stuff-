{
  "cells": [
    {
      "cell_type": "markdown",
      "metadata": {
        "id": "view-in-github",
        "colab_type": "text"
      },
      "source": [
        "<a href=\"https://colab.research.google.com/github/aetev/Learning-stuff-/blob/main/catagotical%20prediction.ipynb\" target=\"_parent\"><img src=\"https://colab.research.google.com/assets/colab-badge.svg\" alt=\"Open In Colab\"/></a>"
      ]
    },
    {
      "cell_type": "code",
      "execution_count": 1,
      "metadata": {
        "scrolled": true,
        "id": "TCud6sE1yR9B",
        "outputId": "9ca28e21-ef68-4774-83c3-6b4d8888ace2",
        "colab": {
          "base_uri": "https://localhost:8080/"
        }
      },
      "outputs": [
        {
          "output_type": "stream",
          "name": "stdout",
          "text": [
            "Requirement already satisfied: yfinance in /usr/local/lib/python3.10/dist-packages (0.2.31)\n",
            "Requirement already satisfied: pandas>=1.3.0 in /usr/local/lib/python3.10/dist-packages (from yfinance) (1.5.3)\n",
            "Requirement already satisfied: numpy>=1.16.5 in /usr/local/lib/python3.10/dist-packages (from yfinance) (1.23.5)\n",
            "Requirement already satisfied: requests>=2.31 in /usr/local/lib/python3.10/dist-packages (from yfinance) (2.31.0)\n",
            "Requirement already satisfied: multitasking>=0.0.7 in /usr/local/lib/python3.10/dist-packages (from yfinance) (0.0.11)\n",
            "Requirement already satisfied: lxml>=4.9.1 in /usr/local/lib/python3.10/dist-packages (from yfinance) (4.9.3)\n",
            "Requirement already satisfied: appdirs>=1.4.4 in /usr/local/lib/python3.10/dist-packages (from yfinance) (1.4.4)\n",
            "Requirement already satisfied: pytz>=2022.5 in /usr/local/lib/python3.10/dist-packages (from yfinance) (2023.3.post1)\n",
            "Requirement already satisfied: frozendict>=2.3.4 in /usr/local/lib/python3.10/dist-packages (from yfinance) (2.3.8)\n",
            "Requirement already satisfied: peewee>=3.16.2 in /usr/local/lib/python3.10/dist-packages (from yfinance) (3.17.0)\n",
            "Requirement already satisfied: beautifulsoup4>=4.11.1 in /usr/local/lib/python3.10/dist-packages (from yfinance) (4.11.2)\n",
            "Requirement already satisfied: html5lib>=1.1 in /usr/local/lib/python3.10/dist-packages (from yfinance) (1.1)\n",
            "Requirement already satisfied: soupsieve>1.2 in /usr/local/lib/python3.10/dist-packages (from beautifulsoup4>=4.11.1->yfinance) (2.5)\n",
            "Requirement already satisfied: six>=1.9 in /usr/local/lib/python3.10/dist-packages (from html5lib>=1.1->yfinance) (1.16.0)\n",
            "Requirement already satisfied: webencodings in /usr/local/lib/python3.10/dist-packages (from html5lib>=1.1->yfinance) (0.5.1)\n",
            "Requirement already satisfied: python-dateutil>=2.8.1 in /usr/local/lib/python3.10/dist-packages (from pandas>=1.3.0->yfinance) (2.8.2)\n",
            "Requirement already satisfied: charset-normalizer<4,>=2 in /usr/local/lib/python3.10/dist-packages (from requests>=2.31->yfinance) (3.3.1)\n",
            "Requirement already satisfied: idna<4,>=2.5 in /usr/local/lib/python3.10/dist-packages (from requests>=2.31->yfinance) (3.4)\n",
            "Requirement already satisfied: urllib3<3,>=1.21.1 in /usr/local/lib/python3.10/dist-packages (from requests>=2.31->yfinance) (2.0.7)\n",
            "Requirement already satisfied: certifi>=2017.4.17 in /usr/local/lib/python3.10/dist-packages (from requests>=2.31->yfinance) (2023.7.22)\n"
          ]
        }
      ],
      "source": [
        "!pip install yfinance"
      ]
    },
    {
      "cell_type": "code",
      "execution_count": 2,
      "metadata": {
        "id": "MQ3xx6ozshhG"
      },
      "outputs": [],
      "source": [
        "import os\n",
        "os.environ[\"CUDA_VISIBLE_DEVICES\"] = \"-1\""
      ]
    },
    {
      "cell_type": "code",
      "execution_count": 3,
      "metadata": {
        "id": "R8uczkI2c8cJ"
      },
      "outputs": [],
      "source": [
        "import yfinance as yf\n",
        "from datetime import datetime, timedelta\n",
        "import pandas as pd\n",
        "import numpy as np\n",
        "import matplotlib.pyplot as plt\n",
        "from numpy.lib.stride_tricks import sliding_window_view\n",
        "import tracemalloc\n",
        "\n",
        "import tensorflow_probability as tfp\n",
        "\n",
        "import tensorflow as tf\n",
        "from tensorflow.keras import layers\n",
        "from tensorflow.keras.models import Sequential\n",
        "from tensorflow.keras.layers import LSTM, Dense, Dropout, BatchNormalization, Concatenate, GaussianNoise\n",
        "from tensorflow.keras.regularizers import l2\n"
      ]
    },
    {
      "cell_type": "markdown",
      "metadata": {
        "id": "2IlkLhMwK4kg"
      },
      "source": [
        "### <font color='purple'><center>**-------------------Create Data-------------------**</font>"
      ]
    },
    {
      "cell_type": "code",
      "execution_count": null,
      "metadata": {
        "id": "EUBzzMx6yR9D",
        "outputId": "9e067978-19c7-40e9-b565-0e5d87304f48",
        "colab": {
          "base_uri": "https://localhost:8080/"
        }
      },
      "outputs": [
        {
          "output_type": "stream",
          "name": "stdout",
          "text": [
            "\r[*********************100%%**********************]  1 of 1 completed"
          ]
        },
        {
          "output_type": "stream",
          "name": "stderr",
          "text": [
            "ERROR:yfinance:\n",
            "1 Failed download:\n",
            "ERROR:yfinance:['EURUSD=X']: AmbiguousTimeError(\"Cannot infer dst time from 2023-10-29 01:50:10, try using the 'ambiguous' argument\")\n"
          ]
        },
        {
          "output_type": "stream",
          "name": "stdout",
          "text": [
            "\n",
            "[*********************100%%**********************]  1 of 1 completed"
          ]
        },
        {
          "output_type": "stream",
          "name": "stderr",
          "text": [
            "ERROR:yfinance:\n",
            "1 Failed download:\n",
            "ERROR:yfinance:['USDEUR=X']: AmbiguousTimeError(\"Cannot infer dst time from 2023-10-29 01:50:10, try using the 'ambiguous' argument\")\n"
          ]
        },
        {
          "output_type": "stream",
          "name": "stdout",
          "text": [
            "\n",
            "[*********************100%%**********************]  1 of 1 completed"
          ]
        },
        {
          "output_type": "stream",
          "name": "stderr",
          "text": [
            "ERROR:yfinance:\n",
            "1 Failed download:\n",
            "ERROR:yfinance:['USDJPY=X']: AmbiguousTimeError(\"Cannot infer dst time from 2023-10-29 01:50:10, try using the 'ambiguous' argument\")\n"
          ]
        },
        {
          "output_type": "stream",
          "name": "stdout",
          "text": [
            "\n",
            "[*********************100%%**********************]  1 of 1 completed"
          ]
        },
        {
          "output_type": "stream",
          "name": "stderr",
          "text": [
            "ERROR:yfinance:\n",
            "1 Failed download:\n",
            "ERROR:yfinance:['JPYUSD=X']: AmbiguousTimeError(\"Cannot infer dst time from 2023-10-29 01:50:10, try using the 'ambiguous' argument\")\n"
          ]
        },
        {
          "output_type": "stream",
          "name": "stdout",
          "text": [
            "\n",
            "[*********************100%%**********************]  1 of 1 completed"
          ]
        },
        {
          "output_type": "stream",
          "name": "stderr",
          "text": [
            "ERROR:yfinance:\n",
            "1 Failed download:\n",
            "ERROR:yfinance:['GBPUSD=X']: AmbiguousTimeError(\"Cannot infer dst time from 2023-10-29 01:50:10, try using the 'ambiguous' argument\")\n"
          ]
        },
        {
          "output_type": "stream",
          "name": "stdout",
          "text": [
            "\n",
            "[*********************100%%**********************]  1 of 1 completed"
          ]
        },
        {
          "output_type": "stream",
          "name": "stderr",
          "text": [
            "ERROR:yfinance:\n",
            "1 Failed download:\n",
            "ERROR:yfinance:['USDGBP=X']: AmbiguousTimeError(\"Cannot infer dst time from 2023-10-29 01:50:10, try using the 'ambiguous' argument\")\n"
          ]
        },
        {
          "output_type": "stream",
          "name": "stdout",
          "text": [
            "\n",
            "[*********************100%%**********************]  1 of 1 completed"
          ]
        },
        {
          "output_type": "stream",
          "name": "stderr",
          "text": [
            "ERROR:yfinance:\n",
            "1 Failed download:\n",
            "ERROR:yfinance:['USDCHF=X']: AmbiguousTimeError(\"Cannot infer dst time from 2023-10-29 01:50:10, try using the 'ambiguous' argument\")\n"
          ]
        },
        {
          "output_type": "stream",
          "name": "stdout",
          "text": [
            "\n",
            "[*********************100%%**********************]  1 of 1 completed"
          ]
        },
        {
          "output_type": "stream",
          "name": "stderr",
          "text": [
            "ERROR:yfinance:\n",
            "1 Failed download:\n",
            "ERROR:yfinance:['CHFUSD=X']: AmbiguousTimeError(\"Cannot infer dst time from 2023-10-29 01:50:10, try using the 'ambiguous' argument\")\n"
          ]
        },
        {
          "output_type": "stream",
          "name": "stdout",
          "text": [
            "\n"
          ]
        }
      ],
      "source": [
        "end_date = datetime.now()\n",
        "start_date = end_date - timedelta(days=729)\n",
        "\n",
        "tickers = [\n",
        "    'EURUSD=X', 'USDEUR=X',  # Euro/US Dollar\n",
        "    'USDJPY=X', 'JPYUSD=X',  # US Dollar/Japanese Yen\n",
        "    'GBPUSD=X', 'USDGBP=X',  # British Pound/US Dollar\n",
        "    'USDCHF=X', 'CHFUSD=X',  # US Dollar/Swiss Franc\n",
        "    'AUDUSD=X', 'USDAUD=X',  # Australian Dollar/US Dollar\n",
        "    'USDCAD=X', 'CADUSD=X',  # US Dollar/Canadian Dollar\n",
        "    'NZDUSD=X', 'USDNZD=X',  # New Zealand Dollar/US Dollar\n",
        "]\n",
        "\n",
        "data_list = []\n",
        "for ticker in tickers:\n",
        "    data = yf.download(ticker, start=start_date, end=end_date, interval='1h')\n",
        "    data_list.append(data)"
      ]
    },
    {
      "cell_type": "code",
      "execution_count": null,
      "metadata": {
        "id": "DhBnXMUiyR9D"
      },
      "outputs": [],
      "source": [
        "def create_data(raw_data, window_size):\n",
        "    High = raw_data['High'].to_numpy()\n",
        "    Close = raw_data['Close'].to_numpy()\n",
        "    Low = raw_data['Low'].to_numpy()\n",
        "    Std = np.std(np.diff(Close))\n",
        "    Close_Diff = np.diff(Close)/Std\n",
        "    High_Adj = (High[1:]-Close[1:])/Std\n",
        "    Low_Adj = (Close[1:]-Low[1:])/Std\n",
        "\n",
        "    stack = np.stack((Close_Diff, High_Adj, Low_Adj), axis=1)\n",
        "\n",
        "    window_view = np.lib.stride_tricks.sliding_window_view(stack, (window_size,),axis=0)\n",
        "\n",
        "    Forex_Data = window_view[:-1]\n",
        "    Forex_Data = Forex_Data.astype('float32')\n",
        "    target = Close_Diff[window_size:]\n",
        "\n",
        "    return Forex_Data, target\n",
        ""
      ]
    },
    {
      "cell_type": "code",
      "execution_count": null,
      "metadata": {
        "id": "00CUQhbxyR9D"
      },
      "outputs": [],
      "source": [
        "window_list = []\n",
        "target_list = []\n",
        "for data in data_list:\n",
        "    window, target =  create_data(data, 50)\n",
        "    window_list.append(window)\n",
        "    target_list.append(target)\n",
        ""
      ]
    },
    {
      "cell_type": "code",
      "source": [
        "# Assume data is your numpy array and bins is a numpy array defining your bins\n",
        "data = target_list[0]\n",
        "data = np.append(data,target_list[1])\n",
        "data = np.append(data,target_list[2])\n",
        "\n",
        "input_data = window_list[0]\n",
        "input_data = np.append(input_data,+window_list[1],axis=0)\n",
        "input_data = np.append(input_data,+window_list[2],axis=0)\n",
        "bin_num = 51\n",
        "space = .25\n",
        "bins = np.linspace(-space, space, bin_num-1)\n",
        "digitized = np.digitize(data, bins, right=False)\n",
        "digitized = tf.keras.utils.to_categorical(digitized)\n",
        "shape = digitized.shape[1]"
      ],
      "metadata": {
        "id": "mqzUaiBdyhfj"
      },
      "execution_count": null,
      "outputs": []
    },
    {
      "cell_type": "code",
      "source": [
        "print(data)\n",
        "print(input_data.shape)\n",
        "print(shape)"
      ],
      "metadata": {
        "id": "u4-MyjUQ0Unz"
      },
      "execution_count": null,
      "outputs": []
    },
    {
      "cell_type": "code",
      "source": [
        "from keras.optimizers import Adam\n",
        "\n",
        "Drop_val=.5\n",
        "# Initialize the model\n",
        "model = Sequential()\n",
        "\n",
        "# Add the LSTM layer\n",
        "model.add(LSTM(128,dropout=Drop_val,recurrent_dropout=Drop_val))\n",
        "\n",
        "model.add(BatchNormalization())\n",
        "\n",
        "model.add(Dense(52,activation='gelu'))\n",
        "\n",
        "model.add(BatchNormalization())\n",
        "\n",
        "model.add(Dropout(Drop_val))\n",
        "\n",
        "# Add the Dense layer\n",
        "model.add(Dense(shape, activation='softmax'))\n",
        "\n",
        "# Compile the model\n",
        "model.compile(loss='categorical_crossentropy', optimizer=Adam(), metrics=['accuracy'])\n",
        "\n",
        "# Train the model\n",
        "model.fit(input_data, digitized, epochs=200, batch_size=32,validation_split=.2)"
      ],
      "metadata": {
        "id": "-dwfwkom0Im-"
      },
      "execution_count": null,
      "outputs": []
    },
    {
      "cell_type": "code",
      "source": [
        "pred = model.predict(input_data)\n",
        "num = 0"
      ],
      "metadata": {
        "id": "LoMNLWdR4zQX"
      },
      "execution_count": null,
      "outputs": []
    },
    {
      "cell_type": "code",
      "source": [
        "num += 1\n",
        "dist = pred[num]\n",
        "print()\n",
        "val = target_list[0][num]\n",
        "\n",
        "values = np.linspace(-space, space, shape)\n",
        "\n",
        "#round the numbers to one decimal place and only include every other value\n",
        "values2 = [round(value, 2) for value in values[::5]]\n",
        "\n",
        "\n",
        "\n",
        "\n",
        "bin_centers = (values[:-1] + values[1:]) / 2\n",
        "dist2 = dist[:len(bin_centers)]\n",
        "\n",
        "\n",
        "# Calculate the mean of the distribution\n",
        "mean = np.sum(dist2 * bin_centers)\n",
        "\n",
        "\n",
        "print(mean)\n",
        "print(shape)\n",
        "print(val)\n",
        "plt.bar(range(shape), dist)\n",
        "# Create a line plot on the bar chart\n",
        "\n",
        "plt.xticks(range(len(dist))[::5], values2)\n",
        "\n",
        "plt.plot"
      ],
      "metadata": {
        "id": "obTXaQWL46vX"
      },
      "execution_count": null,
      "outputs": []
    }
  ],
  "metadata": {
    "colab": {
      "name": "Welcome To Colaboratory",
      "provenance": [],
      "include_colab_link": true
    },
    "kernelspec": {
      "display_name": "Python 3 (ipykernel)",
      "language": "python",
      "name": "python3"
    },
    "language_info": {
      "codemirror_mode": {
        "name": "ipython",
        "version": 3
      },
      "file_extension": ".py",
      "mimetype": "text/x-python",
      "name": "python",
      "nbconvert_exporter": "python",
      "pygments_lexer": "ipython3",
      "version": "3.8.10"
    }
  },
  "nbformat": 4,
  "nbformat_minor": 0
}