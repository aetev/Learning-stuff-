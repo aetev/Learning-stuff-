{
  "cells": [
    {
      "cell_type": "markdown",
      "metadata": {
        "id": "view-in-github",
        "colab_type": "text"
      },
      "source": [
        "<a href=\"https://colab.research.google.com/github/aetev/Learning-stuff-/blob/main/indicator%20file%20test.ipynb\" target=\"_parent\"><img src=\"https://colab.research.google.com/assets/colab-badge.svg\" alt=\"Open In Colab\"/></a>"
      ]
    },
    {
      "cell_type": "code",
      "source": [
        "from google.colab import drive\n",
        "drive.mount('/content/drive')"
      ],
      "metadata": {
        "id": "TWAdRqLdGEyf",
        "outputId": "5d38a030-dabe-4460-81ef-9b65653cd641",
        "colab": {
          "base_uri": "https://localhost:8080/"
        }
      },
      "execution_count": 1,
      "outputs": [
        {
          "output_type": "stream",
          "name": "stdout",
          "text": [
            "Mounted at /content/drive\n"
          ]
        }
      ]
    },
    {
      "cell_type": "code",
      "source": [
        "!pip install pandas_ta"
      ],
      "metadata": {
        "id": "kIPBOzgXLKp5",
        "outputId": "f6516835-e430-4f2a-fa91-f0eccadc59e9",
        "colab": {
          "base_uri": "https://localhost:8080/"
        }
      },
      "execution_count": 2,
      "outputs": [
        {
          "output_type": "stream",
          "name": "stdout",
          "text": [
            "Looking in indexes: https://pypi.org/simple, https://us-python.pkg.dev/colab-wheels/public/simple/\n",
            "Collecting pandas_ta\n",
            "  Downloading pandas_ta-0.3.14b.tar.gz (115 kB)\n",
            "\u001b[2K     \u001b[90m━━━━━━━━━━━━━━━━━━━━━━━━━━━━━━━━━━━━━━━\u001b[0m \u001b[32m115.1/115.1 kB\u001b[0m \u001b[31m6.5 MB/s\u001b[0m eta \u001b[36m0:00:00\u001b[0m\n",
            "\u001b[?25h  Preparing metadata (setup.py) ... \u001b[?25l\u001b[?25hdone\n",
            "Requirement already satisfied: pandas in /usr/local/lib/python3.10/dist-packages (from pandas_ta) (1.5.3)\n",
            "Requirement already satisfied: python-dateutil>=2.8.1 in /usr/local/lib/python3.10/dist-packages (from pandas->pandas_ta) (2.8.2)\n",
            "Requirement already satisfied: pytz>=2020.1 in /usr/local/lib/python3.10/dist-packages (from pandas->pandas_ta) (2022.7.1)\n",
            "Requirement already satisfied: numpy>=1.21.0 in /usr/local/lib/python3.10/dist-packages (from pandas->pandas_ta) (1.22.4)\n",
            "Requirement already satisfied: six>=1.5 in /usr/local/lib/python3.10/dist-packages (from python-dateutil>=2.8.1->pandas->pandas_ta) (1.16.0)\n",
            "Building wheels for collected packages: pandas_ta\n",
            "  Building wheel for pandas_ta (setup.py) ... \u001b[?25l\u001b[?25hdone\n",
            "  Created wheel for pandas_ta: filename=pandas_ta-0.3.14b0-py3-none-any.whl size=218908 sha256=6ae9e830daf1914c6b0e220ba542d5587bb880705f001e95bc8007acb8d8f6b3\n",
            "  Stored in directory: /root/.cache/pip/wheels/69/00/ac/f7fa862c34b0e2ef320175100c233377b4c558944f12474cf0\n",
            "Successfully built pandas_ta\n",
            "Installing collected packages: pandas_ta\n",
            "Successfully installed pandas_ta-0.3.14b0\n"
          ]
        }
      ]
    },
    {
      "cell_type": "code",
      "source": [
        "import pandas as pd\n",
        "import numpy as np\n",
        "import pandas_ta as ta\n"
      ],
      "metadata": {
        "id": "mknrqfmnKQSP"
      },
      "execution_count": 3,
      "outputs": []
    },
    {
      "cell_type": "code",
      "source": [
        "df = pd.read_csv('/content/drive/MyDrive/eurusd_hour.csv')\n",
        "close = df['AC']\n",
        "open = df['AO']\n",
        "high = df['AH']\n",
        "low = df['AL']\n",
        "change = df['ACh']"
      ],
      "metadata": {
        "id": "iwSR4EWTLbDK"
      },
      "execution_count": 4,
      "outputs": []
    },
    {
      "cell_type": "code",
      "source": [
        "RSI = ta.rsi(close,14,scalar=1)\n",
        "AROON = ta.aroon(high,low,14,scalar = 1)\n",
        "AROON_UP = AROON['AROOND_14']\n",
        "AROON_DOWN = AROON['AROONU_14']\n",
        "CCI = ta.cci(high,low,close,14)\n",
        "CCI = CCI.multiply(.001)\n",
        "CCI = CCI.add(.5)\n",
        "MASS = ta.massi(high,low,slow=10)\n",
        "MASS = MASS.subtract(9)\n",
        "MASS = MASS.multiply(.5)\n",
        "RVI = ta.rvi(close,high,low,14,scalar=1)\n",
        "\n",
        "INDICATORS = pd.concat([RSI,AROON_UP,AROON_DOWN,CCI,MASS,RVI],axis=1)\n",
        "\n",
        "print(INDICATORS)"
      ],
      "metadata": {
        "id": "szXaEp64McUL",
        "outputId": "eaafb791-12a1-4dbc-a878-8eb09dd92132",
        "colab": {
          "base_uri": "https://localhost:8080/"
        }
      },
      "execution_count": 16,
      "outputs": [
        {
          "output_type": "stream",
          "name": "stdout",
          "text": [
            "         RSI_14  AROOND_14  AROONU_14  CCI_14_0.015  MASSI_9_10    RVI_14\n",
            "0           NaN        NaN        NaN           NaN         NaN       NaN\n",
            "1           NaN        NaN        NaN           NaN         NaN       NaN\n",
            "2           NaN        NaN        NaN           NaN         NaN       NaN\n",
            "3           NaN        NaN        NaN           NaN         NaN       NaN\n",
            "4           NaN        NaN        NaN           NaN         NaN       NaN\n",
            "...         ...        ...        ...           ...         ...       ...\n",
            "93079  0.600099   0.571429   1.000000      0.669152    0.900876  0.562686\n",
            "93080  0.612845   0.500000   0.928571      0.644296    0.877853  0.618900\n",
            "93081  0.630740   0.428571   0.857143      0.635080    0.836665  0.673308\n",
            "93082  0.604415   0.357143   0.785714      0.615666    0.753981  0.574821\n",
            "93083  0.600559   0.285714   0.714286      0.592016    0.606033  0.488568\n",
            "\n",
            "[93084 rows x 6 columns]\n"
          ]
        }
      ]
    }
  ],
  "metadata": {
    "colab": {
      "name": "Welcome To Colaboratory",
      "provenance": [],
      "include_colab_link": true
    },
    "kernelspec": {
      "display_name": "Python 3",
      "name": "python3"
    }
  },
  "nbformat": 4,
  "nbformat_minor": 0
}