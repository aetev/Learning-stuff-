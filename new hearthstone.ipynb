{
  "cells": [
    {
      "cell_type": "markdown",
      "metadata": {
        "id": "view-in-github",
        "colab_type": "text"
      },
      "source": [
        "<a href=\"https://colab.research.google.com/github/aetev/Learning-stuff-/blob/main/new%20hearthstone.ipynb\" target=\"_parent\"><img src=\"https://colab.research.google.com/assets/colab-badge.svg\" alt=\"Open In Colab\"/></a>"
      ]
    },
    {
      "cell_type": "code",
      "source": [
        "import numpy as np\n",
        "import random"
      ],
      "metadata": {
        "id": "CgO0GYeIF1pq"
      },
      "execution_count": 97,
      "outputs": []
    },
    {
      "cell_type": "code",
      "source": [
        "from google.colab import drive\n",
        "drive.mount('/content/drive')"
      ],
      "metadata": {
        "id": "c3Sco1cy2CNq",
        "outputId": "79ecbbfe-ecf0-4744-8270-ac07d8f13df8",
        "colab": {
          "base_uri": "https://localhost:8080/"
        }
      },
      "execution_count": 98,
      "outputs": [
        {
          "output_type": "stream",
          "name": "stdout",
          "text": [
            "Drive already mounted at /content/drive; to attempt to forcibly remount, call drive.mount(\"/content/drive\", force_remount=True).\n"
          ]
        }
      ]
    },
    {
      "cell_type": "code",
      "source": [
        "class Player:\n",
        "    def __init__(self):\n",
        "        self.deck = []\n",
        "        self.hand = []\n",
        "        self.max_health = 30\n",
        "        self._health = self.max_health\n",
        "        self.mana = 0\n",
        "\n",
        "    @property\n",
        "    def health(self):\n",
        "      return self._health\n",
        "\n",
        "    @health.setter\n",
        "    def modi_health(self, value):\n",
        "      self._health += value\n",
        "      if self._health > self.max_health:\n",
        "        self._health = self.max_health\n",
        ""
      ],
      "metadata": {
        "id": "CrIiOy3sF6Wb"
      },
      "execution_count": 99,
      "outputs": []
    },
    {
      "cell_type": "code",
      "source": [
        "class game:\n",
        "  def __init__(self,player_1,player_2):\n",
        "    self.p1 = player_1\n",
        "    self.p2 = player_2\n",
        "    self.coin = random.randint(0,1)\n",
        "    self.turn = 0\n",
        "\n",
        "  def action(self, player, action_num):\n",
        "    return value\n",
        "\n",
        "  @property\n",
        "  def observe(self):\n",
        "    hand_p1 = self.p1.hand\n",
        "    hand_p2 = self.p2.hand\n",
        "    return hand_p1, hand_p2\n",
        "\n"
      ],
      "metadata": {
        "id": "-le4m_ASR9mA"
      },
      "execution_count": 123,
      "outputs": []
    },
    {
      "cell_type": "code",
      "source": [
        "player1 = Player()\n",
        "player2 = Player()\n",
        "games = game(player1,player2)"
      ],
      "metadata": {
        "id": "8siv0bHsSAGE"
      },
      "execution_count": 124,
      "outputs": []
    },
    {
      "cell_type": "code",
      "source": [
        "print(player1.hand)"
      ],
      "metadata": {
        "id": "04fqu2PspcDy",
        "outputId": "6b4f7e9c-704e-4454-b44a-115c2fe50813",
        "colab": {
          "base_uri": "https://localhost:8080/"
        }
      },
      "execution_count": 125,
      "outputs": [
        {
          "output_type": "stream",
          "name": "stdout",
          "text": [
            "[]\n"
          ]
        }
      ]
    },
    {
      "cell_type": "code",
      "source": [
        "p1 = games.observe"
      ],
      "metadata": {
        "id": "3GCKsEH-o43L"
      },
      "execution_count": 126,
      "outputs": []
    },
    {
      "cell_type": "code",
      "source": [
        "print(p1)"
      ],
      "metadata": {
        "id": "5AwkL9UppOna",
        "outputId": "98d19c0d-0f03-4c70-ac1b-3252e788d2c2",
        "colab": {
          "base_uri": "https://localhost:8080/"
        }
      },
      "execution_count": 127,
      "outputs": [
        {
          "output_type": "stream",
          "name": "stdout",
          "text": [
            "[]\n"
          ]
        }
      ]
    },
    {
      "cell_type": "code",
      "source": [
        "game"
      ],
      "metadata": {
        "id": "W8oUP326ouK5"
      },
      "execution_count": null,
      "outputs": []
    },
    {
      "cell_type": "code",
      "source": [
        "game.action(20)\n",
        "obs_p1, obs_p2, obs_full = game.observe"
      ],
      "metadata": {
        "id": "DRA3lgcDZFvZ"
      },
      "execution_count": null,
      "outputs": []
    }
  ],
  "metadata": {
    "colab": {
      "name": "Welcome To Colab",
      "provenance": [],
      "include_colab_link": true
    },
    "kernelspec": {
      "display_name": "Python 3",
      "name": "python3"
    }
  },
  "nbformat": 4,
  "nbformat_minor": 0
}