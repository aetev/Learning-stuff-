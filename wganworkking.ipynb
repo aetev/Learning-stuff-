{
  "cells": [
    {
      "cell_type": "markdown",
      "metadata": {
        "id": "view-in-github",
        "colab_type": "text"
      },
      "source": [
        "<a href=\"https://colab.research.google.com/github/aetev/Learning-stuff-/blob/main/wganworkking.ipynb\" target=\"_parent\"><img src=\"https://colab.research.google.com/assets/colab-badge.svg\" alt=\"Open In Colab\"/></a>"
      ]
    },
    {
      "cell_type": "code",
      "execution_count": 310,
      "metadata": {
        "colab": {
          "base_uri": "https://localhost:8080/"
        },
        "id": "BiqIzzIPybri",
        "outputId": "d7d1e9ff-8fb5-4baf-f385-247cb85e3e3e"
      },
      "outputs": [
        {
          "output_type": "stream",
          "name": "stdout",
          "text": [
            "Requirement already satisfied: pandas in /usr/local/lib/python3.10/dist-packages (1.5.3)\n",
            "Requirement already satisfied: python-dateutil>=2.8.1 in /usr/local/lib/python3.10/dist-packages (from pandas) (2.8.2)\n",
            "Requirement already satisfied: pytz>=2020.1 in /usr/local/lib/python3.10/dist-packages (from pandas) (2023.3.post1)\n",
            "Requirement already satisfied: numpy>=1.21.0 in /usr/local/lib/python3.10/dist-packages (from pandas) (1.23.5)\n",
            "Requirement already satisfied: six>=1.5 in /usr/local/lib/python3.10/dist-packages (from python-dateutil>=2.8.1->pandas) (1.16.0)\n"
          ]
        }
      ],
      "source": [
        "pip install pandas"
      ]
    },
    {
      "cell_type": "code",
      "execution_count": 311,
      "metadata": {
        "id": "xI7rEeMMgDQI"
      },
      "outputs": [],
      "source": [
        "import tensorflow as tf\n",
        "from tensorflow.keras import layers\n",
        "import numpy as np\n",
        "import pandas as pd\n",
        "import matplotlib.pyplot as plt"
      ]
    },
    {
      "cell_type": "code",
      "execution_count": 312,
      "metadata": {
        "id": "qgyl_WtbgO5k"
      },
      "outputs": [],
      "source": [
        "(x_train, y_train), (x_test, y_test) = tf.keras.datasets.mnist.load_data()"
      ]
    },
    {
      "cell_type": "code",
      "execution_count": 313,
      "metadata": {
        "id": "kik7wQ1qgOV-"
      },
      "outputs": [],
      "source": [
        "def make_generator_model():\n",
        "    input_noise = layers.Input(shape=(100,))\n",
        "    noise = layers.Dense(7*7*64)(input_noise)\n",
        "    noise = layers.Reshape((7, 7, 64))(noise)\n",
        "\n",
        "    input_digit = layers.Input(shape=(1,))\n",
        "    digit = layers.Embedding(10, 49)(input_digit)\n",
        "    digit = layers.Reshape((7, 7, 1))(digit)\n",
        "\n",
        "    x = layers.concatenate([noise, digit])\n",
        "\n",
        "    x = layers.Conv2DTranspose(128,3,2,padding='same',activation='LeakyReLU')(x)\n",
        "\n",
        "    x = layers.BatchNormalization()(x)\n",
        "\n",
        "    x = layers.Conv2DTranspose(128,3,2,padding='same',activation='LeakyReLU')(x)\n",
        "\n",
        "    x = layers.BatchNormalization()(x)\n",
        "\n",
        "    x = layers.Conv2D(1,3,1,padding='same',activation='sigmoid')(x)\n",
        "\n",
        "    model = tf.keras.models.Model(inputs=(input_noise,input_digit), outputs=x)\n",
        "    model.summary()\n",
        "    return model\n",
        "\n",
        "\n",
        "def make_discriminator_model():\n",
        "    input_img = layers.Input(shape=(28,28,1))\n",
        "\n",
        "    input_digit = layers.Input(shape=(1,))\n",
        "    digit = layers.Embedding(10, 28*28)(input_digit)\n",
        "    digit = layers.Reshape((28, 28, 1))(digit)\n",
        "\n",
        "    x = layers.concatenate([input_img, digit])\n",
        "\n",
        "    x = layers.Conv2D(64,5,2,padding='same',activation='LeakyReLU')(x)\n",
        "\n",
        "\n",
        "    x = layers.Conv2D(64,3,2,padding='same',activation='LeakyReLU')(x)\n",
        "\n",
        "\n",
        "    x = layers.Conv2D(64,3,2,padding='same',activation='LeakyReLU')(x)\n",
        "\n",
        "\n",
        "    x = layers.Conv2D(64,3,2,padding='same',activation='LeakyReLU')(x)\n",
        "\n",
        "\n",
        "    x = layers.Flatten()(x)\n",
        "\n",
        "    dense_output = layers.Dense(128, activation='LeakyReLU')(x)\n",
        "\n",
        "\n",
        "\n",
        "    dense_output = layers.Dense(64, activation='LeakyReLU')(x)\n",
        "\n",
        "\n",
        "    dense_output = layers.Dense(1, activation=None)(dense_output)\n",
        "\n",
        "    model = tf.keras.models.Model(inputs=(input_img,input_digit), outputs=dense_output)\n",
        "    return model\n",
        "\n"
      ]
    },
    {
      "cell_type": "code",
      "execution_count": 314,
      "metadata": {
        "id": "qzdSabqdVu_H"
      },
      "outputs": [],
      "source": [
        "cross_entropy = tf.keras.losses.BinaryCrossentropy(from_logits=True)"
      ]
    },
    {
      "cell_type": "code",
      "execution_count": 315,
      "metadata": {
        "id": "lS0DF8rjhHdY",
        "colab": {
          "base_uri": "https://localhost:8080/"
        },
        "outputId": "c44ca6ce-d389-4113-d101-8861bec41531"
      },
      "outputs": [
        {
          "output_type": "stream",
          "name": "stdout",
          "text": [
            "Model: \"model_43\"\n",
            "__________________________________________________________________________________________________\n",
            " Layer (type)                Output Shape                 Param #   Connected to                  \n",
            "==================================================================================================\n",
            " input_87 (InputLayer)       [(None, 100)]                0         []                            \n",
            "                                                                                                  \n",
            " input_88 (InputLayer)       [(None, 1)]                  0         []                            \n",
            "                                                                                                  \n",
            " dense_105 (Dense)           (None, 3136)                 316736    ['input_87[0][0]']            \n",
            "                                                                                                  \n",
            " embedding_43 (Embedding)    (None, 1, 49)                490       ['input_88[0][0]']            \n",
            "                                                                                                  \n",
            " reshape_55 (Reshape)        (None, 7, 7, 64)             0         ['dense_105[0][0]']           \n",
            "                                                                                                  \n",
            " reshape_56 (Reshape)        (None, 7, 7, 1)              0         ['embedding_43[0][0]']        \n",
            "                                                                                                  \n",
            " concatenate_43 (Concatenat  (None, 7, 7, 65)             0         ['reshape_55[0][0]',          \n",
            " e)                                                                  'reshape_56[0][0]']          \n",
            "                                                                                                  \n",
            " conv2d_transpose_24 (Conv2  (None, 14, 14, 128)          75008     ['concatenate_43[0][0]']      \n",
            " DTranspose)                                                                                      \n",
            "                                                                                                  \n",
            " batch_normalization_12 (Ba  (None, 14, 14, 128)          512       ['conv2d_transpose_24[0][0]'] \n",
            " tchNormalization)                                                                                \n",
            "                                                                                                  \n",
            " conv2d_transpose_25 (Conv2  (None, 28, 28, 128)          147584    ['batch_normalization_12[0][0]\n",
            " DTranspose)                                                        ']                            \n",
            "                                                                                                  \n",
            " batch_normalization_13 (Ba  (None, 28, 28, 128)          512       ['conv2d_transpose_25[0][0]'] \n",
            " tchNormalization)                                                                                \n",
            "                                                                                                  \n",
            " conv2d_136 (Conv2D)         (None, 28, 28, 1)            1153      ['batch_normalization_13[0][0]\n",
            "                                                                    ']                            \n",
            "                                                                                                  \n",
            "==================================================================================================\n",
            "Total params: 541995 (2.07 MB)\n",
            "Trainable params: 541483 (2.07 MB)\n",
            "Non-trainable params: 512 (2.00 KB)\n",
            "__________________________________________________________________________________________________\n"
          ]
        }
      ],
      "source": [
        "generator = make_generator_model()\n",
        "generator_optimizer = tf.keras.optimizers.Adam(0.0004)"
      ]
    },
    {
      "cell_type": "code",
      "source": [
        "discriminatorW = make_discriminator_model()\n",
        "discriminatorW_optimizer = tf.keras.optimizers.Adam(0.0004)"
      ],
      "metadata": {
        "id": "GJxNxRSHkWfl"
      },
      "execution_count": 316,
      "outputs": []
    },
    {
      "cell_type": "code",
      "source": [
        "discriminatorU = make_discriminator_model()\n",
        "discriminatorU_optimizer = tf.keras.optimizers.Adam(0.00004)"
      ],
      "metadata": {
        "id": "6cDVGo73jfqZ"
      },
      "execution_count": 317,
      "outputs": []
    },
    {
      "cell_type": "code",
      "execution_count": 318,
      "metadata": {
        "id": "DYQpIZyEgSlN"
      },
      "outputs": [],
      "source": [
        "BATCH_SIZE = 64\n",
        "\n",
        "@tf.function\n",
        "def discriminator_lossW(real_output, fake_output):\n",
        "    real_loss = tf.reduce_mean(real_output)\n",
        "    fake_loss = tf.reduce_mean(fake_output)\n",
        "    total_loss = fake_loss - real_loss\n",
        "    return total_loss\n",
        "\n",
        "@tf.function\n",
        "def generator_lossW(fake_output):\n",
        "    return -tf.reduce_mean(fake_output)\n",
        "\n",
        "@tf.function\n",
        "def gradient_penalty(real_images, fake_images,digits):\n",
        "    alpha = tf.random.uniform([BATCH_SIZE, 1, 1, 1], 0., 1.)\n",
        "    real_images, fake_images = tf.cast(real_images, tf.float32), tf.cast(fake_images, tf.float32)\n",
        "    interpolated_images = alpha * real_images + ((1 - alpha) * fake_images)\n",
        "    with tf.GradientTape() as tape:\n",
        "        tape.watch(interpolated_images)\n",
        "        pred = discriminatorW((interpolated_images,digits), training=True)\n",
        "    gradients = tape.gradient(pred, [interpolated_images])[0]\n",
        "    norm = tf.sqrt(tf.reduce_sum(tf.square(gradients), axis=[1, 2, 3]))\n",
        "    gp = tf.reduce_mean((norm - 1.)**2)\n",
        "    return gp"
      ]
    },
    {
      "cell_type": "code",
      "execution_count": 319,
      "metadata": {
        "id": "cP3-wZztEeaE"
      },
      "outputs": [],
      "source": [
        "NOISE_DIM = 100\n",
        "GP_WEIGHT = 10\n",
        "\n",
        "\n",
        "@tf.function\n",
        "def train_step(images,digits):\n",
        "\n",
        "\n",
        "    with tf.GradientTape() as gen_tape, tf.GradientTape() as disc_tapeW:\n",
        "        noise = tf.random.normal([BATCH_SIZE, NOISE_DIM])\n",
        "        generated_images = generator((noise,digits), training=True)\n",
        "\n",
        "        real_outputW = discriminatorW((images,digits), training=True)\n",
        "        fake_outputW = discriminatorW((generated_images,digits), training=True)\n",
        "\n",
        "        disc_lossW = discriminator_lossW(real_outputW, fake_outputW)\n",
        "\n",
        "        gen_lossW = generator_lossW(fake_outputW)\n",
        "        gen_loss = gen_lossW\n",
        "\n",
        "        gp = gradient_penalty(images, generated_images, digits)\n",
        "        disc_lossW += gp * GP_WEIGHT\n",
        "\n",
        "\n",
        "\n",
        "    gradients_of_generator = gen_tape.gradient(gen_loss, generator.trainable_variables)\n",
        "    generator_optimizer.apply_gradients(zip(gradients_of_generator, generator.trainable_variables))\n",
        "\n",
        "    gradients_of_discriminatorW = disc_tapeW.gradient(disc_lossW, discriminatorW.trainable_variables)\n",
        "    discriminatorW_optimizer.apply_gradients(zip(gradients_of_discriminatorW, discriminatorW.trainable_variables))\n",
        "\n",
        "\n",
        "    tf.print(\"disc_lossW\",disc_lossW,'gen_lossW',gen_lossW)"
      ]
    },
    {
      "cell_type": "code",
      "execution_count": 320,
      "metadata": {
        "id": "Sx_KbIfjiogE"
      },
      "outputs": [],
      "source": [
        "def train(dataset,y_train, epochs):\n",
        "  for epoch in range(epochs):\n",
        "    for batch in range(len(dataset) // BATCH_SIZE):\n",
        "\n",
        "            target_images = dataset[batch * BATCH_SIZE: (batch+1) * BATCH_SIZE]\n",
        "            digits = y_train[batch * BATCH_SIZE: (batch+1) * BATCH_SIZE]\n",
        "\n",
        "            train_step(target_images,digits)\n",
        "\n",
        "    # Save the model every 15 epochs\n",
        "    if (epoch + 1) % 15 == 0:\n",
        "      print(epoch)\n",
        "\n"
      ]
    },
    {
      "cell_type": "code",
      "execution_count": null,
      "metadata": {
        "colab": {
          "base_uri": "https://localhost:8080/"
        },
        "id": "IWp_3RkPg248",
        "outputId": "dce42cc2-39af-459d-bf55-b150f2c17ae5",
        "scrolled": true
      },
      "outputs": [
        {
          "output_type": "stream",
          "name": "stdout",
          "text": [
            "disc_lossW -2.12369704 gen_lossW 8.51296711\n",
            "disc_lossW -2.16908646 gen_lossW 8.52337646\n",
            "disc_lossW -1.91314578 gen_lossW 8.0558176\n",
            "disc_lossW -1.8413471 gen_lossW 8.04322433\n",
            "disc_lossW -1.88835108 gen_lossW 7.70927954\n",
            "disc_lossW -1.71988547 gen_lossW 7.59381485\n",
            "disc_lossW -1.69223928 gen_lossW 7.42640877\n",
            "disc_lossW -1.55580807 gen_lossW 7.25116348\n",
            "disc_lossW -1.18684638 gen_lossW 7.02458191\n",
            "disc_lossW -1.24465382 gen_lossW 6.79407024\n",
            "disc_lossW -0.946729839 gen_lossW 6.63072205\n",
            "disc_lossW -0.463275582 gen_lossW 6.1994257\n",
            "disc_lossW -0.6266 gen_lossW 5.76452637\n",
            "disc_lossW -0.549381 gen_lossW 5.28021479\n",
            "disc_lossW -0.573956549 gen_lossW 4.77772713\n",
            "disc_lossW -0.687951744 gen_lossW 4.33458424\n",
            "disc_lossW -0.920193553 gen_lossW 4.01106834\n",
            "disc_lossW -0.900707364 gen_lossW 3.70141292\n",
            "disc_lossW -0.754549 gen_lossW 3.41852617\n",
            "disc_lossW -0.509495139 gen_lossW 2.95297551\n",
            "disc_lossW -0.920658886 gen_lossW 2.47918415\n",
            "disc_lossW -1.17314672 gen_lossW 2.17635965\n",
            "disc_lossW -0.733839095 gen_lossW 1.54584956\n",
            "disc_lossW -0.985143244 gen_lossW 1.53675175\n",
            "disc_lossW -0.842457414 gen_lossW 1.37661135\n",
            "disc_lossW -0.649007797 gen_lossW 1.34112251\n",
            "disc_lossW -0.18849802 gen_lossW 1.40887892\n",
            "disc_lossW -0.0827860832 gen_lossW 1.46649\n",
            "disc_lossW -0.150668621 gen_lossW 2.0281\n",
            "disc_lossW -0.442011356 gen_lossW 1.67533898\n",
            "disc_lossW -1.25768828 gen_lossW 1.70182252\n",
            "disc_lossW -2.06321502 gen_lossW 1.7475822\n",
            "disc_lossW -2.14551187 gen_lossW 1.59008431\n",
            "disc_lossW -1.96797431 gen_lossW 1.24152374\n",
            "disc_lossW -2.05020571 gen_lossW 1.07298732\n",
            "disc_lossW -2.52547455 gen_lossW 1.06623173\n",
            "disc_lossW -2.49717426 gen_lossW 0.92033428\n",
            "disc_lossW -3.11588979 gen_lossW 1.28389835\n",
            "disc_lossW -3.05225682 gen_lossW 0.966419339\n",
            "disc_lossW -2.89174509 gen_lossW 0.952891231\n",
            "disc_lossW -2.37185621 gen_lossW 0.92357856\n",
            "disc_lossW -2.47041059 gen_lossW 1.28019\n",
            "disc_lossW -1.78688228 gen_lossW 1.75910044\n",
            "disc_lossW -1.90740347 gen_lossW 1.93720782\n",
            "disc_lossW -1.98680377 gen_lossW 2.24666047\n",
            "disc_lossW -1.67979574 gen_lossW 2.36315775\n",
            "disc_lossW -1.547436 gen_lossW 2.58263\n",
            "disc_lossW -1.29995191 gen_lossW 2.88885736\n",
            "disc_lossW -1.15583026 gen_lossW 3.03656888\n",
            "disc_lossW -1.07776606 gen_lossW 3.33970308\n",
            "disc_lossW -1.02213633 gen_lossW 3.88297606\n",
            "disc_lossW -1.18716 gen_lossW 4.39097\n",
            "disc_lossW -1.06270587 gen_lossW 5.07726431\n",
            "disc_lossW -1.21433878 gen_lossW 5.65560818\n",
            "disc_lossW -1.10683715 gen_lossW 6.00527\n",
            "disc_lossW -0.333068192 gen_lossW 6.07744312\n",
            "disc_lossW -0.656059 gen_lossW 6.78707886\n",
            "disc_lossW -0.815262079 gen_lossW 6.98537207\n",
            "disc_lossW -0.811352313 gen_lossW 6.67565918\n",
            "disc_lossW -0.785342693 gen_lossW 6.34704685\n",
            "disc_lossW -0.911485851 gen_lossW 6.2606082\n",
            "disc_lossW -0.792756498 gen_lossW 6.11762142\n",
            "disc_lossW -0.886711955 gen_lossW 6.24069214\n",
            "disc_lossW -0.679195404 gen_lossW 6.40345907\n",
            "disc_lossW -0.551506877 gen_lossW 6.26919651\n",
            "disc_lossW -1.17406809 gen_lossW 7.1404357\n",
            "disc_lossW 0.00388708711 gen_lossW 6.60065556\n",
            "disc_lossW -0.782149196 gen_lossW 7.48446703\n",
            "disc_lossW -0.595481694 gen_lossW 7.43081951\n",
            "disc_lossW -0.970174491 gen_lossW 8.2302\n",
            "disc_lossW -0.413439274 gen_lossW 8.48548889\n",
            "disc_lossW -0.301958114 gen_lossW 8.12489891\n",
            "disc_lossW 0.479903102 gen_lossW 7.74869633\n",
            "disc_lossW -0.022208523 gen_lossW 8.2543869\n",
            "disc_lossW -0.668133616 gen_lossW 7.84197474\n",
            "disc_lossW -0.69781363 gen_lossW 8.0456028\n",
            "disc_lossW -0.987641215 gen_lossW 8.11006546\n",
            "disc_lossW -0.782086194 gen_lossW 8.1130209\n",
            "disc_lossW -0.960638762 gen_lossW 8.60753632\n",
            "disc_lossW -0.927150726 gen_lossW 9.05500412\n",
            "disc_lossW -0.10174349 gen_lossW 8.24138451\n",
            "disc_lossW -0.873843193 gen_lossW 8.77685\n",
            "disc_lossW -0.281649351 gen_lossW 7.87391758\n",
            "disc_lossW -0.98397696 gen_lossW 8.08734894\n",
            "disc_lossW -0.601187468 gen_lossW 7.1244216\n",
            "disc_lossW -0.829017639 gen_lossW 6.52266359\n",
            "disc_lossW -1.24629962 gen_lossW 6.03236485\n",
            "disc_lossW -1.25543463 gen_lossW 5.37724\n",
            "disc_lossW -1.02466643 gen_lossW 4.43395615\n",
            "disc_lossW -1.4848299 gen_lossW 4.48627663\n",
            "disc_lossW -1.58238757 gen_lossW 3.91241837\n",
            "disc_lossW -1.37888741 gen_lossW 3.50262976\n",
            "disc_lossW -1.4300108 gen_lossW 3.26265121\n",
            "disc_lossW -1.67309296 gen_lossW 3.40858603\n",
            "disc_lossW -1.50947332 gen_lossW 2.69553137\n",
            "disc_lossW -2.03931737 gen_lossW 2.84328771\n",
            "disc_lossW -2.01660633 gen_lossW 2.39800715\n",
            "disc_lossW -1.89189827 gen_lossW 2.08336186\n",
            "disc_lossW -2.15402842 gen_lossW 2.12833858\n",
            "disc_lossW -2.07292 gen_lossW 1.77949941\n",
            "disc_lossW -2.66205096 gen_lossW 2.39642501\n",
            "disc_lossW -2.26742792 gen_lossW 2.03003144\n",
            "disc_lossW -1.70372629 gen_lossW 1.47818625\n",
            "disc_lossW -2.23262835 gen_lossW 2.35297871\n",
            "disc_lossW -1.44471514 gen_lossW 2.21774578\n",
            "disc_lossW -1.22204936 gen_lossW 2.63789368\n",
            "disc_lossW -1.2482096 gen_lossW 3.11677027\n",
            "disc_lossW -0.914574921 gen_lossW 3.56512022\n",
            "disc_lossW -1.62277055 gen_lossW 5.04700422\n",
            "disc_lossW -1.1871984 gen_lossW 5.29848814\n",
            "disc_lossW -1.12389803 gen_lossW 5.95892429\n",
            "disc_lossW -1.50307131 gen_lossW 6.94510555\n",
            "disc_lossW -0.971004963 gen_lossW 7.40807629\n",
            "disc_lossW -1.11526477 gen_lossW 8.56810284\n",
            "disc_lossW -1.63817298 gen_lossW 9.54322529\n",
            "disc_lossW -1.73826098 gen_lossW 10.6128368\n",
            "disc_lossW -1.38693237 gen_lossW 11.3577976\n",
            "disc_lossW -1.38500702 gen_lossW 11.9746666\n",
            "disc_lossW -1.46152294 gen_lossW 12.6513014\n",
            "disc_lossW -1.03663838 gen_lossW 12.9722271\n",
            "disc_lossW -0.903003335 gen_lossW 13.0039253\n",
            "disc_lossW -0.953930497 gen_lossW 13.3065834\n",
            "disc_lossW -0.504407346 gen_lossW 13.0858278\n",
            "disc_lossW 0.0226909053 gen_lossW 12.7693577\n",
            "disc_lossW 0.338700324 gen_lossW 12.4756517\n",
            "disc_lossW 0.191812068 gen_lossW 12.1966515\n",
            "disc_lossW 0.369108379 gen_lossW 11.7405415\n",
            "disc_lossW -0.151150599 gen_lossW 11.6004257\n",
            "disc_lossW -0.342151761 gen_lossW 11.6561699\n",
            "disc_lossW 0.374380648 gen_lossW 11.6769428\n",
            "disc_lossW 0.359910965 gen_lossW 11.5505009\n",
            "disc_lossW -0.00389111694 gen_lossW 11.9257803\n",
            "disc_lossW 1.06357706 gen_lossW 11.6768265\n",
            "disc_lossW 0.673740864 gen_lossW 11.0146646\n",
            "disc_lossW -0.158116102 gen_lossW 11.0684681\n",
            "disc_lossW -0.313383341 gen_lossW 10.424881\n",
            "disc_lossW -0.0563616082 gen_lossW 9.51235294\n",
            "disc_lossW -0.151107654 gen_lossW 9.13543129\n",
            "disc_lossW -0.199224472 gen_lossW 8.52686119\n",
            "disc_lossW -0.969149828 gen_lossW 8.20219803\n",
            "disc_lossW -0.872231364 gen_lossW 7.63779831\n",
            "disc_lossW -1.05430508 gen_lossW 7.13221169\n",
            "disc_lossW -0.938870668 gen_lossW 6.97759104\n",
            "disc_lossW -1.1707114 gen_lossW 6.51397419\n"
          ]
        }
      ],
      "source": [
        "EPOCHS = 100\n",
        "x_train2 = np.expand_dims(x_train, axis=-1)\n",
        "x_train2 = (x_train2 - np.min(x_train2)) / (np.max(x_train2) - np.min(x_train2))\n",
        "train(x_train2,y_train, EPOCHS)"
      ]
    },
    {
      "cell_type": "code",
      "execution_count": 327,
      "metadata": {
        "colab": {
          "base_uri": "https://localhost:8080/",
          "height": 465
        },
        "id": "9vPp5AiDkrAF",
        "outputId": "7852752f-89e4-46bc-d6fd-5acd4f7d92ed",
        "scrolled": true
      },
      "outputs": [
        {
          "output_type": "stream",
          "name": "stdout",
          "text": [
            "1/1 [==============================] - 0s 27ms/step\n",
            "tf.Tensor([4], shape=(1,), dtype=int32)\n"
          ]
        },
        {
          "output_type": "display_data",
          "data": {
            "text/plain": [
              "<Figure size 640x480 with 1 Axes>"
            ],
            "image/png": "[encoded data removed]"
          },
          "metadata": {}
        }
      ],
      "source": [
        "noise = tf.random.normal(shape=(1,100))\n",
        "random_number = tf.random.uniform(shape=[1,], minval=0, maxval=10, dtype=tf.int32)\n",
        "test = generator.predict((noise,random_number))\n",
        "print(random_number)\n",
        "plt.imshow(test.squeeze(), cmap='gray')\n",
        "plt.show()"
      ]
    },
    {
      "cell_type": "code",
      "source": [
        "NOISE_DIM = 100\n",
        "GP_WEIGHT = 10\n",
        "\n",
        "\n",
        "#@tf.function\n",
        "def train_step(images,digits):\n",
        "\n",
        "\n",
        "    for i in range(3):\n",
        "      with tf.GradientTape() as disc_tapeU:\n",
        "        noise = tf.random.normal([BATCH_SIZE, NOISE_DIM])\n",
        "        generated_images = generator((noise,digits), training=True)\n",
        "\n",
        "        real_outputU = discriminatorU((images,digits), training=True)\n",
        "        fake_outputU = discriminatorU((generated_images,digits), training=True)\n",
        "        disc_lossU = cross_entropy(tf.ones_like(real_outputU), real_outputU)\n",
        "\n",
        "\n",
        "\n",
        "\n",
        "      gradients_of_discriminatorU = disc_tapeU.gradient(disc_lossU, discriminatorU.trainable_variables)\n",
        "      discriminatorU_optimizer.apply_gradients(zip(gradients_of_discriminatorU, discriminatorU.trainable_variables))\n",
        "      if i == 0:\n",
        "        weights = discriminatorU.get_weights()\n",
        "\n",
        "\n",
        "    with tf.GradientTape() as gen_tape, tf.GradientTape() as disc_tapeW:\n",
        "        noise = tf.random.normal([BATCH_SIZE, NOISE_DIM])\n",
        "        generated_images = generator((noise,digits), training=True)\n",
        "\n",
        "        real_outputW = discriminatorW((images,digits), training=True)\n",
        "        fake_outputW = discriminatorW((generated_images,digits), training=True)\n",
        "        real_outputU = discriminatorU((images,digits), training=True)\n",
        "        fake_outputU = discriminatorU((generated_images,digits), training=True)\n",
        "        disc_lossW = discriminator_lossW(real_outputW, fake_outputW)\n",
        "\n",
        "\n",
        "        gen_lossU = cross_entropy(tf.ones_like(fake_outputU), fake_outputU)\n",
        "        gen_lossW = generator_lossW(fake_outputW)\n",
        "        gen_loss = gen_lossU#+gen_lossW\n",
        "\n",
        "        gp = gradient_penalty(images, generated_images, digits)\n",
        "        disc_lossW += gp * GP_WEIGHT\n",
        "\n",
        "\n",
        "\n",
        "    gradients_of_generator = gen_tape.gradient(gen_loss, generator.trainable_variables)\n",
        "    generator_optimizer.apply_gradients(zip(gradients_of_generator, generator.trainable_variables))\n",
        "\n",
        "    gradients_of_discriminatorW = disc_tapeW.gradient(disc_lossW, discriminatorW.trainable_variables)\n",
        "    discriminatorW_optimizer.apply_gradients(zip(gradients_of_discriminatorW, discriminatorW.trainable_variables))\n",
        "\n",
        "    discriminatorU.set_weights(weights)\n",
        "\n",
        "    tf.print(\"disc_lossW\",disc_lossW,'disc_lossU',disc_lossU,'gen_lossU',gen_lossU,'gen_lossW',gen_lossW)"
      ],
      "metadata": {
        "id": "_r4IEg2iBLvP"
      },
      "execution_count": null,
      "outputs": []
    },
    {
      "cell_type": "code",
      "execution_count": null,
      "metadata": {
        "id": "fhuRFc0ro5T_"
      },
      "outputs": [],
      "source": [
        "print(np.min(x_train2))"
      ]
    },
    {
      "cell_type": "code",
      "execution_count": null,
      "metadata": {
        "id": "ojIuJFIAybro"
      },
      "outputs": [],
      "source": []
    }
  ],
  "metadata": {
    "colab": {
      "provenance": [],
      "include_colab_link": true
    },
    "kernelspec": {
      "display_name": "Python 3 (ipykernel)",
      "language": "python",
      "name": "python3"
    },
    "language_info": {
      "codemirror_mode": {
        "name": "ipython",
        "version": 3
      },
      "file_extension": ".py",
      "mimetype": "text/x-python",
      "name": "python",
      "nbconvert_exporter": "python",
      "pygments_lexer": "ipython3",
      "version": "3.8.10"
    }
  },
  "nbformat": 4,
  "nbformat_minor": 0
}