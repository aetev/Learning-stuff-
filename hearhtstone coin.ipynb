{
  "cells": [
    {
      "cell_type": "markdown",
      "metadata": {
        "id": "view-in-github",
        "colab_type": "text"
      },
      "source": [
        "<a href=\"https://colab.research.google.com/github/aetev/Learning-stuff-/blob/main/hearhtstone%20coin.ipynb\" target=\"_parent\"><img src=\"https://colab.research.google.com/assets/colab-badge.svg\" alt=\"Open In Colab\"/></a>"
      ]
    },
    {
      "cell_type": "code",
      "source": [
        "import numpy as np\n",
        "import random\n",
        "import time"
      ],
      "metadata": {
        "id": "CgO0GYeIF1pq"
      },
      "execution_count": 146,
      "outputs": []
    },
    {
      "cell_type": "code",
      "source": [
        "from google.colab import drive\n",
        "drive.mount('/content/drive')"
      ],
      "metadata": {
        "colab": {
          "base_uri": "https://localhost:8080/"
        },
        "id": "c3Sco1cy2CNq",
        "outputId": "79ecbbfe-ecf0-4744-8270-ac07d8f13df8"
      },
      "execution_count": 98,
      "outputs": [
        {
          "output_type": "stream",
          "name": "stdout",
          "text": [
            "Drive already mounted at /content/drive; to attempt to forcibly remount, call drive.mount(\"/content/drive\", force_remount=True).\n"
          ]
        }
      ]
    },
    {
      "cell_type": "code",
      "source": [
        "class Player:\n",
        "    def __init__(self,deck):\n",
        "        self.deck = deck\n",
        "        self.hand = []\n",
        "        self.board = []\n",
        "        self.max_health = 30\n",
        "        self._health = self.max_health\n",
        "        self.mana = 0\n",
        "\n",
        "\n",
        "    def draw(self,amount):\n",
        "      for i in range(amount):\n",
        "        card = self.deck.pop(0)\n",
        "        if len(self.hand) <= 10:\n",
        "          self.hand.append(card)\n",
        "\n",
        "    @property\n",
        "    def health(self):\n",
        "      return self._health\n",
        "\n",
        "    @health.setter\n",
        "    def modi_health(self, value):\n",
        "      self._health += value\n",
        "      if self._health > self.max_health:\n",
        "        self._health = self.max_health\n",
        ""
      ],
      "metadata": {
        "id": "CrIiOy3sF6Wb"
      },
      "execution_count": 140,
      "outputs": []
    },
    {
      "cell_type": "code",
      "source": [
        "class game:\n",
        "  def __init__(self,player_1,player_2):\n",
        "    self.p1 = player_1\n",
        "    self.p2 = player_2\n",
        "\n",
        "\n",
        "    coin_1 = random.randint(0,1)\n",
        "    coin_2 = 1 if coin_1 == 0 else 0\n",
        "\n",
        "\n",
        "    self.p1.draw(3+coin_1)\n",
        "    self.p2.draw(3+coin_2)\n",
        "\n",
        "\n",
        "  def action(self, action_num):\n",
        "\n",
        "    return\n",
        "\n",
        "  @property\n",
        "  def observe(self):\n",
        "    hand_p1 = self.p1.hand\n",
        "    hand_p2 = self.p2.hand\n",
        "    return hand_p1, hand_p2\n",
        "\n"
      ],
      "metadata": {
        "id": "-le4m_ASR9mA"
      },
      "execution_count": 205,
      "outputs": []
    },
    {
      "cell_type": "code",
      "source": [
        "start_time = time.perf_counter()\n",
        "deck1 = [1,2,3,4,5,6]\n",
        "deck2 = [1,2,3,4,5,6]\n",
        "player1 = Player(deck1)\n",
        "player2 = Player(deck2)\n",
        "games = game(player1,player2)\n",
        "end_time = time.perf_counter()\n",
        "print(end_time-start_time)"
      ],
      "metadata": {
        "colab": {
          "base_uri": "https://localhost:8080/"
        },
        "id": "8siv0bHsSAGE",
        "outputId": "3b0c2b82-54b4-43e4-f4e6-e766b26b15a0"
      },
      "execution_count": 206,
      "outputs": [
        {
          "output_type": "stream",
          "name": "stdout",
          "text": [
            "0.00033392499972251244\n"
          ]
        }
      ]
    },
    {
      "cell_type": "code",
      "source": [
        "p1 , p2 = games.observe"
      ],
      "metadata": {
        "id": "3GCKsEH-o43L"
      },
      "execution_count": 207,
      "outputs": []
    },
    {
      "cell_type": "code",
      "source": [
        "print(p1)\n",
        "print(p2)"
      ],
      "metadata": {
        "colab": {
          "base_uri": "https://localhost:8080/"
        },
        "id": "IJI2HRbh-Kk9",
        "outputId": "6959ec29-9bfd-4466-bdea-25f32a710134"
      },
      "execution_count": 208,
      "outputs": [
        {
          "output_type": "stream",
          "name": "stdout",
          "text": [
            "[1, 2, 3]\n",
            "[1, 2, 3, 4]\n"
          ]
        }
      ]
    },
    {
      "cell_type": "code",
      "source": [
        "game.action(20)\n",
        "obs_p1, obs_p2, obs_full = game.observe"
      ],
      "metadata": {
        "id": "DRA3lgcDZFvZ"
      },
      "execution_count": null,
      "outputs": []
    }
  ],
  "metadata": {
    "colab": {
      "name": "Welcome To Colab",
      "provenance": [],
      "include_colab_link": true
    },
    "kernelspec": {
      "display_name": "Python 3",
      "name": "python3"
    }
  },
  "nbformat": 4,
  "nbformat_minor": 0
}