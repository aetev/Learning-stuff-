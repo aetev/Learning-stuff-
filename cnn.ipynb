{
  "cells": [
    {
      "cell_type": "markdown",
      "metadata": {
        "id": "view-in-github",
        "colab_type": "text"
      },
      "source": [
        "<a href=\"https://colab.research.google.com/github/aetev/Learning-stuff-/blob/main/cnn.ipynb\" target=\"_parent\"><img src=\"https://colab.research.google.com/assets/colab-badge.svg\" alt=\"Open In Colab\"/></a>"
      ]
    },
    {
      "cell_type": "code",
      "source": [
        "import tensorflow as tf\n",
        "from tensorflow.keras import layers\n",
        "import matplotlib.pyplot as plt\n",
        "from tensorflow.keras.layers import Dropout\n"
      ],
      "metadata": {
        "id": "-UiZf7YAawUu"
      },
      "execution_count": 2,
      "outputs": []
    },
    {
      "cell_type": "code",
      "source": [
        "\n",
        "# Load MNIST dataset\n",
        "(x_train, y_train), (_, _) = tf.keras.datasets.mnist.load_data()\n",
        "\n",
        "# Normalize the images to [-1, 1]\n",
        "x_train = (x_train.astype(\"float32\") - 127.5) / 127.5\n",
        "y_train = y_train.reshape(-1, 1)\n",
        "\n",
        "x_train = x_train[:1000]\n",
        "y_train = y_train[:1000]\n",
        "\n",
        "x_train = x_train.astype('float32') / 255.0\n"
      ],
      "metadata": {
        "id": "Yn4y2vCkggU1",
        "outputId": "337dc935-e0e9-4f29-df76-18068655ef53",
        "colab": {
          "base_uri": "https://localhost:8080/"
        }
      },
      "execution_count": 3,
      "outputs": [
        {
          "output_type": "stream",
          "name": "stdout",
          "text": [
            "Downloading data from https://storage.googleapis.com/tensorflow/tf-keras-datasets/mnist.npz\n",
            "11490434/11490434 [==============================] - 0s 0us/step\n"
          ]
        }
      ]
    },
    {
      "cell_type": "code",
      "source": [
        "\n",
        "\n",
        "def build_generator():\n",
        "    noise_shape = (28,28,1)\n",
        "    input_digit = layers.Input(shape=(1,), dtype=\"int32\")\n",
        "    digit_embedding = layers.Embedding(10, 28*28)(input_digit)\n",
        "    digit_embedding = layers.Reshape((28, 28, 1))(digit_embedding)\n",
        "\n",
        "    noise = layers.Input(shape=noise_shape)\n",
        "    #noise = layers.Reshape((28, 28, 1))(noise)\n",
        "\n",
        "    x = layers.Concatenate()([noise, digit_embedding])\n",
        "    x = layers.Conv2D(64, kernel_size=2, strides=2, padding='same', activation='relu')(x)\n",
        "    x = layers.Conv2D(64, kernel_size=2, strides=2, padding='same', activation='relu')(x)\n",
        "    x = layers.Conv2DTranspose(64, 5, strides=2, padding=\"same\", activation=\"relu\")(x)\n",
        "    x = layers.Conv2DTranspose(1, 5, strides=2, padding=\"same\", activation=\"tanh\")(x)\n",
        "\n",
        "    model = tf.keras.models.Model(inputs=[noise, input_digit], outputs=x)\n",
        "    return model\n",
        "\n",
        "generator = build_generator()\n",
        "generator.summary()\n",
        "\n"
      ],
      "metadata": {
        "id": "L8aOQOKGba2s",
        "outputId": "223e057a-1666-4a3c-9a79-480cb3b1501d",
        "colab": {
          "base_uri": "https://localhost:8080/"
        }
      },
      "execution_count": 20,
      "outputs": [
        {
          "output_type": "stream",
          "name": "stdout",
          "text": [
            "Model: \"model_9\"\n",
            "__________________________________________________________________________________________________\n",
            " Layer (type)                   Output Shape         Param #     Connected to                     \n",
            "==================================================================================================\n",
            " input_37 (InputLayer)          [(None, 1)]          0           []                               \n",
            "                                                                                                  \n",
            " embedding_12 (Embedding)       (None, 1, 784)       7840        ['input_37[0][0]']               \n",
            "                                                                                                  \n",
            " input_38 (InputLayer)          [(None, 28, 28, 1)]  0           []                               \n",
            "                                                                                                  \n",
            " reshape_18 (Reshape)           (None, 28, 28, 1)    0           ['embedding_12[0][0]']           \n",
            "                                                                                                  \n",
            " concatenate_12 (Concatenate)   (None, 28, 28, 2)    0           ['input_38[0][0]',               \n",
            "                                                                  'reshape_18[0][0]']             \n",
            "                                                                                                  \n",
            " conv2d_22 (Conv2D)             (None, 14, 14, 64)   576         ['concatenate_12[0][0]']         \n",
            "                                                                                                  \n",
            " conv2d_23 (Conv2D)             (None, 7, 7, 64)     16448       ['conv2d_22[0][0]']              \n",
            "                                                                                                  \n",
            " conv2d_transpose_14 (Conv2DTra  (None, 14, 14, 64)  102464      ['conv2d_23[0][0]']              \n",
            " nspose)                                                                                          \n",
            "                                                                                                  \n",
            " conv2d_transpose_15 (Conv2DTra  (None, 28, 28, 1)   1601        ['conv2d_transpose_14[0][0]']    \n",
            " nspose)                                                                                          \n",
            "                                                                                                  \n",
            "==================================================================================================\n",
            "Total params: 128,929\n",
            "Trainable params: 128,929\n",
            "Non-trainable params: 0\n",
            "__________________________________________________________________________________________________\n"
          ]
        }
      ]
    },
    {
      "cell_type": "code",
      "source": [
        "def build_discriminator():\n",
        "    input_image = layers.Input(shape=(28, 28, 1))\n",
        "\n",
        "    x = layers.Conv2D(64, 5, strides=2, padding=\"same\", activation=\"relu\")(input_image)\n",
        "    x = Dropout(0.3)(x)  # Add dropout layer with a dropout rate of 0.3\n",
        "    x = layers.Conv2D(128, 5, strides=2, padding=\"same\", activation=\"relu\")(x)\n",
        "    x = Dropout(0.3)(x)  # Add dropout layer with a dropout rate of 0.3\n",
        "    x = layers.Flatten()(x)\n",
        "\n",
        "    digit_input = layers.Input(shape=(1,), dtype=\"int32\")\n",
        "    digit_embedding = layers.Embedding(10, 784)(digit_input)\n",
        "    digit_embedding = layers.Flatten()(digit_embedding)\n",
        "\n",
        "    merged_input = layers.Concatenate()([x, digit_embedding])\n",
        "\n",
        "    x = layers.Dense(20)(merged_input)\n",
        "    x = layers.Dense(1, activation=\"sigmoid\")(x)\n",
        "\n",
        "    model = tf.keras.models.Model(inputs=[input_image, digit_input], outputs=x)\n",
        "    return model\n",
        "\n",
        "discriminator = build_discriminator()\n",
        "discriminator.summary()\n"
      ],
      "metadata": {
        "id": "Gh2ORgUybdzt",
        "outputId": "8e9b50d7-42bd-4067-a51a-81499a65805d",
        "colab": {
          "base_uri": "https://localhost:8080/"
        }
      },
      "execution_count": 21,
      "outputs": [
        {
          "output_type": "stream",
          "name": "stdout",
          "text": [
            "Model: \"model_10\"\n",
            "__________________________________________________________________________________________________\n",
            " Layer (type)                   Output Shape         Param #     Connected to                     \n",
            "==================================================================================================\n",
            " input_39 (InputLayer)          [(None, 28, 28, 1)]  0           []                               \n",
            "                                                                                                  \n",
            " conv2d_24 (Conv2D)             (None, 14, 14, 64)   1664        ['input_39[0][0]']               \n",
            "                                                                                                  \n",
            " dropout_6 (Dropout)            (None, 14, 14, 64)   0           ['conv2d_24[0][0]']              \n",
            "                                                                                                  \n",
            " conv2d_25 (Conv2D)             (None, 7, 7, 128)    204928      ['dropout_6[0][0]']              \n",
            "                                                                                                  \n",
            " input_40 (InputLayer)          [(None, 1)]          0           []                               \n",
            "                                                                                                  \n",
            " dropout_7 (Dropout)            (None, 7, 7, 128)    0           ['conv2d_25[0][0]']              \n",
            "                                                                                                  \n",
            " embedding_13 (Embedding)       (None, 1, 784)       7840        ['input_40[0][0]']               \n",
            "                                                                                                  \n",
            " flatten_6 (Flatten)            (None, 6272)         0           ['dropout_7[0][0]']              \n",
            "                                                                                                  \n",
            " flatten_7 (Flatten)            (None, 784)          0           ['embedding_13[0][0]']           \n",
            "                                                                                                  \n",
            " concatenate_13 (Concatenate)   (None, 7056)         0           ['flatten_6[0][0]',              \n",
            "                                                                  'flatten_7[0][0]']              \n",
            "                                                                                                  \n",
            " dense_6 (Dense)                (None, 20)           141140      ['concatenate_13[0][0]']         \n",
            "                                                                                                  \n",
            " dense_7 (Dense)                (None, 1)            21          ['dense_6[0][0]']                \n",
            "                                                                                                  \n",
            "==================================================================================================\n",
            "Total params: 355,593\n",
            "Trainable params: 355,593\n",
            "Non-trainable params: 0\n",
            "__________________________________________________________________________________________________\n"
          ]
        }
      ]
    },
    {
      "cell_type": "code",
      "source": [
        "# Define the GAN model\n",
        "def build_gan(generator, discriminator):\n",
        "    noise_shape = (28,28,1)\n",
        "    digit_shape = (1,)\n",
        "    noise = layers.Input(shape=noise_shape)\n",
        "    digit = layers.Input(shape=digit_shape)\n",
        "\n",
        "    generated_image = generator([noise, digit])\n",
        "\n",
        "    discriminator_output = discriminator([generated_image, digit])\n",
        "    model = tf.keras.models.Model(inputs=[noise, digit], outputs=discriminator_output)\n",
        "    return model\n",
        "\n",
        "gan = build_gan(generator, discriminator)\n",
        "gan.summary()\n",
        "\n",
        "\n"
      ],
      "metadata": {
        "id": "AJslCMmLbhHU",
        "outputId": "15c4cba8-7ba4-4c2f-d2f6-411986adbc9b",
        "colab": {
          "base_uri": "https://localhost:8080/"
        }
      },
      "execution_count": 22,
      "outputs": [
        {
          "output_type": "stream",
          "name": "stdout",
          "text": [
            "Model: \"model_11\"\n",
            "__________________________________________________________________________________________________\n",
            " Layer (type)                   Output Shape         Param #     Connected to                     \n",
            "==================================================================================================\n",
            " input_41 (InputLayer)          [(None, 28, 28, 1)]  0           []                               \n",
            "                                                                                                  \n",
            " input_42 (InputLayer)          [(None, 1)]          0           []                               \n",
            "                                                                                                  \n",
            " model_9 (Functional)           (None, 28, 28, 1)    128929      ['input_41[0][0]',               \n",
            "                                                                  'input_42[0][0]']               \n",
            "                                                                                                  \n",
            " model_10 (Functional)          (None, 1)            355593      ['model_9[0][0]',                \n",
            "                                                                  'input_42[0][0]']               \n",
            "                                                                                                  \n",
            "==================================================================================================\n",
            "Total params: 484,522\n",
            "Trainable params: 484,522\n",
            "Non-trainable params: 0\n",
            "__________________________________________________________________________________________________\n"
          ]
        }
      ]
    },
    {
      "cell_type": "code",
      "source": [
        "# Compile models\n",
        "generator_optimizer = tf.keras.optimizers.Adam(1e-4)\n",
        "discriminator_optimizer = tf.keras.optimizers.Adam(1e-4)"
      ],
      "metadata": {
        "id": "aFFOfuDfbpD9"
      },
      "execution_count": 23,
      "outputs": []
    },
    {
      "cell_type": "code",
      "source": [
        "def discriminator_loss(real_output, fake_output):\n",
        "    real_loss = tf.keras.losses.BinaryCrossentropy()(tf.ones_like(real_output), real_output)\n",
        "    fake_loss = tf.keras.losses.BinaryCrossentropy()(tf.zeros_like(fake_output), fake_output)\n",
        "    total_loss = real_loss + fake_loss\n",
        "    return total_loss\n",
        "\n",
        "def generator_loss(fake_output):\n",
        "    return tf.keras.losses.BinaryCrossentropy()(tf.ones_like(fake_output), fake_output)\n",
        "\n"
      ],
      "metadata": {
        "id": "T3PtShxlbn9c"
      },
      "execution_count": 24,
      "outputs": []
    },
    {
      "cell_type": "code",
      "source": [
        "@tf.function\n",
        "def train_step(images, labels):\n",
        "    batch_size = images.shape[0]\n",
        "    noise = tf.random.normal([batch_size, 28 ,28, 1])\n",
        "\n",
        "    with tf.GradientTape() as gen_tape, tf.GradientTape() as disc_tape:\n",
        "        generated_images = generator([noise, labels], training=True)\n",
        "\n",
        "        real_output = discriminator([images, labels], training=True)\n",
        "        fake_output = discriminator([generated_images, labels], training=True)\n",
        "\n",
        "        gen_loss = generator_loss(fake_output)\n",
        "        disc_loss = discriminator_loss(real_output, fake_output)\n",
        "\n",
        "    gradients_of_generator = gen_tape.gradient(gen_loss, generator.trainable_variables)\n",
        "    gradients_of_discriminator = disc_tape.gradient(disc_loss, discriminator.trainable_variables)\n",
        "\n",
        "    generator_optimizer.apply_gradients(zip(gradients_of_generator, generator.trainable_variables))\n",
        "    discriminator_optimizer.apply_gradients(zip(gradients_of_discriminator, discriminator.trainable_variables))\n",
        "\n",
        "# Training loop\n",
        "def train(generator, discriminator, gan, epochs, batch_size):\n",
        "    for epoch in range(epochs):\n",
        "        for batch in range(len(x_train) // batch_size):\n",
        "            images = x_train[batch * batch_size: (batch+1) * batch_size]\n",
        "            labels = y_train[batch * batch_size: (batch+1) * batch_size]\n",
        "\n",
        "            train_step(images, labels)\n",
        "\n",
        "        # Output training progress\n",
        "        if (epoch + 1) % 5 == 0:\n",
        "            print(f\"Epoch {epoch+1}/{epochs}\")\n",
        "            # Generate and save sample images\n",
        "            noise = tf.random.normal([10, 100])\n",
        "            sampled_labels = tf.constant([[i % 10] for i in range(10)], dtype=tf.int32)\n",
        "            generated_images = generator.predict([noise, sampled_labels])\n",
        "            generated_images = (generated_images * 0.5) + 0.5  # Rescale images from [-1, 1] to [0, 1]\n",
        "            fig, axs = plt.subplots(1, 10, figsize=(10, 10))\n",
        "            for i in range(10):\n",
        "                axs[i].imshow(generated_images[i], cmap=\"gray\")\n",
        "                axs[i].axis(\"off\")\n",
        "            plt.show()\n",
        "\n",
        "# Train the GAN\n",
        "EPOCHS = 20000\n",
        "BATCH_SIZE = 64\n",
        "train(generator, discriminator, gan, EPOCHS, BATCH_SIZE)"
      ],
      "metadata": {
        "id": "_fzE9nBnbuk0",
        "outputId": "88982f5c-bde7-44b3-8942-1bd521b14b9d",
        "colab": {
          "base_uri": "https://localhost:8080/",
          "height": 623
        }
      },
      "execution_count": 25,
      "outputs": [
        {
          "output_type": "stream",
          "name": "stdout",
          "text": [
            "Epoch 5/20000\n"
          ]
        },
        {
          "output_type": "error",
          "ename": "ValueError",
          "evalue": "ignored",
          "traceback": [
            "\u001b[0;31m---------------------------------------------------------------------------\u001b[0m",
            "\u001b[0;31mValueError\u001b[0m                                Traceback (most recent call last)",
            "\u001b[0;32m<ipython-input-25-cb0337a774c6>\u001b[0m in \u001b[0;36m<cell line: 47>\u001b[0;34m()\u001b[0m\n\u001b[1;32m     45\u001b[0m \u001b[0mEPOCHS\u001b[0m \u001b[0;34m=\u001b[0m \u001b[0;36m20000\u001b[0m\u001b[0;34m\u001b[0m\u001b[0;34m\u001b[0m\u001b[0m\n\u001b[1;32m     46\u001b[0m \u001b[0mBATCH_SIZE\u001b[0m \u001b[0;34m=\u001b[0m \u001b[0;36m64\u001b[0m\u001b[0;34m\u001b[0m\u001b[0;34m\u001b[0m\u001b[0m\n\u001b[0;32m---> 47\u001b[0;31m \u001b[0mtrain\u001b[0m\u001b[0;34m(\u001b[0m\u001b[0mgenerator\u001b[0m\u001b[0;34m,\u001b[0m \u001b[0mdiscriminator\u001b[0m\u001b[0;34m,\u001b[0m \u001b[0mgan\u001b[0m\u001b[0;34m,\u001b[0m \u001b[0mEPOCHS\u001b[0m\u001b[0;34m,\u001b[0m \u001b[0mBATCH_SIZE\u001b[0m\u001b[0;34m)\u001b[0m\u001b[0;34m\u001b[0m\u001b[0;34m\u001b[0m\u001b[0m\n\u001b[0m",
            "\u001b[0;32m<ipython-input-25-cb0337a774c6>\u001b[0m in \u001b[0;36mtrain\u001b[0;34m(generator, discriminator, gan, epochs, batch_size)\u001b[0m\n\u001b[1;32m     34\u001b[0m             \u001b[0mnoise\u001b[0m \u001b[0;34m=\u001b[0m \u001b[0mtf\u001b[0m\u001b[0;34m.\u001b[0m\u001b[0mrandom\u001b[0m\u001b[0;34m.\u001b[0m\u001b[0mnormal\u001b[0m\u001b[0;34m(\u001b[0m\u001b[0;34m[\u001b[0m\u001b[0;36m10\u001b[0m\u001b[0;34m,\u001b[0m \u001b[0;36m100\u001b[0m\u001b[0;34m]\u001b[0m\u001b[0;34m)\u001b[0m\u001b[0;34m\u001b[0m\u001b[0;34m\u001b[0m\u001b[0m\n\u001b[1;32m     35\u001b[0m             \u001b[0msampled_labels\u001b[0m \u001b[0;34m=\u001b[0m \u001b[0mtf\u001b[0m\u001b[0;34m.\u001b[0m\u001b[0mconstant\u001b[0m\u001b[0;34m(\u001b[0m\u001b[0;34m[\u001b[0m\u001b[0;34m[\u001b[0m\u001b[0mi\u001b[0m \u001b[0;34m%\u001b[0m \u001b[0;36m10\u001b[0m\u001b[0;34m]\u001b[0m \u001b[0;32mfor\u001b[0m \u001b[0mi\u001b[0m \u001b[0;32min\u001b[0m \u001b[0mrange\u001b[0m\u001b[0;34m(\u001b[0m\u001b[0;36m10\u001b[0m\u001b[0;34m)\u001b[0m\u001b[0;34m]\u001b[0m\u001b[0;34m,\u001b[0m \u001b[0mdtype\u001b[0m\u001b[0;34m=\u001b[0m\u001b[0mtf\u001b[0m\u001b[0;34m.\u001b[0m\u001b[0mint32\u001b[0m\u001b[0;34m)\u001b[0m\u001b[0;34m\u001b[0m\u001b[0;34m\u001b[0m\u001b[0m\n\u001b[0;32m---> 36\u001b[0;31m             \u001b[0mgenerated_images\u001b[0m \u001b[0;34m=\u001b[0m \u001b[0mgenerator\u001b[0m\u001b[0;34m.\u001b[0m\u001b[0mpredict\u001b[0m\u001b[0;34m(\u001b[0m\u001b[0;34m[\u001b[0m\u001b[0mnoise\u001b[0m\u001b[0;34m,\u001b[0m \u001b[0msampled_labels\u001b[0m\u001b[0;34m]\u001b[0m\u001b[0;34m)\u001b[0m\u001b[0;34m\u001b[0m\u001b[0;34m\u001b[0m\u001b[0m\n\u001b[0m\u001b[1;32m     37\u001b[0m             \u001b[0mgenerated_images\u001b[0m \u001b[0;34m=\u001b[0m \u001b[0;34m(\u001b[0m\u001b[0mgenerated_images\u001b[0m \u001b[0;34m*\u001b[0m \u001b[0;36m0.5\u001b[0m\u001b[0;34m)\u001b[0m \u001b[0;34m+\u001b[0m \u001b[0;36m0.5\u001b[0m  \u001b[0;31m# Rescale images from [-1, 1] to [0, 1]\u001b[0m\u001b[0;34m\u001b[0m\u001b[0;34m\u001b[0m\u001b[0m\n\u001b[1;32m     38\u001b[0m             \u001b[0mfig\u001b[0m\u001b[0;34m,\u001b[0m \u001b[0maxs\u001b[0m \u001b[0;34m=\u001b[0m \u001b[0mplt\u001b[0m\u001b[0;34m.\u001b[0m\u001b[0msubplots\u001b[0m\u001b[0;34m(\u001b[0m\u001b[0;36m1\u001b[0m\u001b[0;34m,\u001b[0m \u001b[0;36m10\u001b[0m\u001b[0;34m,\u001b[0m \u001b[0mfigsize\u001b[0m\u001b[0;34m=\u001b[0m\u001b[0;34m(\u001b[0m\u001b[0;36m10\u001b[0m\u001b[0;34m,\u001b[0m \u001b[0;36m10\u001b[0m\u001b[0;34m)\u001b[0m\u001b[0;34m)\u001b[0m\u001b[0;34m\u001b[0m\u001b[0;34m\u001b[0m\u001b[0m\n",
            "\u001b[0;32m/usr/local/lib/python3.10/dist-packages/keras/utils/traceback_utils.py\u001b[0m in \u001b[0;36merror_handler\u001b[0;34m(*args, **kwargs)\u001b[0m\n\u001b[1;32m     68\u001b[0m             \u001b[0;31m# To get the full stack trace, call:\u001b[0m\u001b[0;34m\u001b[0m\u001b[0;34m\u001b[0m\u001b[0m\n\u001b[1;32m     69\u001b[0m             \u001b[0;31m# `tf.debugging.disable_traceback_filtering()`\u001b[0m\u001b[0;34m\u001b[0m\u001b[0;34m\u001b[0m\u001b[0m\n\u001b[0;32m---> 70\u001b[0;31m             \u001b[0;32mraise\u001b[0m \u001b[0me\u001b[0m\u001b[0;34m.\u001b[0m\u001b[0mwith_traceback\u001b[0m\u001b[0;34m(\u001b[0m\u001b[0mfiltered_tb\u001b[0m\u001b[0;34m)\u001b[0m \u001b[0;32mfrom\u001b[0m \u001b[0;32mNone\u001b[0m\u001b[0;34m\u001b[0m\u001b[0;34m\u001b[0m\u001b[0m\n\u001b[0m\u001b[1;32m     71\u001b[0m         \u001b[0;32mfinally\u001b[0m\u001b[0;34m:\u001b[0m\u001b[0;34m\u001b[0m\u001b[0;34m\u001b[0m\u001b[0m\n\u001b[1;32m     72\u001b[0m             \u001b[0;32mdel\u001b[0m \u001b[0mfiltered_tb\u001b[0m\u001b[0;34m\u001b[0m\u001b[0;34m\u001b[0m\u001b[0m\n",
            "\u001b[0;32m/usr/local/lib/python3.10/dist-packages/keras/engine/training.py\u001b[0m in \u001b[0;36mtf__predict_function\u001b[0;34m(iterator)\u001b[0m\n\u001b[1;32m     13\u001b[0m                 \u001b[0;32mtry\u001b[0m\u001b[0;34m:\u001b[0m\u001b[0;34m\u001b[0m\u001b[0;34m\u001b[0m\u001b[0m\n\u001b[1;32m     14\u001b[0m                     \u001b[0mdo_return\u001b[0m \u001b[0;34m=\u001b[0m \u001b[0;32mTrue\u001b[0m\u001b[0;34m\u001b[0m\u001b[0;34m\u001b[0m\u001b[0m\n\u001b[0;32m---> 15\u001b[0;31m                     \u001b[0mretval_\u001b[0m \u001b[0;34m=\u001b[0m \u001b[0mag__\u001b[0m\u001b[0;34m.\u001b[0m\u001b[0mconverted_call\u001b[0m\u001b[0;34m(\u001b[0m\u001b[0mag__\u001b[0m\u001b[0;34m.\u001b[0m\u001b[0mld\u001b[0m\u001b[0;34m(\u001b[0m\u001b[0mstep_function\u001b[0m\u001b[0;34m)\u001b[0m\u001b[0;34m,\u001b[0m \u001b[0;34m(\u001b[0m\u001b[0mag__\u001b[0m\u001b[0;34m.\u001b[0m\u001b[0mld\u001b[0m\u001b[0;34m(\u001b[0m\u001b[0mself\u001b[0m\u001b[0;34m)\u001b[0m\u001b[0;34m,\u001b[0m \u001b[0mag__\u001b[0m\u001b[0;34m.\u001b[0m\u001b[0mld\u001b[0m\u001b[0;34m(\u001b[0m\u001b[0miterator\u001b[0m\u001b[0;34m)\u001b[0m\u001b[0;34m)\u001b[0m\u001b[0;34m,\u001b[0m \u001b[0;32mNone\u001b[0m\u001b[0;34m,\u001b[0m \u001b[0mfscope\u001b[0m\u001b[0;34m)\u001b[0m\u001b[0;34m\u001b[0m\u001b[0;34m\u001b[0m\u001b[0m\n\u001b[0m\u001b[1;32m     16\u001b[0m                 \u001b[0;32mexcept\u001b[0m\u001b[0;34m:\u001b[0m\u001b[0;34m\u001b[0m\u001b[0;34m\u001b[0m\u001b[0m\n\u001b[1;32m     17\u001b[0m                     \u001b[0mdo_return\u001b[0m \u001b[0;34m=\u001b[0m \u001b[0;32mFalse\u001b[0m\u001b[0;34m\u001b[0m\u001b[0;34m\u001b[0m\u001b[0m\n",
            "\u001b[0;31mValueError\u001b[0m: in user code:\n\n    File \"/usr/local/lib/python3.10/dist-packages/keras/engine/training.py\", line 2169, in predict_function  *\n        return step_function(self, iterator)\n    File \"/usr/local/lib/python3.10/dist-packages/keras/engine/training.py\", line 2155, in step_function  **\n        outputs = model.distribute_strategy.run(run_step, args=(data,))\n    File \"/usr/local/lib/python3.10/dist-packages/keras/engine/training.py\", line 2143, in run_step  **\n        outputs = model.predict_step(data)\n    File \"/usr/local/lib/python3.10/dist-packages/keras/engine/training.py\", line 2111, in predict_step\n        return self(x, training=False)\n    File \"/usr/local/lib/python3.10/dist-packages/keras/utils/traceback_utils.py\", line 70, in error_handler\n        raise e.with_traceback(filtered_tb) from None\n    File \"/usr/local/lib/python3.10/dist-packages/keras/engine/input_spec.py\", line 298, in assert_input_compatibility\n        raise ValueError(\n\n    ValueError: Input 0 of layer \"model_9\" is incompatible with the layer: expected shape=(None, 28, 28, 1), found shape=(None, 100)\n"
          ]
        }
      ]
    }
  ],
  "metadata": {
    "colab": {
      "name": "Overview of Colaboratory Features",
      "provenance": [],
      "include_colab_link": true
    },
    "kernelspec": {
      "display_name": "Python 3",
      "name": "python3"
    }
  },
  "nbformat": 4,
  "nbformat_minor": 0
}