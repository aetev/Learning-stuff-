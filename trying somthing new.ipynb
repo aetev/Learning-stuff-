{
  "cells": [
    {
      "cell_type": "markdown",
      "metadata": {
        "id": "view-in-github",
        "colab_type": "text"
      },
      "source": [
        "<a href=\"https://colab.research.google.com/github/aetev/Learning-stuff-/blob/main/trying%20somthing%20new.ipynb\" target=\"_parent\"><img src=\"https://colab.research.google.com/assets/colab-badge.svg\" alt=\"Open In Colab\"/></a>"
      ]
    },
    {
      "cell_type": "code",
      "source": [
        "import yfinance as yfi\n",
        "import pandas as pd\n",
        "import asyncio"
      ],
      "metadata": {
        "id": "Ne1zOawZmgk2"
      },
      "execution_count": 42,
      "outputs": []
    },
    {
      "cell_type": "code",
      "source": [
        "def proccess_data(df):\n",
        "    # Ensure the input is a DataFrame\n",
        "    if not isinstance(df, pd.DataFrame):\n",
        "        raise ValueError(\"Input must be a pandas DataFrame\")\n",
        "\n",
        "    proccessed_data = pd.DataFrame()\n",
        "\n",
        "    # Calculate the range\n",
        "    proccessed_data['range'] = df['High'] - df['Low']\n",
        "\n",
        "    stdev = proccessed_data['range'].std()\n",
        "\n",
        "    # Calculate the percentage of the range that the closing price represents\n",
        "    proccessed_data['close_percentage'] = (df['Close'] - df['Low']) / proccessed_data['range']\n",
        "\n",
        "    proccessed_data['range'] = proccessed_data['range'] / stdev\n",
        "\n",
        "    # Calculate the difference between the closing and opening prices\n",
        "    proccessed_data['price_difference'] = (df['Close'] - df['Open']) / stdev\n",
        "\n",
        "    return proccessed_data"
      ],
      "metadata": {
        "id": "DgV88c__nsQg"
      },
      "execution_count": 39,
      "outputs": []
    },
    {
      "cell_type": "code",
      "source": [
        "async def fetch_ticker_data(ticker: str, start_date: str, end_date: str, interval: str):\n",
        "    try:\n",
        "        data = yfi.download(ticker, start=start_date, end=end_date, interval=interval)\n",
        "        proccessed_data = proccess_data(data)\n",
        "        return proccessed_data\n",
        "\n",
        "    except Exception as e:\n",
        "        print(f\"Error fetching data for {ticker}: {e}\")\n",
        "        return None\n",
        "\n",
        "async def fetch_all_tickers(ticker_list: list,start_date: str,end_date: str, interval: str, max_concurrency:int=50):\n",
        "    tasks = [fetch_ticker_data(ticker,start_date=start_date,end_date=end_date,interval=interval) for ticker in ticker_list]\n",
        "    return await asyncio.gather(*tasks[:max_concurrency])"
      ],
      "metadata": {
        "id": "72bTc6-aUbRe"
      },
      "execution_count": 69,
      "outputs": []
    },
    {
      "cell_type": "code",
      "source": [
        "start_date = '2023-01-01'\n",
        "end_date = '2023-10-22'\n",
        "interval='60m'\n",
        "\n",
        "# List of forex tickers    # List of forex tickers\n",
        "forex_tickers = [\"EURUSD=X\", \"GBPUSD=X\", \"USDJPY=X\", \"AUDUSD=X\"]  # Example tickers\n",
        "\n",
        "# Fetch data concurrently\n",
        "results = await fetch_all_tickers(forex_tickers,start_date=start_date,end_date=end_date,interval=interval)\n",
        "\n",
        "combined_df = pd.concat(results, axis=0, ignore_index=True)\n",
        "combined_df.dropna(inplace=True)"
      ],
      "metadata": {
        "id": "iHKEZ6udUewN",
        "outputId": "a29a4bfa-cce7-48a5-91bd-662895d9d208",
        "colab": {
          "base_uri": "https://localhost:8080/"
        }
      },
      "execution_count": 78,
      "outputs": [
        {
          "output_type": "stream",
          "name": "stderr",
          "text": [
            "[*********************100%***********************]  1 of 1 completed\n",
            "[*********************100%***********************]  1 of 1 completed\n",
            "[*********************100%***********************]  1 of 1 completed\n",
            "[*********************100%***********************]  1 of 1 completed\n"
          ]
        }
      ]
    },
    {
      "cell_type": "code",
      "source": [
        "target = combined_df['price_difference']\n",
        "print(target)\n",
        "print(target[1:])"
      ],
      "metadata": {
        "id": "QnGR1iUXgxXW",
        "outputId": "f23db0a0-db72-4adf-d3cd-291844247ce2",
        "colab": {
          "base_uri": "https://localhost:8080/"
        }
      },
      "execution_count": 82,
      "outputs": [
        {
          "output_type": "stream",
          "name": "stdout",
          "text": [
            "0        0.868053\n",
            "1       -0.372299\n",
            "2        0.000000\n",
            "3        0.372170\n",
            "4       -0.743954\n",
            "           ...   \n",
            "19952    0.028981\n",
            "19953   -0.468389\n",
            "19954   -0.212170\n",
            "19955    0.429098\n",
            "19956   -0.164084\n",
            "Name: price_difference, Length: 19838, dtype: float64\n",
            "1       -0.372299\n",
            "2        0.000000\n",
            "3        0.372170\n",
            "4       -0.743954\n",
            "5       -0.494980\n",
            "           ...   \n",
            "19952    0.028981\n",
            "19953   -0.468389\n",
            "19954   -0.212170\n",
            "19955    0.429098\n",
            "19956   -0.164084\n",
            "Name: price_difference, Length: 19837, dtype: float64\n"
          ]
        }
      ]
    },
    {
      "cell_type": "code",
      "source": [
        "from tensorflow.keras.models import Sequential\n",
        "from tensorflow.keras.layers import Dense\n",
        "from tensorflow.keras.optimizers import Adam\n",
        "from tensorflow.keras.losses import Huber\n",
        "from sklearn.model_selection import train_test_split\n",
        "\n",
        "model = Sequential([\n",
        "    Dense(64, activation='relu'),\n",
        "    Dense(32, activation='relu'),\n",
        "    Dense(1)\n",
        "])\n",
        "\n",
        "huber_loss = Huber(delta=1.35)\n",
        "model.compile(optimizer=Adam(), loss=huber_loss)"
      ],
      "metadata": {
        "id": "CEQBxQAlc81u"
      },
      "execution_count": 83,
      "outputs": []
    },
    {
      "cell_type": "code",
      "source": [
        "X_train, X_test, y_train, y_test = train_test_split(X, y, test_size=0.2, random_state=42)"
      ],
      "metadata": {
        "id": "8pRzOrJ-htL3"
      },
      "execution_count": null,
      "outputs": []
    }
  ],
  "metadata": {
    "colab": {
      "name": "Welcome To Colab",
      "toc_visible": true,
      "provenance": [],
      "include_colab_link": true
    },
    "kernelspec": {
      "display_name": "Python 3",
      "name": "python3"
    }
  },
  "nbformat": 4,
  "nbformat_minor": 0
}