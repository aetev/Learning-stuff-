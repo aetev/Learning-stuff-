{
  "cells": [
    {
      "cell_type": "markdown",
      "metadata": {
        "id": "view-in-github",
        "colab_type": "text"
      },
      "source": [
        "<a href=\"https://colab.research.google.com/github/aetev/Learning-stuff-/blob/main/lernring.ipynb\" target=\"_parent\"><img src=\"https://colab.research.google.com/assets/colab-badge.svg\" alt=\"Open In Colab\"/></a>"
      ]
    },
    {
      "cell_type": "code",
      "source": [
        "from google.colab import drive\n",
        "drive.mount('/content/drive')"
      ],
      "metadata": {
        "colab": {
          "base_uri": "https://localhost:8080/"
        },
        "id": "1EInKlGwvOOY",
        "outputId": "432e60cf-7f38-435d-837f-01d0c33f48e1"
      },
      "execution_count": 19,
      "outputs": [
        {
          "output_type": "stream",
          "name": "stdout",
          "text": [
            "Drive already mounted at /content/drive; to attempt to forcibly remount, call drive.mount(\"/content/drive\", force_remount=True).\n"
          ]
        }
      ]
    },
    {
      "cell_type": "code",
      "source": [
        "import pandas as pd\n",
        "import tensorflow as tf\n",
        "import numpy as np\n",
        "import matplotlib.pyplot as plt\n",
        "import re\n",
        "from sklearn.feature_extraction.text import HashingVectorizer\n",
        "from tensorflow.keras.models import Sequential\n",
        "from tensorflow.keras.layers import Dense, Dropout, LSTM, BatchNormalization, GaussianNoise\n",
        "from sklearn import preprocessing\n",
        "from sklearn.compose import ColumnTransformer\n",
        "from sklearn.preprocessing import PowerTransformer\n",
        "from sklearn.model_selection import GridSearchCV\n",
        "from tensorflow.keras.optimizers import Adam\n",
        "from tensorflow.keras.regularizers import L2\n",
        "from sklearn.model_selection import train_test_split"
      ],
      "metadata": {
        "id": "jKLw5ApAvVfk"
      },
      "execution_count": 20,
      "outputs": []
    },
    {
      "cell_type": "code",
      "source": [
        "df = pd.read_csv('/content/drive/MyDrive/Chase2387_Activity_20230531 (1).CSV')\n",
        "price = df.pop('Description')\n",
        "sum = np.cumsum(price)\n",
        "sum = sum.reset_index(drop=True)\n",
        "words = df.pop('Posting Date')\n",
        "date = df.pop('Details')\n",
        "plt.xlim(1300,1600)\n",
        "plt.plot(sum)\n",
        "print(sum)"
      ],
      "metadata": {
        "colab": {
          "base_uri": "https://localhost:8080/",
          "height": 638
        },
        "id": "30VhW0rDvYjW",
        "outputId": "3c92ae3a-e7db-4a20-c82f-458822e7f893"
      },
      "execution_count": 21,
      "outputs": [
        {
          "output_type": "stream",
          "name": "stdout",
          "text": [
            "0         -8.32\n",
            "1        -20.73\n",
            "2        -22.23\n",
            "3        -57.71\n",
            "4        -59.21\n",
            "         ...   \n",
            "1499    1364.32\n",
            "1500    1358.71\n",
            "1501    1315.00\n",
            "1502    1313.60\n",
            "1503    1301.08\n",
            "Name: Description, Length: 1504, dtype: float64\n"
          ]
        },
        {
          "output_type": "display_data",
          "data": {
            "text/plain": [
              "<Figure size 640x480 with 1 Axes>"
            ],
            "image/png": "[encoded data removed]"
          },
          "metadata": {}
        }
      ]
    },
    {
      "cell_type": "code",
      "source": [
        "def remove_non_letters(input_array):\n",
        "    return [''.join(filter(str.isalpha, s)) for s in input_array]\n",
        "\n",
        "result = remove_non_letters(words)\n",
        "result = np.array(result)\n"
      ],
      "metadata": {
        "id": "8KQQv-g7pmrg"
      },
      "execution_count": 22,
      "outputs": []
    },
    {
      "cell_type": "code",
      "source": [
        "\n",
        "# Create a HashingVectorizer instance\n",
        "vectorizer = HashingVectorizer(n_features=10)\n",
        "\n",
        "# Fit and transform the array of words\n",
        "encoded_words = vectorizer.fit_transform(result).toarray()\n",
        "\n",
        "encoded_words = np.array(encoded_words)\n",
        "\n",
        "worddf = pd.DataFrame(encoded_words)\n",
        "\n",
        "print(worddf)"
      ],
      "metadata": {
        "colab": {
          "base_uri": "https://localhost:8080/"
        },
        "id": "uep2zM_JyW6q",
        "outputId": "1ad30aff-a291-46bd-a340-92b62e842a79"
      },
      "execution_count": 23,
      "outputs": [
        {
          "output_type": "stream",
          "name": "stdout",
          "text": [
            "        0    1    2    3    4    5    6    7    8    9\n",
            "0     0.0  0.0  0.0  0.0  0.0  0.0  0.0  0.0  1.0  0.0\n",
            "1     1.0  0.0  0.0  0.0  0.0  0.0  0.0  0.0  0.0  0.0\n",
            "2     0.0  1.0  0.0  0.0  0.0  0.0  0.0  0.0  0.0  0.0\n",
            "3     0.0  0.0  0.0  0.0  0.0 -1.0  0.0  0.0  0.0  0.0\n",
            "4     0.0  0.0  0.0  0.0  0.0  1.0  0.0  0.0  0.0  0.0\n",
            "...   ...  ...  ...  ...  ...  ...  ...  ...  ...  ...\n",
            "1499  0.0  0.0  0.0  0.0  0.0  0.0  0.0  0.0  0.0 -1.0\n",
            "1500  0.0  0.0  0.0  0.0  0.0  0.0  0.0  0.0  0.0 -1.0\n",
            "1501  0.0  0.0  0.0  0.0  0.0  0.0  0.0  0.0  1.0  0.0\n",
            "1502  0.0  0.0  0.0  0.0  0.0  1.0  0.0  0.0  0.0  0.0\n",
            "1503  0.0  0.0  0.0  0.0  0.0  0.0  0.0  0.0  0.0 -1.0\n",
            "\n",
            "[1504 rows x 10 columns]\n"
          ]
        }
      ]
    },
    {
      "cell_type": "code",
      "source": [
        "Date = pd.DataFrame()\n",
        "# Convert the date column to a datetime object\n",
        "date = pd.to_datetime(date)\n",
        "\n",
        "# Extract the month, day, and day of the week as a number\n",
        "Date['month'] = date.dt.month\n",
        "Date['day'] = date.dt.day\n",
        "Date['day_of_week'] = date.dt.day_of_week\n",
        "\n",
        "Date = Date.reset_index(drop=True)\n",
        "\n",
        "print(Date)"
      ],
      "metadata": {
        "colab": {
          "base_uri": "https://localhost:8080/"
        },
        "id": "jCeySE4B2ge5",
        "outputId": "b2b226f4-5838-4295-a8cb-9aba67c8f911"
      },
      "execution_count": 24,
      "outputs": [
        {
          "output_type": "stream",
          "name": "stdout",
          "text": [
            "      month  day  day_of_week\n",
            "0         5   31            2\n",
            "1         5   31            2\n",
            "2         5   31            2\n",
            "3         5   30            1\n",
            "4         5   30            1\n",
            "...     ...  ...          ...\n",
            "1499     12   14            1\n",
            "1500     12   14            1\n",
            "1501     12   13            0\n",
            "1502     12   13            0\n",
            "1503     12   13            0\n",
            "\n",
            "[1504 rows x 3 columns]\n"
          ]
        }
      ]
    },
    {
      "cell_type": "code",
      "source": [
        "pricedf = pd.DataFrame(price)\n",
        "pricedf = pricedf.rename(columns={'Description': 'Price'})\n",
        "sumdf = pd.DataFrame(sum)\n",
        "sumdf = sumdf.rename(columns={'Description': 'Sum'})\n",
        "lagged = sumdf.rename(columns={'Sum': 'Target'})\n",
        "sumdf = sumdf.reset_index(drop=True)\n",
        "lagged = lagged.reset_index(drop=True)\n",
        "pricedf = pricedf.reset_index(drop=True)\n",
        "\n",
        "input = pd.concat([Date,worddf,pricedf,sumdf,lagged],axis=1)\n",
        "\n",
        "input['Target'] = input['Target'].shift(periods=30)\n",
        "\n",
        "input = input.dropna()\n",
        "\n",
        "target = input.pop('Target')\n",
        "\n",
        "input = input.astype(float)\n",
        "input.columns = input.columns.astype(str)\n",
        "print(input)"
      ],
      "metadata": {
        "colab": {
          "base_uri": "https://localhost:8080/"
        },
        "id": "cBu0kfi94jWR",
        "outputId": "9590d6ea-5290-4e5f-b7df-e1e3e5fbed67"
      },
      "execution_count": 25,
      "outputs": [
        {
          "output_type": "stream",
          "name": "stdout",
          "text": [
            "      month   day  day_of_week    0    1    2    3    4    5    6    7    8  \\\n",
            "30      5.0  18.0          3.0  0.0  0.0  0.0  0.0  0.0  0.0  0.0 -1.0  0.0   \n",
            "31      5.0  17.0          2.0  0.0  0.0  0.0  0.0  0.0  0.0  1.0  0.0  0.0   \n",
            "32      5.0  17.0          2.0 -1.0  0.0  0.0  0.0  0.0  0.0  0.0  0.0  0.0   \n",
            "33      5.0  16.0          1.0  0.0  0.0  0.0  0.0  0.0  1.0  0.0  0.0  0.0   \n",
            "34      5.0  16.0          1.0 -1.0  0.0  0.0  0.0  0.0  0.0  0.0  0.0  0.0   \n",
            "...     ...   ...          ...  ...  ...  ...  ...  ...  ...  ...  ...  ...   \n",
            "1499   12.0  14.0          1.0  0.0  0.0  0.0  0.0  0.0  0.0  0.0  0.0  0.0   \n",
            "1500   12.0  14.0          1.0  0.0  0.0  0.0  0.0  0.0  0.0  0.0  0.0  0.0   \n",
            "1501   12.0  13.0          0.0  0.0  0.0  0.0  0.0  0.0  0.0  0.0  0.0  1.0   \n",
            "1502   12.0  13.0          0.0  0.0  0.0  0.0  0.0  0.0  1.0  0.0  0.0  0.0   \n",
            "1503   12.0  13.0          0.0  0.0  0.0  0.0  0.0  0.0  0.0  0.0  0.0  0.0   \n",
            "\n",
            "        9   Price      Sum  \n",
            "30    0.0  778.47   442.12  \n",
            "31    0.0   -6.79   435.33  \n",
            "32    0.0  -12.19   423.14  \n",
            "33    0.0   -1.50   421.64  \n",
            "34    0.0  -12.19   409.45  \n",
            "...   ...     ...      ...  \n",
            "1499 -1.0  -12.52  1364.32  \n",
            "1500 -1.0   -5.61  1358.71  \n",
            "1501  0.0  -43.71  1315.00  \n",
            "1502  0.0   -1.40  1313.60  \n",
            "1503 -1.0  -12.52  1301.08  \n",
            "\n",
            "[1474 rows x 15 columns]\n"
          ]
        }
      ]
    },
    {
      "cell_type": "code",
      "source": [
        "# Define the columns that need power transformation\n",
        "columns_to_transform = ['month', 'day','day_of_week','Price','Sum']\n",
        "\n",
        "# Create a ColumnTransformer with the PowerTransformer as a preprocessing step\n",
        "preprocessor = ColumnTransformer(\n",
        "    transformers=[\n",
        "        ('power_transform', PowerTransformer(method='yeo-johnson', standardize=True), columns_to_transform)\n",
        "    ])\n",
        "\n",
        "# Fit and transform the specific columns in the DataFrame\n",
        "preprocessed_data = preprocessor.fit_transform(input)\n",
        "\n",
        "# Create a new DataFrame with the preprocessed data\n",
        "preprocessed_df = pd.DataFrame(preprocessed_data, columns=columns_to_transform)"
      ],
      "metadata": {
        "id": "VAd5UTjB0mBk"
      },
      "execution_count": 26,
      "outputs": []
    },
    {
      "cell_type": "code",
      "source": [
        "def create_sliding_windows(dataframe, window_size):\n",
        "    windows = []\n",
        "    for win in dataframe.rolling(window_size, axis=0):\n",
        "        if win.shape[0] == window_size:\n",
        "            windows.append(win.values)\n",
        "    return windows\n",
        "\n",
        "window_size = 10\n",
        "windows = create_sliding_windows(input, window_size)\n",
        "windows = np.array(windows)\n",
        "#print(windows)"
      ],
      "metadata": {
        "id": "CPT5eRawsYpn"
      },
      "execution_count": 27,
      "outputs": []
    },
    {
      "cell_type": "code",
      "source": [
        "targetlist = target.tolist()\n",
        "targetlist = targetlist[:len(windows)]\n",
        "targetlist = np.array(targetlist)"
      ],
      "metadata": {
        "id": "x9pOvKfxt1Lo"
      },
      "execution_count": 28,
      "outputs": []
    },
    {
      "cell_type": "code",
      "source": [
        "print(windows)"
      ],
      "metadata": {
        "colab": {
          "base_uri": "https://localhost:8080/"
        },
        "id": "XQtSqFCc2iLh",
        "outputId": "9ea33dd5-6e14-4e19-a2be-628b21aa86b9"
      },
      "execution_count": 29,
      "outputs": [
        {
          "output_type": "stream",
          "name": "stdout",
          "text": [
            "[[[ 5.00000e+00  1.80000e+01  3.00000e+00 ...  0.00000e+00  7.78470e+02\n",
            "    4.42120e+02]\n",
            "  [ 5.00000e+00  1.70000e+01  2.00000e+00 ...  0.00000e+00 -6.79000e+00\n",
            "    4.35330e+02]\n",
            "  [ 5.00000e+00  1.70000e+01  2.00000e+00 ...  0.00000e+00 -1.21900e+01\n",
            "    4.23140e+02]\n",
            "  ...\n",
            "  [ 5.00000e+00  1.50000e+01  0.00000e+00 ...  0.00000e+00 -1.50000e+00\n",
            "    3.79540e+02]\n",
            "  [ 5.00000e+00  1.50000e+01  0.00000e+00 ... -1.00000e+00 -1.05800e+01\n",
            "    3.68960e+02]\n",
            "  [ 5.00000e+00  1.50000e+01  0.00000e+00 ...  0.00000e+00 -1.08200e+01\n",
            "    3.58140e+02]]\n",
            "\n",
            " [[ 5.00000e+00  1.70000e+01  2.00000e+00 ...  0.00000e+00 -6.79000e+00\n",
            "    4.35330e+02]\n",
            "  [ 5.00000e+00  1.70000e+01  2.00000e+00 ...  0.00000e+00 -1.21900e+01\n",
            "    4.23140e+02]\n",
            "  [ 5.00000e+00  1.60000e+01  1.00000e+00 ...  0.00000e+00 -1.50000e+00\n",
            "    4.21640e+02]\n",
            "  ...\n",
            "  [ 5.00000e+00  1.50000e+01  0.00000e+00 ... -1.00000e+00 -1.05800e+01\n",
            "    3.68960e+02]\n",
            "  [ 5.00000e+00  1.50000e+01  0.00000e+00 ...  0.00000e+00 -1.08200e+01\n",
            "    3.58140e+02]\n",
            "  [ 5.00000e+00  1.50000e+01  0.00000e+00 ...  0.00000e+00 -1.83800e+01\n",
            "    3.39760e+02]]\n",
            "\n",
            " [[ 5.00000e+00  1.70000e+01  2.00000e+00 ...  0.00000e+00 -1.21900e+01\n",
            "    4.23140e+02]\n",
            "  [ 5.00000e+00  1.60000e+01  1.00000e+00 ...  0.00000e+00 -1.50000e+00\n",
            "    4.21640e+02]\n",
            "  [ 5.00000e+00  1.60000e+01  1.00000e+00 ...  0.00000e+00 -1.21900e+01\n",
            "    4.09450e+02]\n",
            "  ...\n",
            "  [ 5.00000e+00  1.50000e+01  0.00000e+00 ...  0.00000e+00 -1.08200e+01\n",
            "    3.58140e+02]\n",
            "  [ 5.00000e+00  1.50000e+01  0.00000e+00 ...  0.00000e+00 -1.83800e+01\n",
            "    3.39760e+02]\n",
            "  [ 5.00000e+00  1.50000e+01  0.00000e+00 ...  0.00000e+00 -2.10000e+00\n",
            "    3.37660e+02]]\n",
            "\n",
            " ...\n",
            "\n",
            " [[ 1.20000e+01  1.70000e+01  4.00000e+00 ...  0.00000e+00 -7.57000e+00\n",
            "    6.78630e+02]\n",
            "  [ 1.20000e+01  1.70000e+01  4.00000e+00 ...  0.00000e+00  7.31820e+02\n",
            "    1.41045e+03]\n",
            "  [ 1.20000e+01  1.60000e+01  3.00000e+00 ...  0.00000e+00 -4.00000e+00\n",
            "    1.40645e+03]\n",
            "  ...\n",
            "  [ 1.20000e+01  1.40000e+01  1.00000e+00 ... -1.00000e+00 -1.25200e+01\n",
            "    1.36432e+03]\n",
            "  [ 1.20000e+01  1.40000e+01  1.00000e+00 ... -1.00000e+00 -5.61000e+00\n",
            "    1.35871e+03]\n",
            "  [ 1.20000e+01  1.30000e+01  0.00000e+00 ...  0.00000e+00 -4.37100e+01\n",
            "    1.31500e+03]]\n",
            "\n",
            " [[ 1.20000e+01  1.70000e+01  4.00000e+00 ...  0.00000e+00  7.31820e+02\n",
            "    1.41045e+03]\n",
            "  [ 1.20000e+01  1.60000e+01  3.00000e+00 ...  0.00000e+00 -4.00000e+00\n",
            "    1.40645e+03]\n",
            "  [ 1.20000e+01  1.60000e+01  3.00000e+00 ...  0.00000e+00 -1.32000e+01\n",
            "    1.39325e+03]\n",
            "  ...\n",
            "  [ 1.20000e+01  1.40000e+01  1.00000e+00 ... -1.00000e+00 -5.61000e+00\n",
            "    1.35871e+03]\n",
            "  [ 1.20000e+01  1.30000e+01  0.00000e+00 ...  0.00000e+00 -4.37100e+01\n",
            "    1.31500e+03]\n",
            "  [ 1.20000e+01  1.30000e+01  0.00000e+00 ...  0.00000e+00 -1.40000e+00\n",
            "    1.31360e+03]]\n",
            "\n",
            " [[ 1.20000e+01  1.60000e+01  3.00000e+00 ...  0.00000e+00 -4.00000e+00\n",
            "    1.40645e+03]\n",
            "  [ 1.20000e+01  1.60000e+01  3.00000e+00 ...  0.00000e+00 -1.32000e+01\n",
            "    1.39325e+03]\n",
            "  [ 1.20000e+01  1.50000e+01  2.00000e+00 ...  0.00000e+00 -9.40000e+00\n",
            "    1.38385e+03]\n",
            "  ...\n",
            "  [ 1.20000e+01  1.30000e+01  0.00000e+00 ...  0.00000e+00 -4.37100e+01\n",
            "    1.31500e+03]\n",
            "  [ 1.20000e+01  1.30000e+01  0.00000e+00 ...  0.00000e+00 -1.40000e+00\n",
            "    1.31360e+03]\n",
            "  [ 1.20000e+01  1.30000e+01  0.00000e+00 ... -1.00000e+00 -1.25200e+01\n",
            "    1.30108e+03]]]\n"
          ]
        }
      ]
    },
    {
      "cell_type": "code",
      "source": [
        "reg = L2(.01)\n",
        "\n",
        "\n",
        "# Create a Sequential model instance\n",
        "model = Sequential()\n",
        "\n",
        "# Add layers to the model using the add() method\n",
        "model.add(LSTM(20, return_sequences=True,activation='gelu',kernel_regularizer=reg))\n",
        "model.add(BatchNormalization())\n",
        "model.add(GaussianNoise(1))\n",
        "model.add(LSTM(20, return_sequences=True,activation='gelu',kernel_regularizer=reg))\n",
        "model.add(BatchNormalization())\n",
        "model.add(GaussianNoise(1))\n",
        "model.add(LSTM(20, return_sequences=True,activation='gelu',kernel_regularizer=reg))\n",
        "model.add(BatchNormalization())\n",
        "model.add(GaussianNoise(1))\n",
        "model.add(LSTM(20, return_sequences=False,activation='gelu',kernel_regularizer=reg))\n",
        "model.add(BatchNormalization())\n",
        "model.add(GaussianNoise(1))\n",
        "model.add(Dense(5,activation='gelu',kernel_regularizer=reg))\n",
        "model.add(BatchNormalization())\n",
        "model.add(GaussianNoise(1))\n",
        "model.add(Dense(1))\n",
        "\n",
        "# Compile the model\n",
        "model.compile(loss=\"mse\", optimizer=\"adam\", metrics=[\"mae\"])\n"
      ],
      "metadata": {
        "id": "_K9qVBK5mxnr"
      },
      "execution_count": 30,
      "outputs": []
    },
    {
      "cell_type": "code",
      "source": [
        "X_train, X_validation, y_train, y_validation = train_test_split(\n",
        "    windows, targetlist, test_size=0.33, random_state=4,shuffle=False)"
      ],
      "metadata": {
        "id": "Iq8WQZ0YkYjY"
      },
      "execution_count": 31,
      "outputs": []
    },
    {
      "cell_type": "code",
      "source": [
        "\n",
        "# Fit the model to the training data\n",
        "history = model.fit(X_train, y_train, epochs=1800,batch_size=32,validation_data=(X_validation,y_validation))\n",
        "\n",
        "plt.plot(history.history[\"loss\"], label=\"Training loss\")\n",
        "plt.plot(history.history[\"val_loss\"], label=\"val_loss\")\n",
        "plt.xlabel(\"Epoch\")\n",
        "plt.ylabel(\"Loss\")\n",
        "plt.legend()"
      ],
      "metadata": {
        "colab": {
          "base_uri": "https://localhost:8080/"
        },
        "id": "dP7MYgHhnEa8",
        "outputId": "9b31a032-15b9-4adf-9bc0-e847e4619757"
      },
      "execution_count": null,
      "outputs": [
        {
          "output_type": "stream",
          "name": "stdout",
          "text": [
            "Epoch 1/1800\n"
          ]
        }
      ]
    },
    {
      "cell_type": "code",
      "source": [
        "predictions = model.predict(X_validation)\n"
      ],
      "metadata": {
        "id": "L17YKWt3vYFa"
      },
      "execution_count": null,
      "outputs": []
    },
    {
      "cell_type": "code",
      "source": [
        "# Plot the target values\n",
        "plt.plot(y_validation, label=\"Target values\")\n",
        "\n",
        "# Plot the predicted values\n",
        "plt.plot(predictions, label=\"Predicted values\")\n",
        "\n",
        "# Add a legend and labels\n",
        "plt.legend()\n",
        "plt.xlabel(\"Index\")\n",
        "plt.ylabel(\"Values\")\n",
        "\n",
        "#plt.xlim(000,100)\n",
        "# Display the plot\n",
        "plt.show()"
      ],
      "metadata": {
        "id": "O3t6gfrTvdyA"
      },
      "execution_count": null,
      "outputs": []
    }
  ],
  "metadata": {
    "colab": {
      "name": "Welcome To Colaboratory",
      "provenance": [],
      "include_colab_link": true
    },
    "kernelspec": {
      "display_name": "Python 3",
      "name": "python3"
    }
  },
  "nbformat": 4,
  "nbformat_minor": 0
}