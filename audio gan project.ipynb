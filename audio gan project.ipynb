{
  "nbformat": 4,
  "nbformat_minor": 0,
  "metadata": {
    "colab": {
      "provenance": [],
      "mount_file_id": "1maDAB57r2MiKRmETJcgDWZTNZqLEVM6T",
      "authorship_tag": "ABX9TyMZxa0m6p+dZwrJXV/yglrX",
      "include_colab_link": true
    },
    "kernelspec": {
      "name": "python3",
      "display_name": "Python 3"
    },
    "language_info": {
      "name": "python"
    }
  },
  "cells": [
    {
      "cell_type": "markdown",
      "metadata": {
        "id": "view-in-github",
        "colab_type": "text"
      },
      "source": [
        "<a href=\"https://colab.research.google.com/github/aetev/Learning-stuff-/blob/main/audio%20gan%20project.ipynb\" target=\"_parent\"><img src=\"https://colab.research.google.com/assets/colab-badge.svg\" alt=\"Open In Colab\"/></a>"
      ]
    },
    {
      "cell_type": "code",
      "execution_count": 39,
      "metadata": {
        "id": "0orBWeZgUnaw"
      },
      "outputs": [],
      "source": [
        "import numpy as np\n",
        "import scipy.io.wavfile as wav\n",
        "from scipy.signal import stft\n",
        "import matplotlib.pyplot as plt\n",
        "from scipy.io import wavfile\n",
        "import librosa\n"
      ]
    },
    {
      "cell_type": "code",
      "source": [
        "sample_rate, data = wav.read('/content/drive/MyDrive/bass samples/NBKoanbandstuff.wav')"
      ],
      "metadata": {
        "id": "OX1uwIv7eS0G"
      },
      "execution_count": 78,
      "outputs": []
    },
    {
      "cell_type": "code",
      "source": [
        "\n",
        "left_channel = data[:, 0]\n",
        "right_channel = data[:, 1]\n",
        "left_channel = np.array((left_channel))\n",
        "right_channel = np.array((right_channel))\n",
        "print(left_channel)\n",
        "print(right_channel)"
      ],
      "metadata": {
        "colab": {
          "base_uri": "https://localhost:8080/"
        },
        "id": "qNGLV3FHnk85",
        "outputId": "82b66e9e-d902-44ef-b72a-d045df446f41"
      },
      "execution_count": 108,
      "outputs": [
        {
          "output_type": "stream",
          "name": "stdout",
          "text": [
            "[-1.3113022e-06 -7.1525574e-07]\n",
            "[-2.3841858e-07 -1.0728836e-06]\n"
          ]
        }
      ]
    },
    {
      "cell_type": "code",
      "source": [
        "\n",
        "def compute_stft(audio):\n",
        "  # Compute the STFT\n",
        "  f, t, Zxx = stft(data, fs=sample_rate)\n",
        "\n",
        "  # Load STFT array\n",
        "  stft_array = Zxx\n",
        "\n",
        "  return stft_array\n",
        "\n",
        "def compute_stft_to_audio(stft_array):\n",
        "  # Perform ISTFT\n",
        "  audio_signal = librosa.istft(stft_array)\n",
        "\n",
        "  # Normalize audio signal\n",
        "  audio_signal = audio_signal / np.max(np.abs(audio_signal))\n",
        "\n",
        "  # Convert audio signal to 16-bit integers\n",
        "  audio_signal = (audio_signal * 32767).astype(np.int32)\n",
        "\n",
        "  audio_signal = np.delete(audio_signal, 1, axis=0)\n",
        "  return audio_signal[0]"
      ],
      "metadata": {
        "id": "sudiqvUJkLfi"
      },
      "execution_count": 120,
      "outputs": []
    },
    {
      "cell_type": "code",
      "source": [
        "left = compute_stft(left_channel)\n",
        "right = compute_stft(right_channel)\n",
        "\n",
        "left = compute_stft_to_audio(left)\n",
        "right = compute_stft_to_audio(right)\n",
        "\n",
        "\n",
        "combined_array = np.stack((left, right), 1)\n",
        "\n",
        "print(combined_array)\n"
      ],
      "metadata": {
        "colab": {
          "base_uri": "https://localhost:8080/"
        },
        "id": "uYk80PDMqXLQ",
        "outputId": "54598056-14fa-47db-da63-97ca6961666d"
      },
      "execution_count": 121,
      "outputs": [
        {
          "output_type": "stream",
          "name": "stdout",
          "text": [
            "[[-10 -10]\n",
            " [ -8  -8]\n",
            " [ -7  -7]\n",
            " ...\n",
            " [  0   0]\n",
            " [  0   0]\n",
            " [  0   0]]\n"
          ]
        }
      ]
    },
    {
      "cell_type": "code",
      "source": [
        "# Save audio signal as WAV file\n",
        "wavfile.write('output.wav', sample_rate, combined_array)"
      ],
      "metadata": {
        "id": "Ten_z1B9rR5l"
      },
      "execution_count": 118,
      "outputs": []
    }
  ]
}