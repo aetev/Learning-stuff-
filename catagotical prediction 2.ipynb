{
  "cells": [
    {
      "cell_type": "markdown",
      "metadata": {
        "id": "view-in-github",
        "colab_type": "text"
      },
      "source": [
        "<a href=\"https://colab.research.google.com/github/aetev/Learning-stuff-/blob/main/catagotical%20prediction%202.ipynb\" target=\"_parent\"><img src=\"https://colab.research.google.com/assets/colab-badge.svg\" alt=\"Open In Colab\"/></a>"
      ]
    },
    {
      "cell_type": "code",
      "execution_count": 1,
      "metadata": {
        "scrolled": true,
        "colab": {
          "base_uri": "https://localhost:8080/"
        },
        "id": "TCud6sE1yR9B",
        "outputId": "ebc382de-a3bf-44b7-b15e-0f326617bac7"
      },
      "outputs": [
        {
          "output_type": "stream",
          "name": "stdout",
          "text": [
            "Requirement already satisfied: yfinance in /usr/local/lib/python3.10/dist-packages (0.2.33)\n",
            "Requirement already satisfied: pandas>=1.3.0 in /usr/local/lib/python3.10/dist-packages (from yfinance) (1.5.3)\n",
            "Requirement already satisfied: numpy>=1.16.5 in /usr/local/lib/python3.10/dist-packages (from yfinance) (1.23.5)\n",
            "Requirement already satisfied: requests>=2.31 in /usr/local/lib/python3.10/dist-packages (from yfinance) (2.31.0)\n",
            "Requirement already satisfied: multitasking>=0.0.7 in /usr/local/lib/python3.10/dist-packages (from yfinance) (0.0.11)\n",
            "Requirement already satisfied: lxml>=4.9.1 in /usr/local/lib/python3.10/dist-packages (from yfinance) (4.9.3)\n",
            "Requirement already satisfied: appdirs>=1.4.4 in /usr/local/lib/python3.10/dist-packages (from yfinance) (1.4.4)\n",
            "Requirement already satisfied: pytz>=2022.5 in /usr/local/lib/python3.10/dist-packages (from yfinance) (2023.3.post1)\n",
            "Requirement already satisfied: frozendict>=2.3.4 in /usr/local/lib/python3.10/dist-packages (from yfinance) (2.3.10)\n",
            "Requirement already satisfied: peewee>=3.16.2 in /usr/local/lib/python3.10/dist-packages (from yfinance) (3.17.0)\n",
            "Requirement already satisfied: beautifulsoup4>=4.11.1 in /usr/local/lib/python3.10/dist-packages (from yfinance) (4.11.2)\n",
            "Requirement already satisfied: html5lib>=1.1 in /usr/local/lib/python3.10/dist-packages (from yfinance) (1.1)\n",
            "Requirement already satisfied: soupsieve>1.2 in /usr/local/lib/python3.10/dist-packages (from beautifulsoup4>=4.11.1->yfinance) (2.5)\n",
            "Requirement already satisfied: six>=1.9 in /usr/local/lib/python3.10/dist-packages (from html5lib>=1.1->yfinance) (1.16.0)\n",
            "Requirement already satisfied: webencodings in /usr/local/lib/python3.10/dist-packages (from html5lib>=1.1->yfinance) (0.5.1)\n",
            "Requirement already satisfied: python-dateutil>=2.8.1 in /usr/local/lib/python3.10/dist-packages (from pandas>=1.3.0->yfinance) (2.8.2)\n",
            "Requirement already satisfied: charset-normalizer<4,>=2 in /usr/local/lib/python3.10/dist-packages (from requests>=2.31->yfinance) (3.3.2)\n",
            "Requirement already satisfied: idna<4,>=2.5 in /usr/local/lib/python3.10/dist-packages (from requests>=2.31->yfinance) (3.6)\n",
            "Requirement already satisfied: urllib3<3,>=1.21.1 in /usr/local/lib/python3.10/dist-packages (from requests>=2.31->yfinance) (2.0.7)\n",
            "Requirement already satisfied: certifi>=2017.4.17 in /usr/local/lib/python3.10/dist-packages (from requests>=2.31->yfinance) (2023.11.17)\n"
          ]
        }
      ],
      "source": [
        "!pip install yfinance"
      ]
    },
    {
      "cell_type": "code",
      "execution_count": 2,
      "metadata": {
        "id": "MQ3xx6ozshhG"
      },
      "outputs": [],
      "source": [
        "import os\n",
        "os.environ[\"CUDA_VISIBLE_DEVICES\"] = \"-1\""
      ]
    },
    {
      "cell_type": "code",
      "execution_count": 3,
      "metadata": {
        "id": "R8uczkI2c8cJ"
      },
      "outputs": [],
      "source": [
        "import yfinance as yf\n",
        "from datetime import datetime, timedelta\n",
        "import pandas as pd\n",
        "import numpy as np\n",
        "import matplotlib.pyplot as plt\n",
        "from numpy.lib.stride_tricks import sliding_window_view\n",
        "import tracemalloc\n",
        "from scipy.stats import norm\n",
        "from statistics import NormalDist\n",
        "\n",
        "import tensorflow_probability as tfp\n",
        "\n",
        "import tensorflow as tf\n",
        "from tensorflow.keras import layers\n",
        "from tensorflow.keras.models import Sequential\n",
        "from tensorflow.keras.layers import LSTM, Dense, Dropout, BatchNormalization, Concatenate, GaussianNoise\n",
        "from tensorflow.keras.regularizers import l2\n"
      ]
    },
    {
      "cell_type": "markdown",
      "metadata": {
        "id": "2IlkLhMwK4kg"
      },
      "source": [
        "### <font color='purple'><center>**-------------------Create Data-------------------**</font>"
      ]
    },
    {
      "cell_type": "code",
      "execution_count": 4,
      "metadata": {
        "colab": {
          "base_uri": "https://localhost:8080/"
        },
        "id": "EUBzzMx6yR9D",
        "outputId": "39e06657-64f6-4610-ef00-eaf611b18e1f"
      },
      "outputs": [
        {
          "output_type": "stream",
          "name": "stdout",
          "text": [
            "[*********************100%%**********************]  1 of 1 completed\n",
            "[*********************100%%**********************]  1 of 1 completed\n",
            "[*********************100%%**********************]  1 of 1 completed\n",
            "[*********************100%%**********************]  1 of 1 completed\n",
            "[*********************100%%**********************]  1 of 1 completed\n",
            "[*********************100%%**********************]  1 of 1 completed\n",
            "[*********************100%%**********************]  1 of 1 completed\n",
            "[*********************100%%**********************]  1 of 1 completed\n",
            "[*********************100%%**********************]  1 of 1 completed\n",
            "[*********************100%%**********************]  1 of 1 completed\n",
            "[*********************100%%**********************]  1 of 1 completed\n",
            "[*********************100%%**********************]  1 of 1 completed\n",
            "[*********************100%%**********************]  1 of 1 completed\n",
            "[*********************100%%**********************]  1 of 1 completed\n"
          ]
        }
      ],
      "source": [
        "end_date = datetime.now() - timedelta(days=1)\n",
        "start_date = end_date - timedelta(days=728)\n",
        "\n",
        "tickers = [\n",
        "    'EURUSD=X', 'USDEUR=X',  # Euro/US Dollar\n",
        "    'USDJPY=X', 'JPYUSD=X',  # US Dollar/Japanese Yen\n",
        "    'GBPUSD=X', 'USDGBP=X',  # British Pound/US Dollar\n",
        "    'USDCHF=X', 'CHFUSD=X',  # US Dollar/Swiss Franc\n",
        "    'AUDUSD=X', 'USDAUD=X',  # Australian Dollar/US Dollar\n",
        "    'USDCAD=X', 'CADUSD=X',  # US Dollar/Canadian Dollar\n",
        "    'NZDUSD=X', 'USDNZD=X',  # New Zealand Dollar/US Dollar\n",
        "]\n",
        "\n",
        "data_list = []\n",
        "for ticker in tickers:\n",
        "    data = yf.download(ticker, start=start_date, end=end_date, interval='1h')\n",
        "    data_list.append(data)"
      ]
    },
    {
      "cell_type": "code",
      "execution_count": 5,
      "metadata": {
        "id": "DhBnXMUiyR9D"
      },
      "outputs": [],
      "source": [
        "def create_data(raw_data, window_size):\n",
        "    High = raw_data['High'].to_numpy()\n",
        "    Close = raw_data['Close'].to_numpy()\n",
        "    Low = raw_data['Low'].to_numpy()\n",
        "    Std = np.std(np.diff(Close))\n",
        "    Close_Diff = np.diff(Close)/Std\n",
        "    High_Adj = (High[1:]-Close[1:])/Std\n",
        "    Low_Adj = (Close[1:]-Low[1:])/Std\n",
        "\n",
        "    stack = np.stack((Close_Diff, High_Adj, Low_Adj), axis=1)\n",
        "\n",
        "    window_view = np.lib.stride_tricks.sliding_window_view(stack, (window_size,),axis=0)\n",
        "\n",
        "    Forex_Data = window_view[:-1]\n",
        "    Forex_Data = Forex_Data.astype('float32')\n",
        "    target = Close_Diff[window_size:]\n",
        "\n",
        "    return Forex_Data, target\n"
      ]
    },
    {
      "cell_type": "code",
      "execution_count": 6,
      "metadata": {
        "id": "00CUQhbxyR9D"
      },
      "outputs": [],
      "source": [
        "window_list = []\n",
        "target_list = []\n",
        "for data in data_list:\n",
        "    window, target =  create_data(data, 50)\n",
        "    window_list.append(window)\n",
        "    target_list.append(target)\n"
      ]
    },
    {
      "cell_type": "code",
      "source": [
        "print(target_list)"
      ],
      "metadata": {
        "id": "UqwtEYahbT_k",
        "outputId": "891301f5-1f20-4411-a7ab-60c4e686b592",
        "colab": {
          "base_uri": "https://localhost:8080/"
        }
      },
      "execution_count": 13,
      "outputs": [
        {
          "output_type": "stream",
          "name": "stdout",
          "text": [
            "[array([-0.1025164 ,  0.20512808,  0.10261168, ...,  0.0963235 ,\n",
            "        0.19274227,  0.19283755]), array([ 0.08803974, -0.17613199, -0.08809224, ..., -0.08809224,\n",
            "       -0.17613199, -0.17618448]), array([-0.07970181,  0.14347137, -0.30287499, ...,  0.36129325,\n",
            "       -0.15405233, -0.31880724]), array([ 0.11318718, -0.20375531,  0.43031356, ..., -0.32429828,\n",
            "        0.13824283,  0.28627805]), array([ 0.26664414,  0.01068274, -0.08532046, ..., -0.45178813,\n",
            "        0.1056955 ,  0.45192962]), array([-0.21026127, -0.00842248,  0.0672796 , ...,  0.39530523,\n",
            "       -0.09249691, -0.39535536]), array([-0.32700512,  0.8084173 , -0.47231667, ..., -0.66305161,\n",
            "       -0.11813331,  0.19078908]), array([ 0.34197483, -0.84493501,  0.49343443, ...,  0.7865421 ,\n",
            "        0.1402192 , -0.2265226 ]), array([-0.29753957,  0.19989552, -0.72608537, ...,  0.04674036,\n",
            "        0.23420139,  0.14910285]), array([ 0.26041554, -0.17501838,  0.63610198, ..., -0.04692264,\n",
            "       -0.23481675, -0.14941959]), array([-0.07888044,  0.31552177,  0.1261711 , ...,  0.29182943,\n",
            "       -0.0551881 , -0.25243622]), array([ 0.08455089, -0.33812083, -0.13509942, ..., -0.288896  ,\n",
            "        0.05460234,  0.24992978]), array([-0.66055814, -0.42401876, -0.14119861, ..., -0.11944786,\n",
            "        0.        ,  0.6378407 ]), array([ 0.54303801,  0.34910908,  0.11633887, ...,  0.11633887,\n",
            "        0.        , -0.62062808])]\n"
          ]
        }
      ]
    },
    {
      "cell_type": "code",
      "source": [
        "# Assume data is your numpy array and bins is a numpy array defining your bins\n",
        "data = target_list[0]\n",
        "input_data = window_list[0]\n",
        "for i in range(len(target_list)-1):\n",
        "\n",
        "  data = np.append(data,target_list[i+1])\n",
        "  input_data = np.append(input_data, window_list[i+1],axis=0)\n"
      ],
      "metadata": {
        "id": "mqzUaiBdyhfj"
      },
      "execution_count": 7,
      "outputs": []
    },
    {
      "cell_type": "code",
      "source": [
        "print(data)"
      ],
      "metadata": {
        "id": "HN92Lb7xbdbV",
        "outputId": "90ab703c-1f37-42d2-a9dc-e7e2b48092bb",
        "colab": {
          "base_uri": "https://localhost:8080/"
        }
      },
      "execution_count": 27,
      "outputs": [
        {
          "output_type": "stream",
          "name": "stdout",
          "text": [
            "[-0.1025164   0.20512808  0.10261168 ...  0.11633887  0.\n",
            " -0.62062808]\n"
          ]
        }
      ]
    },
    {
      "cell_type": "code",
      "source": [
        "espi = .000001\n",
        "min = np.min(data)-espi\n",
        "max = np.max(data)+espi\n",
        "\n",
        "large = np.max((np.abs(min),np.abs(max)))\n",
        "\n",
        "data2 = data/large*.5\n",
        "data2 = data2+.5\n",
        "\n",
        "stdddd = np.std(data2)\n",
        "meanie = np.mean(data2)\n",
        "\n",
        "inverse_transformed_array = norm.cdf(data2, loc=.5, scale=stdddd*1.5)\n",
        "\n",
        "inverse_transformed_array = (inverse_transformed_array-.5)#*(large/.5)\n",
        "\n"
      ],
      "metadata": {
        "id": "FgGahwtAuyjE"
      },
      "execution_count": 8,
      "outputs": []
    },
    {
      "cell_type": "code",
      "source": [
        "def check_signs(arr1, arr2):\n",
        "  return np.all(np.sign(arr1) == np.sign(arr2))\n",
        "\n",
        "print(check_signs(inverse_transformed_array,data))\n",
        "plt.hist(inverse_transformed_array, bins=30)\n",
        "plt.title(\"Histogram\")\n",
        "plt.show()"
      ],
      "metadata": {
        "colab": {
          "base_uri": "https://localhost:8080/",
          "height": 469
        },
        "id": "JVmKQVIIvBGN",
        "outputId": "b68a3f86-a052-4fe1-d153-712f023a98ba"
      },
      "execution_count": 9,
      "outputs": [
        {
          "output_type": "stream",
          "name": "stdout",
          "text": [
            "True\n"
          ]
        },
        {
          "output_type": "display_data",
          "data": {
            "text/plain": [
              "<Figure size 640x480 with 1 Axes>"
            ],
            "image/png": "[encoded data removed]"
          },
          "metadata": {}
        }
      ]
    },
    {
      "cell_type": "code",
      "source": [
        "\n",
        "bin_num = 51\n",
        "space = .5\n",
        "bins = np.linspace(-space, space, bin_num-1)\n",
        "digitized = np.digitize(inverse_transformed_array, bins, right=False)\n",
        "digitized = tf.keras.utils.to_categorical(digitized)\n",
        "shape = digitized.shape[1]"
      ],
      "metadata": {
        "id": "u4-MyjUQ0Unz"
      },
      "execution_count": 10,
      "outputs": []
    },
    {
      "cell_type": "code",
      "source": [
        "def convert_list(lst):\n",
        "   return [1 if x > 0 else 0 for x in lst]\n",
        "new_data = convert_list(data)\n",
        "digitized = tf.keras.utils.to_categorical(new_data)\n",
        "\n",
        "print(data)\n",
        "print(digitized)"
      ],
      "metadata": {
        "id": "0svhppMac4Jo",
        "outputId": "483e94d0-ac17-4834-ab45-6d5f03e95295",
        "colab": {
          "base_uri": "https://localhost:8080/"
        }
      },
      "execution_count": 43,
      "outputs": [
        {
          "output_type": "stream",
          "name": "stdout",
          "text": [
            "[-0.1025164   0.20512808  0.10261168 ...  0.11633887  0.\n",
            " -0.62062808]\n",
            "[[1. 0.]\n",
            " [0. 1.]\n",
            " [0. 1.]\n",
            " ...\n",
            " [0. 1.]\n",
            " [1. 0.]\n",
            " [1. 0.]]\n"
          ]
        }
      ]
    },
    {
      "cell_type": "code",
      "source": [
        "print(input_data.shape)\n",
        "data2 = np.transpose(input_data, (0, 2, 1))\n",
        "print(data2.shape)"
      ],
      "metadata": {
        "id": "FdIx2WIRNknT",
        "outputId": "3225797d-386f-43f3-f6a1-c4a46349e769",
        "colab": {
          "base_uri": "https://localhost:8080/"
        }
      },
      "execution_count": 29,
      "outputs": [
        {
          "output_type": "stream",
          "name": "stdout",
          "text": [
            "(172230, 3, 50)\n",
            "(172230, 50, 3)\n"
          ]
        }
      ]
    },
    {
      "cell_type": "code",
      "source": [
        "from keras.optimizers import Adam\n",
        "\n",
        "from keras.layers import Conv1D, Flatten , Conv2D\n",
        "\n",
        "Drop_val = .5\n",
        "# Initialize the model\n",
        "model = Sequential()\n",
        "\n",
        "# Add the first Conv1D layer\n",
        "model.add(Conv1D(32, kernel_size=3,strides = 2, activation='relu'))\n",
        "\n",
        "model.add(BatchNormalization())\n",
        "\n",
        "# Add the second Conv1D layer\n",
        "model.add(Conv1D(64, kernel_size=3,strides = 2, activation='relu'))\n",
        "\n",
        "model.add(BatchNormalization())\n",
        "\n",
        "# Add the second Conv1D layer\n",
        "model.add(Conv1D(128, kernel_size=3,strides = 2, activation='relu'))\n",
        "\n",
        "model.add(Flatten())\n",
        "\n",
        "model.add(BatchNormalization())\n",
        "\n",
        "model.add(Dense(100,activation='gelu'))\n",
        "\n",
        "model.add(BatchNormalization())\n",
        "\n",
        "model.add(Dropout(Drop_val))\n",
        "\n",
        "model.add(Dense(50,activation='gelu'))\n",
        "\n",
        "model.add(BatchNormalization())\n",
        "\n",
        "model.add(Dropout(Drop_val))\n",
        "\n",
        "# Add the Dense layer\n",
        "model.add(Dense(2, activation='softmax'))\n",
        "\n",
        "# Compile the model\n",
        "model.compile(loss='categorical_crossentropy', optimizer=Adam(), metrics=['accuracy'])\n",
        "\n"
      ],
      "metadata": {
        "id": "-dwfwkom0Im-"
      },
      "execution_count": null,
      "outputs": []
    },
    {
      "cell_type": "code",
      "source": [
        "# Train the model\n",
        "model.fit(data2, digitized, epochs=200, batch_size=32,validation_split=.2)\n"
      ],
      "metadata": {
        "id": "A1WKOJEqtNgH",
        "outputId": "ef2c1e4b-3e12-4160-9c30-62bd456dc07c",
        "colab": {
          "base_uri": "https://localhost:8080/"
        }
      },
      "execution_count": null,
      "outputs": [
        {
          "output_type": "stream",
          "name": "stdout",
          "text": [
            "Epoch 1/200\n",
            "1348/4306 [========>.....................] - ETA: 25s - loss: 0.6337 - accuracy: 0.6405"
          ]
        }
      ]
    },
    {
      "cell_type": "code",
      "source": [
        "pred = model.predict(data2)\n",
        "num = 50"
      ],
      "metadata": {
        "colab": {
          "base_uri": "https://localhost:8080/"
        },
        "id": "LoMNLWdR4zQX",
        "outputId": "fd488e61-8b2d-4a63-e770-c2dc6fe2f5fc"
      },
      "execution_count": 49,
      "outputs": [
        {
          "output_type": "stream",
          "name": "stdout",
          "text": [
            "5383/5383 [==============================] - 16s 3ms/step\n"
          ]
        }
      ]
    },
    {
      "cell_type": "code",
      "source": [
        "shape = 2\n",
        "for i in range(5):\n",
        "   num += 1\n",
        "   dist = pred[num]\n",
        "\n",
        "   val = target_list[0][num]\n",
        "\n",
        "   values = np.linspace(-space, space, 2)\n",
        "\n",
        "   #round the numbers to one decimal place and only include every other value\n",
        "   values2 = [round(value, shape) for value in values[::5]]\n",
        "\n",
        "   bin_centers = (values[:-1] + values[1:]) / 2\n",
        "   dist2 = dist[:len(bin_centers)]\n",
        "\n",
        "   # Calculate the mean of the distribution\n",
        "   mean = np.sum(dist2 * bin_centers)\n",
        "\n",
        "  # print(mean)\n",
        "  # print(shape)\n",
        "   print(val)\n",
        "\n",
        "   # Create a new figure for each bar chart\n",
        "   plt.figure()\n",
        "\n",
        "   plt.bar(range(shape), dist)\n",
        "   plt.xticks(range(len(dist))[::5], values2)\n",
        "   plt.title(f'Bar Chart for Value {num}')\n",
        "   plt.show()\n",
        "\n"
      ],
      "metadata": {
        "colab": {
          "base_uri": "https://localhost:8080/",
          "height": 1000
        },
        "id": "obTXaQWL46vX",
        "outputId": "674a0c89-a270-45fe-f6c7-e84333432584"
      },
      "execution_count": 53,
      "outputs": [
        {
          "output_type": "stream",
          "name": "stdout",
          "text": [
            "0.5113434392584354\n"
          ]
        },
        {
          "output_type": "display_data",
          "data": {
            "text/plain": [
              "<Figure size 640x480 with 1 Axes>"
            ],
            "image/png": "[encoded data removed]"
          },
          "metadata": {}
        },
        {
          "output_type": "stream",
          "name": "stdout",
          "text": [
            "0.10232585313276685\n"
          ]
        },
        {
          "output_type": "display_data",
          "data": {
            "text/plain": [
              "<Figure size 640x480 with 1 Axes>"
            ],
            "image/png": "[encoded data removed]"
          },
          "metadata": {}
        },
        {
          "output_type": "stream",
          "name": "stdout",
          "text": [
            "-0.4092081370626011\n"
          ]
        },
        {
          "output_type": "display_data",
          "data": {
            "text/plain": [
              "<Figure size 640x480 with 1 Axes>"
            ],
            "image/png": "[encoded data removed]"
          },
          "metadata": {}
        },
        {
          "output_type": "stream",
          "name": "stdout",
          "text": [
            "0.4092081370626011\n"
          ]
        },
        {
          "output_type": "display_data",
          "data": {
            "text/plain": [
              "<Figure size 640x480 with 1 Axes>"
            ],
            "image/png": "[encoded data removed]"
          },
          "metadata": {}
        },
        {
          "output_type": "stream",
          "name": "stdout",
          "text": [
            "-0.2046517062655337\n"
          ]
        },
        {
          "output_type": "display_data",
          "data": {
            "text/plain": [
              "<Figure size 640x480 with 1 Axes>"
            ],
            "image/png": "[encoded data removed]"
          },
          "metadata": {}
        }
      ]
    }
  ],
  "metadata": {
    "colab": {
      "name": "Welcome To Colaboratory",
      "provenance": [],
      "include_colab_link": true
    },
    "kernelspec": {
      "display_name": "Python 3 (ipykernel)",
      "language": "python",
      "name": "python3"
    },
    "language_info": {
      "codemirror_mode": {
        "name": "ipython",
        "version": 3
      },
      "file_extension": ".py",
      "mimetype": "text/x-python",
      "name": "python",
      "nbconvert_exporter": "python",
      "pygments_lexer": "ipython3",
      "version": "3.8.10"
    }
  },
  "nbformat": 4,
  "nbformat_minor": 0
}