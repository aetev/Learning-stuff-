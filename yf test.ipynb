{
  "cells": [
    {
      "cell_type": "markdown",
      "metadata": {
        "id": "view-in-github",
        "colab_type": "text"
      },
      "source": [
        "<a href=\"https://colab.research.google.com/github/aetev/Learning-stuff-/blob/main/yf%20test.ipynb\" target=\"_parent\"><img src=\"https://colab.research.google.com/assets/colab-badge.svg\" alt=\"Open In Colab\"/></a>"
      ]
    },
    {
      "cell_type": "code",
      "source": [
        "import yfinance as yf\n",
        "from datetime import datetime, timedelta\n",
        "import pandas as pd\n",
        "import numpy as np\n",
        "import matplotlib.pyplot as plt\n",
        "from numpy.lib.stride_tricks import sliding_window_view\n",
        "import tensorflow as tf\n",
        "from tensorflow.keras.models import Sequential\n",
        "from tensorflow.keras.layers import LSTM, Dense, Dropout"
      ],
      "metadata": {
        "id": "R8uczkI2c8cJ"
      },
      "execution_count": 62,
      "outputs": []
    },
    {
      "cell_type": "code",
      "source": [
        "# Calculate the date 730 days ago\n",
        "end_date = datetime.now()\n",
        "start_date = end_date - timedelta(days=729)\n",
        "\n",
        "# Download the data\n",
        "data = yf.download('USDJPY=X', start=start_date, end=end_date, interval='1h')\n",
        "\n",
        "# Print the data\n",
        "print(data)"
      ],
      "metadata": {
        "colab": {
          "base_uri": "https://localhost:8080/"
        },
        "id": "1uHZHAsUc_cw",
        "outputId": "bab0bc99-5c4b-41cc-9e44-7e7b64906b24"
      },
      "execution_count": 2,
      "outputs": [
        {
          "output_type": "stream",
          "name": "stdout",
          "text": [
            "\r[*********************100%%**********************]  1 of 1 completed\n",
            "                                 Open        High         Low       Close  \\\n",
            "Datetime                                                                    \n",
            "2021-10-18 07:00:00+01:00  114.316002  114.349998  114.209999  114.320000   \n",
            "2021-10-18 08:00:00+01:00  114.325996  114.457001  114.220001  114.295998   \n",
            "2021-10-18 09:00:00+01:00  114.293999  114.400002  114.199997  114.365997   \n",
            "2021-10-18 10:00:00+01:00  114.360001  114.413002  114.279999  114.379997   \n",
            "2021-10-18 11:00:00+01:00  114.383003  114.440002  114.290001  114.330002   \n",
            "...                               ...         ...         ...         ...   \n",
            "2023-10-16 16:00:00+01:00  149.639008  149.645004  149.546005  149.572998   \n",
            "2023-10-16 17:00:00+01:00  149.570007  149.610001  149.544006  149.578995   \n",
            "2023-10-16 18:00:00+01:00  149.578995  149.613007  149.542007  149.589005   \n",
            "2023-10-16 19:00:00+01:00  149.587997  149.598007  149.511993  149.514008   \n",
            "2023-10-16 20:00:00+01:00  149.511993  149.584000  149.511993  149.546997   \n",
            "\n",
            "                            Adj Close  Volume  \n",
            "Datetime                                       \n",
            "2021-10-18 07:00:00+01:00  114.320000       0  \n",
            "2021-10-18 08:00:00+01:00  114.295998       0  \n",
            "2021-10-18 09:00:00+01:00  114.365997       0  \n",
            "2021-10-18 10:00:00+01:00  114.379997       0  \n",
            "2021-10-18 11:00:00+01:00  114.330002       0  \n",
            "...                               ...     ...  \n",
            "2023-10-16 16:00:00+01:00  149.572998       0  \n",
            "2023-10-16 17:00:00+01:00  149.578995       0  \n",
            "2023-10-16 18:00:00+01:00  149.589005       0  \n",
            "2023-10-16 19:00:00+01:00  149.514008       0  \n",
            "2023-10-16 20:00:00+01:00  149.546997       0  \n",
            "\n",
            "[12315 rows x 6 columns]\n"
          ]
        }
      ]
    },
    {
      "cell_type": "code",
      "source": [
        "High = data['High'].to_numpy()\n",
        "Close = data['Close'].to_numpy()\n",
        "Low = data['Low'].to_numpy()\n",
        "Std = np.std(np.diff(Close))\n",
        "Close_Diff = np.diff(Close)/Std\n",
        "High_Adj = (High[1:]-Close[1:])/Std\n",
        "Low_Adj = (Close[1:]-Low[1:])/Std"
      ],
      "metadata": {
        "id": "_pteR2bFg43J"
      },
      "execution_count": 3,
      "outputs": []
    },
    {
      "cell_type": "code",
      "source": [
        "stack = np.stack((Close_Diff, High_Adj, Low_Adj), axis=1)\n",
        "print(stack)"
      ],
      "metadata": {
        "colab": {
          "base_uri": "https://localhost:8080/"
        },
        "id": "phmsBJRwEQAX",
        "outputId": "eeb700e6-1558-4a84-817e-cfc6fb60780d"
      },
      "execution_count": 13,
      "outputs": [
        {
          "output_type": "stream",
          "name": "stdout",
          "text": [
            "[[-0.13078083  0.87726249  0.41408386]\n",
            " [ 0.38140943  0.18527977  0.90449117]\n",
            " [ 0.07628189  0.17983403  0.54486468]\n",
            " ...\n",
            " [ 0.05454051  0.13078083  0.25607435]\n",
            " [-0.40863812  0.45769132  0.01097461]\n",
            " [ 0.17975089  0.20161698  0.1907255 ]]\n"
          ]
        }
      ]
    },
    {
      "cell_type": "code",
      "source": [
        "\n",
        "# Define the window size and shift\n",
        "window_size = 100\n",
        "shift = 1\n",
        "\n",
        "# Create the sliding window dataset\n",
        "dataset = tf.keras.utils.timeseries_dataset_from_array(\n",
        "    stack,\n",
        "    targets=None,  # No targets provided, as we are only interested in the input\n",
        "    sequence_length=window_size,\n",
        "    sequence_stride=shift,\n",
        "    batch_size=None,\n",
        "    shuffle=False  # Set to True if you want to shuffle the windows\n",
        ")\n",
        "\n",
        "print(dataset.take(0))"
      ],
      "metadata": {
        "colab": {
          "base_uri": "https://localhost:8080/"
        },
        "id": "a9XwZxB5FX2i",
        "outputId": "5af57b00-fb3a-4867-84cc-6b568dd06137"
      },
      "execution_count": 94,
      "outputs": [
        {
          "output_type": "stream",
          "name": "stdout",
          "text": [
            "<_TakeDataset element_spec=TensorSpec(shape=(None, 3), dtype=tf.float64, name=None)>\n"
          ]
        }
      ]
    },
    {
      "cell_type": "code",
      "source": [
        "window_view = np.lib.stride_tricks.sliding_window_view(stack, (window_size,),axis=0)"
      ],
      "metadata": {
        "id": "THv9cmvhmfEG"
      },
      "execution_count": 95,
      "outputs": []
    },
    {
      "cell_type": "code",
      "source": [
        "print(window_view[0])\n",
        "input = window_view[:-1]\n",
        "target = Close_Diff[window_size:]\n",
        "print(target)"
      ],
      "metadata": {
        "colab": {
          "base_uri": "https://localhost:8080/"
        },
        "id": "h_w0wsB0EGOL",
        "outputId": "5ce898e1-c0a5-4b07-e08e-bea5527631ba"
      },
      "execution_count": 93,
      "outputs": [
        {
          "output_type": "stream",
          "name": "stdout",
          "text": [
            "[[-0.13078083  0.38140943  0.07628189 -0.27241156  0.22884566 -0.51219026\n",
            "  -0.35962649  0.14711804 -0.08717336  0.        ]\n",
            " [ 0.87726249  0.18527977  0.17983403  0.59936362  0.17434672  0.55575616\n",
            "   0.60480936  0.29423607  0.43046264  0.27245313]\n",
            " [ 0.41408386  0.90449117  0.54486468  0.21795419  0.6102551   1.02438052\n",
            "   0.39230091  0.70287419  0.17979246  0.17979246]]\n",
            "[-0.07083615  0.27245313  0.3269105  ...  0.05454051 -0.40863812\n",
            "  0.17975089]\n"
          ]
        }
      ]
    },
    {
      "cell_type": "code",
      "source": [
        "model = Sequential()\n",
        "model.add(LSTM(units=64,activation = 'gelu',return_sequences=True))\n",
        "model.add(Dropout(.4))\n",
        "model.add(LSTM(units=24,activation = 'gelu',return_sequences=False))\n",
        "model.add(Dropout(.4))\n",
        "model.add(Dense(units=10,activation='gelu'))\n",
        "model.add(Dropout(.4))\n",
        "model.add(Dense(units=1,activation=None))"
      ],
      "metadata": {
        "id": "WUbyuhiiKIEY"
      },
      "execution_count": 99,
      "outputs": []
    },
    {
      "cell_type": "code",
      "source": [
        "model.compile(optimizer='adam', loss='mean_squared_error')"
      ],
      "metadata": {
        "id": "TFAlsuiJKLYU"
      },
      "execution_count": 100,
      "outputs": []
    },
    {
      "cell_type": "code",
      "source": [
        "model.fit(input, target, epochs=200, batch_size=64,validation_split=.2)"
      ],
      "metadata": {
        "id": "OwR3qkqVKO-T",
        "outputId": "e43603d8-e346-46e9-d6b0-9c277dd01942",
        "colab": {
          "base_uri": "https://localhost:8080/",
          "height": 1000
        }
      },
      "execution_count": 101,
      "outputs": [
        {
          "output_type": "stream",
          "name": "stdout",
          "text": [
            "Epoch 1/200\n",
            "154/154 [==============================] - 5s 9ms/step - loss: 1.0824 - val_loss: 0.6767\n",
            "Epoch 2/200\n",
            "154/154 [==============================] - 1s 8ms/step - loss: 1.0816 - val_loss: 0.6769\n",
            "Epoch 3/200\n",
            "154/154 [==============================] - 1s 10ms/step - loss: 1.0831 - val_loss: 0.6774\n",
            "Epoch 4/200\n",
            "154/154 [==============================] - 1s 8ms/step - loss: 1.0801 - val_loss: 0.6767\n",
            "Epoch 5/200\n",
            "154/154 [==============================] - 1s 7ms/step - loss: 1.0784 - val_loss: 0.6773\n",
            "Epoch 6/200\n",
            "154/154 [==============================] - 1s 8ms/step - loss: 1.0790 - val_loss: 0.6768\n",
            "Epoch 7/200\n",
            "154/154 [==============================] - 1s 7ms/step - loss: 1.0786 - val_loss: 0.6763\n",
            "Epoch 8/200\n",
            "154/154 [==============================] - 1s 8ms/step - loss: 1.0694 - val_loss: 0.6766\n",
            "Epoch 9/200\n",
            "154/154 [==============================] - 1s 8ms/step - loss: 1.0677 - val_loss: 0.6767\n",
            "Epoch 10/200\n",
            "154/154 [==============================] - 1s 7ms/step - loss: 1.0748 - val_loss: 0.6766\n",
            "Epoch 11/200\n",
            "154/154 [==============================] - 1s 7ms/step - loss: 1.0674 - val_loss: 0.6767\n",
            "Epoch 12/200\n",
            "154/154 [==============================] - 1s 7ms/step - loss: 1.0743 - val_loss: 0.6772\n",
            "Epoch 13/200\n",
            "154/154 [==============================] - 2s 10ms/step - loss: 1.0713 - val_loss: 0.6771\n",
            "Epoch 14/200\n",
            "154/154 [==============================] - 1s 9ms/step - loss: 1.0668 - val_loss: 0.6783\n",
            "Epoch 15/200\n",
            "154/154 [==============================] - 1s 8ms/step - loss: 1.0693 - val_loss: 0.6773\n",
            "Epoch 16/200\n",
            "154/154 [==============================] - 1s 7ms/step - loss: 1.0757 - val_loss: 0.6773\n",
            "Epoch 17/200\n",
            "154/154 [==============================] - 1s 7ms/step - loss: 1.0580 - val_loss: 0.6786\n",
            "Epoch 18/200\n",
            "154/154 [==============================] - 1s 7ms/step - loss: 1.0812 - val_loss: 0.6774\n",
            "Epoch 19/200\n",
            "154/154 [==============================] - 1s 7ms/step - loss: 1.0585 - val_loss: 0.6780\n",
            "Epoch 20/200\n",
            "154/154 [==============================] - 1s 7ms/step - loss: 1.0593 - val_loss: 0.6784\n",
            "Epoch 21/200\n",
            "154/154 [==============================] - 1s 7ms/step - loss: 1.0612 - val_loss: 0.6789\n",
            "Epoch 22/200\n",
            "154/154 [==============================] - 1s 7ms/step - loss: 1.0627 - val_loss: 0.6773\n",
            "Epoch 23/200\n",
            "154/154 [==============================] - 2s 10ms/step - loss: 1.0681 - val_loss: 0.6767\n",
            "Epoch 24/200\n",
            "154/154 [==============================] - 1s 8ms/step - loss: 1.0679 - val_loss: 0.6776\n",
            "Epoch 25/200\n",
            "154/154 [==============================] - 1s 7ms/step - loss: 1.0564 - val_loss: 0.6787\n",
            "Epoch 26/200\n",
            "154/154 [==============================] - 1s 8ms/step - loss: 1.0586 - val_loss: 0.6787\n",
            "Epoch 27/200\n",
            "154/154 [==============================] - 1s 7ms/step - loss: 1.0511 - val_loss: 0.6799\n",
            "Epoch 28/200\n",
            "154/154 [==============================] - 1s 7ms/step - loss: 1.0506 - val_loss: 0.6798\n",
            "Epoch 29/200\n",
            "154/154 [==============================] - 1s 8ms/step - loss: 1.0480 - val_loss: 0.6810\n",
            "Epoch 30/200\n",
            "154/154 [==============================] - 1s 8ms/step - loss: 1.0758 - val_loss: 0.6801\n",
            "Epoch 31/200\n",
            "154/154 [==============================] - 1s 8ms/step - loss: 1.0670 - val_loss: 0.6798\n",
            "Epoch 32/200\n",
            "154/154 [==============================] - 1s 9ms/step - loss: 1.0469 - val_loss: 0.6806\n",
            "Epoch 33/200\n",
            "154/154 [==============================] - 1s 10ms/step - loss: 1.0543 - val_loss: 0.6804\n",
            "Epoch 34/200\n",
            "154/154 [==============================] - 1s 7ms/step - loss: 1.0529 - val_loss: 0.6810\n",
            "Epoch 35/200\n",
            "154/154 [==============================] - 1s 7ms/step - loss: 1.0368 - val_loss: 0.6807\n",
            "Epoch 36/200\n",
            "154/154 [==============================] - 1s 8ms/step - loss: 1.0390 - val_loss: 0.6845\n",
            "Epoch 37/200\n",
            "154/154 [==============================] - 1s 7ms/step - loss: 1.0395 - val_loss: 0.6812\n",
            "Epoch 38/200\n",
            "154/154 [==============================] - 1s 7ms/step - loss: 1.0266 - val_loss: 0.6844\n",
            "Epoch 39/200\n",
            "154/154 [==============================] - 1s 8ms/step - loss: 1.0260 - val_loss: 0.6865\n",
            "Epoch 40/200\n",
            "154/154 [==============================] - 1s 7ms/step - loss: 1.0382 - val_loss: 0.6858\n",
            "Epoch 41/200\n",
            "154/154 [==============================] - 1s 7ms/step - loss: 1.0593 - val_loss: 0.6841\n",
            "Epoch 42/200\n",
            "154/154 [==============================] - 1s 9ms/step - loss: 1.0204 - val_loss: 0.6854\n",
            "Epoch 43/200\n",
            "154/154 [==============================] - 2s 10ms/step - loss: 0.9848 - val_loss: 0.6875\n",
            "Epoch 44/200\n",
            "154/154 [==============================] - 1s 8ms/step - loss: 1.0423 - val_loss: 0.6841\n",
            "Epoch 45/200\n",
            "154/154 [==============================] - 1s 7ms/step - loss: 1.0036 - val_loss: 0.6852\n",
            "Epoch 46/200\n",
            "154/154 [==============================] - 1s 7ms/step - loss: 1.0059 - val_loss: 0.6898\n",
            "Epoch 47/200\n",
            "154/154 [==============================] - 1s 7ms/step - loss: 1.0008 - val_loss: 0.6873\n",
            "Epoch 48/200\n",
            "154/154 [==============================] - 1s 7ms/step - loss: 1.0033 - val_loss: 0.6870\n",
            "Epoch 49/200\n",
            "154/154 [==============================] - 1s 8ms/step - loss: 1.0018 - val_loss: 0.6836\n",
            "Epoch 50/200\n",
            "154/154 [==============================] - 1s 8ms/step - loss: 0.9910 - val_loss: 0.6843\n",
            "Epoch 51/200\n",
            "154/154 [==============================] - 1s 8ms/step - loss: 0.9944 - val_loss: 0.6865\n",
            "Epoch 52/200\n",
            "154/154 [==============================] - 1s 9ms/step - loss: 1.0062 - val_loss: 0.6871\n",
            "Epoch 53/200\n",
            "154/154 [==============================] - 1s 9ms/step - loss: 1.0205 - val_loss: 0.6850\n",
            "Epoch 54/200\n",
            "154/154 [==============================] - 1s 7ms/step - loss: 1.0157 - val_loss: 0.6873\n",
            "Epoch 55/200\n",
            "154/154 [==============================] - 1s 7ms/step - loss: 1.0067 - val_loss: 0.6976\n",
            "Epoch 56/200\n",
            "154/154 [==============================] - 1s 8ms/step - loss: 0.9976 - val_loss: 0.6919\n",
            "Epoch 57/200\n",
            "154/154 [==============================] - 1s 7ms/step - loss: 1.0256 - val_loss: 0.6954\n",
            "Epoch 58/200\n",
            "154/154 [==============================] - 1s 8ms/step - loss: 0.9904 - val_loss: 0.6898\n",
            "Epoch 59/200\n",
            "154/154 [==============================] - 1s 8ms/step - loss: 0.9696 - val_loss: 0.6860\n",
            "Epoch 60/200\n",
            "154/154 [==============================] - 1s 8ms/step - loss: 0.9812 - val_loss: 0.6862\n",
            "Epoch 61/200\n",
            "154/154 [==============================] - 1s 8ms/step - loss: 1.0395 - val_loss: 0.6862\n",
            "Epoch 62/200\n",
            "154/154 [==============================] - 2s 10ms/step - loss: 1.0074 - val_loss: 0.6903\n",
            "Epoch 63/200\n",
            "154/154 [==============================] - 1s 8ms/step - loss: 0.9912 - val_loss: 0.6923\n",
            "Epoch 64/200\n",
            "154/154 [==============================] - 1s 8ms/step - loss: 0.9577 - val_loss: 0.6981\n",
            "Epoch 65/200\n",
            "154/154 [==============================] - 1s 7ms/step - loss: 0.9736 - val_loss: 0.6933\n",
            "Epoch 66/200\n",
            "154/154 [==============================] - 1s 7ms/step - loss: 0.9885 - val_loss: 0.6942\n",
            "Epoch 67/200\n",
            "154/154 [==============================] - 1s 7ms/step - loss: 0.9902 - val_loss: 0.6895\n",
            "Epoch 68/200\n",
            "154/154 [==============================] - 1s 8ms/step - loss: 0.9973 - val_loss: 0.6911\n",
            "Epoch 69/200\n",
            "154/154 [==============================] - 1s 8ms/step - loss: 0.9917 - val_loss: 0.6882\n",
            "Epoch 70/200\n",
            "154/154 [==============================] - 1s 8ms/step - loss: 0.9954 - val_loss: 0.6897\n",
            "Epoch 71/200\n",
            "154/154 [==============================] - 1s 9ms/step - loss: 0.9818 - val_loss: 0.6928\n",
            "Epoch 72/200\n",
            "154/154 [==============================] - 1s 10ms/step - loss: 0.9341 - val_loss: 0.6960\n",
            "Epoch 73/200\n",
            "154/154 [==============================] - 1s 7ms/step - loss: 0.9698 - val_loss: 0.6870\n",
            "Epoch 74/200\n",
            "154/154 [==============================] - 1s 7ms/step - loss: 0.9554 - val_loss: 0.6922\n",
            "Epoch 75/200\n",
            "154/154 [==============================] - 1s 7ms/step - loss: 0.9585 - val_loss: 0.6985\n",
            "Epoch 76/200\n",
            "154/154 [==============================] - 1s 8ms/step - loss: 0.9629 - val_loss: 0.6934\n",
            "Epoch 77/200\n",
            "154/154 [==============================] - 1s 7ms/step - loss: 1.0068 - val_loss: 0.6883\n",
            "Epoch 78/200\n",
            "154/154 [==============================] - 1s 7ms/step - loss: 0.9696 - val_loss: 0.6904\n",
            "Epoch 79/200\n",
            "154/154 [==============================] - 1s 7ms/step - loss: 0.9407 - val_loss: 0.6940\n",
            "Epoch 80/200\n",
            "154/154 [==============================] - 1s 8ms/step - loss: 0.9487 - val_loss: 0.6924\n",
            "Epoch 81/200\n",
            "154/154 [==============================] - 1s 10ms/step - loss: 0.9504 - val_loss: 0.6921\n",
            "Epoch 82/200\n",
            "154/154 [==============================] - 1s 9ms/step - loss: 0.9372 - val_loss: 0.6953\n",
            "Epoch 83/200\n",
            "154/154 [==============================] - 1s 7ms/step - loss: 1.0300 - val_loss: 0.6901\n",
            "Epoch 84/200\n",
            "154/154 [==============================] - 1s 7ms/step - loss: 0.9761 - val_loss: 0.6972\n",
            "Epoch 85/200\n",
            "154/154 [==============================] - 1s 8ms/step - loss: 0.9604 - val_loss: 0.6947\n",
            "Epoch 86/200\n",
            "154/154 [==============================] - 1s 7ms/step - loss: 0.9982 - val_loss: 0.6958\n",
            "Epoch 87/200\n",
            "100/154 [==================>...........] - ETA: 0s - loss: 0.9072"
          ]
        },
        {
          "output_type": "error",
          "ename": "KeyboardInterrupt",
          "evalue": "ignored",
          "traceback": [
            "\u001b[0;31m---------------------------------------------------------------------------\u001b[0m",
            "\u001b[0;31mKeyboardInterrupt\u001b[0m                         Traceback (most recent call last)",
            "\u001b[0;32m<ipython-input-101-c9b5beab0963>\u001b[0m in \u001b[0;36m<cell line: 1>\u001b[0;34m()\u001b[0m\n\u001b[0;32m----> 1\u001b[0;31m \u001b[0mmodel\u001b[0m\u001b[0;34m.\u001b[0m\u001b[0mfit\u001b[0m\u001b[0;34m(\u001b[0m\u001b[0minput\u001b[0m\u001b[0;34m,\u001b[0m \u001b[0mtarget\u001b[0m\u001b[0;34m,\u001b[0m \u001b[0mepochs\u001b[0m\u001b[0;34m=\u001b[0m\u001b[0;36m200\u001b[0m\u001b[0;34m,\u001b[0m \u001b[0mbatch_size\u001b[0m\u001b[0;34m=\u001b[0m\u001b[0;36m64\u001b[0m\u001b[0;34m,\u001b[0m\u001b[0mvalidation_split\u001b[0m\u001b[0;34m=\u001b[0m\u001b[0;36m.2\u001b[0m\u001b[0;34m)\u001b[0m\u001b[0;34m\u001b[0m\u001b[0;34m\u001b[0m\u001b[0m\n\u001b[0m",
            "\u001b[0;32m/usr/local/lib/python3.10/dist-packages/keras/src/utils/traceback_utils.py\u001b[0m in \u001b[0;36merror_handler\u001b[0;34m(*args, **kwargs)\u001b[0m\n\u001b[1;32m     63\u001b[0m         \u001b[0mfiltered_tb\u001b[0m \u001b[0;34m=\u001b[0m \u001b[0;32mNone\u001b[0m\u001b[0;34m\u001b[0m\u001b[0;34m\u001b[0m\u001b[0m\n\u001b[1;32m     64\u001b[0m         \u001b[0;32mtry\u001b[0m\u001b[0;34m:\u001b[0m\u001b[0;34m\u001b[0m\u001b[0;34m\u001b[0m\u001b[0m\n\u001b[0;32m---> 65\u001b[0;31m             \u001b[0;32mreturn\u001b[0m \u001b[0mfn\u001b[0m\u001b[0;34m(\u001b[0m\u001b[0;34m*\u001b[0m\u001b[0margs\u001b[0m\u001b[0;34m,\u001b[0m \u001b[0;34m**\u001b[0m\u001b[0mkwargs\u001b[0m\u001b[0;34m)\u001b[0m\u001b[0;34m\u001b[0m\u001b[0;34m\u001b[0m\u001b[0m\n\u001b[0m\u001b[1;32m     66\u001b[0m         \u001b[0;32mexcept\u001b[0m \u001b[0mException\u001b[0m \u001b[0;32mas\u001b[0m \u001b[0me\u001b[0m\u001b[0;34m:\u001b[0m\u001b[0;34m\u001b[0m\u001b[0;34m\u001b[0m\u001b[0m\n\u001b[1;32m     67\u001b[0m             \u001b[0mfiltered_tb\u001b[0m \u001b[0;34m=\u001b[0m \u001b[0m_process_traceback_frames\u001b[0m\u001b[0;34m(\u001b[0m\u001b[0me\u001b[0m\u001b[0;34m.\u001b[0m\u001b[0m__traceback__\u001b[0m\u001b[0;34m)\u001b[0m\u001b[0;34m\u001b[0m\u001b[0;34m\u001b[0m\u001b[0m\n",
            "\u001b[0;32m/usr/local/lib/python3.10/dist-packages/keras/src/engine/training.py\u001b[0m in \u001b[0;36mfit\u001b[0;34m(self, x, y, batch_size, epochs, verbose, callbacks, validation_split, validation_data, shuffle, class_weight, sample_weight, initial_epoch, steps_per_epoch, validation_steps, validation_batch_size, validation_freq, max_queue_size, workers, use_multiprocessing)\u001b[0m\n\u001b[1;32m   1740\u001b[0m                         ):\n\u001b[1;32m   1741\u001b[0m                             \u001b[0mcallbacks\u001b[0m\u001b[0;34m.\u001b[0m\u001b[0mon_train_batch_begin\u001b[0m\u001b[0;34m(\u001b[0m\u001b[0mstep\u001b[0m\u001b[0;34m)\u001b[0m\u001b[0;34m\u001b[0m\u001b[0;34m\u001b[0m\u001b[0m\n\u001b[0;32m-> 1742\u001b[0;31m                             \u001b[0mtmp_logs\u001b[0m \u001b[0;34m=\u001b[0m \u001b[0mself\u001b[0m\u001b[0;34m.\u001b[0m\u001b[0mtrain_function\u001b[0m\u001b[0;34m(\u001b[0m\u001b[0miterator\u001b[0m\u001b[0;34m)\u001b[0m\u001b[0;34m\u001b[0m\u001b[0;34m\u001b[0m\u001b[0m\n\u001b[0m\u001b[1;32m   1743\u001b[0m                             \u001b[0;32mif\u001b[0m \u001b[0mdata_handler\u001b[0m\u001b[0;34m.\u001b[0m\u001b[0mshould_sync\u001b[0m\u001b[0;34m:\u001b[0m\u001b[0;34m\u001b[0m\u001b[0;34m\u001b[0m\u001b[0m\n\u001b[1;32m   1744\u001b[0m                                 \u001b[0mcontext\u001b[0m\u001b[0;34m.\u001b[0m\u001b[0masync_wait\u001b[0m\u001b[0;34m(\u001b[0m\u001b[0;34m)\u001b[0m\u001b[0;34m\u001b[0m\u001b[0;34m\u001b[0m\u001b[0m\n",
            "\u001b[0;32m/usr/local/lib/python3.10/dist-packages/tensorflow/python/util/traceback_utils.py\u001b[0m in \u001b[0;36merror_handler\u001b[0;34m(*args, **kwargs)\u001b[0m\n\u001b[1;32m    148\u001b[0m     \u001b[0mfiltered_tb\u001b[0m \u001b[0;34m=\u001b[0m \u001b[0;32mNone\u001b[0m\u001b[0;34m\u001b[0m\u001b[0;34m\u001b[0m\u001b[0m\n\u001b[1;32m    149\u001b[0m     \u001b[0;32mtry\u001b[0m\u001b[0;34m:\u001b[0m\u001b[0;34m\u001b[0m\u001b[0;34m\u001b[0m\u001b[0m\n\u001b[0;32m--> 150\u001b[0;31m       \u001b[0;32mreturn\u001b[0m \u001b[0mfn\u001b[0m\u001b[0;34m(\u001b[0m\u001b[0;34m*\u001b[0m\u001b[0margs\u001b[0m\u001b[0;34m,\u001b[0m \u001b[0;34m**\u001b[0m\u001b[0mkwargs\u001b[0m\u001b[0;34m)\u001b[0m\u001b[0;34m\u001b[0m\u001b[0;34m\u001b[0m\u001b[0m\n\u001b[0m\u001b[1;32m    151\u001b[0m     \u001b[0;32mexcept\u001b[0m \u001b[0mException\u001b[0m \u001b[0;32mas\u001b[0m \u001b[0me\u001b[0m\u001b[0;34m:\u001b[0m\u001b[0;34m\u001b[0m\u001b[0;34m\u001b[0m\u001b[0m\n\u001b[1;32m    152\u001b[0m       \u001b[0mfiltered_tb\u001b[0m \u001b[0;34m=\u001b[0m \u001b[0m_process_traceback_frames\u001b[0m\u001b[0;34m(\u001b[0m\u001b[0me\u001b[0m\u001b[0;34m.\u001b[0m\u001b[0m__traceback__\u001b[0m\u001b[0;34m)\u001b[0m\u001b[0;34m\u001b[0m\u001b[0;34m\u001b[0m\u001b[0m\n",
            "\u001b[0;32m/usr/local/lib/python3.10/dist-packages/tensorflow/python/eager/polymorphic_function/polymorphic_function.py\u001b[0m in \u001b[0;36m__call__\u001b[0;34m(self, *args, **kwds)\u001b[0m\n\u001b[1;32m    823\u001b[0m \u001b[0;34m\u001b[0m\u001b[0m\n\u001b[1;32m    824\u001b[0m       \u001b[0;32mwith\u001b[0m \u001b[0mOptionalXlaContext\u001b[0m\u001b[0;34m(\u001b[0m\u001b[0mself\u001b[0m\u001b[0;34m.\u001b[0m\u001b[0m_jit_compile\u001b[0m\u001b[0;34m)\u001b[0m\u001b[0;34m:\u001b[0m\u001b[0;34m\u001b[0m\u001b[0;34m\u001b[0m\u001b[0m\n\u001b[0;32m--> 825\u001b[0;31m         \u001b[0mresult\u001b[0m \u001b[0;34m=\u001b[0m \u001b[0mself\u001b[0m\u001b[0;34m.\u001b[0m\u001b[0m_call\u001b[0m\u001b[0;34m(\u001b[0m\u001b[0;34m*\u001b[0m\u001b[0margs\u001b[0m\u001b[0;34m,\u001b[0m \u001b[0;34m**\u001b[0m\u001b[0mkwds\u001b[0m\u001b[0;34m)\u001b[0m\u001b[0;34m\u001b[0m\u001b[0;34m\u001b[0m\u001b[0m\n\u001b[0m\u001b[1;32m    826\u001b[0m \u001b[0;34m\u001b[0m\u001b[0m\n\u001b[1;32m    827\u001b[0m       \u001b[0mnew_tracing_count\u001b[0m \u001b[0;34m=\u001b[0m \u001b[0mself\u001b[0m\u001b[0;34m.\u001b[0m\u001b[0mexperimental_get_tracing_count\u001b[0m\u001b[0;34m(\u001b[0m\u001b[0;34m)\u001b[0m\u001b[0;34m\u001b[0m\u001b[0;34m\u001b[0m\u001b[0m\n",
            "\u001b[0;32m/usr/local/lib/python3.10/dist-packages/tensorflow/python/eager/polymorphic_function/polymorphic_function.py\u001b[0m in \u001b[0;36m_call\u001b[0;34m(self, *args, **kwds)\u001b[0m\n\u001b[1;32m    855\u001b[0m       \u001b[0;31m# In this case we have created variables on the first call, so we run the\u001b[0m\u001b[0;34m\u001b[0m\u001b[0;34m\u001b[0m\u001b[0m\n\u001b[1;32m    856\u001b[0m       \u001b[0;31m# defunned version which is guaranteed to never create variables.\u001b[0m\u001b[0;34m\u001b[0m\u001b[0;34m\u001b[0m\u001b[0m\n\u001b[0;32m--> 857\u001b[0;31m       \u001b[0;32mreturn\u001b[0m \u001b[0mself\u001b[0m\u001b[0;34m.\u001b[0m\u001b[0m_no_variable_creation_fn\u001b[0m\u001b[0;34m(\u001b[0m\u001b[0;34m*\u001b[0m\u001b[0margs\u001b[0m\u001b[0;34m,\u001b[0m \u001b[0;34m**\u001b[0m\u001b[0mkwds\u001b[0m\u001b[0;34m)\u001b[0m  \u001b[0;31m# pylint: disable=not-callable\u001b[0m\u001b[0;34m\u001b[0m\u001b[0;34m\u001b[0m\u001b[0m\n\u001b[0m\u001b[1;32m    858\u001b[0m     \u001b[0;32melif\u001b[0m \u001b[0mself\u001b[0m\u001b[0;34m.\u001b[0m\u001b[0m_variable_creation_fn\u001b[0m \u001b[0;32mis\u001b[0m \u001b[0;32mnot\u001b[0m \u001b[0;32mNone\u001b[0m\u001b[0;34m:\u001b[0m\u001b[0;34m\u001b[0m\u001b[0;34m\u001b[0m\u001b[0m\n\u001b[1;32m    859\u001b[0m       \u001b[0;31m# Release the lock early so that multiple threads can perform the call\u001b[0m\u001b[0;34m\u001b[0m\u001b[0;34m\u001b[0m\u001b[0m\n",
            "\u001b[0;32m/usr/local/lib/python3.10/dist-packages/tensorflow/python/eager/polymorphic_function/tracing_compiler.py\u001b[0m in \u001b[0;36m__call__\u001b[0;34m(self, *args, **kwargs)\u001b[0m\n\u001b[1;32m    146\u001b[0m       (concrete_function,\n\u001b[1;32m    147\u001b[0m        filtered_flat_args) = self._maybe_define_function(args, kwargs)\n\u001b[0;32m--> 148\u001b[0;31m     return concrete_function._call_flat(\n\u001b[0m\u001b[1;32m    149\u001b[0m         filtered_flat_args, captured_inputs=concrete_function.captured_inputs)  # pylint: disable=protected-access\n\u001b[1;32m    150\u001b[0m \u001b[0;34m\u001b[0m\u001b[0m\n",
            "\u001b[0;32m/usr/local/lib/python3.10/dist-packages/tensorflow/python/eager/polymorphic_function/monomorphic_function.py\u001b[0m in \u001b[0;36m_call_flat\u001b[0;34m(self, args, captured_inputs)\u001b[0m\n\u001b[1;32m   1347\u001b[0m         and executing_eagerly):\n\u001b[1;32m   1348\u001b[0m       \u001b[0;31m# No tape is watching; skip to running the function.\u001b[0m\u001b[0;34m\u001b[0m\u001b[0;34m\u001b[0m\u001b[0m\n\u001b[0;32m-> 1349\u001b[0;31m       \u001b[0;32mreturn\u001b[0m \u001b[0mself\u001b[0m\u001b[0;34m.\u001b[0m\u001b[0m_build_call_outputs\u001b[0m\u001b[0;34m(\u001b[0m\u001b[0mself\u001b[0m\u001b[0;34m.\u001b[0m\u001b[0m_inference_function\u001b[0m\u001b[0;34m(\u001b[0m\u001b[0;34m*\u001b[0m\u001b[0margs\u001b[0m\u001b[0;34m)\u001b[0m\u001b[0;34m)\u001b[0m\u001b[0;34m\u001b[0m\u001b[0;34m\u001b[0m\u001b[0m\n\u001b[0m\u001b[1;32m   1350\u001b[0m     forward_backward = self._select_forward_and_backward_functions(\n\u001b[1;32m   1351\u001b[0m         \u001b[0margs\u001b[0m\u001b[0;34m,\u001b[0m\u001b[0;34m\u001b[0m\u001b[0;34m\u001b[0m\u001b[0m\n",
            "\u001b[0;32m/usr/local/lib/python3.10/dist-packages/tensorflow/python/eager/polymorphic_function/atomic_function.py\u001b[0m in \u001b[0;36m__call__\u001b[0;34m(self, *args)\u001b[0m\n\u001b[1;32m    194\u001b[0m         \u001b[0;32mwith\u001b[0m \u001b[0mrecord\u001b[0m\u001b[0;34m.\u001b[0m\u001b[0mstop_recording\u001b[0m\u001b[0;34m(\u001b[0m\u001b[0;34m)\u001b[0m\u001b[0;34m:\u001b[0m\u001b[0;34m\u001b[0m\u001b[0;34m\u001b[0m\u001b[0m\n\u001b[1;32m    195\u001b[0m           \u001b[0;32mif\u001b[0m \u001b[0mself\u001b[0m\u001b[0;34m.\u001b[0m\u001b[0m_bound_context\u001b[0m\u001b[0;34m.\u001b[0m\u001b[0mexecuting_eagerly\u001b[0m\u001b[0;34m(\u001b[0m\u001b[0;34m)\u001b[0m\u001b[0;34m:\u001b[0m\u001b[0;34m\u001b[0m\u001b[0;34m\u001b[0m\u001b[0m\n\u001b[0;32m--> 196\u001b[0;31m             outputs = self._bound_context.call_function(\n\u001b[0m\u001b[1;32m    197\u001b[0m                 \u001b[0mself\u001b[0m\u001b[0;34m.\u001b[0m\u001b[0mname\u001b[0m\u001b[0;34m,\u001b[0m\u001b[0;34m\u001b[0m\u001b[0;34m\u001b[0m\u001b[0m\n\u001b[1;32m    198\u001b[0m                 \u001b[0mlist\u001b[0m\u001b[0;34m(\u001b[0m\u001b[0margs\u001b[0m\u001b[0;34m)\u001b[0m\u001b[0;34m,\u001b[0m\u001b[0;34m\u001b[0m\u001b[0;34m\u001b[0m\u001b[0m\n",
            "\u001b[0;32m/usr/local/lib/python3.10/dist-packages/tensorflow/python/eager/context.py\u001b[0m in \u001b[0;36mcall_function\u001b[0;34m(self, name, tensor_inputs, num_outputs)\u001b[0m\n\u001b[1;32m   1455\u001b[0m     \u001b[0mcancellation_context\u001b[0m \u001b[0;34m=\u001b[0m \u001b[0mcancellation\u001b[0m\u001b[0;34m.\u001b[0m\u001b[0mcontext\u001b[0m\u001b[0;34m(\u001b[0m\u001b[0;34m)\u001b[0m\u001b[0;34m\u001b[0m\u001b[0;34m\u001b[0m\u001b[0m\n\u001b[1;32m   1456\u001b[0m     \u001b[0;32mif\u001b[0m \u001b[0mcancellation_context\u001b[0m \u001b[0;32mis\u001b[0m \u001b[0;32mNone\u001b[0m\u001b[0;34m:\u001b[0m\u001b[0;34m\u001b[0m\u001b[0;34m\u001b[0m\u001b[0m\n\u001b[0;32m-> 1457\u001b[0;31m       outputs = execute.execute(\n\u001b[0m\u001b[1;32m   1458\u001b[0m           \u001b[0mname\u001b[0m\u001b[0;34m.\u001b[0m\u001b[0mdecode\u001b[0m\u001b[0;34m(\u001b[0m\u001b[0;34m\"utf-8\"\u001b[0m\u001b[0;34m)\u001b[0m\u001b[0;34m,\u001b[0m\u001b[0;34m\u001b[0m\u001b[0;34m\u001b[0m\u001b[0m\n\u001b[1;32m   1459\u001b[0m           \u001b[0mnum_outputs\u001b[0m\u001b[0;34m=\u001b[0m\u001b[0mnum_outputs\u001b[0m\u001b[0;34m,\u001b[0m\u001b[0;34m\u001b[0m\u001b[0;34m\u001b[0m\u001b[0m\n",
            "\u001b[0;32m/usr/local/lib/python3.10/dist-packages/tensorflow/python/eager/execute.py\u001b[0m in \u001b[0;36mquick_execute\u001b[0;34m(op_name, num_outputs, inputs, attrs, ctx, name)\u001b[0m\n\u001b[1;32m     51\u001b[0m   \u001b[0;32mtry\u001b[0m\u001b[0;34m:\u001b[0m\u001b[0;34m\u001b[0m\u001b[0;34m\u001b[0m\u001b[0m\n\u001b[1;32m     52\u001b[0m     \u001b[0mctx\u001b[0m\u001b[0;34m.\u001b[0m\u001b[0mensure_initialized\u001b[0m\u001b[0;34m(\u001b[0m\u001b[0;34m)\u001b[0m\u001b[0;34m\u001b[0m\u001b[0;34m\u001b[0m\u001b[0m\n\u001b[0;32m---> 53\u001b[0;31m     tensors = pywrap_tfe.TFE_Py_Execute(ctx._handle, device_name, op_name,\n\u001b[0m\u001b[1;32m     54\u001b[0m                                         inputs, attrs, num_outputs)\n\u001b[1;32m     55\u001b[0m   \u001b[0;32mexcept\u001b[0m \u001b[0mcore\u001b[0m\u001b[0;34m.\u001b[0m\u001b[0m_NotOkStatusException\u001b[0m \u001b[0;32mas\u001b[0m \u001b[0me\u001b[0m\u001b[0;34m:\u001b[0m\u001b[0;34m\u001b[0m\u001b[0;34m\u001b[0m\u001b[0m\n",
            "\u001b[0;31mKeyboardInterrupt\u001b[0m: "
          ]
        }
      ]
    },
    {
      "cell_type": "code",
      "source": [
        "predictions = model.predict(input)"
      ],
      "metadata": {
        "id": "x0_nWAhzKWwK",
        "outputId": "327de3e5-dfd6-4967-92d0-2c7b00846e8e",
        "colab": {
          "base_uri": "https://localhost:8080/"
        }
      },
      "execution_count": null,
      "outputs": [
        {
          "output_type": "stream",
          "name": "stdout",
          "text": [
            "385/385 [==============================] - 1s 2ms/step\n"
          ]
        }
      ]
    },
    {
      "cell_type": "code",
      "source": [
        "\n",
        "plt.plot(target)\n",
        "plt.plot(predictions)\n",
        "plt.xlim(11000,11200)\n",
        "plt.ylim(-2,2)"
      ],
      "metadata": {
        "id": "e9hlTBFIKY5E"
      },
      "execution_count": null,
      "outputs": []
    },
    {
      "cell_type": "code",
      "source": [
        "plt.plot(Low_Adj)"
      ],
      "metadata": {
        "id": "G0vRPM0Mozi9"
      },
      "execution_count": null,
      "outputs": []
    },
    {
      "cell_type": "code",
      "source": [
        "def Adj_Data(DataFrame):\n",
        "  High = data['High'].to_numpy()\n",
        "  Close = data['Close'].to_numpy()\n",
        "  Low = data['Low'].to_numpy()\n",
        "  Std = np.std(np.diff(Close))\n",
        "  Close_Diff = np.diff(Close)/Std\n",
        "  High_Adj = (High[1:]-Close[1:])/Std\n",
        "  Low_Adj = (Close[1:]-Low[1:])/Std"
      ],
      "metadata": {
        "id": "isnGdjb1gkms"
      },
      "execution_count": null,
      "outputs": []
    }
  ],
  "metadata": {
    "colab": {
      "name": "Welcome To Colaboratory",
      "provenance": [],
      "include_colab_link": true
    },
    "kernelspec": {
      "display_name": "Python 3",
      "name": "python3"
    }
  },
  "nbformat": 4,
  "nbformat_minor": 0
}