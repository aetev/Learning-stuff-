{
  "cells": [
    {
      "cell_type": "markdown",
      "metadata": {
        "id": "view-in-github",
        "colab_type": "text"
      },
      "source": [
        "<a href=\"https://colab.research.google.com/github/aetev/Learning-stuff-/blob/main/yf%20test.ipynb\" target=\"_parent\"><img src=\"https://colab.research.google.com/assets/colab-badge.svg\" alt=\"Open In Colab\"/></a>"
      ]
    },
    {
      "cell_type": "code",
      "source": [
        "import yfinance as yf\n",
        "from datetime import datetime, timedelta\n",
        "import pandas as pd\n",
        "import numpy as np\n",
        "import matplotlib.pyplot as plt\n",
        "from numpy.lib.stride_tricks import sliding_window_view\n",
        "import tensorflow as tf\n",
        "from tensorflow.keras.models import Sequential\n",
        "from tensorflow.keras.layers import LSTM, Dense"
      ],
      "metadata": {
        "id": "R8uczkI2c8cJ"
      },
      "execution_count": 30,
      "outputs": []
    },
    {
      "cell_type": "code",
      "source": [
        "# Calculate the date 730 days ago\n",
        "end_date = datetime.now()\n",
        "start_date = end_date - timedelta(days=729)\n",
        "\n",
        "# Download the data\n",
        "data = yf.download('USDJPY=X', start=start_date, end=end_date, interval='1h')\n",
        "\n",
        "# Print the data\n",
        "print(data)"
      ],
      "metadata": {
        "id": "1uHZHAsUc_cw",
        "outputId": "bab0bc99-5c4b-41cc-9e44-7e7b64906b24",
        "colab": {
          "base_uri": "https://localhost:8080/"
        }
      },
      "execution_count": 2,
      "outputs": [
        {
          "output_type": "stream",
          "name": "stdout",
          "text": [
            "\r[*********************100%%**********************]  1 of 1 completed\n",
            "                                 Open        High         Low       Close  \\\n",
            "Datetime                                                                    \n",
            "2021-10-18 07:00:00+01:00  114.316002  114.349998  114.209999  114.320000   \n",
            "2021-10-18 08:00:00+01:00  114.325996  114.457001  114.220001  114.295998   \n",
            "2021-10-18 09:00:00+01:00  114.293999  114.400002  114.199997  114.365997   \n",
            "2021-10-18 10:00:00+01:00  114.360001  114.413002  114.279999  114.379997   \n",
            "2021-10-18 11:00:00+01:00  114.383003  114.440002  114.290001  114.330002   \n",
            "...                               ...         ...         ...         ...   \n",
            "2023-10-16 16:00:00+01:00  149.639008  149.645004  149.546005  149.572998   \n",
            "2023-10-16 17:00:00+01:00  149.570007  149.610001  149.544006  149.578995   \n",
            "2023-10-16 18:00:00+01:00  149.578995  149.613007  149.542007  149.589005   \n",
            "2023-10-16 19:00:00+01:00  149.587997  149.598007  149.511993  149.514008   \n",
            "2023-10-16 20:00:00+01:00  149.511993  149.584000  149.511993  149.546997   \n",
            "\n",
            "                            Adj Close  Volume  \n",
            "Datetime                                       \n",
            "2021-10-18 07:00:00+01:00  114.320000       0  \n",
            "2021-10-18 08:00:00+01:00  114.295998       0  \n",
            "2021-10-18 09:00:00+01:00  114.365997       0  \n",
            "2021-10-18 10:00:00+01:00  114.379997       0  \n",
            "2021-10-18 11:00:00+01:00  114.330002       0  \n",
            "...                               ...     ...  \n",
            "2023-10-16 16:00:00+01:00  149.572998       0  \n",
            "2023-10-16 17:00:00+01:00  149.578995       0  \n",
            "2023-10-16 18:00:00+01:00  149.589005       0  \n",
            "2023-10-16 19:00:00+01:00  149.514008       0  \n",
            "2023-10-16 20:00:00+01:00  149.546997       0  \n",
            "\n",
            "[12315 rows x 6 columns]\n"
          ]
        }
      ]
    },
    {
      "cell_type": "code",
      "source": [
        "High = data['High'].to_numpy()\n",
        "Close = data['Close'].to_numpy()\n",
        "Low = data['Low'].to_numpy()\n",
        "Std = np.std(np.diff(Close))\n",
        "Close_Diff = np.diff(Close)/Std\n",
        "High_Adj = (High[1:]-Close[1:])/Std\n",
        "Low_Adj = (Close[1:]-Low[1:])/Std"
      ],
      "metadata": {
        "id": "_pteR2bFg43J"
      },
      "execution_count": 3,
      "outputs": []
    },
    {
      "cell_type": "code",
      "source": [
        "stack = np.stack((Close_Diff, High_Adj, Low_Adj), axis=1)\n",
        "print(stack)"
      ],
      "metadata": {
        "id": "phmsBJRwEQAX",
        "outputId": "eeb700e6-1558-4a84-817e-cfc6fb60780d",
        "colab": {
          "base_uri": "https://localhost:8080/"
        }
      },
      "execution_count": 13,
      "outputs": [
        {
          "output_type": "stream",
          "name": "stdout",
          "text": [
            "[[-0.13078083  0.87726249  0.41408386]\n",
            " [ 0.38140943  0.18527977  0.90449117]\n",
            " [ 0.07628189  0.17983403  0.54486468]\n",
            " ...\n",
            " [ 0.05454051  0.13078083  0.25607435]\n",
            " [-0.40863812  0.45769132  0.01097461]\n",
            " [ 0.17975089  0.20161698  0.1907255 ]]\n"
          ]
        }
      ]
    },
    {
      "cell_type": "code",
      "source": [
        "\n",
        "# Define the window size and shift\n",
        "window_size = 10\n",
        "shift = 1\n",
        "\n",
        "# Create the sliding window dataset\n",
        "dataset = tf.keras.utils.timeseries_dataset_from_array(\n",
        "    stack,\n",
        "    targets=None,  # No targets provided, as we are only interested in the input\n",
        "    sequence_length=window_size,\n",
        "    sequence_stride=shift,\n",
        "    batch_size=None,\n",
        "    shuffle=False  # Set to True if you want to shuffle the windows\n",
        ")\n",
        "\n",
        "print(dataset.take(0))"
      ],
      "metadata": {
        "id": "a9XwZxB5FX2i",
        "outputId": "3b1cde12-518c-42e4-8830-7f44a6ad3037",
        "colab": {
          "base_uri": "https://localhost:8080/"
        }
      },
      "execution_count": 5,
      "outputs": [
        {
          "output_type": "stream",
          "name": "stdout",
          "text": [
            "<_TakeDataset element_spec=TensorSpec(shape=(None, 3), dtype=tf.float64, name=None)>\n"
          ]
        }
      ]
    },
    {
      "cell_type": "code",
      "source": [
        "window_view = np.lib.stride_tricks.sliding_window_view(stack, (window_size,),axis=0)"
      ],
      "metadata": {
        "id": "THv9cmvhmfEG"
      },
      "execution_count": 8,
      "outputs": []
    },
    {
      "cell_type": "code",
      "source": [
        "print(window_view[0])\n",
        "input = window_view[:-1]\n",
        "target = Close_Diff[10:]\n",
        "print(target)"
      ],
      "metadata": {
        "id": "h_w0wsB0EGOL",
        "outputId": "c23e6eb7-969d-4cd7-edf6-41a9cb16f383",
        "colab": {
          "base_uri": "https://localhost:8080/"
        }
      },
      "execution_count": 29,
      "outputs": [
        {
          "output_type": "stream",
          "name": "stdout",
          "text": [
            "[[-0.13078083  0.38140943  0.07628189 -0.27241156  0.22884566 -0.51219026\n",
            "  -0.35962649  0.14711804 -0.08717336  0.        ]\n",
            " [ 0.87726249  0.18527977  0.17983403  0.59936362  0.17434672  0.55575616\n",
            "   0.60480936  0.29423607  0.43046264  0.27245313]\n",
            " [ 0.41408386  0.90449117  0.54486468  0.21795419  0.6102551   1.02438052\n",
            "   0.39230091  0.70287419  0.17979246  0.17979246]]\n",
            "[-0.07083615  0.27245313  0.3269105  ...  0.05454051 -0.40863812\n",
            "  0.17975089]\n"
          ]
        }
      ]
    },
    {
      "cell_type": "code",
      "source": [
        "plt.plot(Low_Adj)"
      ],
      "metadata": {
        "id": "G0vRPM0Mozi9"
      },
      "execution_count": null,
      "outputs": []
    },
    {
      "cell_type": "code",
      "source": [
        "def Adj_Data(DataFrame):\n",
        "  High = data['High'].to_numpy()\n",
        "  Close = data['Close'].to_numpy()\n",
        "  Low = data['Low'].to_numpy()\n",
        "  Std = np.std(np.diff(Close))\n",
        "  Close_Diff = np.diff(Close)/Std\n",
        "  High_Adj = (High[1:]-Close[1:])/Std\n",
        "  Low_Adj = (Close[1:]-Low[1:])/Std"
      ],
      "metadata": {
        "id": "isnGdjb1gkms"
      },
      "execution_count": null,
      "outputs": []
    }
  ],
  "metadata": {
    "colab": {
      "name": "Welcome To Colaboratory",
      "provenance": [],
      "include_colab_link": true
    },
    "kernelspec": {
      "display_name": "Python 3",
      "name": "python3"
    }
  },
  "nbformat": 4,
  "nbformat_minor": 0
}