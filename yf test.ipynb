{
  "cells": [
    {
      "cell_type": "markdown",
      "metadata": {
        "id": "view-in-github",
        "colab_type": "text"
      },
      "source": [
        "<a href=\"https://colab.research.google.com/github/aetev/Learning-stuff-/blob/main/yf%20test.ipynb\" target=\"_parent\"><img src=\"https://colab.research.google.com/assets/colab-badge.svg\" alt=\"Open In Colab\"/></a>"
      ]
    },
    {
      "cell_type": "code",
      "source": [
        "import yfinance as yf\n",
        "from datetime import datetime, timedelta\n",
        "import pandas as pd\n",
        "import numpy as np\n",
        "import matplotlib.pyplot as plt\n",
        "from numpy.lib.stride_tricks import sliding_window_view\n",
        "import tensorflow as tf\n",
        "from tensorflow.keras.models import Sequential\n",
        "from tensorflow.keras.layers import LSTM, Dense, Dropout, BatchNormalization\n",
        "from tensorflow.keras.regularizers import l2"
      ],
      "metadata": {
        "id": "R8uczkI2c8cJ"
      },
      "execution_count": 1,
      "outputs": []
    },
    {
      "cell_type": "code",
      "source": [
        "# Calculate the date 730 days ago\n",
        "end_date = datetime.now()\n",
        "start_date = end_date - timedelta(days=729)\n",
        "\n",
        "# Download the data\n",
        "data = yf.download('EURUSD=X', start=start_date, end=end_date, interval='1h')\n",
        "\n",
        "# Print the data\n",
        "print(data)"
      ],
      "metadata": {
        "colab": {
          "base_uri": "https://localhost:8080/"
        },
        "id": "1uHZHAsUc_cw",
        "outputId": "b075fad2-14aa-4ef3-f901-4673a5ff8144"
      },
      "execution_count": 2,
      "outputs": [
        {
          "output_type": "stream",
          "name": "stdout",
          "text": [
            "\r[*********************100%%**********************]  1 of 1 completed\n",
            "                               Open      High       Low     Close  Adj Close  \\\n",
            "Datetime                                                                       \n",
            "2021-10-18 07:00:00+01:00  1.157943  1.158346  1.157675  1.158212   1.158212   \n",
            "2021-10-18 08:00:00+01:00  1.157943  1.159958  1.157943  1.159689   1.159689   \n",
            "2021-10-18 09:00:00+01:00  1.159689  1.160093  1.158480  1.158480   1.158480   \n",
            "2021-10-18 10:00:00+01:00  1.158614  1.159152  1.158078  1.158614   1.158614   \n",
            "2021-10-18 11:00:00+01:00  1.158480  1.159958  1.158078  1.159555   1.159555   \n",
            "...                             ...       ...       ...       ...        ...   \n",
            "2023-10-16 15:00:00+01:00  1.053297  1.055743  1.052964  1.055186   1.055186   \n",
            "2023-10-16 16:00:00+01:00  1.055186  1.055520  1.054519  1.054741   1.054741   \n",
            "2023-10-16 17:00:00+01:00  1.054741  1.055075  1.054407  1.054964   1.054964   \n",
            "2023-10-16 18:00:00+01:00  1.054964  1.055855  1.054741  1.055855   1.055855   \n",
            "2023-10-16 19:00:00+01:00  1.055632  1.055966  1.055520  1.055855   1.055855   \n",
            "\n",
            "                           Volume  \n",
            "Datetime                           \n",
            "2021-10-18 07:00:00+01:00       0  \n",
            "2021-10-18 08:00:00+01:00       0  \n",
            "2021-10-18 09:00:00+01:00       0  \n",
            "2021-10-18 10:00:00+01:00       0  \n",
            "2021-10-18 11:00:00+01:00       0  \n",
            "...                           ...  \n",
            "2023-10-16 15:00:00+01:00       0  \n",
            "2023-10-16 16:00:00+01:00       0  \n",
            "2023-10-16 17:00:00+01:00       0  \n",
            "2023-10-16 18:00:00+01:00       0  \n",
            "2023-10-16 19:00:00+01:00       0  \n",
            "\n",
            "[12384 rows x 6 columns]\n"
          ]
        }
      ]
    },
    {
      "cell_type": "code",
      "source": [
        "High = data['High'].to_numpy()\n",
        "Close = data['Close'].to_numpy()\n",
        "Low = data['Low'].to_numpy()\n",
        "Std = np.std(np.diff(Close))\n",
        "Close_Diff = np.diff(Close)/Std\n",
        "High_Adj = (High[1:]-Close[1:])/Std\n",
        "Low_Adj = (Close[1:]-Low[1:])/Std"
      ],
      "metadata": {
        "id": "_pteR2bFg43J"
      },
      "execution_count": 3,
      "outputs": []
    },
    {
      "cell_type": "code",
      "source": [
        "stack = np.stack((Close_Diff, High_Adj, Low_Adj), axis=1)\n",
        "print(stack)"
      ],
      "metadata": {
        "colab": {
          "base_uri": "https://localhost:8080/"
        },
        "id": "phmsBJRwEQAX",
        "outputId": "e6ffe5d3-5fad-41a7-fd3d-da096c3a3ad0"
      },
      "execution_count": 4,
      "outputs": [
        {
          "output_type": "stream",
          "name": "stdout",
          "text": [
            "[[ 1.18248189  0.21533497  1.39714901]\n",
            " [-0.96771937  1.29076953  0.        ]\n",
            " [ 0.10742897  0.43000209  0.42952505]\n",
            " ...\n",
            " [ 0.1780306   0.08911071  0.4451719 ]\n",
            " [ 0.71317187  0.          0.89120246]\n",
            " [ 0.          0.08920611  0.26752293]]\n"
          ]
        }
      ]
    },
    {
      "cell_type": "code",
      "source": [
        "window_size = 100\n",
        "window_view = np.lib.stride_tricks.sliding_window_view(stack, (window_size,),axis=0)"
      ],
      "metadata": {
        "id": "THv9cmvhmfEG"
      },
      "execution_count": 5,
      "outputs": []
    },
    {
      "cell_type": "code",
      "source": [
        "print(window_view[0])\n",
        "input = window_view[:-1]\n",
        "target = Close_Diff[window_size:]\n",
        "print(target)"
      ],
      "metadata": {
        "colab": {
          "base_uri": "https://localhost:8080/"
        },
        "id": "h_w0wsB0EGOL",
        "outputId": "2bfcb63a-0f99-475e-f317-7e68547a3941"
      },
      "execution_count": 6,
      "outputs": [
        {
          "output_type": "stream",
          "name": "stdout",
          "text": [
            "[[ 1.18248189 -0.96771937  0.10742897  0.75267062  0.64610032  0.43124239\n",
            "  -0.43124239  0.1078106   0.86305722  0.6483901  -0.54038869 -0.21600282\n",
            "   0.          0.10800141 -0.10800141 -0.107906    0.32390883  0.9731576\n",
            "   0.75820426  0.54248766  0.32572157  0.10857386  0.21733853  0.10876467\n",
            "   0.21743394  0.43524951  0.43572655 -0.43572655  0.         -1.08736051\n",
            "   0.86973575 -1.08697888 -0.86763679  0.54210603  0.10847845 -0.10847845\n",
            "  -0.2169569   0.         -0.21686149  0.10838304 -0.32505372  0.32505372\n",
            "   0.54248766 -0.32562617  0.54267847  0.54334633 -0.3261032  -0.65134774\n",
            "  -1.19192724  0.10828763 -0.10828763  1.08335339 -1.19145021  1.30002406\n",
            "   0.65134774  0.         -0.32581698  1.08697888 -0.43505869  0.32619861\n",
            "  -0.32619861  0.         -0.3261032   0.3261032   0.10866927  0.32638943\n",
            "   0.32658024  0.21781557  0.10895549 -1.08840999  0.         -0.10876467\n",
            "  -0.76020782  0.10857386  0.         -0.10857386  0.10857386  0.10847845\n",
            "   0.21724312  0.         -0.32572157 -0.54248766 -0.32505372 -0.64953499\n",
            "  -0.10819223  0.21628905  0.3247675  -0.3247675   0.10828763  0.\n",
            "   0.3247675  -0.10828763  0.          0.         -0.10819223  0.75839507\n",
            "   0.54248766 -0.21705231  0.10857386 -0.43400921]\n",
            " [ 0.21533497  1.29076953  0.43000209  0.32295475  0.          0.53962543\n",
            "   0.97086782  0.75505581  0.          0.32448127  0.75677315  0.43210106\n",
            "   0.32400424  0.32409964  0.43210106  0.43191024  0.32419505  0.\n",
            "   0.21686149  0.          0.10857386  0.86992657  0.65258804  0.43505869\n",
            "   0.21762475  0.          0.21791098  0.87183472  0.43572655  1.08736051\n",
            "   0.21762475  1.30460363  1.08487991  0.          0.32562617  0.760017\n",
            "   0.54248766  0.2169569   0.6508707   0.32543535  0.54191521  0.10847845\n",
            "   0.5429647   0.43410462  0.10866927  0.          0.3261032   0.65134774\n",
            "   1.30040569  0.54153358  0.54143817  0.          1.19145021  0.32553076\n",
            "   0.10866927  0.21733853  0.54315551  0.          0.76163893  0.43544032\n",
            "   0.54382336  0.32619861  1.08774214  0.32619861  0.4351541   0.32658024\n",
            "   0.21781557  0.32686646  0.32696187  1.08840999  0.32619861  0.54382336\n",
            "   0.43429543  0.32572157  0.32572157  0.32562617  0.32572157  0.65192018\n",
            "   0.10857386  0.32591239  0.32572157  0.86820923  0.75896752  0.54115195\n",
            "   0.43286432  0.21657527  0.32505372  0.43305513  0.21647986  0.3247675\n",
            "   0.32505372  0.32505372  0.32505372  0.43334135  0.43324595  0.10838304\n",
            "   0.32581698  0.54286929  0.10847845  0.86830464]\n",
            " [ 1.39714901  0.          0.42952505  1.18219567  0.96876885  0.86210314\n",
            "   0.32314557  0.1078106   1.50934836  0.97220352  0.10800141  0.\n",
            "   0.107906    0.21590742  0.32371801  0.          0.32390883  0.9731576\n",
            "   0.86649189  0.86754138  0.54277388  0.10857386  0.32591239  0.3261032\n",
            "   0.76078026  0.76144812  0.87097605  0.21762475  0.32648483  0.\n",
            "   1.19545733  0.86763679  0.10838304  0.75887211  0.54229684  0.10857386\n",
            "   0.21686149  0.43353217  0.21667068  0.21667068  0.          0.5417244\n",
            "   0.6508707   0.21686149  0.54267847  0.65192018  0.21724312  0.2169569\n",
            "   0.64877173  0.21638445  0.10809682  1.29964243  0.          1.40821629\n",
            "   0.86830464  0.32581698  0.10847845  1.08697888  0.10876467  0.32619861\n",
            "   0.10876467  0.3261032   0.          0.10876467  0.10866927  0.43505869\n",
            "   0.43544032  0.21781557  0.21791098  0.10876467  0.21743394  0.32591239\n",
            "   0.32543535  0.6508707   0.32562617  0.32543535  0.21705231  0.86763679\n",
            "   0.43429543  0.75973078  0.32562617  0.10838304  0.3248629   0.10819223\n",
            "   0.          0.32448127  0.54105654  0.10809682  0.21638445  0.32457668\n",
            "   0.3247675   0.21647986  0.21647986  0.21647986  0.10828763  0.97497034\n",
            "   0.65096611  0.10847845  0.6508707   0.        ]]\n",
            "[-0.32514913  0.43353217  0.65134774 ...  0.1780306   0.71317187\n",
            "  0.        ]\n"
          ]
        }
      ]
    },
    {
      "cell_type": "code",
      "source": [
        "model = Sequential()\n",
        "model.add(LSTM(units=10, activation='gelu', return_sequences=True))\n",
        "model.add(BatchNormalization())\n",
        "model.add(Dropout(.5))\n",
        "model.add(LSTM(units=10, activation='gelu', return_sequences=False))\n",
        "model.add(BatchNormalization())\n",
        "model.add(Dropout(.5))\n",
        "model.add(Dense(units=10, activation='gelu'))\n",
        "model.add(BatchNormalization())\n",
        "model.add(Dropout(.5))\n",
        "model.add(Dense(units=1, activation=None))"
      ],
      "metadata": {
        "id": "WUbyuhiiKIEY"
      },
      "execution_count": 7,
      "outputs": []
    },
    {
      "cell_type": "code",
      "source": [
        "model.compile(optimizer='adam', loss='mean_squared_error')"
      ],
      "metadata": {
        "id": "TFAlsuiJKLYU"
      },
      "execution_count": 8,
      "outputs": []
    },
    {
      "cell_type": "code",
      "source": [
        "model.fit(input, target, epochs=20000, batch_size=64,validation_split=.2)"
      ],
      "metadata": {
        "colab": {
          "base_uri": "https://localhost:8080/"
        },
        "id": "OwR3qkqVKO-T",
        "outputId": "ebdacdf0-267c-4d3c-c77f-81d8a49af6f4"
      },
      "execution_count": null,
      "outputs": [
        {
          "output_type": "stream",
          "name": "stdout",
          "text": [
            "Epoch 1/20000\n",
            " 61/154 [==========>...................] - ETA: 0s - loss: 3.4961"
          ]
        }
      ]
    },
    {
      "cell_type": "code",
      "source": [
        "predictions = model.predict(input)"
      ],
      "metadata": {
        "id": "x0_nWAhzKWwK"
      },
      "execution_count": null,
      "outputs": []
    },
    {
      "cell_type": "code",
      "source": [
        "\n",
        "plt.plot(target)\n",
        "plt.plot(predictions)\n",
        "plt.xlim(12000,12200)\n",
        "plt.ylim(-2,2)"
      ],
      "metadata": {
        "id": "e9hlTBFIKY5E"
      },
      "execution_count": null,
      "outputs": []
    },
    {
      "cell_type": "code",
      "source": [
        "plt.plot(Low_Adj)"
      ],
      "metadata": {
        "id": "G0vRPM0Mozi9"
      },
      "execution_count": null,
      "outputs": []
    },
    {
      "cell_type": "code",
      "source": [
        "def Adj_Data(DataFrame):\n",
        "  High = data['High'].to_numpy()\n",
        "  Close = data['Close'].to_numpy()\n",
        "  Low = data['Low'].to_numpy()\n",
        "  Std = np.std(np.diff(Close))\n",
        "  Close_Diff = np.diff(Close)/Std\n",
        "  High_Adj = (High[1:]-Close[1:])/Std\n",
        "  Low_Adj = (Close[1:]-Low[1:])/Std"
      ],
      "metadata": {
        "id": "isnGdjb1gkms"
      },
      "execution_count": null,
      "outputs": []
    }
  ],
  "metadata": {
    "colab": {
      "name": "Welcome To Colaboratory",
      "provenance": [],
      "include_colab_link": true
    },
    "kernelspec": {
      "display_name": "Python 3",
      "name": "python3"
    }
  },
  "nbformat": 4,
  "nbformat_minor": 0
}