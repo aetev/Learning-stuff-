{
  "cells": [
    {
      "cell_type": "markdown",
      "metadata": {
        "id": "view-in-github",
        "colab_type": "text"
      },
      "source": [
        "<a href=\"https://colab.research.google.com/github/aetev/Learning-stuff-/blob/main/cnn2%20(2).ipynb\" target=\"_parent\"><img src=\"https://colab.research.google.com/assets/colab-badge.svg\" alt=\"Open In Colab\"/></a>"
      ]
    },
    {
      "cell_type": "code",
      "source": [
        "pip install tensorflow_addons"
      ],
      "metadata": {
        "colab": {
          "base_uri": "https://localhost:8080/"
        },
        "id": "-g36b6KfZQeH",
        "outputId": "dc7c59b8-dce2-4435-8141-45bc2d0b2bcc"
      },
      "execution_count": 2,
      "outputs": [
        {
          "output_type": "stream",
          "name": "stdout",
          "text": [
            "Requirement already satisfied: tensorflow_addons in /usr/local/lib/python3.10/dist-packages (0.21.0)\n",
            "Requirement already satisfied: packaging in /usr/local/lib/python3.10/dist-packages (from tensorflow_addons) (23.1)\n",
            "Requirement already satisfied: typeguard<3.0.0,>=2.7 in /usr/local/lib/python3.10/dist-packages (from tensorflow_addons) (2.13.3)\n"
          ]
        }
      ]
    },
    {
      "cell_type": "code",
      "execution_count": 3,
      "metadata": {
        "colab": {
          "base_uri": "https://localhost:8080/"
        },
        "id": "-UiZf7YAawUu",
        "outputId": "fab6fcd4-d201-4abd-ded2-73eda47efa2e"
      },
      "outputs": [
        {
          "output_type": "stream",
          "name": "stderr",
          "text": [
            "/usr/local/lib/python3.10/dist-packages/tensorflow_addons/utils/tfa_eol_msg.py:23: UserWarning: \n",
            "\n",
            "TensorFlow Addons (TFA) has ended development and introduction of new features.\n",
            "TFA has entered a minimal maintenance and release mode until a planned end of life in May 2024.\n",
            "Please modify downstream libraries to take dependencies from other repositories in our TensorFlow community (e.g. Keras, Keras-CV, and Keras-NLP). \n",
            "\n",
            "For more information see: https://github.com/tensorflow/addons/issues/2807 \n",
            "\n",
            "  warnings.warn(\n"
          ]
        }
      ],
      "source": [
        "import tensorflow as tf\n",
        "from tensorflow.keras import layers\n",
        "import matplotlib.pyplot as plt\n",
        "import numpy as np\n",
        "import tensorflow_addons as tfa"
      ]
    },
    {
      "cell_type": "code",
      "execution_count": 4,
      "metadata": {
        "id": "Yn4y2vCkggU1"
      },
      "outputs": [],
      "source": [
        "\n",
        "\n",
        "# Load MNIST dataset\n",
        "(x_train, y_train), (_, _) = tf.keras.datasets.mnist.load_data()\n",
        "\n",
        "# Normalize the images to [-1, 1]\n",
        "#x_train = (x_train.astype(\"float32\") - 127.5) / 127.5\n",
        "#y_train = y_train.reshape(-1, 1)\n",
        "x_train = (x_train.astype(\"float32\")) / np.max(x_train)"
      ]
    },
    {
      "cell_type": "code",
      "source": [
        "new_images = []\n",
        "new_labels = []\n",
        "\n",
        "for digit in set(y_train):\n",
        "    digit_indices = np.where(y_train == digit)[0][:10]\n",
        "    for index in digit_indices:\n",
        "        image = x_train[index]\n",
        "        label = y_train[index]\n",
        "        new_images.append(image)\n",
        "        new_labels.append(label)\n",
        "\n",
        "new_images = np.array(new_images)\n",
        "new_labels = np.array(new_labels)\n",
        "\n",
        "print(\"New dataset shape:\", new_images.shape)\n",
        "\n",
        "# Visualize the new dataset\n",
        "plt.imshow(new_images[1], cmap=\"gray\")\n",
        "plt.title(\"Label: {}\".format(new_labels[1]))\n",
        "plt.axis(\"off\")\n",
        "plt.show()"
      ],
      "metadata": {
        "colab": {
          "base_uri": "https://localhost:8080/",
          "height": 445
        },
        "id": "GwT02EZkqZQW",
        "outputId": "78b84c83-7877-4847-b690-f1d5be32b14d"
      },
      "execution_count": 5,
      "outputs": [
        {
          "output_type": "stream",
          "name": "stdout",
          "text": [
            "New dataset shape: (100, 28, 28)\n"
          ]
        },
        {
          "output_type": "display_data",
          "data": {
            "text/plain": [
              "<Figure size 640x480 with 1 Axes>"
            ],
            "image/png": "[encoded data removed]"
          },
          "metadata": {}
        }
      ]
    },
    {
      "cell_type": "code",
      "source": [
        "def random_rotate_images(images, min_angle=-90):\n",
        "    size = tf.shape(images)[0]\n",
        "    random_angles = tf.random.uniform(shape=(size,), minval=min_angle, maxval=-min_angle, dtype=tf.float32)\n",
        "    rotated_images = tfa.image.rotate(images, random_angles / 90)\n",
        "    return rotated_images\n",
        "\n",
        "# Select a batch of images\n",
        "batch_size = 10\n",
        "batch_images = x_train[:batch_size]\n",
        "batch_images = np.expand_dims(batch_images, axis=-1)\n",
        "rotated_images = random_rotate_images(batch_images)\n",
        "\n",
        "fig, axes = plt.subplots(nrows=2, ncols=batch_size, figsize=(10, 4))\n",
        "for i in range(batch_size):\n",
        "    axes[0][i].imshow(batch_images[i], cmap='gray')\n",
        "    axes[0][i].axis('off')\n",
        "    axes[1][i].imshow(rotated_images[i], cmap='gray')\n",
        "    axes[1][i].axis('off')\n",
        "plt.tight_layout()\n",
        "plt.show()\n"
      ],
      "metadata": {
        "colab": {
          "base_uri": "https://localhost:8080/",
          "height": 265
        },
        "id": "e5q1TuKbSRIY",
        "outputId": "d46fdc4e-d71f-49b8-aaec-34ff344d06ea"
      },
      "execution_count": 6,
      "outputs": [
        {
          "output_type": "display_data",
          "data": {
            "text/plain": [
              "<Figure size 1000x400 with 20 Axes>"
            ],
            "image/png": "[encoded data removed]"
          },
          "metadata": {}
        }
      ]
    },
    {
      "cell_type": "code",
      "execution_count": 7,
      "metadata": {
        "colab": {
          "base_uri": "https://localhost:8080/"
        },
        "id": "vyOx5JqbrffI",
        "outputId": "745cc04b-286e-40f3-de7c-4fbab0f6f028"
      },
      "outputs": [
        {
          "output_type": "stream",
          "name": "stdout",
          "text": [
            "Model: \"model\"\n",
            "__________________________________________________________________________________________________\n",
            " Layer (type)                   Output Shape         Param #     Connected to                     \n",
            "==================================================================================================\n",
            " input_2 (InputLayer)           [(None, 1)]          0           []                               \n",
            "                                                                                                  \n",
            " embedding (Embedding)          (None, 1, 10)        100         ['input_2[0][0]']                \n",
            "                                                                                                  \n",
            " input_1 (InputLayer)           [(None, 100)]        0           []                               \n",
            "                                                                                                  \n",
            " flatten (Flatten)              (None, 10)           0           ['embedding[0][0]']              \n",
            "                                                                                                  \n",
            " concatenate (Concatenate)      (None, 110)          0           ['input_1[0][0]',                \n",
            "                                                                  'flatten[0][0]']                \n",
            "                                                                                                  \n",
            " dense (Dense)                  (None, 49)           5390        ['concatenate[0][0]']            \n",
            "                                                                                                  \n",
            " batch_normalization (BatchNorm  (None, 49)          196         ['dense[0][0]']                  \n",
            " alization)                                                                                       \n",
            "                                                                                                  \n",
            " leaky_re_lu (LeakyReLU)        (None, 49)           0           ['batch_normalization[0][0]']    \n",
            "                                                                                                  \n",
            " reshape (Reshape)              (None, 7, 7, 1)      0           ['leaky_re_lu[0][0]']            \n",
            "                                                                                                  \n",
            " conv2d_transpose (Conv2DTransp  (None, 7, 7, 24)    600         ['reshape[0][0]']                \n",
            " ose)                                                                                             \n",
            "                                                                                                  \n",
            " batch_normalization_1 (BatchNo  (None, 7, 7, 24)    96          ['conv2d_transpose[0][0]']       \n",
            " rmalization)                                                                                     \n",
            "                                                                                                  \n",
            " leaky_re_lu_1 (LeakyReLU)      (None, 7, 7, 24)     0           ['batch_normalization_1[0][0]']  \n",
            "                                                                                                  \n",
            " conv2d (Conv2D)                (None, 7, 7, 24)     14400       ['leaky_re_lu_1[0][0]']          \n",
            "                                                                                                  \n",
            " batch_normalization_2 (BatchNo  (None, 7, 7, 24)    96          ['conv2d[0][0]']                 \n",
            " rmalization)                                                                                     \n",
            "                                                                                                  \n",
            " leaky_re_lu_2 (LeakyReLU)      (None, 7, 7, 24)     0           ['batch_normalization_2[0][0]']  \n",
            "                                                                                                  \n",
            " conv2d_transpose_1 (Conv2DTran  (None, 14, 14, 64)  38400       ['leaky_re_lu_2[0][0]']          \n",
            " spose)                                                                                           \n",
            "                                                                                                  \n",
            " batch_normalization_3 (BatchNo  (None, 14, 14, 64)  256         ['conv2d_transpose_1[0][0]']     \n",
            " rmalization)                                                                                     \n",
            "                                                                                                  \n",
            " leaky_re_lu_3 (LeakyReLU)      (None, 14, 14, 64)   0           ['batch_normalization_3[0][0]']  \n",
            "                                                                                                  \n",
            " conv2d_transpose_2 (Conv2DTran  (None, 28, 28, 1)   1600        ['leaky_re_lu_3[0][0]']          \n",
            " spose)                                                                                           \n",
            "                                                                                                  \n",
            "==================================================================================================\n",
            "Total params: 61,134\n",
            "Trainable params: 60,812\n",
            "Non-trainable params: 322\n",
            "__________________________________________________________________________________________________\n"
          ]
        }
      ],
      "source": [
        "def build_generator():\n",
        "    noise_shape = (100,)\n",
        "    noise = layers.Input(shape=noise_shape)\n",
        "    input_digit = layers.Input(shape=(1,), dtype=\"int32\")\n",
        "    digit_embedding = layers.Embedding(10, 10)(input_digit)\n",
        "    digit_embedding = layers.Flatten()(digit_embedding)\n",
        "\n",
        "    x = layers.Concatenate()([noise, digit_embedding])\n",
        "\n",
        "    # Transform the concatenated vector into a 7x7x256 tensor\n",
        "    x = layers.Dense(7 * 7, use_bias=False)(x)\n",
        "    x = layers.BatchNormalization()(x)\n",
        "    x = layers.LeakyReLU()(x)\n",
        "    x = layers.Reshape((7, 7, 1))(x)\n",
        "\n",
        "    # Upsample to 14x14\n",
        "    x = layers.Conv2DTranspose(24, (5, 5), strides=(1, 1), padding='same', use_bias=False)(x)\n",
        "    x = layers.BatchNormalization()(x)\n",
        "    x = layers.LeakyReLU()(x)\n",
        "\n",
        "    # Conv 14x14\n",
        "    x = layers.Conv2D(24, (5, 5), strides=(1, 1), padding='same', use_bias=False)(x)\n",
        "    x = layers.BatchNormalization()(x)\n",
        "    x = layers.LeakyReLU()(x)\n",
        "\n",
        "    # Upsample to 28x28\n",
        "    x = layers.Conv2DTranspose(64, (5, 5), strides=(2, 2), padding='same', use_bias=False)(x)\n",
        "    x = layers.BatchNormalization()(x)\n",
        "    x = layers.LeakyReLU()(x)\n",
        "\n",
        "    # Final output layer\n",
        "    output = layers.Conv2DTranspose(1, (5, 5), strides=(2, 2), padding='same', use_bias=False, activation='hard_sigmoid')(x)\n",
        "\n",
        "    model = tf.keras.models.Model(inputs=[noise, input_digit], outputs=output)\n",
        "    return model\n",
        "\n",
        "generator = build_generator()\n",
        "generator.summary()\n"
      ]
    },
    {
      "cell_type": "code",
      "execution_count": 14,
      "metadata": {
        "id": "Gh2ORgUybdzt"
      },
      "outputs": [],
      "source": [
        "def build_discriminator():\n",
        "    input_image = layers.Input(shape=(28, 28, 1))\n",
        "    digit_input = layers.Input(shape=(1,), dtype=\"int32\")\n",
        "    digit_embedding_2d = layers.Embedding(10, 10)(digit_input)\n",
        "    digit_embedding_2d = layers.Flatten()(digit_embedding_2d)\n",
        "    #digit_embedding_2d = layers.Reshape((28, 28, 1))(digit_embedding_2d)\n",
        "\n",
        "    #merged_input = layers.Concatenate()([input_image, digit_embedding_2d])\n",
        "\n",
        "    # Convolutional layers\n",
        "    x = layers.Conv2D(128, (5, 5), strides=(2, 2), padding='same', kernel_regularizer=tf.keras.regularizers.l2(0.01))(input_image)\n",
        "    x = layers.LeakyReLU()(x)\n",
        "    x = layers.Dropout(0.2)(x)\n",
        "\n",
        "    x = layers.Conv2D(248, (5, 5), strides=(2, 2), padding='same', kernel_regularizer=tf.keras.regularizers.l2(0.01))(x)\n",
        "    x = layers.LeakyReLU()(x)\n",
        "    x = layers.Dropout(0.2)(x)\n",
        "\n",
        "    x = layers.Flatten()(x)\n",
        "    x = layers.Concatenate()([x,digit_embedding_2d])\n",
        "    x = layers.Dropout(0.2)(x)\n",
        "    x = layers.Dense(300, kernel_regularizer=tf.keras.regularizers.l2(0.01))(x)\n",
        "    x = layers.Dropout(0.2)(x)\n",
        "    x = layers.Dense(1, activation=\"sigmoid\", kernel_regularizer=tf.keras.regularizers.l2(0.01))(x)\n",
        "\n",
        "    model = tf.keras.models.Model(inputs=[input_image, digit_input], outputs=x)\n",
        "    return model\n",
        "\n",
        "discriminator = build_discriminator()\n",
        "discriminator_copy = build_discriminator()\n",
        "#discriminator.summary()\n"
      ]
    },
    {
      "cell_type": "code",
      "execution_count": 15,
      "metadata": {
        "id": "aFFOfuDfbpD9"
      },
      "outputs": [],
      "source": [
        "# Compile models\n",
        "generator_optimizer = tf.keras.optimizers.Adam(0.0004)\n",
        "discriminator_optimizer = tf.keras.optimizers.Adam(0.0004)\n",
        "copy_optimizer = tf.keras.optimizers.Adam(0.0004)\n",
        "\n",
        "#generator_optimizer = tf.keras.optimizers.experimental.SGD(1e-4)\n",
        "#discriminator_optimizer = tf.keras.optimizers.experimental.SGD(1e-4)"
      ]
    },
    {
      "cell_type": "code",
      "execution_count": 10,
      "metadata": {
        "id": "T3PtShxlbn9c"
      },
      "outputs": [],
      "source": [
        "def discriminator_loss(real_output, fake_output):\n",
        "    real_loss = tf.keras.losses.BinaryCrossentropy()(tf.ones_like(real_output), real_output)\n",
        "    fake_loss = tf.keras.losses.BinaryCrossentropy()(tf.zeros_like(fake_output), fake_output)\n",
        "    total_loss = real_loss + fake_loss\n",
        "    return total_loss\n",
        "\n",
        "def generator_loss(fake_output):\n",
        "    return tf.keras.losses.BinaryCrossentropy()(tf.ones_like(fake_output), fake_output)\n",
        "\n"
      ]
    },
    {
      "cell_type": "code",
      "source": [
        "def print_img(generator_model):\n",
        "    # Generate and save sample images\n",
        "    noise = tf.random.normal([10, 100])\n",
        "    sampled_labels = tf.constant([[i % 10] for i in range(10)], dtype=tf.int32)\n",
        "    generated_images = generator_model.predict([noise, sampled_labels])\n",
        "    fig, axs = plt.subplots(1, 10, figsize=(10, 10))\n",
        "    for i in range(10):\n",
        "        axs[i].imshow(generated_images[i], cmap=\"gray\")\n",
        "        axs[i].axis(\"off\")\n",
        "    plt.show()"
      ],
      "metadata": {
        "id": "vAoSvqXLsQHq"
      },
      "execution_count": 11,
      "outputs": []
    },
    {
      "cell_type": "code",
      "source": [
        "#@tf.function\n",
        "\n",
        "\n",
        "def train_step(images, labels):\n",
        "\n",
        "    batch_size = images.shape[0]\n",
        "    noise = tf.random.normal([batch_size, 100])\n",
        "    generated_images = generator([noise, labels], training=True)\n",
        "\n",
        "\n",
        "\n",
        "    with tf.GradientTape() as disc_tape:\n",
        "\n",
        "      real_output = discriminator([images, labels], training=True)\n",
        "      fake_output = discriminator([generated_images, labels], training=True)\n",
        "\n",
        "      disc_loss = discriminator_loss(real_output, fake_output)\n",
        "\n",
        "    gradients_of_discriminator = disc_tape.gradient(disc_loss, discriminator.trainable_variables)\n",
        "    discriminator_optimizer.apply_gradients(zip(gradients_of_discriminator, discriminator.trainable_variables))\n",
        "\n",
        "\n",
        "    # Get the weights of model1\n",
        "    weights = discriminator.get_weights()\n",
        "\n",
        "    # Set the weights of model2 to be the same as model1\n",
        "    discriminator_copy.set_weights(weights)\n",
        "\n",
        "    for i in range(5):\n",
        "      with tf.GradientTape() as disc_copy_tape:\n",
        "\n",
        "        real_output = discriminator_copy([images, labels], training=True)\n",
        "        fake_output = discriminator_copy([generated_images, labels], training=True)\n",
        "\n",
        "        disc_loss = discriminator_loss(real_output, fake_output)\n",
        "\n",
        "      gradients_of_discriminator = disc_copy_tape.gradient(disc_loss, discriminator_copy.trainable_variables)\n",
        "      copy_optimizer.apply_gradients(zip(gradients_of_discriminator, discriminator_copy.trainable_variables))\n",
        "\n",
        "\n",
        "\n",
        "    with tf.GradientTape() as gen_tape:\n",
        "      generated_images = generator([noise, labels], training=True)\n",
        "      fake_output = discriminator_copy([generated_images, labels], training=True)\n",
        "      gen_loss = generator_loss(fake_output)\n",
        "\n",
        "    gradients_of_generator = gen_tape.gradient(gen_loss, generator.trainable_variables)\n",
        "    generator_optimizer.apply_gradients(zip(gradients_of_generator, generator.trainable_variables))\n",
        "\n",
        "\n",
        "    tf.print(\"disc_loss\",disc_loss,'gen_loss',gen_loss)\n",
        "\n",
        "\n",
        "def train(generator, discriminator\n",
        "          , epochs, batch_size):\n",
        "    for epoch in range(epochs):\n",
        "        for batch in range(len(new_images) // batch_size):\n",
        "            images = new_images[batch * batch_size: (batch+1) * batch_size]\n",
        "            labels = new_labels[batch * batch_size: (batch+1) * batch_size]\n",
        "\n",
        "            train_step(images, labels)\n",
        "\n",
        "        # Output training progress\n",
        "        if (epoch + 1) % 5 == 0:\n",
        "            print(f\"Epoch {epoch+1}/{epochs}\")\n",
        "            print_img(generator)\n",
        "\n",
        "# Train the GAN\n",
        "EPOCHS = 2000000\n",
        "BATCH_SIZE = 50\n",
        "num_unrolling_steps = 5  # Set the desired number of unrolling steps\n",
        "train(generator, discriminator, EPOCHS, BATCH_SIZE)"
      ],
      "metadata": {
        "colab": {
          "base_uri": "https://localhost:8080/"
        },
        "id": "CK4j3K7qtz47",
        "outputId": "26069987-186d-426d-a08b-24369672bba5"
      },
      "execution_count": null,
      "outputs": [
        {
          "output_type": "stream",
          "name": "stdout",
          "text": [
            "disc_loss 1.09106445 gen_loss 0.634995222\n",
            "disc_loss 1.16635168 gen_loss 0.642863154\n",
            "disc_loss 1.05564785 gen_loss 0.832714438\n",
            "disc_loss 1.01119983 gen_loss 0.708471537\n"
          ]
        }
      ]
    },
    {
      "cell_type": "code",
      "source": [
        "#@tf.function\n",
        "modi = 1\n",
        "\n",
        "def train_step(images, labels):\n",
        "    global modi\n",
        "    batch_size = images.shape[0]\n",
        "    noise = tf.random.normal([batch_size, 100])\n",
        "\n",
        "\n",
        "    clipped = 1-tf.clip_by_value(modi,0,1)\n",
        "    rot_modi = -1*(clipped*90)\n",
        "    rot_modi = -.01 if rot_modi==0 else rot_modi\n",
        "\n",
        "    images_mo = tf.expand_dims(images, axis=-1)\n",
        "    images_mod = random_rotate_images(images_mo,rot_modi)\n",
        "\n",
        "    with tf.GradientTape() as gen_tape, tf.GradientTape() as disc_tape:\n",
        "        generated_images = generator([noise, labels], training=True)\n",
        "\n",
        "        real_output = discriminator([images, labels], training=True)\n",
        "        fake_output = discriminator([generated_images, labels], training=True)\n",
        "\n",
        "        gen_loss = generator_loss(fake_output)\n",
        "        disc_loss = discriminator_loss(real_output, fake_output)\n",
        "    modi = disc_loss\n",
        "    gradients_of_generator = gen_tape.gradient(gen_loss, generator.trainable_variables)\n",
        "    gradients_of_discriminator = disc_tape.gradient(disc_loss, discriminator.trainable_variables)\n",
        "\n",
        "    generator_optimizer.apply_gradients(zip(gradients_of_generator, generator.trainable_variables))\n",
        "    discriminator_optimizer.apply_gradients(zip(gradients_of_discriminator, discriminator.trainable_variables))\n",
        "\n",
        "    tf.print(\"disc_loss\",disc_loss,'gen_loss',gen_loss)\n",
        "\n",
        "\n",
        "def train(generator, discriminator\n",
        "          , epochs, batch_size):\n",
        "    for epoch in range(epochs):\n",
        "        for batch in range(len(new_images) // batch_size):\n",
        "            images = new_images[batch * batch_size: (batch+1) * batch_size]\n",
        "            labels = new_labels[batch * batch_size: (batch+1) * batch_size]\n",
        "\n",
        "            train_step(images, labels)\n",
        "\n",
        "        # Output training progress\n",
        "        if (epoch + 1) % 5 == 0:\n",
        "            print(f\"Epoch {epoch+1}/{epochs}\")\n",
        "            print_img(generator)\n",
        "\n",
        "# Train the GAN\n",
        "EPOCHS = 2000000\n",
        "BATCH_SIZE = 50\n",
        "num_unrolling_steps = 5  # Set the desired number of unrolling steps\n",
        "train(generator, discriminator, EPOCHS, BATCH_SIZE)"
      ],
      "metadata": {
        "id": "cE3a-0ollufH"
      },
      "execution_count": null,
      "outputs": []
    }
  ],
  "metadata": {
    "colab": {
      "name": "Overview of Colaboratory Features",
      "provenance": [],
      "include_colab_link": true
    },
    "kernelspec": {
      "display_name": "Python 3 (ipykernel)",
      "language": "python",
      "name": "python3"
    },
    "language_info": {
      "codemirror_mode": {
        "name": "ipython",
        "version": 3
      },
      "file_extension": ".py",
      "mimetype": "text/x-python",
      "name": "python",
      "nbconvert_exporter": "python",
      "pygments_lexer": "ipython3",
      "version": "3.8.10"
    }
  },
  "nbformat": 4,
  "nbformat_minor": 0
}