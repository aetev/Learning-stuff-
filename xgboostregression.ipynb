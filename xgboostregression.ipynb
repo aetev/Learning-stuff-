{
  "cells": [
    {
      "cell_type": "markdown",
      "metadata": {
        "id": "view-in-github",
        "colab_type": "text"
      },
      "source": [
        "<a href=\"https://colab.research.google.com/github/aetev/Learning-stuff-/blob/main/xgboostregression.ipynb\" target=\"_parent\"><img src=\"https://colab.research.google.com/assets/colab-badge.svg\" alt=\"Open In Colab\"/></a>"
      ]
    },
    {
      "cell_type": "code",
      "source": [
        "pip install histdata"
      ],
      "metadata": {
        "id": "fMWPZOhKyTyM",
        "outputId": "78525472-161e-40ab-db56-75b01756484e",
        "colab": {
          "base_uri": "https://localhost:8080/"
        }
      },
      "execution_count": 1,
      "outputs": [
        {
          "output_type": "stream",
          "name": "stdout",
          "text": [
            "Collecting histdata\n",
            "  Downloading histdata-1.1-py3-none-any.whl (9.2 kB)\n",
            "Requirement already satisfied: requests in /usr/local/lib/python3.10/dist-packages (from histdata) (2.31.0)\n",
            "Requirement already satisfied: beautifulsoup4 in /usr/local/lib/python3.10/dist-packages (from histdata) (4.11.2)\n",
            "Requirement already satisfied: soupsieve>1.2 in /usr/local/lib/python3.10/dist-packages (from beautifulsoup4->histdata) (2.5)\n",
            "Requirement already satisfied: charset-normalizer<4,>=2 in /usr/local/lib/python3.10/dist-packages (from requests->histdata) (3.3.0)\n",
            "Requirement already satisfied: idna<4,>=2.5 in /usr/local/lib/python3.10/dist-packages (from requests->histdata) (3.4)\n",
            "Requirement already satisfied: urllib3<3,>=1.21.1 in /usr/local/lib/python3.10/dist-packages (from requests->histdata) (2.0.6)\n",
            "Requirement already satisfied: certifi>=2017.4.17 in /usr/local/lib/python3.10/dist-packages (from requests->histdata) (2023.7.22)\n",
            "Installing collected packages: histdata\n",
            "Successfully installed histdata-1.1\n"
          ]
        }
      ]
    },
    {
      "cell_type": "code",
      "source": [
        "import pandas as pd\n",
        "from histdata import download_hist_data as dl\n",
        "from histdata.api import Platform as P, TimeFrame as TF\n",
        "import zipfile\n",
        "import numpy as np\n",
        "from xgboost import XGBClassifier, XGBRegressor\n",
        "from sklearn.metrics import mean_absolute_error, mean_squared_error, r2_score\n",
        "import matplotlib.pyplot as plt\n"
      ],
      "metadata": {
        "id": "kYlPTLnMyYwV"
      },
      "execution_count": 70,
      "outputs": []
    },
    {
      "cell_type": "code",
      "source": [
        "test = dl(year='2005', month=None, pair='eurusd', platform=P.GENERIC_ASCII, time_frame=TF.ONE_MINUTE)\n"
      ],
      "metadata": {
        "id": "BRqA5oasyakL",
        "outputId": "52256594-1b87-476c-9823-71b8b9ea4820",
        "colab": {
          "base_uri": "https://localhost:8080/"
        }
      },
      "execution_count": 31,
      "outputs": [
        {
          "output_type": "stream",
          "name": "stdout",
          "text": [
            "https://www.histdata.com/download-free-forex-historical-data/?/ascii/1-minute-bar-quotes/eurusd/2005\n",
            "{'tk': 'e2485aa73bdae4dd226cbabb4b24d38e', 'date': '2005', 'datemonth': '2005', 'platform': 'ASCII', 'timeframe': 'M1', 'fxpair': 'EURUSD'}\n",
            "Wrote to ./DAT_ASCII_EURUSD_M1_2005.zip\n"
          ]
        }
      ]
    },
    {
      "cell_type": "code",
      "source": [
        "zf = zipfile.ZipFile(test)\n",
        "zf = zf.open('DAT_ASCII_EURUSD_M1_2005.csv')\n",
        "df = pd.read_csv(zf, sep=';', header=0, names=['DateTime Stamp', 'OPEN', 'HIGH', 'LOW', 'CLOSE', 'Volume'])"
      ],
      "metadata": {
        "id": "EAsTYIxU01EI"
      },
      "execution_count": 37,
      "outputs": []
    },
    {
      "cell_type": "code",
      "source": [
        "# Convert 'points' column to NumPy array\n",
        "column_to_numpy = df['CLOSE'].to_numpy()\n",
        "\n",
        "# Print result\n",
        "print(column_to_numpy)"
      ],
      "metadata": {
        "id": "hbnR0ScN4LAf",
        "outputId": "24dd51ef-08ba-4542-8b90-f179318ed79e",
        "colab": {
          "base_uri": "https://localhost:8080/"
        }
      },
      "execution_count": 40,
      "outputs": [
        {
          "output_type": "stream",
          "name": "stdout",
          "text": [
            "[1.3466 1.3468 1.3468 ... 1.1842 1.1841 1.1843]\n"
          ]
        }
      ]
    },
    {
      "cell_type": "code",
      "source": [
        "change = np.diff(column_to_numpy)\n",
        "change = change/np.std(change)\n",
        "print(change)"
      ],
      "metadata": {
        "id": "_XXpvnxb4ycZ",
        "outputId": "bb8937cd-caba-4f7d-e209-2a283a0dad51",
        "colab": {
          "base_uri": "https://localhost:8080/"
        }
      },
      "execution_count": 44,
      "outputs": [
        {
          "output_type": "stream",
          "name": "stdout",
          "text": [
            "[ 0.98117217  0.          0.49058608 ... -0.49058608 -0.49058608\n",
            "  0.98117217]\n"
          ]
        }
      ]
    },
    {
      "cell_type": "code",
      "source": [
        "# Define the window shape\n",
        "window_shape = (61,)\n",
        "\n",
        "# Create a sliding window view of the array\n",
        "window_view = np.lib.stride_tricks.sliding_window_view(change, window_shape)\n",
        "print(window_view)"
      ],
      "metadata": {
        "id": "pmutu1hl5dTX",
        "outputId": "76bcd8c8-8e20-41ff-ed75-194fe4a5c318",
        "colab": {
          "base_uri": "https://localhost:8080/"
        }
      },
      "execution_count": 101,
      "outputs": [
        {
          "output_type": "stream",
          "name": "stdout",
          "text": [
            "[[ 0.98117217  0.          0.49058608 ...  1.96234433  2.45293042\n",
            "   4.41527475]\n",
            " [ 0.          0.49058608  0.49058608 ...  2.45293042  4.41527475\n",
            "  -0.49058608]\n",
            " [ 0.49058608  0.49058608  2.45293042 ...  4.41527475 -0.49058608\n",
            "  -1.47175825]\n",
            " ...\n",
            " [-0.49058608  0.         -0.49058608 ... -1.47175825  0.\n",
            "  -0.49058608]\n",
            " [ 0.         -0.49058608  0.49058608 ...  0.         -0.49058608\n",
            "  -0.49058608]\n",
            " [-0.49058608  0.49058608  0.49058608 ... -0.49058608 -0.49058608\n",
            "   0.98117217]]\n"
          ]
        }
      ]
    },
    {
      "cell_type": "code",
      "source": [
        "# Pop the last value in each window into a separate array\n",
        "last_values = window_view[:, -1]\n",
        "# Remove the last value from each window\n",
        "window_view_no_last = np.delete(window_view, -1, axis=1)\n",
        "\n",
        "print(last_values)\n",
        "print(window_view_no_last)"
      ],
      "metadata": {
        "id": "X_2HyeFl6Ao0",
        "outputId": "f785d840-59c1-4b93-96df-66ea48a9422a",
        "colab": {
          "base_uri": "https://localhost:8080/"
        }
      },
      "execution_count": 102,
      "outputs": [
        {
          "output_type": "stream",
          "name": "stdout",
          "text": [
            "[ 4.41527475 -0.49058608 -1.47175825 ... -0.49058608 -0.49058608\n",
            "  0.98117217]\n",
            "[[ 0.98117217  0.          0.49058608 ...  0.98117217  1.96234433\n",
            "   2.45293042]\n",
            " [ 0.          0.49058608  0.49058608 ...  1.96234433  2.45293042\n",
            "   4.41527475]\n",
            " [ 0.49058608  0.49058608  2.45293042 ...  2.45293042  4.41527475\n",
            "  -0.49058608]\n",
            " ...\n",
            " [-0.49058608  0.         -0.49058608 ...  0.         -1.47175825\n",
            "   0.        ]\n",
            " [ 0.         -0.49058608  0.49058608 ... -1.47175825  0.\n",
            "  -0.49058608]\n",
            " [-0.49058608  0.49058608  0.49058608 ...  0.         -0.49058608\n",
            "  -0.49058608]]\n"
          ]
        }
      ]
    },
    {
      "cell_type": "code",
      "source": [
        "model = XGBRegressor()"
      ],
      "metadata": {
        "id": "hACjQR4H6neE"
      },
      "execution_count": 103,
      "outputs": []
    },
    {
      "cell_type": "code",
      "source": [
        "model.fit(window_view_no_last, last_values)"
      ],
      "metadata": {
        "id": "QdjMkItS6omF",
        "outputId": "8ca788ec-ab37-40b4-ba98-1e6c80563bdc",
        "colab": {
          "base_uri": "https://localhost:8080/",
          "height": 248
        }
      },
      "execution_count": 104,
      "outputs": [
        {
          "output_type": "execute_result",
          "data": {
            "text/plain": [
              "XGBRegressor(base_score=None, booster=None, callbacks=None,\n",
              "             colsample_bylevel=None, colsample_bynode=None,\n",
              "             colsample_bytree=None, device=None, early_stopping_rounds=None,\n",
              "             enable_categorical=False, eval_metric=None, feature_types=None,\n",
              "             gamma=None, grow_policy=None, importance_type=None,\n",
              "             interaction_constraints=None, learning_rate=None, max_bin=None,\n",
              "             max_cat_threshold=None, max_cat_to_onehot=None,\n",
              "             max_delta_step=None, max_depth=None, max_leaves=None,\n",
              "             min_child_weight=None, missing=nan, monotone_constraints=None,\n",
              "             multi_strategy=None, n_estimators=None, n_jobs=None,\n",
              "             num_parallel_tree=None, random_state=None, ...)"
            ],
            "text/html": [
              "<style>#sk-container-id-4 {color: black;background-color: white;}#sk-container-id-4 pre{padding: 0;}#sk-container-id-4 div.sk-toggleable {background-color: white;}#sk-container-id-4 label.sk-toggleable__label {cursor: pointer;display: block;width: 100%;margin-bottom: 0;padding: 0.3em;box-sizing: border-box;text-align: center;}#sk-container-id-4 label.sk-toggleable__label-arrow:before {content: \"▸\";float: left;margin-right: 0.25em;color: #696969;}#sk-container-id-4 label.sk-toggleable__label-arrow:hover:before {color: black;}#sk-container-id-4 div.sk-estimator:hover label.sk-toggleable__label-arrow:before {color: black;}#sk-container-id-4 div.sk-toggleable__content {max-height: 0;max-width: 0;overflow: hidden;text-align: left;background-color: #f0f8ff;}#sk-container-id-4 div.sk-toggleable__content pre {margin: 0.2em;color: black;border-radius: 0.25em;background-color: #f0f8ff;}#sk-container-id-4 input.sk-toggleable__control:checked~div.sk-toggleable__content {max-height: 200px;max-width: 100%;overflow: auto;}#sk-container-id-4 input.sk-toggleable__control:checked~label.sk-toggleable__label-arrow:before {content: \"▾\";}#sk-container-id-4 div.sk-estimator input.sk-toggleable__control:checked~label.sk-toggleable__label {background-color: #d4ebff;}#sk-container-id-4 div.sk-label input.sk-toggleable__control:checked~label.sk-toggleable__label {background-color: #d4ebff;}#sk-container-id-4 input.sk-hidden--visually {border: 0;clip: rect(1px 1px 1px 1px);clip: rect(1px, 1px, 1px, 1px);height: 1px;margin: -1px;overflow: hidden;padding: 0;position: absolute;width: 1px;}#sk-container-id-4 div.sk-estimator {font-family: monospace;background-color: #f0f8ff;border: 1px dotted black;border-radius: 0.25em;box-sizing: border-box;margin-bottom: 0.5em;}#sk-container-id-4 div.sk-estimator:hover {background-color: #d4ebff;}#sk-container-id-4 div.sk-parallel-item::after {content: \"\";width: 100%;border-bottom: 1px solid gray;flex-grow: 1;}#sk-container-id-4 div.sk-label:hover label.sk-toggleable__label {background-color: #d4ebff;}#sk-container-id-4 div.sk-serial::before {content: \"\";position: absolute;border-left: 1px solid gray;box-sizing: border-box;top: 0;bottom: 0;left: 50%;z-index: 0;}#sk-container-id-4 div.sk-serial {display: flex;flex-direction: column;align-items: center;background-color: white;padding-right: 0.2em;padding-left: 0.2em;position: relative;}#sk-container-id-4 div.sk-item {position: relative;z-index: 1;}#sk-container-id-4 div.sk-parallel {display: flex;align-items: stretch;justify-content: center;background-color: white;position: relative;}#sk-container-id-4 div.sk-item::before, #sk-container-id-4 div.sk-parallel-item::before {content: \"\";position: absolute;border-left: 1px solid gray;box-sizing: border-box;top: 0;bottom: 0;left: 50%;z-index: -1;}#sk-container-id-4 div.sk-parallel-item {display: flex;flex-direction: column;z-index: 1;position: relative;background-color: white;}#sk-container-id-4 div.sk-parallel-item:first-child::after {align-self: flex-end;width: 50%;}#sk-container-id-4 div.sk-parallel-item:last-child::after {align-self: flex-start;width: 50%;}#sk-container-id-4 div.sk-parallel-item:only-child::after {width: 0;}#sk-container-id-4 div.sk-dashed-wrapped {border: 1px dashed gray;margin: 0 0.4em 0.5em 0.4em;box-sizing: border-box;padding-bottom: 0.4em;background-color: white;}#sk-container-id-4 div.sk-label label {font-family: monospace;font-weight: bold;display: inline-block;line-height: 1.2em;}#sk-container-id-4 div.sk-label-container {text-align: center;}#sk-container-id-4 div.sk-container {/* jupyter's `normalize.less` sets `[hidden] { display: none; }` but bootstrap.min.css set `[hidden] { display: none !important; }` so we also need the `!important` here to be able to override the default hidden behavior on the sphinx rendered scikit-learn.org. See: https://github.com/scikit-learn/scikit-learn/issues/21755 */display: inline-block !important;position: relative;}#sk-container-id-4 div.sk-text-repr-fallback {display: none;}</style><div id=\"sk-container-id-4\" class=\"sk-top-container\"><div class=\"sk-text-repr-fallback\"><pre>XGBRegressor(base_score=None, booster=None, callbacks=None,\n",
              "             colsample_bylevel=None, colsample_bynode=None,\n",
              "             colsample_bytree=None, device=None, early_stopping_rounds=None,\n",
              "             enable_categorical=False, eval_metric=None, feature_types=None,\n",
              "             gamma=None, grow_policy=None, importance_type=None,\n",
              "             interaction_constraints=None, learning_rate=None, max_bin=None,\n",
              "             max_cat_threshold=None, max_cat_to_onehot=None,\n",
              "             max_delta_step=None, max_depth=None, max_leaves=None,\n",
              "             min_child_weight=None, missing=nan, monotone_constraints=None,\n",
              "             multi_strategy=None, n_estimators=None, n_jobs=None,\n",
              "             num_parallel_tree=None, random_state=None, ...)</pre><b>In a Jupyter environment, please rerun this cell to show the HTML representation or trust the notebook. <br />On GitHub, the HTML representation is unable to render, please try loading this page with nbviewer.org.</b></div><div class=\"sk-container\" hidden><div class=\"sk-item\"><div class=\"sk-estimator sk-toggleable\"><input class=\"sk-toggleable__control sk-hidden--visually\" id=\"sk-estimator-id-4\" type=\"checkbox\" checked><label for=\"sk-estimator-id-4\" class=\"sk-toggleable__label sk-toggleable__label-arrow\">XGBRegressor</label><div class=\"sk-toggleable__content\"><pre>XGBRegressor(base_score=None, booster=None, callbacks=None,\n",
              "             colsample_bylevel=None, colsample_bynode=None,\n",
              "             colsample_bytree=None, device=None, early_stopping_rounds=None,\n",
              "             enable_categorical=False, eval_metric=None, feature_types=None,\n",
              "             gamma=None, grow_policy=None, importance_type=None,\n",
              "             interaction_constraints=None, learning_rate=None, max_bin=None,\n",
              "             max_cat_threshold=None, max_cat_to_onehot=None,\n",
              "             max_delta_step=None, max_depth=None, max_leaves=None,\n",
              "             min_child_weight=None, missing=nan, monotone_constraints=None,\n",
              "             multi_strategy=None, n_estimators=None, n_jobs=None,\n",
              "             num_parallel_tree=None, random_state=None, ...)</pre></div></div></div></div></div>"
            ]
          },
          "metadata": {},
          "execution_count": 104
        }
      ]
    },
    {
      "cell_type": "code",
      "source": [
        "predictions = model.predict(window_view_no_last)"
      ],
      "metadata": {
        "id": "sVu3qNs567qZ"
      },
      "execution_count": 105,
      "outputs": []
    },
    {
      "cell_type": "code",
      "source": [
        "# Calculate MAE\n",
        "mae = mean_absolute_error(last_values, predictions)\n",
        "print('Mean Absolute Error:', mae)\n",
        "\n",
        "# Calculate RMSE\n",
        "rmse = np.sqrt(mean_squared_error(last_values, predictions))\n",
        "print('Root Mean Squared Error:', rmse)\n",
        "\n",
        "# Calculate R-squared\n",
        "r2 = r2_score(last_values, predictions)\n",
        "print('R-squared:', r2)"
      ],
      "metadata": {
        "id": "mnOM6vnJ7Tfh",
        "outputId": "75c37db0-bba1-4bc2-8935-0e27f0ff057b",
        "colab": {
          "base_uri": "https://localhost:8080/"
        }
      },
      "execution_count": 106,
      "outputs": [
        {
          "output_type": "stream",
          "name": "stdout",
          "text": [
            "Mean Absolute Error: 0.6370300929492699\n",
            "Root Mean Squared Error: 0.9555296430155412\n",
            "R-squared: 0.08669611087873164\n"
          ]
        }
      ]
    },
    {
      "cell_type": "code",
      "source": [
        "plt.plot(last_values)\n",
        "plt.plot(predictions*10)\n",
        "plt.ylim(-10,10)\n",
        "plt.xlim(50800,51000)"
      ],
      "metadata": {
        "id": "c7__gFfq7wW0",
        "outputId": "7200d3bf-dbe2-4c5b-ae13-bead758da04d",
        "colab": {
          "base_uri": "https://localhost:8080/",
          "height": 452
        }
      },
      "execution_count": 117,
      "outputs": [
        {
          "output_type": "execute_result",
          "data": {
            "text/plain": [
              "(50800.0, 51000.0)"
            ]
          },
          "metadata": {},
          "execution_count": 117
        },
        {
          "output_type": "display_data",
          "data": {
            "text/plain": [
              "<Figure size 640x480 with 1 Axes>"
            ],
            "image/png": "[encoded data removed]"
          },
          "metadata": {}
        }
      ]
    }
  ],
  "metadata": {
    "colab": {
      "name": "Overview of Colaboratory Features",
      "provenance": [],
      "history_visible": true,
      "include_colab_link": true
    },
    "kernelspec": {
      "display_name": "Python 3 (ipykernel)",
      "language": "python",
      "name": "python3"
    },
    "language_info": {
      "codemirror_mode": {
        "name": "ipython",
        "version": 3
      },
      "file_extension": ".py",
      "mimetype": "text/x-python",
      "name": "python",
      "nbconvert_exporter": "python",
      "pygments_lexer": "ipython3",
      "version": "3.8.10"
    }
  },
  "nbformat": 4,
  "nbformat_minor": 0
}