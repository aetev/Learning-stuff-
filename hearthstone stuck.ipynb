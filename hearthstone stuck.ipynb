{
  "cells": [
    {
      "cell_type": "markdown",
      "metadata": {
        "id": "view-in-github",
        "colab_type": "text"
      },
      "source": [
        "<a href=\"https://colab.research.google.com/github/aetev/Learning-stuff-/blob/main/hearthstone%20stuck.ipynb\" target=\"_parent\"><img src=\"https://colab.research.google.com/assets/colab-badge.svg\" alt=\"Open In Colab\"/></a>"
      ]
    },
    {
      "cell_type": "code",
      "source": [
        "import numpy as np\n",
        "import random\n",
        "import time\n",
        "import sys"
      ],
      "metadata": {
        "id": "CgO0GYeIF1pq"
      },
      "execution_count": 266,
      "outputs": []
    },
    {
      "cell_type": "code",
      "source": [
        "minion_info = {\n",
        "    \"squid\": [1,1,3],\n",
        "    \"fish\": [4,5,4],\n",
        "    \"pig\": [7,7,8]\n",
        "}"
      ],
      "metadata": {
        "id": "JAGu9dbKsUpt"
      },
      "execution_count": 267,
      "outputs": []
    },
    {
      "cell_type": "code",
      "source": [
        "class minion:\n",
        "  def __init__(self,name):\n",
        "    self.name = name\n",
        "    self.mana = minion_info[self.name][0]\n",
        "    self.attack = minion_info[self.name][1]\n",
        "    self.health = minion_info[self.name][2]"
      ],
      "metadata": {
        "id": "WV_8vajZlLlZ"
      },
      "execution_count": 268,
      "outputs": []
    },
    {
      "cell_type": "code",
      "source": [
        "class player:\n",
        "    def __init__(self,deck):\n",
        "        self.deck = deck\n",
        "        self.hand = []\n",
        "        self.board = []\n",
        "        self.max_health = 30\n",
        "        self._health = self.max_health\n",
        "        self.mana = 0\n",
        "\n",
        "\n",
        "    def draw(self,amount):\n",
        "      for i in range(amount):\n",
        "        card = self.deck.pop(0)\n",
        "        if len(self.hand) <= 10:\n",
        "          self.hand.append(card)\n",
        "\n",
        "    @property\n",
        "    def health(self):\n",
        "      return self._health\n",
        "\n",
        "    @health.setter\n",
        "    def modi_health(self, value):\n",
        "      self._health += value\n",
        "      if self._health > self.max_health:\n",
        "        self._health = self.max_health\n",
        ""
      ],
      "metadata": {
        "id": "CrIiOy3sF6Wb"
      },
      "execution_count": 269,
      "outputs": []
    },
    {
      "cell_type": "code",
      "source": [
        "class game:\n",
        "  def __init__(self,player_1,player_2):\n",
        "    self.p1 = player_1\n",
        "    self.p2 = player_2\n",
        "    coin_1 = random.randint(0,1)\n",
        "    coin_2 = 1 if coin_1 == 0 else 0\n",
        "    self.p1.draw(3+coin_1)\n",
        "    self.p2.draw(3+coin_2)\n",
        "    self.game_state = \"Mulligan\"\n",
        "\n",
        "\"\"\"\n",
        "  def action(self, action_num):\n",
        "\n",
        "    match self.game_state:\n",
        "      case 'Mulligan':\n",
        "\n",
        "    return\n",
        "\n",
        "\n",
        "  @property\n",
        "  def observe_p1(self):\n",
        "    hand_p1 = self.p1.hand\n",
        "    return hand_p1\n",
        "\"\"\"\n"
      ],
      "metadata": {
        "colab": {
          "base_uri": "https://localhost:8080/",
          "height": 53
        },
        "id": "-le4m_ASR9mA",
        "outputId": "bc3f3ead-068b-4bbf-bd1e-68d81b73bcf6"
      },
      "execution_count": 275,
      "outputs": [
        {
          "output_type": "execute_result",
          "data": {
            "text/plain": [
              "\"\\n  def action(self, action_num):\\n\\n    match self.game_state:\\n      case 'Mulligan':\\n\\n    return\\n\\n\\n  @property\\n  def observe_p1(self):\\n    hand_p1 = self.p1.hand\\n    return hand_p1\\n\""
            ],
            "application/vnd.google.colaboratory.intrinsic+json": {
              "type": "string"
            }
          },
          "metadata": {},
          "execution_count": 275
        }
      ]
    },
    {
      "cell_type": "code",
      "source": [
        "\n",
        "deck1 = [1,2,3,4,5,6]\n",
        "deck2 = [1,2,3,4,5,6]\n",
        "\n",
        "player1 = Player(deck1)\n",
        "player2 = Player(deck2)\n",
        "\n",
        "games = game(player1,player2)\n",
        "\n",
        "#p1, p2 = games.observe\n",
        "#print(p1)\n",
        "#print(p2)"
      ],
      "metadata": {
        "id": "8siv0bHsSAGE"
      },
      "execution_count": 278,
      "outputs": []
    },
    {
      "cell_type": "code",
      "source": [
        "memory_usage = sys.getsizeof(games)\n",
        "print(memory_usage)"
      ],
      "metadata": {
        "id": "w7NqEhsgL5VZ",
        "outputId": "1f1ff3cb-c819-4fe2-b01a-ca515ea9d898",
        "colab": {
          "base_uri": "https://localhost:8080/"
        }
      },
      "execution_count": 280,
      "outputs": [
        {
          "output_type": "stream",
          "name": "stdout",
          "text": [
            "48\n"
          ]
        }
      ]
    },
    {
      "cell_type": "code",
      "source": [
        "p1 , p2 = games.observe"
      ],
      "metadata": {
        "id": "3GCKsEH-o43L"
      },
      "execution_count": null,
      "outputs": []
    },
    {
      "cell_type": "code",
      "source": [
        "print(p1)\n",
        "print(p2)"
      ],
      "metadata": {
        "id": "IJI2HRbh-Kk9"
      },
      "execution_count": null,
      "outputs": []
    },
    {
      "cell_type": "code",
      "source": [
        "game.action(20)\n",
        "obs_p1, obs_p2, obs_full = game.observe"
      ],
      "metadata": {
        "id": "DRA3lgcDZFvZ"
      },
      "execution_count": null,
      "outputs": []
    }
  ],
  "metadata": {
    "colab": {
      "name": "Welcome To Colab",
      "provenance": [],
      "include_colab_link": true
    },
    "kernelspec": {
      "display_name": "Python 3",
      "name": "python3"
    }
  },
  "nbformat": 4,
  "nbformat_minor": 0
}