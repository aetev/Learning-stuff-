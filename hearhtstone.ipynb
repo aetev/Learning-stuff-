{
  "cells": [
    {
      "cell_type": "markdown",
      "metadata": {
        "id": "view-in-github",
        "colab_type": "text"
      },
      "source": [
        "<a href=\"https://colab.research.google.com/github/aetev/Learning-stuff-/blob/main/hearhtstone.ipynb\" target=\"_parent\"><img src=\"https://colab.research.google.com/assets/colab-badge.svg\" alt=\"Open In Colab\"/></a>"
      ]
    },
    {
      "cell_type": "code",
      "source": [
        "import numpy as np"
      ],
      "metadata": {
        "id": "CgO0GYeIF1pq"
      },
      "execution_count": 1,
      "outputs": []
    },
    {
      "cell_type": "code",
      "source": [
        "from abc import ABC, abstractmethod\n",
        "\n",
        "class minion(ABC):\n",
        "    def __init__(self, attack, health, mana_cost):\n",
        "        self.max_health = health\n",
        "        self._health = self.max_health\n",
        "        self._attack = attack\n",
        "        self.mana_cost = mana_cost\n",
        "\n",
        "    @property\n",
        "    def health(self):\n",
        "      return self._health\n",
        "\n",
        "    @health.setter\n",
        "    def modi_health(self,value):\n",
        "      self._health += value\n",
        "      if self._health > self.max_health:\n",
        "        self._health = self.max_health\n",
        "\n",
        "    def attack(self,minion):\n",
        "\n"
      ],
      "metadata": {
        "id": "qoic96ILPztt"
      },
      "execution_count": 115,
      "outputs": []
    },
    {
      "cell_type": "code",
      "source": [
        "def attack(minion1,minion2):\n",
        "  minion1.modi_health(-minion2.attack)\n",
        "  minion2.modi_health(-minion1.attack)\n",
        "\n"
      ],
      "metadata": {
        "id": "zq_a_LwQeyfo"
      },
      "execution_count": null,
      "outputs": []
    },
    {
      "cell_type": "code",
      "source": [
        "test1 = minion(5,5,5)\n",
        "test2 = minion(6,3,5)"
      ],
      "metadata": {
        "id": "duOVedT6Wg_P"
      },
      "execution_count": 116,
      "outputs": []
    },
    {
      "cell_type": "code",
      "source": [
        "test1.attack(test2)"
      ],
      "metadata": {
        "id": "nfRvBpgFhwP3"
      },
      "execution_count": null,
      "outputs": []
    },
    {
      "cell_type": "code",
      "source": [
        "test.modi_health = -2"
      ],
      "metadata": {
        "id": "nVCKZ818guRr"
      },
      "execution_count": 111,
      "outputs": []
    },
    {
      "cell_type": "code",
      "source": [
        "test.health"
      ],
      "metadata": {
        "id": "HBepuZuSWw9b",
        "outputId": "804d6c51-696c-4896-b7a6-fed8ad167216",
        "colab": {
          "base_uri": "https://localhost:8080/"
        }
      },
      "execution_count": 114,
      "outputs": [
        {
          "output_type": "execute_result",
          "data": {
            "text/plain": [
              "3"
            ]
          },
          "metadata": {},
          "execution_count": 114
        }
      ]
    },
    {
      "cell_type": "code",
      "source": [
        "class Player:\n",
        "    def __init__(self,deck):\n",
        "        self.deck = []\n",
        "        self.hand = []\n",
        "        self.max_health = 30\n",
        "        self._health = self.max_health\n",
        "        self.mana = 0\n",
        "\n",
        "    @property\n",
        "    def health(self):\n",
        "      return self._health\n",
        "\n",
        "    @health.setter\n",
        "    def modi_health(self, value):\n",
        "      self._health += value\n",
        "      if self._health > self.max_health:\n",
        "        self._health = self.max_health\n",
        "\n",
        ""
      ],
      "metadata": {
        "id": "CrIiOy3sF6Wb"
      },
      "execution_count": 67,
      "outputs": []
    },
    {
      "cell_type": "code",
      "source": [
        "class Game:\n",
        "  def __init__(self,Player_1,Player_2):\n",
        "    self.board_P1 = []\n",
        "    self.board_P2 = []\n"
      ],
      "metadata": {
        "id": "oHLhMF09L5cI"
      },
      "execution_count": null,
      "outputs": []
    },
    {
      "cell_type": "code",
      "source": [
        "state = Player(deck)"
      ],
      "metadata": {
        "id": "Sc_QdQFI3VAj"
      },
      "execution_count": 68,
      "outputs": []
    },
    {
      "cell_type": "code",
      "source": [
        "state.modi_health = -5\n",
        "print(state.health)"
      ],
      "metadata": {
        "id": "bE_7vfmg6Lny",
        "outputId": "45f04654-04f6-4d51-94fc-c07f21d091f4",
        "colab": {
          "base_uri": "https://localhost:8080/"
        }
      },
      "execution_count": 71,
      "outputs": [
        {
          "output_type": "stream",
          "name": "stdout",
          "text": [
            "25\n"
          ]
        }
      ]
    }
  ],
  "metadata": {
    "colab": {
      "name": "Welcome To Colab",
      "provenance": [],
      "include_colab_link": true
    },
    "kernelspec": {
      "display_name": "Python 3",
      "name": "python3"
    }
  },
  "nbformat": 4,
  "nbformat_minor": 0
}