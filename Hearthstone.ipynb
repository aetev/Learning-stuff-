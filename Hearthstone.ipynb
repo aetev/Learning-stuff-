{
  "cells": [
    {
      "cell_type": "markdown",
      "metadata": {
        "id": "view-in-github",
        "colab_type": "text"
      },
      "source": [
        "<a href=\"https://colab.research.google.com/github/aetev/Learning-stuff-/blob/main/Hearthstone.ipynb\" target=\"_parent\"><img src=\"https://colab.research.google.com/assets/colab-badge.svg\" alt=\"Open In Colab\"/></a>"
      ]
    },
    {
      "cell_type": "code",
      "source": [
        "import numpy as np"
      ],
      "metadata": {
        "id": "CgO0GYeIF1pq"
      },
      "execution_count": 1,
      "outputs": []
    },
    {
      "cell_type": "code",
      "source": [
        "from abc import ABC, abstractmethod\n",
        "\n",
        "class minion:\n",
        "    def __init__(self, attack, health, mana_cost):\n",
        "        self.max_health = health\n",
        "        self._health = self.max_health\n",
        "        self._attack = attack\n",
        "        self.mana_cost = mana_cost\n",
        "\n",
        "    @property\n",
        "    def health(self):\n",
        "      return self._health\n",
        "\n",
        "    @health.setter\n",
        "    def modi_health(self,value):\n",
        "      self._health += value\n",
        "      if self._health > self.max_health:\n",
        "        self._health = self.max_health\n",
        "\n",
        "    def attack(self,enemy):\n",
        "      self.modi_health = -enemy._attack\n",
        "      enemy.modi_health = -self._attack"
      ],
      "metadata": {
        "id": "qoic96ILPztt"
      },
      "execution_count": 151,
      "outputs": []
    },
    {
      "cell_type": "code",
      "source": [
        "def heal(self, amount):\n",
        "  self.modi_health = amount"
      ],
      "metadata": {
        "id": "tNN-025cr_gt"
      },
      "execution_count": 154,
      "outputs": []
    },
    {
      "cell_type": "code",
      "source": [
        "class stan(minion):\n",
        "  def heal(self):\n",
        "    return heal(self,2)\n",
        "  pass"
      ],
      "metadata": {
        "id": "PGBvbTuVpFM4"
      },
      "execution_count": 155,
      "outputs": []
    },
    {
      "cell_type": "code",
      "source": [
        "test1 = stan(5,5,5)\n",
        "test2 = minion(6,3,5)"
      ],
      "metadata": {
        "id": "duOVedT6Wg_P"
      },
      "execution_count": 156,
      "outputs": []
    },
    {
      "cell_type": "code",
      "source": [
        "test1.attack(test2)"
      ],
      "metadata": {
        "id": "PTBrYgc9zJsN"
      },
      "execution_count": 160,
      "outputs": []
    },
    {
      "cell_type": "code",
      "source": [
        "test1.heal()"
      ],
      "metadata": {
        "id": "nfRvBpgFhwP3"
      },
      "execution_count": 162,
      "outputs": []
    },
    {
      "cell_type": "code",
      "source": [
        "test1.health"
      ],
      "metadata": {
        "colab": {
          "base_uri": "https://localhost:8080/"
        },
        "id": "HBepuZuSWw9b",
        "outputId": "309d4cf2-858f-4d9f-d5fe-13276d0aac47"
      },
      "execution_count": 163,
      "outputs": [
        {
          "output_type": "execute_result",
          "data": {
            "text/plain": [
              "1"
            ]
          },
          "metadata": {},
          "execution_count": 163
        }
      ]
    },
    {
      "cell_type": "code",
      "source": [
        "class Player:\n",
        "    def __init__(self,deck):\n",
        "        self.deck = []\n",
        "        self.hand = []\n",
        "        self.max_health = 30\n",
        "        self._health = self.max_health\n",
        "        self.mana = 0\n",
        "\n",
        "    @property\n",
        "    def health(self):\n",
        "      return self._health\n",
        "\n",
        "    @health.setter\n",
        "    def modi_health(self, value):\n",
        "      self._health += value\n",
        "      if self._health > self.max_health:\n",
        "        self._health = self.max_health\n",
        "\n",
        ""
      ],
      "metadata": {
        "id": "CrIiOy3sF6Wb"
      },
      "execution_count": 67,
      "outputs": []
    },
    {
      "cell_type": "code",
      "source": [
        "class Game:\n",
        "  def __init__(self,Player_1,Player_2):\n",
        "    self.board_P1 = []\n",
        "    self.board_P2 = []\n"
      ],
      "metadata": {
        "id": "oHLhMF09L5cI"
      },
      "execution_count": null,
      "outputs": []
    },
    {
      "cell_type": "code",
      "source": [
        "state = Player(deck)"
      ],
      "metadata": {
        "id": "Sc_QdQFI3VAj"
      },
      "execution_count": 68,
      "outputs": []
    },
    {
      "cell_type": "code",
      "source": [
        "state.modi_health = -5\n",
        "print(state.health)"
      ],
      "metadata": {
        "colab": {
          "base_uri": "https://localhost:8080/"
        },
        "id": "bE_7vfmg6Lny",
        "outputId": "45f04654-04f6-4d51-94fc-c07f21d091f4"
      },
      "execution_count": 71,
      "outputs": [
        {
          "output_type": "stream",
          "name": "stdout",
          "text": [
            "25\n"
          ]
        }
      ]
    }
  ],
  "metadata": {
    "colab": {
      "name": "Welcome To Colab",
      "provenance": [],
      "include_colab_link": true
    },
    "kernelspec": {
      "display_name": "Python 3",
      "name": "python3"
    }
  },
  "nbformat": 4,
  "nbformat_minor": 0
}