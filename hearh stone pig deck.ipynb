{
  "cells": [
    {
      "cell_type": "markdown",
      "metadata": {
        "id": "view-in-github",
        "colab_type": "text"
      },
      "source": [
        "<a href=\"https://colab.research.google.com/github/aetev/Learning-stuff-/blob/main/hearh%20stone%20pig%20deck.ipynb\" target=\"_parent\"><img src=\"https://colab.research.google.com/assets/colab-badge.svg\" alt=\"Open In Colab\"/></a>"
      ]
    },
    {
      "cell_type": "code",
      "source": [
        "import numpy as np\n",
        "import random\n",
        "import time\n",
        "import sys"
      ],
      "metadata": {
        "id": "CgO0GYeIF1pq"
      },
      "execution_count": 1,
      "outputs": []
    },
    {
      "cell_type": "code",
      "source": [
        "minion_info = {\n",
        "    \"squid\": [1,1,3],\n",
        "    \"fish\": [4,5,4],\n",
        "    \"pig\": [7,7,8]\n",
        "}"
      ],
      "metadata": {
        "id": "JAGu9dbKsUpt"
      },
      "execution_count": 2,
      "outputs": []
    },
    {
      "cell_type": "code",
      "source": [
        "class card:\n",
        "    def __init__(self,name):\n",
        "        self.name = name\n",
        "        self.mana = minion_info[self.name][0]\n",
        "        self.attack = minion_info[self.name][1]\n",
        "        self.health = minion_info[self.name][2]"
      ],
      "metadata": {
        "id": "MmWczAG5dpB8"
      },
      "execution_count": 24,
      "outputs": []
    },
    {
      "cell_type": "code",
      "source": [
        "class minion(card):\n",
        "  def __init__(self):\n",
        "    super().__init__(name=type(self).__name__)"
      ],
      "metadata": {
        "id": "-uKhPaPKKU6Q"
      },
      "execution_count": 25,
      "outputs": []
    },
    {
      "cell_type": "code",
      "source": [
        "class pig(minion):\n",
        "  pass\n",
        "\n",
        "class fish(minion):\n",
        "  pass\n",
        "\n",
        "class squid(minion):\n",
        "  pass"
      ],
      "metadata": {
        "id": "wPXCow1UKJic"
      },
      "execution_count": 26,
      "outputs": []
    },
    {
      "cell_type": "code",
      "source": [
        "class player:\n",
        "    def __init__(self,deck):\n",
        "        self.deck = deck\n",
        "        self.hand = []\n",
        "        self.board = []\n",
        "        self.max_health = 30\n",
        "        self._health = self.max_health\n",
        "        self.mana = 0\n",
        "\n",
        "\n",
        "    def draw(self,amount):\n",
        "      for i in range(amount):\n",
        "        card = self.deck.pop(0)\n",
        "        if len(self.hand) <= 10:\n",
        "          self.hand.append(card)\n",
        "\n",
        "    @property\n",
        "    def health(self):\n",
        "      return self._health\n",
        "\n",
        "    @health.setter\n",
        "    def modi_health(self, value):\n",
        "      self._health += value\n",
        "      if self._health > self.max_health:\n",
        "        self._health = self.max_health\n",
        ""
      ],
      "metadata": {
        "id": "CrIiOy3sF6Wb"
      },
      "execution_count": 6,
      "outputs": []
    },
    {
      "cell_type": "code",
      "source": [
        "class game:\n",
        "  def __init__(self,player_1,player_2):\n",
        "    self.p1 = player_1\n",
        "    self.p2 = player_2\n",
        "    coin_1 = random.randint(0,1)\n",
        "    coin_2 = 1 if coin_1 == 0 else 0\n",
        "    self.p1.draw(3+coin_1)\n",
        "    self.p2.draw(3+coin_2)\n",
        "    self.game_state = \"Mulligan\"\n",
        "  \"\"\"\n",
        "  def action(self, action_num):\n",
        "\n",
        "    match self.game_state:\n",
        "      case 'Mulligan':\n",
        "\n",
        "    return\n",
        "  \"\"\"\n",
        "\n",
        "  @property\n",
        "  def observe_p1(self):\n",
        "    hand_p1 = self.p1.hand\n",
        "    return hand_p1\n",
        "\n"
      ],
      "metadata": {
        "id": "-le4m_ASR9mA"
      },
      "execution_count": 34,
      "outputs": []
    },
    {
      "cell_type": "code",
      "source": [
        "\n",
        "deck1 = [pig() for _ in range(30)]\n",
        "deck2 = [squid() for _ in range(30)]\n",
        "\n",
        "player1 = player(deck1)\n",
        "player2 = player(deck2)\n",
        "\n",
        "games = game(player1,player2)\n",
        "\n",
        "p1 = games.observe_p1\n",
        "print(p1)\n"
      ],
      "metadata": {
        "colab": {
          "base_uri": "https://localhost:8080/"
        },
        "id": "8siv0bHsSAGE",
        "outputId": "def1e6bc-7c5b-498e-d92d-c3caff2b36ce"
      },
      "execution_count": 37,
      "outputs": [
        {
          "output_type": "stream",
          "name": "stdout",
          "text": [
            "[<__main__.pig object at 0x7cda71877f10>, <__main__.pig object at 0x7cda71874c10>, <__main__.pig object at 0x7cda718741c0>, <__main__.pig object at 0x7cda718755a0>]\n"
          ]
        }
      ]
    }
  ],
  "metadata": {
    "colab": {
      "name": "Welcome To Colab",
      "provenance": [],
      "include_colab_link": true
    },
    "kernelspec": {
      "display_name": "Python 3",
      "name": "python3"
    }
  },
  "nbformat": 4,
  "nbformat_minor": 0
}