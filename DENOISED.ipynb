{
  "cells": [
    {
      "cell_type": "markdown",
      "metadata": {
        "id": "view-in-github",
        "colab_type": "text"
      },
      "source": [
        "<a href=\"https://colab.research.google.com/github/aetev/Learning-stuff-/blob/main/DENOISED.ipynb\" target=\"_parent\"><img src=\"https://colab.research.google.com/assets/colab-badge.svg\" alt=\"Open In Colab\"/></a>"
      ]
    },
    {
      "cell_type": "code",
      "execution_count": 101,
      "metadata": {
        "colab": {
          "base_uri": "https://localhost:8080/"
        },
        "id": "TWAdRqLdGEyf",
        "outputId": "f8229d1d-9f3c-4233-a658-3544bdb4f79b",
        "scrolled": true
      },
      "outputs": [
        {
          "output_type": "stream",
          "name": "stdout",
          "text": [
            "Drive already mounted at /content/drive; to attempt to forcibly remount, call drive.mount(\"/content/drive\", force_remount=True).\n"
          ]
        }
      ],
      "source": [
        "from google.colab import drive\n",
        "drive.mount('/content/drive')"
      ]
    },
    {
      "cell_type": "code",
      "execution_count": 102,
      "metadata": {
        "colab": {
          "base_uri": "https://localhost:8080/"
        },
        "id": "kIPBOzgXLKp5",
        "outputId": "7866c6b4-e6ef-47ff-9abd-66f4f82ee57c",
        "scrolled": true
      },
      "outputs": [
        {
          "output_type": "stream",
          "name": "stdout",
          "text": [
            "Requirement already satisfied: pandas_ta in /usr/local/lib/python3.10/dist-packages (0.3.14b0)\n",
            "Requirement already satisfied: pandas in /usr/local/lib/python3.10/dist-packages (from pandas_ta) (1.5.3)\n",
            "Requirement already satisfied: python-dateutil>=2.8.1 in /usr/local/lib/python3.10/dist-packages (from pandas->pandas_ta) (2.8.2)\n",
            "Requirement already satisfied: pytz>=2020.1 in /usr/local/lib/python3.10/dist-packages (from pandas->pandas_ta) (2023.3)\n",
            "Requirement already satisfied: numpy>=1.21.0 in /usr/local/lib/python3.10/dist-packages (from pandas->pandas_ta) (1.23.5)\n",
            "Requirement already satisfied: six>=1.5 in /usr/local/lib/python3.10/dist-packages (from python-dateutil>=2.8.1->pandas->pandas_ta) (1.16.0)\n"
          ]
        }
      ],
      "source": [
        "!pip install pandas_ta"
      ]
    },
    {
      "cell_type": "code",
      "source": [
        "import pandas as pd\n",
        "import numpy as np\n",
        "import pandas_ta as ta\n",
        "import tensorflow as tf\n",
        "from scipy.ndimage import gaussian_filter1d\n",
        "import matplotlib.pyplot as plt\n",
        "from numpy.lib.stride_tricks import sliding_window_view\n",
        "from tensorflow.keras.models import Sequential\n",
        "from tensorflow.keras.layers import Dense, Dropout, Conv1D, Flatten, LSTM\n",
        "from keras.utils import np_utils"
      ],
      "metadata": {
        "id": "DgDZuwY1Vlf_"
      },
      "execution_count": 103,
      "outputs": []
    },
    {
      "cell_type": "code",
      "execution_count": 104,
      "metadata": {
        "id": "iwSR4EWTLbDK",
        "scrolled": true,
        "colab": {
          "base_uri": "https://localhost:8080/"
        },
        "outputId": "3cc21bdd-eea6-4ef1-9e95-867d4fa8b666"
      },
      "outputs": [
        {
          "output_type": "stream",
          "name": "stdout",
          "text": [
            "             Date   Time       BO       BH       BL       BC      BCh  \\\n",
            "0      2005-05-02  00:00  1.28520  1.28520  1.28400  1.28440 -0.00080   \n",
            "1      2005-05-02  01:00  1.28440  1.28480  1.28390  1.28420 -0.00020   \n",
            "2      2005-05-02  02:00  1.28430  1.28540  1.28410  1.28510  0.00080   \n",
            "3      2005-05-02  03:00  1.28510  1.28590  1.28500  1.28510  0.00000   \n",
            "4      2005-05-02  04:00  1.28520  1.28590  1.28490  1.28550  0.00030   \n",
            "...           ...    ...      ...      ...      ...      ...      ...   \n",
            "93079  2020-04-29  18:00  1.08620  1.08851  1.08611  1.08713  0.00093   \n",
            "93080  2020-04-29  19:00  1.08711  1.08823  1.08659  1.08748  0.00037   \n",
            "93081  2020-04-29  20:00  1.08747  1.08788  1.08691  1.08708 -0.00039   \n",
            "93082  2020-04-29  21:00  1.08708  1.08740  1.08699  1.08714  0.00006   \n",
            "93083  2020-04-29  22:00  1.08728  1.08760  1.08727  1.08743  0.00015   \n",
            "\n",
            "            AO       AH       AL       AC      ACh  \n",
            "0      1.28540  1.28540  1.28420  1.28460 -0.00080  \n",
            "1      1.28460  1.28500  1.28410  1.28440 -0.00020  \n",
            "2      1.28450  1.28560  1.28430  1.28530  0.00080  \n",
            "3      1.28530  1.28610  1.28520  1.28530  0.00000  \n",
            "4      1.28540  1.28610  1.28510  1.28570  0.00030  \n",
            "...        ...      ...      ...      ...      ...  \n",
            "93079  1.08660  1.08865  1.08640  1.08726  0.00066  \n",
            "93080  1.08725  1.08837  1.08675  1.08760  0.00035  \n",
            "93081  1.08758  1.08810  1.08706  1.08808  0.00050  \n",
            "93082  1.08808  1.08814  1.08763  1.08766 -0.00042  \n",
            "93083  1.08756  1.08779  1.08749  1.08760  0.00004  \n",
            "\n",
            "[93084 rows x 12 columns]\n"
          ]
        }
      ],
      "source": [
        "df = pd.read_csv('/content/drive/MyDrive/eurusd_hour.csv')\n",
        "close = df['AC']\n",
        "open = df['AO']\n",
        "high = df['AH']\n",
        "low = df['AL']\n",
        "change = df['ACh']\n",
        "print(df)"
      ]
    },
    {
      "cell_type": "code",
      "source": [
        "df['Date'] = pd.to_datetime(df['Date'])\n",
        "df['Time'] = pd.to_datetime(df['Time'])\n",
        "\n",
        "Date_df = pd.DataFrame({\n",
        "       'Month': df['Date'].dt.month / 12,  # Divide by 12 to normalize the values between 0 and 1\n",
        "       'Day': df['Date'].dt.day / 31,  # Divide by 31 to normalize the values between 0 and 1\n",
        "       'Hour': df['Time'].dt.hour / 24,  # Divide by 24 to normalize the values between 0 and 1\n",
        "       'DayOfWeek': df['Date'].dt.dayofweek / 6  # Divide by 6 to normalize the values between 0 and 1\n",
        "   })"
      ],
      "metadata": {
        "id": "4dhpVfvre7SI"
      },
      "execution_count": 105,
      "outputs": []
    },
    {
      "cell_type": "code",
      "source": [
        "def compare_arrays(arr1, arr2):\n",
        "    result = []\n",
        "    for i in range(len(arr1)):\n",
        "        if arr1[i] > arr2[i]:\n",
        "            result.append(1)\n",
        "        else:\n",
        "            result.append(0)\n",
        "    return result"
      ],
      "metadata": {
        "id": "cVt6mfpFG2g5"
      },
      "execution_count": 106,
      "outputs": []
    },
    {
      "cell_type": "code",
      "source": [
        "SMA = ta.sma(close,4,offset=-2)\n",
        "filter = gaussian_filter1d(close, sigma=4)\n",
        "filter2 = np.roll(filter,2)\n",
        "classs = compare_arrays(filter,filter2)\n",
        "NOISE = close-filter\n",
        "BAR_SIZE = high-low\n",
        "OPEN_SIZE = open - low\n",
        "CLOSE_SIZE = close - low\n",
        "\n",
        "plt.xlim(30000,30200)\n",
        "plt.ylim(1.56,1.6)\n",
        "plt.plot(filter)\n",
        "plt.plot(filter2)\n",
        "plt.plot(close)\n",
        "plt.show()\n",
        "plt.xlim(30000,30200)\n",
        "plt.plot(classs)\n",
        "plt.show()"
      ],
      "metadata": {
        "colab": {
          "base_uri": "https://localhost:8080/",
          "height": 935
        },
        "id": "h_IAbmKpZDDB",
        "outputId": "ee3d1bf8-7e82-4a52-9121-7ca7eb182916"
      },
      "execution_count": 120,
      "outputs": [
        {
          "output_type": "stream",
          "name": "stderr",
          "text": [
            "Exception ignored in: <function _xla_gc_callback at 0x78c4a9241990>\n",
            "Traceback (most recent call last):\n",
            "  File \"/usr/local/lib/python3.10/dist-packages/jax/_src/lib/__init__.py\", line 98, in _xla_gc_callback\n",
            "    def _xla_gc_callback(*args):\n",
            "KeyboardInterrupt: \n"
          ]
        },
        {
          "output_type": "display_data",
          "data": {
            "text/plain": [
              "<Figure size 640x480 with 1 Axes>"
            ],
            "image/png": "[encoded data removed]"
          },
          "metadata": {}
        },
        {
          "output_type": "display_data",
          "data": {
            "text/plain": [
              "<Figure size 640x480 with 1 Axes>"
            ],
            "image/png": "[encoded data removed]"
          },
          "metadata": {}
        }
      ]
    },
    {
      "cell_type": "code",
      "source": [
        "# Define the window length and stride\n",
        "window_length = 10\n",
        "stride = 1\n",
        "\n",
        "month = Date_df['Month']\n",
        "day = Date_df['Day']\n",
        "hour = Date_df['Hour']\n",
        "dotw = Date_df['DayOfWeek']\n",
        "changed = pd.Series(change,name='change')\n",
        "NOISED = pd.Series(NOISE,name='noise')\n",
        "combined_series = pd.concat([changed,NOISED,month,day,hour,dotw], axis=1)\n",
        "combined_series = combined_series.dropna(axis=0)\n",
        "print(combined_series)\n",
        "noise = combined_series.pop('noise')\n",
        "changed = combined_series.pop('change')\n",
        "month = combined_series.pop('Month')\n",
        "day = combined_series.pop('Day')\n",
        "hour = combined_series.pop('Hour')\n",
        "dotw = combined_series.pop('DayOfWeek')\n",
        "\n",
        "# Create the sliding window view for time_series_1\n",
        "changed = sliding_window_view(changed, window_length)[::stride]\n",
        "NOISED = np.roll(noise, -window_length)\n",
        "NOISED = NOISED[:changed.shape[0]]\n",
        "month = np.expand_dims(month[:changed.shape[0]],1)\n",
        "day = np.expand_dims(day[:changed.shape[0]],1)\n",
        "hour = np.expand_dims(hour[:changed.shape[0]],1)\n",
        "dotw = np.expand_dims(dotw[:changed.shape[0]],1)\n",
        "\n",
        "\n",
        "changed = changed/np.std(changed)\n",
        "NOISED = NOISED/np.std(NOISED)\n",
        "print(changed)"
      ],
      "metadata": {
        "colab": {
          "base_uri": "https://localhost:8080/"
        },
        "id": "foQIs5K4aFko",
        "outputId": "648c8d7b-9428-4633-81d4-b803e1ac792e"
      },
      "execution_count": 108,
      "outputs": [
        {
          "output_type": "stream",
          "name": "stdout",
          "text": [
            "        change     noise     Month       Day      Hour  DayOfWeek\n",
            "0     -0.00080 -0.000579  0.416667  0.064516  0.000000   0.000000\n",
            "1     -0.00020 -0.000822  0.416667  0.064516  0.041667   0.000000\n",
            "2      0.00080 -0.000004  0.416667  0.064516  0.083333   0.000000\n",
            "3      0.00000 -0.000117  0.416667  0.064516  0.125000   0.000000\n",
            "4      0.00030  0.000151  0.416667  0.064516  0.166667   0.000000\n",
            "...        ...       ...       ...       ...       ...        ...\n",
            "93079  0.00066  0.000543  0.333333  0.935484  0.750000   0.333333\n",
            "93080  0.00035  0.000688  0.333333  0.935484  0.791667   0.333333\n",
            "93081  0.00050  0.001004  0.333333  0.935484  0.833333   0.333333\n",
            "93082 -0.00042  0.000467  0.333333  0.935484  0.875000   0.333333\n",
            "93083  0.00004  0.000345  0.333333  0.935484  0.916667   0.333333\n",
            "\n",
            "[93084 rows x 6 columns]\n",
            "[[-0.5175 -0.1294  0.5175 ... -0.1941  0.5499  0.2588]\n",
            " [-0.1294  0.5175  0.     ...  0.5499  0.2588  0.2911]\n",
            " [ 0.5175  0.      0.1941 ...  0.2588  0.2911 -0.8087]\n",
            " ...\n",
            " [-0.5305  0.9445  0.4334 ...  0.427   0.2264  0.3235]\n",
            " [ 0.9445  0.4334 -0.8022 ...  0.2264  0.3235 -0.2717]\n",
            " [ 0.4334 -0.8022  0.0388 ...  0.3235 -0.2717  0.0259]]\n"
          ]
        }
      ]
    },
    {
      "cell_type": "code",
      "source": [
        "\n",
        "#print(changed[:, ])\n",
        "#print(NOISED)\n",
        "\n",
        "\n",
        "plt.xlim(20000,20100)\n",
        "plt.plot(classs)\n",
        "plt.plot(close)\n"
      ],
      "metadata": {
        "colab": {
          "base_uri": "https://localhost:8080/",
          "height": 447
        },
        "id": "0gib4_pXeQmX",
        "outputId": "55242801-880f-4077-f065-3bf27346a3fd"
      },
      "execution_count": 109,
      "outputs": [
        {
          "output_type": "execute_result",
          "data": {
            "text/plain": [
              "[<matplotlib.lines.Line2D at 0x78c48fa092a0>]"
            ]
          },
          "metadata": {},
          "execution_count": 109
        },
        {
          "output_type": "display_data",
          "data": {
            "text/plain": [
              "<Figure size 640x480 with 1 Axes>"
            ],
            "image/png": "[encoded data removed]"
          },
          "metadata": {}
        }
      ]
    },
    {
      "cell_type": "code",
      "execution_count": 110,
      "metadata": {
        "id": "smmf6KQZMjwZ"
      },
      "outputs": [],
      "source": [
        "def activity_regularizer(multiplier, decay=0.99):\n",
        "    # Initialize moving averages for mean and variance\n",
        "    mean_avg = tf.Variable(0.0, trainable=False, name='mean_avg')\n",
        "    variance_avg = tf.Variable(1.0, trainable=False, name='variance_avg')\n",
        "\n",
        "    def regularizer(y_pred):\n",
        "        # Calculate the current mean and variance\n",
        "        current_mean = tf.reduce_mean(y_pred)\n",
        "        current_variance = tf.math.reduce_variance(y_pred)\n",
        "\n",
        "        # Update moving averages\n",
        "        update_mean = tf.compat.v1.assign(mean_avg, decay * mean_avg + (1 - decay) * current_mean)\n",
        "        update_variance = tf.compat.v1.assign(variance_avg, decay * variance_avg + (1 - decay) * current_variance)\n",
        "\n",
        "        with tf.control_dependencies([update_mean, update_variance]):\n",
        "            # Use the moving averages for regularization\n",
        "            mean = mean_avg\n",
        "            variance = variance_avg\n",
        "\n",
        "        return multiplier * (tf.square(mean - 0) + tf.square(variance - 1))\n",
        "\n",
        "    return regularizer"
      ]
    },
    {
      "cell_type": "code",
      "source": [
        "reg = activity_regularizer(.01)\n",
        "\n",
        "# Create a sequential model\n",
        "model = Sequential()\n",
        "\n",
        "\n",
        "model.add(Dense(20, activation='gelu',activity_regularizer=reg))\n",
        "model.add(Dropout(.2))\n",
        "model.add(Dense(10, activation='gelu',activity_regularizer=reg))\n",
        "model.add(Dropout(.2))\n",
        "model.add(Dense(2, activation='softmax'))\n",
        "\n",
        "model.compile(loss='categorical_crossentropy', optimizer='adam', metrics=['accuracy'])\n"
      ],
      "metadata": {
        "id": "Ef_G0Y9FqjBu"
      },
      "execution_count": 116,
      "outputs": []
    },
    {
      "cell_type": "code",
      "source": [
        "X_train=np.concatenate((changed,month,day,hour,dotw), axis=1)\n",
        "y_train=np_utils.to_categorical(classs)\n",
        "\n",
        "model.fit(X_train, y_train, epochs=100000, batch_size=64,validation_split=.2)"
      ],
      "metadata": {
        "colab": {
          "base_uri": "https://localhost:8080/",
          "height": 807
        },
        "id": "-KGRzLB5rQwV",
        "outputId": "924ecaca-53cd-4c5f-bd64-895edf1f4207"
      },
      "execution_count": 117,
      "outputs": [
        {
          "output_type": "stream",
          "name": "stdout",
          "text": [
            "Epoch 1/100000\n",
            "1164/1164 [==============================] - 13s 6ms/step - loss: 0.5742 - accuracy: 0.7002 - val_loss: 0.5397 - val_accuracy: 0.7428\n",
            "Epoch 2/100000\n",
            "1164/1164 [==============================] - 7s 6ms/step - loss: 0.5382 - accuracy: 0.7309 - val_loss: 0.5346 - val_accuracy: 0.7416\n",
            "Epoch 3/100000\n",
            "1164/1164 [==============================] - 4s 4ms/step - loss: 0.5316 - accuracy: 0.7345 - val_loss: 0.5267 - val_accuracy: 0.7424\n",
            "Epoch 4/100000\n",
            "1164/1164 [==============================] - 4s 4ms/step - loss: 0.5293 - accuracy: 0.7339 - val_loss: 0.5260 - val_accuracy: 0.7429\n",
            "Epoch 5/100000\n",
            "1164/1164 [==============================] - 6s 5ms/step - loss: 0.5289 - accuracy: 0.7346 - val_loss: 0.5291 - val_accuracy: 0.7436\n",
            "Epoch 6/100000\n",
            "1164/1164 [==============================] - 4s 4ms/step - loss: 0.5276 - accuracy: 0.7345 - val_loss: 0.5252 - val_accuracy: 0.7441\n",
            "Epoch 7/100000\n",
            "1164/1164 [==============================] - 4s 4ms/step - loss: 0.5275 - accuracy: 0.7350 - val_loss: 0.5213 - val_accuracy: 0.7443\n",
            "Epoch 8/100000\n",
            "1164/1164 [==============================] - 6s 5ms/step - loss: 0.5271 - accuracy: 0.7339 - val_loss: 0.5222 - val_accuracy: 0.7421\n",
            "Epoch 9/100000\n",
            "1164/1164 [==============================] - 5s 4ms/step - loss: 0.5260 - accuracy: 0.7341 - val_loss: 0.5187 - val_accuracy: 0.7435\n",
            "Epoch 10/100000\n",
            "1164/1164 [==============================] - 4s 4ms/step - loss: 0.5263 - accuracy: 0.7351 - val_loss: 0.5209 - val_accuracy: 0.7431\n",
            "Epoch 11/100000\n",
            "1164/1164 [==============================] - 6s 5ms/step - loss: 0.5264 - accuracy: 0.7344 - val_loss: 0.5211 - val_accuracy: 0.7451\n",
            "Epoch 12/100000\n",
            "1164/1164 [==============================] - 5s 4ms/step - loss: 0.5256 - accuracy: 0.7346 - val_loss: 0.5248 - val_accuracy: 0.7432\n",
            "Epoch 13/100000\n",
            " 913/1164 [======================>.......] - ETA: 0s - loss: 0.5247 - accuracy: 0.7356"
          ]
        },
        {
          "output_type": "error",
          "ename": "KeyboardInterrupt",
          "evalue": "ignored",
          "traceback": [
            "\u001b[0;31m---------------------------------------------------------------------------\u001b[0m",
            "\u001b[0;31mKeyboardInterrupt\u001b[0m                         Traceback (most recent call last)",
            "\u001b[0;32m<ipython-input-117-f1ae17829bbc>\u001b[0m in \u001b[0;36m<cell line: 4>\u001b[0;34m()\u001b[0m\n\u001b[1;32m      2\u001b[0m \u001b[0my_train\u001b[0m\u001b[0;34m=\u001b[0m\u001b[0mnp_utils\u001b[0m\u001b[0;34m.\u001b[0m\u001b[0mto_categorical\u001b[0m\u001b[0;34m(\u001b[0m\u001b[0mclasss\u001b[0m\u001b[0;34m)\u001b[0m\u001b[0;34m\u001b[0m\u001b[0;34m\u001b[0m\u001b[0m\n\u001b[1;32m      3\u001b[0m \u001b[0;34m\u001b[0m\u001b[0m\n\u001b[0;32m----> 4\u001b[0;31m \u001b[0mmodel\u001b[0m\u001b[0;34m.\u001b[0m\u001b[0mfit\u001b[0m\u001b[0;34m(\u001b[0m\u001b[0mX_train\u001b[0m\u001b[0;34m,\u001b[0m \u001b[0my_train\u001b[0m\u001b[0;34m,\u001b[0m \u001b[0mepochs\u001b[0m\u001b[0;34m=\u001b[0m\u001b[0;36m100000\u001b[0m\u001b[0;34m,\u001b[0m \u001b[0mbatch_size\u001b[0m\u001b[0;34m=\u001b[0m\u001b[0;36m64\u001b[0m\u001b[0;34m,\u001b[0m\u001b[0mvalidation_split\u001b[0m\u001b[0;34m=\u001b[0m\u001b[0;36m.2\u001b[0m\u001b[0;34m)\u001b[0m\u001b[0;34m\u001b[0m\u001b[0;34m\u001b[0m\u001b[0m\n\u001b[0m",
            "\u001b[0;32m/usr/local/lib/python3.10/dist-packages/keras/utils/traceback_utils.py\u001b[0m in \u001b[0;36merror_handler\u001b[0;34m(*args, **kwargs)\u001b[0m\n\u001b[1;32m     63\u001b[0m         \u001b[0mfiltered_tb\u001b[0m \u001b[0;34m=\u001b[0m \u001b[0;32mNone\u001b[0m\u001b[0;34m\u001b[0m\u001b[0;34m\u001b[0m\u001b[0m\n\u001b[1;32m     64\u001b[0m         \u001b[0;32mtry\u001b[0m\u001b[0;34m:\u001b[0m\u001b[0;34m\u001b[0m\u001b[0;34m\u001b[0m\u001b[0m\n\u001b[0;32m---> 65\u001b[0;31m             \u001b[0;32mreturn\u001b[0m \u001b[0mfn\u001b[0m\u001b[0;34m(\u001b[0m\u001b[0;34m*\u001b[0m\u001b[0margs\u001b[0m\u001b[0;34m,\u001b[0m \u001b[0;34m**\u001b[0m\u001b[0mkwargs\u001b[0m\u001b[0;34m)\u001b[0m\u001b[0;34m\u001b[0m\u001b[0;34m\u001b[0m\u001b[0m\n\u001b[0m\u001b[1;32m     66\u001b[0m         \u001b[0;32mexcept\u001b[0m \u001b[0mException\u001b[0m \u001b[0;32mas\u001b[0m \u001b[0me\u001b[0m\u001b[0;34m:\u001b[0m\u001b[0;34m\u001b[0m\u001b[0;34m\u001b[0m\u001b[0m\n\u001b[1;32m     67\u001b[0m             \u001b[0mfiltered_tb\u001b[0m \u001b[0;34m=\u001b[0m \u001b[0m_process_traceback_frames\u001b[0m\u001b[0;34m(\u001b[0m\u001b[0me\u001b[0m\u001b[0;34m.\u001b[0m\u001b[0m__traceback__\u001b[0m\u001b[0;34m)\u001b[0m\u001b[0;34m\u001b[0m\u001b[0;34m\u001b[0m\u001b[0m\n",
            "\u001b[0;32m/usr/local/lib/python3.10/dist-packages/keras/engine/training.py\u001b[0m in \u001b[0;36mfit\u001b[0;34m(self, x, y, batch_size, epochs, verbose, callbacks, validation_split, validation_data, shuffle, class_weight, sample_weight, initial_epoch, steps_per_epoch, validation_steps, validation_batch_size, validation_freq, max_queue_size, workers, use_multiprocessing)\u001b[0m\n\u001b[1;32m   1683\u001b[0m                         ):\n\u001b[1;32m   1684\u001b[0m                             \u001b[0mcallbacks\u001b[0m\u001b[0;34m.\u001b[0m\u001b[0mon_train_batch_begin\u001b[0m\u001b[0;34m(\u001b[0m\u001b[0mstep\u001b[0m\u001b[0;34m)\u001b[0m\u001b[0;34m\u001b[0m\u001b[0;34m\u001b[0m\u001b[0m\n\u001b[0;32m-> 1685\u001b[0;31m                             \u001b[0mtmp_logs\u001b[0m \u001b[0;34m=\u001b[0m \u001b[0mself\u001b[0m\u001b[0;34m.\u001b[0m\u001b[0mtrain_function\u001b[0m\u001b[0;34m(\u001b[0m\u001b[0miterator\u001b[0m\u001b[0;34m)\u001b[0m\u001b[0;34m\u001b[0m\u001b[0;34m\u001b[0m\u001b[0m\n\u001b[0m\u001b[1;32m   1686\u001b[0m                             \u001b[0;32mif\u001b[0m \u001b[0mdata_handler\u001b[0m\u001b[0;34m.\u001b[0m\u001b[0mshould_sync\u001b[0m\u001b[0;34m:\u001b[0m\u001b[0;34m\u001b[0m\u001b[0;34m\u001b[0m\u001b[0m\n\u001b[1;32m   1687\u001b[0m                                 \u001b[0mcontext\u001b[0m\u001b[0;34m.\u001b[0m\u001b[0masync_wait\u001b[0m\u001b[0;34m(\u001b[0m\u001b[0;34m)\u001b[0m\u001b[0;34m\u001b[0m\u001b[0;34m\u001b[0m\u001b[0m\n",
            "\u001b[0;32m/usr/local/lib/python3.10/dist-packages/tensorflow/python/util/traceback_utils.py\u001b[0m in \u001b[0;36merror_handler\u001b[0;34m(*args, **kwargs)\u001b[0m\n\u001b[1;32m    148\u001b[0m     \u001b[0mfiltered_tb\u001b[0m \u001b[0;34m=\u001b[0m \u001b[0;32mNone\u001b[0m\u001b[0;34m\u001b[0m\u001b[0;34m\u001b[0m\u001b[0m\n\u001b[1;32m    149\u001b[0m     \u001b[0;32mtry\u001b[0m\u001b[0;34m:\u001b[0m\u001b[0;34m\u001b[0m\u001b[0;34m\u001b[0m\u001b[0m\n\u001b[0;32m--> 150\u001b[0;31m       \u001b[0;32mreturn\u001b[0m \u001b[0mfn\u001b[0m\u001b[0;34m(\u001b[0m\u001b[0;34m*\u001b[0m\u001b[0margs\u001b[0m\u001b[0;34m,\u001b[0m \u001b[0;34m**\u001b[0m\u001b[0mkwargs\u001b[0m\u001b[0;34m)\u001b[0m\u001b[0;34m\u001b[0m\u001b[0;34m\u001b[0m\u001b[0m\n\u001b[0m\u001b[1;32m    151\u001b[0m     \u001b[0;32mexcept\u001b[0m \u001b[0mException\u001b[0m \u001b[0;32mas\u001b[0m \u001b[0me\u001b[0m\u001b[0;34m:\u001b[0m\u001b[0;34m\u001b[0m\u001b[0;34m\u001b[0m\u001b[0m\n\u001b[1;32m    152\u001b[0m       \u001b[0mfiltered_tb\u001b[0m \u001b[0;34m=\u001b[0m \u001b[0m_process_traceback_frames\u001b[0m\u001b[0;34m(\u001b[0m\u001b[0me\u001b[0m\u001b[0;34m.\u001b[0m\u001b[0m__traceback__\u001b[0m\u001b[0;34m)\u001b[0m\u001b[0;34m\u001b[0m\u001b[0;34m\u001b[0m\u001b[0m\n",
            "\u001b[0;32m/usr/local/lib/python3.10/dist-packages/tensorflow/python/eager/polymorphic_function/polymorphic_function.py\u001b[0m in \u001b[0;36m__call__\u001b[0;34m(self, *args, **kwds)\u001b[0m\n\u001b[1;32m    892\u001b[0m \u001b[0;34m\u001b[0m\u001b[0m\n\u001b[1;32m    893\u001b[0m       \u001b[0;32mwith\u001b[0m \u001b[0mOptionalXlaContext\u001b[0m\u001b[0;34m(\u001b[0m\u001b[0mself\u001b[0m\u001b[0;34m.\u001b[0m\u001b[0m_jit_compile\u001b[0m\u001b[0;34m)\u001b[0m\u001b[0;34m:\u001b[0m\u001b[0;34m\u001b[0m\u001b[0;34m\u001b[0m\u001b[0m\n\u001b[0;32m--> 894\u001b[0;31m         \u001b[0mresult\u001b[0m \u001b[0;34m=\u001b[0m \u001b[0mself\u001b[0m\u001b[0;34m.\u001b[0m\u001b[0m_call\u001b[0m\u001b[0;34m(\u001b[0m\u001b[0;34m*\u001b[0m\u001b[0margs\u001b[0m\u001b[0;34m,\u001b[0m \u001b[0;34m**\u001b[0m\u001b[0mkwds\u001b[0m\u001b[0;34m)\u001b[0m\u001b[0;34m\u001b[0m\u001b[0;34m\u001b[0m\u001b[0m\n\u001b[0m\u001b[1;32m    895\u001b[0m \u001b[0;34m\u001b[0m\u001b[0m\n\u001b[1;32m    896\u001b[0m       \u001b[0mnew_tracing_count\u001b[0m \u001b[0;34m=\u001b[0m \u001b[0mself\u001b[0m\u001b[0;34m.\u001b[0m\u001b[0mexperimental_get_tracing_count\u001b[0m\u001b[0;34m(\u001b[0m\u001b[0;34m)\u001b[0m\u001b[0;34m\u001b[0m\u001b[0;34m\u001b[0m\u001b[0m\n",
            "\u001b[0;32m/usr/local/lib/python3.10/dist-packages/tensorflow/python/eager/polymorphic_function/polymorphic_function.py\u001b[0m in \u001b[0;36m_call\u001b[0;34m(self, *args, **kwds)\u001b[0m\n\u001b[1;32m    924\u001b[0m       \u001b[0;31m# In this case we have created variables on the first call, so we run the\u001b[0m\u001b[0;34m\u001b[0m\u001b[0;34m\u001b[0m\u001b[0m\n\u001b[1;32m    925\u001b[0m       \u001b[0;31m# defunned version which is guaranteed to never create variables.\u001b[0m\u001b[0;34m\u001b[0m\u001b[0;34m\u001b[0m\u001b[0m\n\u001b[0;32m--> 926\u001b[0;31m       \u001b[0;32mreturn\u001b[0m \u001b[0mself\u001b[0m\u001b[0;34m.\u001b[0m\u001b[0m_no_variable_creation_fn\u001b[0m\u001b[0;34m(\u001b[0m\u001b[0;34m*\u001b[0m\u001b[0margs\u001b[0m\u001b[0;34m,\u001b[0m \u001b[0;34m**\u001b[0m\u001b[0mkwds\u001b[0m\u001b[0;34m)\u001b[0m  \u001b[0;31m# pylint: disable=not-callable\u001b[0m\u001b[0;34m\u001b[0m\u001b[0;34m\u001b[0m\u001b[0m\n\u001b[0m\u001b[1;32m    927\u001b[0m     \u001b[0;32melif\u001b[0m \u001b[0mself\u001b[0m\u001b[0;34m.\u001b[0m\u001b[0m_variable_creation_fn\u001b[0m \u001b[0;32mis\u001b[0m \u001b[0;32mnot\u001b[0m \u001b[0;32mNone\u001b[0m\u001b[0;34m:\u001b[0m\u001b[0;34m\u001b[0m\u001b[0;34m\u001b[0m\u001b[0m\n\u001b[1;32m    928\u001b[0m       \u001b[0;31m# Release the lock early so that multiple threads can perform the call\u001b[0m\u001b[0;34m\u001b[0m\u001b[0;34m\u001b[0m\u001b[0m\n",
            "\u001b[0;32m/usr/local/lib/python3.10/dist-packages/tensorflow/python/eager/polymorphic_function/tracing_compiler.py\u001b[0m in \u001b[0;36m__call__\u001b[0;34m(self, *args, **kwargs)\u001b[0m\n\u001b[1;32m    140\u001b[0m     \u001b[0;32mwith\u001b[0m \u001b[0mself\u001b[0m\u001b[0;34m.\u001b[0m\u001b[0m_lock\u001b[0m\u001b[0;34m:\u001b[0m\u001b[0;34m\u001b[0m\u001b[0;34m\u001b[0m\u001b[0m\n\u001b[1;32m    141\u001b[0m       (concrete_function,\n\u001b[0;32m--> 142\u001b[0;31m        filtered_flat_args) = self._maybe_define_function(args, kwargs)\n\u001b[0m\u001b[1;32m    143\u001b[0m     return concrete_function._call_flat(\n\u001b[1;32m    144\u001b[0m         filtered_flat_args, captured_inputs=concrete_function.captured_inputs)  # pylint: disable=protected-access\n",
            "\u001b[0;32m/usr/local/lib/python3.10/dist-packages/tensorflow/python/eager/polymorphic_function/tracing_compiler.py\u001b[0m in \u001b[0;36m_maybe_define_function\u001b[0;34m(self, args, kwargs)\u001b[0m\n\u001b[1;32m    354\u001b[0m     \u001b[0;31m# only active captures should be saved.\u001b[0m\u001b[0;34m\u001b[0m\u001b[0;34m\u001b[0m\u001b[0m\n\u001b[1;32m    355\u001b[0m     lookup_func_type, lookup_func_context = (\n\u001b[0;32m--> 356\u001b[0;31m         self._function_spec.make_canonicalized_monomorphic_type(\n\u001b[0m\u001b[1;32m    357\u001b[0m             args, kwargs, captures))\n\u001b[1;32m    358\u001b[0m     concrete_function = self._function_cache.lookup(current_func_context,\n",
            "\u001b[0;32m/usr/local/lib/python3.10/dist-packages/tensorflow/python/eager/polymorphic_function/function_spec.py\u001b[0m in \u001b[0;36mmake_canonicalized_monomorphic_type\u001b[0;34m(self, args, kwargs, captures)\u001b[0m\n\u001b[1;32m    343\u001b[0m \u001b[0;34m\u001b[0m\u001b[0m\n\u001b[1;32m    344\u001b[0m     _, function_type, type_context = (\n\u001b[0;32m--> 345\u001b[0;31m         function_type_lib.canonicalize_to_monomorphic(\n\u001b[0m\u001b[1;32m    346\u001b[0m             \u001b[0margs\u001b[0m\u001b[0;34m,\u001b[0m \u001b[0mkwargs\u001b[0m\u001b[0;34m,\u001b[0m \u001b[0mself\u001b[0m\u001b[0;34m.\u001b[0m\u001b[0mdefault_values\u001b[0m\u001b[0;34m,\u001b[0m \u001b[0mcaptures\u001b[0m\u001b[0;34m,\u001b[0m \u001b[0mself\u001b[0m\u001b[0;34m.\u001b[0m\u001b[0mfunction_type\u001b[0m\u001b[0;34m\u001b[0m\u001b[0;34m\u001b[0m\u001b[0m\n\u001b[1;32m    347\u001b[0m         )\n",
            "\u001b[0;32m/usr/local/lib/python3.10/dist-packages/tensorflow/core/function/polymorphism/function_type.py\u001b[0m in \u001b[0;36mcanonicalize_to_monomorphic\u001b[0;34m(args, kwargs, default_values, captures, polymorphic_type)\u001b[0m\n\u001b[1;32m    417\u001b[0m     \u001b[0;32melse\u001b[0m\u001b[0;34m:\u001b[0m\u001b[0;34m\u001b[0m\u001b[0;34m\u001b[0m\u001b[0m\n\u001b[1;32m    418\u001b[0m       parameters.append(\n\u001b[0;32m--> 419\u001b[0;31m           _make_validated_mono_param(name, arg, poly_parameter.kind,\n\u001b[0m\u001b[1;32m    420\u001b[0m                                      \u001b[0mtype_context\u001b[0m\u001b[0;34m,\u001b[0m\u001b[0;34m\u001b[0m\u001b[0;34m\u001b[0m\u001b[0m\n\u001b[1;32m    421\u001b[0m                                      poly_parameter.type_constraint))\n",
            "\u001b[0;32m/usr/local/lib/python3.10/dist-packages/tensorflow/core/function/polymorphism/function_type.py\u001b[0m in \u001b[0;36m_make_validated_mono_param\u001b[0;34m(name, value, kind, type_context, poly_type)\u001b[0m\n\u001b[1;32m    357\u001b[0m \u001b[0;32mdef\u001b[0m \u001b[0m_make_validated_mono_param\u001b[0m\u001b[0;34m(\u001b[0m\u001b[0mname\u001b[0m\u001b[0;34m,\u001b[0m \u001b[0mvalue\u001b[0m\u001b[0;34m,\u001b[0m \u001b[0mkind\u001b[0m\u001b[0;34m,\u001b[0m \u001b[0mtype_context\u001b[0m\u001b[0;34m,\u001b[0m \u001b[0mpoly_type\u001b[0m\u001b[0;34m)\u001b[0m\u001b[0;34m:\u001b[0m\u001b[0;34m\u001b[0m\u001b[0;34m\u001b[0m\u001b[0m\n\u001b[1;32m    358\u001b[0m   \u001b[0;34m\"\"\"Generates and validates a parameter for Monomorphic FunctionType.\"\"\"\u001b[0m\u001b[0;34m\u001b[0m\u001b[0;34m\u001b[0m\u001b[0m\n\u001b[0;32m--> 359\u001b[0;31m   \u001b[0mmono_type\u001b[0m \u001b[0;34m=\u001b[0m \u001b[0mtrace_type\u001b[0m\u001b[0;34m.\u001b[0m\u001b[0mfrom_value\u001b[0m\u001b[0;34m(\u001b[0m\u001b[0mvalue\u001b[0m\u001b[0;34m,\u001b[0m \u001b[0mtype_context\u001b[0m\u001b[0;34m)\u001b[0m\u001b[0;34m\u001b[0m\u001b[0;34m\u001b[0m\u001b[0m\n\u001b[0m\u001b[1;32m    360\u001b[0m \u001b[0;34m\u001b[0m\u001b[0m\n\u001b[1;32m    361\u001b[0m   \u001b[0;32mif\u001b[0m \u001b[0mpoly_type\u001b[0m \u001b[0;32mand\u001b[0m \u001b[0;32mnot\u001b[0m \u001b[0mmono_type\u001b[0m\u001b[0;34m.\u001b[0m\u001b[0mis_subtype_of\u001b[0m\u001b[0;34m(\u001b[0m\u001b[0mpoly_type\u001b[0m\u001b[0;34m)\u001b[0m\u001b[0;34m:\u001b[0m\u001b[0;34m\u001b[0m\u001b[0;34m\u001b[0m\u001b[0m\n",
            "\u001b[0;32m/usr/local/lib/python3.10/dist-packages/tensorflow/core/function/trace_type/trace_type_builder.py\u001b[0m in \u001b[0;36mfrom_value\u001b[0;34m(value, context)\u001b[0m\n\u001b[1;32m    175\u001b[0m     \u001b[0;32mreturn\u001b[0m \u001b[0mvalue\u001b[0m\u001b[0;34m\u001b[0m\u001b[0;34m\u001b[0m\u001b[0m\n\u001b[1;32m    176\u001b[0m   \u001b[0;32melif\u001b[0m \u001b[0misinstance\u001b[0m\u001b[0;34m(\u001b[0m\u001b[0mvalue\u001b[0m\u001b[0;34m,\u001b[0m \u001b[0mtrace\u001b[0m\u001b[0;34m.\u001b[0m\u001b[0mSupportsTracingProtocol\u001b[0m\u001b[0;34m)\u001b[0m\u001b[0;34m:\u001b[0m\u001b[0;34m\u001b[0m\u001b[0;34m\u001b[0m\u001b[0m\n\u001b[0;32m--> 177\u001b[0;31m     \u001b[0mgenerated_type\u001b[0m \u001b[0;34m=\u001b[0m \u001b[0mvalue\u001b[0m\u001b[0;34m.\u001b[0m\u001b[0m__tf_tracing_type__\u001b[0m\u001b[0;34m(\u001b[0m\u001b[0mcontext\u001b[0m\u001b[0;34m)\u001b[0m\u001b[0;34m\u001b[0m\u001b[0;34m\u001b[0m\u001b[0m\n\u001b[0m\u001b[1;32m    178\u001b[0m     \u001b[0;32mif\u001b[0m \u001b[0;32mnot\u001b[0m \u001b[0misinstance\u001b[0m\u001b[0;34m(\u001b[0m\u001b[0mgenerated_type\u001b[0m\u001b[0;34m,\u001b[0m \u001b[0mtrace\u001b[0m\u001b[0;34m.\u001b[0m\u001b[0mTraceType\u001b[0m\u001b[0;34m)\u001b[0m\u001b[0;34m:\u001b[0m\u001b[0;34m\u001b[0m\u001b[0;34m\u001b[0m\u001b[0m\n\u001b[1;32m    179\u001b[0m       raise TypeError(\n",
            "\u001b[0;31mKeyboardInterrupt\u001b[0m: "
          ]
        }
      ]
    },
    {
      "cell_type": "code",
      "source": [
        "changed"
      ],
      "metadata": {
        "id": "7eEUhchO-E4C"
      },
      "execution_count": null,
      "outputs": []
    },
    {
      "cell_type": "code",
      "source": [
        "print(X_train[0])"
      ],
      "metadata": {
        "id": "mxwc7J2Q9w-F"
      },
      "execution_count": null,
      "outputs": []
    },
    {
      "cell_type": "code",
      "source": [
        "prediction = model.predict(X_train)"
      ],
      "metadata": {
        "id": "H2Cz5z6It1MR"
      },
      "execution_count": null,
      "outputs": []
    },
    {
      "cell_type": "code",
      "source": [
        "plt.xlim(20000,20100)\n",
        "plt.plot(prediction)\n",
        "plt.plot(y_train)"
      ],
      "metadata": {
        "id": "YGnLpnVYt5ct"
      },
      "execution_count": null,
      "outputs": []
    },
    {
      "cell_type": "code",
      "source": [
        "# Set the print options\n",
        "np.set_printoptions(suppress=True, precision=4)\n",
        "print(model.get_weights())"
      ],
      "metadata": {
        "id": "tQVIIuUk4cAs"
      },
      "execution_count": null,
      "outputs": []
    },
    {
      "cell_type": "code",
      "source": [
        "weights = np.array(model.get_weights(),dtype=object)\n",
        "weight, bias = np.split(weights, 2)\n",
        "#print(weight[1])\n",
        "print(weights[1])\n",
        "print(bias[1])"
      ],
      "metadata": {
        "id": "XzjO_DL5oWnc"
      },
      "execution_count": null,
      "outputs": []
    },
    {
      "cell_type": "code",
      "source": [
        "def is_numpy_array(obj):\n",
        "       return type(obj) is np.ndarray"
      ],
      "metadata": {
        "id": "aewP-TFay69J"
      },
      "execution_count": null,
      "outputs": []
    },
    {
      "cell_type": "code",
      "source": [
        "activation = [\"gelu\",\"\", \"gelu\",\"gelu\", \"\",\"AF.linear\",\"AF.linear\",\"AF.gelu\",\"AF.linear\"]\n",
        "network = model.get_weights()\n",
        "# Create an array of integers from 0 to 25 representing ASCII values of lowercase letters\n",
        "ascii_values = np.arange(97, 123)\n",
        "\n",
        "# Convert the ASCII values to characters using the 'chr' function\n",
        "characters = np.char.add('', np.char.mod('%c', ascii_values))\n",
        "\n",
        "# Create an empty array to store the selected arrays\n",
        "bias = np.empty_like(network[1::2])  # Create an empty array with the same shape as the selected arrays\n",
        "# Create an empty array to store the selected arrays\n",
        "weight = np.empty_like(network[::2])  # Create an empty array with the same shape as the selected arrays\n",
        "\n",
        "#Iterate over the main array and select every second array\n",
        "for i, arr in enumerate(network[1::2]):\n",
        "    bias[i] = arr\n",
        "\n",
        "for i, arr in enumerate(network[::2]):\n",
        "    weight[i] = arr\n",
        "\n",
        "\n",
        "\n",
        "for lay_num, layer in enumerate(weight):\n",
        "  for neu_num, neuron in enumerate(np.transpose(layer)):\n",
        "    if not is_numpy_array(neuron):\n",
        "      neuron_makeup = str(characters[lay_num+1]) + str(neu_num) + \" = (\"\n",
        "      neuron_makeup += str(neuron) + \" * \" + characters[lay_num]  + str(neu_num) + \" + \" +  str(bias[lay_num][neu_num]) + \")\"\n",
        "\n",
        "    else:\n",
        "      neuron_makeup = str(characters[lay_num+1]) + str(neu_num) + \" = \" + activation[lay_num] + \"(\"\n",
        "      for mul_num, mult in enumerate(neuron):\n",
        "          neuron_makeup += str(mult) + \" * \" +characters[lay_num] + str(mul_num) + \" + \"\n",
        "      neuron_makeup += str(bias[lay_num][neu_num]) + \")\"\n",
        "    np.set_printoptions(suppress=True)\n",
        "    print(neuron_makeup)"
      ],
      "metadata": {
        "colab": {
          "base_uri": "https://localhost:8080/"
        },
        "id": "m937QzAooKU_",
        "outputId": "3950e74e-48fd-4e43-d317-c563b0439e47"
      },
      "execution_count": 115,
      "outputs": [
        {
          "output_type": "stream",
          "name": "stdout",
          "text": [
            "b0 = gelu(0.26730603 * a0 + 0.22040027 * a1 + 0.1596262 * a2 + 0.26875335 * a3 + 0.1546033 * a4 + 0.08834127 * a5 + 0.07496168 * a6 + -0.017058633 * a7 + 0.020831658 * a8 + 0.03617413 * a9 + -0.110005155 * a10 + 0.24978292 * a11 + -0.694283 * a12 + -0.076506965 * a13 + 0.19139746)\n",
            "b1 = gelu(0.36390403 * a0 + 0.41315237 * a1 + 0.44878027 * a2 + 0.35092038 * a3 + 0.32883364 * a4 + 0.11538981 * a5 + 0.10255279 * a6 + 0.10799967 * a7 + 0.018577073 * a8 + 0.0496451 * a9 + 0.2916296 * a10 + 0.19560638 * a11 + -0.70164496 * a12 + -0.113098875 * a13 + 0.26181543)\n",
            "b2 = gelu(-0.35973835 * a0 + -0.32338712 * a1 + -0.27143237 * a2 + -0.25576797 * a3 + -0.2159323 * a4 + -0.11574807 * a5 + -0.093819045 * a6 + -0.073181435 * a7 + -0.03328281 * a8 + 0.0015659102 * a9 + -0.12508924 * a10 + 0.16733067 * a11 + -0.5677505 * a12 + -0.20725866 * a13 + 0.27613473)\n",
            "b3 = gelu(-0.5977009 * a0 + -0.3414885 * a1 + -0.37017184 * a2 + -0.36066917 * a3 + -0.30207035 * a4 + -0.1530483 * a5 + -0.10717554 * a6 + -0.07697485 * a7 + -0.010657014 * a8 + 0.011413347 * a9 + 0.2341391 * a10 + 0.19421409 * a11 + -0.32543793 * a12 + -0.33196765 * a13 + 0.27830845)\n",
            "b4 = gelu(0.46980822 * a0 + 0.36141887 * a1 + 0.24122375 * a2 + 0.10597689 * a3 + 0.34435257 * a4 + 0.0066782157 * a5 + 0.20509163 * a6 + 0.17708497 * a7 + 0.11904409 * a8 + -0.039218236 * a9 + 0.21612315 * a10 + -0.05822855 * a11 + -0.1673908 * a12 + 0.10809781 * a13 + 0.2630256)\n",
            "b5 = gelu(-0.5445888 * a0 + -0.3898711 * a1 + -0.41095564 * a2 + -0.42738032 * a3 + -0.24245521 * a4 + -0.1986357 * a5 + -0.22183438 * a6 + -0.21272056 * a7 + -0.020254906 * a8 + -0.09327869 * a9 + 0.22284064 * a10 + -0.2691226 * a11 + -0.29839844 * a12 + 0.14339395 * a13 + 0.4016308)\n",
            "b6 = gelu(0.29985073 * a0 + 0.2567619 * a1 + 0.19333017 * a2 + 0.25578183 * a3 + 0.10254762 * a4 + 0.2120071 * a5 + 0.18172899 * a6 + 0.104377784 * a7 + -0.036302928 * a8 + -0.050872516 * a9 + 0.109269835 * a10 + -0.14503059 * a11 + -0.14694929 * a12 + -0.05264531 * a13 + 0.20702167)\n",
            "b7 = gelu(0.52043825 * a0 + 0.4585703 * a1 + 0.61968094 * a2 + 0.34479585 * a3 + 0.16325717 * a4 + 0.15451072 * a5 + 0.18739197 * a6 + 0.022890175 * a7 + 0.13523243 * a8 + 0.054052822 * a9 + 0.13274623 * a10 + 0.17458168 * a11 + -0.26225325 * a12 + -0.024447665 * a13 + 0.31479874)\n",
            "b8 = gelu(0.527998 * a0 + 0.5387046 * a1 + 0.47126004 * a2 + 0.46307623 * a3 + 0.30301797 * a4 + 0.25179994 * a5 + 0.10515897 * a6 + 0.12138752 * a7 + 0.107334726 * a8 + 0.07742519 * a9 + -0.08590987 * a10 + 0.2778262 * a11 + -0.19890812 * a12 + 0.26365244 * a13 + 0.2953941)\n",
            "b9 = gelu(-0.28303412 * a0 + -0.30374506 * a1 + -0.28695604 * a2 + -0.3266595 * a3 + -0.20993097 * a4 + -0.23497927 * a5 + -0.22010733 * a6 + -0.14769472 * a7 + -0.094295144 * a8 + -0.09186856 * a9 + -0.015327181 * a10 + -0.3902242 * a11 + -0.20051016 * a12 + 0.2988787 * a13 + 0.31003892)\n",
            "b10 = gelu(-0.33442986 * a0 + -0.36136562 * a1 + -0.31586227 * a2 + -0.27141538 * a3 + -0.26034462 * a4 + -0.19524299 * a5 + -0.12019907 * a6 + -0.060987677 * a7 + 0.0006686289 * a8 + 0.0049305833 * a9 + -0.0005082579 * a10 + -0.05846722 * a11 + -0.73448145 * a12 + -0.10367301 * a13 + 0.3770555)\n",
            "b11 = gelu(-0.118175544 * a0 + -0.32929495 * a1 + -0.40727594 * a2 + 0.07006713 * a3 + 0.13088644 * a4 + -0.010429618 * a5 + -0.046211623 * a6 + 0.21325977 * a7 + 0.11323822 * a8 + -0.22607194 * a9 + -0.05404196 * a10 + -0.07016002 * a11 + -0.60934967 * a12 + -0.53553 * a13 + 0.10325059)\n",
            "b12 = gelu(0.35601664 * a0 + 0.40624407 * a1 + 0.41769758 * a2 + 0.41412884 * a3 + 0.18743122 * a4 + 0.20271283 * a5 + 0.15351026 * a6 + 0.07097236 * a7 + 0.052687567 * a8 + 0.081711575 * a9 + 0.12117567 * a10 + 0.07008458 * a11 + -0.63412255 * a12 + 0.21709242 * a13 + 0.2660597)\n",
            "b13 = gelu(-0.3513604 * a0 + -0.3402752 * a1 + -0.2678369 * a2 + -0.23502068 * a3 + -0.2017194 * a4 + -0.12906833 * a5 + -0.10903477 * a6 + -0.08349126 * a7 + -0.030269045 * a8 + -0.040792443 * a9 + -0.121510305 * a10 + -0.16297668 * a11 + -0.9407778 * a12 + 0.08518956 * a13 + 0.400798)\n",
            "b14 = gelu(-0.42946595 * a0 + -0.5127191 * a1 + -0.39748648 * a2 + -0.36385357 * a3 + -0.35079494 * a4 + -0.19534937 * a5 + -0.08966804 * a6 + -0.10416232 * a7 + -0.017437764 * a8 + -0.04894404 * a9 + 0.006926264 * a10 + 0.25435495 * a11 + -0.35814378 * a12 + -0.14643258 * a13 + 0.2785694)\n",
            "b15 = gelu(0.5105214 * a0 + 0.4270286 * a1 + 0.36296314 * a2 + 0.3288105 * a3 + 0.24239157 * a4 + 0.17973559 * a5 + 0.13701096 * a6 + 0.14838095 * a7 + 0.04236493 * a8 + -0.03707248 * a9 + 0.30972797 * a10 + 0.33449888 * a11 + -0.82631934 * a12 + -0.08413865 * a13 + 0.21511108)\n",
            "b16 = gelu(-0.17486052 * a0 + 0.18678002 * a1 + 0.53953916 * a2 + 0.03391854 * a3 + 0.28364685 * a4 + 0.26312903 * a5 + -0.0060761007 * a6 + -0.026350658 * a7 + 0.16767663 * a8 + -0.11803226 * a9 + -0.049275175 * a10 + -0.25101694 * a11 + 0.3359187 * a12 + -0.2637622 * a13 + 0.20040737)\n",
            "b17 = gelu(-0.34260046 * a0 + -0.33837494 * a1 + -0.28193355 * a2 + -0.24483636 * a3 + -0.19226798 * a4 + -0.18705861 * a5 + -0.06725531 * a6 + 0.07097139 * a7 + -0.0719528 * a8 + 0.00076276716 * a9 + 0.20734784 * a10 + 0.027644135 * a11 + -0.6894534 * a12 + 0.0019332423 * a13 + 0.20968346)\n",
            "b18 = gelu(0.26426512 * a0 + 0.2261753 * a1 + 0.27591163 * a2 + 0.22127545 * a3 + 0.08324609 * a4 + 0.12259811 * a5 + 0.08670047 * a6 + 0.040291365 * a7 + 0.02002644 * a8 + 0.033301495 * a9 + 0.07695049 * a10 + -0.017241916 * a11 + -0.46969184 * a12 + -0.11562263 * a13 + 0.18401147)\n",
            "b19 = gelu(0.526474 * a0 + 0.62570184 * a1 + 0.25615436 * a2 + 0.09329722 * a3 + 0.46061617 * a4 + 0.112711616 * a5 + 0.20280686 * a6 + 0.20232365 * a7 + -0.049560476 * a8 + 0.011313563 * a9 + 0.30004266 * a10 + 0.13258605 * a11 + -0.09846965 * a12 + -0.24185692 * a13 + 0.2211949)\n",
            "c0 = (-0.25073925 * b0 + 0.30749962 * b1 + 0.229399 * b2 + 0.047529366 * b3 + -0.22639503 * b4 + 0.20051576 * b5 + -0.011563357 * b6 + -0.43429866 * b7 + 0.43992183 * b8 + 0.28160736 * b9 + 0.3059769 * b10 + 0.0743446 * b11 + -0.21751443 * b12 + 0.5876148 * b13 + 0.28732693 * b14 + -0.4145347 * b15 + -0.37237275 * b16 + 0.28470862 * b17 + -0.07528754 * b18 + 0.0015706444 * b19 + 0.02194388)\n",
            "c1 = (0.19684541 * b0 + 0.5403397 * b1 + -0.14323188 * b2 + -0.12956882 * b3 + -0.10127004 * b4 + 0.04276484 * b5 + 0.16450305 * b6 + -0.2334478 * b7 + 0.5612319 * b8 + 0.05786822 * b9 + -0.11249017 * b10 + -0.02297034 * b11 + 0.017380543 * b12 + 0.12055554 * b13 + 0.106456116 * b14 + -0.19544497 * b15 + -0.28123203 * b16 + 0.11129309 * b17 + 0.24061556 * b18 + 0.121857695 * b19 + -0.021943973)\n"
          ]
        },
        {
          "output_type": "stream",
          "name": "stderr",
          "text": [
            "<__array_function__ internals>:180: VisibleDeprecationWarning: Creating an ndarray from ragged nested sequences (which is a list-or-tuple of lists-or-tuples-or ndarrays with different lengths or shapes) is deprecated. If you meant to do this, you must specify 'dtype=object' when creating the ndarray.\n"
          ]
        }
      ]
    },
    {
      "cell_type": "code",
      "source": [
        "dev = ta.stdev(close-open,1000)\n",
        "change = (close-open)/dev\n",
        "months = month(time)/12\n",
        "days = dayofmonth(time)/31\n",
        "hours = hour(time)/24\n",
        "dayoftheweeks = dayofweek(time)/6\n",
        "\n",
        "a0 = change[4]\n",
        "a1 = change[3]\n",
        "a2 = change[2]\n",
        "a3 = change[1]\n",
        "a4 = change\n",
        "a5 = months\n",
        "a6 = days\n",
        "a7 = hours\n",
        "a8 = dayoftheweeks\n",
        "\n",
        "tanh(x) =>\n",
        "    output = (math.exp(x) - math.exp(-x)) / (math.exp(x) + math.exp(-x))\n",
        "//\n",
        "\n",
        "gelu(x) =>\n",
        "    cdf = 0.5 * (1 + tanh((math.sqrt(2 / math.pi) * (x + 0.044715 * math.pow(x, 3)))))\n",
        "    output = x * cdf\n",
        "    output\n"
      ],
      "metadata": {
        "id": "MI9p52O5aqs8"
      },
      "execution_count": null,
      "outputs": []
    }
  ],
  "metadata": {
    "colab": {
      "name": "Welcome To Colaboratory",
      "provenance": [],
      "include_colab_link": true
    },
    "kernelspec": {
      "display_name": "Python 3 (ipykernel)",
      "language": "python",
      "name": "python3"
    },
    "language_info": {
      "codemirror_mode": {
        "name": "ipython",
        "version": 3
      },
      "file_extension": ".py",
      "mimetype": "text/x-python",
      "name": "python",
      "nbconvert_exporter": "python",
      "pygments_lexer": "ipython3",
      "version": "3.8.10"
    }
  },
  "nbformat": 4,
  "nbformat_minor": 0
}