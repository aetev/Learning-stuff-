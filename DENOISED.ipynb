{
  "cells": [
    {
      "cell_type": "markdown",
      "metadata": {
        "id": "view-in-github",
        "colab_type": "text"
      },
      "source": [
        "<a href=\"https://colab.research.google.com/github/aetev/Learning-stuff-/blob/main/DENOISED.ipynb\" target=\"_parent\"><img src=\"https://colab.research.google.com/assets/colab-badge.svg\" alt=\"Open In Colab\"/></a>"
      ]
    },
    {
      "cell_type": "code",
      "execution_count": 2,
      "metadata": {
        "colab": {
          "base_uri": "https://localhost:8080/"
        },
        "id": "TWAdRqLdGEyf",
        "outputId": "8e1507a6-bcf6-40bd-8a76-dbb4f280280b",
        "scrolled": true
      },
      "outputs": [
        {
          "output_type": "stream",
          "name": "stdout",
          "text": [
            "Drive already mounted at /content/drive; to attempt to forcibly remount, call drive.mount(\"/content/drive\", force_remount=True).\n"
          ]
        }
      ],
      "source": [
        "from google.colab import drive\n",
        "drive.mount('/content/drive')"
      ]
    },
    {
      "cell_type": "code",
      "execution_count": 3,
      "metadata": {
        "colab": {
          "base_uri": "https://localhost:8080/"
        },
        "id": "kIPBOzgXLKp5",
        "outputId": "efda388f-e3e9-4344-ae81-d5564b331506",
        "scrolled": true
      },
      "outputs": [
        {
          "output_type": "stream",
          "name": "stdout",
          "text": [
            "Requirement already satisfied: pandas_ta in /usr/local/lib/python3.10/dist-packages (0.3.14b0)\n",
            "Requirement already satisfied: pandas in /usr/local/lib/python3.10/dist-packages (from pandas_ta) (1.5.3)\n",
            "Requirement already satisfied: python-dateutil>=2.8.1 in /usr/local/lib/python3.10/dist-packages (from pandas->pandas_ta) (2.8.2)\n",
            "Requirement already satisfied: pytz>=2020.1 in /usr/local/lib/python3.10/dist-packages (from pandas->pandas_ta) (2023.3)\n",
            "Requirement already satisfied: numpy>=1.21.0 in /usr/local/lib/python3.10/dist-packages (from pandas->pandas_ta) (1.23.5)\n",
            "Requirement already satisfied: six>=1.5 in /usr/local/lib/python3.10/dist-packages (from python-dateutil>=2.8.1->pandas->pandas_ta) (1.16.0)\n"
          ]
        }
      ],
      "source": [
        "!pip install pandas_ta"
      ]
    },
    {
      "cell_type": "code",
      "source": [
        "import pandas as pd\n",
        "import numpy as np\n",
        "import pandas_ta as ta\n",
        "import tensorflow as tf\n",
        "import matplotlib.pyplot as plt\n",
        "from numpy.lib.stride_tricks import sliding_window_view\n",
        "from tensorflow.keras.models import Sequential\n",
        "from tensorflow.keras.layers import Dense, Dropout, Conv1D, Flatten, LSTM"
      ],
      "metadata": {
        "id": "DgDZuwY1Vlf_"
      },
      "execution_count": null,
      "outputs": []
    },
    {
      "cell_type": "code",
      "execution_count": null,
      "metadata": {
        "id": "iwSR4EWTLbDK",
        "scrolled": true
      },
      "outputs": [],
      "source": [
        "df = pd.read_csv('/content/drive/MyDrive/eurusd_hour.csv')\n",
        "close = df['AC']\n",
        "open = df['AO']\n",
        "high = df['AH']\n",
        "low = df['AL']\n",
        "change = df['ACh']\n",
        "print(df)"
      ]
    },
    {
      "cell_type": "code",
      "source": [
        "SMA = ta.sma(close,4,offset=-2)\n",
        "NOISE = close-SMA\n",
        "BAR_SIZE = high-low\n",
        "#OPEN_SIZE =\n",
        "\n",
        "plt.xlim(20000,20100)\n",
        "plt.ylim(1.56,1.6)\n",
        "plt.plot(SMA)\n",
        "plt.plot(close)\n",
        "plt.show()\n",
        "plt.xlim(20000,20100)\n",
        "plt.plot(change)\n",
        "plt.plot(NOISE)\n",
        "plt.show()"
      ],
      "metadata": {
        "id": "h_IAbmKpZDDB"
      },
      "execution_count": null,
      "outputs": []
    },
    {
      "cell_type": "code",
      "source": [
        "# Define the window length and stride\n",
        "window_length = 4\n",
        "stride = 1\n",
        "\n",
        "BAR_SIZED = pd.Series(BAR_SIZE,name='bar_size')\n",
        "changed = pd.Series(change,name='change')\n",
        "NOISED = pd.Series(NOISE,name='noise')\n",
        "combined_series = pd.concat([changed, NOISED,BAR_SIZED], axis=1)\n",
        "combined_series = combined_series.dropna(axis=0)\n",
        "print(combined_series)\n",
        "noise = combined_series.pop('noise')\n",
        "changed = combined_series.pop('change')\n",
        "BAR_SIZED = combined_series.pop('bar_size')\n",
        "\n",
        "# Create the sliding window view for time_series_1\n",
        "changed = sliding_window_view(changed, window_length)[::stride]\n",
        "BAR_SIZED = sliding_window_view(BAR_SIZED, window_length)[::stride]\n",
        "NOISED = np.roll(noise, -window_length+1)\n",
        "NOISED = NOISED[:changed.shape[0]]\n",
        "\n",
        "BAR_SIZED = BAR_SIZED-np.mean(BAR_SIZED)/np.std(BAR_SIZED)\n",
        "changed = changed/np.std(changed)\n",
        "NOISED = NOISED/np.std(NOISED)\n",
        "\n",
        "print(BAR_SIZED)"
      ],
      "metadata": {
        "id": "foQIs5K4aFko"
      },
      "execution_count": null,
      "outputs": []
    },
    {
      "cell_type": "code",
      "source": [
        "\n",
        "print(changed[:, -1])\n",
        "print(NOISED)\n",
        "\n",
        "\n",
        "plt.xlim(20000,20100)\n",
        "plt.plot(changed[:, -1])\n",
        "plt.plot(NOISED)\n"
      ],
      "metadata": {
        "id": "0gib4_pXeQmX"
      },
      "execution_count": null,
      "outputs": []
    },
    {
      "cell_type": "code",
      "execution_count": null,
      "metadata": {
        "id": "smmf6KQZMjwZ"
      },
      "outputs": [],
      "source": [
        "def activity_regularizer(multiplier, decay=0.99):\n",
        "    # Initialize moving averages for mean and variance\n",
        "    mean_avg = tf.Variable(0.0, trainable=False, name='mean_avg')\n",
        "    variance_avg = tf.Variable(1.0, trainable=False, name='variance_avg')\n",
        "\n",
        "    def regularizer(y_pred):\n",
        "        # Calculate the current mean and variance\n",
        "        current_mean = tf.reduce_mean(y_pred)\n",
        "        current_variance = tf.math.reduce_variance(y_pred)\n",
        "\n",
        "        # Update moving averages\n",
        "        update_mean = tf.compat.v1.assign(mean_avg, decay * mean_avg + (1 - decay) * current_mean)\n",
        "        update_variance = tf.compat.v1.assign(variance_avg, decay * variance_avg + (1 - decay) * current_variance)\n",
        "\n",
        "        with tf.control_dependencies([update_mean, update_variance]):\n",
        "            # Use the moving averages for regularization\n",
        "            mean = mean_avg\n",
        "            variance = variance_avg\n",
        "\n",
        "        return multiplier * (tf.square(mean - 0) + tf.square(variance - 1))\n",
        "\n",
        "    return regularizer"
      ]
    },
    {
      "cell_type": "code",
      "source": [
        "reg = activity_regularizer(.01)\n",
        "\n",
        "# Create a sequential model\n",
        "model = Sequential()\n",
        "\n",
        "\n",
        "model.add(Dense(12, activation='gelu',activity_regularizer=reg))\n",
        "model.add(Dense(12, activation='gelu',activity_regularizer=reg))\n",
        "model.add(Dense(1, activation=None))\n",
        "\n",
        "# Compile the model\n",
        "model.compile(loss='mse', optimizer='adam', metrics=['mae'])"
      ],
      "metadata": {
        "id": "Ef_G0Y9FqjBu"
      },
      "execution_count": null,
      "outputs": []
    },
    {
      "cell_type": "code",
      "source": [
        "X_train=np.concatenate((changed, BAR_SIZED), axis=1)\n",
        "y_train=NOISED\n",
        "\n",
        "model.fit(X_train, y_train, epochs=10, batch_size=32,validation_split=.2)"
      ],
      "metadata": {
        "id": "-KGRzLB5rQwV"
      },
      "execution_count": null,
      "outputs": []
    },
    {
      "cell_type": "code",
      "source": [
        "prediction = model.predict(X_train)"
      ],
      "metadata": {
        "id": "H2Cz5z6It1MR"
      },
      "execution_count": null,
      "outputs": []
    },
    {
      "cell_type": "code",
      "source": [
        "cumsum = np.cumsum(np.cumsum(changed[:, -1]))"
      ],
      "metadata": {
        "id": "fpUzs60h8xLI"
      },
      "execution_count": null,
      "outputs": []
    },
    {
      "cell_type": "code",
      "source": [
        "plt.xlim(30000,30100)\n",
        "plt.plot(cumsum+prediction)\n",
        "plt.plot(cumsum)"
      ],
      "metadata": {
        "id": "YGnLpnVYt5ct"
      },
      "execution_count": null,
      "outputs": []
    },
    {
      "cell_type": "code",
      "source": [
        "# Set the print options\n",
        "np.set_printoptions(suppress=True, precision=4)\n",
        "print(model.get_weights())"
      ],
      "metadata": {
        "id": "tQVIIuUk4cAs"
      },
      "execution_count": null,
      "outputs": []
    }
  ],
  "metadata": {
    "colab": {
      "name": "Welcome To Colaboratory",
      "provenance": [],
      "include_colab_link": true
    },
    "kernelspec": {
      "display_name": "Python 3 (ipykernel)",
      "language": "python",
      "name": "python3"
    },
    "language_info": {
      "codemirror_mode": {
        "name": "ipython",
        "version": 3
      },
      "file_extension": ".py",
      "mimetype": "text/x-python",
      "name": "python",
      "nbconvert_exporter": "python",
      "pygments_lexer": "ipython3",
      "version": "3.8.10"
    }
  },
  "nbformat": 4,
  "nbformat_minor": 0
}