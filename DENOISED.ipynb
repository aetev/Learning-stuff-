{
  "cells": [
    {
      "cell_type": "markdown",
      "metadata": {
        "id": "view-in-github",
        "colab_type": "text"
      },
      "source": [
        "<a href=\"https://colab.research.google.com/github/aetev/Learning-stuff-/blob/main/DENOISED.ipynb\" target=\"_parent\"><img src=\"https://colab.research.google.com/assets/colab-badge.svg\" alt=\"Open In Colab\"/></a>"
      ]
    },
    {
      "cell_type": "code",
      "execution_count": 16,
      "metadata": {
        "colab": {
          "base_uri": "https://localhost:8080/"
        },
        "id": "TWAdRqLdGEyf",
        "outputId": "36af13d6-08d0-4b8d-f1f8-9e9b6e75c76d",
        "scrolled": true
      },
      "outputs": [
        {
          "output_type": "stream",
          "name": "stdout",
          "text": [
            "Drive already mounted at /content/drive; to attempt to forcibly remount, call drive.mount(\"/content/drive\", force_remount=True).\n"
          ]
        }
      ],
      "source": [
        "from google.colab import drive\n",
        "drive.mount('/content/drive')"
      ]
    },
    {
      "cell_type": "code",
      "execution_count": 17,
      "metadata": {
        "colab": {
          "base_uri": "https://localhost:8080/"
        },
        "id": "kIPBOzgXLKp5",
        "outputId": "e0e7ce61-788f-4270-9eb6-5491b5330b57",
        "scrolled": true
      },
      "outputs": [
        {
          "output_type": "stream",
          "name": "stdout",
          "text": [
            "Requirement already satisfied: pandas_ta in /usr/local/lib/python3.10/dist-packages (0.3.14b0)\n",
            "Requirement already satisfied: pandas in /usr/local/lib/python3.10/dist-packages (from pandas_ta) (1.5.3)\n",
            "Requirement already satisfied: python-dateutil>=2.8.1 in /usr/local/lib/python3.10/dist-packages (from pandas->pandas_ta) (2.8.2)\n",
            "Requirement already satisfied: pytz>=2020.1 in /usr/local/lib/python3.10/dist-packages (from pandas->pandas_ta) (2023.3.post1)\n",
            "Requirement already satisfied: numpy>=1.21.0 in /usr/local/lib/python3.10/dist-packages (from pandas->pandas_ta) (1.23.5)\n",
            "Requirement already satisfied: six>=1.5 in /usr/local/lib/python3.10/dist-packages (from python-dateutil>=2.8.1->pandas->pandas_ta) (1.16.0)\n"
          ]
        }
      ],
      "source": [
        "!pip install pandas_ta"
      ]
    },
    {
      "cell_type": "code",
      "source": [
        "import pandas as pd\n",
        "import numpy as np\n",
        "import pandas_ta as ta\n",
        "import tensorflow as tf\n",
        "from scipy.ndimage import gaussian_filter1d\n",
        "import matplotlib.pyplot as plt\n",
        "from numpy.lib.stride_tricks import sliding_window_view\n",
        "from tensorflow.keras.models import Sequential\n",
        "from tensorflow.keras.layers import Dense, Dropout, Conv1D, Flatten, LSTM\n",
        "from tensorflow.keras.utils import to_categorical"
      ],
      "metadata": {
        "id": "DgDZuwY1Vlf_"
      },
      "execution_count": 18,
      "outputs": []
    },
    {
      "cell_type": "code",
      "execution_count": 19,
      "metadata": {
        "id": "iwSR4EWTLbDK",
        "scrolled": true,
        "colab": {
          "base_uri": "https://localhost:8080/"
        },
        "outputId": "d4ed689e-bfb4-43c8-8b21-4b6be96d33da"
      },
      "outputs": [
        {
          "output_type": "stream",
          "name": "stdout",
          "text": [
            "             Date   Time       BO       BH       BL       BC      BCh  \\\n",
            "0      2005-05-02  00:00  1.28520  1.28520  1.28400  1.28440 -0.00080   \n",
            "1      2005-05-02  01:00  1.28440  1.28480  1.28390  1.28420 -0.00020   \n",
            "2      2005-05-02  02:00  1.28430  1.28540  1.28410  1.28510  0.00080   \n",
            "3      2005-05-02  03:00  1.28510  1.28590  1.28500  1.28510  0.00000   \n",
            "4      2005-05-02  04:00  1.28520  1.28590  1.28490  1.28550  0.00030   \n",
            "...           ...    ...      ...      ...      ...      ...      ...   \n",
            "93079  2020-04-29  18:00  1.08620  1.08851  1.08611  1.08713  0.00093   \n",
            "93080  2020-04-29  19:00  1.08711  1.08823  1.08659  1.08748  0.00037   \n",
            "93081  2020-04-29  20:00  1.08747  1.08788  1.08691  1.08708 -0.00039   \n",
            "93082  2020-04-29  21:00  1.08708  1.08740  1.08699  1.08714  0.00006   \n",
            "93083  2020-04-29  22:00  1.08728  1.08760  1.08727  1.08743  0.00015   \n",
            "\n",
            "            AO       AH       AL       AC      ACh  \n",
            "0      1.28540  1.28540  1.28420  1.28460 -0.00080  \n",
            "1      1.28460  1.28500  1.28410  1.28440 -0.00020  \n",
            "2      1.28450  1.28560  1.28430  1.28530  0.00080  \n",
            "3      1.28530  1.28610  1.28520  1.28530  0.00000  \n",
            "4      1.28540  1.28610  1.28510  1.28570  0.00030  \n",
            "...        ...      ...      ...      ...      ...  \n",
            "93079  1.08660  1.08865  1.08640  1.08726  0.00066  \n",
            "93080  1.08725  1.08837  1.08675  1.08760  0.00035  \n",
            "93081  1.08758  1.08810  1.08706  1.08808  0.00050  \n",
            "93082  1.08808  1.08814  1.08763  1.08766 -0.00042  \n",
            "93083  1.08756  1.08779  1.08749  1.08760  0.00004  \n",
            "\n",
            "[93084 rows x 12 columns]\n"
          ]
        }
      ],
      "source": [
        "df = pd.read_csv('/content/drive/MyDrive/eurusd_hour.csv')\n",
        "close = df['AC']\n",
        "open = df['AO']\n",
        "high = df['AH']\n",
        "low = df['AL']\n",
        "change = df['ACh']\n",
        "print(df)"
      ]
    },
    {
      "cell_type": "code",
      "source": [
        "df['Date'] = pd.to_datetime(df['Date'])\n",
        "df['Time'] = pd.to_datetime(df['Time'])\n",
        "\n",
        "Date_df = pd.DataFrame({\n",
        "       'Month': df['Date'].dt.month / 12,  # Divide by 12 to normalize the values between 0 and 1\n",
        "       'Day': df['Date'].dt.day / 31,  # Divide by 31 to normalize the values between 0 and 1\n",
        "       'Hour': df['Time'].dt.hour / 24,  # Divide by 24 to normalize the values between 0 and 1\n",
        "       'DayOfWeek': df['Date'].dt.dayofweek / 6  # Divide by 6 to normalize the values between 0 and 1\n",
        "   })"
      ],
      "metadata": {
        "id": "4dhpVfvre7SI"
      },
      "execution_count": 20,
      "outputs": []
    },
    {
      "cell_type": "code",
      "source": [
        "def compare_arrays(arr1, arr2):\n",
        "    result = []\n",
        "    for i in range(len(arr1)):\n",
        "        if arr1[i] > arr2[i]:\n",
        "            result.append(1)\n",
        "        else:\n",
        "            result.append(0)\n",
        "    return result"
      ],
      "metadata": {
        "id": "cVt6mfpFG2g5"
      },
      "execution_count": 21,
      "outputs": []
    },
    {
      "cell_type": "code",
      "source": [
        "def cross_over_under(arr):\n",
        "    result = np.zeros_like(arr)\n",
        "    for i in range(1, len(arr)):\n",
        "        if arr[i] > arr[i-1] and not arr[i-2] < arr[i-1]:\n",
        "            result[i] = 1\n",
        "        elif arr[i] < arr[i-1] and not arr[i-2] > arr[i-1]:\n",
        "            result[i] = 2\n",
        "\n",
        "\n",
        "    return result"
      ],
      "metadata": {
        "id": "PGfSyzFj5T7D"
      },
      "execution_count": 45,
      "outputs": []
    },
    {
      "cell_type": "code",
      "source": [
        "SMA = ta.sma(close,4,offset=-2)\n",
        "filter = gaussian_filter1d(close, sigma=4)\n",
        "test = cross_over_under(filter)\n",
        "filter2 = np.roll(filter,2)\n",
        "classs = compare_arrays(filter,filter2)\n",
        "NOISE = close-filter\n",
        "BAR_SIZE = high-low\n",
        "OPEN_SIZE = open - low\n",
        "CLOSE_SIZE = close - low\n",
        "\n",
        "plt.xlim(30000,30200)\n",
        "plt.ylim(1.56,1.6)\n",
        "plt.plot(filter)\n",
        "plt.plot(filter2)\n",
        "plt.plot(close)\n",
        "plt.show()\n",
        "plt.xlim(30000,30200)\n",
        "plt.plot(classs)\n",
        "plt.plot(test)\n",
        "plt.show()"
      ],
      "metadata": {
        "colab": {
          "base_uri": "https://localhost:8080/",
          "height": 848
        },
        "id": "h_IAbmKpZDDB",
        "outputId": "5ad1c562-1e49-4171-c76f-0f30884a8afb"
      },
      "execution_count": 46,
      "outputs": [
        {
          "output_type": "display_data",
          "data": {
            "text/plain": [
              "<Figure size 640x480 with 1 Axes>"
            ],
            "image/png": "[encoded data removed]"
          },
          "metadata": {}
        },
        {
          "output_type": "display_data",
          "data": {
            "text/plain": [
              "<Figure size 640x480 with 1 Axes>"
            ],
            "image/png": "[encoded data removed]"
          },
          "metadata": {}
        }
      ]
    },
    {
      "cell_type": "code",
      "source": [
        "# Define the window length and stride\n",
        "window_length = 20\n",
        "stride = 1\n",
        "\n",
        "month = Date_df['Month']\n",
        "day = Date_df['Day']\n",
        "hour = Date_df['Hour']\n",
        "dotw = Date_df['DayOfWeek']\n",
        "changed = pd.Series(change,name='change')\n",
        "NOISED = pd.Series(NOISE,name='noise')\n",
        "combined_series = pd.concat([changed,NOISED,month,day,hour,dotw], axis=1)\n",
        "combined_series = combined_series.dropna(axis=0)\n",
        "print(combined_series)\n",
        "noise = combined_series.pop('noise')\n",
        "changed = combined_series.pop('change')\n",
        "month = combined_series.pop('Month')\n",
        "day = combined_series.pop('Day')\n",
        "hour = combined_series.pop('Hour')\n",
        "dotw = combined_series.pop('DayOfWeek')\n",
        "\n",
        "# Create the sliding window view for time_series_1\n",
        "changed = sliding_window_view(changed, window_length)[::stride]\n",
        "NOISED = np.roll(noise, -window_length)\n",
        "NOISED = NOISED[:changed.shape[0]]\n",
        "month = np.expand_dims(month[:changed.shape[0]],1)\n",
        "day = np.expand_dims(day[:changed.shape[0]],1)\n",
        "hour = np.expand_dims(hour[:changed.shape[0]],1)\n",
        "dotw = np.expand_dims(dotw[:changed.shape[0]],1)\n",
        "\n",
        "\n",
        "changed = changed/np.std(changed)\n",
        "NOISED = NOISED/np.std(NOISED)\n",
        "print(changed)"
      ],
      "metadata": {
        "colab": {
          "base_uri": "https://localhost:8080/"
        },
        "id": "foQIs5K4aFko",
        "outputId": "e64bc7d2-a80b-4173-b7c7-1ec798ba1d7c"
      },
      "execution_count": 23,
      "outputs": [
        {
          "output_type": "stream",
          "name": "stdout",
          "text": [
            "        change     noise     Month       Day      Hour  DayOfWeek\n",
            "0     -0.00080 -0.000579  0.416667  0.064516  0.000000   0.000000\n",
            "1     -0.00020 -0.000822  0.416667  0.064516  0.041667   0.000000\n",
            "2      0.00080 -0.000004  0.416667  0.064516  0.083333   0.000000\n",
            "3      0.00000 -0.000117  0.416667  0.064516  0.125000   0.000000\n",
            "4      0.00030  0.000151  0.416667  0.064516  0.166667   0.000000\n",
            "...        ...       ...       ...       ...       ...        ...\n",
            "93079  0.00066  0.000543  0.333333  0.935484  0.750000   0.333333\n",
            "93080  0.00035  0.000688  0.333333  0.935484  0.791667   0.333333\n",
            "93081  0.00050  0.001004  0.333333  0.935484  0.833333   0.333333\n",
            "93082 -0.00042  0.000467  0.333333  0.935484  0.875000   0.333333\n",
            "93083  0.00004  0.000345  0.333333  0.935484  0.916667   0.333333\n",
            "\n",
            "[93084 rows x 6 columns]\n",
            "[[-0.51753957 -0.12938489  0.51753957 ... -0.19407734  0.5498858\n",
            "   0.25876979]\n",
            " [-0.12938489  0.51753957  0.         ...  0.5498858   0.25876979\n",
            "   0.29111601]\n",
            " [ 0.51753957  0.          0.19407734 ...  0.25876979  0.29111601\n",
            "  -0.80865558]\n",
            " ...\n",
            " [-0.53047806  0.94450972  0.43343939 ...  0.42697015  0.22642356\n",
            "   0.32346223]\n",
            " [ 0.94450972  0.43343939 -0.80218634 ...  0.22642356  0.32346223\n",
            "  -0.27170828]\n",
            " [ 0.43343939 -0.80218634  0.03881547 ...  0.32346223 -0.27170828\n",
            "   0.02587698]]\n"
          ]
        }
      ]
    },
    {
      "cell_type": "code",
      "source": [
        "\n",
        "#print(changed[:, ])\n",
        "#print(NOISED)\n",
        "\n",
        "\n",
        "plt.xlim(20000,20100)\n",
        "plt.plot(classs)\n",
        "plt.plot(close)\n"
      ],
      "metadata": {
        "colab": {
          "base_uri": "https://localhost:8080/",
          "height": 447
        },
        "id": "0gib4_pXeQmX",
        "outputId": "0ebe298e-5fb3-4899-9dad-e0e31e885e92"
      },
      "execution_count": 24,
      "outputs": [
        {
          "output_type": "execute_result",
          "data": {
            "text/plain": [
              "[<matplotlib.lines.Line2D at 0x7944a0b488b0>]"
            ]
          },
          "metadata": {},
          "execution_count": 24
        },
        {
          "output_type": "display_data",
          "data": {
            "text/plain": [
              "<Figure size 640x480 with 1 Axes>"
            ],
            "image/png": "[encoded data removed]"
          },
          "metadata": {}
        }
      ]
    },
    {
      "cell_type": "code",
      "execution_count": 25,
      "metadata": {
        "id": "smmf6KQZMjwZ"
      },
      "outputs": [],
      "source": [
        "def activity_regularizer(multiplier, decay=0.99):\n",
        "    # Initialize moving averages for mean and variance\n",
        "    mean_avg = tf.Variable(0.0, trainable=False, name='mean_avg')\n",
        "    variance_avg = tf.Variable(1.0, trainable=False, name='variance_avg')\n",
        "\n",
        "    def regularizer(y_pred):\n",
        "        # Calculate the current mean and variance\n",
        "        current_mean = tf.reduce_mean(y_pred)\n",
        "        current_variance = tf.math.reduce_variance(y_pred)\n",
        "\n",
        "        # Update moving averages\n",
        "        update_mean = tf.compat.v1.assign(mean_avg, decay * mean_avg + (1 - decay) * current_mean)\n",
        "        update_variance = tf.compat.v1.assign(variance_avg, decay * variance_avg + (1 - decay) * current_variance)\n",
        "\n",
        "        with tf.control_dependencies([update_mean, update_variance]):\n",
        "            # Use the moving averages for regularization\n",
        "            mean = mean_avg\n",
        "            variance = variance_avg\n",
        "\n",
        "        return multiplier * (tf.square(mean - 0) + tf.square(variance - 1))\n",
        "\n",
        "    return regularizer"
      ]
    },
    {
      "cell_type": "code",
      "source": [
        "reg = activity_regularizer(.01)\n",
        "\n",
        "# Create a sequential model\n",
        "model = Sequential()\n",
        "\n",
        "\n",
        "model.add(Dense(20, activation='gelu',activity_regularizer=reg))\n",
        "model.add(Dropout(.2))\n",
        "model.add(Dense(10, activation='gelu',activity_regularizer=reg))\n",
        "model.add(Dropout(.2))\n",
        "model.add(Dense(3, activation='softmax'))\n",
        "\n",
        "model.compile(loss='categorical_crossentropy', optimizer='adam', metrics=['accuracy'])\n"
      ],
      "metadata": {
        "id": "Ef_G0Y9FqjBu"
      },
      "execution_count": 57,
      "outputs": []
    },
    {
      "cell_type": "code",
      "source": [
        "X_train=changed#np.concatenate((changed,month,day,hour,dotw), axis=1)\n",
        "y_train=to_categorical(test)\n",
        "\n",
        "model.fit(X_train, y_train, epochs=100000, batch_size=64,validation_split=.2)"
      ],
      "metadata": {
        "colab": {
          "base_uri": "https://localhost:8080/",
          "height": 809
        },
        "id": "-KGRzLB5rQwV",
        "outputId": "42b85572-0769-4a8c-ba65-d8c97c33e529"
      },
      "execution_count": 58,
      "outputs": [
        {
          "output_type": "stream",
          "name": "stdout",
          "text": [
            "Epoch 1/100000\n",
            "1164/1164 [==============================] - 5s 3ms/step - loss: 0.3482 - accuracy: 0.9346 - val_loss: 0.2377 - val_accuracy: 0.9452\n",
            "Epoch 2/100000\n",
            "1164/1164 [==============================] - 4s 3ms/step - loss: 0.2467 - accuracy: 0.9445 - val_loss: 0.2268 - val_accuracy: 0.9452\n",
            "Epoch 3/100000\n",
            "1164/1164 [==============================] - 3s 3ms/step - loss: 0.2356 - accuracy: 0.9445 - val_loss: 0.2235 - val_accuracy: 0.9452\n",
            "Epoch 4/100000\n",
            "1164/1164 [==============================] - 3s 2ms/step - loss: 0.2309 - accuracy: 0.9445 - val_loss: 0.2212 - val_accuracy: 0.9452\n",
            "Epoch 5/100000\n",
            "1164/1164 [==============================] - 3s 2ms/step - loss: 0.2275 - accuracy: 0.9445 - val_loss: 0.2195 - val_accuracy: 0.9452\n",
            "Epoch 6/100000\n",
            "1164/1164 [==============================] - 4s 3ms/step - loss: 0.2260 - accuracy: 0.9445 - val_loss: 0.2191 - val_accuracy: 0.9452\n",
            "Epoch 7/100000\n",
            "1164/1164 [==============================] - 5s 4ms/step - loss: 0.2248 - accuracy: 0.9445 - val_loss: 0.2186 - val_accuracy: 0.9452\n",
            "Epoch 8/100000\n",
            "1164/1164 [==============================] - 3s 2ms/step - loss: 0.2243 - accuracy: 0.9445 - val_loss: 0.2185 - val_accuracy: 0.9452\n",
            "Epoch 9/100000\n",
            "1164/1164 [==============================] - 4s 3ms/step - loss: 0.2238 - accuracy: 0.9445 - val_loss: 0.2184 - val_accuracy: 0.9452\n",
            "Epoch 10/100000\n",
            "1164/1164 [==============================] - 3s 3ms/step - loss: 0.2231 - accuracy: 0.9445 - val_loss: 0.2185 - val_accuracy: 0.9452\n",
            "Epoch 11/100000\n",
            "1164/1164 [==============================] - 4s 3ms/step - loss: 0.2233 - accuracy: 0.9445 - val_loss: 0.2180 - val_accuracy: 0.9452\n",
            "Epoch 12/100000\n",
            "  83/1164 [=>............................] - ETA: 2s - loss: 0.2288 - accuracy: 0.9426"
          ]
        },
        {
          "output_type": "error",
          "ename": "KeyboardInterrupt",
          "evalue": "ignored",
          "traceback": [
            "\u001b[0;31m---------------------------------------------------------------------------\u001b[0m",
            "\u001b[0;31mKeyboardInterrupt\u001b[0m                         Traceback (most recent call last)",
            "\u001b[0;32m<ipython-input-58-4d0de1b90948>\u001b[0m in \u001b[0;36m<cell line: 4>\u001b[0;34m()\u001b[0m\n\u001b[1;32m      2\u001b[0m \u001b[0my_train\u001b[0m\u001b[0;34m=\u001b[0m\u001b[0mto_categorical\u001b[0m\u001b[0;34m(\u001b[0m\u001b[0mtest\u001b[0m\u001b[0;34m)\u001b[0m\u001b[0;34m\u001b[0m\u001b[0;34m\u001b[0m\u001b[0m\n\u001b[1;32m      3\u001b[0m \u001b[0;34m\u001b[0m\u001b[0m\n\u001b[0;32m----> 4\u001b[0;31m \u001b[0mmodel\u001b[0m\u001b[0;34m.\u001b[0m\u001b[0mfit\u001b[0m\u001b[0;34m(\u001b[0m\u001b[0mX_train\u001b[0m\u001b[0;34m,\u001b[0m \u001b[0my_train\u001b[0m\u001b[0;34m,\u001b[0m \u001b[0mepochs\u001b[0m\u001b[0;34m=\u001b[0m\u001b[0;36m100000\u001b[0m\u001b[0;34m,\u001b[0m \u001b[0mbatch_size\u001b[0m\u001b[0;34m=\u001b[0m\u001b[0;36m64\u001b[0m\u001b[0;34m,\u001b[0m\u001b[0mvalidation_split\u001b[0m\u001b[0;34m=\u001b[0m\u001b[0;36m.2\u001b[0m\u001b[0;34m)\u001b[0m\u001b[0;34m\u001b[0m\u001b[0;34m\u001b[0m\u001b[0m\n\u001b[0m",
            "\u001b[0;32m/usr/local/lib/python3.10/dist-packages/keras/src/utils/traceback_utils.py\u001b[0m in \u001b[0;36merror_handler\u001b[0;34m(*args, **kwargs)\u001b[0m\n\u001b[1;32m     63\u001b[0m         \u001b[0mfiltered_tb\u001b[0m \u001b[0;34m=\u001b[0m \u001b[0;32mNone\u001b[0m\u001b[0;34m\u001b[0m\u001b[0;34m\u001b[0m\u001b[0m\n\u001b[1;32m     64\u001b[0m         \u001b[0;32mtry\u001b[0m\u001b[0;34m:\u001b[0m\u001b[0;34m\u001b[0m\u001b[0;34m\u001b[0m\u001b[0m\n\u001b[0;32m---> 65\u001b[0;31m             \u001b[0;32mreturn\u001b[0m \u001b[0mfn\u001b[0m\u001b[0;34m(\u001b[0m\u001b[0;34m*\u001b[0m\u001b[0margs\u001b[0m\u001b[0;34m,\u001b[0m \u001b[0;34m**\u001b[0m\u001b[0mkwargs\u001b[0m\u001b[0;34m)\u001b[0m\u001b[0;34m\u001b[0m\u001b[0;34m\u001b[0m\u001b[0m\n\u001b[0m\u001b[1;32m     66\u001b[0m         \u001b[0;32mexcept\u001b[0m \u001b[0mException\u001b[0m \u001b[0;32mas\u001b[0m \u001b[0me\u001b[0m\u001b[0;34m:\u001b[0m\u001b[0;34m\u001b[0m\u001b[0;34m\u001b[0m\u001b[0m\n\u001b[1;32m     67\u001b[0m             \u001b[0mfiltered_tb\u001b[0m \u001b[0;34m=\u001b[0m \u001b[0m_process_traceback_frames\u001b[0m\u001b[0;34m(\u001b[0m\u001b[0me\u001b[0m\u001b[0;34m.\u001b[0m\u001b[0m__traceback__\u001b[0m\u001b[0;34m)\u001b[0m\u001b[0;34m\u001b[0m\u001b[0;34m\u001b[0m\u001b[0m\n",
            "\u001b[0;32m/usr/local/lib/python3.10/dist-packages/keras/src/engine/training.py\u001b[0m in \u001b[0;36mfit\u001b[0;34m(self, x, y, batch_size, epochs, verbose, callbacks, validation_split, validation_data, shuffle, class_weight, sample_weight, initial_epoch, steps_per_epoch, validation_steps, validation_batch_size, validation_freq, max_queue_size, workers, use_multiprocessing)\u001b[0m\n\u001b[1;32m   1740\u001b[0m                         ):\n\u001b[1;32m   1741\u001b[0m                             \u001b[0mcallbacks\u001b[0m\u001b[0;34m.\u001b[0m\u001b[0mon_train_batch_begin\u001b[0m\u001b[0;34m(\u001b[0m\u001b[0mstep\u001b[0m\u001b[0;34m)\u001b[0m\u001b[0;34m\u001b[0m\u001b[0;34m\u001b[0m\u001b[0m\n\u001b[0;32m-> 1742\u001b[0;31m                             \u001b[0mtmp_logs\u001b[0m \u001b[0;34m=\u001b[0m \u001b[0mself\u001b[0m\u001b[0;34m.\u001b[0m\u001b[0mtrain_function\u001b[0m\u001b[0;34m(\u001b[0m\u001b[0miterator\u001b[0m\u001b[0;34m)\u001b[0m\u001b[0;34m\u001b[0m\u001b[0;34m\u001b[0m\u001b[0m\n\u001b[0m\u001b[1;32m   1743\u001b[0m                             \u001b[0;32mif\u001b[0m \u001b[0mdata_handler\u001b[0m\u001b[0;34m.\u001b[0m\u001b[0mshould_sync\u001b[0m\u001b[0;34m:\u001b[0m\u001b[0;34m\u001b[0m\u001b[0;34m\u001b[0m\u001b[0m\n\u001b[1;32m   1744\u001b[0m                                 \u001b[0mcontext\u001b[0m\u001b[0;34m.\u001b[0m\u001b[0masync_wait\u001b[0m\u001b[0;34m(\u001b[0m\u001b[0;34m)\u001b[0m\u001b[0;34m\u001b[0m\u001b[0;34m\u001b[0m\u001b[0m\n",
            "\u001b[0;32m/usr/local/lib/python3.10/dist-packages/tensorflow/python/util/traceback_utils.py\u001b[0m in \u001b[0;36merror_handler\u001b[0;34m(*args, **kwargs)\u001b[0m\n\u001b[1;32m    148\u001b[0m     \u001b[0mfiltered_tb\u001b[0m \u001b[0;34m=\u001b[0m \u001b[0;32mNone\u001b[0m\u001b[0;34m\u001b[0m\u001b[0;34m\u001b[0m\u001b[0m\n\u001b[1;32m    149\u001b[0m     \u001b[0;32mtry\u001b[0m\u001b[0;34m:\u001b[0m\u001b[0;34m\u001b[0m\u001b[0;34m\u001b[0m\u001b[0m\n\u001b[0;32m--> 150\u001b[0;31m       \u001b[0;32mreturn\u001b[0m \u001b[0mfn\u001b[0m\u001b[0;34m(\u001b[0m\u001b[0;34m*\u001b[0m\u001b[0margs\u001b[0m\u001b[0;34m,\u001b[0m \u001b[0;34m**\u001b[0m\u001b[0mkwargs\u001b[0m\u001b[0;34m)\u001b[0m\u001b[0;34m\u001b[0m\u001b[0;34m\u001b[0m\u001b[0m\n\u001b[0m\u001b[1;32m    151\u001b[0m     \u001b[0;32mexcept\u001b[0m \u001b[0mException\u001b[0m \u001b[0;32mas\u001b[0m \u001b[0me\u001b[0m\u001b[0;34m:\u001b[0m\u001b[0;34m\u001b[0m\u001b[0;34m\u001b[0m\u001b[0m\n\u001b[1;32m    152\u001b[0m       \u001b[0mfiltered_tb\u001b[0m \u001b[0;34m=\u001b[0m \u001b[0m_process_traceback_frames\u001b[0m\u001b[0;34m(\u001b[0m\u001b[0me\u001b[0m\u001b[0;34m.\u001b[0m\u001b[0m__traceback__\u001b[0m\u001b[0;34m)\u001b[0m\u001b[0;34m\u001b[0m\u001b[0;34m\u001b[0m\u001b[0m\n",
            "\u001b[0;32m/usr/local/lib/python3.10/dist-packages/tensorflow/python/eager/polymorphic_function/polymorphic_function.py\u001b[0m in \u001b[0;36m__call__\u001b[0;34m(self, *args, **kwds)\u001b[0m\n\u001b[1;32m    823\u001b[0m \u001b[0;34m\u001b[0m\u001b[0m\n\u001b[1;32m    824\u001b[0m       \u001b[0;32mwith\u001b[0m \u001b[0mOptionalXlaContext\u001b[0m\u001b[0;34m(\u001b[0m\u001b[0mself\u001b[0m\u001b[0;34m.\u001b[0m\u001b[0m_jit_compile\u001b[0m\u001b[0;34m)\u001b[0m\u001b[0;34m:\u001b[0m\u001b[0;34m\u001b[0m\u001b[0;34m\u001b[0m\u001b[0m\n\u001b[0;32m--> 825\u001b[0;31m         \u001b[0mresult\u001b[0m \u001b[0;34m=\u001b[0m \u001b[0mself\u001b[0m\u001b[0;34m.\u001b[0m\u001b[0m_call\u001b[0m\u001b[0;34m(\u001b[0m\u001b[0;34m*\u001b[0m\u001b[0margs\u001b[0m\u001b[0;34m,\u001b[0m \u001b[0;34m**\u001b[0m\u001b[0mkwds\u001b[0m\u001b[0;34m)\u001b[0m\u001b[0;34m\u001b[0m\u001b[0;34m\u001b[0m\u001b[0m\n\u001b[0m\u001b[1;32m    826\u001b[0m \u001b[0;34m\u001b[0m\u001b[0m\n\u001b[1;32m    827\u001b[0m       \u001b[0mnew_tracing_count\u001b[0m \u001b[0;34m=\u001b[0m \u001b[0mself\u001b[0m\u001b[0;34m.\u001b[0m\u001b[0mexperimental_get_tracing_count\u001b[0m\u001b[0;34m(\u001b[0m\u001b[0;34m)\u001b[0m\u001b[0;34m\u001b[0m\u001b[0;34m\u001b[0m\u001b[0m\n",
            "\u001b[0;32m/usr/local/lib/python3.10/dist-packages/tensorflow/python/eager/polymorphic_function/polymorphic_function.py\u001b[0m in \u001b[0;36m_call\u001b[0;34m(self, *args, **kwds)\u001b[0m\n\u001b[1;32m    855\u001b[0m       \u001b[0;31m# In this case we have created variables on the first call, so we run the\u001b[0m\u001b[0;34m\u001b[0m\u001b[0;34m\u001b[0m\u001b[0m\n\u001b[1;32m    856\u001b[0m       \u001b[0;31m# defunned version which is guaranteed to never create variables.\u001b[0m\u001b[0;34m\u001b[0m\u001b[0;34m\u001b[0m\u001b[0m\n\u001b[0;32m--> 857\u001b[0;31m       \u001b[0;32mreturn\u001b[0m \u001b[0mself\u001b[0m\u001b[0;34m.\u001b[0m\u001b[0m_no_variable_creation_fn\u001b[0m\u001b[0;34m(\u001b[0m\u001b[0;34m*\u001b[0m\u001b[0margs\u001b[0m\u001b[0;34m,\u001b[0m \u001b[0;34m**\u001b[0m\u001b[0mkwds\u001b[0m\u001b[0;34m)\u001b[0m  \u001b[0;31m# pylint: disable=not-callable\u001b[0m\u001b[0;34m\u001b[0m\u001b[0;34m\u001b[0m\u001b[0m\n\u001b[0m\u001b[1;32m    858\u001b[0m     \u001b[0;32melif\u001b[0m \u001b[0mself\u001b[0m\u001b[0;34m.\u001b[0m\u001b[0m_variable_creation_fn\u001b[0m \u001b[0;32mis\u001b[0m \u001b[0;32mnot\u001b[0m \u001b[0;32mNone\u001b[0m\u001b[0;34m:\u001b[0m\u001b[0;34m\u001b[0m\u001b[0;34m\u001b[0m\u001b[0m\n\u001b[1;32m    859\u001b[0m       \u001b[0;31m# Release the lock early so that multiple threads can perform the call\u001b[0m\u001b[0;34m\u001b[0m\u001b[0;34m\u001b[0m\u001b[0m\n",
            "\u001b[0;32m/usr/local/lib/python3.10/dist-packages/tensorflow/python/eager/polymorphic_function/tracing_compiler.py\u001b[0m in \u001b[0;36m__call__\u001b[0;34m(self, *args, **kwargs)\u001b[0m\n\u001b[1;32m    146\u001b[0m       (concrete_function,\n\u001b[1;32m    147\u001b[0m        filtered_flat_args) = self._maybe_define_function(args, kwargs)\n\u001b[0;32m--> 148\u001b[0;31m     return concrete_function._call_flat(\n\u001b[0m\u001b[1;32m    149\u001b[0m         filtered_flat_args, captured_inputs=concrete_function.captured_inputs)  # pylint: disable=protected-access\n\u001b[1;32m    150\u001b[0m \u001b[0;34m\u001b[0m\u001b[0m\n",
            "\u001b[0;32m/usr/local/lib/python3.10/dist-packages/tensorflow/python/eager/polymorphic_function/monomorphic_function.py\u001b[0m in \u001b[0;36m_call_flat\u001b[0;34m(self, args, captured_inputs)\u001b[0m\n\u001b[1;32m   1347\u001b[0m         and executing_eagerly):\n\u001b[1;32m   1348\u001b[0m       \u001b[0;31m# No tape is watching; skip to running the function.\u001b[0m\u001b[0;34m\u001b[0m\u001b[0;34m\u001b[0m\u001b[0m\n\u001b[0;32m-> 1349\u001b[0;31m       \u001b[0;32mreturn\u001b[0m \u001b[0mself\u001b[0m\u001b[0;34m.\u001b[0m\u001b[0m_build_call_outputs\u001b[0m\u001b[0;34m(\u001b[0m\u001b[0mself\u001b[0m\u001b[0;34m.\u001b[0m\u001b[0m_inference_function\u001b[0m\u001b[0;34m(\u001b[0m\u001b[0;34m*\u001b[0m\u001b[0margs\u001b[0m\u001b[0;34m)\u001b[0m\u001b[0;34m)\u001b[0m\u001b[0;34m\u001b[0m\u001b[0;34m\u001b[0m\u001b[0m\n\u001b[0m\u001b[1;32m   1350\u001b[0m     forward_backward = self._select_forward_and_backward_functions(\n\u001b[1;32m   1351\u001b[0m         \u001b[0margs\u001b[0m\u001b[0;34m,\u001b[0m\u001b[0;34m\u001b[0m\u001b[0;34m\u001b[0m\u001b[0m\n",
            "\u001b[0;32m/usr/local/lib/python3.10/dist-packages/tensorflow/python/eager/polymorphic_function/atomic_function.py\u001b[0m in \u001b[0;36m__call__\u001b[0;34m(self, *args)\u001b[0m\n\u001b[1;32m    194\u001b[0m         \u001b[0;32mwith\u001b[0m \u001b[0mrecord\u001b[0m\u001b[0;34m.\u001b[0m\u001b[0mstop_recording\u001b[0m\u001b[0;34m(\u001b[0m\u001b[0;34m)\u001b[0m\u001b[0;34m:\u001b[0m\u001b[0;34m\u001b[0m\u001b[0;34m\u001b[0m\u001b[0m\n\u001b[1;32m    195\u001b[0m           \u001b[0;32mif\u001b[0m \u001b[0mself\u001b[0m\u001b[0;34m.\u001b[0m\u001b[0m_bound_context\u001b[0m\u001b[0;34m.\u001b[0m\u001b[0mexecuting_eagerly\u001b[0m\u001b[0;34m(\u001b[0m\u001b[0;34m)\u001b[0m\u001b[0;34m:\u001b[0m\u001b[0;34m\u001b[0m\u001b[0;34m\u001b[0m\u001b[0m\n\u001b[0;32m--> 196\u001b[0;31m             outputs = self._bound_context.call_function(\n\u001b[0m\u001b[1;32m    197\u001b[0m                 \u001b[0mself\u001b[0m\u001b[0;34m.\u001b[0m\u001b[0mname\u001b[0m\u001b[0;34m,\u001b[0m\u001b[0;34m\u001b[0m\u001b[0;34m\u001b[0m\u001b[0m\n\u001b[1;32m    198\u001b[0m                 \u001b[0mlist\u001b[0m\u001b[0;34m(\u001b[0m\u001b[0margs\u001b[0m\u001b[0;34m)\u001b[0m\u001b[0;34m,\u001b[0m\u001b[0;34m\u001b[0m\u001b[0;34m\u001b[0m\u001b[0m\n",
            "\u001b[0;32m/usr/local/lib/python3.10/dist-packages/tensorflow/python/eager/context.py\u001b[0m in \u001b[0;36mcall_function\u001b[0;34m(self, name, tensor_inputs, num_outputs)\u001b[0m\n\u001b[1;32m   1455\u001b[0m     \u001b[0mcancellation_context\u001b[0m \u001b[0;34m=\u001b[0m \u001b[0mcancellation\u001b[0m\u001b[0;34m.\u001b[0m\u001b[0mcontext\u001b[0m\u001b[0;34m(\u001b[0m\u001b[0;34m)\u001b[0m\u001b[0;34m\u001b[0m\u001b[0;34m\u001b[0m\u001b[0m\n\u001b[1;32m   1456\u001b[0m     \u001b[0;32mif\u001b[0m \u001b[0mcancellation_context\u001b[0m \u001b[0;32mis\u001b[0m \u001b[0;32mNone\u001b[0m\u001b[0;34m:\u001b[0m\u001b[0;34m\u001b[0m\u001b[0;34m\u001b[0m\u001b[0m\n\u001b[0;32m-> 1457\u001b[0;31m       outputs = execute.execute(\n\u001b[0m\u001b[1;32m   1458\u001b[0m           \u001b[0mname\u001b[0m\u001b[0;34m.\u001b[0m\u001b[0mdecode\u001b[0m\u001b[0;34m(\u001b[0m\u001b[0;34m\"utf-8\"\u001b[0m\u001b[0;34m)\u001b[0m\u001b[0;34m,\u001b[0m\u001b[0;34m\u001b[0m\u001b[0;34m\u001b[0m\u001b[0m\n\u001b[1;32m   1459\u001b[0m           \u001b[0mnum_outputs\u001b[0m\u001b[0;34m=\u001b[0m\u001b[0mnum_outputs\u001b[0m\u001b[0;34m,\u001b[0m\u001b[0;34m\u001b[0m\u001b[0;34m\u001b[0m\u001b[0m\n",
            "\u001b[0;32m/usr/local/lib/python3.10/dist-packages/tensorflow/python/eager/execute.py\u001b[0m in \u001b[0;36mquick_execute\u001b[0;34m(op_name, num_outputs, inputs, attrs, ctx, name)\u001b[0m\n\u001b[1;32m     51\u001b[0m   \u001b[0;32mtry\u001b[0m\u001b[0;34m:\u001b[0m\u001b[0;34m\u001b[0m\u001b[0;34m\u001b[0m\u001b[0m\n\u001b[1;32m     52\u001b[0m     \u001b[0mctx\u001b[0m\u001b[0;34m.\u001b[0m\u001b[0mensure_initialized\u001b[0m\u001b[0;34m(\u001b[0m\u001b[0;34m)\u001b[0m\u001b[0;34m\u001b[0m\u001b[0;34m\u001b[0m\u001b[0m\n\u001b[0;32m---> 53\u001b[0;31m     tensors = pywrap_tfe.TFE_Py_Execute(ctx._handle, device_name, op_name,\n\u001b[0m\u001b[1;32m     54\u001b[0m                                         inputs, attrs, num_outputs)\n\u001b[1;32m     55\u001b[0m   \u001b[0;32mexcept\u001b[0m \u001b[0mcore\u001b[0m\u001b[0;34m.\u001b[0m\u001b[0m_NotOkStatusException\u001b[0m \u001b[0;32mas\u001b[0m \u001b[0me\u001b[0m\u001b[0;34m:\u001b[0m\u001b[0;34m\u001b[0m\u001b[0;34m\u001b[0m\u001b[0m\n",
            "\u001b[0;31mKeyboardInterrupt\u001b[0m: "
          ]
        }
      ]
    },
    {
      "cell_type": "code",
      "source": [
        "changed"
      ],
      "metadata": {
        "id": "7eEUhchO-E4C"
      },
      "execution_count": null,
      "outputs": []
    },
    {
      "cell_type": "code",
      "source": [
        "print(X_train[0])"
      ],
      "metadata": {
        "id": "mxwc7J2Q9w-F"
      },
      "execution_count": null,
      "outputs": []
    },
    {
      "cell_type": "code",
      "source": [
        "prediction = model.predict(X_train)"
      ],
      "metadata": {
        "id": "H2Cz5z6It1MR"
      },
      "execution_count": null,
      "outputs": []
    },
    {
      "cell_type": "code",
      "source": [
        "plt.xlim(20000,20100)\n",
        "plt.plot(prediction)\n",
        "plt.plot(y_train)"
      ],
      "metadata": {
        "id": "YGnLpnVYt5ct"
      },
      "execution_count": null,
      "outputs": []
    },
    {
      "cell_type": "code",
      "source": [
        "# Set the print options\n",
        "np.set_printoptions(suppress=True, precision=4)\n",
        "print(model.get_weights())"
      ],
      "metadata": {
        "id": "tQVIIuUk4cAs"
      },
      "execution_count": null,
      "outputs": []
    },
    {
      "cell_type": "code",
      "source": [
        "weights = np.array(model.get_weights(),dtype=object)\n",
        "weight, bias = np.split(weights, 2)\n",
        "#print(weight[1])\n",
        "print(weights[1])\n",
        "print(bias[1])"
      ],
      "metadata": {
        "id": "XzjO_DL5oWnc"
      },
      "execution_count": null,
      "outputs": []
    },
    {
      "cell_type": "code",
      "source": [
        "def is_numpy_array(obj):\n",
        "       return type(obj) is np.ndarray"
      ],
      "metadata": {
        "id": "aewP-TFay69J"
      },
      "execution_count": 51,
      "outputs": []
    },
    {
      "cell_type": "code",
      "source": [
        "activation = [\"gelu\",\"gelu\", \"\",\"gelu\", \"\",\"AF.linear\",\"AF.linear\",\"AF.gelu\",\"AF.linear\"]\n",
        "network = np.array(model.get_weights(),dtype=object)\n",
        "# Create an array of integers from 0 to 25 representing ASCII values of lowercase letters\n",
        "ascii_values = np.arange(97, 123)\n",
        "\n",
        "# Convert the ASCII values to characters using the 'chr' function\n",
        "characters = np.char.add('', np.char.mod('%c', ascii_values))\n",
        "\n",
        "# Create an empty array to store the selected arrays\n",
        "bias = np.empty_like(network[1::2])  # Create an empty array with the same shape as the selected arrays\n",
        "# Create an empty array to store the selected arrays\n",
        "weight = np.empty_like(network[::2])  # Create an empty array with the same shape as the selected arrays\n",
        "\n",
        "#Iterate over the main array and select every second array\n",
        "for i, arr in enumerate(network[1::2]):\n",
        "    bias[i] = arr\n",
        "\n",
        "for i, arr in enumerate(network[::2]):\n",
        "    weight[i] = arr\n",
        "\n",
        "\n",
        "\n",
        "for lay_num, layer in enumerate(weight):\n",
        "  for neu_num, neuron in enumerate(np.transpose(layer)):\n",
        "    if not is_numpy_array(neuron):\n",
        "      neuron_makeup = str(characters[lay_num+1]) + str(neu_num) + \" = (\"\n",
        "      neuron_makeup += str(neuron) + \" * \" + characters[lay_num]  + str(neu_num) + \" + \" +  str(bias[lay_num][neu_num]) + \")\"\n",
        "\n",
        "    else:\n",
        "      neuron_makeup = str(characters[lay_num+1]) + str(neu_num) + \" = \" + activation[lay_num] + \"(\"\n",
        "      for mul_num, mult in enumerate(neuron):\n",
        "          neuron_makeup += str(mult) + \" * \" +characters[lay_num] + str(mul_num) + \" + \"\n",
        "      neuron_makeup += str(bias[lay_num][neu_num]) + \")\"\n",
        "    np.set_printoptions(suppress=True)\n",
        "    print(neuron_makeup)"
      ],
      "metadata": {
        "colab": {
          "base_uri": "https://localhost:8080/"
        },
        "id": "m937QzAooKU_",
        "outputId": "4687bce0-410b-430b-919c-76269d59b14d"
      },
      "execution_count": 59,
      "outputs": [
        {
          "output_type": "stream",
          "name": "stdout",
          "text": [
            "b0 = gelu(0.7046121 * a0 + 0.61224794 * a1 + 0.49473158 * a2 + 0.61984015 * a3 + 0.5264545 * a4 + 0.3525676 * a5 + 0.34904638 * a6 + 0.15714374 * a7 + 0.22673282 * a8 + 0.015247816 * a9 + 0.19549552)\n",
            "b1 = gelu(-0.09655409 * a0 + -0.36730182 * a1 + -0.46404624 * a2 + -0.39289436 * a3 + -0.3168614 * a4 + -0.42765352 * a5 + -0.25485638 * a6 + -0.18915561 * a7 + -0.10771743 * a8 + -0.09860917 * a9 + 0.19340359)\n",
            "b2 = gelu(-0.3509126 * a0 + -0.3796832 * a1 + -0.34756434 * a2 + -0.545025 * a3 + -0.3159147 * a4 + -0.06341022 * a5 + 0.11868501 * a6 + -0.103359625 * a7 + 0.13256359 * a8 + 0.13493483 * a9 + 0.057905234)\n",
            "b3 = gelu(-0.0062242076 * a0 + -0.30068028 * a1 + 0.36497542 * a2 + -0.057179376 * a3 + -0.024628976 * a4 + 0.018079529 * a5 + -0.01799885 * a6 + 0.16416286 * a7 + 0.05245099 * a8 + 0.05464089 * a9 + 0.088542536)\n",
            "b4 = gelu(0.23438933 * a0 + 0.27501264 * a1 + 0.42652407 * a2 + 0.46633178 * a3 + 0.45232728 * a4 + 0.46990892 * a5 + 0.3134805 * a6 + 0.34042504 * a7 + 0.17839618 * a8 + 0.0372632 * a9 + 0.31386417)\n",
            "b5 = gelu(0.7242345 * a0 + 0.47137314 * a1 + 0.37308377 * a2 + 0.3334384 * a3 + 0.05245871 * a4 + -0.051102057 * a5 + -0.110796176 * a6 + -0.0016519728 * a7 + -0.01323591 * a8 + 0.11044777 * a9 + 0.018935952)\n",
            "b6 = gelu(-0.16308016 * a0 + -0.4766995 * a1 + -0.44292057 * a2 + -0.5860363 * a3 + -0.43905765 * a4 + -0.39592662 * a5 + -0.15733469 * a6 + -0.2230583 * a7 + -0.084056616 * a8 + -0.15671712 * a9 + 0.19837013)\n",
            "b7 = gelu(0.46660322 * a0 + 0.45924088 * a1 + 0.44132534 * a2 + 0.6028331 * a3 + 0.15734953 * a4 + 0.6837216 * a5 + 0.2071913 * a6 + 0.36411342 * a7 + 0.16523737 * a8 + 0.08873174 * a9 + 0.25780496)\n",
            "b8 = gelu(0.26470864 * a0 + 0.32102296 * a1 + 0.40594918 * a2 + 0.57862 * a3 + 0.60441166 * a4 + 0.51078457 * a5 + 0.32036322 * a6 + 0.31991175 * a7 + 0.38080743 * a8 + 0.083886914 * a9 + 0.25832942)\n",
            "b9 = gelu(0.0627108 * a0 + 0.34953213 * a1 + 0.30591166 * a2 + 0.16444157 * a3 + -0.025621573 * a4 + 0.010478284 * a5 + -0.026452186 * a6 + -0.08248886 * a7 + -0.15169285 * a8 + -0.12427448 * a9 + 0.027283289)\n",
            "b10 = gelu(0.5218712 * a0 + 0.5043714 * a1 + 0.6666927 * a2 + 0.5910176 * a3 + 0.5996398 * a4 + 0.38099572 * a5 + 0.3484742 * a6 + 0.2142354 * a7 + 0.10470883 * a8 + 0.123813875 * a9 + 0.15003651)\n",
            "b11 = gelu(0.2579749 * a0 + 0.4400655 * a1 + 0.3149809 * a2 + -0.17590709 * a3 + 0.08937155 * a4 + 0.093895234 * a5 + -0.12244353 * a6 + 0.1619037 * a7 + -0.031432252 * a8 + 0.021599604 * a9 + 0.077238046)\n",
            "b12 = gelu(-0.54927564 * a0 + -0.3300117 * a1 + 0.13297127 * a2 + 0.005239774 * a3 + 0.3016364 * a4 + 0.24804609 * a5 + 0.28281346 * a6 + 0.13843942 * a7 + 0.12632447 * a8 + 0.11513955 * a9 + 0.08286088)\n",
            "b13 = gelu(-0.58998907 * a0 + -0.44565853 * a1 + -0.4112317 * a2 + -0.06078889 * a3 + -0.34016207 * a4 + -0.23743357 * a5 + -0.075752996 * a6 + 0.10652859 * a7 + -0.08424153 * a8 + 0.10806265 * a9 + 0.08842539)\n",
            "b14 = gelu(-0.14250888 * a0 + -0.11972018 * a1 + -0.36765856 * a2 + -0.29338056 * a3 + -0.35449228 * a4 + -0.34354827 * a5 + -0.39683715 * a6 + -0.35016307 * a7 + -0.14180464 * a8 + -0.26838738 * a9 + 0.23889416)\n",
            "b15 = gelu(0.10140253 * a0 + -0.1656338 * a1 + -0.021503666 * a2 + 0.14807011 * a3 + -0.20132953 * a4 + -0.18722695 * a5 + -0.39335367 * a6 + -0.037654217 * a7 + -0.06296473 * a8 + 0.14742406 * a9 + 0.151183)\n",
            "b16 = gelu(0.07496817 * a0 + 0.03891887 * a1 + -0.093934394 * a2 + 0.14557253 * a3 + -0.066542715 * a4 + -0.13796024 * a5 + 0.02935639 * a6 + 0.5020407 * a7 + 0.22014964 * a8 + 0.13713974 * a9 + -0.2018757)\n",
            "b17 = gelu(-0.10403434 * a0 + 0.15297031 * a1 + 0.27663603 * a2 + 0.4334403 * a3 + 0.5264656 * a4 + 0.35995695 * a5 + 0.26949838 * a6 + 0.12416164 * a7 + 0.10321189 * a8 + 0.2303799 * a9 + 0.24000397)\n",
            "b18 = gelu(-0.35659832 * a0 + -0.32719642 * a1 + -0.456594 * a2 + -0.3208199 * a3 + -0.12565055 * a4 + -0.24750237 * a5 + -0.09777612 * a6 + -0.08684166 * a7 + -0.046399437 * a8 + -0.03903131 * a9 + 0.14071102)\n",
            "b19 = gelu(-0.44258255 * a0 + -0.36407393 * a1 + -0.3519983 * a2 + -0.22095965 * a3 + 0.18662342 * a4 + 0.043831322 * a5 + 0.07708275 * a6 + 0.23242487 * a7 + -0.061766166 * a8 + 0.011762673 * a9 + -0.2429437)\n",
            "c0 = gelu(-0.33557668 * b0 + 0.07229804 * b1 + -0.043095265 * b2 + -0.18748134 * b3 + -0.38644776 * b4 + 0.114303574 * b5 + 0.0080072405 * b6 + -0.16333632 * b7 + -0.1675755 * b8 + 0.07746672 * b9 + -0.35997805 * b10 + -0.013158451 * b11 + -0.14300726 * b12 + -0.00346405 * b13 + 0.008241294 * b14 + 0.018296089 * b15 + -0.24045344 * b16 + -0.44074672 * b17 + 0.009310471 * b18 + -0.23015624 * b19 + -0.46127975)\n",
            "c1 = gelu(-0.3034871 * b0 + -0.102647774 * b1 + 0.0005350249 * b2 + -0.12434799 * b3 + -0.19842169 * b4 + 0.020439772 * b5 + -0.16454282 * b6 + -0.28586575 * b7 + -0.58553857 * b8 + 0.2121504 * b9 + -0.09868539 * b10 + 0.01897703 * b11 + -0.3245792 * b12 + -0.1256869 * b13 + -0.2044389 * b14 + 0.0092834225 * b15 + -0.039305765 * b16 + -0.6859588 * b17 + 0.100612104 * b18 + 0.21203795 * b19 + -0.43725836)\n",
            "c2 = gelu(0.19468983 * b0 + 0.04344149 * b1 + 0.08667063 * b2 + 0.19852066 * b3 + -0.11081866 * b4 + 0.40411595 * b5 + 0.069694065 * b6 + 0.028232915 * b7 + -0.06589398 * b8 + 0.22212224 * b9 + 0.016537797 * b10 + 0.22193128 * b11 + -0.18083052 * b12 + 0.33040214 * b13 + -0.07960274 * b14 + -0.18179144 * b15 + -0.30932584 * b16 + 0.02172592 * b17 + 0.07158591 * b18 + 0.042795468 * b19 + 0.2549436)\n",
            "c3 = gelu(-0.20981665 * b0 + -0.06413548 * b1 + -0.07115184 * b2 + -0.20703459 * b3 + -0.34019232 * b4 + 0.038059413 * b5 + 0.03346096 * b6 + -0.21796755 * b7 + -0.24524127 * b8 + 0.11002219 * b9 + -0.23405467 * b10 + -0.1087136 * b11 + -0.282197 * b12 + -0.104429886 * b13 + -0.007382159 * b14 + 0.028868439 * b15 + -0.11801123 * b16 + -0.28207874 * b17 + -0.07014045 * b18 + -0.13065526 * b19 + -0.24135861)\n",
            "c4 = gelu(0.32566875 * b0 + -0.08952851 * b1 + -0.06130648 * b2 + 0.009741205 * b3 + 0.339502 * b4 + 0.34274992 * b5 + 0.015525532 * b6 + 0.21753645 * b7 + 0.12962973 * b8 + -0.019956866 * b9 + 0.635354 * b10 + -0.07446384 * b11 + 0.2328297 * b12 + -0.046357144 * b13 + -0.2128832 * b14 + -0.3097093 * b15 + -0.20462593 * b16 + -0.060594033 * b17 + 0.06377657 * b18 + 0.30459288 * b19 + 0.43867978)\n",
            "c5 = gelu(-0.6645353 * b0 + 0.5507799 * b1 + 0.2207023 * b2 + -0.11380381 * b3 + -0.25771302 * b4 + -0.36209732 * b5 + 0.609154 * b6 + -0.168564 * b7 + -0.15332784 * b8 + 0.12240652 * b9 + -0.49842507 * b10 + -0.22604005 * b11 + 0.089193165 * b12 + 0.1529721 * b13 + 0.24497546 * b14 + 0.36551666 * b15 + -0.3854363 * b16 + -0.15421076 * b17 + 0.31424794 * b18 + 0.20836352 * b19 + 0.42716953)\n",
            "c6 = gelu(0.594406 * b0 + -0.5146333 * b1 + 0.13494141 * b2 + 0.16905887 * b3 + 0.30453858 * b4 + -0.069982976 * b5 + -0.5548603 * b6 + 0.12113362 * b7 + 0.34998873 * b8 + 0.22963242 * b9 + 0.8443374 * b10 + 0.17338149 * b11 + 0.38188893 * b12 + 0.035538863 * b13 + -0.009530333 * b14 + -0.1413745 * b15 + -0.37428695 * b16 + 0.4297955 * b17 + -0.42446023 * b18 + -0.1720484 * b19 + 0.18285705)\n",
            "c7 = gelu(-0.08413423 * b0 + 0.7906181 * b1 + 0.24246241 * b2 + 0.19824596 * b3 + -0.45838195 * b4 + 0.3099978 * b5 + 0.47551495 * b6 + -0.2861348 * b7 + -0.6209382 * b8 + 0.17842191 * b9 + -0.69987553 * b10 + 0.15423357 * b11 + 0.17053646 * b12 + 0.31107274 * b13 + 0.41987103 * b14 + -0.06325086 * b15 + 0.1846082 * b16 + -0.3007151 * b17 + 0.53732145 * b18 + -0.25735104 * b19 + 0.59173673)\n",
            "c8 = gelu(-0.2482175 * b0 + 0.11594867 * b1 + -0.10081291 * b2 + 0.19552158 * b3 + -0.055412836 * b4 + 0.28855258 * b5 + 0.062906556 * b6 + -0.41155204 * b7 + -0.1968551 * b8 + 0.2505332 * b9 + -0.70021933 * b10 + -0.03395082 * b11 + -0.2824743 * b12 + 0.026198389 * b13 + -0.12035566 * b14 + -0.18208249 * b15 + 0.13209113 * b16 + 0.046371587 * b17 + -0.102620505 * b18 + -0.71852803 * b19 + -0.16888078)\n",
            "c9 = gelu(0.43162456 * b0 + -0.401442 * b1 + -0.34933957 * b2 + -0.048516035 * b3 + 0.4253895 * b4 + 0.039043844 * b5 + -0.42921367 * b6 + 0.3982107 * b7 + 0.44773588 * b8 + 0.59665585 * b9 + 0.44596228 * b10 + -0.026024694 * b11 + -0.07002104 * b12 + -0.6586988 * b13 + -0.27691403 * b14 + 0.021571606 * b15 + 0.12211108 * b16 + 0.18691693 * b17 + -0.25498277 * b18 + -0.19558758 * b19 + 0.33882797)\n",
            "d0 = (-0.41179273 * c0 + -0.45727828 * c1 + -0.07229764 * c2 + -0.6592952 * c3 + -0.16412231 * c4 + 0.33391544 * c5 + -0.03720794 * c6 + 0.3493497 * c7 + 0.054965448 * c8 + 0.39475194 * c9 + 1.3103873)\n",
            "d1 = (0.8929979 * c0 + 0.93211 * c1 + -0.46469155 * c2 + 0.34781027 * c3 + -0.18148899 * c4 + -0.8621229 * c5 + -0.052579638 * c6 + -0.43498278 * c7 + 0.050455358 * c8 + 0.36354515 * c9 + -1.1741191)\n",
            "d2 = (0.6767376 * c0 + 0.5787045 * c1 + -0.3542132 * c2 + 0.680585 * c3 + -0.7692832 * c4 + 0.33976382 * c5 + -0.8225116 * c6 + 0.363964 * c7 + 0.8245137 * c8 + -0.43240827 * c9 + -0.9981931)\n"
          ]
        }
      ]
    },
    {
      "cell_type": "code",
      "source": [
        "num_of_loop = 20\n",
        "for i in range(num_of_loop):\n",
        "  phrase = \"a\" + str(num_of_loop-1-i) + \"= change[\" + str(i) + ']'\n",
        "  print(phrase)"
      ],
      "metadata": {
        "id": "B6qb8DAk8rjm",
        "outputId": "b07f3d7b-8043-46cd-fba5-6d791c86d41c",
        "colab": {
          "base_uri": "https://localhost:8080/"
        }
      },
      "execution_count": 60,
      "outputs": [
        {
          "output_type": "stream",
          "name": "stdout",
          "text": [
            "a19= change[0]\n",
            "a18= change[1]\n",
            "a17= change[2]\n",
            "a16= change[3]\n",
            "a15= change[4]\n",
            "a14= change[5]\n",
            "a13= change[6]\n",
            "a12= change[7]\n",
            "a11= change[8]\n",
            "a10= change[9]\n",
            "a9= change[10]\n",
            "a8= change[11]\n",
            "a7= change[12]\n",
            "a6= change[13]\n",
            "a5= change[14]\n",
            "a4= change[15]\n",
            "a3= change[16]\n",
            "a2= change[17]\n",
            "a1= change[18]\n",
            "a0= change[19]\n"
          ]
        }
      ]
    },
    {
      "cell_type": "code",
      "source": [
        "dev = ta.stdev(close-open,1000)\n",
        "change = (close-open)/dev\n",
        "months = month(time)/12\n",
        "days = dayofmonth(time)/31\n",
        "hours = hour(time)/24\n",
        "dayoftheweeks = dayofweek(time)/6\n",
        "\n",
        "a0 = change[4]\n",
        "a1 = change[3]\n",
        "a2 = change[2]\n",
        "a3 = change[1]\n",
        "a4 = change\n",
        "a5 = months\n",
        "a6 = days\n",
        "a7 = hours\n",
        "a8 = dayoftheweeks\n",
        "\n",
        "tanh(x) =>\n",
        "    output = (math.exp(x) - math.exp(-x)) / (math.exp(x) + math.exp(-x))\n",
        "//\n",
        "\n",
        "gelu(x) =>\n",
        "    cdf = 0.5 * (1 + tanh((math.sqrt(2 / math.pi) * (x + 0.044715 * math.pow(x, 3)))))\n",
        "    output = x * cdf\n",
        "    output\n"
      ],
      "metadata": {
        "id": "MI9p52O5aqs8"
      },
      "execution_count": null,
      "outputs": []
    }
  ],
  "metadata": {
    "colab": {
      "name": "Welcome To Colaboratory",
      "provenance": [],
      "include_colab_link": true
    },
    "kernelspec": {
      "display_name": "Python 3 (ipykernel)",
      "language": "python",
      "name": "python3"
    },
    "language_info": {
      "codemirror_mode": {
        "name": "ipython",
        "version": 3
      },
      "file_extension": ".py",
      "mimetype": "text/x-python",
      "name": "python",
      "nbconvert_exporter": "python",
      "pygments_lexer": "ipython3",
      "version": "3.8.10"
    }
  },
  "nbformat": 4,
  "nbformat_minor": 0
}