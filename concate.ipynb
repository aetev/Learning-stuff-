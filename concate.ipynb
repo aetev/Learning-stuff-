{
  "cells": [
    {
      "cell_type": "markdown",
      "metadata": {
        "id": "view-in-github",
        "colab_type": "text"
      },
      "source": [
        "<a href=\"https://colab.research.google.com/github/aetev/Learning-stuff-/blob/main/concate.ipynb\" target=\"_parent\"><img src=\"https://colab.research.google.com/assets/colab-badge.svg\" alt=\"Open In Colab\"/></a>"
      ]
    },
    {
      "cell_type": "code",
      "source": [
        "from google.colab import drive\n",
        "drive.mount('/content/drive')"
      ],
      "metadata": {
        "colab": {
          "base_uri": "https://localhost:8080/"
        },
        "id": "1EInKlGwvOOY",
        "outputId": "11fd2b7f-a9d6-4a18-dacb-37cd69e0a14b"
      },
      "execution_count": 1,
      "outputs": [
        {
          "output_type": "stream",
          "name": "stdout",
          "text": [
            "Drive already mounted at /content/drive; to attempt to forcibly remount, call drive.mount(\"/content/drive\", force_remount=True).\n"
          ]
        }
      ]
    },
    {
      "cell_type": "code",
      "source": [
        "import pandas as pd\n",
        "import tensorflow as tf\n",
        "import numpy as np\n",
        "import matplotlib.pyplot as plt\n",
        "import re\n",
        "from sklearn.feature_extraction.text import HashingVectorizer\n",
        "from tensorflow.keras.models import Sequential\n",
        "from tensorflow.keras.layers import Dense, Dropout, LSTM, BatchNormalization, GaussianNoise, Input\n",
        "from sklearn import preprocessing\n",
        "from sklearn.compose import ColumnTransformer\n",
        "from sklearn.preprocessing import PowerTransformer\n",
        "from sklearn.model_selection import GridSearchCV\n",
        "from tensorflow.keras.optimizers import Adam\n",
        "from tensorflow.keras.regularizers import L2\n",
        "from sklearn.model_selection import train_test_split"
      ],
      "metadata": {
        "id": "jKLw5ApAvVfk"
      },
      "execution_count": 2,
      "outputs": []
    },
    {
      "cell_type": "code",
      "source": [
        "df = pd.read_csv('/content/drive/MyDrive/Chase2387_Activity_20230531 (1).CSV')\n",
        "price = df.pop('Description')\n",
        "sum = np.cumsum(price)\n",
        "sum = sum.reset_index(drop=True)\n",
        "words = df.pop('Posting Date')\n",
        "date = df.pop('Details')\n",
        "plt.xlim(1300,1600)\n",
        "plt.plot(sum)\n",
        "print(sum)"
      ],
      "metadata": {
        "colab": {
          "base_uri": "https://localhost:8080/",
          "height": 638
        },
        "id": "30VhW0rDvYjW",
        "outputId": "bc0c9e4c-058f-4c57-b1ee-570d6b4a2b3a"
      },
      "execution_count": 3,
      "outputs": [
        {
          "output_type": "stream",
          "name": "stdout",
          "text": [
            "0         -8.32\n",
            "1        -20.73\n",
            "2        -22.23\n",
            "3        -57.71\n",
            "4        -59.21\n",
            "         ...   \n",
            "1499    1364.32\n",
            "1500    1358.71\n",
            "1501    1315.00\n",
            "1502    1313.60\n",
            "1503    1301.08\n",
            "Name: Description, Length: 1504, dtype: float64\n"
          ]
        },
        {
          "output_type": "display_data",
          "data": {
            "text/plain": [
              "<Figure size 640x480 with 1 Axes>"
            ],
            "image/png": "[encoded data removed]"
          },
          "metadata": {}
        }
      ]
    },
    {
      "cell_type": "code",
      "source": [
        "def remove_non_letters(input_array):\n",
        "    return [''.join(filter(str.isalpha, s)) for s in input_array]\n",
        "\n",
        "result = remove_non_letters(words)\n",
        "result = np.array(result)\n"
      ],
      "metadata": {
        "id": "8KQQv-g7pmrg"
      },
      "execution_count": 4,
      "outputs": []
    },
    {
      "cell_type": "code",
      "source": [
        "\n",
        "# Create a HashingVectorizer instance\n",
        "vectorizer = HashingVectorizer(n_features=10)\n",
        "\n",
        "# Fit and transform the array of words\n",
        "encoded_words = vectorizer.fit_transform(result).toarray()\n",
        "\n",
        "encoded_words = np.array(encoded_words)\n",
        "\n",
        "worddf = pd.DataFrame(encoded_words)\n",
        "\n",
        "print(worddf)"
      ],
      "metadata": {
        "colab": {
          "base_uri": "https://localhost:8080/"
        },
        "id": "uep2zM_JyW6q",
        "outputId": "f1997472-93bf-4fe8-f352-c546cc6beeb6"
      },
      "execution_count": 5,
      "outputs": [
        {
          "output_type": "stream",
          "name": "stdout",
          "text": [
            "        0    1    2    3    4    5    6    7    8    9\n",
            "0     0.0  0.0  0.0  0.0  0.0  0.0  0.0  0.0  1.0  0.0\n",
            "1     1.0  0.0  0.0  0.0  0.0  0.0  0.0  0.0  0.0  0.0\n",
            "2     0.0  1.0  0.0  0.0  0.0  0.0  0.0  0.0  0.0  0.0\n",
            "3     0.0  0.0  0.0  0.0  0.0 -1.0  0.0  0.0  0.0  0.0\n",
            "4     0.0  0.0  0.0  0.0  0.0  1.0  0.0  0.0  0.0  0.0\n",
            "...   ...  ...  ...  ...  ...  ...  ...  ...  ...  ...\n",
            "1499  0.0  0.0  0.0  0.0  0.0  0.0  0.0  0.0  0.0 -1.0\n",
            "1500  0.0  0.0  0.0  0.0  0.0  0.0  0.0  0.0  0.0 -1.0\n",
            "1501  0.0  0.0  0.0  0.0  0.0  0.0  0.0  0.0  1.0  0.0\n",
            "1502  0.0  0.0  0.0  0.0  0.0  1.0  0.0  0.0  0.0  0.0\n",
            "1503  0.0  0.0  0.0  0.0  0.0  0.0  0.0  0.0  0.0 -1.0\n",
            "\n",
            "[1504 rows x 10 columns]\n"
          ]
        }
      ]
    },
    {
      "cell_type": "code",
      "source": [
        "Date = pd.DataFrame()\n",
        "# Convert the date column to a datetime object\n",
        "date = pd.to_datetime(date)\n",
        "\n",
        "# Extract the month, day, and day of the week as a number\n",
        "Date['month'] = date.dt.month\n",
        "Date['day'] = date.dt.day\n",
        "Date['day_of_week'] = date.dt.day_of_week\n",
        "\n",
        "Date = Date.reset_index(drop=True)\n",
        "\n",
        "print(Date)"
      ],
      "metadata": {
        "colab": {
          "base_uri": "https://localhost:8080/"
        },
        "id": "jCeySE4B2ge5",
        "outputId": "5d468dd2-b69c-4ed6-aa08-b6acc22efa49"
      },
      "execution_count": 6,
      "outputs": [
        {
          "output_type": "stream",
          "name": "stdout",
          "text": [
            "      month  day  day_of_week\n",
            "0         5   31            2\n",
            "1         5   31            2\n",
            "2         5   31            2\n",
            "3         5   30            1\n",
            "4         5   30            1\n",
            "...     ...  ...          ...\n",
            "1499     12   14            1\n",
            "1500     12   14            1\n",
            "1501     12   13            0\n",
            "1502     12   13            0\n",
            "1503     12   13            0\n",
            "\n",
            "[1504 rows x 3 columns]\n"
          ]
        }
      ]
    },
    {
      "cell_type": "code",
      "source": [
        "pricedf = pd.DataFrame(price)\n",
        "pricedf = pricedf.rename(columns={'Description': 'Price'})\n",
        "sumdf = pd.DataFrame(sum)\n",
        "sumdf = sumdf.rename(columns={'Description': 'Sum'})\n",
        "lagged = sumdf.rename(columns={'Sum': 'Target'})\n",
        "sumdf = sumdf.reset_index(drop=True)\n",
        "lagged = lagged.reset_index(drop=True)\n",
        "pricedf = pricedf.reset_index(drop=True)\n",
        "\n",
        "input = pd.concat([Date,pricedf,sumdf,lagged,worddf],axis=1)\n",
        "\n",
        "input['Target'] = input['Target'].shift(periods=30)\n",
        "\n",
        "input = input.dropna()\n",
        "\n",
        "target = input.pop('Target')\n",
        "\n",
        "input = input.astype(float)\n",
        "input.columns = input.columns.astype(str)\n",
        "print(input)"
      ],
      "metadata": {
        "colab": {
          "base_uri": "https://localhost:8080/"
        },
        "id": "cBu0kfi94jWR",
        "outputId": "bb82db7b-91c0-4e3d-b2b5-59178ef12ac6"
      },
      "execution_count": 7,
      "outputs": [
        {
          "output_type": "stream",
          "name": "stdout",
          "text": [
            "      month   day  day_of_week   Price      Sum    0    1    2    3    4    5  \\\n",
            "30      5.0  18.0          3.0  778.47   442.12  0.0  0.0  0.0  0.0  0.0  0.0   \n",
            "31      5.0  17.0          2.0   -6.79   435.33  0.0  0.0  0.0  0.0  0.0  0.0   \n",
            "32      5.0  17.0          2.0  -12.19   423.14 -1.0  0.0  0.0  0.0  0.0  0.0   \n",
            "33      5.0  16.0          1.0   -1.50   421.64  0.0  0.0  0.0  0.0  0.0  1.0   \n",
            "34      5.0  16.0          1.0  -12.19   409.45 -1.0  0.0  0.0  0.0  0.0  0.0   \n",
            "...     ...   ...          ...     ...      ...  ...  ...  ...  ...  ...  ...   \n",
            "1499   12.0  14.0          1.0  -12.52  1364.32  0.0  0.0  0.0  0.0  0.0  0.0   \n",
            "1500   12.0  14.0          1.0   -5.61  1358.71  0.0  0.0  0.0  0.0  0.0  0.0   \n",
            "1501   12.0  13.0          0.0  -43.71  1315.00  0.0  0.0  0.0  0.0  0.0  0.0   \n",
            "1502   12.0  13.0          0.0   -1.40  1313.60  0.0  0.0  0.0  0.0  0.0  1.0   \n",
            "1503   12.0  13.0          0.0  -12.52  1301.08  0.0  0.0  0.0  0.0  0.0  0.0   \n",
            "\n",
            "        6    7    8    9  \n",
            "30    0.0 -1.0  0.0  0.0  \n",
            "31    1.0  0.0  0.0  0.0  \n",
            "32    0.0  0.0  0.0  0.0  \n",
            "33    0.0  0.0  0.0  0.0  \n",
            "34    0.0  0.0  0.0  0.0  \n",
            "...   ...  ...  ...  ...  \n",
            "1499  0.0  0.0  0.0 -1.0  \n",
            "1500  0.0  0.0  0.0 -1.0  \n",
            "1501  0.0  0.0  1.0  0.0  \n",
            "1502  0.0  0.0  0.0  0.0  \n",
            "1503  0.0  0.0  0.0 -1.0  \n",
            "\n",
            "[1474 rows x 15 columns]\n"
          ]
        }
      ]
    },
    {
      "cell_type": "code",
      "source": [
        "# Define the columns that need power transformation\n",
        "columns_to_transform = ['month', 'day','day_of_week','Price','Sum']\n",
        "\n",
        "# Create a ColumnTransformer with the PowerTransformer as a preprocessing step\n",
        "preprocessor = ColumnTransformer(\n",
        "    transformers=[\n",
        "        ('power_transform', PowerTransformer(method='yeo-johnson', standardize=True), columns_to_transform)\n",
        "    ])\n",
        "\n",
        "# Fit and transform the specific columns in the DataFrame\n",
        "preprocessed_data = preprocessor.fit_transform(input)\n",
        "\n",
        "# Create a new DataFrame with the preprocessed data\n",
        "preprocessed_df = pd.DataFrame(preprocessed_data, columns=columns_to_transform)"
      ],
      "metadata": {
        "id": "VAd5UTjB0mBk"
      },
      "execution_count": 8,
      "outputs": []
    },
    {
      "cell_type": "code",
      "source": [
        "def create_sliding_windows(dataframe, window_size):\n",
        "    windows = []\n",
        "    for win in dataframe.rolling(window_size, axis=0):\n",
        "        if win.shape[0] == window_size:\n",
        "            windows.append(win.values)\n",
        "    return windows\n",
        "\n",
        "window_size = 10\n",
        "windows = create_sliding_windows(input, window_size)\n",
        "windows = np.array(windows)\n",
        "#print(windows)"
      ],
      "metadata": {
        "id": "CPT5eRawsYpn"
      },
      "execution_count": 9,
      "outputs": []
    },
    {
      "cell_type": "code",
      "source": [
        "targetlist = target.tolist()\n",
        "targetlist = targetlist[:len(windows)]\n",
        "targetlist = np.array(targetlist)"
      ],
      "metadata": {
        "id": "x9pOvKfxt1Lo"
      },
      "execution_count": 10,
      "outputs": []
    },
    {
      "cell_type": "code",
      "source": [
        "print(windows.shape)\n",
        "print(windows)"
      ],
      "metadata": {
        "colab": {
          "base_uri": "https://localhost:8080/"
        },
        "id": "XQtSqFCc2iLh",
        "outputId": "183fb54c-7af4-40ed-ef5d-6a28a87b7130"
      },
      "execution_count": 11,
      "outputs": [
        {
          "output_type": "stream",
          "name": "stdout",
          "text": [
            "(1465, 10, 15)\n",
            "[[[ 5. 18.  3. ... -1.  0.  0.]\n",
            "  [ 5. 17.  2. ...  0.  0.  0.]\n",
            "  [ 5. 17.  2. ...  0.  0.  0.]\n",
            "  ...\n",
            "  [ 5. 15.  0. ...  0.  0.  0.]\n",
            "  [ 5. 15.  0. ...  0.  0. -1.]\n",
            "  [ 5. 15.  0. ...  0.  0.  0.]]\n",
            "\n",
            " [[ 5. 17.  2. ...  0.  0.  0.]\n",
            "  [ 5. 17.  2. ...  0.  0.  0.]\n",
            "  [ 5. 16.  1. ...  0.  0.  0.]\n",
            "  ...\n",
            "  [ 5. 15.  0. ...  0.  0. -1.]\n",
            "  [ 5. 15.  0. ...  0.  0.  0.]\n",
            "  [ 5. 15.  0. ...  0.  0.  0.]]\n",
            "\n",
            " [[ 5. 17.  2. ...  0.  0.  0.]\n",
            "  [ 5. 16.  1. ...  0.  0.  0.]\n",
            "  [ 5. 16.  1. ...  0.  0.  0.]\n",
            "  ...\n",
            "  [ 5. 15.  0. ...  0.  0.  0.]\n",
            "  [ 5. 15.  0. ...  0.  0.  0.]\n",
            "  [ 5. 15.  0. ...  0.  0.  0.]]\n",
            "\n",
            " ...\n",
            "\n",
            " [[12. 17.  4. ... -1.  0.  0.]\n",
            "  [12. 17.  4. ... -1.  0.  0.]\n",
            "  [12. 16.  3. ...  0.  0.  0.]\n",
            "  ...\n",
            "  [12. 14.  1. ...  0.  0. -1.]\n",
            "  [12. 14.  1. ...  0.  0. -1.]\n",
            "  [12. 13.  0. ...  0.  1.  0.]]\n",
            "\n",
            " [[12. 17.  4. ... -1.  0.  0.]\n",
            "  [12. 16.  3. ...  0.  0.  0.]\n",
            "  [12. 16.  3. ...  0.  0.  0.]\n",
            "  ...\n",
            "  [12. 14.  1. ...  0.  0. -1.]\n",
            "  [12. 13.  0. ...  0.  1.  0.]\n",
            "  [12. 13.  0. ...  0.  0.  0.]]\n",
            "\n",
            " [[12. 16.  3. ...  0.  0.  0.]\n",
            "  [12. 16.  3. ...  0.  0.  0.]\n",
            "  [12. 15.  2. ...  0.  0.  0.]\n",
            "  ...\n",
            "  [12. 13.  0. ...  0.  1.  0.]\n",
            "  [12. 13.  0. ...  0.  0.  0.]\n",
            "  [12. 13.  0. ...  0.  0. -1.]]]\n"
          ]
        }
      ]
    },
    {
      "cell_type": "code",
      "source": [
        "X_train, X_validation, y_train, y_validation = train_test_split(\n",
        "    windows, targetlist, test_size=0.33, random_state=4,shuffle=False)"
      ],
      "metadata": {
        "id": "Iq8WQZ0YkYjY"
      },
      "execution_count": 12,
      "outputs": []
    },
    {
      "cell_type": "code",
      "source": [
        "dropout = tf.keras.layers.Dropout(.8)\n",
        "batchnorm = tf.keras.layers.BatchNormalization()\n",
        "# Define the input shapes\n",
        "first_part_shape = (10, 5)\n",
        "second_part_shape = (10, 10)\n",
        "\n",
        "# Create the input layers\n",
        "inputs_first_part = tf.keras.Input(shape=first_part_shape)\n",
        "inputs_second_part = tf.keras.Input(shape=second_part_shape)\n",
        "\n",
        "first_half = tf.keras.layers.LSTM(20,return_sequences=True)(inputs_first_part)\n",
        "second_half = tf.keras.layers.LSTM(20,return_sequences=True)(inputs_second_part)\n",
        "\n",
        "batchnorm1 = tf.keras.layers.BatchNormalization()(first_half)\n",
        "batchnorm2 = tf.keras.layers.BatchNormalization()(second_half)\n",
        "drop1 = tf.keras.layers.Dropout(.8)(batchnorm1)\n",
        "drop2 = tf.keras.layers.Dropout(.2)(batchnorm2)\n",
        "\n",
        "first_half2 = tf.keras.layers.LSTM(10,return_sequences=False)(drop1)\n",
        "second_half2 = tf.keras.layers.LSTM(10,return_sequences=False)(drop2)\n",
        "\n",
        "batchnorm3 = tf.keras.layers.BatchNormalization()(first_half2)\n",
        "batchnorm4 = tf.keras.layers.BatchNormalization()(second_half2)\n",
        "drop3 = dropout(batchnorm3)\n",
        "drop4 = dropout(batchnorm4)\n",
        "\n",
        "concatenated = tf.keras.layers.Concatenate()([drop3, drop4])\n",
        "\n",
        "hidden_layer = tf.keras.layers.Dense(20, activation=tf.nn.relu)(concatenated)\n",
        "batchnorm3 = tf.keras.layers.BatchNormalization()(hidden_layer)\n",
        "drop5 = dropout(batchnorm3)\n",
        "output_layer = tf.keras.layers.Dense(1)(drop5)\n",
        "\n",
        "model = tf.keras.Model(inputs=[inputs_first_part, inputs_second_part], outputs=output_layer)\n",
        "\n",
        "# Assuming 'data' has a shape of (1465, 10, 15)\n",
        "first_part_data = X_train[:, :, :5]\n",
        "second_part_data = X_train[:, :, 5:]\n",
        "\n",
        "first_part_val = X_validation[:, :, :5]\n",
        "second_part_val = X_validation[:, :, 5:]\n",
        "\n",
        "model.compile(loss=\"mse\", optimizer=\"adam\", metrics=[\"mae\"])\n"
      ],
      "metadata": {
        "id": "uJIVVSbIbDzi"
      },
      "execution_count": 36,
      "outputs": []
    },
    {
      "cell_type": "code",
      "source": [
        "# Train the model\n",
        "history = model.fit([first_part_data, second_part_data], y_train, epochs=1000, batch_size=32,validation_data=([first_part_val,second_part_val],y_validation))\n",
        "plt.plot(history.history[\"loss\"], label=\"Training loss\")\n",
        "plt.plot(history.history[\"val_loss\"], label=\"val_loss\")\n",
        "plt.xlabel(\"Epoch\")\n",
        "plt.ylabel(\"Loss\")\n",
        "plt.legend()"
      ],
      "metadata": {
        "id": "cuGYRNdefLRm",
        "outputId": "81cddb84-638b-45d8-f1bf-1d22811d2984",
        "colab": {
          "base_uri": "https://localhost:8080/"
        }
      },
      "execution_count": null,
      "outputs": [
        {
          "output_type": "stream",
          "name": "stdout",
          "text": [
            "Epoch 1/1000\n",
            "31/31 [==============================] - 13s 82ms/step - loss: 1275099.1250 - mae: 1004.0607 - val_loss: 1587061.1250 - val_mae: 1099.6327\n",
            "Epoch 2/1000\n",
            "31/31 [==============================] - 1s 23ms/step - loss: 1274439.1250 - mae: 1003.7422 - val_loss: 1586830.0000 - val_mae: 1099.5334\n",
            "Epoch 3/1000\n",
            "31/31 [==============================] - 1s 22ms/step - loss: 1273562.3750 - mae: 1003.4395 - val_loss: 1586444.2500 - val_mae: 1099.3676\n",
            "Epoch 4/1000\n",
            "31/31 [==============================] - 1s 24ms/step - loss: 1273576.1250 - mae: 1003.3356 - val_loss: 1585950.7500 - val_mae: 1099.1555\n",
            "Epoch 5/1000\n",
            "31/31 [==============================] - 1s 27ms/step - loss: 1272713.0000 - mae: 1002.8695 - val_loss: 1585457.6250 - val_mae: 1098.9419\n",
            "Epoch 6/1000\n",
            "31/31 [==============================] - 1s 23ms/step - loss: 1272430.6250 - mae: 1002.9072 - val_loss: 1585018.0000 - val_mae: 1098.7543\n",
            "Epoch 7/1000\n",
            "31/31 [==============================] - 1s 40ms/step - loss: 1271562.6250 - mae: 1002.4902 - val_loss: 1584496.1250 - val_mae: 1098.5282\n",
            "Epoch 8/1000\n",
            "31/31 [==============================] - 1s 41ms/step - loss: 1271029.7500 - mae: 1002.1504 - val_loss: 1583872.5000 - val_mae: 1098.2620\n",
            "Epoch 9/1000\n",
            "31/31 [==============================] - 1s 40ms/step - loss: 1270077.1250 - mae: 1001.7905 - val_loss: 1583166.7500 - val_mae: 1097.9619\n",
            "Epoch 10/1000\n",
            "31/31 [==============================] - 1s 38ms/step - loss: 1269346.7500 - mae: 1001.5861 - val_loss: 1582489.1250 - val_mae: 1097.6832\n",
            "Epoch 11/1000\n",
            "31/31 [==============================] - 1s 22ms/step - loss: 1268715.5000 - mae: 1001.0944 - val_loss: 1581705.0000 - val_mae: 1097.3441\n",
            "Epoch 12/1000\n",
            "31/31 [==============================] - 1s 25ms/step - loss: 1267402.1250 - mae: 1000.6746 - val_loss: 1580791.0000 - val_mae: 1096.9384\n",
            "Epoch 13/1000\n",
            "31/31 [==============================] - 1s 24ms/step - loss: 1266146.1250 - mae: 1000.0453 - val_loss: 1579615.0000 - val_mae: 1096.4287\n",
            "Epoch 14/1000\n",
            "31/31 [==============================] - 1s 22ms/step - loss: 1265412.8750 - mae: 999.6600 - val_loss: 1578670.0000 - val_mae: 1096.0142\n",
            "Epoch 15/1000\n",
            "31/31 [==============================] - 1s 24ms/step - loss: 1263063.1250 - mae: 998.6118 - val_loss: 1577298.1250 - val_mae: 1095.4570\n",
            "Epoch 16/1000\n",
            "31/31 [==============================] - 1s 23ms/step - loss: 1262187.0000 - mae: 998.2687 - val_loss: 1575961.2500 - val_mae: 1094.8822\n",
            "Epoch 17/1000\n",
            "31/31 [==============================] - 1s 22ms/step - loss: 1261407.8750 - mae: 997.7220 - val_loss: 1573998.5000 - val_mae: 1094.0763\n",
            "Epoch 18/1000\n",
            "31/31 [==============================] - 1s 23ms/step - loss: 1259526.1250 - mae: 996.9837 - val_loss: 1572404.2500 - val_mae: 1093.3727\n",
            "Epoch 19/1000\n",
            "31/31 [==============================] - 1s 22ms/step - loss: 1257828.0000 - mae: 996.1548 - val_loss: 1570381.1250 - val_mae: 1092.5261\n",
            "Epoch 20/1000\n",
            "31/31 [==============================] - 1s 23ms/step - loss: 1254480.2500 - mae: 994.7784 - val_loss: 1568843.6250 - val_mae: 1091.8385\n",
            "Epoch 21/1000\n",
            "31/31 [==============================] - 1s 22ms/step - loss: 1253198.1250 - mae: 994.1411 - val_loss: 1566995.8750 - val_mae: 1091.0316\n",
            "Epoch 22/1000\n",
            "31/31 [==============================] - 1s 22ms/step - loss: 1251368.8750 - mae: 993.1385 - val_loss: 1565112.6250 - val_mae: 1090.1913\n",
            "Epoch 23/1000\n",
            "31/31 [==============================] - 1s 22ms/step - loss: 1248180.2500 - mae: 991.9522 - val_loss: 1562443.0000 - val_mae: 1089.0604\n",
            "Epoch 24/1000\n",
            "31/31 [==============================] - 1s 29ms/step - loss: 1246118.7500 - mae: 991.0126 - val_loss: 1559991.6250 - val_mae: 1088.0137\n",
            "Epoch 25/1000\n",
            "31/31 [==============================] - 1s 42ms/step - loss: 1241444.8750 - mae: 989.0343 - val_loss: 1558308.7500 - val_mae: 1087.2867\n",
            "Epoch 26/1000\n",
            "31/31 [==============================] - 1s 41ms/step - loss: 1239861.5000 - mae: 987.8725 - val_loss: 1555489.8750 - val_mae: 1086.0082\n",
            "Epoch 27/1000\n",
            "31/31 [==============================] - 1s 41ms/step - loss: 1236523.0000 - mae: 986.3607 - val_loss: 1549635.7500 - val_mae: 1083.4934\n",
            "Epoch 28/1000\n",
            "31/31 [==============================] - 1s 27ms/step - loss: 1232975.3750 - mae: 984.6313 - val_loss: 1546421.1250 - val_mae: 1082.1251\n",
            "Epoch 29/1000\n",
            "31/31 [==============================] - 1s 24ms/step - loss: 1231005.7500 - mae: 984.0771 - val_loss: 1544817.5000 - val_mae: 1081.3928\n",
            "Epoch 30/1000\n",
            "31/31 [==============================] - 1s 22ms/step - loss: 1225344.3750 - mae: 981.5856 - val_loss: 1541123.2500 - val_mae: 1079.7714\n",
            "Epoch 31/1000\n",
            "31/31 [==============================] - 1s 26ms/step - loss: 1222970.6250 - mae: 980.4623 - val_loss: 1537139.5000 - val_mae: 1078.0430\n",
            "Epoch 32/1000\n",
            "31/31 [==============================] - 1s 22ms/step - loss: 1219378.1250 - mae: 978.8294 - val_loss: 1535336.8750 - val_mae: 1077.2360\n",
            "Epoch 33/1000\n",
            "31/31 [==============================] - 1s 23ms/step - loss: 1213079.0000 - mae: 976.0988 - val_loss: 1530689.0000 - val_mae: 1075.1992\n",
            "Epoch 34/1000\n",
            "31/31 [==============================] - 1s 22ms/step - loss: 1210720.0000 - mae: 974.5256 - val_loss: 1524774.1250 - val_mae: 1072.6851\n",
            "Epoch 35/1000\n",
            "31/31 [==============================] - 1s 25ms/step - loss: 1207989.6250 - mae: 973.2814 - val_loss: 1521125.8750 - val_mae: 1071.0619\n",
            "Epoch 36/1000\n",
            "31/31 [==============================] - 1s 24ms/step - loss: 1203328.5000 - mae: 971.7702 - val_loss: 1520138.1250 - val_mae: 1070.5880\n",
            "Epoch 37/1000\n",
            "31/31 [==============================] - 1s 24ms/step - loss: 1196336.8750 - mae: 967.9178 - val_loss: 1518141.6250 - val_mae: 1069.6240\n",
            "Epoch 38/1000\n",
            "31/31 [==============================] - 1s 22ms/step - loss: 1192651.3750 - mae: 967.4070 - val_loss: 1514754.0000 - val_mae: 1068.0485\n",
            "Epoch 39/1000\n",
            "31/31 [==============================] - 1s 25ms/step - loss: 1191606.1250 - mae: 965.0862 - val_loss: 1511617.7500 - val_mae: 1066.6642\n",
            "Epoch 40/1000\n",
            "31/31 [==============================] - 1s 25ms/step - loss: 1181711.8750 - mae: 961.3431 - val_loss: 1506732.2500 - val_mae: 1064.6516\n",
            "Epoch 41/1000\n",
            "31/31 [==============================] - 1s 29ms/step - loss: 1178814.2500 - mae: 960.8414 - val_loss: 1501825.5000 - val_mae: 1062.4989\n",
            "Epoch 42/1000\n",
            "31/31 [==============================] - 1s 40ms/step - loss: 1174727.3750 - mae: 958.4691 - val_loss: 1494107.7500 - val_mae: 1059.1525\n",
            "Epoch 43/1000\n",
            "31/31 [==============================] - 1s 40ms/step - loss: 1171657.5000 - mae: 956.0382 - val_loss: 1487481.2500 - val_mae: 1056.2434\n",
            "Epoch 44/1000\n",
            "31/31 [==============================] - 1s 41ms/step - loss: 1161392.3750 - mae: 952.3198 - val_loss: 1482926.5000 - val_mae: 1054.4265\n",
            "Epoch 45/1000\n",
            "31/31 [==============================] - 1s 29ms/step - loss: 1162549.6250 - mae: 952.2070 - val_loss: 1474657.0000 - val_mae: 1050.9478\n",
            "Epoch 46/1000\n",
            "31/31 [==============================] - 1s 24ms/step - loss: 1155220.2500 - mae: 948.6309 - val_loss: 1472558.0000 - val_mae: 1049.8472\n",
            "Epoch 47/1000\n",
            "31/31 [==============================] - 1s 22ms/step - loss: 1148324.7500 - mae: 945.3522 - val_loss: 1471830.7500 - val_mae: 1049.3558\n",
            "Epoch 48/1000\n",
            "31/31 [==============================] - 1s 23ms/step - loss: 1141441.0000 - mae: 943.2131 - val_loss: 1462420.0000 - val_mae: 1045.1948\n",
            "Epoch 49/1000\n",
            "31/31 [==============================] - 1s 24ms/step - loss: 1133940.3750 - mae: 939.6028 - val_loss: 1458933.1250 - val_mae: 1043.6538\n",
            "Epoch 50/1000\n",
            "31/31 [==============================] - 1s 23ms/step - loss: 1128629.8750 - mae: 936.4039 - val_loss: 1454572.7500 - val_mae: 1041.6960\n",
            "Epoch 51/1000\n",
            "31/31 [==============================] - 1s 25ms/step - loss: 1123500.5000 - mae: 935.2288 - val_loss: 1446688.1250 - val_mae: 1038.2358\n",
            "Epoch 52/1000\n",
            "31/31 [==============================] - 1s 27ms/step - loss: 1118164.3750 - mae: 931.4814 - val_loss: 1440809.8750 - val_mae: 1035.7999\n",
            "Epoch 53/1000\n",
            "31/31 [==============================] - 1s 23ms/step - loss: 1114091.7500 - mae: 929.2424 - val_loss: 1434194.6250 - val_mae: 1032.5297\n",
            "Epoch 54/1000\n",
            "31/31 [==============================] - 1s 25ms/step - loss: 1101592.2500 - mae: 923.9940 - val_loss: 1435911.8750 - val_mae: 1033.3259\n",
            "Epoch 55/1000\n",
            "31/31 [==============================] - 1s 25ms/step - loss: 1097866.1250 - mae: 923.2609 - val_loss: 1428249.3750 - val_mae: 1029.8994\n",
            "Epoch 56/1000\n",
            "31/31 [==============================] - 1s 23ms/step - loss: 1092188.5000 - mae: 919.6151 - val_loss: 1420680.5000 - val_mae: 1026.6763\n",
            "Epoch 57/1000\n",
            "31/31 [==============================] - 1s 23ms/step - loss: 1086803.6250 - mae: 916.2627 - val_loss: 1422854.2500 - val_mae: 1027.9465\n",
            "Epoch 58/1000\n",
            "31/31 [==============================] - 1s 27ms/step - loss: 1082514.7500 - mae: 915.4618 - val_loss: 1403586.1250 - val_mae: 1019.5783\n",
            "Epoch 59/1000\n",
            "31/31 [==============================] - 1s 41ms/step - loss: 1069358.5000 - mae: 908.6253 - val_loss: 1393350.0000 - val_mae: 1015.1459\n",
            "Epoch 60/1000\n",
            "31/31 [==============================] - 1s 47ms/step - loss: 1062654.1250 - mae: 905.2429 - val_loss: 1391043.2500 - val_mae: 1013.8410\n",
            "Epoch 61/1000\n",
            "31/31 [==============================] - 1s 41ms/step - loss: 1053693.7500 - mae: 903.5272 - val_loss: 1385685.6250 - val_mae: 1011.2806\n",
            "Epoch 62/1000\n",
            "31/31 [==============================] - 1s 29ms/step - loss: 1049324.8750 - mae: 899.0718 - val_loss: 1364469.8750 - val_mae: 1002.6448\n",
            "Epoch 63/1000\n",
            "31/31 [==============================] - 1s 25ms/step - loss: 1037823.0000 - mae: 893.7964 - val_loss: 1371710.7500 - val_mae: 1005.6785\n",
            "Epoch 64/1000\n",
            "31/31 [==============================] - 1s 23ms/step - loss: 1037189.4375 - mae: 893.0950 - val_loss: 1372490.1250 - val_mae: 1005.7533\n",
            "Epoch 65/1000\n",
            "31/31 [==============================] - 1s 23ms/step - loss: 1022634.8125 - mae: 888.1077 - val_loss: 1366568.3750 - val_mae: 1003.3238\n",
            "Epoch 66/1000\n",
            "31/31 [==============================] - 1s 24ms/step - loss: 1022038.5625 - mae: 887.8090 - val_loss: 1366045.2500 - val_mae: 1003.2659\n",
            "Epoch 67/1000\n",
            "31/31 [==============================] - 1s 25ms/step - loss: 1020324.0625 - mae: 884.8852 - val_loss: 1361242.6250 - val_mae: 1000.9854\n",
            "Epoch 68/1000\n",
            "31/31 [==============================] - 1s 25ms/step - loss: 1006654.0000 - mae: 878.5654 - val_loss: 1344836.8750 - val_mae: 992.8712\n",
            "Epoch 69/1000\n",
            "31/31 [==============================] - 1s 23ms/step - loss: 995864.0000 - mae: 876.4656 - val_loss: 1345086.1250 - val_mae: 993.3162\n",
            "Epoch 70/1000\n",
            "31/31 [==============================] - 1s 25ms/step - loss: 999728.7500 - mae: 874.6998 - val_loss: 1335737.0000 - val_mae: 988.8004\n",
            "Epoch 71/1000\n",
            "31/31 [==============================] - 1s 22ms/step - loss: 983287.0000 - mae: 867.8420 - val_loss: 1326941.2500 - val_mae: 985.1873\n",
            "Epoch 72/1000\n",
            "31/31 [==============================] - 1s 22ms/step - loss: 980838.0625 - mae: 867.2208 - val_loss: 1311905.8750 - val_mae: 978.0214\n",
            "Epoch 73/1000\n",
            "31/31 [==============================] - 1s 23ms/step - loss: 980951.8125 - mae: 864.4991 - val_loss: 1310662.3750 - val_mae: 977.7521\n",
            "Epoch 74/1000\n",
            "31/31 [==============================] - 1s 30ms/step - loss: 963786.6875 - mae: 857.3732 - val_loss: 1317802.1250 - val_mae: 981.0580\n",
            "Epoch 75/1000\n",
            "31/31 [==============================] - 3s 90ms/step - loss: 951170.6875 - mae: 851.6424 - val_loss: 1300207.8750 - val_mae: 972.7103\n",
            "Epoch 76/1000\n",
            "31/31 [==============================] - 1s 40ms/step - loss: 955804.8125 - mae: 852.0819 - val_loss: 1292279.1250 - val_mae: 969.0894\n",
            "Epoch 77/1000\n",
            "31/31 [==============================] - 1s 41ms/step - loss: 942347.5625 - mae: 846.6769 - val_loss: 1268634.5000 - val_mae: 957.6512\n",
            "Epoch 78/1000\n",
            "31/31 [==============================] - 1s 25ms/step - loss: 918293.1250 - mae: 834.5063 - val_loss: 1231985.5000 - val_mae: 942.3085\n",
            "Epoch 79/1000\n",
            "31/31 [==============================] - 1s 25ms/step - loss: 921450.5000 - mae: 837.1939 - val_loss: 1222086.0000 - val_mae: 937.0291\n",
            "Epoch 80/1000\n",
            "31/31 [==============================] - 1s 25ms/step - loss: 926168.0625 - mae: 836.9447 - val_loss: 1225373.7500 - val_mae: 938.3714\n",
            "Epoch 81/1000\n",
            "31/31 [==============================] - 1s 26ms/step - loss: 904368.8750 - mae: 828.1903 - val_loss: 1232213.1250 - val_mae: 940.4172\n",
            "Epoch 82/1000\n",
            "31/31 [==============================] - 1s 23ms/step - loss: 910268.0625 - mae: 827.3370 - val_loss: 1226874.5000 - val_mae: 936.9709\n",
            "Epoch 83/1000\n",
            "31/31 [==============================] - 1s 24ms/step - loss: 907678.0000 - mae: 827.3257 - val_loss: 1240085.6250 - val_mae: 944.5132\n",
            "Epoch 84/1000\n",
            "31/31 [==============================] - 1s 36ms/step - loss: 888508.5000 - mae: 817.9433 - val_loss: 1230084.3750 - val_mae: 940.1319\n",
            "Epoch 85/1000\n",
            "31/31 [==============================] - 2s 50ms/step - loss: 876851.5625 - mae: 815.6043 - val_loss: 1206728.2500 - val_mae: 930.4258\n",
            "Epoch 86/1000\n",
            "31/31 [==============================] - 2s 63ms/step - loss: 873756.1250 - mae: 813.3177 - val_loss: 1206708.2500 - val_mae: 930.4672\n",
            "Epoch 87/1000\n",
            "31/31 [==============================] - 1s 25ms/step - loss: 877954.3125 - mae: 810.3932 - val_loss: 1197983.7500 - val_mae: 926.4048\n",
            "Epoch 88/1000\n",
            "31/31 [==============================] - 1s 41ms/step - loss: 866923.4375 - mae: 805.7095 - val_loss: 1209852.7500 - val_mae: 930.6169\n",
            "Epoch 89/1000\n",
            "31/31 [==============================] - 1s 43ms/step - loss: 854027.3750 - mae: 800.4747 - val_loss: 1219881.1250 - val_mae: 934.5160\n",
            "Epoch 90/1000\n",
            "31/31 [==============================] - 3s 86ms/step - loss: 843388.6250 - mae: 797.6396 - val_loss: 1222260.5000 - val_mae: 934.9879\n",
            "Epoch 91/1000\n",
            "31/31 [==============================] - 2s 56ms/step - loss: 834676.4375 - mae: 793.1190 - val_loss: 1166097.0000 - val_mae: 911.2812\n",
            "Epoch 92/1000\n",
            "31/31 [==============================] - 2s 53ms/step - loss: 834120.3750 - mae: 786.9627 - val_loss: 1158141.7500 - val_mae: 907.3469\n",
            "Epoch 93/1000\n",
            "31/31 [==============================] - 1s 28ms/step - loss: 820032.0625 - mae: 783.9305 - val_loss: 1160725.1250 - val_mae: 907.6104\n",
            "Epoch 94/1000\n",
            "31/31 [==============================] - 1s 24ms/step - loss: 810718.5625 - mae: 775.3201 - val_loss: 1158528.0000 - val_mae: 906.5827\n",
            "Epoch 95/1000\n",
            "31/31 [==============================] - 1s 22ms/step - loss: 815712.3750 - mae: 779.8633 - val_loss: 1181662.2500 - val_mae: 917.1399\n",
            "Epoch 96/1000\n",
            "31/31 [==============================] - 1s 22ms/step - loss: 811937.5625 - mae: 775.0646 - val_loss: 1170368.0000 - val_mae: 913.0398\n",
            "Epoch 97/1000\n",
            "31/31 [==============================] - 1s 25ms/step - loss: 781993.5625 - mae: 765.1572 - val_loss: 1138838.0000 - val_mae: 897.8994\n",
            "Epoch 98/1000\n",
            "31/31 [==============================] - 1s 24ms/step - loss: 794029.1250 - mae: 768.0233 - val_loss: 1174597.0000 - val_mae: 915.2995\n",
            "Epoch 99/1000\n",
            "31/31 [==============================] - 1s 25ms/step - loss: 774316.1875 - mae: 758.5685 - val_loss: 1164880.0000 - val_mae: 910.8580\n",
            "Epoch 100/1000\n",
            "31/31 [==============================] - 1s 23ms/step - loss: 781820.9375 - mae: 758.1827 - val_loss: 1131569.6250 - val_mae: 896.9462\n",
            "Epoch 101/1000\n",
            "31/31 [==============================] - 1s 36ms/step - loss: 776374.6250 - mae: 754.7723 - val_loss: 1126716.2500 - val_mae: 894.2507\n",
            "Epoch 102/1000\n",
            "31/31 [==============================] - 1s 41ms/step - loss: 769283.6875 - mae: 749.0339 - val_loss: 1127232.7500 - val_mae: 894.5523\n",
            "Epoch 103/1000\n",
            "31/31 [==============================] - 1s 42ms/step - loss: 747130.4375 - mae: 740.5122 - val_loss: 1110434.3750 - val_mae: 885.1263\n",
            "Epoch 104/1000\n",
            "31/31 [==============================] - 1s 41ms/step - loss: 739696.6875 - mae: 736.4952 - val_loss: 1109736.5000 - val_mae: 885.0469\n",
            "Epoch 105/1000\n",
            "31/31 [==============================] - 1s 23ms/step - loss: 731281.1875 - mae: 730.5564 - val_loss: 1108065.2500 - val_mae: 883.5186\n",
            "Epoch 106/1000\n",
            "31/31 [==============================] - 1s 24ms/step - loss: 708218.2500 - mae: 719.0994 - val_loss: 1102857.7500 - val_mae: 881.3535\n",
            "Epoch 107/1000\n",
            "31/31 [==============================] - 1s 23ms/step - loss: 720264.4375 - mae: 730.9415 - val_loss: 1066021.0000 - val_mae: 862.7453\n",
            "Epoch 108/1000\n",
            "31/31 [==============================] - 1s 23ms/step - loss: 721678.1875 - mae: 726.8884 - val_loss: 1032667.1250 - val_mae: 848.3951\n",
            "Epoch 109/1000\n",
            "31/31 [==============================] - 1s 25ms/step - loss: 720273.8750 - mae: 723.3182 - val_loss: 1031825.4375 - val_mae: 849.1819\n",
            "Epoch 110/1000\n",
            "31/31 [==============================] - 1s 22ms/step - loss: 702487.7500 - mae: 714.7675 - val_loss: 1056246.1250 - val_mae: 858.3807\n",
            "Epoch 111/1000\n",
            "31/31 [==============================] - 1s 25ms/step - loss: 705287.1875 - mae: 711.2803 - val_loss: 1046553.6250 - val_mae: 856.5124\n",
            "Epoch 112/1000\n",
            "31/31 [==============================] - 1s 26ms/step - loss: 692659.6875 - mae: 709.7585 - val_loss: 1042108.1250 - val_mae: 853.6249\n",
            "Epoch 113/1000\n",
            "31/31 [==============================] - 1s 23ms/step - loss: 663914.8125 - mae: 694.4071 - val_loss: 1022189.8750 - val_mae: 844.3495\n",
            "Epoch 114/1000\n",
            "31/31 [==============================] - 1s 23ms/step - loss: 674610.8750 - mae: 693.1326 - val_loss: 1007081.6250 - val_mae: 835.7916\n",
            "Epoch 115/1000\n",
            "31/31 [==============================] - 1s 23ms/step - loss: 662149.6875 - mae: 686.0949 - val_loss: 1001425.0000 - val_mae: 833.8971\n",
            "Epoch 116/1000\n",
            "31/31 [==============================] - 1s 26ms/step - loss: 655479.1875 - mae: 689.7604 - val_loss: 1006323.2500 - val_mae: 834.7897\n",
            "Epoch 117/1000\n",
            "31/31 [==============================] - 1s 25ms/step - loss: 669931.4375 - mae: 695.2589 - val_loss: 1022713.8750 - val_mae: 842.5804\n",
            "Epoch 118/1000\n",
            "31/31 [==============================] - 1s 32ms/step - loss: 643650.4375 - mae: 683.2465 - val_loss: 1004820.6875 - val_mae: 834.1238\n",
            "Epoch 119/1000\n",
            "31/31 [==============================] - 1s 42ms/step - loss: 626041.3750 - mae: 665.1591 - val_loss: 1027697.9375 - val_mae: 844.1142\n",
            "Epoch 120/1000\n",
            "31/31 [==============================] - 1s 40ms/step - loss: 633082.1875 - mae: 668.5174 - val_loss: 976675.3125 - val_mae: 821.9236\n",
            "Epoch 121/1000\n",
            "31/31 [==============================] - 1s 41ms/step - loss: 623184.3750 - mae: 669.0137 - val_loss: 976553.0000 - val_mae: 822.0115\n",
            "Epoch 122/1000\n",
            "31/31 [==============================] - 1s 25ms/step - loss: 631025.9375 - mae: 668.4028 - val_loss: 942122.1250 - val_mae: 805.6443\n",
            "Epoch 123/1000\n",
            "31/31 [==============================] - 1s 24ms/step - loss: 600114.5000 - mae: 656.9702 - val_loss: 957468.8750 - val_mae: 811.8572\n",
            "Epoch 124/1000\n",
            "31/31 [==============================] - 1s 23ms/step - loss: 606319.5000 - mae: 660.1782 - val_loss: 915566.1250 - val_mae: 790.4274\n",
            "Epoch 125/1000\n",
            "31/31 [==============================] - 1s 23ms/step - loss: 606149.2500 - mae: 655.0852 - val_loss: 945476.4375 - val_mae: 807.4438\n",
            "Epoch 126/1000\n",
            "31/31 [==============================] - 1s 25ms/step - loss: 580044.3125 - mae: 641.0262 - val_loss: 919581.1875 - val_mae: 793.6348\n",
            "Epoch 127/1000\n",
            "31/31 [==============================] - 1s 26ms/step - loss: 565337.3750 - mae: 629.5962 - val_loss: 946287.3750 - val_mae: 806.5284\n",
            "Epoch 128/1000\n",
            "31/31 [==============================] - 1s 25ms/step - loss: 569325.3125 - mae: 630.7984 - val_loss: 889362.6250 - val_mae: 777.4570\n",
            "Epoch 129/1000\n",
            "31/31 [==============================] - 1s 23ms/step - loss: 581586.3125 - mae: 639.6376 - val_loss: 868084.2500 - val_mae: 768.5637\n",
            "Epoch 130/1000\n",
            "31/31 [==============================] - 1s 24ms/step - loss: 577798.5625 - mae: 629.6340 - val_loss: 890443.8750 - val_mae: 777.7264\n",
            "Epoch 131/1000\n",
            "31/31 [==============================] - 1s 23ms/step - loss: 566031.3750 - mae: 627.4995 - val_loss: 876556.8750 - val_mae: 772.3338\n",
            "Epoch 132/1000\n",
            "31/31 [==============================] - 1s 25ms/step - loss: 550478.5625 - mae: 619.0276 - val_loss: 868726.9375 - val_mae: 768.0366\n",
            "Epoch 133/1000\n",
            "31/31 [==============================] - 1s 23ms/step - loss: 541151.0625 - mae: 618.0791 - val_loss: 871546.1875 - val_mae: 769.2283\n",
            "Epoch 134/1000\n",
            "31/31 [==============================] - 1s 23ms/step - loss: 551754.6250 - mae: 616.5026 - val_loss: 915048.6875 - val_mae: 790.2211\n",
            "Epoch 135/1000\n",
            "31/31 [==============================] - 1s 29ms/step - loss: 542239.8125 - mae: 607.8285 - val_loss: 926744.4375 - val_mae: 795.7228\n",
            "Epoch 136/1000\n",
            "31/31 [==============================] - 1s 40ms/step - loss: 528360.4375 - mae: 601.0947 - val_loss: 908785.2500 - val_mae: 787.5439\n",
            "Epoch 137/1000\n",
            "31/31 [==============================] - 1s 40ms/step - loss: 535379.8750 - mae: 605.2234 - val_loss: 905841.6250 - val_mae: 784.4295\n",
            "Epoch 138/1000\n",
            "31/31 [==============================] - 1s 40ms/step - loss: 530165.0625 - mae: 605.2747 - val_loss: 821343.3125 - val_mae: 740.4265\n",
            "Epoch 139/1000\n",
            "31/31 [==============================] - 1s 31ms/step - loss: 518854.8750 - mae: 595.2101 - val_loss: 824735.2500 - val_mae: 743.3708\n",
            "Epoch 140/1000\n",
            "31/31 [==============================] - 1s 25ms/step - loss: 523390.5938 - mae: 601.9323 - val_loss: 836273.8750 - val_mae: 746.4474\n",
            "Epoch 141/1000\n",
            "31/31 [==============================] - 1s 24ms/step - loss: 494136.1250 - mae: 579.9979 - val_loss: 839975.6250 - val_mae: 749.3748\n",
            "Epoch 142/1000\n",
            "31/31 [==============================] - 1s 26ms/step - loss: 495608.8125 - mae: 589.1516 - val_loss: 791658.1250 - val_mae: 728.2424\n",
            "Epoch 143/1000\n",
            "31/31 [==============================] - 1s 25ms/step - loss: 502263.3438 - mae: 585.0411 - val_loss: 793713.0000 - val_mae: 729.1609\n",
            "Epoch 144/1000\n",
            "31/31 [==============================] - 1s 23ms/step - loss: 482998.9062 - mae: 579.5069 - val_loss: 813886.7500 - val_mae: 739.0161\n",
            "Epoch 145/1000\n",
            "31/31 [==============================] - 1s 22ms/step - loss: 492676.5625 - mae: 573.7299 - val_loss: 789243.0625 - val_mae: 725.2941\n",
            "Epoch 146/1000\n",
            "31/31 [==============================] - 1s 24ms/step - loss: 509349.1562 - mae: 581.7258 - val_loss: 805408.5000 - val_mae: 734.3071\n",
            "Epoch 147/1000\n",
            "31/31 [==============================] - 1s 24ms/step - loss: 490194.4062 - mae: 572.4651 - val_loss: 810491.3125 - val_mae: 735.4850\n",
            "Epoch 148/1000\n",
            "31/31 [==============================] - 1s 23ms/step - loss: 493176.8750 - mae: 573.5416 - val_loss: 789523.3125 - val_mae: 727.2255\n",
            "Epoch 149/1000\n",
            "31/31 [==============================] - 1s 26ms/step - loss: 473042.0312 - mae: 561.3260 - val_loss: 805069.5000 - val_mae: 733.7715\n",
            "Epoch 150/1000\n",
            "31/31 [==============================] - 1s 25ms/step - loss: 445511.0312 - mae: 547.5872 - val_loss: 827564.0625 - val_mae: 743.9991\n",
            "Epoch 151/1000\n",
            "31/31 [==============================] - ETA: 0s - loss: 466690.8750 - mae: 555.0513"
          ]
        }
      ]
    },
    {
      "cell_type": "code",
      "source": [],
      "metadata": {
        "id": "JoO4LVMjeyqg"
      },
      "execution_count": null,
      "outputs": []
    },
    {
      "cell_type": "code",
      "source": [
        "predictions = model.predict(X_validation)\n"
      ],
      "metadata": {
        "id": "L17YKWt3vYFa"
      },
      "execution_count": null,
      "outputs": []
    },
    {
      "cell_type": "code",
      "source": [
        "# Plot the target values\n",
        "plt.plot(y_validation, label=\"Target values\")\n",
        "\n",
        "# Plot the predicted values\n",
        "plt.plot(predictions, label=\"Predicted values\")\n",
        "\n",
        "# Add a legend and labels\n",
        "plt.legend()\n",
        "plt.xlabel(\"Index\")\n",
        "plt.ylabel(\"Values\")\n",
        "\n",
        "#plt.xlim(000,100)\n",
        "# Display the plot\n",
        "plt.show()"
      ],
      "metadata": {
        "id": "O3t6gfrTvdyA"
      },
      "execution_count": null,
      "outputs": []
    }
  ],
  "metadata": {
    "colab": {
      "name": "Welcome To Colaboratory",
      "provenance": [],
      "include_colab_link": true
    },
    "kernelspec": {
      "display_name": "Python 3",
      "name": "python3"
    }
  },
  "nbformat": 4,
  "nbformat_minor": 0
}