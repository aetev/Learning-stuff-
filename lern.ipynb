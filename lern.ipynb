{
  "cells": [
    {
      "cell_type": "markdown",
      "metadata": {
        "id": "view-in-github",
        "colab_type": "text"
      },
      "source": [
        "<a href=\"https://colab.research.google.com/github/aetev/Learning-stuff-/blob/main/lern.ipynb\" target=\"_parent\"><img src=\"https://colab.research.google.com/assets/colab-badge.svg\" alt=\"Open In Colab\"/></a>"
      ]
    },
    {
      "cell_type": "code",
      "source": [
        "from google.colab import drive\n",
        "drive.mount('/content/drive')"
      ],
      "metadata": {
        "colab": {
          "base_uri": "https://localhost:8080/"
        },
        "id": "2370Z9yrygMt",
        "outputId": "192035e0-1184-451b-d24f-6dc6ae7c1953"
      },
      "execution_count": 21,
      "outputs": [
        {
          "output_type": "stream",
          "name": "stdout",
          "text": [
            "Drive already mounted at /content/drive; to attempt to forcibly remount, call drive.mount(\"/content/drive\", force_remount=True).\n"
          ]
        }
      ]
    },
    {
      "cell_type": "code",
      "source": [
        "!pip install pandas-ta"
      ],
      "metadata": {
        "colab": {
          "base_uri": "https://localhost:8080/"
        },
        "id": "0_9Y93vMykBd",
        "outputId": "5d399ab5-56d4-4f8f-d896-c80e3a9dad1c"
      },
      "execution_count": 22,
      "outputs": [
        {
          "output_type": "stream",
          "name": "stdout",
          "text": [
            "Looking in indexes: https://pypi.org/simple, https://us-python.pkg.dev/colab-wheels/public/simple/\n",
            "Requirement already satisfied: pandas-ta in /usr/local/lib/python3.10/dist-packages (0.3.14b0)\n",
            "Requirement already satisfied: pandas in /usr/local/lib/python3.10/dist-packages (from pandas-ta) (1.5.3)\n",
            "Requirement already satisfied: python-dateutil>=2.8.1 in /usr/local/lib/python3.10/dist-packages (from pandas->pandas-ta) (2.8.2)\n",
            "Requirement already satisfied: pytz>=2020.1 in /usr/local/lib/python3.10/dist-packages (from pandas->pandas-ta) (2022.7.1)\n",
            "Requirement already satisfied: numpy>=1.21.0 in /usr/local/lib/python3.10/dist-packages (from pandas->pandas-ta) (1.22.4)\n",
            "Requirement already satisfied: six>=1.5 in /usr/local/lib/python3.10/dist-packages (from python-dateutil>=2.8.1->pandas->pandas-ta) (1.16.0)\n"
          ]
        }
      ]
    },
    {
      "cell_type": "code",
      "source": [
        "import numpy as np\n",
        "import pandas as pd\n",
        "import pandas_ta as ta\n",
        "import matplotlib.pyplot as plt"
      ],
      "metadata": {
        "id": "WdAXBSQwyyZC"
      },
      "execution_count": 23,
      "outputs": []
    },
    {
      "cell_type": "markdown",
      "source": [
        "**Define functions**"
      ],
      "metadata": {
        "id": "zp8skWb9K0du"
      }
    },
    {
      "cell_type": "code",
      "source": [
        "def get_largest_value_array(Data, columns):\n",
        "    # Subset the data frame to only include the specified columns\n",
        "    sub_data = Data[columns]\n",
        "\n",
        "    # Use the apply() function with the max() function to find the maximum value in each row of the subsetted data frame\n",
        "    max_values = sub_data.apply(max, axis=1)\n",
        "\n",
        "    # Create a new array that takes the maximum value from step 2 for each row of the original data frame\n",
        "    max_array = np.array(max_values)\n",
        "    \n",
        "    return max_array\n",
        "  \n",
        "def get_smallest_value_array(Data, columns):\n",
        "    # Subset the data frame to only include the specified columns\n",
        "    sub_data = Data[columns]\n",
        "\n",
        "    # Use the min() function to find the minimum value in each row of the subsetted data frame\n",
        "    min_values = sub_data.min(axis=1)\n",
        "\n",
        "    # Create a new array that takes the minimum value from step 2 for each row of the original data frame\n",
        "    min_array = np.array(min_values)\n",
        "    \n",
        "    return min_array\n",
        "\n",
        "def get_array_bo_greater_than_bc(Data):\n",
        "    # Use np.where() to compare the \"BO\" and \"BC\" columns, return 1 if \"BO\" < \"BC\", and 0 otherwise\n",
        "    result_array = np.where(Data[\"BO\"] < Data[\"BC\"], 1, 0)\n",
        "    \n",
        "    return result_array\n",
        "\n",
        "def generate_dataframe(func, start, end, step, data, name):\n",
        "    result_df = pd.DataFrame()\n",
        "\n",
        "    for param in np.arange(start, end, step):\n",
        "        result_array = func(param, data)\n",
        "        temp_df = pd.DataFrame(result_array, columns=[name+str(param)])\n",
        "        result_df = pd.concat([result_df, temp_df], axis=1)\n",
        "\n",
        "    return result_df"
      ],
      "metadata": {
        "id": "ssMSTnooIvRn"
      },
      "execution_count": 55,
      "outputs": []
    },
    {
      "cell_type": "markdown",
      "source": [
        "**Load Data**"
      ],
      "metadata": {
        "id": "nyKLo8j9986v"
      }
    },
    {
      "cell_type": "code",
      "source": [
        "Data = pd.read_csv('/content/drive/MyDrive/eurusd_hour.csv')\n",
        "Data['Date'] = pd.to_datetime(Data['Date'])\n",
        "Data['Time'] = pd.to_datetime(Data['Time'])\n",
        "print(Data)"
      ],
      "metadata": {
        "colab": {
          "base_uri": "https://localhost:8080/"
        },
        "id": "vKH7LWXjy7fc",
        "outputId": "6eada5af-e6a0-4078-c8c5-7a5512e792cc"
      },
      "execution_count": 25,
      "outputs": [
        {
          "output_type": "stream",
          "name": "stdout",
          "text": [
            "            Date                Time       BO       BH       BL       BC  \\\n",
            "0     2005-05-02 2023-05-23 00:00:00  1.28520  1.28520  1.28400  1.28440   \n",
            "1     2005-05-02 2023-05-23 01:00:00  1.28440  1.28480  1.28390  1.28420   \n",
            "2     2005-05-02 2023-05-23 02:00:00  1.28430  1.28540  1.28410  1.28510   \n",
            "3     2005-05-02 2023-05-23 03:00:00  1.28510  1.28590  1.28500  1.28510   \n",
            "4     2005-05-02 2023-05-23 04:00:00  1.28520  1.28590  1.28490  1.28550   \n",
            "...          ...                 ...      ...      ...      ...      ...   \n",
            "93079 2020-04-29 2023-05-23 18:00:00  1.08620  1.08851  1.08611  1.08713   \n",
            "93080 2020-04-29 2023-05-23 19:00:00  1.08711  1.08823  1.08659  1.08748   \n",
            "93081 2020-04-29 2023-05-23 20:00:00  1.08747  1.08788  1.08691  1.08708   \n",
            "93082 2020-04-29 2023-05-23 21:00:00  1.08708  1.08740  1.08699  1.08714   \n",
            "93083 2020-04-29 2023-05-23 22:00:00  1.08728  1.08760  1.08727  1.08743   \n",
            "\n",
            "           BCh       AO       AH       AL       AC      ACh  \n",
            "0     -0.00080  1.28540  1.28540  1.28420  1.28460 -0.00080  \n",
            "1     -0.00020  1.28460  1.28500  1.28410  1.28440 -0.00020  \n",
            "2      0.00080  1.28450  1.28560  1.28430  1.28530  0.00080  \n",
            "3      0.00000  1.28530  1.28610  1.28520  1.28530  0.00000  \n",
            "4      0.00030  1.28540  1.28610  1.28510  1.28570  0.00030  \n",
            "...        ...      ...      ...      ...      ...      ...  \n",
            "93079  0.00093  1.08660  1.08865  1.08640  1.08726  0.00066  \n",
            "93080  0.00037  1.08725  1.08837  1.08675  1.08760  0.00035  \n",
            "93081 -0.00039  1.08758  1.08810  1.08706  1.08808  0.00050  \n",
            "93082  0.00006  1.08808  1.08814  1.08763  1.08766 -0.00042  \n",
            "93083  0.00015  1.08756  1.08779  1.08749  1.08760  0.00004  \n",
            "\n",
            "[93084 rows x 12 columns]\n"
          ]
        }
      ]
    },
    {
      "cell_type": "markdown",
      "source": [
        "**Extract time information**"
      ],
      "metadata": {
        "id": "3-TkkeCc9yWS"
      }
    },
    {
      "cell_type": "code",
      "source": [
        "Date = pd.DataFrame()\n",
        "\n",
        "Date['day'] = Data['Date'].dt.day\n",
        "Date['month'] = Data['Date'].dt.month\n",
        "Date['weekday'] = Data['Date'].dt.weekday\n",
        "Date['hour_of_day'] = Data['Time'].dt.hour\n",
        "\n",
        "print(Date)"
      ],
      "metadata": {
        "colab": {
          "base_uri": "https://localhost:8080/"
        },
        "id": "EFY_8-AP0FAV",
        "outputId": "0a945caf-e7f4-4a29-b6fe-000cbbacc5f5"
      },
      "execution_count": 26,
      "outputs": [
        {
          "output_type": "stream",
          "name": "stdout",
          "text": [
            "       day  month  weekday  hour_of_day\n",
            "0        2      5        0            0\n",
            "1        2      5        0            1\n",
            "2        2      5        0            2\n",
            "3        2      5        0            3\n",
            "4        2      5        0            4\n",
            "...    ...    ...      ...          ...\n",
            "93079   29      4        2           18\n",
            "93080   29      4        2           19\n",
            "93081   29      4        2           20\n",
            "93082   29      4        2           21\n",
            "93083   29      4        2           22\n",
            "\n",
            "[93084 rows x 4 columns]\n"
          ]
        }
      ]
    },
    {
      "cell_type": "markdown",
      "source": [
        "**Candle stick and other chart info**"
      ],
      "metadata": {
        "id": "4HqfCY9rTs9z"
      }
    },
    {
      "cell_type": "code",
      "source": [
        "Shape = pd.DataFrame()\n",
        "\n",
        "abs_diff_array = np.abs(Data['BH'] - Data['BL'])\n",
        "\n",
        "updown_array = get_array_bo_greater_than_bc(Data)\n",
        "\n",
        "max_array = get_largest_value_array(Data,[\"BC\", \"BO\"])\n",
        "min_array = get_smallest_value_array(Data,[\"BC\", \"BO\"])\n",
        "\n",
        "tp_array = (Data['BH']-min_array)/abs_diff_array\n",
        "bp_array = (Data['BH']-max_array)/abs_diff_array\n",
        "\n",
        "RelChange = Data['BC'] - Data['BO']\n",
        "\n",
        "Shape[\"Direction\"] = updown_array\n",
        "Shape[\"Bottom_Point\"] = bp_array\n",
        "Shape[\"Top_Point\"] = tp_array\n",
        "Shape[\"Relative_Change\"] = RelChange\n",
        "Shape[\"Size\"] = abs_diff_array\n",
        "\n",
        "\n",
        "\n",
        "\n",
        "#print(Shape)\n",
        "result = pd.concat([Date, Shape], axis=1)\n",
        "print(new)"
      ],
      "metadata": {
        "colab": {
          "base_uri": "https://localhost:8080/"
        },
        "id": "0A0q2FME9xnt",
        "outputId": "1fd0ee51-9640-4f4d-e412-3de844243139"
      },
      "execution_count": 38,
      "outputs": [
        {
          "output_type": "stream",
          "name": "stdout",
          "text": [
            "       param_10  param_15  param_20  param_25  param_30  param_35  param_40  \\\n",
            "0           NaN       NaN       NaN       NaN       NaN       NaN       NaN   \n",
            "1           NaN       NaN       NaN       NaN       NaN       NaN       NaN   \n",
            "2           NaN       NaN       NaN       NaN       NaN       NaN       NaN   \n",
            "3           NaN       NaN       NaN       NaN       NaN       NaN       NaN   \n",
            "4           NaN       NaN       NaN       NaN       NaN       NaN       NaN   \n",
            "...         ...       ...       ...       ...       ...       ...       ...   \n",
            "93079  1.085513  1.085607  1.085279  1.084741  1.084539  1.084924  1.084609   \n",
            "93080  1.085709  1.085777  1.085494  1.084900  1.084645  1.084997  1.084736   \n",
            "93081  1.085915  1.085884  1.085644  1.085055  1.084776  1.084984  1.084861   \n",
            "93082  1.086211  1.086023  1.085773  1.085266  1.084895  1.084954  1.084978   \n",
            "93083  1.086388  1.086055  1.085892  1.085488  1.085039  1.084922  1.085133   \n",
            "\n",
            "       param_45  param_50  param_55  param_60  param_65  param_70  param_75  \\\n",
            "0           NaN       NaN       NaN       NaN       NaN       NaN       NaN   \n",
            "1           NaN       NaN       NaN       NaN       NaN       NaN       NaN   \n",
            "2           NaN       NaN       NaN       NaN       NaN       NaN       NaN   \n",
            "3           NaN       NaN       NaN       NaN       NaN       NaN       NaN   \n",
            "4           NaN       NaN       NaN       NaN       NaN       NaN       NaN   \n",
            "...         ...       ...       ...       ...       ...       ...       ...   \n",
            "93079  1.084397  1.084243  1.084195  1.084248  1.084203  1.084043  1.083783   \n",
            "93080  1.084501  1.084335  1.084239  1.084304  1.084284  1.084121  1.083900   \n",
            "93081  1.084605  1.084413  1.084283  1.084340  1.084345  1.084199  1.084003   \n",
            "93082  1.084692  1.084499  1.084340  1.084383  1.084396  1.084273  1.084101   \n",
            "93083  1.084804  1.084594  1.084424  1.084421  1.084440  1.084354  1.084187   \n",
            "\n",
            "       param_80  param_85  param_90  param_95  \n",
            "0           NaN       NaN       NaN       NaN  \n",
            "1           NaN       NaN       NaN       NaN  \n",
            "2           NaN       NaN       NaN       NaN  \n",
            "3           NaN       NaN       NaN       NaN  \n",
            "4           NaN       NaN       NaN       NaN  \n",
            "...         ...       ...       ...       ...  \n",
            "93079  1.083547  1.083082  1.082734  1.082452  \n",
            "93080  1.083650  1.083244  1.082855  1.082556  \n",
            "93081  1.083735  1.083398  1.082966  1.082658  \n",
            "93082  1.083830  1.083534  1.083078  1.082755  \n",
            "93083  1.083906  1.083663  1.083193  1.082861  \n",
            "\n",
            "[93084 rows x 18 columns]\n"
          ]
        }
      ]
    },
    {
      "cell_type": "markdown",
      "source": [
        "**Technical analysis**"
      ],
      "metadata": {
        "id": "lTIu3koWWoMe"
      }
    },
    {
      "cell_type": "code",
      "source": [
        "techana = pd.DataFrame()\n",
        "\n",
        "close = Data[\"BC\"]\n",
        "\n",
        "\n",
        "def sma_func(hyperparameter, data):\n",
        "    # Calculate the Simple Moving Average (SMA) using the ta.sma() function\n",
        "    sma_result = ta.sma(data, length=hyperparameter)-data\n",
        "\n",
        "    # Convert the resulting Series to a NumPy array\n",
        "    result_array = sma_result.to_numpy()\n",
        "\n",
        "    return result_array\n",
        "\n",
        "def stdev_func(hyperparameter, data):\n",
        "    # Calculate the Simple Moving Average (SMA) using the ta.sma() function\n",
        "    sma_result = ta.stdev(data, length=hyperparameter,ddof=1)\n",
        "\n",
        "    # Convert the resulting Series to a NumPy array\n",
        "    result_array = sma_result.to_numpy()\n",
        "\n",
        "    return result_array\n",
        "\n",
        "\n",
        "sma1 = generate_dataframe(sma_func,10,100,10,close,\"SMA_\")\n",
        "sma2 = generate_dataframe(sma_func,100,500,50,close,\"SMA_\")\n",
        "\n",
        "stdev = generate_dataframe(stdev_func,10,200,10,close,\"STDEV_\")\n",
        "\n",
        "result = pd.concat([sma1, sma2,stdev1], axis=1)\n",
        "\n",
        "#print(stdev1)\n",
        "\n",
        "plt.plot(result)\n",
        "plt.xlim(2000,2500)\n",
        "#plt.ylim(-.05,.05)"
      ],
      "metadata": {
        "colab": {
          "base_uri": "https://localhost:8080/",
          "height": 447
        },
        "id": "NUr16CliWmoW",
        "outputId": "4bfb0345-2427-47e6-e0e8-762ffa934b30"
      },
      "execution_count": 66,
      "outputs": [
        {
          "output_type": "execute_result",
          "data": {
            "text/plain": [
              "(2000.0, 2500.0)"
            ]
          },
          "metadata": {},
          "execution_count": 66
        },
        {
          "output_type": "display_data",
          "data": {
            "text/plain": [
              "<Figure size 640x480 with 1 Axes>"
            ],
            "image/png": "[encoded data removed]"
          },
          "metadata": {}
        }
      ]
    }
  ],
  "metadata": {
    "colab": {
      "name": "Welcome To Colaboratory",
      "provenance": [],
      "history_visible": true,
      "toc_visible": true,
      "include_colab_link": true
    },
    "kernelspec": {
      "display_name": "Python 3",
      "name": "python3"
    }
  },
  "nbformat": 4,
  "nbformat_minor": 0
}