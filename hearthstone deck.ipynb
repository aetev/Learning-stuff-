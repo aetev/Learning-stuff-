{
  "cells": [
    {
      "cell_type": "markdown",
      "metadata": {
        "id": "view-in-github",
        "colab_type": "text"
      },
      "source": [
        "<a href=\"https://colab.research.google.com/github/aetev/Learning-stuff-/blob/main/hearthstone%20deck.ipynb\" target=\"_parent\"><img src=\"https://colab.research.google.com/assets/colab-badge.svg\" alt=\"Open In Colab\"/></a>"
      ]
    },
    {
      "cell_type": "code",
      "source": [
        "import numpy as np\n",
        "import random"
      ],
      "metadata": {
        "id": "CgO0GYeIF1pq"
      },
      "execution_count": 97,
      "outputs": []
    },
    {
      "cell_type": "code",
      "source": [
        "from google.colab import drive\n",
        "drive.mount('/content/drive')"
      ],
      "metadata": {
        "colab": {
          "base_uri": "https://localhost:8080/"
        },
        "id": "c3Sco1cy2CNq",
        "outputId": "79ecbbfe-ecf0-4744-8270-ac07d8f13df8"
      },
      "execution_count": 98,
      "outputs": [
        {
          "output_type": "stream",
          "name": "stdout",
          "text": [
            "Drive already mounted at /content/drive; to attempt to forcibly remount, call drive.mount(\"/content/drive\", force_remount=True).\n"
          ]
        }
      ]
    },
    {
      "cell_type": "code",
      "source": [
        "class Player:\n",
        "    def __init__(self):\n",
        "        self.deck = []\n",
        "        self.hand = []\n",
        "        self.board = []\n",
        "        self.max_health = 30\n",
        "        self._health = self.max_health\n",
        "        self.mana = 0\n",
        "\n",
        "    def draw(self,amount):\n",
        "      for i in range(amount)\n",
        "        card = self.deck.pop(s)\n",
        "        self.hand.append(card)\n",
        "\n",
        "\n",
        "\n",
        "    @property\n",
        "    def health(self):\n",
        "      return self._health\n",
        "\n",
        "    @health.setter\n",
        "    def modi_health(self, value):\n",
        "      self._health += value\n",
        "      if self._health > self.max_health:\n",
        "        self._health = self.max_health\n",
        ""
      ],
      "metadata": {
        "id": "CrIiOy3sF6Wb"
      },
      "execution_count": 99,
      "outputs": []
    },
    {
      "cell_type": "code",
      "source": [
        "class game:\n",
        "  def __init__(self,player_1,player_2):\n",
        "    self.p1 = player_1\n",
        "    self.p2 = player_2\n",
        "    self.coin = random.randint(0,1)\n",
        "    self.turn = 0\n",
        "    self.selected = False\n",
        "\n",
        "  def action(self, action_num):\n",
        "\n",
        "\n",
        "\n",
        "\n",
        "\n",
        "    return\n",
        "\n",
        "  @property\n",
        "  def observe(self):\n",
        "    hand_p1 = self.p1.hand\n",
        "    hand_p2 = self.p2.hand\n",
        "    return hand_p1, hand_p2\n",
        "\n"
      ],
      "metadata": {
        "id": "-le4m_ASR9mA"
      },
      "execution_count": 128,
      "outputs": []
    },
    {
      "cell_type": "code",
      "source": [
        "player1 = Player()\n",
        "player2 = Player()\n",
        "games = game(player1,player2)"
      ],
      "metadata": {
        "id": "8siv0bHsSAGE"
      },
      "execution_count": 129,
      "outputs": []
    },
    {
      "cell_type": "code",
      "source": [
        "p1 , p2 = games.observe"
      ],
      "metadata": {
        "id": "3GCKsEH-o43L"
      },
      "execution_count": 130,
      "outputs": []
    },
    {
      "cell_type": "code",
      "source": [
        "game.action(20)\n",
        "obs_p1, obs_p2, obs_full = game.observe"
      ],
      "metadata": {
        "id": "DRA3lgcDZFvZ"
      },
      "execution_count": null,
      "outputs": []
    }
  ],
  "metadata": {
    "colab": {
      "name": "Welcome To Colab",
      "provenance": [],
      "include_colab_link": true
    },
    "kernelspec": {
      "display_name": "Python 3",
      "name": "python3"
    }
  },
  "nbformat": 4,
  "nbformat_minor": 0
}