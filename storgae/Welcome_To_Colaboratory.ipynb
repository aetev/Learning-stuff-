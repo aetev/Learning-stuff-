{
  "cells": [
    {
      "cell_type": "markdown",
      "metadata": {
        "id": "view-in-github",
        "colab_type": "text"
      },
      "source": [
        "<a href=\"https://colab.research.google.com/github/aetev/Learning-stuff-/blob/main/storgae/Welcome_To_Colaboratory.ipynb\" target=\"_parent\"><img src=\"https://colab.research.google.com/assets/colab-badge.svg\" alt=\"Open In Colab\"/></a>"
      ]
    },
    {
      "cell_type": "code",
      "source": [
        "!pip install sklearn\n",
        "!pip install pandas_ta"
      ],
      "metadata": {
        "colab": {
          "base_uri": "https://localhost:8080/"
        },
        "id": "D4KIOxvDw8cY",
        "outputId": "c4049bc2-23e8-486b-b638-8af6fe8663d8"
      },
      "execution_count": 15,
      "outputs": [
        {
          "output_type": "stream",
          "name": "stdout",
          "text": [
            "Looking in indexes: https://pypi.org/simple, https://us-python.pkg.dev/colab-wheels/public/simple/\n",
            "Requirement already satisfied: sklearn in /usr/local/lib/python3.10/dist-packages (0.0.post5)\n",
            "Looking in indexes: https://pypi.org/simple, https://us-python.pkg.dev/colab-wheels/public/simple/\n",
            "Collecting pandas_ta\n",
            "  Downloading pandas_ta-0.3.14b.tar.gz (115 kB)\n",
            "\u001b[2K     \u001b[90m━━━━━━━━━━━━━━━━━━━━━━━━━━━━━━━━━━━━━━━\u001b[0m \u001b[32m115.1/115.1 kB\u001b[0m \u001b[31m5.8 MB/s\u001b[0m eta \u001b[36m0:00:00\u001b[0m\n",
            "\u001b[?25h  Preparing metadata (setup.py) ... \u001b[?25l\u001b[?25hdone\n",
            "Requirement already satisfied: pandas in /usr/local/lib/python3.10/dist-packages (from pandas_ta) (1.5.3)\n",
            "Requirement already satisfied: python-dateutil>=2.8.1 in /usr/local/lib/python3.10/dist-packages (from pandas->pandas_ta) (2.8.2)\n",
            "Requirement already satisfied: pytz>=2020.1 in /usr/local/lib/python3.10/dist-packages (from pandas->pandas_ta) (2022.7.1)\n",
            "Requirement already satisfied: numpy>=1.21.0 in /usr/local/lib/python3.10/dist-packages (from pandas->pandas_ta) (1.22.4)\n",
            "Requirement already satisfied: six>=1.5 in /usr/local/lib/python3.10/dist-packages (from python-dateutil>=2.8.1->pandas->pandas_ta) (1.16.0)\n",
            "Building wheels for collected packages: pandas_ta\n",
            "  Building wheel for pandas_ta (setup.py) ... \u001b[?25l\u001b[?25hdone\n",
            "  Created wheel for pandas_ta: filename=pandas_ta-0.3.14b0-py3-none-any.whl size=218908 sha256=4e86ebe10d74d9c23032631c87150cef663178b32bdb8e86580e0d01e3682c73\n",
            "  Stored in directory: /root/.cache/pip/wheels/69/00/ac/f7fa862c34b0e2ef320175100c233377b4c558944f12474cf0\n",
            "Successfully built pandas_ta\n",
            "Installing collected packages: pandas_ta\n",
            "Successfully installed pandas_ta-0.3.14b0\n"
          ]
        }
      ]
    },
    {
      "cell_type": "code",
      "source": [
        "from google.colab import drive\n",
        "drive.mount('/content/drive')"
      ],
      "metadata": {
        "colab": {
          "base_uri": "https://localhost:8080/"
        },
        "id": "THIJMt28eJfX",
        "outputId": "2f8f4515-a537-41b2-aca0-59c28d872604"
      },
      "execution_count": 1,
      "outputs": [
        {
          "output_type": "stream",
          "name": "stdout",
          "text": [
            "Mounted at /content/drive\n"
          ]
        }
      ]
    },
    {
      "cell_type": "code",
      "source": [
        "import numpy as np\n",
        "import pandas as pd\n",
        "import pandas_ta as ta\n",
        "import tensorflow as tf\n",
        "from scipy import signal\n",
        "import sklearn as sk\n",
        "import matplotlib.pyplot as plt\n",
        "from sklearn import preprocessing"
      ],
      "metadata": {
        "id": "CQBdJ75zjo3I"
      },
      "execution_count": 28,
      "outputs": []
    },
    {
      "cell_type": "code",
      "source": [
        "\n",
        "def lowpass_filter(data, cutoff, order):\n",
        "  nyq = 0.5 * data.shape[-1]\n",
        "  b, a = signal.butter(order, cutoff/nyq, 'lowpass')\n",
        "  zi = signal.lfilter_zi(b, a)\n",
        "  y, _ = signal.lfilter(b, a, data, zi=zi*data[0])\n",
        "  return y\n",
        "\n",
        "def SamplesToFreq(x,sample_rate):\n",
        "  frequency = sample_rate / x\n",
        "  return frequency"
      ],
      "metadata": {
        "id": "9iumMyNmqL8Y"
      },
      "execution_count": 83,
      "outputs": []
    },
    {
      "cell_type": "code",
      "source": [
        "\n",
        "data = pd.read_csv('/content/drive/MyDrive/eurusd_hour.csv')\n",
        "data.dropna()\n",
        "close = data.pop('BC')\n",
        "\n",
        "data.pop('Date')\n",
        "data.pop('Time')\n",
        "data = (data-data.min())/(data.max()-data.min())\n",
        "\n",
        "target = close.shift(+1).ffill()\n",
        "target = target.fillna(0)\n",
        "target = np.diff(target,prepend=True,)\n",
        "target = (target-target.min())/(target.max()-target.min())\n",
        "\n",
        "\n",
        "print(data)\n",
        "print(target)\n"
      ],
      "metadata": {
        "colab": {
          "base_uri": "https://localhost:8080/"
        },
        "id": "Srq8jmWqeXt3",
        "outputId": "a2910bb0-05d0-48da-9af0-4aa8187344cc"
      },
      "execution_count": 189,
      "outputs": [
        {
          "output_type": "stream",
          "name": "stdout",
          "text": [
            "             BO        BH        BL       BCh        AO        AH        AL  \\\n",
            "0      0.441285  0.437896  0.442371  0.438755  0.441440  0.438050  0.442516   \n",
            "1      0.439871  0.437190  0.442194  0.449611  0.440025  0.437345  0.442339   \n",
            "2      0.439694  0.438249  0.442548  0.467704  0.439849  0.438403  0.442693   \n",
            "3      0.441108  0.439131  0.444140  0.453230  0.441263  0.439285  0.444285   \n",
            "4      0.441285  0.439131  0.443963  0.458657  0.441440  0.439285  0.444108   \n",
            "...         ...       ...       ...       ...       ...       ...       ...   \n",
            "93079  0.089558  0.090920  0.092278  0.470056  0.090041  0.090944  0.092551   \n",
            "93080  0.091166  0.090426  0.093127  0.459924  0.091190  0.090450  0.093171   \n",
            "93081  0.091802  0.089809  0.093693  0.446173  0.091774  0.089974  0.093719   \n",
            "93082  0.091113  0.088962  0.093835  0.454315  0.092657  0.090045  0.094728   \n",
            "93083  0.091467  0.089315  0.094330  0.455944  0.091738  0.089427  0.094480   \n",
            "\n",
            "             AC       ACh  \n",
            "0      0.439943  0.436078  \n",
            "1      0.439590  0.446912  \n",
            "2      0.441181  0.464969  \n",
            "3      0.441181  0.450524  \n",
            "4      0.441888  0.455941  \n",
            "...         ...       ...  \n",
            "93079  0.091163  0.462441  \n",
            "93080  0.091764  0.456844  \n",
            "93081  0.092612  0.459552  \n",
            "93082  0.091870  0.442940  \n",
            "93083  0.091764  0.451246  \n",
            "\n",
            "[93084 rows x 9 columns]\n",
            "[0.         1.         0.43766416 ... 0.43790492 0.43757661 0.43777797]\n"
          ]
        }
      ]
    },
    {
      "cell_type": "code",
      "source": [
        "from keras.regularizers import Regularizer\n",
        "reg = tf.keras.regularizers.L2(l2=0.01)\n",
        "\n",
        "model = tf.keras.models.Sequential([\n",
        "  tf.keras.layers.Dense(25, activation='relu',kernel_regularizer=reg),\n",
        "  tf.keras.layers.Dropout(0.2),\n",
        "  tf.keras.layers.Dense(50, activation='relu',kernel_regularizer=reg),\n",
        "  tf.keras.layers.Dropout(0.2),\n",
        "  tf.keras.layers.Dense(50, activation='relu',kernel_regularizer=reg),\n",
        "  tf.keras.layers.Dropout(0.2),\n",
        "  tf.keras.layers.Dense(25, activation='relu',kernel_regularizer=reg),\n",
        "  tf.keras.layers.Dropout(0.2),\n",
        "  tf.keras.layers.Dense(1)\n",
        "])\n",
        "loss_fn = tf.keras.losses.MeanAbsoluteError()\n",
        "model.compile(optimizer='adam',\n",
        "              loss=loss_fn,\n",
        "              metrics=['RootMeanSquaredError'])"
      ],
      "metadata": {
        "id": "7Mz__1ZVldBi"
      },
      "execution_count": 190,
      "outputs": []
    },
    {
      "cell_type": "code",
      "source": [
        "\n",
        "\n",
        "hist = model.fit(data, target, epochs=100, batch_size=32)"
      ],
      "metadata": {
        "id": "fx8ccXFAnsEK"
      },
      "execution_count": null,
      "outputs": []
    },
    {
      "cell_type": "code",
      "source": [
        "# Plot the training loss\n",
        "plt.plot(hist.history['loss'])\n",
        "plt.title('Training Loss')\n",
        "plt.xlabel('Epoch')\n",
        "plt.ylabel('Loss')\n",
        "plt.show()"
      ],
      "metadata": {
        "colab": {
          "base_uri": "https://localhost:8080/",
          "height": 472
        },
        "id": "u1ESRjjrBBL5",
        "outputId": "34e678f5-7db6-4321-8fcb-7edbb5954369"
      },
      "execution_count": 149,
      "outputs": [
        {
          "output_type": "display_data",
          "data": {
            "text/plain": [
              "<Figure size 640x480 with 1 Axes>"
            ],
            "image/png": "[encoded data removed]"
          },
          "metadata": {}
        }
      ]
    },
    {
      "cell_type": "code",
      "source": [
        "prediction = model.predict(scaled)"
      ],
      "metadata": {
        "colab": {
          "base_uri": "https://localhost:8080/"
        },
        "id": "Q2LW5qWf8keB",
        "outputId": "641f1754-e95d-4c81-f0e3-d4e4b3a4e80f"
      },
      "execution_count": 150,
      "outputs": [
        {
          "output_type": "stream",
          "name": "stdout",
          "text": [
            "2597/2597 [==============================] - 4s 1ms/step\n"
          ]
        }
      ]
    },
    {
      "cell_type": "code",
      "source": [
        "plt.plot(prediction)"
      ],
      "metadata": {
        "colab": {
          "base_uri": "https://localhost:8080/",
          "height": 448
        },
        "id": "l1J0F71-9AJB",
        "outputId": "5173f34e-5146-4814-9ee3-d0932c3fd2dd"
      },
      "execution_count": 151,
      "outputs": [
        {
          "output_type": "execute_result",
          "data": {
            "text/plain": [
              "[<matplotlib.lines.Line2D at 0x7f979393f910>]"
            ]
          },
          "metadata": {},
          "execution_count": 151
        },
        {
          "output_type": "display_data",
          "data": {
            "text/plain": [
              "<Figure size 640x480 with 1 Axes>"
            ],
            "image/png": "[encoded data removed]"
          },
          "metadata": {}
        }
      ]
    }
  ],
  "metadata": {
    "colab": {
      "name": "Welcome To Colaboratory",
      "provenance": [],
      "include_colab_link": true
    },
    "kernelspec": {
      "display_name": "Python 3",
      "name": "python3"
    }
  },
  "nbformat": 4,
  "nbformat_minor": 0
}