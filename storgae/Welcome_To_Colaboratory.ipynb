{
  "cells": [
    {
      "cell_type": "markdown",
      "metadata": {
        "id": "view-in-github",
        "colab_type": "text"
      },
      "source": [
        "<a href=\"https://colab.research.google.com/github/aetev/Learning-stuff-/blob/main/storgae/Welcome_To_Colaboratory.ipynb\" target=\"_parent\"><img src=\"https://colab.research.google.com/assets/colab-badge.svg\" alt=\"Open In Colab\"/></a>"
      ]
    },
    {
      "cell_type": "code",
      "source": [
        "!pip install sklearn\n",
        "!pip install pandas_ta"
      ],
      "metadata": {
        "colab": {
          "base_uri": "https://localhost:8080/"
        },
        "id": "D4KIOxvDw8cY",
        "outputId": "45c88228-37ba-4be9-dea1-b14593b7204f"
      },
      "execution_count": 7,
      "outputs": [
        {
          "output_type": "stream",
          "name": "stdout",
          "text": [
            "Looking in indexes: https://pypi.org/simple, https://us-python.pkg.dev/colab-wheels/public/simple/\n",
            "Collecting sklearn\n",
            "  Downloading sklearn-0.0.post5.tar.gz (3.7 kB)\n",
            "  Preparing metadata (setup.py) ... \u001b[?25l\u001b[?25hdone\n",
            "Building wheels for collected packages: sklearn\n",
            "  Building wheel for sklearn (setup.py) ... \u001b[?25l\u001b[?25hdone\n",
            "  Created wheel for sklearn: filename=sklearn-0.0.post5-py3-none-any.whl size=2950 sha256=9b8527da2614efa1e631e0f2fa22f27e440ed7a98a296d30913cf871bcd6043b\n",
            "  Stored in directory: /root/.cache/pip/wheels/38/1f/8d/4f812c590e074c1e928f5cec67bf5053b71f38e2648739403a\n",
            "Successfully built sklearn\n",
            "Installing collected packages: sklearn\n",
            "Successfully installed sklearn-0.0.post5\n",
            "Looking in indexes: https://pypi.org/simple, https://us-python.pkg.dev/colab-wheels/public/simple/\n",
            "Collecting pandas_ta\n",
            "  Downloading pandas_ta-0.3.14b.tar.gz (115 kB)\n",
            "\u001b[2K     \u001b[90m━━━━━━━━━━━━━━━━━━━━━━━━━━━━━━━━━━━━━━━\u001b[0m \u001b[32m115.1/115.1 kB\u001b[0m \u001b[31m5.0 MB/s\u001b[0m eta \u001b[36m0:00:00\u001b[0m\n",
            "\u001b[?25h  Preparing metadata (setup.py) ... \u001b[?25l\u001b[?25hdone\n",
            "Requirement already satisfied: pandas in /usr/local/lib/python3.10/dist-packages (from pandas_ta) (1.5.3)\n",
            "Requirement already satisfied: python-dateutil>=2.8.1 in /usr/local/lib/python3.10/dist-packages (from pandas->pandas_ta) (2.8.2)\n",
            "Requirement already satisfied: pytz>=2020.1 in /usr/local/lib/python3.10/dist-packages (from pandas->pandas_ta) (2022.7.1)\n",
            "Requirement already satisfied: numpy>=1.21.0 in /usr/local/lib/python3.10/dist-packages (from pandas->pandas_ta) (1.22.4)\n",
            "Requirement already satisfied: six>=1.5 in /usr/local/lib/python3.10/dist-packages (from python-dateutil>=2.8.1->pandas->pandas_ta) (1.16.0)\n",
            "Building wheels for collected packages: pandas_ta\n",
            "  Building wheel for pandas_ta (setup.py) ... \u001b[?25l\u001b[?25hdone\n",
            "  Created wheel for pandas_ta: filename=pandas_ta-0.3.14b0-py3-none-any.whl size=218908 sha256=be22a5912b27df37255945af385eb775e453131e79eab66b0194f328e3f61020\n",
            "  Stored in directory: /root/.cache/pip/wheels/69/00/ac/f7fa862c34b0e2ef320175100c233377b4c558944f12474cf0\n",
            "Successfully built pandas_ta\n",
            "Installing collected packages: pandas_ta\n",
            "Successfully installed pandas_ta-0.3.14b0\n"
          ]
        }
      ]
    },
    {
      "cell_type": "code",
      "source": [
        "from google.colab import drive\n",
        "drive.mount('/content/drive')"
      ],
      "metadata": {
        "colab": {
          "base_uri": "https://localhost:8080/"
        },
        "id": "THIJMt28eJfX",
        "outputId": "f9616d07-2399-4e77-889e-f0d975f8c66e"
      },
      "execution_count": 1,
      "outputs": [
        {
          "output_type": "stream",
          "name": "stdout",
          "text": [
            "Drive already mounted at /content/drive; to attempt to forcibly remount, call drive.mount(\"/content/drive\", force_remount=True).\n"
          ]
        }
      ]
    },
    {
      "cell_type": "code",
      "source": [
        "import numpy as np\n",
        "import pandas as pd\n",
        "import pandas_ta as ta\n",
        "import tensorflow as tf\n",
        "import pywt\n",
        "from scipy import signal\n",
        "import sklearn as sk\n",
        "import matplotlib.pyplot as plt\n",
        "from sklearn import preprocessing\n",
        "import xgboost as xgb\n",
        "from sklearn.model_selection import train_test_split\n",
        "from sklearn.metrics import accuracy_score"
      ],
      "metadata": {
        "id": "CQBdJ75zjo3I"
      },
      "execution_count": 1,
      "outputs": []
    },
    {
      "cell_type": "code",
      "source": [
        "\n",
        "def lowpass_filter(data, cutoff, order):\n",
        "  nyq = 0.5 * data.shape[-1]\n",
        "  b, a = signal.butter(order, cutoff/nyq, 'lowpass')\n",
        "  zi = signal.lfilter_zi(b, a)\n",
        "  y, _ = signal.lfilter(b, a, data, zi=zi*data[0])\n",
        "  return y\n",
        "\n",
        "\n",
        "def lowpass(data, fs, fc, order):\n",
        "    # Define the filter parameters\n",
        "    b, a = signal.butter(order, fc / (fs / 2), 'lowpass')\n",
        "    # Apply the filter to the data\n",
        "    y = signal.filtfilt(b, a, data)\n",
        "    return y\n",
        "\n",
        "def SamplesToFreq(x,sample_rate):\n",
        "  frequency = sample_rate / x\n",
        "  return frequency\n",
        "\n",
        "def madev(d, axis=None):\n",
        "    \"\"\" Mean absolute deviation of a signal \"\"\"\n",
        "    return np.mean(np.absolute(d - np.mean(d, axis)), axis)\n",
        "\n",
        "def wavelet_denoising(x, wavelet='coif3', level=1):\n",
        "    coeff = pywt.wavedec(x, wavelet, mode=\"per\")\n",
        "    sigma = (1/0.6745) * madev(coeff[-level])\n",
        "    uthresh = sigma * np.sqrt(2 * np.log(len(x)))\n",
        "    coeff[1:] = (pywt.threshold(i, value=uthresh, mode='hard') for i in coeff[1:])\n",
        "    return pywt.waverec(coeff, wavelet, mode='per')\n",
        "\n",
        "def sliding_window(data, window_size):\n",
        "    windows = []\n",
        "    for i in range(len(data)):\n",
        "        window = data[max(0, i-window_size+1):i+1]\n",
        "        while len(window) < window_size:\n",
        "            window = np.concatenate(([window[0]], window))\n",
        "        windows.append(window)\n",
        "    return np.array(windows)\n",
        "\n",
        "def fill_nan_with_mean(df):\n",
        "    # calculate mean of each column\n",
        "    means = df.mean()\n",
        "    \n",
        "    # fill NaN values with mean of column\n",
        "    df.fillna(means, inplace=True)\n",
        "    \n",
        "    return df\n",
        "\n",
        "\n",
        "def sliding_windowdf(df, window_size):\n",
        "    # initialize empty list to store arrays\n",
        "    data = []\n",
        "    \n",
        "    # iterate through rows of dataframe\n",
        "    for i in range(len(df)):\n",
        "        # check if there are enough previous rows to create sliding window\n",
        "        if i >= window_size:\n",
        "            # extract values of sliding window at current time step\n",
        "            window = df.iloc[i-window_size:i].values\n",
        "        else:\n",
        "            # pad sliding window with NaN values\n",
        "            pad_width = ((window_size-i, 0), (0, 0))\n",
        "            window = np.pad(df.iloc[0:i].values, pad_width, mode='constant', constant_values=np.nan)\n",
        "            # calculate mean of each column and fill NaN values with mean\n",
        "            means = pd.DataFrame(window).mean()\n",
        "            window = pd.DataFrame(window).fillna(value=means).values\n",
        "        # add window to list of arrays\n",
        "        data.append(window)\n",
        "    \n",
        "    # convert list of arrays to numpy array\n",
        "    data = np.array(data)\n",
        "    \n",
        "    return data\n",
        "\n",
        "def replace_nan_with_zero(arr):\n",
        "  arr[np.isnan(arr)] = 0\n",
        "  return arr"
      ],
      "metadata": {
        "id": "9iumMyNmqL8Y"
      },
      "execution_count": 2,
      "outputs": []
    },
    {
      "cell_type": "code",
      "source": [
        "\n",
        "data = pd.read_csv('/content/drive/MyDrive/eurusd_hour.csv')\n",
        "data.dropna()\n",
        "close = data.pop('BC')\n",
        "\n",
        "data.pop('Date')\n",
        "data.pop('Time')\n",
        "data = (data-data.min())/(data.max()-data.min())\n",
        "\n",
        "for wav in pywt.wavelist():\n",
        "    try:\n",
        "        filtered = wavelet_denoising(close, wavelet=wav, level=2)\n",
        "    except:\n",
        "        pass\n",
        "    \n",
        "\n",
        "sma = ta.sma(close,10)\n",
        "sma1 = ta.sma(close,20)\n",
        "sma2 = ta.sma(close,30)\n",
        "sma3 = ta.sma(close,40)\n",
        "\n",
        "closemeanrmv1 = np.subtract(sma,close)\n",
        "closemeanrmv2 = np.subtract(sma1,close)\n",
        "closemeanrmv3 = np.subtract(sma2,close)\n",
        "closemeanrmv4 = np.subtract(sma3,close)\n",
        "\n",
        "\n",
        "target = filtered\n",
        "\n",
        "\n",
        "#window = sliding_window(data,3)\n",
        "new = np.column_stack((sma,closemeanrmv1,closemeanrmv2,closemeanrmv3,closemeanrmv4))\n",
        "\n",
        "df = pd.DataFrame(new, columns=['A', 'B', 'C','e', 'f'])\n",
        "\n",
        "\n",
        "new = fill_nan_with_mean(df)\n",
        "\n",
        "\n",
        "window = sliding_windowdf(new,10)\n",
        "window = replace_nan_with_zero(window)\n",
        "print(np.isnan(window))\n",
        "#window_size = 100\n",
        "#windows = sliding_window(close, window_size)\n",
        "#print(windows)\n",
        "\n",
        "#plt.plot(close)\n",
        "#plt.plot(target)\n",
        "#print(data)\n",
        "#plt.xlim(19500,20000)\n",
        "#plt.ylim(1.54,1.6)\n",
        "print(len(window))\n",
        "\n",
        "#print(window)"
      ],
      "metadata": {
        "colab": {
          "base_uri": "https://localhost:8080/"
        },
        "id": "Srq8jmWqeXt3",
        "outputId": "71bd855f-4b4b-494e-ce7c-34af1b8a2e7d"
      },
      "execution_count": 35,
      "outputs": [
        {
          "output_type": "stream",
          "name": "stderr",
          "text": [
            "/usr/local/lib/python3.10/dist-packages/pywt/_utils.py:15: FutureWarning: Wavelets from the family cmor, without parameters specified in the name are deprecated. The name should takethe form cmorB-C where B and C are floats representing the bandwidth frequency and center frequency, respectively (example: cmor1.5-1.0).\n",
            "  wavelet = DiscreteContinuousWavelet(wavelet)\n",
            "/usr/local/lib/python3.10/dist-packages/pywt/_utils.py:15: FutureWarning: Wavelets of family fbsp, without parameters specified in the name are deprecated.  The name should take the form fbspM-B-C where M is the spline order and B, C are floats representing the bandwidth frequency and center frequency, respectively (example: fbsp1-1.5-1.0).\n",
            "  wavelet = DiscreteContinuousWavelet(wavelet)\n",
            "/usr/local/lib/python3.10/dist-packages/pywt/_utils.py:15: FutureWarning: Wavelets from the family shan, without parameters specified in the name are deprecated. The name should takethe form shanB-C where B and C are floats representing the bandwidth frequency and center frequency, respectively (example: shan1.5-1.0).\n",
            "  wavelet = DiscreteContinuousWavelet(wavelet)\n"
          ]
        },
        {
          "output_type": "stream",
          "name": "stdout",
          "text": [
            "[[[False False False False False]\n",
            "  [False False False False False]\n",
            "  [False False False False False]\n",
            "  ...\n",
            "  [False False False False False]\n",
            "  [False False False False False]\n",
            "  [False False False False False]]\n",
            "\n",
            " [[False False False False False]\n",
            "  [False False False False False]\n",
            "  [False False False False False]\n",
            "  ...\n",
            "  [False False False False False]\n",
            "  [False False False False False]\n",
            "  [False False False False False]]\n",
            "\n",
            " [[False False False False False]\n",
            "  [False False False False False]\n",
            "  [False False False False False]\n",
            "  ...\n",
            "  [False False False False False]\n",
            "  [False False False False False]\n",
            "  [False False False False False]]\n",
            "\n",
            " ...\n",
            "\n",
            " [[False False False False False]\n",
            "  [False False False False False]\n",
            "  [False False False False False]\n",
            "  ...\n",
            "  [False False False False False]\n",
            "  [False False False False False]\n",
            "  [False False False False False]]\n",
            "\n",
            " [[False False False False False]\n",
            "  [False False False False False]\n",
            "  [False False False False False]\n",
            "  ...\n",
            "  [False False False False False]\n",
            "  [False False False False False]\n",
            "  [False False False False False]]\n",
            "\n",
            " [[False False False False False]\n",
            "  [False False False False False]\n",
            "  [False False False False False]\n",
            "  ...\n",
            "  [False False False False False]\n",
            "  [False False False False False]\n",
            "  [False False False False False]]]\n",
            "93084\n"
          ]
        }
      ]
    },
    {
      "cell_type": "code",
      "source": [
        "from keras.regularizers import Regularizer\n",
        "reg = tf.keras.regularizers.L2(l2=0.01)\n",
        "opti = tf.keras.optimizers.Adam(.01)\n",
        "\n",
        "model = tf.keras.models.Sequential([\n",
        "  tf.keras.layers.LSTM(100,return_sequences=True),\n",
        "  tf.keras.layers.Dropout(.2),\n",
        "  tf.keras.layers.LSTM(50,return_sequences=False),\n",
        "  tf.keras.layers.Dropout(.2),\n",
        "  tf.keras.layers.Dense(50),\n",
        "  tf.keras.layers.Dropout(.2),\n",
        "  tf.keras.layers.Dense(6, activation='gelu',kernel_regularizer=reg),\n",
        "  tf.keras.layers.Dropout(.2),\n",
        "  tf.keras.layers.Dense(3, activation='gelu',kernel_regularizer=reg),\n",
        "    tf.keras.layers.Dropout(.2),\n",
        "  tf.keras.layers.Dense(1)\n",
        "])\n",
        "loss_fn = tf.keras.losses.MeanAbsoluteError()\n",
        "model.compile(optimizer=opti,\n",
        "              loss=loss_fn,\n",
        "              metrics=['RootMeanSquaredError'])"
      ],
      "metadata": {
        "id": "7Mz__1ZVldBi"
      },
      "execution_count": 36,
      "outputs": []
    },
    {
      "cell_type": "code",
      "source": [
        "\n",
        "\n",
        "hist = model.fit(window, target, epochs=10, batch_size=64)"
      ],
      "metadata": {
        "colab": {
          "base_uri": "https://localhost:8080/"
        },
        "id": "fx8ccXFAnsEK",
        "outputId": "0d82568a-1029-482c-a4cc-4f429deeb9fb"
      },
      "execution_count": null,
      "outputs": [
        {
          "output_type": "stream",
          "name": "stdout",
          "text": [
            "Epoch 1/10\n",
            "1455/1455 [==============================] - 58s 31ms/step - loss: 0.0809 - root_mean_squared_error: 0.1615\n",
            "Epoch 2/10\n",
            "1455/1455 [==============================] - 49s 34ms/step - loss: 0.0383 - root_mean_squared_error: 0.0511\n",
            "Epoch 3/10\n",
            "1455/1455 [==============================] - 48s 33ms/step - loss: 0.0381 - root_mean_squared_error: 0.0509\n",
            "Epoch 4/10\n",
            "1455/1455 [==============================] - 45s 31ms/step - loss: 0.0375 - root_mean_squared_error: 0.0506\n",
            "Epoch 5/10\n",
            " 340/1455 [======>.......................] - ETA: 33s - loss: 0.0377 - root_mean_squared_error: 0.0507"
          ]
        }
      ]
    },
    {
      "cell_type": "code",
      "source": [
        "# Plot the training loss\n",
        "plt.plot(hist.history['loss'])\n",
        "plt.title('Training Loss')\n",
        "plt.xlabel('Epoch')\n",
        "plt.ylabel('Loss')\n",
        "plt.show()"
      ],
      "metadata": {
        "colab": {
          "base_uri": "https://localhost:8080/",
          "height": 472
        },
        "id": "u1ESRjjrBBL5",
        "outputId": "b23bd562-8d07-4620-8158-67f9d5d79040"
      },
      "execution_count": 30,
      "outputs": [
        {
          "output_type": "display_data",
          "data": {
            "text/plain": [
              "<Figure size 640x480 with 1 Axes>"
            ],
            "image/png": "[encoded data removed]"
          },
          "metadata": {}
        }
      ]
    },
    {
      "cell_type": "code",
      "source": [
        "prediction = model.predict(window)"
      ],
      "metadata": {
        "colab": {
          "base_uri": "https://localhost:8080/"
        },
        "id": "Q2LW5qWf8keB",
        "outputId": "632e4b5a-953e-4894-a47a-e634eb0528ad"
      },
      "execution_count": 31,
      "outputs": [
        {
          "output_type": "stream",
          "name": "stdout",
          "text": [
            "2909/2909 [==============================] - 11s 3ms/step\n"
          ]
        }
      ]
    },
    {
      "cell_type": "code",
      "source": [
        "\n",
        "plt.plot(target)\n",
        "plt.plot(prediction)\n",
        "plt.xlim(10000,10900)\n",
        "plt.ylim(1.3,1.35)"
      ],
      "metadata": {
        "colab": {
          "base_uri": "https://localhost:8080/",
          "height": 452
        },
        "id": "l1J0F71-9AJB",
        "outputId": "8055339b-9dd3-4b9b-9524-8e433433b844"
      },
      "execution_count": 34,
      "outputs": [
        {
          "output_type": "execute_result",
          "data": {
            "text/plain": [
              "(1.3, 1.35)"
            ]
          },
          "metadata": {},
          "execution_count": 34
        },
        {
          "output_type": "display_data",
          "data": {
            "text/plain": [
              "<Figure size 640x480 with 1 Axes>"
            ],
            "image/png": "[encoded data removed]"
          },
          "metadata": {}
        }
      ]
    }
  ],
  "metadata": {
    "colab": {
      "name": "Welcome To Colaboratory",
      "provenance": [],
      "include_colab_link": true
    },
    "kernelspec": {
      "display_name": "Python 3",
      "name": "python3"
    }
  },
  "nbformat": 4,
  "nbformat_minor": 0
}