{
  "cells": [
    {
      "cell_type": "markdown",
      "metadata": {
        "id": "view-in-github",
        "colab_type": "text"
      },
      "source": [
        "<a href=\"https://colab.research.google.com/github/aetev/Learning-stuff-/blob/main/storgae/Welcome_To_Colaboratory.ipynb\" target=\"_parent\"><img src=\"https://colab.research.google.com/assets/colab-badge.svg\" alt=\"Open In Colab\"/></a>"
      ]
    },
    {
      "cell_type": "code",
      "source": [
        "!pip install sklearn\n",
        "!pip install pandas_ta"
      ],
      "metadata": {
        "colab": {
          "base_uri": "https://localhost:8080/"
        },
        "id": "D4KIOxvDw8cY",
        "outputId": "c4049bc2-23e8-486b-b638-8af6fe8663d8"
      },
      "execution_count": 15,
      "outputs": [
        {
          "output_type": "stream",
          "name": "stdout",
          "text": [
            "Looking in indexes: https://pypi.org/simple, https://us-python.pkg.dev/colab-wheels/public/simple/\n",
            "Requirement already satisfied: sklearn in /usr/local/lib/python3.10/dist-packages (0.0.post5)\n",
            "Looking in indexes: https://pypi.org/simple, https://us-python.pkg.dev/colab-wheels/public/simple/\n",
            "Collecting pandas_ta\n",
            "  Downloading pandas_ta-0.3.14b.tar.gz (115 kB)\n",
            "\u001b[2K     \u001b[90m━━━━━━━━━━━━━━━━━━━━━━━━━━━━━━━━━━━━━━━\u001b[0m \u001b[32m115.1/115.1 kB\u001b[0m \u001b[31m5.8 MB/s\u001b[0m eta \u001b[36m0:00:00\u001b[0m\n",
            "\u001b[?25h  Preparing metadata (setup.py) ... \u001b[?25l\u001b[?25hdone\n",
            "Requirement already satisfied: pandas in /usr/local/lib/python3.10/dist-packages (from pandas_ta) (1.5.3)\n",
            "Requirement already satisfied: python-dateutil>=2.8.1 in /usr/local/lib/python3.10/dist-packages (from pandas->pandas_ta) (2.8.2)\n",
            "Requirement already satisfied: pytz>=2020.1 in /usr/local/lib/python3.10/dist-packages (from pandas->pandas_ta) (2022.7.1)\n",
            "Requirement already satisfied: numpy>=1.21.0 in /usr/local/lib/python3.10/dist-packages (from pandas->pandas_ta) (1.22.4)\n",
            "Requirement already satisfied: six>=1.5 in /usr/local/lib/python3.10/dist-packages (from python-dateutil>=2.8.1->pandas->pandas_ta) (1.16.0)\n",
            "Building wheels for collected packages: pandas_ta\n",
            "  Building wheel for pandas_ta (setup.py) ... \u001b[?25l\u001b[?25hdone\n",
            "  Created wheel for pandas_ta: filename=pandas_ta-0.3.14b0-py3-none-any.whl size=218908 sha256=4e86ebe10d74d9c23032631c87150cef663178b32bdb8e86580e0d01e3682c73\n",
            "  Stored in directory: /root/.cache/pip/wheels/69/00/ac/f7fa862c34b0e2ef320175100c233377b4c558944f12474cf0\n",
            "Successfully built pandas_ta\n",
            "Installing collected packages: pandas_ta\n",
            "Successfully installed pandas_ta-0.3.14b0\n"
          ]
        }
      ]
    },
    {
      "cell_type": "code",
      "source": [
        "from google.colab import drive\n",
        "drive.mount('/content/drive')"
      ],
      "metadata": {
        "colab": {
          "base_uri": "https://localhost:8080/"
        },
        "id": "THIJMt28eJfX",
        "outputId": "2f8f4515-a537-41b2-aca0-59c28d872604"
      },
      "execution_count": 1,
      "outputs": [
        {
          "output_type": "stream",
          "name": "stdout",
          "text": [
            "Mounted at /content/drive\n"
          ]
        }
      ]
    },
    {
      "cell_type": "code",
      "source": [
        "import numpy as np\n",
        "import pandas as pd\n",
        "import pandas_ta as ta\n",
        "import tensorflow as tf\n",
        "from scipy import signal\n",
        "import sklearn as sk\n",
        "import matplotlib.pyplot as plt\n",
        "from sklearn import preprocessing"
      ],
      "metadata": {
        "id": "CQBdJ75zjo3I"
      },
      "execution_count": 28,
      "outputs": []
    },
    {
      "cell_type": "code",
      "source": [
        "\n",
        "def lowpass_filter(data, cutoff, order):\n",
        "  nyq = 0.5 * data.shape[-1]\n",
        "  b, a = signal.butter(order, cutoff/nyq, 'lowpass')\n",
        "  zi = signal.lfilter_zi(b, a)\n",
        "  y, _ = signal.lfilter(b, a, data, zi=zi*data[0])\n",
        "  return y\n",
        "\n",
        "def SamplesToFreq(x,sample_rate):\n",
        "  frequency = sample_rate / x\n",
        "  return frequency"
      ],
      "metadata": {
        "id": "9iumMyNmqL8Y"
      },
      "execution_count": 83,
      "outputs": []
    },
    {
      "cell_type": "code",
      "source": [
        "\n",
        "data = pd.read_csv('/content/drive/MyDrive/eurusd_hour.csv')\n",
        "target = data.pop(\"BC\")\n",
        "\n",
        "sample_rate = len(target)\n",
        "\n",
        "\n",
        "samples_per_cycle = sample_rate / 10\n",
        "frequency = sample_rate / 100\n",
        "\n",
        "diff = np.diff(target)\n",
        "ema = ta.sma(target,100)\n",
        "new1 = lowpass_filter(target,SamplesToFreq(100,sample_rate),1)\n",
        "new2 = lowpass_filter(target,SamplesToFreq(1000,sample_rate),1)\n",
        "\n",
        "x_min = 19000\n",
        "x_max = 20000\n",
        "plt.plot(target)\n",
        "plt.plot(new1)\n",
        "plt.plot(new2)\n",
        "plt.xlim(x_min, x_max)\n",
        "print(len(target))\n"
      ],
      "metadata": {
        "colab": {
          "base_uri": "https://localhost:8080/",
          "height": 447
        },
        "id": "Srq8jmWqeXt3",
        "outputId": "e5a65a61-6f63-42f8-f621-331555f7f149"
      },
      "execution_count": 86,
      "outputs": [
        {
          "output_type": "stream",
          "name": "stdout",
          "text": [
            "93084\n"
          ]
        },
        {
          "output_type": "display_data",
          "data": {
            "text/plain": [
              "<Figure size 640x480 with 1 Axes>"
            ],
            "image/png": "[encoded data removed]"
          },
          "metadata": {}
        }
      ]
    },
    {
      "cell_type": "code",
      "source": [
        "df = pd.read_csv('/content/sample_data/california_housing_test.csv')\n",
        "target = df.pop(\"median_house_value\")\n",
        "\n",
        "df = 1+(df-df.min())/(df.max()-df.min())\n",
        "\n",
        "\n",
        "\n",
        "rng = np.random.RandomState(0)\n",
        "pt = preprocessing.PowerTransformer(method='box-cox', standardize=True)\n",
        "df = pt.fit_transform(df)\n",
        "\n",
        "ax = plt.hist(df)\n",
        "\n",
        "print(target)\n",
        "print(df)"
      ],
      "metadata": {
        "colab": {
          "base_uri": "https://localhost:8080/",
          "height": 864
        },
        "id": "bOan6dQvjzGQ",
        "outputId": "83cfefd3-55a6-4e99-c45b-9752390d0d2c"
      },
      "execution_count": null,
      "outputs": [
        {
          "output_type": "stream",
          "name": "stdout",
          "text": [
            "0       344700.0\n",
            "1       176500.0\n",
            "2       270500.0\n",
            "3       330000.0\n",
            "4        81700.0\n",
            "          ...   \n",
            "2995    225000.0\n",
            "2996    237200.0\n",
            "2997     62000.0\n",
            "2998    162500.0\n",
            "2999    500001.0\n",
            "Name: median_house_value, Length: 3000, dtype: float64\n",
            "[[-1.21764     0.91299186 -0.13216279 ...  0.45190479  0.67815547\n",
            "   1.4836834 ]\n",
            " [ 0.61130285 -0.55589886  1.12275824 ... -0.62445889 -0.66485033\n",
            "   0.08058872]\n",
            " [ 0.89510272 -0.87626912 -0.13216279 ...  0.38844189  0.30651793\n",
            "   1.18971107]\n",
            " ...\n",
            " [-0.14185486  0.50077947 -1.52019661 ... -0.84488057 -0.98623556\n",
            "  -0.91436025]\n",
            " [ 1.31268951 -0.65895768  0.8907214  ... -2.42400685 -2.46736827\n",
            "  -0.13936636]\n",
            " [-0.10621082 -0.45633209  1.04556877 ... -0.72887278 -0.75731682\n",
            "   2.01941996]]\n"
          ]
        },
        {
          "output_type": "display_data",
          "data": {
            "text/plain": [
              "<Figure size 640x480 with 1 Axes>"
            ],
            "image/png": "[encoded data removed]"
          },
          "metadata": {}
        }
      ]
    },
    {
      "cell_type": "code",
      "source": [
        "from keras.regularizers import Regularizer\n",
        "reg = tf.keras.regularizers.L2(l2=0.01)\n",
        "\n",
        "model = tf.keras.models.Sequential([\n",
        "  tf.keras.layers.Dense(25, activation='relu',kernel_regularizer=reg),\n",
        "  tf.keras.layers.Dropout(0.2),\n",
        "  tf.keras.layers.Dense(50, activation='relu',kernel_regularizer=reg),\n",
        "  tf.keras.layers.Dropout(0.2),\n",
        "  tf.keras.layers.Dense(100, activation='relu',kernel_regularizer=reg),\n",
        "  tf.keras.layers.Dropout(0.2),\n",
        "  tf.keras.layers.Dense(25, activation='relu',kernel_regularizer=reg),\n",
        "  tf.keras.layers.Dropout(0.2),\n",
        "  tf.keras.layers.Dense(1)\n",
        "])\n",
        "loss_fn = tf.keras.losses.MeanAbsoluteError()\n",
        "model.compile(optimizer='adam',\n",
        "              loss=loss_fn,\n",
        "              metrics=['RootMeanSquaredError'])"
      ],
      "metadata": {
        "id": "7Mz__1ZVldBi"
      },
      "execution_count": null,
      "outputs": []
    },
    {
      "cell_type": "code",
      "source": [
        "hist = model.fit(df, target, epochs=100, batch_size=32)"
      ],
      "metadata": {
        "colab": {
          "base_uri": "https://localhost:8080/"
        },
        "id": "fx8ccXFAnsEK",
        "outputId": "a067dbb8-417c-476b-ded2-152547519920"
      },
      "execution_count": null,
      "outputs": [
        {
          "output_type": "stream",
          "name": "stdout",
          "text": [
            "Epoch 1/100\n",
            "94/94 [==============================] - 2s 3ms/step - loss: 205741.7344 - root_mean_squared_error: 234777.3125\n",
            "Epoch 2/100\n",
            "94/94 [==============================] - 0s 3ms/step - loss: 195498.9688 - root_mean_squared_error: 226316.7188\n",
            "Epoch 3/100\n",
            "94/94 [==============================] - 0s 3ms/step - loss: 124583.0078 - root_mean_squared_error: 163508.9375\n",
            "Epoch 4/100\n",
            "94/94 [==============================] - 0s 2ms/step - loss: 95064.8750 - root_mean_squared_error: 126996.1250\n",
            "Epoch 5/100\n",
            "94/94 [==============================] - 0s 2ms/step - loss: 82637.1328 - root_mean_squared_error: 110247.2188\n",
            "Epoch 6/100\n",
            "94/94 [==============================] - 0s 2ms/step - loss: 73752.4609 - root_mean_squared_error: 99781.0391\n",
            "Epoch 7/100\n",
            "94/94 [==============================] - 0s 3ms/step - loss: 71091.5078 - root_mean_squared_error: 95494.0156\n",
            "Epoch 8/100\n",
            "94/94 [==============================] - 0s 3ms/step - loss: 68998.7812 - root_mean_squared_error: 92618.2422\n",
            "Epoch 9/100\n",
            "94/94 [==============================] - 0s 3ms/step - loss: 66961.5547 - root_mean_squared_error: 90604.8984\n",
            "Epoch 10/100\n",
            "94/94 [==============================] - 0s 3ms/step - loss: 65208.2305 - root_mean_squared_error: 89081.0859\n",
            "Epoch 11/100\n",
            "94/94 [==============================] - 0s 3ms/step - loss: 64950.6016 - root_mean_squared_error: 88374.4531\n",
            "Epoch 12/100\n",
            "94/94 [==============================] - 0s 2ms/step - loss: 63310.5703 - root_mean_squared_error: 86221.4062\n",
            "Epoch 13/100\n",
            "94/94 [==============================] - 0s 3ms/step - loss: 64318.2500 - root_mean_squared_error: 88248.6016\n",
            "Epoch 14/100\n",
            "94/94 [==============================] - 0s 3ms/step - loss: 62551.2148 - root_mean_squared_error: 86318.9297\n",
            "Epoch 15/100\n",
            "94/94 [==============================] - 0s 3ms/step - loss: 61957.8945 - root_mean_squared_error: 84997.4219\n",
            "Epoch 16/100\n",
            "94/94 [==============================] - 0s 2ms/step - loss: 62345.1719 - root_mean_squared_error: 84970.4531\n",
            "Epoch 17/100\n",
            "94/94 [==============================] - 0s 2ms/step - loss: 61198.3828 - root_mean_squared_error: 83883.8906\n",
            "Epoch 18/100\n",
            "94/94 [==============================] - 0s 3ms/step - loss: 62345.4609 - root_mean_squared_error: 85846.3438\n",
            "Epoch 19/100\n",
            "94/94 [==============================] - 0s 3ms/step - loss: 61034.5586 - root_mean_squared_error: 83145.2656\n",
            "Epoch 20/100\n",
            "94/94 [==============================] - 0s 2ms/step - loss: 60146.1445 - root_mean_squared_error: 82702.7109\n",
            "Epoch 21/100\n",
            "94/94 [==============================] - 0s 2ms/step - loss: 60189.9219 - root_mean_squared_error: 82411.2109\n",
            "Epoch 22/100\n",
            "94/94 [==============================] - 0s 3ms/step - loss: 59975.7500 - root_mean_squared_error: 82600.7812\n",
            "Epoch 23/100\n",
            "94/94 [==============================] - 0s 2ms/step - loss: 59282.6562 - root_mean_squared_error: 81801.7266\n",
            "Epoch 24/100\n",
            "94/94 [==============================] - 0s 3ms/step - loss: 59375.6680 - root_mean_squared_error: 81498.4844\n",
            "Epoch 25/100\n",
            "94/94 [==============================] - 0s 2ms/step - loss: 58139.9844 - root_mean_squared_error: 80743.1719\n",
            "Epoch 26/100\n",
            "94/94 [==============================] - 0s 2ms/step - loss: 57418.9961 - root_mean_squared_error: 79444.6094\n",
            "Epoch 27/100\n",
            "94/94 [==============================] - 0s 3ms/step - loss: 58046.5859 - root_mean_squared_error: 80501.1719\n",
            "Epoch 28/100\n",
            "94/94 [==============================] - 0s 3ms/step - loss: 57392.4688 - root_mean_squared_error: 79317.8438\n",
            "Epoch 29/100\n",
            "94/94 [==============================] - 0s 2ms/step - loss: 57404.7305 - root_mean_squared_error: 78976.0859\n",
            "Epoch 30/100\n",
            "94/94 [==============================] - 0s 3ms/step - loss: 57189.6680 - root_mean_squared_error: 78601.2031\n",
            "Epoch 31/100\n",
            "94/94 [==============================] - 0s 3ms/step - loss: 57489.8711 - root_mean_squared_error: 79858.0703\n",
            "Epoch 32/100\n",
            "94/94 [==============================] - 0s 4ms/step - loss: 56751.6328 - root_mean_squared_error: 78835.8359\n",
            "Epoch 33/100\n",
            "94/94 [==============================] - 0s 4ms/step - loss: 56823.8398 - root_mean_squared_error: 79076.6719\n",
            "Epoch 34/100\n",
            "94/94 [==============================] - 0s 4ms/step - loss: 55884.9531 - root_mean_squared_error: 77723.5234\n",
            "Epoch 35/100\n",
            "94/94 [==============================] - 0s 4ms/step - loss: 56532.1914 - root_mean_squared_error: 78272.1250\n",
            "Epoch 36/100\n",
            "94/94 [==============================] - 0s 4ms/step - loss: 55610.4102 - root_mean_squared_error: 76123.1797\n",
            "Epoch 37/100\n",
            "94/94 [==============================] - 0s 4ms/step - loss: 56006.1602 - root_mean_squared_error: 77823.1250\n",
            "Epoch 38/100\n",
            "94/94 [==============================] - 0s 4ms/step - loss: 55913.1641 - root_mean_squared_error: 77844.5156\n",
            "Epoch 39/100\n",
            "94/94 [==============================] - 0s 4ms/step - loss: 55239.7617 - root_mean_squared_error: 76203.1875\n",
            "Epoch 40/100\n",
            "94/94 [==============================] - 0s 4ms/step - loss: 55557.0781 - root_mean_squared_error: 76896.3359\n",
            "Epoch 41/100\n",
            "94/94 [==============================] - 0s 4ms/step - loss: 54581.9961 - root_mean_squared_error: 75911.2656\n",
            "Epoch 42/100\n",
            "94/94 [==============================] - 0s 4ms/step - loss: 55373.7070 - root_mean_squared_error: 77877.3125\n",
            "Epoch 43/100\n",
            "94/94 [==============================] - 0s 4ms/step - loss: 55561.3594 - root_mean_squared_error: 77466.9375\n",
            "Epoch 44/100\n",
            "94/94 [==============================] - 0s 2ms/step - loss: 55926.8047 - root_mean_squared_error: 78685.3516\n",
            "Epoch 45/100\n",
            "94/94 [==============================] - 0s 2ms/step - loss: 55890.2461 - root_mean_squared_error: 78321.5312\n",
            "Epoch 46/100\n",
            "94/94 [==============================] - 0s 3ms/step - loss: 55138.1602 - root_mean_squared_error: 76876.6250\n",
            "Epoch 47/100\n",
            "94/94 [==============================] - 0s 3ms/step - loss: 55732.6094 - root_mean_squared_error: 77956.5938\n",
            "Epoch 48/100\n",
            "94/94 [==============================] - 0s 3ms/step - loss: 54762.7695 - root_mean_squared_error: 76051.2188\n",
            "Epoch 49/100\n",
            "94/94 [==============================] - 0s 3ms/step - loss: 55005.4180 - root_mean_squared_error: 75771.2734\n",
            "Epoch 50/100\n",
            "94/94 [==============================] - 0s 3ms/step - loss: 54171.3906 - root_mean_squared_error: 75683.2656\n",
            "Epoch 51/100\n",
            "94/94 [==============================] - 0s 3ms/step - loss: 55136.0156 - root_mean_squared_error: 77048.3750\n",
            "Epoch 52/100\n",
            "94/94 [==============================] - 0s 3ms/step - loss: 54493.4023 - root_mean_squared_error: 75867.2031\n",
            "Epoch 53/100\n",
            "94/94 [==============================] - 0s 3ms/step - loss: 54870.7188 - root_mean_squared_error: 76856.2969\n",
            "Epoch 54/100\n",
            "94/94 [==============================] - 0s 3ms/step - loss: 54479.4766 - root_mean_squared_error: 75879.9453\n",
            "Epoch 55/100\n",
            "94/94 [==============================] - 0s 3ms/step - loss: 54679.3164 - root_mean_squared_error: 76533.8906\n",
            "Epoch 56/100\n",
            "94/94 [==============================] - 0s 2ms/step - loss: 54393.1562 - root_mean_squared_error: 75734.2891\n",
            "Epoch 57/100\n",
            "94/94 [==============================] - 0s 3ms/step - loss: 54584.2031 - root_mean_squared_error: 76217.2344\n",
            "Epoch 58/100\n",
            "94/94 [==============================] - 0s 3ms/step - loss: 55136.5078 - root_mean_squared_error: 77302.5859\n",
            "Epoch 59/100\n",
            "94/94 [==============================] - 0s 3ms/step - loss: 54408.0586 - root_mean_squared_error: 76557.2891\n",
            "Epoch 60/100\n",
            "94/94 [==============================] - 0s 2ms/step - loss: 54385.8281 - root_mean_squared_error: 75917.5234\n",
            "Epoch 61/100\n",
            "94/94 [==============================] - 0s 3ms/step - loss: 54890.9180 - root_mean_squared_error: 76708.4375\n",
            "Epoch 62/100\n",
            "94/94 [==============================] - 0s 2ms/step - loss: 54202.6445 - root_mean_squared_error: 75312.0625\n",
            "Epoch 63/100\n",
            "94/94 [==============================] - 0s 3ms/step - loss: 54603.3867 - root_mean_squared_error: 76272.7891\n",
            "Epoch 64/100\n",
            "94/94 [==============================] - 0s 2ms/step - loss: 55034.8867 - root_mean_squared_error: 77575.4453\n",
            "Epoch 65/100\n",
            "94/94 [==============================] - 0s 2ms/step - loss: 53795.2852 - root_mean_squared_error: 75750.4609\n",
            "Epoch 66/100\n",
            "94/94 [==============================] - 0s 3ms/step - loss: 54820.8203 - root_mean_squared_error: 76079.4219\n",
            "Epoch 67/100\n",
            "94/94 [==============================] - 0s 3ms/step - loss: 55011.5430 - root_mean_squared_error: 76442.0312\n",
            "Epoch 68/100\n",
            "94/94 [==============================] - 0s 3ms/step - loss: 54956.7109 - root_mean_squared_error: 77604.9297\n",
            "Epoch 69/100\n",
            "94/94 [==============================] - 0s 3ms/step - loss: 53806.3789 - root_mean_squared_error: 75409.8906\n",
            "Epoch 70/100\n",
            "94/94 [==============================] - 0s 2ms/step - loss: 54162.5938 - root_mean_squared_error: 76136.5234\n",
            "Epoch 71/100\n",
            "94/94 [==============================] - 0s 3ms/step - loss: 53517.9102 - root_mean_squared_error: 74905.2031\n",
            "Epoch 72/100\n",
            "94/94 [==============================] - 0s 3ms/step - loss: 54839.3398 - root_mean_squared_error: 76305.1094\n",
            "Epoch 73/100\n",
            "94/94 [==============================] - 0s 3ms/step - loss: 55035.4844 - root_mean_squared_error: 76440.0781\n",
            "Epoch 74/100\n",
            "94/94 [==============================] - 0s 3ms/step - loss: 53293.3086 - root_mean_squared_error: 75206.8359\n",
            "Epoch 75/100\n",
            "94/94 [==============================] - 0s 3ms/step - loss: 54489.8008 - root_mean_squared_error: 76235.1250\n",
            "Epoch 76/100\n",
            "94/94 [==============================] - 0s 2ms/step - loss: 53669.9102 - root_mean_squared_error: 74794.0391\n",
            "Epoch 77/100\n",
            "94/94 [==============================] - 0s 3ms/step - loss: 53872.3242 - root_mean_squared_error: 75466.5547\n",
            "Epoch 78/100\n",
            "94/94 [==============================] - 0s 3ms/step - loss: 54723.0352 - root_mean_squared_error: 76148.4375\n",
            "Epoch 79/100\n",
            "94/94 [==============================] - 0s 3ms/step - loss: 53755.3828 - root_mean_squared_error: 75573.8047\n",
            "Epoch 80/100\n",
            "94/94 [==============================] - 0s 3ms/step - loss: 53656.1914 - root_mean_squared_error: 74910.5078\n",
            "Epoch 81/100\n",
            "94/94 [==============================] - 0s 2ms/step - loss: 53611.2695 - root_mean_squared_error: 75301.4453\n",
            "Epoch 82/100\n",
            "94/94 [==============================] - 0s 2ms/step - loss: 52825.0234 - root_mean_squared_error: 74002.0312\n",
            "Epoch 83/100\n",
            "94/94 [==============================] - 0s 3ms/step - loss: 53437.9375 - root_mean_squared_error: 74649.0000\n",
            "Epoch 84/100\n",
            "94/94 [==============================] - 0s 4ms/step - loss: 54278.0898 - root_mean_squared_error: 76265.7422\n",
            "Epoch 85/100\n",
            "94/94 [==============================] - 0s 4ms/step - loss: 53719.9219 - root_mean_squared_error: 75464.9531\n",
            "Epoch 86/100\n",
            "94/94 [==============================] - 0s 4ms/step - loss: 52842.9648 - root_mean_squared_error: 74625.8438\n",
            "Epoch 87/100\n",
            "94/94 [==============================] - 0s 4ms/step - loss: 53573.8828 - root_mean_squared_error: 75171.8984\n",
            "Epoch 88/100\n",
            "94/94 [==============================] - 0s 4ms/step - loss: 54023.6172 - root_mean_squared_error: 75672.4453\n",
            "Epoch 89/100\n",
            "94/94 [==============================] - 0s 4ms/step - loss: 53152.8320 - root_mean_squared_error: 74679.9688\n",
            "Epoch 90/100\n",
            "94/94 [==============================] - 0s 4ms/step - loss: 52840.4844 - root_mean_squared_error: 74126.2891\n",
            "Epoch 91/100\n",
            "94/94 [==============================] - 0s 4ms/step - loss: 53024.3047 - root_mean_squared_error: 74856.7734\n",
            "Epoch 92/100\n",
            "94/94 [==============================] - 0s 4ms/step - loss: 53143.9258 - root_mean_squared_error: 74431.5625\n",
            "Epoch 93/100\n",
            "94/94 [==============================] - 0s 4ms/step - loss: 54064.4062 - root_mean_squared_error: 75074.4922\n",
            "Epoch 94/100\n",
            "94/94 [==============================] - 0s 4ms/step - loss: 53550.4102 - root_mean_squared_error: 74230.6172\n",
            "Epoch 95/100\n",
            "94/94 [==============================] - 0s 4ms/step - loss: 53331.7617 - root_mean_squared_error: 75849.9219\n",
            "Epoch 96/100\n",
            "94/94 [==============================] - 0s 3ms/step - loss: 53814.9805 - root_mean_squared_error: 76236.8906\n",
            "Epoch 97/100\n",
            "94/94 [==============================] - 0s 3ms/step - loss: 53339.6367 - root_mean_squared_error: 75318.3047\n",
            "Epoch 98/100\n",
            "94/94 [==============================] - 0s 3ms/step - loss: 54497.3242 - root_mean_squared_error: 75762.9062\n",
            "Epoch 99/100\n",
            "94/94 [==============================] - 0s 3ms/step - loss: 53939.0547 - root_mean_squared_error: 75649.1719\n",
            "Epoch 100/100\n",
            "94/94 [==============================] - 0s 2ms/step - loss: 52891.0547 - root_mean_squared_error: 74496.8594\n"
          ]
        }
      ]
    },
    {
      "cell_type": "code",
      "source": [
        "# Plot the training loss\n",
        "plt.plot(hist.history['loss'])\n",
        "plt.title('Training Loss')\n",
        "plt.xlabel('Epoch')\n",
        "plt.ylabel('Loss')\n",
        "plt.show()"
      ],
      "metadata": {
        "colab": {
          "base_uri": "https://localhost:8080/",
          "height": 472
        },
        "id": "u1ESRjjrBBL5",
        "outputId": "3c192029-13b6-47e9-e064-81d6979f7e15"
      },
      "execution_count": null,
      "outputs": [
        {
          "output_type": "display_data",
          "data": {
            "text/plain": [
              "<Figure size 640x480 with 1 Axes>"
            ],
            "image/png": "[encoded data removed]"
          },
          "metadata": {}
        }
      ]
    }
  ],
  "metadata": {
    "colab": {
      "name": "Welcome To Colaboratory",
      "provenance": [],
      "include_colab_link": true
    },
    "kernelspec": {
      "display_name": "Python 3",
      "name": "python3"
    }
  },
  "nbformat": 4,
  "nbformat_minor": 0
}