{
  "cells": [
    {
      "cell_type": "markdown",
      "metadata": {
        "id": "view-in-github",
        "colab_type": "text"
      },
      "source": [
        "<a href=\"https://colab.research.google.com/github/aetev/Learning-stuff-/blob/main/storgae/Welcome_To_Colaboratory.ipynb\" target=\"_parent\"><img src=\"https://colab.research.google.com/assets/colab-badge.svg\" alt=\"Open In Colab\"/></a>"
      ]
    },
    {
      "cell_type": "code",
      "source": [
        "!pip install sklearn\n",
        "!pip install pandas_ta"
      ],
      "metadata": {
        "colab": {
          "base_uri": "https://localhost:8080/"
        },
        "id": "D4KIOxvDw8cY",
        "outputId": "783b35c6-0833-4536-b209-74bf30be5a4f"
      },
      "execution_count": 2,
      "outputs": [
        {
          "output_type": "stream",
          "name": "stdout",
          "text": [
            "Looking in indexes: https://pypi.org/simple, https://us-python.pkg.dev/colab-wheels/public/simple/\n",
            "Collecting sklearn\n",
            "  Downloading sklearn-0.0.post5.tar.gz (3.7 kB)\n",
            "  Preparing metadata (setup.py) ... \u001b[?25l\u001b[?25hdone\n",
            "Building wheels for collected packages: sklearn\n",
            "  Building wheel for sklearn (setup.py) ... \u001b[?25l\u001b[?25hdone\n",
            "  Created wheel for sklearn: filename=sklearn-0.0.post5-py3-none-any.whl size=2950 sha256=da2b56af2cc3a9b38d5c952d838358400bd1b229b961967c865a54e37fafeb51\n",
            "  Stored in directory: /root/.cache/pip/wheels/38/1f/8d/4f812c590e074c1e928f5cec67bf5053b71f38e2648739403a\n",
            "Successfully built sklearn\n",
            "Installing collected packages: sklearn\n",
            "Successfully installed sklearn-0.0.post5\n",
            "Looking in indexes: https://pypi.org/simple, https://us-python.pkg.dev/colab-wheels/public/simple/\n",
            "Collecting pandas_ta\n",
            "  Downloading pandas_ta-0.3.14b.tar.gz (115 kB)\n",
            "\u001b[2K     \u001b[90m━━━━━━━━━━━━━━━━━━━━━━━━━━━━━━━━━━━━━━━\u001b[0m \u001b[32m115.1/115.1 kB\u001b[0m \u001b[31m5.7 MB/s\u001b[0m eta \u001b[36m0:00:00\u001b[0m\n",
            "\u001b[?25h  Preparing metadata (setup.py) ... \u001b[?25l\u001b[?25hdone\n",
            "Requirement already satisfied: pandas in /usr/local/lib/python3.10/dist-packages (from pandas_ta) (1.5.3)\n",
            "Requirement already satisfied: python-dateutil>=2.8.1 in /usr/local/lib/python3.10/dist-packages (from pandas->pandas_ta) (2.8.2)\n",
            "Requirement already satisfied: pytz>=2020.1 in /usr/local/lib/python3.10/dist-packages (from pandas->pandas_ta) (2022.7.1)\n",
            "Requirement already satisfied: numpy>=1.21.0 in /usr/local/lib/python3.10/dist-packages (from pandas->pandas_ta) (1.22.4)\n",
            "Requirement already satisfied: six>=1.5 in /usr/local/lib/python3.10/dist-packages (from python-dateutil>=2.8.1->pandas->pandas_ta) (1.16.0)\n",
            "Building wheels for collected packages: pandas_ta\n",
            "  Building wheel for pandas_ta (setup.py) ... \u001b[?25l\u001b[?25hdone\n",
            "  Created wheel for pandas_ta: filename=pandas_ta-0.3.14b0-py3-none-any.whl size=218908 sha256=eec57d0ade90baa1987a63ca242ed2de79ad9620534e3f0703b70b9d53a57414\n",
            "  Stored in directory: /root/.cache/pip/wheels/69/00/ac/f7fa862c34b0e2ef320175100c233377b4c558944f12474cf0\n",
            "Successfully built pandas_ta\n",
            "Installing collected packages: pandas_ta\n",
            "Successfully installed pandas_ta-0.3.14b0\n",
            "^C\n"
          ]
        }
      ]
    },
    {
      "cell_type": "code",
      "source": [
        "from google.colab import drive\n",
        "drive.mount('/content/drive')"
      ],
      "metadata": {
        "colab": {
          "base_uri": "https://localhost:8080/"
        },
        "id": "THIJMt28eJfX",
        "outputId": "5b1b1f54-a0ab-45fc-b134-49e6a7d4c0f9"
      },
      "execution_count": 6,
      "outputs": [
        {
          "output_type": "stream",
          "name": "stdout",
          "text": [
            "Mounted at /content/drive\n"
          ]
        }
      ]
    },
    {
      "cell_type": "code",
      "source": [
        "import numpy as np\n",
        "import pandas as pd\n",
        "import pandas_ta as ta\n",
        "import tensorflow as tf\n",
        "import pywt\n",
        "from scipy import signal\n",
        "import sklearn as sk\n",
        "import matplotlib.pyplot as plt\n",
        "from sklearn import preprocessing\n",
        "import xgboost as xgb\n",
        "from sklearn.model_selection import train_test_split\n",
        "from sklearn.metrics import accuracy_score"
      ],
      "metadata": {
        "id": "CQBdJ75zjo3I"
      },
      "execution_count": 3,
      "outputs": []
    },
    {
      "cell_type": "code",
      "source": [
        "\n",
        "def lowpass_filter(data, cutoff, order):\n",
        "  nyq = 0.5 * data.shape[-1]\n",
        "  b, a = signal.butter(order, cutoff/nyq, 'lowpass')\n",
        "  zi = signal.lfilter_zi(b, a)\n",
        "  y, _ = signal.lfilter(b, a, data, zi=zi*data[0])\n",
        "  return y\n",
        "\n",
        "\n",
        "def lowpass(data, fs, fc, order):\n",
        "    # Define the filter parameters\n",
        "    b, a = signal.butter(order, fc / (fs / 2), 'lowpass')\n",
        "    # Apply the filter to the data\n",
        "    y = signal.filtfilt(b, a, data)\n",
        "    return y\n",
        "\n",
        "def SamplesToFreq(x,sample_rate):\n",
        "  frequency = sample_rate / x\n",
        "  return frequency\n",
        "\n",
        "def madev(d, axis=None):\n",
        "    \"\"\" Mean absolute deviation of a signal \"\"\"\n",
        "    return np.mean(np.absolute(d - np.mean(d, axis)), axis)\n",
        "\n",
        "def wavelet_denoising(x, wavelet='coif3', level=1):\n",
        "    coeff = pywt.wavedec(x, wavelet, mode=\"per\")\n",
        "    sigma = (1/0.6745) * madev(coeff[-level])\n",
        "    uthresh = sigma * np.sqrt(2 * np.log(len(x)))\n",
        "    coeff[1:] = (pywt.threshold(i, value=uthresh, mode='hard') for i in coeff[1:])\n",
        "    return pywt.waverec(coeff, wavelet, mode='per')\n",
        "\n",
        "def sliding_window(data, window_size):\n",
        "    windows = []\n",
        "    for i in range(len(data)):\n",
        "        window = data[max(0, i-window_size+1):i+1]\n",
        "        while len(window) < window_size:\n",
        "            window = np.concatenate(([window[0]], window))\n",
        "        windows.append(window)\n",
        "    return np.array(windows)\n",
        "\n",
        "def fill_nan_with_mean(df):\n",
        "    # calculate mean of each column\n",
        "    means = df.mean()\n",
        "    \n",
        "    # fill NaN values with mean of column\n",
        "    df.fillna(means, inplace=True)\n",
        "    \n",
        "    return df\n",
        "\n",
        "\n",
        "def sliding_windowdf(df, window_size):\n",
        "    # initialize empty list to store arrays\n",
        "    data = []\n",
        "    \n",
        "    # iterate through rows of dataframe\n",
        "    for i in range(len(df)):\n",
        "        # check if there are enough previous rows to create sliding window\n",
        "        if i >= window_size:\n",
        "            # extract values of sliding window at current time step\n",
        "            window = df.iloc[i-window_size:i].values\n",
        "        else:\n",
        "            # pad sliding window with NaN values\n",
        "            pad_width = ((window_size-i, 0), (0, 0))\n",
        "            window = np.pad(df.iloc[0:i].values, pad_width, mode='constant', constant_values=np.nan)\n",
        "            # calculate mean of each column and fill NaN values with mean\n",
        "            means = pd.DataFrame(window).mean()\n",
        "            window = pd.DataFrame(window).fillna(value=means).values\n",
        "        # add window to list of arrays\n",
        "        data.append(window)\n",
        "    \n",
        "    # convert list of arrays to numpy array\n",
        "    data = np.array(data)\n",
        "    \n",
        "    return data\n",
        "\n",
        "def replace_nan_with_zero(arr):\n",
        "  arr[np.isnan(arr)] = 0\n",
        "  return arr\n",
        "def calculate_relative_change(arr):\n",
        "    # shift array by one to get old array\n",
        "    old_arr = np.roll(arr, 1)\n",
        "    old_arr[0] = arr[0] # set first value to first number in array\n",
        "    # calculate relative change\n",
        "    relative_change = (arr - old_arr) / old_arr\n",
        "    return relative_change\n",
        "\n",
        "def scale_array(arr):\n",
        "    scaled_arr = (arr - arr.min()) / (arr.max() - arr.min())\n",
        "    return scaled_arr"
      ],
      "metadata": {
        "id": "9iumMyNmqL8Y"
      },
      "execution_count": 4,
      "outputs": []
    },
    {
      "cell_type": "code",
      "source": [
        "\n",
        "data = pd.read_csv('/content/drive/MyDrive/eurusd_hour.csv')\n",
        "data.dropna()\n",
        "close = data.pop('BC')\n",
        "\n",
        "data.pop('Date')\n",
        "data.pop('Time')\n",
        "data = (data-data.min())/(data.max()-data.min())\n",
        "\n",
        "for wav in pywt.wavelist():\n",
        "    try:\n",
        "        filtered = wavelet_denoising(close, wavelet=wav, level=2)\n",
        "    except:\n",
        "        pass\n",
        "    \n",
        "\n",
        "sma = ta.sma(close,10)\n",
        "sma1 = ta.sma(close,20)\n",
        "sma2 = ta.sma(close,30)\n",
        "sma3 = ta.sma(close,40)\n",
        "\n",
        "closemeanrmv1 = np.subtract(sma,close)\n",
        "closemeanrmv2 = np.subtract(sma1,close)\n",
        "closemeanrmv3 = np.subtract(sma2,close)\n",
        "closemeanrmv4 = np.subtract(sma3,close)\n",
        "\n",
        "\n",
        "target = (filtered-filtered.min())/(filtered.max()-filtered.min())\n",
        "\n",
        "\n",
        "#window = sliding_window(data,3)\n",
        "new = np.column_stack((sma,closemeanrmv1,closemeanrmv2,closemeanrmv3,closemeanrmv4))\n",
        "\n",
        "df = pd.DataFrame(new, columns=['A', 'B', 'C','e', 'f'])\n",
        "\n",
        "ROC = calculate_relative_change(filtered)\n",
        "ROC = scale_array(ROC)\n",
        "\n",
        "\n",
        "new = fill_nan_with_mean(df)\n",
        "\n",
        "\n",
        "window = sliding_windowdf(new,10)\n",
        "window = replace_nan_with_zero(window)\n",
        "#print(np.isnan(window))\n",
        "#window_size = 100\n",
        "#windows = sliding_window(close, window_size)\n",
        "#print(windows)\n",
        "\n",
        "#plt.plot(close)\n",
        "plt.plot(ROC)\n",
        "#plt.plot(filtered)\n",
        "#print(data)\n",
        "plt.xlim(29500,30000)\n",
        "#plt.ylim(1.5,1.7)\n",
        "print(len(window))\n",
        "\n",
        "#print(window)"
      ],
      "metadata": {
        "colab": {
          "base_uri": "https://localhost:8080/",
          "height": 572
        },
        "id": "Srq8jmWqeXt3",
        "outputId": "ee5c95a0-b01f-464d-f13f-06d344dc14b7"
      },
      "execution_count": 7,
      "outputs": [
        {
          "output_type": "stream",
          "name": "stderr",
          "text": [
            "/usr/local/lib/python3.10/dist-packages/pywt/_utils.py:15: FutureWarning: Wavelets from the family cmor, without parameters specified in the name are deprecated. The name should takethe form cmorB-C where B and C are floats representing the bandwidth frequency and center frequency, respectively (example: cmor1.5-1.0).\n",
            "  wavelet = DiscreteContinuousWavelet(wavelet)\n",
            "/usr/local/lib/python3.10/dist-packages/pywt/_utils.py:15: FutureWarning: Wavelets of family fbsp, without parameters specified in the name are deprecated.  The name should take the form fbspM-B-C where M is the spline order and B, C are floats representing the bandwidth frequency and center frequency, respectively (example: fbsp1-1.5-1.0).\n",
            "  wavelet = DiscreteContinuousWavelet(wavelet)\n",
            "/usr/local/lib/python3.10/dist-packages/pywt/_utils.py:15: FutureWarning: Wavelets from the family shan, without parameters specified in the name are deprecated. The name should takethe form shanB-C where B and C are floats representing the bandwidth frequency and center frequency, respectively (example: shan1.5-1.0).\n",
            "  wavelet = DiscreteContinuousWavelet(wavelet)\n"
          ]
        },
        {
          "output_type": "stream",
          "name": "stdout",
          "text": [
            "93084\n"
          ]
        },
        {
          "output_type": "display_data",
          "data": {
            "text/plain": [
              "<Figure size 640x480 with 1 Axes>"
            ],
            "image/png": "[encoded data removed]"
          },
          "metadata": {}
        }
      ]
    },
    {
      "cell_type": "code",
      "source": [
        "from keras.regularizers import Regularizer\n",
        "reg = tf.keras.regularizers.L2(l2=0.01)\n",
        "opti = tf.keras.optimizers.Adam(.01)\n",
        "\n",
        "model = tf.keras.models.Sequential([\n",
        "  tf.keras.layers.Conv1D(filters=128, kernel_size=7, strides=1, padding=\"causal\", activation=\"relu\"),\n",
        "  tf.keras.layers.Conv1D(filters=64, kernel_size=7, strides=1, padding=\"causal\", activation=\"relu\"),\n",
        "  tf.keras.layers.Conv1D(filters=32, kernel_size=7, strides=1, padding=\"causal\", activation=\"relu\"),\n",
        "  tf.keras.layers.Conv1D(filters=12, kernel_size=7, strides=1, padding=\"causal\", activation=\"relu\"),\n",
        "  tf.keras.layers.Dense(1)\n",
        "])\n",
        "loss_fn = tf.keras.losses.MeanAbsoluteError()\n",
        "model.compile(optimizer=opti,\n",
        "              loss=loss_fn,\n",
        "              metrics=['RootMeanSquaredError'])"
      ],
      "metadata": {
        "id": "7Mz__1ZVldBi"
      },
      "execution_count": 30,
      "outputs": []
    },
    {
      "cell_type": "code",
      "source": [
        "\n",
        "\n",
        "hist = model.fit(window, ROC, epochs=10, batch_size=64)"
      ],
      "metadata": {
        "colab": {
          "base_uri": "https://localhost:8080/"
        },
        "id": "fx8ccXFAnsEK",
        "outputId": "8efb2d74-7d60-4b2f-eeef-9fd92322145c"
      },
      "execution_count": 28,
      "outputs": [
        {
          "output_type": "stream",
          "name": "stdout",
          "text": [
            "Epoch 1/10\n",
            "1455/1455 [==============================] - 30s 20ms/step - loss: 0.0099 - root_mean_squared_error: 0.0285\n",
            "Epoch 2/10\n",
            "1455/1455 [==============================] - 27s 19ms/step - loss: 0.0079 - root_mean_squared_error: 0.0137\n",
            "Epoch 3/10\n",
            "1455/1455 [==============================] - 25s 17ms/step - loss: 0.0078 - root_mean_squared_error: 0.0136\n",
            "Epoch 4/10\n",
            "1455/1455 [==============================] - 29s 20ms/step - loss: 0.0078 - root_mean_squared_error: 0.0136\n",
            "Epoch 5/10\n",
            "1455/1455 [==============================] - 27s 19ms/step - loss: 0.0077 - root_mean_squared_error: 0.0136\n",
            "Epoch 6/10\n",
            "1455/1455 [==============================] - 28s 19ms/step - loss: 0.0077 - root_mean_squared_error: 0.0136\n",
            "Epoch 7/10\n",
            "1455/1455 [==============================] - 27s 19ms/step - loss: 0.0076 - root_mean_squared_error: 0.0135\n",
            "Epoch 8/10\n",
            "1455/1455 [==============================] - 25s 17ms/step - loss: 0.0076 - root_mean_squared_error: 0.0135\n",
            "Epoch 9/10\n",
            "1455/1455 [==============================] - 28s 19ms/step - loss: 0.0077 - root_mean_squared_error: 0.0135\n",
            "Epoch 10/10\n",
            "1455/1455 [==============================] - 28s 19ms/step - loss: 0.0077 - root_mean_squared_error: 0.0136\n"
          ]
        }
      ]
    },
    {
      "cell_type": "code",
      "source": [
        "# Plot the training loss\n",
        "plt.plot(hist.history['loss'])\n",
        "plt.title('Training Loss')\n",
        "plt.xlabel('Epoch')\n",
        "plt.ylabel('Loss')\n",
        "plt.show()"
      ],
      "metadata": {
        "colab": {
          "base_uri": "https://localhost:8080/",
          "height": 472
        },
        "id": "u1ESRjjrBBL5",
        "outputId": "395d202c-007b-40af-f7b4-c18c76ceb472"
      },
      "execution_count": 31,
      "outputs": [
        {
          "output_type": "display_data",
          "data": {
            "text/plain": [
              "<Figure size 640x480 with 1 Axes>"
            ],
            "image/png": "[encoded data removed]"
          },
          "metadata": {}
        }
      ]
    },
    {
      "cell_type": "code",
      "source": [
        "prediction = model.predict(window)"
      ],
      "metadata": {
        "colab": {
          "base_uri": "https://localhost:8080/"
        },
        "id": "Q2LW5qWf8keB",
        "outputId": "af649b15-7e1f-4ea6-8f1e-29b2cb04889b"
      },
      "execution_count": 32,
      "outputs": [
        {
          "output_type": "stream",
          "name": "stdout",
          "text": [
            "2909/2909 [==============================] - 11s 4ms/step\n"
          ]
        }
      ]
    },
    {
      "cell_type": "code",
      "source": [
        "\n",
        "plt.plot(prediction)\n",
        "plt.plot(ROC)\n",
        "plt.xlim(20000,20900)\n",
        "plt.ylim(.3,.5)"
      ],
      "metadata": {
        "colab": {
          "base_uri": "https://localhost:8080/",
          "height": 781
        },
        "id": "l1J0F71-9AJB",
        "outputId": "d1380a6d-298d-4522-83d6-b3226135d108"
      },
      "execution_count": 33,
      "outputs": [
        {
          "output_type": "error",
          "ename": "ValueError",
          "evalue": "ignored",
          "traceback": [
            "\u001b[0;31m---------------------------------------------------------------------------\u001b[0m",
            "\u001b[0;31mValueError\u001b[0m                                Traceback (most recent call last)",
            "\u001b[0;32m<ipython-input-33-591416bff501>\u001b[0m in \u001b[0;36m<cell line: 1>\u001b[0;34m()\u001b[0m\n\u001b[0;32m----> 1\u001b[0;31m \u001b[0mplt\u001b[0m\u001b[0;34m.\u001b[0m\u001b[0mplot\u001b[0m\u001b[0;34m(\u001b[0m\u001b[0mprediction\u001b[0m\u001b[0;34m)\u001b[0m\u001b[0;34m\u001b[0m\u001b[0;34m\u001b[0m\u001b[0m\n\u001b[0m\u001b[1;32m      2\u001b[0m \u001b[0mplt\u001b[0m\u001b[0;34m.\u001b[0m\u001b[0mplot\u001b[0m\u001b[0;34m(\u001b[0m\u001b[0mROC\u001b[0m\u001b[0;34m)\u001b[0m\u001b[0;34m\u001b[0m\u001b[0;34m\u001b[0m\u001b[0m\n\u001b[1;32m      3\u001b[0m \u001b[0mplt\u001b[0m\u001b[0;34m.\u001b[0m\u001b[0mxlim\u001b[0m\u001b[0;34m(\u001b[0m\u001b[0;36m20000\u001b[0m\u001b[0;34m,\u001b[0m\u001b[0;36m20900\u001b[0m\u001b[0;34m)\u001b[0m\u001b[0;34m\u001b[0m\u001b[0;34m\u001b[0m\u001b[0m\n\u001b[1;32m      4\u001b[0m \u001b[0mplt\u001b[0m\u001b[0;34m.\u001b[0m\u001b[0mylim\u001b[0m\u001b[0;34m(\u001b[0m\u001b[0;36m.3\u001b[0m\u001b[0;34m,\u001b[0m\u001b[0;36m.5\u001b[0m\u001b[0;34m)\u001b[0m\u001b[0;34m\u001b[0m\u001b[0;34m\u001b[0m\u001b[0m\n",
            "\u001b[0;32m/usr/local/lib/python3.10/dist-packages/matplotlib/pyplot.py\u001b[0m in \u001b[0;36mplot\u001b[0;34m(scalex, scaley, data, *args, **kwargs)\u001b[0m\n\u001b[1;32m   2810\u001b[0m \u001b[0;34m@\u001b[0m\u001b[0m_copy_docstring_and_deprecators\u001b[0m\u001b[0;34m(\u001b[0m\u001b[0mAxes\u001b[0m\u001b[0;34m.\u001b[0m\u001b[0mplot\u001b[0m\u001b[0;34m)\u001b[0m\u001b[0;34m\u001b[0m\u001b[0;34m\u001b[0m\u001b[0m\n\u001b[1;32m   2811\u001b[0m \u001b[0;32mdef\u001b[0m \u001b[0mplot\u001b[0m\u001b[0;34m(\u001b[0m\u001b[0;34m*\u001b[0m\u001b[0margs\u001b[0m\u001b[0;34m,\u001b[0m \u001b[0mscalex\u001b[0m\u001b[0;34m=\u001b[0m\u001b[0;32mTrue\u001b[0m\u001b[0;34m,\u001b[0m \u001b[0mscaley\u001b[0m\u001b[0;34m=\u001b[0m\u001b[0;32mTrue\u001b[0m\u001b[0;34m,\u001b[0m \u001b[0mdata\u001b[0m\u001b[0;34m=\u001b[0m\u001b[0;32mNone\u001b[0m\u001b[0;34m,\u001b[0m \u001b[0;34m**\u001b[0m\u001b[0mkwargs\u001b[0m\u001b[0;34m)\u001b[0m\u001b[0;34m:\u001b[0m\u001b[0;34m\u001b[0m\u001b[0;34m\u001b[0m\u001b[0m\n\u001b[0;32m-> 2812\u001b[0;31m     return gca().plot(\n\u001b[0m\u001b[1;32m   2813\u001b[0m         \u001b[0;34m*\u001b[0m\u001b[0margs\u001b[0m\u001b[0;34m,\u001b[0m \u001b[0mscalex\u001b[0m\u001b[0;34m=\u001b[0m\u001b[0mscalex\u001b[0m\u001b[0;34m,\u001b[0m \u001b[0mscaley\u001b[0m\u001b[0;34m=\u001b[0m\u001b[0mscaley\u001b[0m\u001b[0;34m,\u001b[0m\u001b[0;34m\u001b[0m\u001b[0;34m\u001b[0m\u001b[0m\n\u001b[1;32m   2814\u001b[0m         **({\"data\": data} if data is not None else {}), **kwargs)\n",
            "\u001b[0;32m/usr/local/lib/python3.10/dist-packages/matplotlib/axes/_axes.py\u001b[0m in \u001b[0;36mplot\u001b[0;34m(self, scalex, scaley, data, *args, **kwargs)\u001b[0m\n\u001b[1;32m   1686\u001b[0m         \"\"\"\n\u001b[1;32m   1687\u001b[0m         \u001b[0mkwargs\u001b[0m \u001b[0;34m=\u001b[0m \u001b[0mcbook\u001b[0m\u001b[0;34m.\u001b[0m\u001b[0mnormalize_kwargs\u001b[0m\u001b[0;34m(\u001b[0m\u001b[0mkwargs\u001b[0m\u001b[0;34m,\u001b[0m \u001b[0mmlines\u001b[0m\u001b[0;34m.\u001b[0m\u001b[0mLine2D\u001b[0m\u001b[0;34m)\u001b[0m\u001b[0;34m\u001b[0m\u001b[0;34m\u001b[0m\u001b[0m\n\u001b[0;32m-> 1688\u001b[0;31m         \u001b[0mlines\u001b[0m \u001b[0;34m=\u001b[0m \u001b[0;34m[\u001b[0m\u001b[0;34m*\u001b[0m\u001b[0mself\u001b[0m\u001b[0;34m.\u001b[0m\u001b[0m_get_lines\u001b[0m\u001b[0;34m(\u001b[0m\u001b[0;34m*\u001b[0m\u001b[0margs\u001b[0m\u001b[0;34m,\u001b[0m \u001b[0mdata\u001b[0m\u001b[0;34m=\u001b[0m\u001b[0mdata\u001b[0m\u001b[0;34m,\u001b[0m \u001b[0;34m**\u001b[0m\u001b[0mkwargs\u001b[0m\u001b[0;34m)\u001b[0m\u001b[0;34m]\u001b[0m\u001b[0;34m\u001b[0m\u001b[0;34m\u001b[0m\u001b[0m\n\u001b[0m\u001b[1;32m   1689\u001b[0m         \u001b[0;32mfor\u001b[0m \u001b[0mline\u001b[0m \u001b[0;32min\u001b[0m \u001b[0mlines\u001b[0m\u001b[0;34m:\u001b[0m\u001b[0;34m\u001b[0m\u001b[0;34m\u001b[0m\u001b[0m\n\u001b[1;32m   1690\u001b[0m             \u001b[0mself\u001b[0m\u001b[0;34m.\u001b[0m\u001b[0madd_line\u001b[0m\u001b[0;34m(\u001b[0m\u001b[0mline\u001b[0m\u001b[0;34m)\u001b[0m\u001b[0;34m\u001b[0m\u001b[0;34m\u001b[0m\u001b[0m\n",
            "\u001b[0;32m/usr/local/lib/python3.10/dist-packages/matplotlib/axes/_base.py\u001b[0m in \u001b[0;36m__call__\u001b[0;34m(self, data, *args, **kwargs)\u001b[0m\n\u001b[1;32m    309\u001b[0m                 \u001b[0mthis\u001b[0m \u001b[0;34m+=\u001b[0m \u001b[0margs\u001b[0m\u001b[0;34m[\u001b[0m\u001b[0;36m0\u001b[0m\u001b[0;34m]\u001b[0m\u001b[0;34m,\u001b[0m\u001b[0;34m\u001b[0m\u001b[0;34m\u001b[0m\u001b[0m\n\u001b[1;32m    310\u001b[0m                 \u001b[0margs\u001b[0m \u001b[0;34m=\u001b[0m \u001b[0margs\u001b[0m\u001b[0;34m[\u001b[0m\u001b[0;36m1\u001b[0m\u001b[0;34m:\u001b[0m\u001b[0;34m]\u001b[0m\u001b[0;34m\u001b[0m\u001b[0;34m\u001b[0m\u001b[0m\n\u001b[0;32m--> 311\u001b[0;31m             yield from self._plot_args(\n\u001b[0m\u001b[1;32m    312\u001b[0m                 this, kwargs, ambiguous_fmt_datakey=ambiguous_fmt_datakey)\n\u001b[1;32m    313\u001b[0m \u001b[0;34m\u001b[0m\u001b[0m\n",
            "\u001b[0;32m/usr/local/lib/python3.10/dist-packages/matplotlib/axes/_base.py\u001b[0m in \u001b[0;36m_plot_args\u001b[0;34m(self, tup, kwargs, return_kwargs, ambiguous_fmt_datakey)\u001b[0m\n\u001b[1;32m    505\u001b[0m                              f\"have shapes {x.shape} and {y.shape}\")\n\u001b[1;32m    506\u001b[0m         \u001b[0;32mif\u001b[0m \u001b[0mx\u001b[0m\u001b[0;34m.\u001b[0m\u001b[0mndim\u001b[0m \u001b[0;34m>\u001b[0m \u001b[0;36m2\u001b[0m \u001b[0;32mor\u001b[0m \u001b[0my\u001b[0m\u001b[0;34m.\u001b[0m\u001b[0mndim\u001b[0m \u001b[0;34m>\u001b[0m \u001b[0;36m2\u001b[0m\u001b[0;34m:\u001b[0m\u001b[0;34m\u001b[0m\u001b[0;34m\u001b[0m\u001b[0m\n\u001b[0;32m--> 507\u001b[0;31m             raise ValueError(f\"x and y can be no greater than 2D, but have \"\n\u001b[0m\u001b[1;32m    508\u001b[0m                              f\"shapes {x.shape} and {y.shape}\")\n\u001b[1;32m    509\u001b[0m         \u001b[0;32mif\u001b[0m \u001b[0mx\u001b[0m\u001b[0;34m.\u001b[0m\u001b[0mndim\u001b[0m \u001b[0;34m==\u001b[0m \u001b[0;36m1\u001b[0m\u001b[0;34m:\u001b[0m\u001b[0;34m\u001b[0m\u001b[0;34m\u001b[0m\u001b[0m\n",
            "\u001b[0;31mValueError\u001b[0m: x and y can be no greater than 2D, but have shapes (93084,) and (93084, 10, 1)"
          ]
        },
        {
          "output_type": "display_data",
          "data": {
            "text/plain": [
              "<Figure size 640x480 with 1 Axes>"
            ],
            "image/png": "[encoded data removed]"
          },
          "metadata": {}
        }
      ]
    }
  ],
  "metadata": {
    "colab": {
      "name": "Welcome To Colaboratory",
      "provenance": [],
      "include_colab_link": true
    },
    "kernelspec": {
      "display_name": "Python 3",
      "name": "python3"
    }
  },
  "nbformat": 4,
  "nbformat_minor": 0
}