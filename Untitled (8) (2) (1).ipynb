{
 "cells": [
  {
   "cell_type": "code",
   "execution_count": 110,
   "id": "64d1a282-8166-4748-8753-4cb3ed211edf",
   "metadata": {},
   "outputs": [],
   "source": [
    "import requests\n",
    "import re\n",
    "from tensorflow.keras.preprocessing.text import Tokenizer\n",
    "from tensorflow.keras.preprocessing.sequence import pad_sequences\n",
    "import json\n",
    "from gensim.models import Word2Vec\n",
    "import numpy as np\n",
    "from IPython.display import clear_output"
   ]
  },
  {
   "cell_type": "code",
   "execution_count": 6,
   "id": "106c6668-8356-4d55-bd80-f938d3f10095",
   "metadata": {
    "collapsed": true,
    "jupyter": {
     "outputs_hidden": true
    },
    "tags": []
   },
   "outputs": [
    {
     "name": "stdout",
     "output_type": "stream",
     "text": [
      "Collecting tensorflow\n",
      "  Downloading tensorflow-2.13.1-cp38-cp38-manylinux_2_17_x86_64.manylinux2014_x86_64.whl (479.6 MB)\n",
      "\u001b[2K     \u001b[90m━━━━━━━━━━━━━━━━━━━━━━━━━━━━━━━━━━━━━━\u001b[0m \u001b[32m479.6/479.6 MB\u001b[0m \u001b[31m10.1 MB/s\u001b[0m eta \u001b[36m0:00:00\u001b[0m00:01\u001b[0m00:01\u001b[0m\n",
      "\u001b[?25hCollecting grpcio<2.0,>=1.24.3\n",
      "  Downloading grpcio-1.65.4-cp38-cp38-manylinux_2_17_x86_64.manylinux2014_x86_64.whl (5.7 MB)\n",
      "\u001b[2K     \u001b[90m━━━━━━━━━━━━━━━━━━━━━━━━━━━━━━━━━━━━━━━━\u001b[0m \u001b[32m5.7/5.7 MB\u001b[0m \u001b[31m41.7 MB/s\u001b[0m eta \u001b[36m0:00:00\u001b[0ma \u001b[36m0:00:01\u001b[0m\n",
      "\u001b[?25hCollecting absl-py>=1.0.0\n",
      "  Downloading absl_py-2.1.0-py3-none-any.whl (133 kB)\n",
      "\u001b[2K     \u001b[90m━━━━━━━━━━━━━━━━━━━━━━━━━━━━━━━━━━━━━━\u001b[0m \u001b[32m133.7/133.7 kB\u001b[0m \u001b[31m19.0 MB/s\u001b[0m eta \u001b[36m0:00:00\u001b[0m\n",
      "\u001b[?25hCollecting tensorflow-io-gcs-filesystem>=0.23.1\n",
      "  Downloading tensorflow_io_gcs_filesystem-0.34.0-cp38-cp38-manylinux_2_12_x86_64.manylinux2010_x86_64.whl (2.4 MB)\n",
      "\u001b[2K     \u001b[90m━━━━━━━━━━━━━━━━━━━━━━━━━━━━━━━━━━━━━━━━\u001b[0m \u001b[32m2.4/2.4 MB\u001b[0m \u001b[31m40.7 MB/s\u001b[0m eta \u001b[36m0:00:00\u001b[0ma \u001b[36m0:00:01\u001b[0m\n",
      "\u001b[?25hCollecting keras<2.14,>=2.13.1\n",
      "  Downloading keras-2.13.1-py3-none-any.whl (1.7 MB)\n",
      "\u001b[2K     \u001b[90m━━━━━━━━━━━━━━━━━━━━━━━━━━━━━━━━━━━━━━━━\u001b[0m \u001b[32m1.7/1.7 MB\u001b[0m \u001b[31m36.0 MB/s\u001b[0m eta \u001b[36m0:00:00\u001b[0m00:01\u001b[0m\n",
      "\u001b[?25hRequirement already satisfied: protobuf!=4.21.0,!=4.21.1,!=4.21.2,!=4.21.3,!=4.21.4,!=4.21.5,<5.0.0dev,>=3.20.3 in /opt/conda/lib/python3.8/site-packages (from tensorflow) (4.21.7)\n",
      "Collecting flatbuffers>=23.1.21\n",
      "  Downloading flatbuffers-24.3.25-py2.py3-none-any.whl (26 kB)\n",
      "Collecting astunparse>=1.6.0\n",
      "  Downloading astunparse-1.6.3-py2.py3-none-any.whl (12 kB)\n",
      "Collecting termcolor>=1.1.0\n",
      "  Downloading termcolor-2.4.0-py3-none-any.whl (7.7 kB)\n",
      "Collecting wrapt>=1.11.0\n",
      "  Downloading wrapt-1.16.0-cp38-cp38-manylinux_2_5_x86_64.manylinux1_x86_64.manylinux_2_17_x86_64.manylinux2014_x86_64.whl (83 kB)\n",
      "\u001b[2K     \u001b[90m━━━━━━━━━━━━━━━━━━━━━━━━━━━━━━━━━━━━━━━━\u001b[0m \u001b[32m83.4/83.4 kB\u001b[0m \u001b[31m12.0 MB/s\u001b[0m eta \u001b[36m0:00:00\u001b[0m\n",
      "\u001b[?25hCollecting opt-einsum>=2.3.2\n",
      "  Downloading opt_einsum-3.3.0-py3-none-any.whl (65 kB)\n",
      "\u001b[2K     \u001b[90m━━━━━━━━━━━━━━━━━━━━━━━━━━━━━━━━━━━━━━━━\u001b[0m \u001b[32m65.5/65.5 kB\u001b[0m \u001b[31m9.2 MB/s\u001b[0m eta \u001b[36m0:00:00\u001b[0m\n",
      "\u001b[?25hCollecting google-pasta>=0.1.1\n",
      "  Downloading google_pasta-0.2.0-py3-none-any.whl (57 kB)\n",
      "\u001b[2K     \u001b[90m━━━━━━━━━━━━━━━━━━━━━━━━━━━━━━━━━━━━━━━━\u001b[0m \u001b[32m57.5/57.5 kB\u001b[0m \u001b[31m7.7 MB/s\u001b[0m eta \u001b[36m0:00:00\u001b[0m\n",
      "\u001b[?25hRequirement already satisfied: six>=1.12.0 in /opt/conda/lib/python3.8/site-packages (from tensorflow) (1.16.0)\n",
      "Requirement already satisfied: h5py>=2.9.0 in /opt/conda/lib/python3.8/site-packages (from tensorflow) (3.7.0)\n",
      "Requirement already satisfied: packaging in /opt/conda/lib/python3.8/site-packages (from tensorflow) (21.3)\n",
      "Collecting tensorflow-estimator<2.14,>=2.13.0\n",
      "  Downloading tensorflow_estimator-2.13.0-py2.py3-none-any.whl (440 kB)\n",
      "\u001b[2K     \u001b[90m━━━━━━━━━━━━━━━━━━━━━━━━━━━━━━━━━━━━━━\u001b[0m \u001b[32m440.8/440.8 kB\u001b[0m \u001b[31m34.1 MB/s\u001b[0m eta \u001b[36m0:00:00\u001b[0m\n",
      "\u001b[?25hRequirement already satisfied: setuptools in /opt/conda/lib/python3.8/site-packages (from tensorflow) (65.4.1)\n",
      "Requirement already satisfied: numpy<=1.24.3,>=1.22 in /opt/conda/lib/python3.8/site-packages (from tensorflow) (1.23.3)\n",
      "Collecting gast<=0.4.0,>=0.2.1\n",
      "  Downloading gast-0.4.0-py3-none-any.whl (9.8 kB)\n",
      "Collecting tensorboard<2.14,>=2.13\n",
      "  Downloading tensorboard-2.13.0-py3-none-any.whl (5.6 MB)\n",
      "\u001b[2K     \u001b[90m━━━━━━━━━━━━━━━━━━━━━━━━━━━━━━━━━━━━━━━━\u001b[0m \u001b[32m5.6/5.6 MB\u001b[0m \u001b[31m41.8 MB/s\u001b[0m eta \u001b[36m0:00:00\u001b[0ma \u001b[36m0:00:01\u001b[0m\n",
      "\u001b[?25hCollecting libclang>=13.0.0\n",
      "  Downloading libclang-18.1.1-py2.py3-none-manylinux2010_x86_64.whl (24.5 MB)\n",
      "\u001b[2K     \u001b[90m━━━━━━━━━━━━━━━━━━━━━━━━━━━━━━━━━━━━━━━━\u001b[0m \u001b[32m24.5/24.5 MB\u001b[0m \u001b[31m37.8 MB/s\u001b[0m eta \u001b[36m0:00:00\u001b[0m00:01\u001b[0m00:01\u001b[0m\n",
      "\u001b[?25hRequirement already satisfied: typing-extensions<4.6.0,>=3.6.6 in /opt/conda/lib/python3.8/site-packages (from tensorflow) (4.4.0)\n",
      "Requirement already satisfied: wheel<1.0,>=0.23.0 in /opt/conda/lib/python3.8/site-packages (from astunparse>=1.6.0->tensorflow) (0.37.1)\n",
      "Collecting tensorboard-data-server<0.8.0,>=0.7.0\n",
      "  Downloading tensorboard_data_server-0.7.2-py3-none-manylinux_2_31_x86_64.whl (6.6 MB)\n",
      "\u001b[2K     \u001b[90m━━━━━━━━━━━━━━━━━━━━━━━━━━━━━━━━━━━━━━━━\u001b[0m \u001b[32m6.6/6.6 MB\u001b[0m \u001b[31m41.5 MB/s\u001b[0m eta \u001b[36m0:00:00\u001b[0m00:01\u001b[0m00:01\u001b[0m\n",
      "\u001b[?25hCollecting google-auth-oauthlib<1.1,>=0.5\n",
      "  Downloading google_auth_oauthlib-1.0.0-py2.py3-none-any.whl (18 kB)\n",
      "Collecting google-auth<3,>=1.6.3\n",
      "  Downloading google_auth-2.32.0-py2.py3-none-any.whl (195 kB)\n",
      "\u001b[2K     \u001b[90m━━━━━━━━━━━━━━━━━━━━━━━━━━━━━━━━━━━━━━\u001b[0m \u001b[32m195.5/195.5 kB\u001b[0m \u001b[31m23.2 MB/s\u001b[0m eta \u001b[36m0:00:00\u001b[0m\n",
      "\u001b[?25hCollecting markdown>=2.6.8\n",
      "  Downloading Markdown-3.6-py3-none-any.whl (105 kB)\n",
      "\u001b[2K     \u001b[90m━━━━━━━━━━━━━━━━━━━━━━━━━━━━━━━━━━━━━━\u001b[0m \u001b[32m105.4/105.4 kB\u001b[0m \u001b[31m16.2 MB/s\u001b[0m eta \u001b[36m0:00:00\u001b[0m\n",
      "\u001b[?25hCollecting werkzeug>=1.0.1\n",
      "  Downloading werkzeug-3.0.3-py3-none-any.whl (227 kB)\n",
      "\u001b[2K     \u001b[90m━━━━━━━━━━━━━━━━━━━━━━━━━━━━━━━━━━━━━━\u001b[0m \u001b[32m227.3/227.3 kB\u001b[0m \u001b[31m31.2 MB/s\u001b[0m eta \u001b[36m0:00:00\u001b[0m\n",
      "\u001b[?25hRequirement already satisfied: requests<3,>=2.21.0 in /opt/conda/lib/python3.8/site-packages (from tensorboard<2.14,>=2.13->tensorflow) (2.28.1)\n",
      "Requirement already satisfied: pyparsing!=3.0.5,>=2.0.2 in /opt/conda/lib/python3.8/site-packages (from packaging->tensorflow) (3.0.9)\n",
      "Collecting cachetools<6.0,>=2.0.0\n",
      "  Downloading cachetools-5.4.0-py3-none-any.whl (9.5 kB)\n",
      "Collecting rsa<5,>=3.1.4\n",
      "  Downloading rsa-4.9-py3-none-any.whl (34 kB)\n",
      "Collecting pyasn1-modules>=0.2.1\n",
      "  Downloading pyasn1_modules-0.4.0-py3-none-any.whl (181 kB)\n",
      "\u001b[2K     \u001b[90m━━━━━━━━━━━━━━━━━━━━━━━━━━━━━━━━━━━━━━\u001b[0m \u001b[32m181.2/181.2 kB\u001b[0m \u001b[31m26.9 MB/s\u001b[0m eta \u001b[36m0:00:00\u001b[0m\n",
      "\u001b[?25hCollecting requests-oauthlib>=0.7.0\n",
      "  Downloading requests_oauthlib-2.0.0-py2.py3-none-any.whl (24 kB)\n",
      "Requirement already satisfied: importlib-metadata>=4.4 in /opt/conda/lib/python3.8/site-packages (from markdown>=2.6.8->tensorboard<2.14,>=2.13->tensorflow) (4.11.4)\n",
      "Requirement already satisfied: certifi>=2017.4.17 in /opt/conda/lib/python3.8/site-packages (from requests<3,>=2.21.0->tensorboard<2.14,>=2.13->tensorflow) (2022.9.24)\n",
      "Requirement already satisfied: idna<4,>=2.5 in /opt/conda/lib/python3.8/site-packages (from requests<3,>=2.21.0->tensorboard<2.14,>=2.13->tensorflow) (3.4)\n",
      "Requirement already satisfied: charset-normalizer<3,>=2 in /opt/conda/lib/python3.8/site-packages (from requests<3,>=2.21.0->tensorboard<2.14,>=2.13->tensorflow) (2.1.1)\n",
      "Requirement already satisfied: urllib3<1.27,>=1.21.1 in /opt/conda/lib/python3.8/site-packages (from requests<3,>=2.21.0->tensorboard<2.14,>=2.13->tensorflow) (1.26.11)\n",
      "Requirement already satisfied: MarkupSafe>=2.1.1 in /opt/conda/lib/python3.8/site-packages (from werkzeug>=1.0.1->tensorboard<2.14,>=2.13->tensorflow) (2.1.1)\n",
      "Requirement already satisfied: zipp>=0.5 in /opt/conda/lib/python3.8/site-packages (from importlib-metadata>=4.4->markdown>=2.6.8->tensorboard<2.14,>=2.13->tensorflow) (3.9.0)\n",
      "Collecting pyasn1<0.7.0,>=0.4.6\n",
      "  Downloading pyasn1-0.6.0-py2.py3-none-any.whl (85 kB)\n",
      "\u001b[2K     \u001b[90m━━━━━━━━━━━━━━━━━━━━━━━━━━━━━━━━━━━━━━━━\u001b[0m \u001b[32m85.3/85.3 kB\u001b[0m \u001b[31m10.7 MB/s\u001b[0m eta \u001b[36m0:00:00\u001b[0m\n",
      "\u001b[?25hRequirement already satisfied: oauthlib>=3.0.0 in /opt/conda/lib/python3.8/site-packages (from requests-oauthlib>=0.7.0->google-auth-oauthlib<1.1,>=0.5->tensorboard<2.14,>=2.13->tensorflow) (3.2.1)\n",
      "Installing collected packages: libclang, flatbuffers, wrapt, werkzeug, termcolor, tensorflow-io-gcs-filesystem, tensorflow-estimator, tensorboard-data-server, pyasn1, opt-einsum, keras, grpcio, google-pasta, gast, cachetools, astunparse, absl-py, rsa, requests-oauthlib, pyasn1-modules, markdown, google-auth, google-auth-oauthlib, tensorboard, tensorflow\n",
      "Successfully installed absl-py-2.1.0 astunparse-1.6.3 cachetools-5.4.0 flatbuffers-24.3.25 gast-0.4.0 google-auth-2.32.0 google-auth-oauthlib-1.0.0 google-pasta-0.2.0 grpcio-1.65.4 keras-2.13.1 libclang-18.1.1 markdown-3.6 opt-einsum-3.3.0 pyasn1-0.6.0 pyasn1-modules-0.4.0 requests-oauthlib-2.0.0 rsa-4.9 tensorboard-2.13.0 tensorboard-data-server-0.7.2 tensorflow-2.13.1 tensorflow-estimator-2.13.0 tensorflow-io-gcs-filesystem-0.34.0 termcolor-2.4.0 werkzeug-3.0.3 wrapt-1.16.0\n"
     ]
    }
   ],
   "source": [
    "!pip install tensorflow"
   ]
  },
  {
   "cell_type": "code",
   "execution_count": 41,
   "id": "b842cba1-c08d-47a7-ad88-3ab1f91cf7c7",
   "metadata": {},
   "outputs": [
    {
     "name": "stdout",
     "output_type": "stream",
     "text": [
      "Collecting gensim\n",
      "  Downloading gensim-4.3.3-cp38-cp38-manylinux_2_17_x86_64.manylinux2014_x86_64.whl (26.6 MB)\n",
      "\u001b[2K     \u001b[90m━━━━━━━━━━━━━━━━━━━━━━━━━━━━━━━━━━━━━━━━\u001b[0m \u001b[32m26.6/26.6 MB\u001b[0m \u001b[31m35.4 MB/s\u001b[0m eta \u001b[36m0:00:00\u001b[0m00:01\u001b[0m00:01\u001b[0m\n",
      "\u001b[?25hRequirement already satisfied: scipy<1.14.0,>=1.7.0 in /opt/conda/lib/python3.8/site-packages (from gensim) (1.9.1)\n",
      "Requirement already satisfied: numpy<2.0,>=1.18.5 in /opt/conda/lib/python3.8/site-packages (from gensim) (1.23.3)\n",
      "Collecting smart-open>=1.8.1\n",
      "  Downloading smart_open-7.0.4-py3-none-any.whl (61 kB)\n",
      "\u001b[2K     \u001b[90m━━━━━━━━━━━━━━━━━━━━━━━━━━━━━━━━━━━━━━━━\u001b[0m \u001b[32m61.2/61.2 kB\u001b[0m \u001b[31m8.8 MB/s\u001b[0m eta \u001b[36m0:00:00\u001b[0m\n",
      "\u001b[?25hRequirement already satisfied: wrapt in /opt/conda/lib/python3.8/site-packages (from smart-open>=1.8.1->gensim) (1.16.0)\n",
      "Installing collected packages: smart-open, gensim\n",
      "Successfully installed gensim-4.3.3 smart-open-7.0.4\n"
     ]
    }
   ],
   "source": [
    "!pip install gensim"
   ]
  },
  {
   "cell_type": "code",
   "execution_count": 166,
   "id": "d36f2083-9aeb-496b-b956-48d101f2b8c1",
   "metadata": {
    "tags": []
   },
   "outputs": [],
   "source": [
    "# Load a pre-trained Word2Vec model\n",
    "model = api.load('word2vec-google-news-300')\n"
   ]
  },
  {
   "cell_type": "code",
   "execution_count": 7,
   "id": "922ff7b8-f6af-4bd1-b40a-0e35bffeb584",
   "metadata": {},
   "outputs": [
    {
     "name": "stdout",
     "output_type": "stream",
     "text": [
      "Access Token: USGK5ZGROLuNEZ7tJXbWGrrdO1QhqOnKAY\n"
     ]
    }
   ],
   "source": [
    "# Your credentials\n",
    "client_id = '0e64da7ef19646e4b8d1f01e5c296f04'\n",
    "client_secret = 'gRSqnm8qURgxlht6va1FyfVs2Btwr2en'\n",
    "\n",
    "# OAuth endpoint\n",
    "token_url = 'https://oauth.battle.net/token'\n",
    "\n",
    "# Request an access token\n",
    "response = requests.post(token_url, data={\n",
    "    'grant_type': 'client_credentials',\n",
    "}, auth=(client_id, client_secret))\n",
    "\n",
    "# Check if the request was successful\n",
    "if response.status_code == 200:\n",
    "    token_data = response.json()\n",
    "    access_token = token_data['access_token']\n",
    "    print('Access Token:', access_token)\n",
    "else:\n",
    "    print('Failed to obtain access token:', response.status_code, response.text)"
   ]
  },
  {
   "cell_type": "code",
   "execution_count": 8,
   "id": "a08a6b6b-fde3-43ed-8825-f9173ea9d2a2",
   "metadata": {
    "tags": []
   },
   "outputs": [],
   "source": [
    "headers = {\n",
    "    'Authorization': f'Bearer {access_token}',\n",
    "    'Battlenet-Namespace': 'static-us'  # Adjust namespace if needed\n",
    "}\n",
    "\n",
    "# Example endpoint for Hearthstone card data (adjust URL as needed)\n",
    "card_data_url = 'https://us.api.blizzard.com/hearthstone/cards/?page=3'\n",
    "\n",
    "# Make the API request\n",
    "response = requests.get(card_data_url, headers=headers)\n"
   ]
  },
  {
   "cell_type": "code",
   "execution_count": 176,
   "id": "81235f64-6dc8-4895-b381-d2307bdfbdaa",
   "metadata": {},
   "outputs": [],
   "source": [
    "def vectorize_words(words):\n",
    "    # Tokenize the sentence into words\n",
    "    words = words.split()\n",
    "\n",
    "    # Convert each word to its corresponding vector\n",
    "    vectors = [model[word] for word in words if word in model]\n",
    "\n",
    "    # Pad the vectors to ensure the output shape is (30, 300)\n",
    "    # Create an array of zeros with the target shape\n",
    "    max_length = 30\n",
    "    vector_size = 300\n",
    "    padded_vectors = np.zeros((max_length, vector_size))\n",
    "\n",
    "    # Determine the number of vectors to use (up to max_length)\n",
    "    num_vectors = min(len(vectors), max_length)\n",
    "\n",
    "    # Fill in the vectors\n",
    "    padded_vectors[:num_vectors] = vectors[:num_vectors]\n",
    "\n",
    "    return padded_vectors"
   ]
  },
  {
   "cell_type": "code",
   "execution_count": 271,
   "id": "519fac7e-781e-4744-b660-b56025dc298d",
   "metadata": {},
   "outputs": [],
   "source": [
    "def vectorize_words(words):\n",
    "    # Tokenize the sentence into words\n",
    "    words = words.split()\n",
    "\n",
    "    # Convert each word to its corresponding vector\n",
    "    vectors = [model[word] for word in words if word in model]\n",
    "\n",
    "    # Pad the vectors to ensure the output shape is (30, 300)\n",
    "    max_length = 30\n",
    "    vector_size = 300\n",
    "    padded_vectors = np.zeros((max_length, vector_size))\n",
    "\n",
    "    # Handle cases where vectors list is empty\n",
    "    if vectors:\n",
    "        num_vectors = min(len(vectors), max_length)\n",
    "        # Ensure vectors are converted to a NumPy array before assignment\n",
    "        vectors_array = np.array(vectors)\n",
    "        # Fill in the vectors\n",
    "        padded_vectors[:num_vectors] = vectors_array[:num_vectors]\n",
    "\n",
    "\n",
    "\n",
    "    return padded_vectors"
   ]
  },
  {
   "cell_type": "code",
   "execution_count": 278,
   "id": "32d851ac-e8c8-491c-9599-37dd6032887c",
   "metadata": {},
   "outputs": [],
   "source": [
    "def remove_html_tags(text):\n",
    "    clean = re.compile('<.*?>')\n",
    "    return re.sub('<.*?>', '', text)\n",
    "\n",
    "def preprocess_text(text):\n",
    "    text = str(text)\n",
    "    text = re.sub('<.*?>', '', text)\n",
    "    # Convert text to lowercase\n",
    "    text = text.lower()\n",
    "    # Remove punctuation and special characters\n",
    "    text = re.sub(r'[^\\w\\s\\+\\-\\/]', '', text)\n",
    "    text = re.sub(r'\\s*\\+\\s*', ' + ', text).strip()\n",
    "    text = re.sub(r'\\s*\\-\\s*', ' - ', text).strip()\n",
    "    def replacement(match):\n",
    "        number = match.group(0)\n",
    "        # Add a space between each digit\n",
    "        spaced_number = ' '.join(number)\n",
    "        return f' {spaced_number} '\n",
    "\n",
    "    # Replace all numbers with the replacement function\n",
    "    text = re.sub(r'\\b\\d+\\b', replacement, text)\n",
    "    text = re.sub(r'\\s+', ' ', text).strip()\n",
    "\n",
    "    sequence = vectorize_words(text).tolist()\n",
    "\n",
    "    \n",
    "    return sequence"
   ]
  },
  {
   "cell_type": "code",
   "execution_count": 279,
   "id": "cd60280c-72d6-49f6-8dc9-9ad9d3d2a450",
   "metadata": {},
   "outputs": [],
   "source": [
    "import time\n",
    "\n",
    "setlist = ['core','whizbangs-workshop','perils-in-paradise','festival-of-legends',\n",
    "           'titans','showdown-in-the-badlands']\n",
    "def getCards(Page,setnum):\n",
    "    \n",
    "    \n",
    "    \n",
    "    \n",
    "    Url = 'https://us.api.blizzard.com/hearthstone/cards/?collectible=1&set=' + setlist[setnum] + '&page=' + str(Page)\n",
    "    # Make the API request\n",
    "    response = requests.get(Url, headers=headers)\n",
    "\n",
    "    # Check if the request was successful\n",
    "    if response.status_code == 200:\n",
    "        # Parse the JSON response\n",
    "        data = response.json()\n",
    "        #print(data)\n",
    "        # Initialize an empty list to hold card names\n",
    "        cards_list = []\n",
    "        \n",
    "        # Check if the data is a dictionary and contains 'cards'\n",
    "        if isinstance(data, dict) and 'cards' in data:\n",
    "            cards = data['cards']\n",
    "            # Iterate through the list of cards\n",
    "            for card in cards:\n",
    "                if isinstance(card, dict):\n",
    "                # Check if 'name' is in the card and it's a dictionary\n",
    "                    card_name = card.get('name')\n",
    "                    card_name = card_name.get('en_US')\n",
    "                    \n",
    "                    card_type_info = card.get('cardTypeId')\n",
    "                    if card_type_info is None:\n",
    "                        card_type_info = 0\n",
    "                    minion_type_info = card.get('minionTypeId')\n",
    "                    if minion_type_info is None:\n",
    "                        minion_type_info = 0\n",
    "                    health_info = card.get('health')\n",
    "                    if health_info is None:\n",
    "                        health_info = 0\n",
    "                    attack_info = card.get('attack')\n",
    "                    if attack_info is None:\n",
    "                        attack_info = 0\n",
    "                    mana_info = card.get('manaCost')\n",
    "                    if mana_info is None:\n",
    "                        mana_info = 0\n",
    "                    text_info = card.get('text')\n",
    "\n",
    "                    text_info = preprocess_text(str(text_info.get('en_US')))\n",
    "\n",
    "                    \n",
    "                    stats_list = [int(attack_info),int(health_info),\n",
    "                                  int(mana_info),int(card_type_info),\n",
    "                                  int(minion_type_info)]\n",
    "\n",
    "                    cards_list.append([card_name,stats_list,text_info])\n",
    "\n",
    "   \n",
    "    return cards_list"
   ]
  },
  {
   "cell_type": "code",
   "execution_count": 280,
   "id": "9bfa2449-f359-46b7-b7f5-f8a91a6b8de1",
   "metadata": {
    "tags": []
   },
   "outputs": [
    {
     "name": "stdout",
     "output_type": "stream",
     "text": [
      "5\n",
      "5\n",
      "Data written to cardsfromapi.csv\n"
     ]
    }
   ],
   "source": [
    "import csv\n",
    "card_names = []\n",
    "for j in range(6):\n",
    "    \n",
    "    for i in range(10000):\n",
    "        time.sleep(.2)\n",
    "        cardlist = getCards(i+1,j)\n",
    "        clear_output(wait=True)\n",
    "        print(i)\n",
    "        print(j)\n",
    "    \n",
    "        if len(cardlist) == 0:\n",
    "            break\n",
    "        else:\n",
    "            card_names = card_names + cardlist\n",
    "            print(len(card_names))\n",
    "        \n",
    "# Specify the file name\n",
    "filename = 'cardsfromapi.csv'\n",
    "\n",
    "# Write the 1D list to a CSV file\n",
    "with open(filename, 'w', newline='') as file:\n",
    "    writer = csv.writer(file)\n",
    "    writer.writerow(card_names)\n",
    "\n",
    "print(f\"Data written to {filename}\")    "
   ]
  },
  {
   "cell_type": "code",
   "execution_count": 281,
   "id": "6045118d-3f6e-41d1-967b-a8a0238a2c8f",
   "metadata": {
    "tags": []
   },
   "outputs": [],
   "source": [
    "# Initialize an empty dictionary\n",
    "result_dict = {}\n",
    "\n",
    "# Process each item in the list\n",
    "for item in card_names:\n",
    "\n",
    "    name = item[0]  # Extract the name\n",
    "    stats = item[1:]   # Extract the stats (all stats are combined in a list)\n",
    "    result_dict[name] = stats\n",
    "    \n",
    "# Save dictionary to a JSON file\n",
    "with open('my_dict.json', 'w') as file:\n",
    "    json.dump(result_dict, file, indent=4)\n"
   ]
  },
  {
   "cell_type": "code",
   "execution_count": 282,
   "id": "7202cacd-bbc4-4bf0-85fb-27a390500371",
   "metadata": {},
   "outputs": [
    {
     "ename": "TypeError",
     "evalue": "'dict' object is not callable",
     "output_type": "error",
     "traceback": [
      "\u001b[0;31m---------------------------------------------------------------------------\u001b[0m",
      "\u001b[0;31mTypeError\u001b[0m                                 Traceback (most recent call last)",
      "Cell \u001b[0;32mIn [282], line 1\u001b[0m\n\u001b[0;32m----> 1\u001b[0m \u001b[43mresult_dict\u001b[49m\u001b[43m(\u001b[49m\u001b[38;5;124;43m\"\u001b[39;49m\u001b[38;5;124;43mAmphibious Elixir\u001b[39;49m\u001b[38;5;124;43m\"\u001b[39;49m\u001b[43m)\u001b[49m\n",
      "\u001b[0;31mTypeError\u001b[0m: 'dict' object is not callable"
     ]
    }
   ],
   "source": [
    "result_dict(\"Amphibious Elixir\")"
   ]
  },
  {
   "cell_type": "code",
   "execution_count": null,
   "id": "8977f9c0-5d44-4bb1-a243-ee5533ca1c77",
   "metadata": {},
   "outputs": [],
   "source": []
  },
  {
   "cell_type": "code",
   "execution_count": null,
   "id": "0762ea5e-b3f0-4cb9-969a-29d23a73d30d",
   "metadata": {},
   "outputs": [],
   "source": []
  }
 ],
 "metadata": {
  "kernelspec": {
   "display_name": "Python 3 (ipykernel)",
   "language": "python",
   "name": "python3"
  },
  "language_info": {
   "codemirror_mode": {
    "name": "ipython",
    "version": 3
   },
   "file_extension": ".py",
   "mimetype": "text/x-python",
   "name": "python",
   "nbconvert_exporter": "python",
   "pygments_lexer": "ipython3",
   "version": "3.8.13"
  }
 },
 "nbformat": 4,
 "nbformat_minor": 5
}
