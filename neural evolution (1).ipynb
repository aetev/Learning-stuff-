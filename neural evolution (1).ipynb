{
  "cells": [
    {
      "cell_type": "code",
      "execution_count": 1,
      "id": "1bd5dbb8",
      "metadata": {
        "colab": {
          "base_uri": "https://localhost:8080/"
        },
        "id": "1bd5dbb8",
        "outputId": "13f6fa59-6a83-43c2-b38d-df3dfedecb56"
      },
      "outputs": [
        {
          "output_type": "stream",
          "name": "stdout",
          "text": [
            "Collecting pandas_ta\n",
            "  Downloading pandas_ta-0.3.14b.tar.gz (115 kB)\n",
            "\u001b[?25l     \u001b[90m━━━━━━━━━━━━━━━━━━━━━━━━━━━━━━━━━━━━━━━━\u001b[0m \u001b[32m0.0/115.1 kB\u001b[0m \u001b[31m?\u001b[0m eta \u001b[36m-:--:--\u001b[0m\r\u001b[2K     \u001b[91m━━━━━━━━━━━━━━━━━━━━━━━━━━━━━━━━━━━━━━\u001b[0m\u001b[90m╺\u001b[0m \u001b[32m112.6/115.1 kB\u001b[0m \u001b[31m5.9 MB/s\u001b[0m eta \u001b[36m0:00:01\u001b[0m\r\u001b[2K     \u001b[90m━━━━━━━━━━━━━━━━━━━━━━━━━━━━━━━━━━━━━━━\u001b[0m \u001b[32m115.1/115.1 kB\u001b[0m \u001b[31m2.7 MB/s\u001b[0m eta \u001b[36m0:00:00\u001b[0m\n",
            "\u001b[?25h  Preparing metadata (setup.py) ... \u001b[?25l\u001b[?25hdone\n",
            "Requirement already satisfied: pandas in /usr/local/lib/python3.10/dist-packages (from pandas_ta) (1.5.3)\n",
            "Requirement already satisfied: python-dateutil>=2.8.1 in /usr/local/lib/python3.10/dist-packages (from pandas->pandas_ta) (2.8.2)\n",
            "Requirement already satisfied: pytz>=2020.1 in /usr/local/lib/python3.10/dist-packages (from pandas->pandas_ta) (2022.7.1)\n",
            "Requirement already satisfied: numpy>=1.21.0 in /usr/local/lib/python3.10/dist-packages (from pandas->pandas_ta) (1.22.4)\n",
            "Requirement already satisfied: six>=1.5 in /usr/local/lib/python3.10/dist-packages (from python-dateutil>=2.8.1->pandas->pandas_ta) (1.16.0)\n",
            "Building wheels for collected packages: pandas_ta\n",
            "  Building wheel for pandas_ta (setup.py) ... \u001b[?25l\u001b[?25hdone\n",
            "  Created wheel for pandas_ta: filename=pandas_ta-0.3.14b0-py3-none-any.whl size=218908 sha256=03045e5278915f0f68ee70d84a91097db4fa2cac7f0378e0208d0bf3b9483c80\n",
            "  Stored in directory: /root/.cache/pip/wheels/69/00/ac/f7fa862c34b0e2ef320175100c233377b4c558944f12474cf0\n",
            "Successfully built pandas_ta\n",
            "Installing collected packages: pandas_ta\n",
            "Successfully installed pandas_ta-0.3.14b0\n",
            "Collecting neat-python\n",
            "  Downloading neat_python-0.92-py3-none-any.whl (44 kB)\n",
            "\u001b[2K     \u001b[90m━━━━━━━━━━━━━━━━━━━━━━━━━━━━━━━━━━━━━━━━\u001b[0m \u001b[32m44.2/44.2 kB\u001b[0m \u001b[31m4.2 MB/s\u001b[0m eta \u001b[36m0:00:00\u001b[0m\n",
            "\u001b[?25hInstalling collected packages: neat-python\n",
            "Successfully installed neat-python-0.92\n"
          ]
        }
      ],
      "source": [
        "!pip install pandas_ta\n",
        "!pip install neat-python"
      ]
    },
    {
      "cell_type": "code",
      "execution_count": 3,
      "id": "miWCZf2oFpcR",
      "metadata": {
        "colab": {
          "base_uri": "https://localhost:8080/"
        },
        "id": "miWCZf2oFpcR",
        "outputId": "47bbb45d-8dda-4661-cea4-188f2b4a7ba7"
      },
      "outputs": [
        {
          "output_type": "stream",
          "name": "stdout",
          "text": [
            "Mounted at /content/drive\n"
          ]
        }
      ],
      "source": [
        "from google.colab import drive\n",
        "drive.mount('/content/drive')"
      ]
    },
    {
      "cell_type": "code",
      "source": [
        "use_collab = True\n",
        "if use_collab:\n",
        "  csv_dir = '/content/drive/MyDrive/eurusd_hour.csv'\n",
        "  config_dir = '/content/drive/MyDrive/config-feedforward'\n",
        "else:\n",
        "  csv_dir = '/tmp/eurusd_hour.csv'\n",
        "  config_dir = '/tmp/config-feedforward'"
      ],
      "metadata": {
        "id": "kOBwh_Ak7CPj"
      },
      "id": "kOBwh_Ak7CPj",
      "execution_count": 4,
      "outputs": []
    },
    {
      "cell_type": "code",
      "execution_count": 5,
      "id": "e20611bc",
      "metadata": {
        "id": "e20611bc"
      },
      "outputs": [],
      "source": [
        "import pandas as pd\n",
        "import numpy as np\n",
        "import pandas_ta as ta\n",
        "import matplotlib.pyplot as plt\n",
        "import random\n",
        "import neat\n",
        "import string"
      ]
    },
    {
      "cell_type": "code",
      "execution_count": 6,
      "id": "212d34b5",
      "metadata": {
        "id": "212d34b5"
      },
      "outputs": [],
      "source": [
        "def get_relative_change(df, column_name):\n",
        "    relative_changes = []\n",
        "    for i in range(len(df)):\n",
        "        if i == 0:\n",
        "            relative_changes.append(0)  # First element has no previous value\n",
        "        else:\n",
        "            relative_change = (df.iloc[i] - df.iloc[i-1]) / df.iloc[i-1]\n",
        "            relative_changes.append(relative_change)\n",
        "    return pd.DataFrame({column_name: relative_changes})"
      ]
    },
    {
      "cell_type": "code",
      "execution_count": 7,
      "id": "05d26c1a",
      "metadata": {
        "id": "05d26c1a"
      },
      "outputs": [],
      "source": [
        "df = pd.read_csv(csv_dir)\n",
        "close = df['AC']\n",
        "open = df['AO']\n",
        "high = df['AH']\n",
        "low = df['AL']\n"
      ]
    },
    {
      "cell_type": "code",
      "execution_count": 8,
      "id": "YBtoWOp_O6Aj",
      "metadata": {
        "colab": {
          "base_uri": "https://localhost:8080/",
          "height": 465
        },
        "id": "YBtoWOp_O6Aj",
        "outputId": "8fc55b62-a870-43e8-b777-41d4110260b0"
      },
      "outputs": [
        {
          "output_type": "execute_result",
          "data": {
            "text/plain": [
              "[<matplotlib.lines.Line2D at 0x78ba51d35630>,\n",
              " <matplotlib.lines.Line2D at 0x78ba51d35690>]"
            ]
          },
          "metadata": {},
          "execution_count": 8
        },
        {
          "output_type": "display_data",
          "data": {
            "text/plain": [
              "<Figure size 640x480 with 1 Axes>"
            ],
            "image/png": "[encoded data removed]"
          },
          "metadata": {}
        }
      ],
      "source": [
        "close_np = close.to_numpy()\n",
        "\n",
        "\n",
        "# Calculate the rolling velocity\n",
        "RSI = ta.rsi(close,10,scalar=1)\n",
        "ROC = ta.roc(close,8,scalar=50)\n",
        "CHANGE = get_relative_change(close,\"Change\")\n",
        "\n",
        "INDICATORS = pd.concat([ROC,RSI,CHANGE],axis=1)\n",
        "\n",
        "INDICATORS = INDICATORS.dropna(axis=0)\n",
        "INDICATORS = INDICATORS.reset_index()\n",
        "INDICATORS.pop('index')\n",
        "\n",
        "change = INDICATORS.pop('Change')\n",
        "INDICATORS = INDICATORS.to_numpy()\n",
        "change = change.to_numpy()\n",
        "change_dev = change.std()\n",
        "change = change/change_dev\n",
        "\n",
        "\n",
        "plt.plot(INDICATORS)"
      ]
    },
    {
      "cell_type": "code",
      "execution_count": 9,
      "id": "QnFXPxVa2abH",
      "metadata": {
        "id": "QnFXPxVa2abH"
      },
      "outputs": [],
      "source": [
        "def softmax(x):\n",
        "    y = np.exp(x - np.max(x))\n",
        "    f_x = y / np.sum(np.exp(x))\n",
        "    return f_x"
      ]
    },
    {
      "cell_type": "code",
      "execution_count": 10,
      "id": "Q18nGgFtNBWw",
      "metadata": {
        "id": "Q18nGgFtNBWw"
      },
      "outputs": [],
      "source": [
        "def clamp(num, min_value, max_value):\n",
        "    return max(min(num, max_value), min_value)"
      ]
    },
    {
      "cell_type": "code",
      "execution_count": 11,
      "id": "SKotFGJi2x1W",
      "metadata": {
        "colab": {
          "base_uri": "https://localhost:8080/"
        },
        "id": "SKotFGJi2x1W",
        "outputId": "9f3c6d39-c84d-4398-c3f8-3d6f14bcb1b3"
      },
      "outputs": [
        {
          "output_type": "stream",
          "name": "stdout",
          "text": [
            "2\n"
          ]
        }
      ],
      "source": [
        "outputs = [.6,.7,.8,.10]\n",
        "action = outputs[:3]\n",
        "maxed = np.argmax(action)\n",
        "print(maxed)"
      ]
    },
    {
      "cell_type": "code",
      "execution_count": 40,
      "id": "YWTte4CrHRfs",
      "metadata": {
        "id": "YWTte4CrHRfs"
      },
      "outputs": [],
      "source": [
        "def run_env_loop(net,rand,debug):\n",
        "    trade_info = np.zeros(4)\n",
        "    returns = np.array([])\n",
        "\n",
        "    trade_timer = 0\n",
        "    trade_value = 0\n",
        "    trade_direction = 0\n",
        "    cash_out_val = 0\n",
        "    acount_bal = 10\n",
        "\n",
        "\n",
        "    for count in range(rand, rand+1000):\n",
        "        outputs = net.activate(INDICATORS[count])\n",
        "        action = np.argmax(outputs)\n",
        "        buy = True if action == 3 else False\n",
        "        sell = True if action == 2 else False\n",
        "        cash_out = True if action == 0 else False\n",
        "        cur_move = change[count]\n",
        "\n",
        "        if buy:\n",
        "          cash_out_val = trade_value\n",
        "          trade_value = cur_move*1\n",
        "          trade_direction = 1\n",
        "          trade_timer = 0\n",
        "        elif sell:\n",
        "          cash_out_val = trade_value\n",
        "          trade_value = cur_move*-1\n",
        "          trade_direction = -1\n",
        "          trade_timer = 0\n",
        "        elif cash_out:\n",
        "          cash_out_val = trade_value\n",
        "          trade_value = 0\n",
        "          trade_direction = 0\n",
        "          trade_timer = 0\n",
        "        else:\n",
        "          trade_value += cur_move*trade_direction\n",
        "          trade_timer += .05\n",
        "\n",
        "\n",
        "        acount_bal += cash_out_val\n",
        "        acount_bal += -.1\n",
        "\n",
        "\n",
        "        trade_info = [trade_value,trade_direction,trade_timer,acount_bal]\n",
        "\n",
        "\n",
        "        if debug:\n",
        "          print(trade_info)\n",
        "\n",
        "        if acount_bal<0:\n",
        "          return count-rand\n",
        "\n",
        "\n",
        "    return count"
      ]
    },
    {
      "cell_type": "code",
      "execution_count": 37,
      "id": "3EdL4e3D5qhC",
      "metadata": {
        "id": "3EdL4e3D5qhC"
      },
      "outputs": [],
      "source": [
        "def eval_genomes(genomes, config):\n",
        "  rand = random.randint(0, 70000)\n",
        "  for genome_id, genome in genomes:\n",
        "    genome.fitness = 0.0\n",
        "    net = neat.nn.FeedForwardNetwork.create(genome, config)\n",
        "    genome.fitness = run_env_loop(net,rand,False)\n"
      ]
    },
    {
      "cell_type": "code",
      "execution_count": 38,
      "id": "3Nsp7PL_6dQq",
      "metadata": {
        "id": "3Nsp7PL_6dQq"
      },
      "outputs": [],
      "source": [
        "config = neat.Config(neat.DefaultGenome, neat.DefaultReproduction,\n",
        "                     neat.DefaultSpeciesSet, neat.DefaultStagnation,\n",
        "                     config_dir)\n",
        "\n",
        "p = neat.Population(config)\n",
        "p.add_reporter(neat.StdOutReporter(False))\n",
        "#p.add_reporter(neat.Checkpointer(100, 100,filename_prefix=\"/content/drive/MyDrive/neat/Neetcheckpoint/\"))"
      ]
    },
    {
      "cell_type": "code",
      "execution_count": 39,
      "id": "br4aNAC4C0KZ",
      "metadata": {
        "colab": {
          "base_uri": "https://localhost:8080/"
        },
        "id": "br4aNAC4C0KZ",
        "outputId": "6b8ffe7d-51e4-429b-da12-10ab766210fa"
      },
      "outputs": [
        {
          "output_type": "stream",
          "name": "stdout",
          "text": [
            "\n",
            " ****** Running generation 0 ****** \n",
            "\n",
            "Population's average fitness: 2475.27333 stdev: 7211.59849\n",
            "Best fitness: 24109.00000 - size: (4, 8) - species 1 - id 1\n",
            "\n",
            "Best individual in generation 0 meets fitness threshold - complexity: (4, 8)\n"
          ]
        }
      ],
      "source": [
        "winner = p.run(eval_genomes,100)"
      ]
    },
    {
      "cell_type": "code",
      "execution_count": 34,
      "id": "2tuvznklKBwd",
      "metadata": {
        "id": "2tuvznklKBwd"
      },
      "outputs": [],
      "source": [
        "net = neat.nn.FeedForwardNetwork.create(winner, config)"
      ]
    },
    {
      "cell_type": "code",
      "execution_count": 35,
      "id": "R7bBWC9jKcAL",
      "metadata": {
        "colab": {
          "base_uri": "https://localhost:8080/"
        },
        "id": "R7bBWC9jKcAL",
        "outputId": "4dab0b94-01a8-4de7-f243-8ee330c2196f"
      },
      "outputs": [
        {
          "output_type": "stream",
          "name": "stdout",
          "text": [
            "[0, 0, 0, 9.9]\n",
            "[0, 0, 0, 9.8]\n",
            "[0, 0, 0, 9.700000000000001]\n",
            "[0, 0, 0, 9.600000000000001]\n",
            "[0, 0, 0, 9.500000000000002]\n",
            "[0, 0, 0, 9.400000000000002]\n",
            "[0, 0, 0, 9.300000000000002]\n",
            "[0, 0, 0, 9.200000000000003]\n",
            "[0, 0, 0, 9.100000000000003]\n",
            "[0, 0, 0, 9.000000000000004]\n",
            "[0, 0, 0, 8.900000000000004]\n",
            "[0, 0, 0, 8.800000000000004]\n",
            "[0, 0, 0, 8.700000000000005]\n",
            "[0, 0, 0, 8.600000000000005]\n",
            "[0, 0, 0, 8.500000000000005]\n",
            "[0, 0, 0, 8.400000000000006]\n",
            "[0, 0, 0, 8.300000000000006]\n",
            "[0, 0, 0, 8.200000000000006]\n",
            "[0, 0, 0, 8.100000000000007]\n",
            "[0, 0, 0, 8.000000000000007]\n",
            "[0, 0, 0, 7.9000000000000075]\n",
            "[0, 0, 0, 7.800000000000008]\n",
            "[0, 0, 0, 7.700000000000008]\n",
            "[0, 0, 0, 7.6000000000000085]\n",
            "[0, 0, 0, 7.500000000000009]\n",
            "[0.6828501019215482, -1, 0, 7.400000000000009]\n",
            "[0, 0, 0, 7.982850101921558]\n",
            "[0, 0, 0, 7.882850101921559]\n",
            "[0.5802996421143313, -1, 0, 7.782850101921559]\n",
            "[0, 0, 0, 8.263149744035891]\n",
            "[0, 0, 0, 8.163149744035891]\n",
            "[0, 0, 0, 8.063149744035892]\n",
            "[0, 0, 0, 7.963149744035892]\n",
            "[0, 0, 0, 7.863149744035892]\n",
            "[0, 0, 0, 7.763149744035893]\n",
            "[0, 0, 0, 7.663149744035893]\n",
            "[0, 0, 0, 7.5631497440358935]\n",
            "[0, 0, 0, 7.463149744035894]\n",
            "[0, 0, 0, 7.363149744035894]\n",
            "[0, 0, 0, 7.2631497440358945]\n",
            "[0, 0, 0, 7.163149744035895]\n",
            "[0, 0, 0, 7.063149744035895]\n",
            "[0, 0, 0, 6.963149744035896]\n",
            "[0, 0, 0, 6.863149744035896]\n",
            "[0, 0, 0, 6.763149744035896]\n",
            "[0, 0, 0, 6.663149744035897]\n",
            "[0, 0, 0, 6.563149744035897]\n",
            "[0, 0, 0, 6.463149744035897]\n",
            "[0, 0, 0, 6.363149744035898]\n",
            "[0, 0, 0, 6.263149744035898]\n",
            "[0, 0, 0, 6.163149744035898]\n",
            "[0, 0, 0, 6.063149744035899]\n",
            "[0, 0, 0, 5.963149744035899]\n",
            "[0, 0, 0, 5.8631497440358995]\n",
            "[0, 0, 0, 5.7631497440359]\n",
            "[0, 0, 0, 5.6631497440359]\n",
            "[0, 0, 0, 5.563149744035901]\n",
            "[0, 0, 0, 5.463149744035901]\n",
            "[0, 0, 0, 5.363149744035901]\n",
            "[0, 0, 0, 5.263149744035902]\n",
            "[0, 0, 0, 5.163149744035902]\n",
            "[0, 0, 0, 5.063149744035902]\n",
            "[0, 0, 0, 4.963149744035903]\n",
            "[0, 0, 0, 4.863149744035903]\n",
            "[0, 0, 0, 4.763149744035903]\n",
            "[0, 0, 0, 4.663149744035904]\n",
            "[0, 0, 0, 4.563149744035904]\n",
            "[0.29255177859006204, -1, 0, 4.4631497440359045]\n",
            "[0, 0, 0, 4.655701522625967]\n",
            "[0, 0, 0, 4.555701522625967]\n",
            "[0, 0, 0, 4.455701522625968]\n",
            "[0.5706489924244508, -1, 0, 4.355701522625968]\n",
            "[0, 0, 0, 4.826350515050419]\n",
            "[0.8630970193526352, -1, 0, 4.726350515050419]\n",
            "[0.6370215857839604, -1, 0, 5.489447534403054]\n",
            "[-0.5276000808242604, -1, 0, 6.0264691201870155]\n",
            "[0, 0, 0, 5.398869039362755]\n",
            "[0.6588584379846434, -1, 0, 5.2988690393627556]\n",
            "[0.7619596533827718, -1, 0, 5.8577274773473995]\n",
            "[0.7626682248977742, -1, 0, 6.519687130730172]\n",
            "[0.17616418049717789, -1, 0, 7.182355355627946]\n",
            "[-0.24961954057323807, -1, 0, 7.2585195361251245]\n",
            "[2.1798366385464982, -1, 0, 6.908899995551887]\n",
            "[-0.1177452328672074, -1, 0, 8.988736634098386]\n",
            "[-0.18395051684088953, -1, 0, 8.770991401231178]\n",
            "[-0.22069112058136267, -1, 0, 8.48704088439029]\n",
            "[0.1323790501943161, -1, 0, 8.166349763808928]\n",
            "[-0.02206673686444204, -1, 0, 8.198728814003244]\n",
            "[-0.08090919153493072, -1, 0, 8.076662077138803]\n",
            "[0.44127932902512185, -1, 0, 7.895752885603872]\n",
            "[0, 0, 0, 8.237032214628995]\n",
            "[0.21326014729291265, -1, 0, 8.137032214628995]\n",
            "[0.32365127952017714, -1, 0, 8.250292361921908]\n",
            "[-0.11773783760587073, -1, 0, 8.473943641442085]\n",
            "[0.4193808403430226, -1, 0, 8.256205803836215]\n",
            "[0.8244681614751724, -1, 0, 8.575586644179237]\n",
            "[-0.48633621678639455, -1, 0, 9.30005480565441]\n",
            "[0.11046545265187449, -1, 0, 8.713718588868016]\n",
            "[0.5524016674705308, -1, 0, 8.72418404151989]\n",
            "[-0.3685159929475732, -1, 0, 9.176585708990421]\n",
            "[0.7219669395539579, -1, 0, 8.708069716042848]\n",
            "[0, 0, 0, 9.330036655596807]\n",
            "[0, 0, 0, 9.230036655596807]\n",
            "[0, 0, 0, 9.130036655596808]\n",
            "[0, 0, 0, 9.030036655596808]\n",
            "[0, 0, 0, 8.930036655596808]\n",
            "[0, 0, 0, 8.830036655596809]\n",
            "[0, 0, 0, 8.730036655596809]\n",
            "[0, 0, 0, 8.63003665559681]\n",
            "[0.02947042086675115, -1, 0, 8.53003665559681]\n",
            "[0.11788591954942795, -1, 0, 8.459507076463561]\n",
            "[0.00736892918246579, -1, 0, 8.47739299601299]\n",
            "[0, 0, 0, 8.384761925195455]\n",
            "[0, 0, 0, 8.284761925195456]\n",
            "[0, 0, 0, 8.184761925195456]\n",
            "[0, 0, 0, 8.084761925195457]\n",
            "[0, 0, 0, 7.984761925195457]\n",
            "[0, 0, 0, 7.884761925195457]\n",
            "[0, 0, 0, 7.784761925195458]\n",
            "[0, 0, 0, 7.684761925195458]\n",
            "[0, 0, 0, 7.584761925195458]\n",
            "[0, 0, 0, 7.484761925195459]\n",
            "[0, 0, 0, 7.384761925195459]\n",
            "[0, 0, 0, 7.284761925195459]\n",
            "[0, 0, 0, 7.18476192519546]\n",
            "[5.197970112140831, -1, 0, 7.08476192519546]\n",
            "[2.4416848421687267, -1, 0, 12.182732037336292]\n",
            "[-1.4842278144735026, -1, 0, 14.524416879505019]\n",
            "[-0.6741037019113502, -1, 0, 12.940189065031516]\n",
            "[-0.6291401853352605, -1, 0, 12.166085363120166]\n",
            "[-0.399382684346008, -1, 0, 11.436945177784905]\n",
            "[0.17741701788585743, -1, 0, 10.937562493438897]\n",
            "[0.24400118371104462, -1, 0, 11.014979511324755]\n",
            "[0, 0, 0, 11.158980695035801]\n",
            "[0, 0, 0, 11.058980695035801]\n",
            "[0, 0, 0, 10.958980695035802]\n",
            "[0, 0, 0, 10.858980695035802]\n",
            "[0.25148585068728324, -1, 0, 10.758980695035802]\n",
            "[0, 0, 0, 10.910466545723086]\n",
            "[0, 0, 0, 10.810466545723086]\n",
            "[0, 0, 0, 10.710466545723087]\n",
            "[0, 0, 0, 10.610466545723087]\n",
            "[0, 0, 0, 10.510466545723087]\n",
            "[0.9461302865599992, -1, 0, 10.410466545723088]\n",
            "[0, 0, 0, 11.256596832283087]\n",
            "[0, 0, 0, 11.156596832283087]\n",
            "[0, 0, 0, 11.056596832283088]\n",
            "[0.7984989359472888, -1, 0, 10.956596832283088]\n",
            "[-0.2590249957648144, -1, 0, 11.655095768230376]\n",
            "[-0.14796755023399635, -1, 0, 11.296070772465562]\n",
            "[0.9468214968024511, -1, 0, 11.048103222231566]\n",
            "[-0.007405592508103509, -1, 0, 11.894924719034018]\n",
            "[-0.19254366658761773, -1, 0, 11.787519126525915]\n",
            "[-0.06663408696001405, -1, 0, 11.494975459938297]\n",
            "[-0.273917880008908, -1, 0, 11.328341372978283]\n",
            "[0, 0, 0, 10.954423492969376]\n",
            "[0, 0, 0, 10.854423492969376]\n",
            "[0, 0, 0, 10.754423492969376]\n",
            "[0, 0, 0, 10.654423492969377]\n",
            "[0, 0, 0, 10.554423492969377]\n",
            "[0, 0, 0, 10.454423492969378]\n",
            "[0, 0, 0, 10.354423492969378]\n",
            "[0.7249429009801075, -1, 0, 10.254423492969378]\n",
            "[0, 0, 0, 10.879366393949486]\n",
            "[0, 0, 0, 10.779366393949486]\n",
            "[0, 0, 0, 10.679366393949486]\n",
            "[0.5105571340064082, -1, 0, 10.579366393949487]\n",
            "[0.17029172307234655, -1, 0, 10.989923527955895]\n",
            "[-0.23697682041550422, -1, 0, 11.060215251028241]\n",
            "[0, 0, 0, 10.723238430612737]\n",
            "[0, 0, 0, 10.623238430612737]\n",
            "[0, 0, 0, 10.523238430612738]\n",
            "[0, 0, 0, 10.423238430612738]\n",
            "[0, 0, 0, 10.323238430612738]\n",
            "[0, 0, 0, 10.223238430612739]\n",
            "[0, 0, 0, 10.123238430612739]\n",
            "[0, 0, 0, 10.02323843061274]\n",
            "[0, 0, 0, 9.92323843061274]\n",
            "[0, 0, 0, 9.82323843061274]\n",
            "[0, 0, 0, 9.72323843061274]\n",
            "[0, 0, 0, 9.62323843061274]\n",
            "[0, 0, 0, 9.523238430612741]\n",
            "[0, 0, 0, 9.423238430612741]\n",
            "[0, 0, 0, 9.323238430612742]\n",
            "[0, 0, 0, 9.223238430612742]\n",
            "[0, 0, 0, 9.123238430612743]\n",
            "[0, 0, 0, 9.023238430612743]\n",
            "[0, 0, 0, 8.923238430612743]\n",
            "[0, 0, 0, 8.823238430612744]\n",
            "[0, 0, 0, 8.723238430612744]\n",
            "[0, 0, 0, 8.623238430612744]\n",
            "[0, 0, 0, 8.523238430612745]\n",
            "[0, 0, 0, 8.423238430612745]\n",
            "[0, 0, 0, 8.323238430612745]\n",
            "[0, 0, 0, 8.223238430612746]\n",
            "[0, 0, 0, 8.123238430612746]\n",
            "[0, 0, 0, 8.023238430612746]\n",
            "[0, 0, 0, 7.923238430612747]\n",
            "[0, 0, 0, 7.823238430612747]\n",
            "[0, 0, 0, 7.7232384306127475]\n",
            "[0, 0, 0, 7.623238430612748]\n",
            "[0, 0, 0, 7.523238430612748]\n",
            "[0, 0, 0, 7.423238430612749]\n",
            "[0, 0, 0, 7.323238430612749]\n",
            "[0, 0, 0, 7.223238430612749]\n",
            "[0, 0, 0, 7.12323843061275]\n",
            "[0, 0, 0, 7.02323843061275]\n",
            "[0, 0, 0, 6.92323843061275]\n",
            "[0, 0, 0, 6.823238430612751]\n",
            "[0, 0, 0, 6.723238430612751]\n",
            "[0, 0, 0, 6.623238430612751]\n",
            "[0, 0, 0, 6.523238430612752]\n",
            "[0, 0, 0, 6.423238430612752]\n",
            "[0, 0, 0, 6.3232384306127525]\n",
            "[0.2863872619408916, -1, 0, 6.223238430612753]\n",
            "[-0.1909915348506039, -1, 0, 6.409625692553645]\n",
            "[1.314597117205112, -1, 0, 6.118634157703041]\n",
            "[0.3825072587502609, -1, 0, 7.333231274908154]\n",
            "[-0.17662418872148206, -1, 0, 7.615738533658415]\n",
            "[-0.13979737589196148, -1, 0, 7.339114344936933]\n",
            "[0.07356502657820493, -1, 0, 7.099316969044971]\n",
            "[0, 0, 0, 7.0728819956231765]\n",
            "[0, 0, 0, 6.972881995623177]\n",
            "[0, 0, 0, 6.872881995623177]\n",
            "[0, 0, 0, 6.772881995623178]\n",
            "[0, 0, 0, 6.672881995623178]\n",
            "[1.2862457534150165, -1, 0, 6.572881995623178]\n",
            "[-0.21348411179486293, -1, 0, 7.759127749038195]\n",
            "[0.13983250180637924, -1, 0, 7.445643637243332]\n",
            "[0.2944344153743417, -1, 0, 7.4854761390497115]\n",
            "[-0.4049927169345489, -1, 0, 7.679910554424054]\n",
            "[0.22815595569916916, -1, 0, 7.174917837489505]\n",
            "[0.08098109338570691, -1, 0, 7.303073793188674]\n",
            "[0.2650552048456062, -1, 0, 7.284054886574381]\n",
            "[0, 0, 0, 7.449110091419988]\n",
            "[0, 0, 0, 7.3491100914199885]\n",
            "[0, 0, 0, 7.249110091419989]\n",
            "[0, 0, 0, 7.149110091419989]\n",
            "[0, 0, 0, 7.04911009141999]\n",
            "[0, 0, 0, 6.94911009141999]\n",
            "[0, 0, 0, 6.84911009141999]\n",
            "[0, 0, 0, 6.749110091419991]\n",
            "[0, 0, 0, 6.649110091419991]\n",
            "[0, 0, 0, 6.549110091419991]\n",
            "[0, 0, 0, 6.449110091419992]\n",
            "[0, 0, 0, 6.349110091419992]\n",
            "[0, 0, 0, 6.249110091419992]\n",
            "[0, 0, 0, 6.149110091419993]\n",
            "[0, 0, 0, 6.049110091419993]\n",
            "[0, 0, 0, 5.9491100914199935]\n",
            "[0, 0, 0, 5.849110091419994]\n",
            "[0, 0, 0, 5.749110091419994]\n",
            "[0, 0, 0, 5.6491100914199945]\n",
            "[-0.3600229773067252, -1, 0, 5.549110091419995]\n",
            "[-0.18360459347191652, -1, 0, 5.08908711411327]\n",
            "[0.4846076367290746, -1, 0, 4.805482520641354]\n",
            "[0, 0, 0, 5.190090157370428]\n",
            "[0.6610830950124009, -1, 0, 5.090090157370429]\n",
            "[0.01470258674113851, -1, 0, 5.65117325238283]\n",
            "[0, 0, 0, 5.565875839123969]\n",
            "[0, 0, 0, 5.465875839123969]\n",
            "[0, 0, 0, 5.365875839123969]\n",
            "[0, 0, 0, 5.26587583912397]\n",
            "[0, 0, 0, 5.16587583912397]\n",
            "[0, 0, 0, 5.06587583912397]\n",
            "[0, 0, 0, 4.965875839123971]\n",
            "[0, 0, 0, 4.865875839123971]\n",
            "[0, 0, 0, 4.7658758391239715]\n",
            "[0, 0, 0, 4.665875839123972]\n",
            "[0, 0, 0, 4.565875839123972]\n",
            "[0, 0, 0, 4.465875839123973]\n",
            "[0, 0, 0, 4.365875839123973]\n",
            "[0, 0, 0, 4.265875839123973]\n",
            "[0, 0, 0, 4.165875839123974]\n",
            "[0, 0, 0, 4.065875839123974]\n",
            "[0, 0, 0, 3.965875839123974]\n",
            "[0, 0, 0, 3.865875839123974]\n",
            "[0, 0, 0, 3.7658758391239737]\n",
            "[0, 0, 0, 3.6658758391239736]\n",
            "[0, 0, 0, 3.5658758391239735]\n",
            "[0, 0, 0, 3.4658758391239735]\n",
            "[0, 0, 0, 3.3658758391239734]\n",
            "[0, 0, 0, 3.2658758391239733]\n",
            "[0, 0, 0, 3.165875839123973]\n",
            "[0, 0, 0, 3.065875839123973]\n",
            "[0, 0, 0, 2.965875839123973]\n",
            "[0, 0, 0, 2.865875839123973]\n",
            "[0, 0, 0, 2.765875839123973]\n",
            "[0, 0, 0, 2.6658758391239727]\n",
            "[0, 0, 0, 2.5658758391239727]\n",
            "[0, 0, 0, 2.4658758391239726]\n",
            "[0, 0, 0, 2.3658758391239725]\n",
            "[0, 0, 0, 2.2658758391239724]\n",
            "[0, 0, 0, 2.1658758391239723]\n",
            "[0, 0, 0, 2.065875839123972]\n",
            "[0, 0, 0, 1.9658758391239721]\n",
            "[0, 0, 0, 1.865875839123972]\n",
            "[0, 0, 0, 1.765875839123972]\n",
            "[0, 0, 0, 1.6658758391239719]\n",
            "[0, 0, 0, 1.5658758391239718]\n",
            "[0, 0, 0, 1.4658758391239717]\n",
            "[0, 0, 0, 1.3658758391239716]\n",
            "[0, 0, 0, 1.2658758391239715]\n",
            "[0, 0, 0, 1.1658758391239714]\n",
            "[0, 0, 0, 1.0658758391239713]\n",
            "[0, 0, 0, 0.9658758391239713]\n",
            "[0, 0, 0, 0.8658758391239714]\n",
            "[0, 0, 0, 0.7658758391239714]\n",
            "[0, 0, 0, 0.6658758391239714]\n",
            "[0, 0, 0, 0.5658758391239714]\n",
            "[0, 0, 0, 0.46587583912397146]\n",
            "[0.21841462137928588, -1, 0, 0.3658758391239715]\n",
            "[0, 0, 0, 0.4842904605032574]\n",
            "[0.9532530374770617, -1, 0, 0.38429046050325744]\n",
            "[0, 0, 0, 1.237543497980319]\n",
            "[0, 0, 0, 1.137543497980319]\n",
            "[0, 0, 0, 1.0375434979803189]\n",
            "[0, 0, 0, 0.9375434979803189]\n",
            "[0, 0, 0, 0.8375434979803189]\n",
            "[0, 0, 0, 0.7375434979803189]\n",
            "[0, 0, 0, 0.637543497980319]\n",
            "[0, 0, 0, 0.537543497980319]\n",
            "[0, 0, 0, 0.437543497980319]\n",
            "[0, 0, 0, 0.337543497980319]\n",
            "[0, 0, 0, 0.237543497980319]\n",
            "[0, 0, 0, 0.137543497980319]\n",
            "[0, 0, 0, 0.037543497980319]\n",
            "[0, 0, 0, -0.062456502019681004]\n"
          ]
        },
        {
          "output_type": "execute_result",
          "data": {
            "text/plain": [
              "70327"
            ]
          },
          "metadata": {},
          "execution_count": 35
        }
      ],
      "source": [
        "run_env_loop(net,70000,True)"
      ]
    },
    {
      "cell_type": "code",
      "execution_count": null,
      "id": "a4a86486",
      "metadata": {
        "id": "a4a86486"
      },
      "outputs": [],
      "source": [
        "\n",
        "\n",
        "def get_weights(connections, node_name,letter):\n",
        "    node_weight = \"\"\n",
        "\n",
        "    for key, value in connections.items():\n",
        "        if value.enabled:\n",
        "            if node_name == letter[value.key[1]]:\n",
        "                if value.key[0] < 0:\n",
        "                    from_node_name = \"P\" + str(value.key[0] * -1)\n",
        "                    weight = value.weight\n",
        "                else:\n",
        "                    from_node_name = letter[value.key[0]]\n",
        "                    weight = value.weight\n",
        "                node_weight = node_weight + from_node_name + \" * \" + str(weight) + \" + \"\n",
        "\n",
        "\n",
        "    return(node_weight)\n",
        "\n",
        "\n",
        "\n"
      ]
    },
    {
      "cell_type": "code",
      "execution_count": null,
      "id": "e94bb624",
      "metadata": {
        "id": "e94bb624"
      },
      "outputs": [],
      "source": [
        "nodes = winner.nodes\n",
        "conec = winner.connections\n",
        "node_list = []\n",
        "letter_dict = dict()\n",
        "count = 0\n",
        "\n",
        "\n",
        "\n",
        "for index, node in nodes.items():\n",
        "    letter_dict[index] = string.ascii_uppercase[count]\n",
        "    count += 1\n",
        "\n",
        "for index, node in nodes.items():\n",
        "    node_name = letter_dict[index]\n",
        "    activation = node.activation\n",
        "    bias = str(node.bias) + \")\"\n",
        "    front = node_name + \" = \" + activation + \"(\"\n",
        "    weights = get_weights(conec,node_name,letter_dict)\n",
        "    node_list.append((front+weights+bias))\n",
        "\n",
        "node_list.reverse()\n",
        "\n",
        "\n",
        "\n",
        "\n"
      ]
    },
    {
      "cell_type": "code",
      "source": [
        "print(winner)"
      ],
      "metadata": {
        "colab": {
          "base_uri": "https://localhost:8080/"
        },
        "id": "OIGwDl5WSkV8",
        "outputId": "c5fa181f-72f1-4df4-f0a6-800f504ef608"
      },
      "id": "OIGwDl5WSkV8",
      "execution_count": null,
      "outputs": [
        {
          "output_type": "stream",
          "name": "stdout",
          "text": [
            "Key: 7604\n",
            "Fitness: 39.5992013093501\n",
            "Nodes:\n",
            "\t0 DefaultNodeGene(key=0, bias=0.040860372320391844, response=1.0, activation=identity, aggregation=sum)\n",
            "\t1 DefaultNodeGene(key=1, bias=-2.4304265398230833, response=1.0, activation=abs, aggregation=sum)\n",
            "\t603 DefaultNodeGene(key=603, bias=-0.7377609977359878, response=1.0, activation=abs, aggregation=sum)\n",
            "\t606 DefaultNodeGene(key=606, bias=1.6444411532967487, response=1.0, activation=identity, aggregation=sum)\n",
            "\t607 DefaultNodeGene(key=607, bias=0.8025720723073365, response=1.0, activation=abs, aggregation=sum)\n",
            "\t608 DefaultNodeGene(key=608, bias=-0.9721775320973074, response=1.0, activation=abs, aggregation=sum)\n",
            "\t611 DefaultNodeGene(key=611, bias=1.7225460985763466, response=1.0, activation=abs, aggregation=sum)\n",
            "\t2990 DefaultNodeGene(key=2990, bias=-0.3179116165217865, response=1.0, activation=relu, aggregation=sum)\n",
            "\t3041 DefaultNodeGene(key=3041, bias=0.5474211028748757, response=1.0, activation=relu, aggregation=sum)\n",
            "Connections:\n",
            "\tDefaultConnectionGene(key=(-2, 603), weight=0.8517532705477244, enabled=True)\n",
            "\tDefaultConnectionGene(key=(-2, 606), weight=1.1191686921634076, enabled=True)\n",
            "\tDefaultConnectionGene(key=(-2, 607), weight=0.46884834168093004, enabled=True)\n",
            "\tDefaultConnectionGene(key=(-2, 608), weight=2.752470078657781, enabled=True)\n",
            "\tDefaultConnectionGene(key=(-2, 2990), weight=0.37733104827453345, enabled=True)\n",
            "\tDefaultConnectionGene(key=(-1, 0), weight=-5.332177219676623, enabled=True)\n",
            "\tDefaultConnectionGene(key=(-1, 1), weight=1.4149285592498657, enabled=True)\n",
            "\tDefaultConnectionGene(key=(-1, 603), weight=0.6320701976923242, enabled=True)\n",
            "\tDefaultConnectionGene(key=(-1, 606), weight=1.2576114959745008, enabled=False)\n",
            "\tDefaultConnectionGene(key=(-1, 608), weight=-1.4579051637165548, enabled=False)\n",
            "\tDefaultConnectionGene(key=(-1, 3041), weight=1.9319062315476767, enabled=True)\n",
            "\tDefaultConnectionGene(key=(1, 606), weight=1.6536591788097703, enabled=True)\n",
            "\tDefaultConnectionGene(key=(606, 603), weight=-0.7749555067716818, enabled=True)\n",
            "\tDefaultConnectionGene(key=(607, 0), weight=1.270890340140378, enabled=False)\n",
            "\tDefaultConnectionGene(key=(607, 1), weight=-1.447717383921146, enabled=True)\n",
            "\tDefaultConnectionGene(key=(608, 1), weight=-1.5838456978397466, enabled=True)\n",
            "\tDefaultConnectionGene(key=(611, 607), weight=-2.1194013010028017, enabled=True)\n",
            "\tDefaultConnectionGene(key=(2990, 606), weight=3.9513831135425113, enabled=True)\n",
            "\tDefaultConnectionGene(key=(2990, 3041), weight=0.8415230280414117, enabled=True)\n",
            "\tDefaultConnectionGene(key=(3041, 608), weight=0.6381712072630762, enabled=True)\n"
          ]
        }
      ]
    },
    {
      "cell_type": "code",
      "source": [
        "for item in node_list:\n",
        "       print(item)"
      ],
      "metadata": {
        "colab": {
          "base_uri": "https://localhost:8080/"
        },
        "id": "pRBI2A7HMO7P",
        "outputId": "0078e4a5-63f5-4ec4-f177-3e1bf2a593ce"
      },
      "id": "pRBI2A7HMO7P",
      "execution_count": null,
      "outputs": [
        {
          "output_type": "stream",
          "name": "stdout",
          "text": [
            "I = relu(P1 * 1.9319062315476767 + H * 0.8415230280414117 + 0.5474211028748757)\n",
            "H = relu(P2 * 0.37733104827453345 + -0.3179116165217865)\n",
            "G = abs(1.7225460985763466)\n",
            "F = abs(P2 * 2.752470078657781 + I * 0.6381712072630762 + -0.9721775320973074)\n",
            "E = abs(G * -2.1194013010028017 + P2 * 0.46884834168093004 + 0.8025720723073365)\n",
            "D = identity(P2 * 1.1191686921634076 + H * 3.9513831135425113 + B * 1.6536591788097703 + 1.6444411532967487)\n",
            "C = abs(P1 * 0.6320701976923242 + P2 * 0.8517532705477244 + D * -0.7749555067716818 + -0.7377609977359878)\n",
            "B = abs(E * -1.447717383921146 + F * -1.5838456978397466 + P1 * 1.4149285592498657 + -2.4304265398230833)\n",
            "A = identity(P1 * -5.332177219676623 + 0.040860372320391844)\n"
          ]
        }
      ]
    }
  ],
  "metadata": {
    "colab": {
      "provenance": []
    },
    "kernelspec": {
      "display_name": "Python 3 (ipykernel)",
      "language": "python",
      "name": "python3"
    },
    "language_info": {
      "codemirror_mode": {
        "name": "ipython",
        "version": 3
      },
      "file_extension": ".py",
      "mimetype": "text/x-python",
      "name": "python",
      "nbconvert_exporter": "python",
      "pygments_lexer": "ipython3",
      "version": "3.8.10"
    }
  },
  "nbformat": 4,
  "nbformat_minor": 5
}