{
  "cells": [
    {
      "cell_type": "markdown",
      "metadata": {
        "id": "view-in-github",
        "colab_type": "text"
      },
      "source": [
        "<a href=\"https://colab.research.google.com/github/aetev/Learning-stuff-/blob/main/CNN%20dist%20alt.ipynb\" target=\"_parent\"><img src=\"https://colab.research.google.com/assets/colab-badge.svg\" alt=\"Open In Colab\"/></a>"
      ]
    },
    {
      "cell_type": "code",
      "source": [
        "pip install pandas-ta"
      ],
      "metadata": {
        "colab": {
          "base_uri": "https://localhost:8080/"
        },
        "id": "YLWTR54-Kzpa",
        "outputId": "18d19ece-69f5-47b9-afab-6f50bbfc9787"
      },
      "execution_count": 1,
      "outputs": [
        {
          "output_type": "stream",
          "name": "stdout",
          "text": [
            "Requirement already satisfied: pandas-ta in /usr/local/lib/python3.10/dist-packages (0.3.14b0)\n",
            "Requirement already satisfied: pandas in /usr/local/lib/python3.10/dist-packages (from pandas-ta) (1.5.3)\n",
            "Requirement already satisfied: python-dateutil>=2.8.1 in /usr/local/lib/python3.10/dist-packages (from pandas->pandas-ta) (2.8.2)\n",
            "Requirement already satisfied: pytz>=2020.1 in /usr/local/lib/python3.10/dist-packages (from pandas->pandas-ta) (2023.3)\n",
            "Requirement already satisfied: numpy>=1.21.0 in /usr/local/lib/python3.10/dist-packages (from pandas->pandas-ta) (1.23.5)\n",
            "Requirement already satisfied: six>=1.5 in /usr/local/lib/python3.10/dist-packages (from python-dateutil>=2.8.1->pandas->pandas-ta) (1.16.0)\n"
          ]
        }
      ]
    },
    {
      "cell_type": "code",
      "source": [
        "import tensorflow as tf\n",
        "import tensorflow_probability as tfp\n",
        "import pandas_ta as ta\n",
        "import numpy as np\n",
        "import pandas as pd\n",
        "from tensorflow.keras.layers import Conv1D, MaxPooling1D, Flatten, Dropout, Dense\n",
        "import matplotlib.pyplot as plt\n",
        "from sklearn.preprocessing import MinMaxScaler\n",
        "from tensorflow.keras import backend as K\n",
        "from tensorflow.keras import layers\n",
        "from tensorflow.keras.initializers import GlorotUniform"
      ],
      "metadata": {
        "id": "8hGeXgH3K47X"
      },
      "execution_count": 2,
      "outputs": []
    },
    {
      "cell_type": "code",
      "source": [
        "from google.colab import drive\n",
        "drive.mount('/content/drive')"
      ],
      "metadata": {
        "colab": {
          "base_uri": "https://localhost:8080/"
        },
        "id": "y_j5mmfFLmEK",
        "outputId": "dee24281-5ee8-4d6d-f97e-270bb8055a9d"
      },
      "execution_count": 3,
      "outputs": [
        {
          "output_type": "stream",
          "name": "stdout",
          "text": [
            "Drive already mounted at /content/drive; to attempt to forcibly remount, call drive.mount(\"/content/drive\", force_remount=True).\n"
          ]
        }
      ]
    },
    {
      "cell_type": "code",
      "source": [
        "df = pd.read_csv(\"/content/drive/MyDrive/eurusd_hour.csv\")\n",
        "print(df)"
      ],
      "metadata": {
        "colab": {
          "base_uri": "https://localhost:8080/"
        },
        "id": "O6SjDX46LslY",
        "outputId": "d9419472-fce4-4554-a398-54d4adf0d218"
      },
      "execution_count": 4,
      "outputs": [
        {
          "output_type": "stream",
          "name": "stdout",
          "text": [
            "             Date   Time       BO       BH       BL       BC      BCh  \\\n",
            "0      2005-05-02  00:00  1.28520  1.28520  1.28400  1.28440 -0.00080   \n",
            "1      2005-05-02  01:00  1.28440  1.28480  1.28390  1.28420 -0.00020   \n",
            "2      2005-05-02  02:00  1.28430  1.28540  1.28410  1.28510  0.00080   \n",
            "3      2005-05-02  03:00  1.28510  1.28590  1.28500  1.28510  0.00000   \n",
            "4      2005-05-02  04:00  1.28520  1.28590  1.28490  1.28550  0.00030   \n",
            "...           ...    ...      ...      ...      ...      ...      ...   \n",
            "93079  2020-04-29  18:00  1.08620  1.08851  1.08611  1.08713  0.00093   \n",
            "93080  2020-04-29  19:00  1.08711  1.08823  1.08659  1.08748  0.00037   \n",
            "93081  2020-04-29  20:00  1.08747  1.08788  1.08691  1.08708 -0.00039   \n",
            "93082  2020-04-29  21:00  1.08708  1.08740  1.08699  1.08714  0.00006   \n",
            "93083  2020-04-29  22:00  1.08728  1.08760  1.08727  1.08743  0.00015   \n",
            "\n",
            "            AO       AH       AL       AC      ACh  \n",
            "0      1.28540  1.28540  1.28420  1.28460 -0.00080  \n",
            "1      1.28460  1.28500  1.28410  1.28440 -0.00020  \n",
            "2      1.28450  1.28560  1.28430  1.28530  0.00080  \n",
            "3      1.28530  1.28610  1.28520  1.28530  0.00000  \n",
            "4      1.28540  1.28610  1.28510  1.28570  0.00030  \n",
            "...        ...      ...      ...      ...      ...  \n",
            "93079  1.08660  1.08865  1.08640  1.08726  0.00066  \n",
            "93080  1.08725  1.08837  1.08675  1.08760  0.00035  \n",
            "93081  1.08758  1.08810  1.08706  1.08808  0.00050  \n",
            "93082  1.08808  1.08814  1.08763  1.08766 -0.00042  \n",
            "93083  1.08756  1.08779  1.08749  1.08760  0.00004  \n",
            "\n",
            "[93084 rows x 12 columns]\n"
          ]
        }
      ]
    },
    {
      "cell_type": "code",
      "source": [
        "Date = pd.DataFrame()\n",
        "new = pd.DataFrame()\n",
        "\n",
        "new['Date'] = pd.to_datetime(df['Date'])\n",
        "new['Time'] = pd.to_datetime(df['Time'])\n",
        "\n",
        "Date['day'] = new['Date'].dt.day\n",
        "Date['month'] = new['Date'].dt.month\n",
        "Date['weekday'] = new['Date'].dt.weekday\n",
        "Date['hour_of_day'] = new['Time'].dt.hour\n",
        "\n",
        "scaler = MinMaxScaler(feature_range=(-1, 1))\n",
        "\n",
        "# Scale each column individually\n",
        "for column in Date.columns:\n",
        "    Date[column] = scaler.fit_transform(Date[[column]])\n",
        "\n",
        "\n",
        "print(Date.shape)"
      ],
      "metadata": {
        "colab": {
          "base_uri": "https://localhost:8080/"
        },
        "id": "v4qN8rJ4Ksiw",
        "outputId": "e468a1ef-38a2-47da-b142-c16affbc03d3"
      },
      "execution_count": 5,
      "outputs": [
        {
          "output_type": "stream",
          "name": "stdout",
          "text": [
            "(93084, 4)\n"
          ]
        }
      ]
    },
    {
      "cell_type": "code",
      "source": [
        "change = df['ACh']\n",
        "change.name = 'change'\n",
        "target = df['ACh'].shift(-3)\n",
        "target.name = 'target'\n",
        "\n",
        "combined_series = pd.concat([change, target,Date], axis=1)\n",
        "combined_series = combined_series.dropna(axis=0)\n",
        "\n",
        "target = combined_series.pop('target')\n",
        "Change = combined_series\n",
        "\n",
        "target = target.values\n",
        "\n",
        "print(Change.shape)"
      ],
      "metadata": {
        "colab": {
          "base_uri": "https://localhost:8080/"
        },
        "id": "sjgCzgWEMTNW",
        "outputId": "e0ef2277-fc75-42b0-c317-be2dcf271d78"
      },
      "execution_count": 6,
      "outputs": [
        {
          "output_type": "stream",
          "name": "stdout",
          "text": [
            "(93081, 5)\n"
          ]
        }
      ]
    },
    {
      "cell_type": "code",
      "source": [
        "def reshape_time_series(data, window_length, stride):\n",
        "    num_windows = (len(data) - window_length) // stride + 1\n",
        "    sliding_windows = np.lib.stride_tricks.sliding_window_view(data, window_shape=(window_length,))\n",
        "    reshaped_data = sliding_windows[:num_windows * stride:stride]\n",
        "\n",
        "    return reshaped_data"
      ],
      "metadata": {
        "id": "gjUSljTyZNub"
      },
      "execution_count": 7,
      "outputs": []
    },
    {
      "cell_type": "code",
      "source": [
        "def reshape_time_series_2(data, window_length, stride):\n",
        "    # Calculate the number of windows\n",
        "    num_windows = (len(data) - window_length) // stride + 1\n",
        "\n",
        "    # Create sliding windows\n",
        "    sliding_windows = np.lib.stride_tricks.sliding_window_view(data, window_shape=(window_length, 5))\n",
        "\n",
        "    # Reshape the data\n",
        "    reshaped_data = sliding_windows[:num_windows * stride:stride]\n",
        "    reshaped_data = reshaped_data.reshape((num_windows, window_length, 5))\n",
        "\n",
        "    return reshaped_data"
      ],
      "metadata": {
        "id": "DOXJ_uwHMh0W"
      },
      "execution_count": 8,
      "outputs": []
    },
    {
      "cell_type": "code",
      "source": [
        "\n",
        "Change_win = reshape_time_series_2(Change,100,1)\n",
        "np.set_printoptions(suppress=True)\n",
        "\n",
        "# Get the desired shape from the second array\n",
        "desired_shape = Change_win.shape[0]\n",
        "\n",
        "# Slice the first array to match the desired shape\n",
        "target_adju = target[:desired_shape]\n",
        "\n",
        "\n",
        "print(target_adju.shape)\n",
        "print(Change_win.shape)\n"
      ],
      "metadata": {
        "colab": {
          "base_uri": "https://localhost:8080/"
        },
        "id": "B-8H_PExeSm-",
        "outputId": "8f2ada77-258c-432a-d043-de62ecb24ccc"
      },
      "execution_count": 9,
      "outputs": [
        {
          "output_type": "stream",
          "name": "stdout",
          "text": [
            "(92982,)\n",
            "(92982, 100, 5)\n"
          ]
        }
      ]
    },
    {
      "cell_type": "code",
      "source": [
        "def my_dist(params):\n",
        "    return tfp.distributions.Normal(loc=params[:,0:1], scale=1e-3 + tf.math.softplus(0.05 * params[:,1:2]))"
      ],
      "metadata": {
        "id": "O3UqzLyolS4x"
      },
      "execution_count": 10,
      "outputs": []
    },
    {
      "cell_type": "code",
      "source": [
        "class NormalDistributionRegularizer(tf.keras.regularizers.Regularizer):\n",
        "    def __init__(self, strength=.00001):\n",
        "        self.strength = strength\n",
        "\n",
        "    def __call__(self, x):\n",
        "        return self.strength * (\n",
        "            tf.reduce_sum(tf.square(tf.abs(x) - 0.5))\n",
        "        )"
      ],
      "metadata": {
        "id": "_F3f6GGjKEUo"
      },
      "execution_count": 54,
      "outputs": []
    },
    {
      "cell_type": "code",
      "source": [
        "class NormalDistributionRegularizer(tf.keras.regularizers.Regularizer):\n",
        "    def __init__(self, strength=.00001):\n",
        "        self.strength = strength\n",
        "\n",
        "    def __call__(self, x):\n",
        "        return self.strength * (\n",
        "            tf.reduce_sum(tf.abs(x) - 0.5)\n",
        "        )"
      ],
      "metadata": {
        "id": "risvlCpLfnh1"
      },
      "execution_count": 63,
      "outputs": []
    },
    {
      "cell_type": "code",
      "source": [
        "input_length = 100\n",
        "input_channels = 5\n",
        "dropout_rate = .2\n",
        "\n",
        "model = tf.keras.Sequential([\n",
        "    layers.Conv1D(filters=64, kernel_size=3, strides=2, activation='LeakyReLU', input_shape=(input_length, input_channels), kernel_regularizer=NormalDistributionRegularizer(), kernel_initializer=GlorotUniform()),\n",
        "    layers.Dropout(rate=dropout_rate),\n",
        "    layers.Conv1D(filters=64, kernel_size=3, strides=2, activation='LeakyReLU', kernel_regularizer=NormalDistributionRegularizer(), kernel_initializer=GlorotUniform()),\n",
        "    layers.Dropout(rate=dropout_rate),\n",
        "    layers.Conv1D(filters=64, kernel_size=3, strides=2, activation='LeakyReLU', kernel_regularizer=NormalDistributionRegularizer(), kernel_initializer=GlorotUniform()),\n",
        "    layers.Dropout(rate=dropout_rate),\n",
        "    layers.Conv1D(filters=64, kernel_size=3, strides=2, activation='LeakyReLU', kernel_regularizer=NormalDistributionRegularizer(), kernel_initializer=GlorotUniform()),\n",
        "    layers.Flatten(),\n",
        "    layers.Dropout(rate=dropout_rate),\n",
        "    layers.Dense(units=128, activation='LeakyReLU', kernel_regularizer=NormalDistributionRegularizer(), kernel_initializer=GlorotUniform()),\n",
        "    layers.Dropout(rate=dropout_rate),\n",
        "    layers.Dense(units=64, activation='LeakyReLU', kernel_regularizer=NormalDistributionRegularizer(), kernel_initializer=GlorotUniform()),\n",
        "    layers.Dropout(rate=dropout_rate),\n",
        "    layers.Dense(units=2, activation='linear', kernel_initializer=GlorotUniform()),  # 2 units for mean and variance\n",
        "    tfp.layers.DistributionLambda(my_dist)\n",
        "])\n",
        "def NLL(y_true, distr):\n",
        "    return -distr.log_prob(y_true)\n",
        "\n"
      ],
      "metadata": {
        "id": "pDD3qFXlftJG"
      },
      "execution_count": 64,
      "outputs": []
    },
    {
      "cell_type": "code",
      "source": [
        "def negative_log_likelihood(y_true, y_pred):\n",
        "  return -tf.reduce_mean(y_pred.log_prob(y_true))\n",
        "model.compile(optimizer='adam', loss=negative_log_likelihood)"
      ],
      "metadata": {
        "id": "UJ1HhtwtkH7R"
      },
      "execution_count": 65,
      "outputs": []
    },
    {
      "cell_type": "code",
      "source": [
        "num_epochs = 10000\n",
        "model.fit(x=Change_win, y=target_adju,batch_size=64, epochs=num_epochs)"
      ],
      "metadata": {
        "colab": {
          "base_uri": "https://localhost:8080/"
        },
        "id": "PcWkCY9eg56b",
        "outputId": "045bda27-2ba9-44f2-efd4-5852bc6f2573"
      },
      "execution_count": null,
      "outputs": [
        {
          "output_type": "stream",
          "name": "stdout",
          "text": [
            "Epoch 1/10000\n"
          ]
        }
      ]
    },
    {
      "cell_type": "code",
      "source": [
        "pred = model.predict(Change_win)"
      ],
      "metadata": {
        "id": "wlONRRHfmljj"
      },
      "execution_count": null,
      "outputs": []
    },
    {
      "cell_type": "code",
      "source": [
        "plt.plot(pred)\n",
        "plt.xlim(50200,50400)\n",
        "plt.ylim(-.02,.02)\n",
        "plt.plot(target)"
      ],
      "metadata": {
        "id": "QuT6vN56mylL"
      },
      "execution_count": null,
      "outputs": []
    },
    {
      "cell_type": "code",
      "source": [
        "weights = model.get_weights()"
      ],
      "metadata": {
        "id": "O282QMOjkL8s"
      },
      "execution_count": 58,
      "outputs": []
    },
    {
      "cell_type": "code",
      "source": [
        "print(weights[0][2][0])\n",
        "data = weights[0][2][0]\n",
        "# Plot the distribution\n",
        "plt.hist(data, bins=50, density=True, alpha=0.7, color='blue')\n",
        "\n",
        "# Add labels and title\n",
        "plt.xlabel('Value')\n",
        "plt.ylabel('Density')\n",
        "plt.title('Distribution Graph')\n",
        "\n",
        "# Show the plot\n",
        "plt.show()"
      ],
      "metadata": {
        "colab": {
          "base_uri": "https://localhost:8080/",
          "height": 663
        },
        "id": "4_cAPXhYkdim",
        "outputId": "55c8dde9-ad70-4d4e-b1af-71d0d6cd4fc7"
      },
      "execution_count": 62,
      "outputs": [
        {
          "output_type": "stream",
          "name": "stdout",
          "text": [
            "[ 0.28131062  0.2899721   0.28323722  0.26330176 -0.25066468  0.38699982\n",
            "  0.39578173  0.41427746  0.16837595  0.27822205 -0.33828536  0.34778377\n",
            "  0.3806222   0.222693    0.31707427  0.3597571   0.4278619  -0.30188882\n",
            " -0.37362683 -0.24223119  0.2564867  -0.29715425 -0.3543962   0.2048534\n",
            " -0.32782468  0.30744606  0.30209473  0.39683092  0.35560298  0.28870752\n",
            " -0.30838388 -0.26078492  0.3549577  -0.43558526 -0.28709581 -0.3071425\n",
            " -0.3217763  -0.3029503  -0.32421932 -0.25043204  0.29996273  0.30985436\n",
            " -0.2914108  -0.25289255 -0.21854706  0.33826968  0.3225912   0.34115377\n",
            " -0.23629992 -0.2842597   0.34015727 -0.29302132 -0.3580392  -0.34144363\n",
            "  0.26574337  0.3226332   0.32036155  0.3075126  -0.31905663 -0.271482\n",
            " -0.2810996  -0.30844173  0.39455205 -0.3593225 ]\n"
          ]
        },
        {
          "output_type": "display_data",
          "data": {
            "text/plain": [
              "<Figure size 640x480 with 1 Axes>"
            ],
            "image/png": "[encoded data removed]"
          },
          "metadata": {}
        }
      ]
    }
  ],
  "metadata": {
    "colab": {
      "name": "Welcome To Colaboratory",
      "provenance": [],
      "include_colab_link": true
    },
    "kernelspec": {
      "display_name": "Python 3",
      "name": "python3"
    }
  },
  "nbformat": 4,
  "nbformat_minor": 0
}