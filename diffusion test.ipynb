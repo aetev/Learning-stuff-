{
  "cells": [
    {
      "cell_type": "markdown",
      "metadata": {
        "id": "view-in-github",
        "colab_type": "text"
      },
      "source": [
        "<a href=\"https://colab.research.google.com/github/aetev/Learning-stuff-/blob/main/diffusion%20test.ipynb\" target=\"_parent\"><img src=\"https://colab.research.google.com/assets/colab-badge.svg\" alt=\"Open In Colab\"/></a>"
      ]
    },
    {
      "cell_type": "code",
      "source": [
        "import tensorflow as tf\n",
        "import pandas as pd\n",
        "import numpy as np\n",
        "from tensorflow.keras import layers\n",
        "import matplotlib.pyplot as plt\n"
      ],
      "metadata": {
        "id": "llS7WvoKxbC9"
      },
      "execution_count": 21,
      "outputs": []
    },
    {
      "cell_type": "code",
      "source": [
        "# Load the MNIST dataset\n",
        "(x_train, y_train), (x_test, y_test) = tf.keras.datasets.mnist.load_data()\n",
        "x_train = x_train/255"
      ],
      "metadata": {
        "id": "Gsh17mg1xn7H"
      },
      "execution_count": 2,
      "outputs": []
    },
    {
      "cell_type": "code",
      "source": [
        "def model():\n",
        "\n",
        "    input_noise = layers.Input(shape=(28,28,1))\n",
        "    input_digit = layers.Input(shape=(1,))\n",
        "    digit = layers.Embedding(100, 100)(input_digit)\n",
        "    digit = layers.Dense(28*28*7)(digit)\n",
        "    digit = layers.Reshape((28,28,7))(digit)\n",
        "\n",
        "    x = layers.concatenate([input_noise, digit])\n",
        "\n",
        "    x = layers.Conv2D(64,3,2,padding='same',activation='LeakyReLU')(x)\n",
        "\n",
        "    x = layers.BatchNormalization()(x)\n",
        "\n",
        "    x = layers.Conv2D(64,3,2,padding='same',activation='LeakyReLU')(x)\n",
        "\n",
        "    x = layers.BatchNormalization()(x)\n",
        "\n",
        "    x = layers.Conv2DTranspose(64,3,2,padding='same',activation='LeakyReLU')(x)\n",
        "\n",
        "    x = layers.BatchNormalization()(x)\n",
        "    x = layers.Conv2DTranspose(64,3,2,padding='same',activation='LeakyReLU')(x)\n",
        "\n",
        "    x = layers.BatchNormalization()(x)\n",
        "    x = layers.Conv2D(1,3,1,padding='same',activation='sigmoid')(x)\n",
        "\n",
        "    model = tf.keras.models.Model(inputs=([input_noise,input_digit]), outputs=x)\n",
        "    model.summary()\n",
        "    return model"
      ],
      "metadata": {
        "id": "PjH0Usq_2zJ6"
      },
      "execution_count": 96,
      "outputs": []
    },
    {
      "cell_type": "code",
      "source": [
        "generator = model()"
      ],
      "metadata": {
        "colab": {
          "base_uri": "https://localhost:8080/"
        },
        "id": "OiDIm1E73-x1",
        "outputId": "b7058d8b-1fb6-4c3a-cfe4-698312be17ee"
      },
      "execution_count": 98,
      "outputs": [
        {
          "output_type": "stream",
          "name": "stdout",
          "text": [
            "Model: \"model_6\"\n",
            "__________________________________________________________________________________________________\n",
            " Layer (type)                Output Shape                 Param #   Connected to                  \n",
            "==================================================================================================\n",
            " input_24 (InputLayer)       [(None, 1)]                  0         []                            \n",
            "                                                                                                  \n",
            " embedding_10 (Embedding)    (None, 1, 100)               10000     ['input_24[0][0]']            \n",
            "                                                                                                  \n",
            " dense_9 (Dense)             (None, 1, 5488)              554288    ['embedding_10[0][0]']        \n",
            "                                                                                                  \n",
            " input_23 (InputLayer)       [(None, 28, 28, 1)]          0         []                            \n",
            "                                                                                                  \n",
            " reshape_9 (Reshape)         (None, 28, 28, 7)            0         ['dense_9[0][0]']             \n",
            "                                                                                                  \n",
            " concatenate_10 (Concatenat  (None, 28, 28, 8)            0         ['input_23[0][0]',            \n",
            " e)                                                                  'reshape_9[0][0]']           \n",
            "                                                                                                  \n",
            " conv2d_12 (Conv2D)          (None, 14, 14, 64)           4672      ['concatenate_10[0][0]']      \n",
            "                                                                                                  \n",
            " batch_normalization_14 (Ba  (None, 14, 14, 64)           256       ['conv2d_12[0][0]']           \n",
            " tchNormalization)                                                                                \n",
            "                                                                                                  \n",
            " conv2d_13 (Conv2D)          (None, 7, 7, 64)             36928     ['batch_normalization_14[0][0]\n",
            "                                                                    ']                            \n",
            "                                                                                                  \n",
            " batch_normalization_15 (Ba  (None, 7, 7, 64)             256       ['conv2d_13[0][0]']           \n",
            " tchNormalization)                                                                                \n",
            "                                                                                                  \n",
            " conv2d_transpose_8 (Conv2D  (None, 14, 14, 64)           36928     ['batch_normalization_15[0][0]\n",
            " Transpose)                                                         ']                            \n",
            "                                                                                                  \n",
            " batch_normalization_16 (Ba  (None, 14, 14, 64)           256       ['conv2d_transpose_8[0][0]']  \n",
            " tchNormalization)                                                                                \n",
            "                                                                                                  \n",
            " conv2d_transpose_9 (Conv2D  (None, 28, 28, 64)           36928     ['batch_normalization_16[0][0]\n",
            " Transpose)                                                         ']                            \n",
            "                                                                                                  \n",
            " batch_normalization_17 (Ba  (None, 28, 28, 64)           256       ['conv2d_transpose_9[0][0]']  \n",
            " tchNormalization)                                                                                \n",
            "                                                                                                  \n",
            " conv2d_14 (Conv2D)          (None, 28, 28, 1)            577       ['batch_normalization_17[0][0]\n",
            "                                                                    ']                            \n",
            "                                                                                                  \n",
            "==================================================================================================\n",
            "Total params: 681345 (2.60 MB)\n",
            "Trainable params: 680833 (2.60 MB)\n",
            "Non-trainable params: 512 (2.00 KB)\n",
            "__________________________________________________________________________________________________\n"
          ]
        }
      ]
    },
    {
      "cell_type": "code",
      "source": [
        "x_test = tf.expand_dims(x_train,axis = -1)\n",
        "\n",
        "print(x_test.shape)"
      ],
      "metadata": {
        "colab": {
          "base_uri": "https://localhost:8080/"
        },
        "id": "00EqJkvL_fwk",
        "outputId": "4a9d3ad0-9b5f-48b2-e033-af972b1fcc65"
      },
      "execution_count": 17,
      "outputs": [
        {
          "output_type": "stream",
          "name": "stdout",
          "text": [
            "(60000, 28, 28, 1)\n"
          ]
        }
      ]
    },
    {
      "cell_type": "code",
      "source": [
        "noise = tf.random.normal(shape=(10,28,28,1),mean=.5,stddev=1)\n",
        "print(np.max(noise))"
      ],
      "metadata": {
        "colab": {
          "base_uri": "https://localhost:8080/"
        },
        "id": "K8HJwDhYASsq",
        "outputId": "e688f791-e6c0-4e4e-c189-c034b5c5efd9"
      },
      "execution_count": 38,
      "outputs": [
        {
          "output_type": "stream",
          "name": "stdout",
          "text": [
            "4.4295883\n"
          ]
        }
      ]
    },
    {
      "cell_type": "code",
      "source": [
        "def interpolate(array1,array2,factor):\n",
        "  interpolated_array = tf.math.add(\n",
        "    tf.multiply(array1, 1.0 - factor),\n",
        "    tf.multiply(array2, factor))\n",
        "  return interpolated_array"
      ],
      "metadata": {
        "id": "M88aBPX7BQPw"
      },
      "execution_count": 20,
      "outputs": []
    },
    {
      "cell_type": "code",
      "source": [
        "def noised(input,t_steps):\n",
        "  step = np.random.randint(0,t_steps)\n",
        "  noise = tf.random.normal(shape=input.shape,mean=.5,stddev=1)\n",
        "  input_tensor = tf.cast(input,tf.float32)\n",
        "  output = interpolate(noise,input_tensor,step/t_steps)\n",
        "  return output, noise, step"
      ],
      "metadata": {
        "id": "Z1mXNwP4IMgz"
      },
      "execution_count": 40,
      "outputs": []
    },
    {
      "cell_type": "code",
      "source": [
        "output, noise, step = noised(x_test[0:10],100)\n",
        "\n",
        "print(step)\n",
        "plt.imshow(output[0])"
      ],
      "metadata": {
        "colab": {
          "base_uri": "https://localhost:8080/",
          "height": 465
        },
        "id": "gUoRk-81KXOD",
        "outputId": "841e9a79-f313-41d0-8825-c441a4d122ba"
      },
      "execution_count": 67,
      "outputs": [
        {
          "output_type": "stream",
          "name": "stdout",
          "text": [
            "89\n"
          ]
        },
        {
          "output_type": "execute_result",
          "data": {
            "text/plain": [
              "<matplotlib.image.AxesImage at 0x7cb19097d390>"
            ]
          },
          "metadata": {},
          "execution_count": 67
        },
        {
          "output_type": "display_data",
          "data": {
            "text/plain": [
              "<Figure size 640x480 with 1 Axes>"
            ],
            "image/png": "[encoded data removed]"
          },
          "metadata": {}
        }
      ]
    },
    {
      "cell_type": "code",
      "source": [
        "model = generator  # Your diffusion model\n",
        "loss_fn = tf.keras.losses.MeanSquaredError()  # Your loss function\n",
        "optimizer = tf.keras.optimizers.Adam()\n",
        "BATCH_SIZE = 64\n",
        "# Define the training loop\n",
        "@tf.function\n",
        "def train_step(images):\n",
        "    with tf.GradientTape() as tape:\n",
        "        # Add noise to the images\n",
        "        noisy_images,target,step = noised(images, 100)\n",
        "        step = np.full((BATCH_SIZE,1),step)\n",
        "        # Run the diffusion model\n",
        "        predictions = model([noisy_images,step])\n",
        "\n",
        "        # Compute the loss\n",
        "        loss = loss_fn(target, predictions)\n",
        "\n",
        "    # Compute gradients and update the model\n",
        "    gradients = tape.gradient(loss, model.trainable_variables)\n",
        "    optimizer.apply_gradients(zip(gradients, model.trainable_variables))\n",
        "    tf.print(loss)\n",
        "    return loss\n",
        "\n",
        "\n",
        "def train(dataset, epochs):\n",
        "  for epoch in range(epochs):\n",
        "    for batch in range(len(dataset) // BATCH_SIZE):\n",
        "\n",
        "            images = dataset[batch * BATCH_SIZE: (batch+1) * BATCH_SIZE]\n",
        "\n",
        "            train_step(images)\n",
        "\n",
        "    # Save the model every 15 epochs\n",
        "    if (epoch + 1) % 15 == 0:\n",
        "      print(epoch)"
      ],
      "metadata": {
        "id": "ssrmwBJS_N4J"
      },
      "execution_count": 99,
      "outputs": []
    },
    {
      "cell_type": "code",
      "source": [
        "EPOCHS = 100\n",
        "train(x_test, EPOCHS)"
      ],
      "metadata": {
        "colab": {
          "base_uri": "https://localhost:8080/",
          "height": 1000
        },
        "id": "ort-WZV0MEwg",
        "outputId": "8431fb03-68f1-47b3-c6b9-c3c25c90f5f9"
      },
      "execution_count": 100,
      "outputs": [
        {
          "output_type": "stream",
          "name": "stdout",
          "text": [
            "1.00306368\n",
            "1.00382066\n",
            "0.999007761\n",
            "0.994384944\n",
            "0.98710376\n",
            "0.99641031\n",
            "0.993971527\n",
            "0.987966239\n",
            "0.974359632\n",
            "0.976892829\n",
            "0.955513\n",
            "0.961788893\n",
            "0.949433327\n",
            "0.912582815\n",
            "0.909941077\n",
            "0.893640339\n",
            "0.87796092\n",
            "0.860937595\n",
            "0.836916685\n",
            "0.817107618\n",
            "0.803447485\n",
            "0.778338432\n",
            "0.751558721\n",
            "0.738064826\n",
            "0.716620147\n",
            "0.706831038\n",
            "0.699576259\n",
            "0.679675817\n",
            "0.670824647\n",
            "0.661051869\n",
            "0.644106507\n",
            "0.634297788\n",
            "0.627020597\n",
            "0.626283228\n",
            "0.611774564\n",
            "0.614780307\n",
            "0.594410121\n",
            "0.593697906\n",
            "0.579874158\n",
            "0.573668122\n",
            "0.573747158\n",
            "0.565086663\n",
            "0.563782334\n",
            "0.553040087\n",
            "0.555647\n",
            "0.539638519\n",
            "0.529870272\n",
            "0.533735633\n",
            "0.531654477\n",
            "0.525218248\n",
            "0.524626195\n",
            "0.507874131\n",
            "0.50780046\n",
            "0.507492363\n",
            "0.506149232\n",
            "0.500261903\n",
            "0.506504953\n",
            "0.493471116\n",
            "0.487959325\n",
            "0.493787408\n",
            "0.485968113\n",
            "0.485074788\n",
            "0.482787788\n",
            "0.479422122\n",
            "0.477036536\n",
            "0.47375828\n",
            "0.474212795\n",
            "0.467289269\n",
            "0.476883918\n",
            "0.47338748\n",
            "0.467798591\n",
            "0.471266329\n",
            "0.467093408\n",
            "0.46204403\n",
            "0.469511271\n",
            "0.460981786\n",
            "0.467062652\n",
            "0.460593909\n",
            "0.458037972\n",
            "0.465522617\n",
            "0.460636497\n",
            "0.458485276\n",
            "0.457023382\n",
            "0.459331125\n",
            "0.45545283\n",
            "0.461492538\n",
            "0.454255641\n",
            "0.449878842\n",
            "0.449732363\n",
            "0.460524619\n",
            "0.448376596\n",
            "0.450927079\n",
            "0.45812279\n",
            "0.449190408\n",
            "0.451658279\n",
            "0.459334403\n",
            "0.448833\n",
            "0.452294677\n",
            "0.449211031\n",
            "0.446203083\n",
            "0.449979663\n",
            "0.449551404\n",
            "0.44498381\n",
            "0.450115\n",
            "0.449473083\n",
            "0.451335549\n",
            "0.446677268\n",
            "0.448036969\n",
            "0.448115021\n",
            "0.439145\n",
            "0.442465246\n",
            "0.443073273\n",
            "0.444049358\n",
            "0.44216007\n",
            "0.448695898\n",
            "0.447865933\n",
            "0.452618539\n",
            "0.448403895\n",
            "0.44592765\n",
            "0.446027249\n",
            "0.443015128\n",
            "0.443031311\n",
            "0.442771137\n",
            "0.442639321\n",
            "0.445810676\n",
            "0.449556887\n",
            "0.442021668\n",
            "0.440245181\n",
            "0.44028908\n",
            "0.441506684\n",
            "0.433859348\n",
            "0.445674747\n",
            "0.448327035\n",
            "0.448639512\n",
            "0.44026643\n",
            "0.435942352\n",
            "0.437973946\n",
            "0.445460558\n",
            "0.450213671\n",
            "0.446929783\n",
            "0.4447909\n",
            "0.442202538\n",
            "0.4420183\n",
            "0.438616574\n",
            "0.43840608\n",
            "0.446331412\n",
            "0.442496598\n",
            "0.438943595\n",
            "0.443628699\n",
            "0.44112286\n",
            "0.443690538\n",
            "0.44455111\n",
            "0.442878962\n",
            "0.44339\n",
            "0.43693161\n",
            "0.441779494\n",
            "0.442308635\n",
            "0.440776348\n",
            "0.432445437\n",
            "0.436357379\n",
            "0.440219402\n",
            "0.442256331\n",
            "0.441663\n",
            "0.439480305\n",
            "0.439581394\n",
            "0.439805984\n",
            "0.437146544\n",
            "0.440154493\n",
            "0.438612282\n",
            "0.445848584\n",
            "0.446091592\n",
            "0.436229944\n",
            "0.438225806\n",
            "0.434195459\n",
            "0.436915964\n",
            "0.443904847\n",
            "0.439437151\n",
            "0.432706714\n",
            "0.440398067\n",
            "0.435243309\n",
            "0.439960629\n",
            "0.441286594\n",
            "0.441756427\n",
            "0.43266055\n",
            "0.438716531\n",
            "0.437709272\n",
            "0.442768395\n",
            "0.434013277\n",
            "0.43462944\n",
            "0.438197941\n",
            "0.441368729\n",
            "0.435530812\n",
            "0.4414846\n",
            "0.425925732\n",
            "0.439625025\n",
            "0.440084338\n",
            "0.433193803\n",
            "0.432564646\n",
            "0.446156949\n",
            "0.439836472\n",
            "0.438147724\n",
            "0.444251776\n",
            "0.438972324\n",
            "0.432891339\n",
            "0.434913725\n",
            "0.442410767\n",
            "0.442485958\n",
            "0.435652643\n",
            "0.43734625\n",
            "0.433561802\n",
            "0.439105093\n",
            "0.437049985\n",
            "0.437397629\n",
            "0.44268471\n",
            "0.434800386\n",
            "0.433023721\n",
            "0.442193329\n",
            "0.435791939\n",
            "0.437226266\n",
            "0.432218343\n",
            "0.44596535\n",
            "0.436054081\n",
            "0.437895805\n",
            "0.435383886\n",
            "0.437714\n",
            "0.436040789\n",
            "0.439783841\n",
            "0.437673599\n",
            "0.441951245\n",
            "0.435612917\n",
            "0.435815454\n",
            "0.436546743\n",
            "0.436727315\n",
            "0.429778248\n",
            "0.437972248\n",
            "0.432910323\n",
            "0.436627358\n",
            "0.434778064\n",
            "0.431907892\n",
            "0.432565182\n",
            "0.443038702\n",
            "0.43455109\n",
            "0.440431207\n",
            "0.436125845\n",
            "0.43171975\n",
            "0.435963929\n",
            "0.439871043\n",
            "0.433998495\n",
            "0.435111374\n",
            "0.430205494\n",
            "0.429245144\n",
            "0.433565229\n",
            "0.433127254\n",
            "0.436827302\n",
            "0.438213646\n",
            "0.43781805\n",
            "0.435407132\n",
            "0.432005554\n",
            "0.433002889\n",
            "0.432893544\n",
            "0.438578039\n",
            "0.43142429\n",
            "0.430012465\n",
            "0.432567358\n",
            "0.441256762\n",
            "0.436730206\n",
            "0.431568146\n",
            "0.436687201\n",
            "0.439160824\n",
            "0.44361186\n",
            "0.440200686\n",
            "0.428579688\n",
            "0.430944204\n",
            "0.433646619\n",
            "0.434889108\n",
            "0.435681\n",
            "0.428614944\n",
            "0.432812631\n",
            "0.429192126\n",
            "0.427039832\n",
            "0.433998317\n",
            "0.429117709\n",
            "0.44021818\n",
            "0.434461\n",
            "0.430917889\n",
            "0.433993042\n",
            "0.435299039\n",
            "0.439347506\n",
            "0.434759647\n",
            "0.429326773\n",
            "0.430611908\n",
            "0.436078548\n",
            "0.436159551\n",
            "0.443296462\n",
            "0.435876489\n",
            "0.428790569\n",
            "0.436160117\n",
            "0.431962758\n",
            "0.43080309\n",
            "0.429748744\n",
            "0.435270935\n",
            "0.436082631\n",
            "0.437425733\n",
            "0.436234295\n",
            "0.426049203\n",
            "0.437431455\n",
            "0.435728431\n",
            "0.437090397\n",
            "0.434657127\n",
            "0.442068845\n",
            "0.432509214\n",
            "0.439010143\n",
            "0.442329288\n",
            "0.432217181\n",
            "0.433812112\n",
            "0.433582902\n",
            "0.435213596\n",
            "0.432913959\n",
            "0.424585342\n",
            "0.433892071\n",
            "0.433245838\n",
            "0.439014047\n",
            "0.436798394\n",
            "0.42778194\n",
            "0.434240609\n",
            "0.437779\n",
            "0.437089324\n"
          ]
        },
        {
          "output_type": "error",
          "ename": "KeyboardInterrupt",
          "evalue": "ignored",
          "traceback": [
            "\u001b[0;31m---------------------------------------------------------------------------\u001b[0m",
            "\u001b[0;31mKeyboardInterrupt\u001b[0m                         Traceback (most recent call last)",
            "\u001b[0;32m<ipython-input-100-d9343cf0b514>\u001b[0m in \u001b[0;36m<cell line: 2>\u001b[0;34m()\u001b[0m\n\u001b[1;32m      1\u001b[0m \u001b[0mEPOCHS\u001b[0m \u001b[0;34m=\u001b[0m \u001b[0;36m100\u001b[0m\u001b[0;34m\u001b[0m\u001b[0;34m\u001b[0m\u001b[0m\n\u001b[0;32m----> 2\u001b[0;31m \u001b[0mtrain\u001b[0m\u001b[0;34m(\u001b[0m\u001b[0mx_test\u001b[0m\u001b[0;34m,\u001b[0m \u001b[0mEPOCHS\u001b[0m\u001b[0;34m)\u001b[0m\u001b[0;34m\u001b[0m\u001b[0;34m\u001b[0m\u001b[0m\n\u001b[0m",
            "\u001b[0;32m<ipython-input-99-b7f52f38540e>\u001b[0m in \u001b[0;36mtrain\u001b[0;34m(dataset, epochs)\u001b[0m\n\u001b[1;32m     29\u001b[0m             \u001b[0mimages\u001b[0m \u001b[0;34m=\u001b[0m \u001b[0mdataset\u001b[0m\u001b[0;34m[\u001b[0m\u001b[0mbatch\u001b[0m \u001b[0;34m*\u001b[0m \u001b[0mBATCH_SIZE\u001b[0m\u001b[0;34m:\u001b[0m \u001b[0;34m(\u001b[0m\u001b[0mbatch\u001b[0m\u001b[0;34m+\u001b[0m\u001b[0;36m1\u001b[0m\u001b[0;34m)\u001b[0m \u001b[0;34m*\u001b[0m \u001b[0mBATCH_SIZE\u001b[0m\u001b[0;34m]\u001b[0m\u001b[0;34m\u001b[0m\u001b[0;34m\u001b[0m\u001b[0m\n\u001b[1;32m     30\u001b[0m \u001b[0;34m\u001b[0m\u001b[0m\n\u001b[0;32m---> 31\u001b[0;31m             \u001b[0mtrain_step\u001b[0m\u001b[0;34m(\u001b[0m\u001b[0mimages\u001b[0m\u001b[0;34m)\u001b[0m\u001b[0;34m\u001b[0m\u001b[0;34m\u001b[0m\u001b[0m\n\u001b[0m\u001b[1;32m     32\u001b[0m \u001b[0;34m\u001b[0m\u001b[0m\n\u001b[1;32m     33\u001b[0m     \u001b[0;31m# Save the model every 15 epochs\u001b[0m\u001b[0;34m\u001b[0m\u001b[0;34m\u001b[0m\u001b[0m\n",
            "\u001b[0;32m/usr/local/lib/python3.10/dist-packages/tensorflow/python/util/traceback_utils.py\u001b[0m in \u001b[0;36merror_handler\u001b[0;34m(*args, **kwargs)\u001b[0m\n\u001b[1;32m    148\u001b[0m     \u001b[0mfiltered_tb\u001b[0m \u001b[0;34m=\u001b[0m \u001b[0;32mNone\u001b[0m\u001b[0;34m\u001b[0m\u001b[0;34m\u001b[0m\u001b[0m\n\u001b[1;32m    149\u001b[0m     \u001b[0;32mtry\u001b[0m\u001b[0;34m:\u001b[0m\u001b[0;34m\u001b[0m\u001b[0;34m\u001b[0m\u001b[0m\n\u001b[0;32m--> 150\u001b[0;31m       \u001b[0;32mreturn\u001b[0m \u001b[0mfn\u001b[0m\u001b[0;34m(\u001b[0m\u001b[0;34m*\u001b[0m\u001b[0margs\u001b[0m\u001b[0;34m,\u001b[0m \u001b[0;34m**\u001b[0m\u001b[0mkwargs\u001b[0m\u001b[0;34m)\u001b[0m\u001b[0;34m\u001b[0m\u001b[0;34m\u001b[0m\u001b[0m\n\u001b[0m\u001b[1;32m    151\u001b[0m     \u001b[0;32mexcept\u001b[0m \u001b[0mException\u001b[0m \u001b[0;32mas\u001b[0m \u001b[0me\u001b[0m\u001b[0;34m:\u001b[0m\u001b[0;34m\u001b[0m\u001b[0;34m\u001b[0m\u001b[0m\n\u001b[1;32m    152\u001b[0m       \u001b[0mfiltered_tb\u001b[0m \u001b[0;34m=\u001b[0m \u001b[0m_process_traceback_frames\u001b[0m\u001b[0;34m(\u001b[0m\u001b[0me\u001b[0m\u001b[0;34m.\u001b[0m\u001b[0m__traceback__\u001b[0m\u001b[0;34m)\u001b[0m\u001b[0;34m\u001b[0m\u001b[0;34m\u001b[0m\u001b[0m\n",
            "\u001b[0;32m/usr/local/lib/python3.10/dist-packages/tensorflow/python/eager/polymorphic_function/polymorphic_function.py\u001b[0m in \u001b[0;36m__call__\u001b[0;34m(self, *args, **kwds)\u001b[0m\n\u001b[1;32m    823\u001b[0m \u001b[0;34m\u001b[0m\u001b[0m\n\u001b[1;32m    824\u001b[0m       \u001b[0;32mwith\u001b[0m \u001b[0mOptionalXlaContext\u001b[0m\u001b[0;34m(\u001b[0m\u001b[0mself\u001b[0m\u001b[0;34m.\u001b[0m\u001b[0m_jit_compile\u001b[0m\u001b[0;34m)\u001b[0m\u001b[0;34m:\u001b[0m\u001b[0;34m\u001b[0m\u001b[0;34m\u001b[0m\u001b[0m\n\u001b[0;32m--> 825\u001b[0;31m         \u001b[0mresult\u001b[0m \u001b[0;34m=\u001b[0m \u001b[0mself\u001b[0m\u001b[0;34m.\u001b[0m\u001b[0m_call\u001b[0m\u001b[0;34m(\u001b[0m\u001b[0;34m*\u001b[0m\u001b[0margs\u001b[0m\u001b[0;34m,\u001b[0m \u001b[0;34m**\u001b[0m\u001b[0mkwds\u001b[0m\u001b[0;34m)\u001b[0m\u001b[0;34m\u001b[0m\u001b[0;34m\u001b[0m\u001b[0m\n\u001b[0m\u001b[1;32m    826\u001b[0m \u001b[0;34m\u001b[0m\u001b[0m\n\u001b[1;32m    827\u001b[0m       \u001b[0mnew_tracing_count\u001b[0m \u001b[0;34m=\u001b[0m \u001b[0mself\u001b[0m\u001b[0;34m.\u001b[0m\u001b[0mexperimental_get_tracing_count\u001b[0m\u001b[0;34m(\u001b[0m\u001b[0;34m)\u001b[0m\u001b[0;34m\u001b[0m\u001b[0;34m\u001b[0m\u001b[0m\n",
            "\u001b[0;32m/usr/local/lib/python3.10/dist-packages/tensorflow/python/eager/polymorphic_function/polymorphic_function.py\u001b[0m in \u001b[0;36m_call\u001b[0;34m(self, *args, **kwds)\u001b[0m\n\u001b[1;32m    855\u001b[0m       \u001b[0;31m# In this case we have created variables on the first call, so we run the\u001b[0m\u001b[0;34m\u001b[0m\u001b[0;34m\u001b[0m\u001b[0m\n\u001b[1;32m    856\u001b[0m       \u001b[0;31m# defunned version which is guaranteed to never create variables.\u001b[0m\u001b[0;34m\u001b[0m\u001b[0;34m\u001b[0m\u001b[0m\n\u001b[0;32m--> 857\u001b[0;31m       \u001b[0;32mreturn\u001b[0m \u001b[0mself\u001b[0m\u001b[0;34m.\u001b[0m\u001b[0m_no_variable_creation_fn\u001b[0m\u001b[0;34m(\u001b[0m\u001b[0;34m*\u001b[0m\u001b[0margs\u001b[0m\u001b[0;34m,\u001b[0m \u001b[0;34m**\u001b[0m\u001b[0mkwds\u001b[0m\u001b[0;34m)\u001b[0m  \u001b[0;31m# pylint: disable=not-callable\u001b[0m\u001b[0;34m\u001b[0m\u001b[0;34m\u001b[0m\u001b[0m\n\u001b[0m\u001b[1;32m    858\u001b[0m     \u001b[0;32melif\u001b[0m \u001b[0mself\u001b[0m\u001b[0;34m.\u001b[0m\u001b[0m_variable_creation_fn\u001b[0m \u001b[0;32mis\u001b[0m \u001b[0;32mnot\u001b[0m \u001b[0;32mNone\u001b[0m\u001b[0;34m:\u001b[0m\u001b[0;34m\u001b[0m\u001b[0;34m\u001b[0m\u001b[0m\n\u001b[1;32m    859\u001b[0m       \u001b[0;31m# Release the lock early so that multiple threads can perform the call\u001b[0m\u001b[0;34m\u001b[0m\u001b[0;34m\u001b[0m\u001b[0m\n",
            "\u001b[0;32m/usr/local/lib/python3.10/dist-packages/tensorflow/python/eager/polymorphic_function/tracing_compiler.py\u001b[0m in \u001b[0;36m__call__\u001b[0;34m(self, *args, **kwargs)\u001b[0m\n\u001b[1;32m    146\u001b[0m       (concrete_function,\n\u001b[1;32m    147\u001b[0m        filtered_flat_args) = self._maybe_define_function(args, kwargs)\n\u001b[0;32m--> 148\u001b[0;31m     return concrete_function._call_flat(\n\u001b[0m\u001b[1;32m    149\u001b[0m         filtered_flat_args, captured_inputs=concrete_function.captured_inputs)  # pylint: disable=protected-access\n\u001b[1;32m    150\u001b[0m \u001b[0;34m\u001b[0m\u001b[0m\n",
            "\u001b[0;32m/usr/local/lib/python3.10/dist-packages/tensorflow/python/eager/polymorphic_function/monomorphic_function.py\u001b[0m in \u001b[0;36m_call_flat\u001b[0;34m(self, args, captured_inputs)\u001b[0m\n\u001b[1;32m   1347\u001b[0m         and executing_eagerly):\n\u001b[1;32m   1348\u001b[0m       \u001b[0;31m# No tape is watching; skip to running the function.\u001b[0m\u001b[0;34m\u001b[0m\u001b[0;34m\u001b[0m\u001b[0m\n\u001b[0;32m-> 1349\u001b[0;31m       \u001b[0;32mreturn\u001b[0m \u001b[0mself\u001b[0m\u001b[0;34m.\u001b[0m\u001b[0m_build_call_outputs\u001b[0m\u001b[0;34m(\u001b[0m\u001b[0mself\u001b[0m\u001b[0;34m.\u001b[0m\u001b[0m_inference_function\u001b[0m\u001b[0;34m(\u001b[0m\u001b[0;34m*\u001b[0m\u001b[0margs\u001b[0m\u001b[0;34m)\u001b[0m\u001b[0;34m)\u001b[0m\u001b[0;34m\u001b[0m\u001b[0;34m\u001b[0m\u001b[0m\n\u001b[0m\u001b[1;32m   1350\u001b[0m     forward_backward = self._select_forward_and_backward_functions(\n\u001b[1;32m   1351\u001b[0m         \u001b[0margs\u001b[0m\u001b[0;34m,\u001b[0m\u001b[0;34m\u001b[0m\u001b[0;34m\u001b[0m\u001b[0m\n",
            "\u001b[0;32m/usr/local/lib/python3.10/dist-packages/tensorflow/python/eager/polymorphic_function/atomic_function.py\u001b[0m in \u001b[0;36m__call__\u001b[0;34m(self, *args)\u001b[0m\n\u001b[1;32m    194\u001b[0m         \u001b[0;32mwith\u001b[0m \u001b[0mrecord\u001b[0m\u001b[0;34m.\u001b[0m\u001b[0mstop_recording\u001b[0m\u001b[0;34m(\u001b[0m\u001b[0;34m)\u001b[0m\u001b[0;34m:\u001b[0m\u001b[0;34m\u001b[0m\u001b[0;34m\u001b[0m\u001b[0m\n\u001b[1;32m    195\u001b[0m           \u001b[0;32mif\u001b[0m \u001b[0mself\u001b[0m\u001b[0;34m.\u001b[0m\u001b[0m_bound_context\u001b[0m\u001b[0;34m.\u001b[0m\u001b[0mexecuting_eagerly\u001b[0m\u001b[0;34m(\u001b[0m\u001b[0;34m)\u001b[0m\u001b[0;34m:\u001b[0m\u001b[0;34m\u001b[0m\u001b[0;34m\u001b[0m\u001b[0m\n\u001b[0;32m--> 196\u001b[0;31m             outputs = self._bound_context.call_function(\n\u001b[0m\u001b[1;32m    197\u001b[0m                 \u001b[0mself\u001b[0m\u001b[0;34m.\u001b[0m\u001b[0mname\u001b[0m\u001b[0;34m,\u001b[0m\u001b[0;34m\u001b[0m\u001b[0;34m\u001b[0m\u001b[0m\n\u001b[1;32m    198\u001b[0m                 \u001b[0mlist\u001b[0m\u001b[0;34m(\u001b[0m\u001b[0margs\u001b[0m\u001b[0;34m)\u001b[0m\u001b[0;34m,\u001b[0m\u001b[0;34m\u001b[0m\u001b[0;34m\u001b[0m\u001b[0m\n",
            "\u001b[0;32m/usr/local/lib/python3.10/dist-packages/tensorflow/python/eager/context.py\u001b[0m in \u001b[0;36mcall_function\u001b[0;34m(self, name, tensor_inputs, num_outputs)\u001b[0m\n\u001b[1;32m   1455\u001b[0m     \u001b[0mcancellation_context\u001b[0m \u001b[0;34m=\u001b[0m \u001b[0mcancellation\u001b[0m\u001b[0;34m.\u001b[0m\u001b[0mcontext\u001b[0m\u001b[0;34m(\u001b[0m\u001b[0;34m)\u001b[0m\u001b[0;34m\u001b[0m\u001b[0;34m\u001b[0m\u001b[0m\n\u001b[1;32m   1456\u001b[0m     \u001b[0;32mif\u001b[0m \u001b[0mcancellation_context\u001b[0m \u001b[0;32mis\u001b[0m \u001b[0;32mNone\u001b[0m\u001b[0;34m:\u001b[0m\u001b[0;34m\u001b[0m\u001b[0;34m\u001b[0m\u001b[0m\n\u001b[0;32m-> 1457\u001b[0;31m       outputs = execute.execute(\n\u001b[0m\u001b[1;32m   1458\u001b[0m           \u001b[0mname\u001b[0m\u001b[0;34m.\u001b[0m\u001b[0mdecode\u001b[0m\u001b[0;34m(\u001b[0m\u001b[0;34m\"utf-8\"\u001b[0m\u001b[0;34m)\u001b[0m\u001b[0;34m,\u001b[0m\u001b[0;34m\u001b[0m\u001b[0;34m\u001b[0m\u001b[0m\n\u001b[1;32m   1459\u001b[0m           \u001b[0mnum_outputs\u001b[0m\u001b[0;34m=\u001b[0m\u001b[0mnum_outputs\u001b[0m\u001b[0;34m,\u001b[0m\u001b[0;34m\u001b[0m\u001b[0;34m\u001b[0m\u001b[0m\n",
            "\u001b[0;32m/usr/local/lib/python3.10/dist-packages/tensorflow/python/eager/execute.py\u001b[0m in \u001b[0;36mquick_execute\u001b[0;34m(op_name, num_outputs, inputs, attrs, ctx, name)\u001b[0m\n\u001b[1;32m     51\u001b[0m   \u001b[0;32mtry\u001b[0m\u001b[0;34m:\u001b[0m\u001b[0;34m\u001b[0m\u001b[0;34m\u001b[0m\u001b[0m\n\u001b[1;32m     52\u001b[0m     \u001b[0mctx\u001b[0m\u001b[0;34m.\u001b[0m\u001b[0mensure_initialized\u001b[0m\u001b[0;34m(\u001b[0m\u001b[0;34m)\u001b[0m\u001b[0;34m\u001b[0m\u001b[0;34m\u001b[0m\u001b[0m\n\u001b[0;32m---> 53\u001b[0;31m     tensors = pywrap_tfe.TFE_Py_Execute(ctx._handle, device_name, op_name,\n\u001b[0m\u001b[1;32m     54\u001b[0m                                         inputs, attrs, num_outputs)\n\u001b[1;32m     55\u001b[0m   \u001b[0;32mexcept\u001b[0m \u001b[0mcore\u001b[0m\u001b[0;34m.\u001b[0m\u001b[0m_NotOkStatusException\u001b[0m \u001b[0;32mas\u001b[0m \u001b[0me\u001b[0m\u001b[0;34m:\u001b[0m\u001b[0;34m\u001b[0m\u001b[0;34m\u001b[0m\u001b[0m\n",
            "\u001b[0;31mKeyboardInterrupt\u001b[0m: "
          ]
        }
      ]
    },
    {
      "cell_type": "code",
      "source": [
        "current_input = tf.random.normal()\n",
        "for i in range(100)\n",
        "  step = i\n",
        "  noise = model.predict(current_input,step)\n",
        "  current_input = current_input-noise"
      ],
      "metadata": {
        "id": "bpg4-PpIO5ZF"
      },
      "execution_count": null,
      "outputs": []
    }
  ],
  "metadata": {
    "colab": {
      "name": "Overview of Colaboratory Features",
      "provenance": [],
      "include_colab_link": true
    },
    "kernelspec": {
      "display_name": "Python 3",
      "name": "python3"
    }
  },
  "nbformat": 4,
  "nbformat_minor": 0
}