{
  "cells": [
    {
      "cell_type": "markdown",
      "metadata": {
        "id": "view-in-github",
        "colab_type": "text"
      },
      "source": [
        "<a href=\"https://colab.research.google.com/github/aetev/Learning-stuff-/blob/main/diffusion%20test.ipynb\" target=\"_parent\"><img src=\"https://colab.research.google.com/assets/colab-badge.svg\" alt=\"Open In Colab\"/></a>"
      ]
    },
    {
      "cell_type": "code",
      "source": [
        "import tensorflow as tf\n",
        "import pandas as pd\n",
        "import numpy as np\n",
        "from tensorflow.keras import layers\n",
        "import matplotlib.pyplot as plt\n"
      ],
      "metadata": {
        "id": "llS7WvoKxbC9"
      },
      "execution_count": 21,
      "outputs": []
    },
    {
      "cell_type": "code",
      "source": [
        "# Load the MNIST dataset\n",
        "(x_train, y_train), (x_test, y_test) = tf.keras.datasets.mnist.load_data()\n",
        "x_train = x_train/255"
      ],
      "metadata": {
        "id": "Gsh17mg1xn7H"
      },
      "execution_count": 2,
      "outputs": []
    },
    {
      "cell_type": "code",
      "source": [
        "def model():\n",
        "\n",
        "    input_noise = layers.Input(shape=(28,28,1))\n",
        "    input_digit = layers.Input(shape=(1,))\n",
        "    digit = layers.Embedding(1000, 100)(input_digit)\n",
        "    digit = layers.Dense(28*28*7)(digit)\n",
        "    digit = layers.Reshape((28,28,7))(digit)\n",
        "\n",
        "    x = layers.concatenate([input_noise, digit])\n",
        "\n",
        "    x = layers.Conv2D(64,3,2,padding='same',activation='LeakyReLU')(x)\n",
        "\n",
        "    x = layers.BatchNormalization()(x)\n",
        "\n",
        "    x = layers.Conv2DTranspose(64,3,2,padding='same',activation='LeakyReLU')(x)\n",
        "\n",
        "    x = layers.BatchNormalization()(x)\n",
        "\n",
        "    x = layers.Conv2D(1,3,1,padding='same',activation='sigmoid')(x)\n",
        "\n",
        "    model = tf.keras.models.Model(inputs=([input_noise,input_digit]), outputs=x)\n",
        "    model.summary()\n",
        "    return model"
      ],
      "metadata": {
        "id": "PjH0Usq_2zJ6"
      },
      "execution_count": 81,
      "outputs": []
    },
    {
      "cell_type": "code",
      "source": [
        "generator = model()"
      ],
      "metadata": {
        "colab": {
          "base_uri": "https://localhost:8080/"
        },
        "id": "OiDIm1E73-x1",
        "outputId": "eda54dd4-ec86-4e18-8f14-503644a0e9d4"
      },
      "execution_count": 82,
      "outputs": [
        {
          "output_type": "stream",
          "name": "stdout",
          "text": [
            "Model: \"model_4\"\n",
            "__________________________________________________________________________________________________\n",
            " Layer (type)                Output Shape                 Param #   Connected to                  \n",
            "==================================================================================================\n",
            " input_20 (InputLayer)       [(None, 1)]                  0         []                            \n",
            "                                                                                                  \n",
            " embedding_8 (Embedding)     (None, 1, 100)               100000    ['input_20[0][0]']            \n",
            "                                                                                                  \n",
            " dense_7 (Dense)             (None, 1, 5488)              554288    ['embedding_8[0][0]']         \n",
            "                                                                                                  \n",
            " input_19 (InputLayer)       [(None, 28, 28, 1)]          0         []                            \n",
            "                                                                                                  \n",
            " reshape_7 (Reshape)         (None, 28, 28, 7)            0         ['dense_7[0][0]']             \n",
            "                                                                                                  \n",
            " concatenate_8 (Concatenate  (None, 28, 28, 8)            0         ['input_19[0][0]',            \n",
            " )                                                                   'reshape_7[0][0]']           \n",
            "                                                                                                  \n",
            " conv2d_7 (Conv2D)           (None, 14, 14, 64)           4672      ['concatenate_8[0][0]']       \n",
            "                                                                                                  \n",
            " batch_normalization_8 (Bat  (None, 14, 14, 64)           256       ['conv2d_7[0][0]']            \n",
            " chNormalization)                                                                                 \n",
            "                                                                                                  \n",
            " conv2d_transpose_5 (Conv2D  (None, 28, 28, 64)           36928     ['batch_normalization_8[0][0]'\n",
            " Transpose)                                                         ]                             \n",
            "                                                                                                  \n",
            " batch_normalization_9 (Bat  (None, 28, 28, 64)           256       ['conv2d_transpose_5[0][0]']  \n",
            " chNormalization)                                                                                 \n",
            "                                                                                                  \n",
            " conv2d_8 (Conv2D)           (None, 28, 28, 1)            577       ['batch_normalization_9[0][0]'\n",
            "                                                                    ]                             \n",
            "                                                                                                  \n",
            "==================================================================================================\n",
            "Total params: 696977 (2.66 MB)\n",
            "Trainable params: 696721 (2.66 MB)\n",
            "Non-trainable params: 256 (1.00 KB)\n",
            "__________________________________________________________________________________________________\n"
          ]
        }
      ]
    },
    {
      "cell_type": "code",
      "source": [
        "x_test = tf.expand_dims(x_train,axis = -1)\n",
        "\n",
        "print(x_test.shape)"
      ],
      "metadata": {
        "colab": {
          "base_uri": "https://localhost:8080/"
        },
        "id": "00EqJkvL_fwk",
        "outputId": "4a9d3ad0-9b5f-48b2-e033-af972b1fcc65"
      },
      "execution_count": 17,
      "outputs": [
        {
          "output_type": "stream",
          "name": "stdout",
          "text": [
            "(60000, 28, 28, 1)\n"
          ]
        }
      ]
    },
    {
      "cell_type": "code",
      "source": [
        "noise = tf.random.normal(shape=(10,28,28,1),mean=.5,stddev=1)\n",
        "print(np.max(noise))"
      ],
      "metadata": {
        "colab": {
          "base_uri": "https://localhost:8080/"
        },
        "id": "K8HJwDhYASsq",
        "outputId": "e688f791-e6c0-4e4e-c189-c034b5c5efd9"
      },
      "execution_count": 38,
      "outputs": [
        {
          "output_type": "stream",
          "name": "stdout",
          "text": [
            "4.4295883\n"
          ]
        }
      ]
    },
    {
      "cell_type": "code",
      "source": [
        "def interpolate(array1,array2,factor):\n",
        "  interpolated_array = tf.math.add(\n",
        "    tf.multiply(array1, 1.0 - factor),\n",
        "    tf.multiply(array2, factor))\n",
        "  return interpolated_array"
      ],
      "metadata": {
        "id": "M88aBPX7BQPw"
      },
      "execution_count": 20,
      "outputs": []
    },
    {
      "cell_type": "code",
      "source": [
        "tester = tf.cast(x_test[0:10],tf.float32)\n",
        "inter = interpolate(tester,noise,1)\n",
        "plt.imshow(inter[0])"
      ],
      "metadata": {
        "colab": {
          "base_uri": "https://localhost:8080/",
          "height": 447
        },
        "id": "rR-wEV_gF4fh",
        "outputId": "ff9fda10-5570-42b6-eda1-a99f6a767664"
      },
      "execution_count": 35,
      "outputs": [
        {
          "output_type": "execute_result",
          "data": {
            "text/plain": [
              "<matplotlib.image.AxesImage at 0x7cb193656530>"
            ]
          },
          "metadata": {},
          "execution_count": 35
        },
        {
          "output_type": "display_data",
          "data": {
            "text/plain": [
              "<Figure size 640x480 with 1 Axes>"
            ],
            "image/png": "[encoded data removed]"
          },
          "metadata": {}
        }
      ]
    },
    {
      "cell_type": "code",
      "source": [
        "def noised(input,t_steps):\n",
        "  step = np.random.randint(0,t_steps)\n",
        "  noise = tf.random.normal(shape=input.shape,mean=.5,stddev=1)\n",
        "  input_tensor = tf.cast(input,tf.float32)\n",
        "  output = interpolate(noise,input_tensor,step/t_steps)\n",
        "  return output, noise, step"
      ],
      "metadata": {
        "id": "Z1mXNwP4IMgz"
      },
      "execution_count": 40,
      "outputs": []
    },
    {
      "cell_type": "code",
      "source": [
        "output, noise, step = noised(x_test[0:10],100)\n",
        "\n",
        "print(step)\n",
        "plt.imshow(output[0])"
      ],
      "metadata": {
        "colab": {
          "base_uri": "https://localhost:8080/",
          "height": 465
        },
        "id": "gUoRk-81KXOD",
        "outputId": "841e9a79-f313-41d0-8825-c441a4d122ba"
      },
      "execution_count": 67,
      "outputs": [
        {
          "output_type": "stream",
          "name": "stdout",
          "text": [
            "89\n"
          ]
        },
        {
          "output_type": "execute_result",
          "data": {
            "text/plain": [
              "<matplotlib.image.AxesImage at 0x7cb19097d390>"
            ]
          },
          "metadata": {},
          "execution_count": 67
        },
        {
          "output_type": "display_data",
          "data": {
            "text/plain": [
              "<Figure size 640x480 with 1 Axes>"
            ],
            "image/png": "[encoded data removed]"
          },
          "metadata": {}
        }
      ]
    },
    {
      "cell_type": "code",
      "source": [
        "model = generator  # Your diffusion model\n",
        "loss_fn = tf.keras.losses.MeanSquaredError()  # Your loss function\n",
        "optimizer = tf.keras.optimizers.Adam()\n",
        "BATCH_SIZE = 64\n",
        "# Define the training loop\n",
        "@tf.function\n",
        "def train_step(images):\n",
        "    with tf.GradientTape() as tape:\n",
        "        # Add noise to the images\n",
        "        noisy_images,target,step = noised(images, 100)\n",
        "        step = np.full((BATCH_SIZE,1),step)\n",
        "        # Run the diffusion model\n",
        "        predictions = model([noisy_images,step])\n",
        "\n",
        "        # Compute the loss\n",
        "        loss = loss_fn(target, predictions)\n",
        "\n",
        "    # Compute gradients and update the model\n",
        "    gradients = tape.gradient(loss, model.trainable_variables)\n",
        "    optimizer.apply_gradients(zip(gradients, model.trainable_variables))\n",
        "    tf.print(loss)\n",
        "    return loss\n",
        "\n",
        "\n",
        "def train(dataset, epochs):\n",
        "  for epoch in range(epochs):\n",
        "    for batch in range(len(dataset) // BATCH_SIZE):\n",
        "\n",
        "            images = dataset[batch * BATCH_SIZE: (batch+1) * BATCH_SIZE]\n",
        "\n",
        "            train_step(images)\n",
        "\n",
        "    # Save the model every 15 epochs\n",
        "    if (epoch + 1) % 15 == 0:\n",
        "      print(epoch)"
      ],
      "metadata": {
        "id": "ssrmwBJS_N4J"
      },
      "execution_count": 93,
      "outputs": []
    },
    {
      "cell_type": "code",
      "source": [
        "EPOCHS = 100\n",
        "train(x_test, EPOCHS)"
      ],
      "metadata": {
        "id": "ort-WZV0MEwg",
        "outputId": "977a07ff-b01a-47d7-9805-e53fa55d173d",
        "colab": {
          "base_uri": "https://localhost:8080/"
        }
      },
      "execution_count": null,
      "outputs": [
        {
          "output_type": "stream",
          "name": "stdout",
          "text": [
            "0.467321098\n",
            "0.466886222\n",
            "0.462673336\n",
            "0.456498593\n",
            "0.453833282\n",
            "0.44582814\n",
            "0.447550178\n",
            "0.446572214\n",
            "0.437226057\n",
            "0.442574859\n",
            "0.436497658\n",
            "0.434169\n",
            "0.433958083\n",
            "0.42960006\n",
            "0.433621049\n",
            "0.428848892\n",
            "0.432157874\n",
            "0.435025364\n",
            "0.431204557\n",
            "0.432177395\n",
            "0.4277547\n",
            "0.42691794\n",
            "0.42305094\n",
            "0.428636342\n",
            "0.428146333\n",
            "0.430931389\n",
            "0.426337153\n",
            "0.435153723\n",
            "0.427933335\n",
            "0.430890799\n",
            "0.422182858\n",
            "0.424297452\n",
            "0.430466086\n",
            "0.426623374\n",
            "0.428716809\n",
            "0.429705918\n",
            "0.424237609\n",
            "0.418873221\n",
            "0.427132785\n",
            "0.423906088\n",
            "0.427833974\n",
            "0.425710708\n",
            "0.426674\n",
            "0.431495965\n",
            "0.424073696\n",
            "0.433317691\n",
            "0.418412\n",
            "0.427551419\n",
            "0.424398065\n",
            "0.426882714\n",
            "0.427469671\n",
            "0.419831812\n",
            "0.42269671\n",
            "0.42946586\n",
            "0.421748489\n",
            "0.422810704\n",
            "0.423122376\n",
            "0.427690595\n",
            "0.426036954\n",
            "0.427893877\n",
            "0.420931906\n",
            "0.423984379\n",
            "0.420596838\n",
            "0.428990275\n",
            "0.427406937\n",
            "0.431076676\n",
            "0.422297835\n",
            "0.422210544\n",
            "0.421642\n",
            "0.426842541\n",
            "0.428111255\n",
            "0.424663275\n",
            "0.422886401\n",
            "0.422662318\n",
            "0.430788308\n",
            "0.421230912\n",
            "0.425701618\n",
            "0.428726166\n",
            "0.420565784\n",
            "0.422172695\n",
            "0.432801813\n",
            "0.418594658\n",
            "0.430564076\n",
            "0.41822651\n",
            "0.429508418\n",
            "0.428988159\n",
            "0.424572021\n",
            "0.433924913\n",
            "0.425523758\n",
            "0.421556175\n",
            "0.429106295\n",
            "0.426139057\n",
            "0.424401194\n",
            "0.424594492\n",
            "0.425974637\n",
            "0.425181955\n",
            "0.42596525\n",
            "0.420267522\n",
            "0.423279822\n",
            "0.4237881\n",
            "0.430028379\n",
            "0.427829266\n",
            "0.424549192\n",
            "0.423237622\n",
            "0.432589173\n",
            "0.429337978\n",
            "0.421728015\n",
            "0.431111038\n",
            "0.424899668\n",
            "0.43057555\n",
            "0.42093\n",
            "0.422181189\n",
            "0.422676325\n",
            "0.422530979\n",
            "0.426240951\n",
            "0.429582447\n",
            "0.41924569\n",
            "0.425164759\n",
            "0.418881476\n",
            "0.427715659\n",
            "0.42381227\n",
            "0.429510742\n",
            "0.422973096\n",
            "0.431737125\n",
            "0.430133104\n",
            "0.418893933\n",
            "0.434559494\n",
            "0.430870533\n",
            "0.430564791\n",
            "0.429504782\n",
            "0.43253234\n",
            "0.423634291\n",
            "0.421996206\n",
            "0.423026323\n",
            "0.433010846\n",
            "0.427500516\n",
            "0.422230244\n",
            "0.425013632\n",
            "0.429160535\n"
          ]
        }
      ]
    }
  ],
  "metadata": {
    "colab": {
      "name": "Overview of Colaboratory Features",
      "provenance": [],
      "include_colab_link": true
    },
    "kernelspec": {
      "display_name": "Python 3",
      "name": "python3"
    }
  },
  "nbformat": 4,
  "nbformat_minor": 0
}