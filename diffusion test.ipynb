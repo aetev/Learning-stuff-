{
  "cells": [
    {
      "cell_type": "markdown",
      "metadata": {
        "id": "view-in-github",
        "colab_type": "text"
      },
      "source": [
        "<a href=\"https://colab.research.google.com/github/aetev/Learning-stuff-/blob/main/diffusion%20test.ipynb\" target=\"_parent\"><img src=\"https://colab.research.google.com/assets/colab-badge.svg\" alt=\"Open In Colab\"/></a>"
      ]
    },
    {
      "cell_type": "code",
      "source": [
        "import tensorflow as tf\n",
        "import pandas as pd\n",
        "import numpy as np\n",
        "from tensorflow.keras import layers\n",
        "import matplotlib.pyplot as plt\n"
      ],
      "metadata": {
        "id": "llS7WvoKxbC9"
      },
      "execution_count": 102,
      "outputs": []
    },
    {
      "cell_type": "code",
      "source": [
        "# Load the MNIST dataset\n",
        "(x_train, y_train), (x_test, y_test) = tf.keras.datasets.mnist.load_data()\n",
        "x_train = x_train/255"
      ],
      "metadata": {
        "id": "Gsh17mg1xn7H"
      },
      "execution_count": 103,
      "outputs": []
    },
    {
      "cell_type": "code",
      "source": [
        "class ResNetBlock(layers.Layer):\n",
        "    def __init__(self, num_filters):\n",
        "        super(ResNetBlock, self).__init__()\n",
        "        self.inputConv = layers.Conv2D(num_filters, 1, padding='same')\n",
        "        self.conv1 = layers.Conv2D(num_filters, (3, 3), padding='same',activation='LeakyReLU')\n",
        "        self.bn1 = layers.BatchNormalization()\n",
        "        self.conv2 = layers.Conv2D(num_filters, (3, 3), padding='same',activation='LeakyReLU')\n",
        "        self.bn2 = layers.BatchNormalization()\n",
        "\n",
        "    def call(self, inputs):\n",
        "        inpx = self.inputConv(inputs)\n",
        "        x = self.conv1(inputs)\n",
        "        x = self.bn1(x)\n",
        "        x = self.conv2(x)\n",
        "        x = self.bn2(x)\n",
        "        return layers.add([x, inpx])"
      ],
      "metadata": {
        "id": "JN953KvgtKno"
      },
      "execution_count": 245,
      "outputs": []
    },
    {
      "cell_type": "code",
      "source": [
        "def model():\n",
        "\n",
        "    input_noise = layers.Input(shape=(28,28,1))\n",
        "    input_digit = layers.Input(shape=())\n",
        "    digit = layers.Embedding(100, 100)(input_digit)\n",
        "    digit = layers.Dense(28*28*7)(digit)\n",
        "    digit = layers.Reshape((28,28,7))(digit)\n",
        "\n",
        "    x = layers.concatenate([input_noise, digit])\n",
        "\n",
        "    x = ResNetBlock(64)(x)\n",
        "\n",
        "    x = layers.MaxPool2D(2)(x)\n",
        "\n",
        "    x = ResNetBlock(64)(x)\n",
        "\n",
        "    x = layers.MaxPool2D(2)(x)\n",
        "\n",
        "\n",
        "    x = ResNetBlock(64)(x)\n",
        "    x = layers.UpSampling2D(2)(x)\n",
        "\n",
        "    x = ResNetBlock(64)(x)\n",
        "    x = layers.UpSampling2D(2)(x)\n",
        "\n",
        "    x = layers.BatchNormalization()(x)\n",
        "    x = layers.Conv2D(1,3,1,padding='same',activation='sigmoid')(x)\n",
        "\n",
        "    model = tf.keras.models.Model(inputs=([input_noise,input_digit]), outputs=x)\n",
        "    model.summary()\n",
        "    return model"
      ],
      "metadata": {
        "id": "PjH0Usq_2zJ6"
      },
      "execution_count": 254,
      "outputs": []
    },
    {
      "cell_type": "code",
      "source": [
        "generator = model()"
      ],
      "metadata": {
        "colab": {
          "base_uri": "https://localhost:8080/"
        },
        "id": "OiDIm1E73-x1",
        "outputId": "783832a5-4056-46d5-b9f6-219710669c6e"
      },
      "execution_count": 255,
      "outputs": [
        {
          "output_type": "stream",
          "name": "stdout",
          "text": [
            "Model: \"model_15\"\n",
            "__________________________________________________________________________________________________\n",
            " Layer (type)                Output Shape                 Param #   Connected to                  \n",
            "==================================================================================================\n",
            " input_48 (InputLayer)       [(None,)]                    0         []                            \n",
            "                                                                                                  \n",
            " embedding_22 (Embedding)    (None, 100)                  10000     ['input_48[0][0]']            \n",
            "                                                                                                  \n",
            " dense_21 (Dense)            (None, 5488)                 554288    ['embedding_22[0][0]']        \n",
            "                                                                                                  \n",
            " input_47 (InputLayer)       [(None, 28, 28, 1)]          0         []                            \n",
            "                                                                                                  \n",
            " reshape_21 (Reshape)        (None, 28, 28, 7)            0         ['dense_21[0][0]']            \n",
            "                                                                                                  \n",
            " concatenate_21 (Concatenat  (None, 28, 28, 8)            0         ['input_47[0][0]',            \n",
            " e)                                                                  'reshape_21[0][0]']          \n",
            "                                                                                                  \n",
            " res_net_block_4 (ResNetBlo  (None, 28, 28, 64)           42688     ['concatenate_21[0][0]']      \n",
            " ck)                                                                                              \n",
            "                                                                                                  \n",
            " max_pooling2d_3 (MaxPoolin  (None, 14, 14, 64)           0         ['res_net_block_4[0][0]']     \n",
            " g2D)                                                                                             \n",
            "                                                                                                  \n",
            " res_net_block_5 (ResNetBlo  (None, 14, 14, 64)           78528     ['max_pooling2d_3[0][0]']     \n",
            " ck)                                                                                              \n",
            "                                                                                                  \n",
            " max_pooling2d_4 (MaxPoolin  (None, 7, 7, 64)             0         ['res_net_block_5[0][0]']     \n",
            " g2D)                                                                                             \n",
            "                                                                                                  \n",
            " res_net_block_6 (ResNetBlo  (None, 7, 7, 64)             78528     ['max_pooling2d_4[0][0]']     \n",
            " ck)                                                                                              \n",
            "                                                                                                  \n",
            " up_sampling2d (UpSampling2  (None, 14, 14, 64)           0         ['res_net_block_6[0][0]']     \n",
            " D)                                                                                               \n",
            "                                                                                                  \n",
            " res_net_block_7 (ResNetBlo  (None, 14, 14, 64)           78528     ['up_sampling2d[0][0]']       \n",
            " ck)                                                                                              \n",
            "                                                                                                  \n",
            " up_sampling2d_1 (UpSamplin  (None, 28, 28, 64)           0         ['res_net_block_7[0][0]']     \n",
            " g2D)                                                                                             \n",
            "                                                                                                  \n",
            " batch_normalization_63 (Ba  (None, 28, 28, 64)           256       ['up_sampling2d_1[0][0]']     \n",
            " tchNormalization)                                                                                \n",
            "                                                                                                  \n",
            " conv2d_59 (Conv2D)          (None, 28, 28, 1)            577       ['batch_normalization_63[0][0]\n",
            "                                                                    ']                            \n",
            "                                                                                                  \n",
            "==================================================================================================\n",
            "Total params: 843393 (3.22 MB)\n",
            "Trainable params: 842241 (3.21 MB)\n",
            "Non-trainable params: 1152 (4.50 KB)\n",
            "__________________________________________________________________________________________________\n"
          ]
        }
      ]
    },
    {
      "cell_type": "code",
      "source": [
        "x_test = tf.expand_dims(x_train,axis = -1)\n",
        "\n",
        "print(x_test.shape)"
      ],
      "metadata": {
        "colab": {
          "base_uri": "https://localhost:8080/"
        },
        "id": "00EqJkvL_fwk",
        "outputId": "5b35cc3e-2237-4a17-c510-c80b7237e807"
      },
      "execution_count": 169,
      "outputs": [
        {
          "output_type": "stream",
          "name": "stdout",
          "text": [
            "(60000, 28, 28, 1)\n"
          ]
        }
      ]
    },
    {
      "cell_type": "code",
      "source": [
        "noise = tf.random.normal(shape=(10,28,28,1),mean=.5,stddev=1)\n",
        "print(np.max(noise))"
      ],
      "metadata": {
        "colab": {
          "base_uri": "https://localhost:8080/"
        },
        "id": "K8HJwDhYASsq",
        "outputId": "dbd1811e-8f09-42c6-b7f2-8e0195a339af"
      },
      "execution_count": 107,
      "outputs": [
        {
          "output_type": "stream",
          "name": "stdout",
          "text": [
            "4.014124\n"
          ]
        }
      ]
    },
    {
      "cell_type": "code",
      "source": [
        "def interpolate(array1,array2,factor):\n",
        "  interpolated_array = tf.math.add(\n",
        "    tf.multiply(array1, 1.0 - factor),\n",
        "    tf.multiply(array2, factor))\n",
        "  return interpolated_array"
      ],
      "metadata": {
        "id": "M88aBPX7BQPw"
      },
      "execution_count": 108,
      "outputs": []
    },
    {
      "cell_type": "code",
      "source": [
        "def noised(input,t_steps):\n",
        "  step = np.random.randint(0,t_steps)\n",
        "  noise = tf.random.normal(shape=input.shape,mean=.5,stddev=1)\n",
        "  input_tensor = tf.cast(input,tf.float32)\n",
        "  output = interpolate(noise,input_tensor,step/t_steps)\n",
        "  return output, noise, step"
      ],
      "metadata": {
        "id": "Z1mXNwP4IMgz"
      },
      "execution_count": 109,
      "outputs": []
    },
    {
      "cell_type": "code",
      "source": [
        "output, noise, step = noised(x_test[0:10],100)\n",
        "\n",
        "print(step)\n",
        "plt.imshow(output[0])"
      ],
      "metadata": {
        "colab": {
          "base_uri": "https://localhost:8080/",
          "height": 465
        },
        "id": "gUoRk-81KXOD",
        "outputId": "50a2a929-d54a-46b5-c1b8-871199819178"
      },
      "execution_count": 110,
      "outputs": [
        {
          "output_type": "stream",
          "name": "stdout",
          "text": [
            "77\n"
          ]
        },
        {
          "output_type": "execute_result",
          "data": {
            "text/plain": [
              "<matplotlib.image.AxesImage at 0x7cb190789e10>"
            ]
          },
          "metadata": {},
          "execution_count": 110
        },
        {
          "output_type": "display_data",
          "data": {
            "text/plain": [
              "<Figure size 640x480 with 1 Axes>"
            ],
            "image/png": "[encoded data removed]"
          },
          "metadata": {}
        }
      ]
    },
    {
      "cell_type": "code",
      "source": [
        "model = generator  # Your diffusion model\n",
        "loss_fn = tf.keras.losses.MeanSquaredError()  # Your loss function\n",
        "optimizer = tf.keras.optimizers.Adam()\n",
        "BATCH_SIZE = 64\n",
        "# Define the training loop\n",
        "@tf.function\n",
        "def train_step(images):\n",
        "    with tf.GradientTape() as tape:\n",
        "        # Add noise to the images\n",
        "        noisy_images,target,step = noised(images, 100)\n",
        "        step = np.full((BATCH_SIZE),step)\n",
        "        # Run the diffusion model\n",
        "        predictions = generator([noisy_images,step])\n",
        "\n",
        "        # Compute the loss\n",
        "        loss = loss_fn(target, predictions)\n",
        "\n",
        "    # Compute gradients and update the model\n",
        "    gradients = tape.gradient(loss, generator.trainable_variables)\n",
        "    optimizer.apply_gradients(zip(gradients, generator.trainable_variables))\n",
        "    tf.print(loss)\n",
        "    return loss\n",
        "\n",
        "\n",
        "def train(dataset, epochs):\n",
        "  for epoch in range(epochs):\n",
        "    for batch in range(len(dataset) // BATCH_SIZE):\n",
        "\n",
        "            images = dataset[batch * BATCH_SIZE: (batch+1) * BATCH_SIZE]\n",
        "\n",
        "            train_step(images)\n",
        "\n",
        "    # Save the model every 15 epochs\n",
        "    if (epoch + 1) % 15 == 0:\n",
        "      print(epoch)"
      ],
      "metadata": {
        "id": "ssrmwBJS_N4J"
      },
      "execution_count": 257,
      "outputs": []
    },
    {
      "cell_type": "code",
      "source": [
        "\n",
        "EPOCHS = 1000\n",
        "train(x_test, EPOCHS)"
      ],
      "metadata": {
        "colab": {
          "base_uri": "https://localhost:8080/"
        },
        "id": "ort-WZV0MEwg",
        "outputId": "fbf43a92-0faf-47a8-a04f-760ba4483860"
      },
      "execution_count": null,
      "outputs": [
        {
          "output_type": "stream",
          "name": "stdout",
          "text": [
            "1.00139606\n",
            "1.09000754\n",
            "0.998442173\n",
            "1.001068\n",
            "0.994042\n",
            "0.985907435\n",
            "0.992742658\n",
            "0.98850739\n",
            "0.978442609\n",
            "0.971008539\n",
            "0.966641545\n",
            "0.97885251\n",
            "0.978922486\n",
            "0.978156626\n",
            "0.97475785\n",
            "0.958512425\n",
            "0.959273517\n",
            "0.960270762\n",
            "0.969654262\n",
            "0.969808757\n",
            "0.961807728\n",
            "0.938689649\n",
            "0.943686\n",
            "0.945257902\n",
            "0.945522785\n",
            "0.939393044\n",
            "0.939037621\n",
            "0.932609558\n",
            "0.943246543\n",
            "0.92763716\n",
            "0.944369495\n",
            "0.929602385\n",
            "0.92938\n",
            "0.916481495\n",
            "0.920814753\n",
            "0.928136647\n",
            "0.909833491\n",
            "0.922467887\n",
            "0.91434741\n",
            "0.911085784\n",
            "0.912661195\n",
            "0.910386741\n",
            "0.904380739\n",
            "0.911626\n",
            "0.916129351\n",
            "0.900603056\n",
            "0.891291261\n",
            "0.894652307\n",
            "0.895086169\n",
            "0.891634643\n",
            "0.882889211\n",
            "0.876305103\n",
            "0.878115773\n",
            "0.867508233\n",
            "0.872264147\n",
            "0.874448359\n",
            "0.863131404\n",
            "0.854707539\n",
            "0.856173158\n",
            "0.849761903\n",
            "0.840132415\n",
            "0.84606421\n",
            "0.851531\n",
            "0.837226391\n",
            "0.836408\n",
            "0.839084804\n",
            "0.835877776\n",
            "0.823846638\n",
            "0.819960117\n",
            "0.817511\n",
            "0.81627\n",
            "0.81813\n",
            "0.818586946\n",
            "0.806546032\n",
            "0.794765174\n",
            "0.790637493\n",
            "0.804287493\n",
            "0.801208496\n",
            "0.786730409\n",
            "0.790282667\n",
            "0.780961812\n",
            "0.775619209\n",
            "0.773851812\n",
            "0.766607761\n",
            "0.766676784\n",
            "0.766853571\n",
            "0.766916573\n",
            "0.76384896\n",
            "0.754273\n",
            "0.759370148\n",
            "0.759061158\n",
            "0.742123127\n",
            "0.749337196\n",
            "0.749151587\n",
            "0.73899138\n",
            "0.7455948\n",
            "0.743450761\n",
            "0.731967509\n",
            "0.738158405\n",
            "0.733433723\n",
            "0.729356825\n",
            "0.729954779\n",
            "0.728140771\n",
            "0.73688364\n",
            "0.722134829\n",
            "0.721700251\n",
            "0.716737866\n",
            "0.728282154\n",
            "0.719666779\n",
            "0.713910937\n",
            "0.706892848\n",
            "0.711959243\n",
            "0.709851086\n",
            "0.702722073\n",
            "0.703206599\n",
            "0.707561791\n",
            "0.705089092\n",
            "0.68951869\n",
            "0.695090294\n",
            "0.700146914\n",
            "0.695120692\n",
            "0.695826\n",
            "0.707566857\n",
            "0.698029816\n",
            "0.68541342\n",
            "0.686237395\n",
            "0.682623506\n",
            "0.681938767\n",
            "0.68434453\n",
            "0.67910254\n",
            "0.676100433\n",
            "0.67867\n"
          ]
        }
      ]
    },
    {
      "cell_type": "code",
      "source": [
        "current_input = tf.random.normal((1,28,28,1),mean=.5,stddev=1)\n",
        "for i in range(100):\n",
        "\n",
        "  step = np.full(1,i)\n",
        "  step = tf.cast(step,dtype=tf.float32)\n",
        "  noise = generator([current_input,step])\n",
        "  current_input = current_input-(noise/100)\n",
        "  #current_input = np.expand_dims(current_input,axis=0)"
      ],
      "metadata": {
        "id": "bpg4-PpIO5ZF"
      },
      "execution_count": 252,
      "outputs": []
    },
    {
      "cell_type": "code",
      "source": [
        "noise = tf.random.normal((1,28,28,1),mean=.5,stddev=1)\n",
        "digit = np.full(1,1)\n",
        "digit = tf.cast(digit,dtype=tf.float32)\n",
        "img = model([noise,digit])\n"
      ],
      "metadata": {
        "id": "gVAt3hHhld8-"
      },
      "execution_count": 228,
      "outputs": []
    },
    {
      "cell_type": "code",
      "source": [
        "plt.imshow(current_input[0])"
      ],
      "metadata": {
        "colab": {
          "base_uri": "https://localhost:8080/",
          "height": 447
        },
        "id": "_6wVS1YCrRvD",
        "outputId": "9dc18b69-1327-4d5a-de88-bcfc39bbac94"
      },
      "execution_count": 253,
      "outputs": [
        {
          "output_type": "execute_result",
          "data": {
            "text/plain": [
              "<matplotlib.image.AxesImage at 0x7cb18fa1b8e0>"
            ]
          },
          "metadata": {},
          "execution_count": 253
        },
        {
          "output_type": "display_data",
          "data": {
            "text/plain": [
              "<Figure size 640x480 with 1 Axes>"
            ],
            "image/png": "[encoded data removed]"
          },
          "metadata": {}
        }
      ]
    }
  ],
  "metadata": {
    "colab": {
      "name": "Overview of Colaboratory Features",
      "provenance": [],
      "include_colab_link": true
    },
    "kernelspec": {
      "display_name": "Python 3",
      "name": "python3"
    }
  },
  "nbformat": 4,
  "nbformat_minor": 0
}