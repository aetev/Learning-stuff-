{
  "cells": [
    {
      "cell_type": "markdown",
      "metadata": {
        "id": "view-in-github",
        "colab_type": "text"
      },
      "source": [
        "<a href=\"https://colab.research.google.com/github/aetev/Learning-stuff-/blob/main/diffusion%20test.ipynb\" target=\"_parent\"><img src=\"https://colab.research.google.com/assets/colab-badge.svg\" alt=\"Open In Colab\"/></a>"
      ]
    },
    {
      "cell_type": "code",
      "source": [
        "import tensorflow as tf\n",
        "import pandas as pd\n",
        "import numpy as np\n",
        "from tensorflow.keras import layers\n",
        "import matplotlib.pyplot as plt\n"
      ],
      "metadata": {
        "id": "llS7WvoKxbC9"
      },
      "execution_count": 102,
      "outputs": []
    },
    {
      "cell_type": "code",
      "source": [
        "# Load the MNIST dataset\n",
        "(x_train, y_train), (x_test, y_test) = tf.keras.datasets.mnist.load_data()\n",
        "x_train = x_train/255"
      ],
      "metadata": {
        "id": "Gsh17mg1xn7H"
      },
      "execution_count": 103,
      "outputs": []
    },
    {
      "cell_type": "code",
      "source": [
        "class ResNetBlock(layers.Layer):\n",
        "    def __init__(self, num_filters):\n",
        "        super(ResNetBlock, self).__init__()\n",
        "        self.inputConv = layers.Conv2D(num_filters, 1, padding='same')\n",
        "        self.conv1 = layers.Conv2D(num_filters, (3, 3), padding='same',activation='LeakyReLU')\n",
        "        self.bn1 = layers.BatchNormalization()\n",
        "        self.conv2 = layers.Conv2D(num_filters, (3, 3), padding='same',activation='LeakyReLU')\n",
        "        self.bn2 = layers.BatchNormalization()\n",
        "\n",
        "    def call(self, inputs):\n",
        "        inpx = self.inputConv(inputs)\n",
        "        x = self.conv1(inputs)\n",
        "        x = self.bn1(x)\n",
        "        x = self.conv2(x)\n",
        "        x = self.bn2(x)\n",
        "        return layers.add([x, inpx])"
      ],
      "metadata": {
        "id": "JN953KvgtKno"
      },
      "execution_count": 245,
      "outputs": []
    },
    {
      "cell_type": "code",
      "source": [
        "def model():\n",
        "\n",
        "    input_noise = layers.Input(shape=(28,28,1))\n",
        "    input_digit = layers.Input(shape=())\n",
        "    digit = layers.Embedding(1000, 100)(input_digit)\n",
        "    digit = layers.Dense(28*28*7)(digit)\n",
        "    digit = layers.Reshape((28,28,7))(digit)\n",
        "\n",
        "    x = layers.concatenate([input_noise, digit])\n",
        "\n",
        "    x = ResNetBlock(64)(x)\n",
        "\n",
        "    x = layers.MaxPool2D(2)(x)\n",
        "\n",
        "    x = ResNetBlock(64)(x)\n",
        "\n",
        "    x = layers.MaxPool2D(2)(x)\n",
        "\n",
        "\n",
        "    x = ResNetBlock(64)(x)\n",
        "    x = layers.UpSampling2D(2)(x)\n",
        "\n",
        "    x = ResNetBlock(64)(x)\n",
        "    x = layers.UpSampling2D(2)(x)\n",
        "\n",
        "    x = layers.BatchNormalization()(x)\n",
        "    x = layers.Conv2D(1,3,1,padding='same',activation=None)(x)\n",
        "\n",
        "    model = tf.keras.models.Model(inputs=([input_noise,input_digit]), outputs=x)\n",
        "    model.summary()\n",
        "    return model"
      ],
      "metadata": {
        "id": "PjH0Usq_2zJ6"
      },
      "execution_count": 270,
      "outputs": []
    },
    {
      "cell_type": "code",
      "source": [
        "generator = model()"
      ],
      "metadata": {
        "colab": {
          "base_uri": "https://localhost:8080/"
        },
        "id": "OiDIm1E73-x1",
        "outputId": "37710cda-c761-4050-f446-6e829cd250b4"
      },
      "execution_count": 271,
      "outputs": [
        {
          "output_type": "stream",
          "name": "stdout",
          "text": [
            "Model: \"model_17\"\n",
            "__________________________________________________________________________________________________\n",
            " Layer (type)                Output Shape                 Param #   Connected to                  \n",
            "==================================================================================================\n",
            " input_52 (InputLayer)       [(None,)]                    0         []                            \n",
            "                                                                                                  \n",
            " embedding_24 (Embedding)    (None, 100)                  100000    ['input_52[0][0]']            \n",
            "                                                                                                  \n",
            " dense_23 (Dense)            (None, 5488)                 554288    ['embedding_24[0][0]']        \n",
            "                                                                                                  \n",
            " input_51 (InputLayer)       [(None, 28, 28, 1)]          0         []                            \n",
            "                                                                                                  \n",
            " reshape_23 (Reshape)        (None, 28, 28, 7)            0         ['dense_23[0][0]']            \n",
            "                                                                                                  \n",
            " concatenate_23 (Concatenat  (None, 28, 28, 8)            0         ['input_51[0][0]',            \n",
            " e)                                                                  'reshape_23[0][0]']          \n",
            "                                                                                                  \n",
            " res_net_block_12 (ResNetBl  (None, 28, 28, 64)           42688     ['concatenate_23[0][0]']      \n",
            " ock)                                                                                             \n",
            "                                                                                                  \n",
            " max_pooling2d_7 (MaxPoolin  (None, 14, 14, 64)           0         ['res_net_block_12[0][0]']    \n",
            " g2D)                                                                                             \n",
            "                                                                                                  \n",
            " res_net_block_13 (ResNetBl  (None, 14, 14, 64)           78528     ['max_pooling2d_7[0][0]']     \n",
            " ock)                                                                                             \n",
            "                                                                                                  \n",
            " max_pooling2d_8 (MaxPoolin  (None, 7, 7, 64)             0         ['res_net_block_13[0][0]']    \n",
            " g2D)                                                                                             \n",
            "                                                                                                  \n",
            " res_net_block_14 (ResNetBl  (None, 7, 7, 64)             78528     ['max_pooling2d_8[0][0]']     \n",
            " ock)                                                                                             \n",
            "                                                                                                  \n",
            " up_sampling2d_4 (UpSamplin  (None, 14, 14, 64)           0         ['res_net_block_14[0][0]']    \n",
            " g2D)                                                                                             \n",
            "                                                                                                  \n",
            " res_net_block_15 (ResNetBl  (None, 14, 14, 64)           78528     ['up_sampling2d_4[0][0]']     \n",
            " ock)                                                                                             \n",
            "                                                                                                  \n",
            " up_sampling2d_5 (UpSamplin  (None, 28, 28, 64)           0         ['res_net_block_15[0][0]']    \n",
            " g2D)                                                                                             \n",
            "                                                                                                  \n",
            " batch_normalization_81 (Ba  (None, 28, 28, 64)           256       ['up_sampling2d_5[0][0]']     \n",
            " tchNormalization)                                                                                \n",
            "                                                                                                  \n",
            " conv2d_85 (Conv2D)          (None, 28, 28, 1)            577       ['batch_normalization_81[0][0]\n",
            "                                                                    ']                            \n",
            "                                                                                                  \n",
            "==================================================================================================\n",
            "Total params: 933393 (3.56 MB)\n",
            "Trainable params: 932241 (3.56 MB)\n",
            "Non-trainable params: 1152 (4.50 KB)\n",
            "__________________________________________________________________________________________________\n"
          ]
        }
      ]
    },
    {
      "cell_type": "code",
      "source": [
        "x_test = tf.expand_dims(x_train,axis = -1)\n",
        "\n",
        "print(x_test.shape)"
      ],
      "metadata": {
        "colab": {
          "base_uri": "https://localhost:8080/"
        },
        "id": "00EqJkvL_fwk",
        "outputId": "a46ae131-ed2f-4bfd-d653-fc999fd2068b"
      },
      "execution_count": 272,
      "outputs": [
        {
          "output_type": "stream",
          "name": "stdout",
          "text": [
            "(60000, 28, 28, 1)\n"
          ]
        }
      ]
    },
    {
      "cell_type": "code",
      "source": [
        "noise = tf.random.normal(shape=(10,28,28,1),mean=.5,stddev=1)\n",
        "print(np.max(noise))"
      ],
      "metadata": {
        "colab": {
          "base_uri": "https://localhost:8080/"
        },
        "id": "K8HJwDhYASsq",
        "outputId": "1026706c-d068-41bf-a0c2-a238405f157c"
      },
      "execution_count": 273,
      "outputs": [
        {
          "output_type": "stream",
          "name": "stdout",
          "text": [
            "4.1646557\n"
          ]
        }
      ]
    },
    {
      "cell_type": "code",
      "source": [
        "def interpolate(array1,array2,factor):\n",
        "  interpolated_array = tf.math.add(\n",
        "    tf.multiply(array1, 1.0 - factor),\n",
        "    tf.multiply(array2, factor))\n",
        "  return interpolated_array"
      ],
      "metadata": {
        "id": "M88aBPX7BQPw"
      },
      "execution_count": 274,
      "outputs": []
    },
    {
      "cell_type": "code",
      "source": [
        "def noised(input,t_steps):\n",
        "  step = np.random.randint(0,t_steps)\n",
        "  noise = tf.random.normal(shape=input.shape,mean=.5,stddev=1)\n",
        "  input_tensor = tf.cast(input,tf.float32)\n",
        "  output = interpolate(noise,input_tensor,step/t_steps)\n",
        "  return output, noise, step"
      ],
      "metadata": {
        "id": "Z1mXNwP4IMgz"
      },
      "execution_count": 275,
      "outputs": []
    },
    {
      "cell_type": "code",
      "source": [
        "output, noise, step = noised(x_test[0:10],100)\n",
        "\n",
        "print(step)\n",
        "plt.imshow(output[0])"
      ],
      "metadata": {
        "colab": {
          "base_uri": "https://localhost:8080/",
          "height": 465
        },
        "id": "gUoRk-81KXOD",
        "outputId": "152b5432-f701-4e17-8a6d-be066c9f7309"
      },
      "execution_count": 276,
      "outputs": [
        {
          "output_type": "stream",
          "name": "stdout",
          "text": [
            "52\n"
          ]
        },
        {
          "output_type": "execute_result",
          "data": {
            "text/plain": [
              "<matplotlib.image.AxesImage at 0x7cb18b4b9900>"
            ]
          },
          "metadata": {},
          "execution_count": 276
        },
        {
          "output_type": "display_data",
          "data": {
            "text/plain": [
              "<Figure size 640x480 with 1 Axes>"
            ],
            "image/png": "[encoded data removed]"
          },
          "metadata": {}
        }
      ]
    },
    {
      "cell_type": "code",
      "source": [
        "model = generator  # Your diffusion model\n",
        "loss_fn = tf.keras.losses.MeanSquaredError()  # Your loss function\n",
        "optimizer = tf.keras.optimizers.Adam()\n",
        "BATCH_SIZE = 64\n",
        "# Define the training loop\n",
        "@tf.function\n",
        "def train_step(images):\n",
        "    with tf.GradientTape() as tape:\n",
        "        # Add noise to the images\n",
        "        noisy_images,target,step = noised(images, 1000)\n",
        "        step = np.full((BATCH_SIZE),step)\n",
        "        # Run the diffusion model\n",
        "        predictions = generator([noisy_images,step])\n",
        "\n",
        "        # Compute the loss\n",
        "        loss = loss_fn(target, predictions)\n",
        "\n",
        "    # Compute gradients and update the model\n",
        "    gradients = tape.gradient(loss, generator.trainable_variables)\n",
        "    optimizer.apply_gradients(zip(gradients, generator.trainable_variables))\n",
        "    tf.print(loss)\n",
        "    return loss\n",
        "\n",
        "\n",
        "def train(dataset, epochs):\n",
        "  for epoch in range(epochs):\n",
        "    for batch in range(len(dataset) // BATCH_SIZE):\n",
        "\n",
        "            images = dataset[batch * BATCH_SIZE: (batch+1) * BATCH_SIZE]\n",
        "\n",
        "            train_step(images)\n",
        "\n",
        "    # Save the model every 15 epochs\n",
        "    if (epoch + 1) % 15 == 0:\n",
        "      print(epoch)"
      ],
      "metadata": {
        "id": "ssrmwBJS_N4J"
      },
      "execution_count": 277,
      "outputs": []
    },
    {
      "cell_type": "code",
      "source": [
        "\n",
        "EPOCHS = 1000\n",
        "train(x_test, EPOCHS)"
      ],
      "metadata": {
        "colab": {
          "base_uri": "https://localhost:8080/"
        },
        "id": "ort-WZV0MEwg",
        "outputId": "44f2a53d-cf16-4c50-846e-1e3ef5d9103a"
      },
      "execution_count": null,
      "outputs": [
        {
          "output_type": "stream",
          "name": "stdout",
          "text": [
            "1.29500592\n",
            "3.61121035\n",
            "1.08202505\n",
            "1.12012064\n",
            "1.21586263\n",
            "1.13799751\n",
            "1.04046869\n",
            "1.03432155\n",
            "1.10267293\n",
            "1.06562507\n",
            "1.02195418\n",
            "1.01498759\n",
            "1.03638101\n",
            "1.04911351\n",
            "1.02452981\n",
            "1.02761102\n",
            "1.02065325\n",
            "1.00087726\n",
            "1.01110387\n",
            "1.00415325\n",
            "1.00560439\n",
            "0.992575645\n",
            "0.990335286\n",
            "0.989605486\n",
            "0.983756423\n",
            "0.986993432\n",
            "0.994091094\n",
            "0.98932749\n",
            "0.986707509\n",
            "0.983487785\n",
            "1.00067592\n",
            "0.991183043\n",
            "0.99424547\n",
            "0.990627348\n",
            "0.981870592\n",
            "0.970627427\n",
            "0.981906176\n",
            "0.97758615\n",
            "0.9838956\n",
            "0.978208423\n",
            "0.980966449\n",
            "0.967532277\n",
            "0.967967272\n",
            "0.975720465\n",
            "0.979012489\n",
            "0.962536097\n",
            "0.974484\n",
            "0.973563433\n",
            "0.95942688\n",
            "0.967540681\n",
            "0.971476555\n",
            "0.967275321\n",
            "0.954881489\n",
            "0.961868346\n",
            "0.979141414\n",
            "0.960194707\n",
            "0.957238197\n",
            "0.962778389\n",
            "0.954764843\n",
            "0.957216442\n",
            "0.946906447\n",
            "0.96452564\n",
            "0.946800172\n",
            "0.951190174\n",
            "0.953530669\n",
            "0.939611077\n",
            "0.948455\n",
            "0.942426264\n",
            "0.944727123\n",
            "0.945210814\n",
            "0.944117188\n",
            "0.945650816\n",
            "0.94253397\n",
            "0.937809467\n",
            "0.941954732\n",
            "0.922306478\n",
            "0.926706254\n",
            "0.919122398\n",
            "0.930422127\n",
            "0.933607757\n",
            "0.921994209\n",
            "0.921580791\n",
            "0.91868639\n",
            "0.916955769\n",
            "0.913890123\n",
            "0.916065037\n",
            "0.901878297\n",
            "0.908536613\n",
            "0.907158136\n",
            "0.902053237\n",
            "0.885895729\n",
            "0.893208563\n",
            "0.896692932\n",
            "0.897107244\n",
            "0.8919788\n",
            "0.902677715\n",
            "0.892671883\n",
            "0.88114506\n",
            "0.874545\n",
            "0.885559916\n",
            "0.873352528\n",
            "0.886773229\n"
          ]
        }
      ]
    },
    {
      "cell_type": "code",
      "source": [
        "current_input = tf.random.normal((1,28,28,1),mean=.5,stddev=1)\n",
        "for i in range(1000):\n",
        "\n",
        "  step = np.full(1,i)\n",
        "  step = tf.cast(step,dtype=tf.float32)\n",
        "  noise = generator([current_input,step])\n",
        "  current_input = current_input-(noise/1000)\n",
        "  #current_input = np.expand_dims(current_input,axis=0)"
      ],
      "metadata": {
        "id": "bpg4-PpIO5ZF"
      },
      "execution_count": 266,
      "outputs": []
    },
    {
      "cell_type": "code",
      "source": [
        "noise = tf.random.normal((1,28,28,1),mean=.5,stddev=1)\n",
        "digit = np.full(1,1)\n",
        "digit = tf.cast(digit,dtype=tf.float32)\n",
        "img = model([noise,digit])\n"
      ],
      "metadata": {
        "id": "gVAt3hHhld8-"
      },
      "execution_count": 228,
      "outputs": []
    },
    {
      "cell_type": "code",
      "source": [
        "plt.imshow(np.min(noise[0]))"
      ],
      "metadata": {
        "colab": {
          "base_uri": "https://localhost:8080/",
          "height": 739
        },
        "id": "_6wVS1YCrRvD",
        "outputId": "e1a2a37f-342a-4c46-9773-4d5b80a6899b"
      },
      "execution_count": 269,
      "outputs": [
        {
          "output_type": "error",
          "ename": "TypeError",
          "evalue": "ignored",
          "traceback": [
            "\u001b[0;31m---------------------------------------------------------------------------\u001b[0m",
            "\u001b[0;31mTypeError\u001b[0m                                 Traceback (most recent call last)",
            "\u001b[0;32m<ipython-input-269-e4224434b308>\u001b[0m in \u001b[0;36m<cell line: 1>\u001b[0;34m()\u001b[0m\n\u001b[0;32m----> 1\u001b[0;31m \u001b[0mplt\u001b[0m\u001b[0;34m.\u001b[0m\u001b[0mimshow\u001b[0m\u001b[0;34m(\u001b[0m\u001b[0mnp\u001b[0m\u001b[0;34m.\u001b[0m\u001b[0mmin\u001b[0m\u001b[0;34m(\u001b[0m\u001b[0mnoise\u001b[0m\u001b[0;34m[\u001b[0m\u001b[0;36m0\u001b[0m\u001b[0;34m]\u001b[0m\u001b[0;34m)\u001b[0m\u001b[0;34m)\u001b[0m\u001b[0;34m\u001b[0m\u001b[0;34m\u001b[0m\u001b[0m\n\u001b[0m",
            "\u001b[0;32m/usr/local/lib/python3.10/dist-packages/matplotlib/pyplot.py\u001b[0m in \u001b[0;36mimshow\u001b[0;34m(X, cmap, norm, aspect, interpolation, alpha, vmin, vmax, origin, extent, interpolation_stage, filternorm, filterrad, resample, url, data, **kwargs)\u001b[0m\n\u001b[1;32m   2693\u001b[0m         \u001b[0minterpolation_stage\u001b[0m\u001b[0;34m=\u001b[0m\u001b[0;32mNone\u001b[0m\u001b[0;34m,\u001b[0m \u001b[0mfilternorm\u001b[0m\u001b[0;34m=\u001b[0m\u001b[0;32mTrue\u001b[0m\u001b[0;34m,\u001b[0m \u001b[0mfilterrad\u001b[0m\u001b[0;34m=\u001b[0m\u001b[0;36m4.0\u001b[0m\u001b[0;34m,\u001b[0m\u001b[0;34m\u001b[0m\u001b[0;34m\u001b[0m\u001b[0m\n\u001b[1;32m   2694\u001b[0m         resample=None, url=None, data=None, **kwargs):\n\u001b[0;32m-> 2695\u001b[0;31m     __ret = gca().imshow(\n\u001b[0m\u001b[1;32m   2696\u001b[0m         \u001b[0mX\u001b[0m\u001b[0;34m,\u001b[0m \u001b[0mcmap\u001b[0m\u001b[0;34m=\u001b[0m\u001b[0mcmap\u001b[0m\u001b[0;34m,\u001b[0m \u001b[0mnorm\u001b[0m\u001b[0;34m=\u001b[0m\u001b[0mnorm\u001b[0m\u001b[0;34m,\u001b[0m \u001b[0maspect\u001b[0m\u001b[0;34m=\u001b[0m\u001b[0maspect\u001b[0m\u001b[0;34m,\u001b[0m\u001b[0;34m\u001b[0m\u001b[0;34m\u001b[0m\u001b[0m\n\u001b[1;32m   2697\u001b[0m         \u001b[0minterpolation\u001b[0m\u001b[0;34m=\u001b[0m\u001b[0minterpolation\u001b[0m\u001b[0;34m,\u001b[0m \u001b[0malpha\u001b[0m\u001b[0;34m=\u001b[0m\u001b[0malpha\u001b[0m\u001b[0;34m,\u001b[0m \u001b[0mvmin\u001b[0m\u001b[0;34m=\u001b[0m\u001b[0mvmin\u001b[0m\u001b[0;34m,\u001b[0m\u001b[0;34m\u001b[0m\u001b[0;34m\u001b[0m\u001b[0m\n",
            "\u001b[0;32m/usr/local/lib/python3.10/dist-packages/matplotlib/__init__.py\u001b[0m in \u001b[0;36minner\u001b[0;34m(ax, data, *args, **kwargs)\u001b[0m\n\u001b[1;32m   1440\u001b[0m     \u001b[0;32mdef\u001b[0m \u001b[0minner\u001b[0m\u001b[0;34m(\u001b[0m\u001b[0max\u001b[0m\u001b[0;34m,\u001b[0m \u001b[0;34m*\u001b[0m\u001b[0margs\u001b[0m\u001b[0;34m,\u001b[0m \u001b[0mdata\u001b[0m\u001b[0;34m=\u001b[0m\u001b[0;32mNone\u001b[0m\u001b[0;34m,\u001b[0m \u001b[0;34m**\u001b[0m\u001b[0mkwargs\u001b[0m\u001b[0;34m)\u001b[0m\u001b[0;34m:\u001b[0m\u001b[0;34m\u001b[0m\u001b[0;34m\u001b[0m\u001b[0m\n\u001b[1;32m   1441\u001b[0m         \u001b[0;32mif\u001b[0m \u001b[0mdata\u001b[0m \u001b[0;32mis\u001b[0m \u001b[0;32mNone\u001b[0m\u001b[0;34m:\u001b[0m\u001b[0;34m\u001b[0m\u001b[0;34m\u001b[0m\u001b[0m\n\u001b[0;32m-> 1442\u001b[0;31m             \u001b[0;32mreturn\u001b[0m \u001b[0mfunc\u001b[0m\u001b[0;34m(\u001b[0m\u001b[0max\u001b[0m\u001b[0;34m,\u001b[0m \u001b[0;34m*\u001b[0m\u001b[0mmap\u001b[0m\u001b[0;34m(\u001b[0m\u001b[0msanitize_sequence\u001b[0m\u001b[0;34m,\u001b[0m \u001b[0margs\u001b[0m\u001b[0;34m)\u001b[0m\u001b[0;34m,\u001b[0m \u001b[0;34m**\u001b[0m\u001b[0mkwargs\u001b[0m\u001b[0;34m)\u001b[0m\u001b[0;34m\u001b[0m\u001b[0;34m\u001b[0m\u001b[0m\n\u001b[0m\u001b[1;32m   1443\u001b[0m \u001b[0;34m\u001b[0m\u001b[0m\n\u001b[1;32m   1444\u001b[0m         \u001b[0mbound\u001b[0m \u001b[0;34m=\u001b[0m \u001b[0mnew_sig\u001b[0m\u001b[0;34m.\u001b[0m\u001b[0mbind\u001b[0m\u001b[0;34m(\u001b[0m\u001b[0max\u001b[0m\u001b[0;34m,\u001b[0m \u001b[0;34m*\u001b[0m\u001b[0margs\u001b[0m\u001b[0;34m,\u001b[0m \u001b[0;34m**\u001b[0m\u001b[0mkwargs\u001b[0m\u001b[0;34m)\u001b[0m\u001b[0;34m\u001b[0m\u001b[0;34m\u001b[0m\u001b[0m\n",
            "\u001b[0;32m/usr/local/lib/python3.10/dist-packages/matplotlib/axes/_axes.py\u001b[0m in \u001b[0;36mimshow\u001b[0;34m(self, X, cmap, norm, aspect, interpolation, alpha, vmin, vmax, origin, extent, interpolation_stage, filternorm, filterrad, resample, url, **kwargs)\u001b[0m\n\u001b[1;32m   5663\u001b[0m                               **kwargs)\n\u001b[1;32m   5664\u001b[0m \u001b[0;34m\u001b[0m\u001b[0m\n\u001b[0;32m-> 5665\u001b[0;31m         \u001b[0mim\u001b[0m\u001b[0;34m.\u001b[0m\u001b[0mset_data\u001b[0m\u001b[0;34m(\u001b[0m\u001b[0mX\u001b[0m\u001b[0;34m)\u001b[0m\u001b[0;34m\u001b[0m\u001b[0;34m\u001b[0m\u001b[0m\n\u001b[0m\u001b[1;32m   5666\u001b[0m         \u001b[0mim\u001b[0m\u001b[0;34m.\u001b[0m\u001b[0mset_alpha\u001b[0m\u001b[0;34m(\u001b[0m\u001b[0malpha\u001b[0m\u001b[0;34m)\u001b[0m\u001b[0;34m\u001b[0m\u001b[0;34m\u001b[0m\u001b[0m\n\u001b[1;32m   5667\u001b[0m         \u001b[0;32mif\u001b[0m \u001b[0mim\u001b[0m\u001b[0;34m.\u001b[0m\u001b[0mget_clip_path\u001b[0m\u001b[0;34m(\u001b[0m\u001b[0;34m)\u001b[0m \u001b[0;32mis\u001b[0m \u001b[0;32mNone\u001b[0m\u001b[0;34m:\u001b[0m\u001b[0;34m\u001b[0m\u001b[0;34m\u001b[0m\u001b[0m\n",
            "\u001b[0;32m/usr/local/lib/python3.10/dist-packages/matplotlib/image.py\u001b[0m in \u001b[0;36mset_data\u001b[0;34m(self, A)\u001b[0m\n\u001b[1;32m    708\u001b[0m         if not (self._A.ndim == 2\n\u001b[1;32m    709\u001b[0m                 or self._A.ndim == 3 and self._A.shape[-1] in [3, 4]):\n\u001b[0;32m--> 710\u001b[0;31m             raise TypeError(\"Invalid shape {} for image data\"\n\u001b[0m\u001b[1;32m    711\u001b[0m                             .format(self._A.shape))\n\u001b[1;32m    712\u001b[0m \u001b[0;34m\u001b[0m\u001b[0m\n",
            "\u001b[0;31mTypeError\u001b[0m: Invalid shape () for image data"
          ]
        },
        {
          "output_type": "display_data",
          "data": {
            "text/plain": [
              "<Figure size 640x480 with 1 Axes>"
            ],
            "image/png": "[encoded data removed]"
          },
          "metadata": {}
        }
      ]
    }
  ],
  "metadata": {
    "colab": {
      "name": "Overview of Colaboratory Features",
      "provenance": [],
      "include_colab_link": true
    },
    "kernelspec": {
      "display_name": "Python 3",
      "name": "python3"
    }
  },
  "nbformat": 4,
  "nbformat_minor": 0
}