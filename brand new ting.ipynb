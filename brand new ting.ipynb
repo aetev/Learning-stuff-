{
  "cells": [
    {
      "cell_type": "markdown",
      "metadata": {
        "id": "view-in-github",
        "colab_type": "text"
      },
      "source": [
        "<a href=\"https://colab.research.google.com/github/aetev/Learning-stuff-/blob/main/brand%20new%20ting.ipynb\" target=\"_parent\"><img src=\"https://colab.research.google.com/assets/colab-badge.svg\" alt=\"Open In Colab\"/></a>"
      ]
    },
    {
      "cell_type": "code",
      "source": [
        "from google.colab import drive\n",
        "drive.mount('/content/drive')"
      ],
      "metadata": {
        "id": "2370Z9yrygMt",
        "outputId": "4356d496-b349-4500-9b94-5a37a4c4d5d8",
        "colab": {
          "base_uri": "https://localhost:8080/"
        }
      },
      "execution_count": 1,
      "outputs": [
        {
          "output_type": "stream",
          "name": "stdout",
          "text": [
            "Mounted at /content/drive\n"
          ]
        }
      ]
    },
    {
      "cell_type": "code",
      "source": [
        "!pip install pandas-ta"
      ],
      "metadata": {
        "id": "0_9Y93vMykBd",
        "outputId": "06c9baf8-cddc-4314-fd1c-758c77be677f",
        "colab": {
          "base_uri": "https://localhost:8080/"
        }
      },
      "execution_count": 2,
      "outputs": [
        {
          "output_type": "stream",
          "name": "stdout",
          "text": [
            "Looking in indexes: https://pypi.org/simple, https://us-python.pkg.dev/colab-wheels/public/simple/\n",
            "Collecting pandas-ta\n",
            "  Downloading pandas_ta-0.3.14b.tar.gz (115 kB)\n",
            "\u001b[?25l     \u001b[90m━━━━━━━━━━━━━━━━━━━━━━━━━━━━━━━━━━━━━━━━\u001b[0m \u001b[32m0.0/115.1 kB\u001b[0m \u001b[31m?\u001b[0m eta \u001b[36m-:--:--\u001b[0m\r\u001b[2K     \u001b[90m━━━━━━━━━━━━━━━━━━━━━━━━━━━━━━━━━━━━━━━\u001b[0m \u001b[32m115.1/115.1 kB\u001b[0m \u001b[31m4.2 MB/s\u001b[0m eta \u001b[36m0:00:00\u001b[0m\n",
            "\u001b[?25h  Preparing metadata (setup.py) ... \u001b[?25l\u001b[?25hdone\n",
            "Requirement already satisfied: pandas in /usr/local/lib/python3.10/dist-packages (from pandas-ta) (1.5.3)\n",
            "Requirement already satisfied: python-dateutil>=2.8.1 in /usr/local/lib/python3.10/dist-packages (from pandas->pandas-ta) (2.8.2)\n",
            "Requirement already satisfied: pytz>=2020.1 in /usr/local/lib/python3.10/dist-packages (from pandas->pandas-ta) (2022.7.1)\n",
            "Requirement already satisfied: numpy>=1.21.0 in /usr/local/lib/python3.10/dist-packages (from pandas->pandas-ta) (1.22.4)\n",
            "Requirement already satisfied: six>=1.5 in /usr/local/lib/python3.10/dist-packages (from python-dateutil>=2.8.1->pandas->pandas-ta) (1.16.0)\n",
            "Building wheels for collected packages: pandas-ta\n",
            "  Building wheel for pandas-ta (setup.py) ... \u001b[?25l\u001b[?25hdone\n",
            "  Created wheel for pandas-ta: filename=pandas_ta-0.3.14b0-py3-none-any.whl size=218908 sha256=4b1caecbdb1fc2660c7a9b0234e8de15a8fb80c4ca2804af77151151c69f5f2c\n",
            "  Stored in directory: /root/.cache/pip/wheels/69/00/ac/f7fa862c34b0e2ef320175100c233377b4c558944f12474cf0\n",
            "Successfully built pandas-ta\n",
            "Installing collected packages: pandas-ta\n",
            "Successfully installed pandas-ta-0.3.14b0\n"
          ]
        }
      ]
    },
    {
      "cell_type": "code",
      "source": [
        "import numpy as np\n",
        "import pandas as pd\n",
        "import pandas_ta as ta"
      ],
      "metadata": {
        "id": "WdAXBSQwyyZC"
      },
      "execution_count": 3,
      "outputs": []
    },
    {
      "cell_type": "markdown",
      "source": [
        "**Load Data**"
      ],
      "metadata": {
        "id": "nyKLo8j9986v"
      }
    },
    {
      "cell_type": "code",
      "source": [
        "Data = pd.read_csv('/content/drive/MyDrive/eurusd_hour.csv')\n",
        "Data['Date'] = pd.to_datetime(Data['Date'])\n",
        "Data['Time'] = pd.to_datetime(Data['Time'])\n",
        "print(Data)"
      ],
      "metadata": {
        "id": "vKH7LWXjy7fc",
        "outputId": "b7b17e5d-b013-4492-a406-3cb22af2b503",
        "colab": {
          "base_uri": "https://localhost:8080/"
        }
      },
      "execution_count": 24,
      "outputs": [
        {
          "output_type": "stream",
          "name": "stdout",
          "text": [
            "            Date                Time       BO       BH       BL       BC  \\\n",
            "0     2005-05-02 2023-05-23 00:00:00  1.28520  1.28520  1.28400  1.28440   \n",
            "1     2005-05-02 2023-05-23 01:00:00  1.28440  1.28480  1.28390  1.28420   \n",
            "2     2005-05-02 2023-05-23 02:00:00  1.28430  1.28540  1.28410  1.28510   \n",
            "3     2005-05-02 2023-05-23 03:00:00  1.28510  1.28590  1.28500  1.28510   \n",
            "4     2005-05-02 2023-05-23 04:00:00  1.28520  1.28590  1.28490  1.28550   \n",
            "...          ...                 ...      ...      ...      ...      ...   \n",
            "93079 2020-04-29 2023-05-23 18:00:00  1.08620  1.08851  1.08611  1.08713   \n",
            "93080 2020-04-29 2023-05-23 19:00:00  1.08711  1.08823  1.08659  1.08748   \n",
            "93081 2020-04-29 2023-05-23 20:00:00  1.08747  1.08788  1.08691  1.08708   \n",
            "93082 2020-04-29 2023-05-23 21:00:00  1.08708  1.08740  1.08699  1.08714   \n",
            "93083 2020-04-29 2023-05-23 22:00:00  1.08728  1.08760  1.08727  1.08743   \n",
            "\n",
            "           BCh       AO       AH       AL       AC      ACh  \n",
            "0     -0.00080  1.28540  1.28540  1.28420  1.28460 -0.00080  \n",
            "1     -0.00020  1.28460  1.28500  1.28410  1.28440 -0.00020  \n",
            "2      0.00080  1.28450  1.28560  1.28430  1.28530  0.00080  \n",
            "3      0.00000  1.28530  1.28610  1.28520  1.28530  0.00000  \n",
            "4      0.00030  1.28540  1.28610  1.28510  1.28570  0.00030  \n",
            "...        ...      ...      ...      ...      ...      ...  \n",
            "93079  0.00093  1.08660  1.08865  1.08640  1.08726  0.00066  \n",
            "93080  0.00037  1.08725  1.08837  1.08675  1.08760  0.00035  \n",
            "93081 -0.00039  1.08758  1.08810  1.08706  1.08808  0.00050  \n",
            "93082  0.00006  1.08808  1.08814  1.08763  1.08766 -0.00042  \n",
            "93083  0.00015  1.08756  1.08779  1.08749  1.08760  0.00004  \n",
            "\n",
            "[93084 rows x 12 columns]\n"
          ]
        }
      ]
    },
    {
      "cell_type": "markdown",
      "source": [
        "**Extract time information**"
      ],
      "metadata": {
        "id": "3-TkkeCc9yWS"
      }
    },
    {
      "cell_type": "code",
      "source": [
        "Date = pd.DataFrame()\n",
        "\n",
        "Date['day'] = Data['Date'].dt.day\n",
        "Date['month'] = Data['Date'].dt.month\n",
        "Date['weekday'] = Data['Date'].dt.weekday\n",
        "Date['hour_of_day'] = Data['Time'].dt.hour\n",
        "\n",
        "print(Date)"
      ],
      "metadata": {
        "id": "EFY_8-AP0FAV",
        "outputId": "9a69de4b-a35e-45a7-dda7-6a4d46d0ca7f",
        "colab": {
          "base_uri": "https://localhost:8080/"
        }
      },
      "execution_count": 27,
      "outputs": [
        {
          "output_type": "stream",
          "name": "stdout",
          "text": [
            "       day  month  weekday  hour_of_day\n",
            "0        2      5        0            0\n",
            "1        2      5        0            1\n",
            "2        2      5        0            2\n",
            "3        2      5        0            3\n",
            "4        2      5        0            4\n",
            "...    ...    ...      ...          ...\n",
            "93079   29      4        2           18\n",
            "93080   29      4        2           19\n",
            "93081   29      4        2           20\n",
            "93082   29      4        2           21\n",
            "93083   29      4        2           22\n",
            "\n",
            "[93084 rows x 4 columns]\n"
          ]
        }
      ]
    },
    {
      "cell_type": "code",
      "source": [
        "Shape = pd.DataFrame()\n",
        "BH_BL_diff_array = np.abs(Data['BH'] - Data['BL'])\n",
        "\n",
        "LowPoint = Data['BO']>Data['BC']\n",
        "\n",
        "print(BH_BL_diff_array)"
      ],
      "metadata": {
        "id": "0A0q2FME9xnt",
        "outputId": "1b336fa5-a2dd-42b3-ed21-c0145ed453ff",
        "colab": {
          "base_uri": "https://localhost:8080/"
        }
      },
      "execution_count": 29,
      "outputs": [
        {
          "output_type": "stream",
          "name": "stdout",
          "text": [
            "0        0.00120\n",
            "1        0.00090\n",
            "2        0.00130\n",
            "3        0.00090\n",
            "4        0.00100\n",
            "          ...   \n",
            "93079    0.00240\n",
            "93080    0.00164\n",
            "93081    0.00097\n",
            "93082    0.00041\n",
            "93083    0.00033\n",
            "Length: 93084, dtype: float64\n"
          ]
        }
      ]
    }
  ],
  "metadata": {
    "colab": {
      "name": "Welcome To Colaboratory",
      "provenance": [],
      "include_colab_link": true
    },
    "kernelspec": {
      "display_name": "Python 3",
      "name": "python3"
    }
  },
  "nbformat": 4,
  "nbformat_minor": 0
}