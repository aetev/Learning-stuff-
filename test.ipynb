{
  "cells": [
    {
      "cell_type": "markdown",
      "metadata": {
        "id": "view-in-github",
        "colab_type": "text"
      },
      "source": [
        "<a href=\"https://colab.research.google.com/github/aetev/Learning-stuff-/blob/main/test.ipynb\" target=\"_parent\"><img src=\"https://colab.research.google.com/assets/colab-badge.svg\" alt=\"Open In Colab\"/></a>"
      ]
    },
    {
      "cell_type": "code",
      "source": [
        "import numpy as np\n",
        "import random\n",
        "import time\n",
        "import sys"
      ],
      "metadata": {
        "id": "CgO0GYeIF1pq"
      },
      "execution_count": 1,
      "outputs": []
    },
    {
      "cell_type": "code",
      "source": [
        "minion_info = {\n",
        "    \"squid\": [1,1,3],\n",
        "    \"fish\": [4,5,4],\n",
        "    \"pig\": [7,7,8]\n",
        "}"
      ],
      "metadata": {
        "id": "JAGu9dbKsUpt"
      },
      "execution_count": 2,
      "outputs": []
    },
    {
      "cell_type": "code",
      "source": [
        "class card:\n",
        "    def __init__(self,name):\n",
        "        self.name = name\n",
        "        self.mana = minion_info[self.name][0]\n",
        "        self.attack = minion_info[self.name][1]\n",
        "        self.health = minion_info[self.name][2]\n",
        "\n",
        "class minion(card):\n",
        "    def __init__(self):\n",
        "        #use class name to define card stats\n",
        "        super().__init__(name=type(self).__name__)\n",
        "\n",
        "\n",
        "class pig(minion):\n",
        "    pass\n",
        "\n",
        "class fish(minion):\n",
        "    pass\n",
        "\n",
        "class squid(minion):\n",
        "    pass"
      ],
      "metadata": {
        "id": "MmWczAG5dpB8"
      },
      "execution_count": 3,
      "outputs": []
    },
    {
      "cell_type": "code",
      "source": [
        "test = fish()"
      ],
      "metadata": {
        "id": "3za2Gwq-giAT"
      },
      "execution_count": 9,
      "outputs": []
    },
    {
      "cell_type": "code",
      "source": [
        "test.health"
      ],
      "metadata": {
        "colab": {
          "base_uri": "https://localhost:8080/"
        },
        "id": "Hpm1IUZKgkRC",
        "outputId": "11751c31-7109-4b9d-fd5f-29b09233b2c5"
      },
      "execution_count": 10,
      "outputs": [
        {
          "output_type": "execute_result",
          "data": {
            "text/plain": [
              "4"
            ]
          },
          "metadata": {},
          "execution_count": 10
        }
      ]
    },
    {
      "cell_type": "code",
      "source": [
        "class player:\n",
        "    def __init__(self,deck):\n",
        "        self.deck = deck\n",
        "        self.hand = []\n",
        "        self.board = []\n",
        "        self.max_health = 30\n",
        "        self._health = self.max_health\n",
        "        self.mana = 0\n",
        "\n",
        "\n",
        "    def draw(self,amount):\n",
        "      for i in range(amount):\n",
        "        card = self.deck.pop(0)\n",
        "        if len(self.hand) <= 10:\n",
        "          self.hand.append(card)\n",
        "\n",
        "    @property\n",
        "    def health(self):\n",
        "      return self._health\n",
        "\n",
        "    @health.setter\n",
        "    def modi_health(self, value):\n",
        "      self._health += value\n",
        "      if self._health > self.max_health:\n",
        "        self._health = self.max_health\n",
        ""
      ],
      "metadata": {
        "id": "CrIiOy3sF6Wb"
      },
      "execution_count": 6,
      "outputs": []
    },
    {
      "cell_type": "code",
      "source": [
        "class game:\n",
        "  def __init__(self,player_1,player_2):\n",
        "    self.p1 = player_1\n",
        "    self.p2 = player_2\n",
        "    coin_1 = random.randint(0,1)\n",
        "    coin_2 = 1 if coin_1 == 0 else 0\n",
        "    self.p1.draw(3+coin_1)\n",
        "    self.p2.draw(3+coin_2)\n",
        "    self.game_state = \"Mulligan\"\n",
        "\n",
        "\"\"\"\n",
        "  def action(self, action_num):\n",
        "\n",
        "    match self.game_state:\n",
        "      case 'Mulligan':\n",
        "\n",
        "    return\n",
        "\n",
        "\n",
        "  @property\n",
        "  def observe_p1(self):\n",
        "    hand_p1 = self.p1.hand\n",
        "    return hand_p1\n",
        "\"\"\"\n"
      ],
      "metadata": {
        "colab": {
          "base_uri": "https://localhost:8080/",
          "height": 53
        },
        "id": "-le4m_ASR9mA",
        "outputId": "83586d7e-a084-4562-f7fc-444121ce8115"
      },
      "execution_count": 7,
      "outputs": [
        {
          "output_type": "execute_result",
          "data": {
            "text/plain": [
              "\"\\n  def action(self, action_num):\\n\\n    match self.game_state:\\n      case 'Mulligan':\\n\\n    return\\n\\n\\n  @property\\n  def observe_p1(self):\\n    hand_p1 = self.p1.hand\\n    return hand_p1\\n\""
            ],
            "application/vnd.google.colaboratory.intrinsic+json": {
              "type": "string"
            }
          },
          "metadata": {},
          "execution_count": 7
        }
      ]
    },
    {
      "cell_type": "code",
      "source": [
        "\n",
        "deck1 = [1,2,3,4,5,6]\n",
        "deck2 = [1,2,3,4,5,6]\n",
        "\n",
        "player1 = Player(deck1)\n",
        "player2 = Player(deck2)\n",
        "\n",
        "games = game(player1,player2)\n",
        "\n",
        "#p1, p2 = games.observe\n",
        "#print(p1)\n",
        "#print(p2)"
      ],
      "metadata": {
        "colab": {
          "base_uri": "https://localhost:8080/",
          "height": 211
        },
        "id": "8siv0bHsSAGE",
        "outputId": "55ea2d29-6364-4f35-d70c-a4ef0e027a33"
      },
      "execution_count": 8,
      "outputs": [
        {
          "output_type": "error",
          "ename": "NameError",
          "evalue": "name 'Player' is not defined",
          "traceback": [
            "\u001b[0;31m---------------------------------------------------------------------------\u001b[0m",
            "\u001b[0;31mNameError\u001b[0m                                 Traceback (most recent call last)",
            "\u001b[0;32m<ipython-input-8-6ab3f9f99b79>\u001b[0m in \u001b[0;36m<cell line: 4>\u001b[0;34m()\u001b[0m\n\u001b[1;32m      2\u001b[0m \u001b[0mdeck2\u001b[0m \u001b[0;34m=\u001b[0m \u001b[0;34m[\u001b[0m\u001b[0;36m1\u001b[0m\u001b[0;34m,\u001b[0m\u001b[0;36m2\u001b[0m\u001b[0;34m,\u001b[0m\u001b[0;36m3\u001b[0m\u001b[0;34m,\u001b[0m\u001b[0;36m4\u001b[0m\u001b[0;34m,\u001b[0m\u001b[0;36m5\u001b[0m\u001b[0;34m,\u001b[0m\u001b[0;36m6\u001b[0m\u001b[0;34m]\u001b[0m\u001b[0;34m\u001b[0m\u001b[0;34m\u001b[0m\u001b[0m\n\u001b[1;32m      3\u001b[0m \u001b[0;34m\u001b[0m\u001b[0m\n\u001b[0;32m----> 4\u001b[0;31m \u001b[0mplayer1\u001b[0m \u001b[0;34m=\u001b[0m \u001b[0mPlayer\u001b[0m\u001b[0;34m(\u001b[0m\u001b[0mdeck1\u001b[0m\u001b[0;34m)\u001b[0m\u001b[0;34m\u001b[0m\u001b[0;34m\u001b[0m\u001b[0m\n\u001b[0m\u001b[1;32m      5\u001b[0m \u001b[0mplayer2\u001b[0m \u001b[0;34m=\u001b[0m \u001b[0mPlayer\u001b[0m\u001b[0;34m(\u001b[0m\u001b[0mdeck2\u001b[0m\u001b[0;34m)\u001b[0m\u001b[0;34m\u001b[0m\u001b[0;34m\u001b[0m\u001b[0m\n\u001b[1;32m      6\u001b[0m \u001b[0;34m\u001b[0m\u001b[0m\n",
            "\u001b[0;31mNameError\u001b[0m: name 'Player' is not defined"
          ]
        }
      ]
    },
    {
      "cell_type": "code",
      "source": [
        "memory_usage = sys.getsizeof(games)\n",
        "print(memory_usage)"
      ],
      "metadata": {
        "id": "w7NqEhsgL5VZ"
      },
      "execution_count": null,
      "outputs": []
    },
    {
      "cell_type": "code",
      "source": [
        "p1 , p2 = games.observe"
      ],
      "metadata": {
        "id": "3GCKsEH-o43L"
      },
      "execution_count": null,
      "outputs": []
    },
    {
      "cell_type": "code",
      "source": [
        "print(p1)\n",
        "print(p2)"
      ],
      "metadata": {
        "id": "IJI2HRbh-Kk9"
      },
      "execution_count": null,
      "outputs": []
    },
    {
      "cell_type": "code",
      "source": [
        "game.action(20)\n",
        "obs_p1, obs_p2, obs_full = game.observe"
      ],
      "metadata": {
        "id": "DRA3lgcDZFvZ"
      },
      "execution_count": null,
      "outputs": []
    }
  ],
  "metadata": {
    "colab": {
      "name": "Welcome To Colab",
      "provenance": [],
      "include_colab_link": true
    },
    "kernelspec": {
      "display_name": "Python 3",
      "name": "python3"
    }
  },
  "nbformat": 4,
  "nbformat_minor": 0
}