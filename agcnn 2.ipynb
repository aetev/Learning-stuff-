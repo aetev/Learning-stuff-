{
  "cells": [
    {
      "cell_type": "markdown",
      "metadata": {
        "id": "view-in-github",
        "colab_type": "text"
      },
      "source": [
        "<a href=\"https://colab.research.google.com/github/aetev/Learning-stuff-/blob/main/agcnn%202.ipynb\" target=\"_parent\"><img src=\"https://colab.research.google.com/assets/colab-badge.svg\" alt=\"Open In Colab\"/></a>"
      ]
    },
    {
      "cell_type": "code",
      "source": [
        "!pip install tensorflow_addons\n",
        "!pip install pydub"
      ],
      "metadata": {
        "colab": {
          "base_uri": "https://localhost:8080/"
        },
        "id": "-g36b6KfZQeH",
        "outputId": "f9756283-b563-4d01-ff9c-df428b8b4d81"
      },
      "execution_count": 1,
      "outputs": [
        {
          "output_type": "stream",
          "name": "stdout",
          "text": [
            "Requirement already satisfied: tensorflow_addons in /usr/local/lib/python3.10/dist-packages (0.21.0)\n",
            "Requirement already satisfied: packaging in /usr/local/lib/python3.10/dist-packages (from tensorflow_addons) (23.1)\n",
            "Requirement already satisfied: typeguard<3.0.0,>=2.7 in /usr/local/lib/python3.10/dist-packages (from tensorflow_addons) (2.13.3)\n",
            "Requirement already satisfied: pydub in /usr/local/lib/python3.10/dist-packages (0.25.1)\n"
          ]
        }
      ]
    },
    {
      "cell_type": "code",
      "source": [
        "from google.colab import drive\n",
        "drive.mount('/content/drive')"
      ],
      "metadata": {
        "colab": {
          "base_uri": "https://localhost:8080/"
        },
        "id": "sgfbRifTpdLa",
        "outputId": "b938faa0-8531-4c56-a733-b23318e42b1b"
      },
      "execution_count": 2,
      "outputs": [
        {
          "output_type": "stream",
          "name": "stdout",
          "text": [
            "Drive already mounted at /content/drive; to attempt to forcibly remount, call drive.mount(\"/content/drive\", force_remount=True).\n"
          ]
        }
      ]
    },
    {
      "cell_type": "code",
      "execution_count": 3,
      "metadata": {
        "colab": {
          "base_uri": "https://localhost:8080/"
        },
        "id": "-UiZf7YAawUu",
        "outputId": "5b7865ca-1c36-443a-f5bc-b0d27097de91"
      },
      "outputs": [
        {
          "output_type": "stream",
          "name": "stderr",
          "text": [
            "/usr/local/lib/python3.10/dist-packages/tensorflow_addons/utils/tfa_eol_msg.py:23: UserWarning: \n",
            "\n",
            "TensorFlow Addons (TFA) has ended development and introduction of new features.\n",
            "TFA has entered a minimal maintenance and release mode until a planned end of life in May 2024.\n",
            "Please modify downstream libraries to take dependencies from other repositories in our TensorFlow community (e.g. Keras, Keras-CV, and Keras-NLP). \n",
            "\n",
            "For more information see: https://github.com/tensorflow/addons/issues/2807 \n",
            "\n",
            "  warnings.warn(\n"
          ]
        }
      ],
      "source": [
        "import tensorflow as tf\n",
        "from tensorflow.keras import layers\n",
        "import matplotlib.pyplot as plt\n",
        "import numpy as np\n",
        "import tensorflow_addons as tfa\n",
        "from pydub import AudioSegment\n",
        "from pydub.utils import make_chunks\n",
        "import os\n",
        "from IPython.display import Audio"
      ]
    },
    {
      "cell_type": "code",
      "source": [
        "import librosa\n",
        "import numpy as np\n",
        "\n",
        "def reduce_sample_rate(wav_file,reduction):\n",
        "    # Load the audio file\n",
        "    audio, sr = librosa.load(wav_file, sr=None)\n",
        "\n",
        "    # Reduce the sample rate by half\n",
        "    reduced_audio = librosa.resample(audio, orig_sr=sr, target_sr=sr // reduction)\n",
        "\n",
        "    # Convert the audio to a NumPy array\n",
        "    audio_array = np.array(reduced_audio)\n",
        "\n",
        "    return audio_array\n",
        "\n",
        "def create_sliding_window(array, window_size, stride):\n",
        "    num_windows = (len(array) - window_size) // stride + 1\n",
        "    sliding_windows = np.lib.stride_tricks.sliding_window_view(array, (window_size,))\n",
        "\n",
        "    return sliding_windows[::stride]"
      ],
      "metadata": {
        "id": "KZA4iSHlpHeW"
      },
      "execution_count": 4,
      "outputs": []
    },
    {
      "cell_type": "code",
      "source": [
        "reduction = 4\n",
        "wav_file = '/content/drive/MyDrive/bass samples/NBKoanbandstuff.wav'\n",
        "audio, sr = librosa.load(wav_file, sr=None)\n",
        "result_array = reduce_sample_rate(wav_file,reduction)\n",
        "result_array = create_sliding_window(result_array,2500,100)\n",
        "result_array = np.expand_dims(result_array, axis=2)\n",
        "print(result_array.shape)"
      ],
      "metadata": {
        "id": "PwZorlMxq2Rx",
        "outputId": "9ae3b349-73f3-4d97-f1d5-06e40c3c77f7",
        "colab": {
          "base_uri": "https://localhost:8080/"
        }
      },
      "execution_count": 5,
      "outputs": [
        {
          "output_type": "stream",
          "name": "stdout",
          "text": [
            "(449, 2500, 1)\n"
          ]
        }
      ]
    },
    {
      "cell_type": "code",
      "source": [
        "audio_data = result_array[100].ravel()\n",
        "# Play the audio within the Jupyter Notebook\n",
        "Audio(data=audio_data, rate=sr/reduction)"
      ],
      "metadata": {
        "id": "ZIzKgHj1sIvX",
        "outputId": "f3f2d37b-8d90-4e48-fe26-cad6c3794367",
        "colab": {
          "base_uri": "https://localhost:8080/",
          "height": 75
        }
      },
      "execution_count": 6,
      "outputs": [
        {
          "output_type": "execute_result",
          "data": {
            "text/plain": [
              "<IPython.lib.display.Audio object>"
            ],
            "text/html": [
              "\n",
              "                <audio  controls=\"controls\" >\n",
              "                    <source src=\"data:audio/wav;base64,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\" type=\"audio/wav\" />\n",
              "                    Your browser does not support the audio element.\n",
              "                </audio>\n",
              "              "
            ]
          },
          "metadata": {},
          "execution_count": 6
        }
      ]
    },
    {
      "cell_type": "code",
      "source": [
        "#x_train = noise\n",
        "y_train = result_array\n",
        "print(y_train[0].shape)"
      ],
      "metadata": {
        "colab": {
          "base_uri": "https://localhost:8080/"
        },
        "id": "3XZfCdyC7S_D",
        "outputId": "41153927-bc18-406b-ae9f-93aac5ee0b1e"
      },
      "execution_count": 7,
      "outputs": [
        {
          "output_type": "stream",
          "name": "stdout",
          "text": [
            "(2500, 1)\n"
          ]
        }
      ]
    },
    {
      "cell_type": "code",
      "source": [
        "class ResNetBlock(layers.Layer):\n",
        "    def __init__(self, filters,kernel_size=3, strides=1,dilation_rate=1):\n",
        "        super(ResNetBlock, self).__init__()\n",
        "        self.conv1 = layers.Conv1D(filters, kernel_size, strides=strides,dilation_rate=dilation_rate, padding='same')\n",
        "        self.bn1 = layers.BatchNormalization()\n",
        "        self.conv2 = layers.Conv1D(filters, kernel_size, padding='same')\n",
        "        self.bn2 = layers.BatchNormalization()\n",
        "\n",
        "        if strides != 1:\n",
        "            self.residual = layers.Conv1D(filters, 1, strides=strides)\n",
        "        else:\n",
        "            self.residual = lambda x: x\n",
        "\n",
        "    def call(self, inputs, training=False):\n",
        "        x = self.conv1(inputs)\n",
        "        x = self.bn1(x, training=training)\n",
        "        x = tf.nn.relu(x)\n",
        "        x = self.conv2(x)\n",
        "        x = self.bn2(x, training=training)\n",
        "\n",
        "        r = self.residual(inputs)\n",
        "\n",
        "        x += r\n",
        "        return tf.nn.relu(x)"
      ],
      "metadata": {
        "id": "MUFnmA-82FDv"
      },
      "execution_count": 8,
      "outputs": []
    },
    {
      "cell_type": "code",
      "execution_count": 9,
      "metadata": {
        "id": "Gh2ORgUybdzt",
        "colab": {
          "base_uri": "https://localhost:8080/"
        },
        "outputId": "7bb0877b-2197-4b78-c3c8-344b1fdf1229"
      },
      "outputs": [
        {
          "output_type": "stream",
          "name": "stdout",
          "text": [
            "Model: \"model\"\n",
            "_________________________________________________________________\n",
            " Layer (type)                Output Shape              Param #   \n",
            "=================================================================\n",
            " input_1 (InputLayer)        [(None, None, 1)]         0         \n",
            "                                                                 \n",
            " batch_normalization (BatchN  (None, None, 1)          4         \n",
            " ormalization)                                                   \n",
            "                                                                 \n",
            " res_net_block (ResNetBlock)  (None, None, 64)         13120     \n",
            "                                                                 \n",
            " dropout (Dropout)           (None, None, 64)          0         \n",
            "                                                                 \n",
            " res_net_block_1 (ResNetBloc  (None, None, 64)         25216     \n",
            " k)                                                              \n",
            "                                                                 \n",
            " res_net_block_2 (ResNetBloc  (None, None, 64)         25216     \n",
            " k)                                                              \n",
            "                                                                 \n",
            " dropout_1 (Dropout)         (None, None, 64)          0         \n",
            "                                                                 \n",
            " res_net_block_3 (ResNetBloc  (None, None, 64)         25216     \n",
            " k)                                                              \n",
            "                                                                 \n",
            " dropout_2 (Dropout)         (None, None, 64)          0         \n",
            "                                                                 \n",
            " res_net_block_4 (ResNetBloc  (None, None, 64)         25216     \n",
            " k)                                                              \n",
            "                                                                 \n",
            " dropout_3 (Dropout)         (None, None, 64)          0         \n",
            "                                                                 \n",
            " res_net_block_5 (ResNetBloc  (None, None, 64)         25216     \n",
            " k)                                                              \n",
            "                                                                 \n",
            " dropout_4 (Dropout)         (None, None, 64)          0         \n",
            "                                                                 \n",
            " global_average_pooling1d (G  (None, 64)               0         \n",
            " lobalAveragePooling1D)                                          \n",
            "                                                                 \n",
            " dense_1 (Dense)             (None, 1)                 65        \n",
            "                                                                 \n",
            "=================================================================\n",
            "Total params: 139,269\n",
            "Trainable params: 137,731\n",
            "Non-trainable params: 1,538\n",
            "_________________________________________________________________\n"
          ]
        }
      ],
      "source": [
        "def build_discriminator():\n",
        "    input_series = layers.Input(shape=(None,1))\n",
        "\n",
        "    x = layers.BatchNormalization()(input_series)\n",
        "\n",
        "    # Convolutional layers\n",
        "    x = ResNetBlock(64,3,1,1)(x)\n",
        "    x = layers.Dropout(0.2)(x)\n",
        "\n",
        "    x = ResNetBlock(64,3,1,2)(x)\n",
        "\n",
        "\n",
        "    x = ResNetBlock(64,3,1,4)(x)\n",
        "    x = layers.Dropout(0.2)(x)\n",
        "\n",
        "    x = ResNetBlock(64,3,1,8)(x)\n",
        "    x = layers.Dropout(0.2)(x)\n",
        "\n",
        "    x = ResNetBlock(64,3,1,12)(x)\n",
        "    x = layers.Dropout(0.2)(x)\n",
        "\n",
        "    x = ResNetBlock(64,3,1,24)(x)\n",
        "    x = layers.Dropout(0.2)(x)\n",
        "\n",
        "\n",
        "\n",
        "    # Global pooling\n",
        "    pooled_output = layers.GlobalAveragePooling1D()(x)\n",
        "\n",
        "    # Dense layer\n",
        "    dense_output = layers.Dense(64, activation='relu')(pooled_output)\n",
        "\n",
        "    # Dense layer\n",
        "    dense_output = layers.Dense(1, activation='sigmoid')(pooled_output)\n",
        "\n",
        "    model = tf.keras.models.Model(inputs=input_series, outputs=dense_output)\n",
        "    return model\n",
        "\n",
        "discriminator = build_discriminator()\n",
        "discriminator.summary()\n"
      ]
    },
    {
      "cell_type": "code",
      "source": [
        "def build_generator():\n",
        "    input_series = layers.Input(shape=(None,1))\n",
        "\n",
        "    x = layers.BatchNormalization()(input_series)\n",
        "\n",
        "    x = ResNetBlock(64,dilation_rate=12)(x)\n",
        "\n",
        "\n",
        "    x = ResNetBlock(64,dilation_rate=8)(x)\n",
        "\n",
        "\n",
        "    x = ResNetBlock(64,dilation_rate=4)(x)\n",
        "\n",
        "\n",
        "    x = ResNetBlock(64,dilation_rate=2)(x)\n",
        "\n",
        "\n",
        "    x = ResNetBlock(64,dilation_rate=1)(x)\n",
        "\n",
        "    x = layers.Conv1D(1,1)(x)\n",
        "\n",
        "\n",
        "\n",
        "    model = tf.keras.models.Model(inputs=input_series, outputs=x)\n",
        "    return model\n",
        "\n",
        "generator = build_generator()\n",
        "generator.summary()\n"
      ],
      "metadata": {
        "id": "8q_-l7f8eC-i",
        "colab": {
          "base_uri": "https://localhost:8080/"
        },
        "outputId": "efbfbd0c-a30a-4205-88c1-45a1b939140d"
      },
      "execution_count": 10,
      "outputs": [
        {
          "output_type": "stream",
          "name": "stdout",
          "text": [
            "Model: \"model_1\"\n",
            "_________________________________________________________________\n",
            " Layer (type)                Output Shape              Param #   \n",
            "=================================================================\n",
            " input_2 (InputLayer)        [(None, None, 1)]         0         \n",
            "                                                                 \n",
            " batch_normalization_13 (Bat  (None, None, 1)          4         \n",
            " chNormalization)                                                \n",
            "                                                                 \n",
            " res_net_block_6 (ResNetBloc  (None, None, 64)         13120     \n",
            " k)                                                              \n",
            "                                                                 \n",
            " res_net_block_7 (ResNetBloc  (None, None, 64)         25216     \n",
            " k)                                                              \n",
            "                                                                 \n",
            " res_net_block_8 (ResNetBloc  (None, None, 64)         25216     \n",
            " k)                                                              \n",
            "                                                                 \n",
            " res_net_block_9 (ResNetBloc  (None, None, 64)         25216     \n",
            " k)                                                              \n",
            "                                                                 \n",
            " res_net_block_10 (ResNetBlo  (None, None, 64)         25216     \n",
            " ck)                                                             \n",
            "                                                                 \n",
            " conv1d_22 (Conv1D)          (None, None, 1)           65        \n",
            "                                                                 \n",
            "=================================================================\n",
            "Total params: 114,053\n",
            "Trainable params: 112,771\n",
            "Non-trainable params: 1,282\n",
            "_________________________________________________________________\n"
          ]
        }
      ]
    },
    {
      "cell_type": "code",
      "execution_count": 11,
      "metadata": {
        "id": "aFFOfuDfbpD9"
      },
      "outputs": [],
      "source": [
        "# Compile models\n",
        "generator_optimizer = tf.keras.optimizers.Adam(0.0004)\n",
        "discriminator_optimizer = tf.keras.optimizers.Adam(0.0004)\n",
        "\n",
        "#generator_optimizer = tf.keras.optimizers.experimental.SGD(1e-4)\n",
        "#discriminator_optimizer = tf.keras.optimizers.experimental.SGD(1e-4)"
      ]
    },
    {
      "cell_type": "code",
      "execution_count": 12,
      "metadata": {
        "id": "T3PtShxlbn9c"
      },
      "outputs": [],
      "source": [
        "def discriminator_loss(real_output, fake_output):\n",
        "    real_loss = tf.keras.losses.BinaryCrossentropy()(tf.ones_like(real_output), real_output)\n",
        "    fake_loss = tf.keras.losses.BinaryCrossentropy()(tf.zeros_like(fake_output), fake_output)\n",
        "    total_loss = real_loss + fake_loss\n",
        "    return total_loss\n",
        "\n",
        "def generator_loss(fake_output):\n",
        "    return tf.keras.losses.BinaryCrossentropy()(tf.ones_like(fake_output), fake_output)\n",
        "\n"
      ]
    },
    {
      "cell_type": "code",
      "source": [
        "def print_img(generator_model):\n",
        "    # Generate and save sample images\n",
        "    noise = tf.random.normal([10, 100])\n",
        "    sampled_labels = tf.constant([[i % 10] for i in range(10)], dtype=tf.int32)\n",
        "    generated_images = generator_model.predict([noise, sampled_labels])\n",
        "    fig, axs = plt.subplots(1, 10, figsize=(10, 10))\n",
        "    for i in range(10):\n",
        "        axs[i].imshow(generated_images[i], cmap=\"gray\")\n",
        "        axs[i].axis(\"off\")\n",
        "    plt.show()"
      ],
      "metadata": {
        "id": "vAoSvqXLsQHq"
      },
      "execution_count": 13,
      "outputs": []
    },
    {
      "cell_type": "code",
      "source": [
        "noise = tf.random.normal(shape=(1,10000,1))\n",
        "\n",
        "test = generator.predict(noise)\n",
        "print(test.shape)"
      ],
      "metadata": {
        "id": "PAqGbZU0Z5yl",
        "colab": {
          "base_uri": "https://localhost:8080/"
        },
        "outputId": "9cf8649c-6a0d-490d-f6c5-b4fcd2053930"
      },
      "execution_count": 17,
      "outputs": [
        {
          "output_type": "stream",
          "name": "stdout",
          "text": [
            "1/1 [==============================] - 2s 2s/step\n",
            "(1, 10000, 1)\n"
          ]
        }
      ]
    },
    {
      "cell_type": "code",
      "source": [
        "\n",
        "#@tf.function\n",
        "def train_step(target_audios):\n",
        "\n",
        "\n",
        "  for i in range(5):\n",
        "      noise = tf.random.normal(shape=(target_audios.shape))\n",
        "      generated_audio = generator(noise, training=True)\n",
        "      with tf.GradientTape() as disc_tape:\n",
        "\n",
        "          real_output = discriminator(target_audios, training=True)\n",
        "          fake_output = discriminator(generated_audio, training=True)\n",
        "\n",
        "          disc_loss = discriminator_loss(real_output, fake_output)\n",
        "\n",
        "      gradients_of_discriminator = disc_tape.gradient(disc_loss, discriminator.trainable_variables)\n",
        "      discriminator_optimizer.apply_gradients(zip(gradients_of_discriminator, discriminator.trainable_variables))\n",
        "\n",
        "      if i ==0:\n",
        "          weights = discriminator.get_weights()\n",
        "\n",
        "\n",
        "  with tf.GradientTape() as gen_tape:\n",
        "    noise = tf.random.normal(shape=(target_audios.shape))\n",
        "    generated_audio = generator(noise, training=True)\n",
        "    fake_output = discriminator(generated_audio, training=True)\n",
        "    gen_loss = generator_loss(fake_output)\n",
        "\n",
        "  gradients_of_generator = gen_tape.gradient(gen_loss, generator.trainable_variables)\n",
        "  generator_optimizer.apply_gradients(zip(gradients_of_generator, generator.trainable_variables))\n",
        "\n",
        "  discriminator.set_weights(weights)\n",
        "\n",
        "\n",
        "  tf.print(\"disc_loss\",disc_loss,'gen_loss',gen_loss)\n",
        "\n",
        "\n",
        "def train(generator, discriminator\n",
        "          , epochs, batch_size):\n",
        "    for epoch in range(epochs):\n",
        "        for batch in range(len(y_train) // batch_size):\n",
        "            #images = x_train[batch * batch_size: (batch+1) * batch_size]\n",
        "            target_audios = y_train[batch * batch_size: (batch+1) * batch_size]\n",
        "\n",
        "            train_step(target_audios)\n",
        "\n",
        "        if (epoch + 1) % 5 == 0:\n",
        "            print(f\"Epoch {epoch+1}/{epochs}\")\n",
        "            test = generator.predict(noise)\n",
        "            audio_data = test.ravel()\n",
        "            # Play the audio within the Jupyter Notebook\n",
        "            Audio(data=audio_data, rate=sr/reduction)\n",
        "\n",
        "\n",
        "# Train the GAN\n",
        "EPOCHS = 2000000\n",
        "BATCH_SIZE = 64\n",
        "num_unrolling_steps = 20  # Set the desired number of unrolling steps\n",
        "train(generator, discriminator, EPOCHS, BATCH_SIZE)"
      ],
      "metadata": {
        "colab": {
          "base_uri": "https://localhost:8080/",
          "height": 534
        },
        "id": "wp5mnkMVVgPV",
        "outputId": "969d9256-a14d-4273-95f5-7b7ee6abe3ad"
      },
      "execution_count": 15,
      "outputs": [
        {
          "output_type": "stream",
          "name": "stdout",
          "text": [
            "disc_loss 1.18114436 gen_loss 1.86107922\n",
            "disc_loss 0.92131263 gen_loss 1.70045447\n",
            "disc_loss 0.775848806 gen_loss 1.47319674\n",
            "disc_loss 0.714042783 gen_loss 1.27256262\n",
            "disc_loss 0.833691657 gen_loss 1.06044006\n",
            "disc_loss 0.930337071 gen_loss 0.94697237\n",
            "disc_loss 1.07309973 gen_loss 0.85146153\n",
            "disc_loss 1.00525475 gen_loss 0.866589427\n",
            "disc_loss 0.829957962 gen_loss 1.00494111\n"
          ]
        },
        {
          "output_type": "error",
          "ename": "KeyboardInterrupt",
          "evalue": "ignored",
          "traceback": [
            "\u001b[0;31m---------------------------------------------------------------------------\u001b[0m",
            "\u001b[0;31mKeyboardInterrupt\u001b[0m                         Traceback (most recent call last)",
            "\u001b[0;32m<ipython-input-15-579a8e3373ff>\u001b[0m in \u001b[0;36m<cell line: 58>\u001b[0;34m()\u001b[0m\n\u001b[1;32m     56\u001b[0m \u001b[0mBATCH_SIZE\u001b[0m \u001b[0;34m=\u001b[0m \u001b[0;36m64\u001b[0m\u001b[0;34m\u001b[0m\u001b[0;34m\u001b[0m\u001b[0m\n\u001b[1;32m     57\u001b[0m \u001b[0mnum_unrolling_steps\u001b[0m \u001b[0;34m=\u001b[0m \u001b[0;36m20\u001b[0m  \u001b[0;31m# Set the desired number of unrolling steps\u001b[0m\u001b[0;34m\u001b[0m\u001b[0;34m\u001b[0m\u001b[0m\n\u001b[0;32m---> 58\u001b[0;31m \u001b[0mtrain\u001b[0m\u001b[0;34m(\u001b[0m\u001b[0mgenerator\u001b[0m\u001b[0;34m,\u001b[0m \u001b[0mdiscriminator\u001b[0m\u001b[0;34m,\u001b[0m \u001b[0mEPOCHS\u001b[0m\u001b[0;34m,\u001b[0m \u001b[0mBATCH_SIZE\u001b[0m\u001b[0;34m)\u001b[0m\u001b[0;34m\u001b[0m\u001b[0;34m\u001b[0m\u001b[0m\n\u001b[0m",
            "\u001b[0;32m<ipython-input-15-579a8e3373ff>\u001b[0m in \u001b[0;36mtrain\u001b[0;34m(generator, discriminator, epochs, batch_size)\u001b[0m\n\u001b[1;32m     42\u001b[0m             \u001b[0mtarget_audios\u001b[0m \u001b[0;34m=\u001b[0m \u001b[0my_train\u001b[0m\u001b[0;34m[\u001b[0m\u001b[0mbatch\u001b[0m \u001b[0;34m*\u001b[0m \u001b[0mbatch_size\u001b[0m\u001b[0;34m:\u001b[0m \u001b[0;34m(\u001b[0m\u001b[0mbatch\u001b[0m\u001b[0;34m+\u001b[0m\u001b[0;36m1\u001b[0m\u001b[0;34m)\u001b[0m \u001b[0;34m*\u001b[0m \u001b[0mbatch_size\u001b[0m\u001b[0;34m]\u001b[0m\u001b[0;34m\u001b[0m\u001b[0;34m\u001b[0m\u001b[0m\n\u001b[1;32m     43\u001b[0m \u001b[0;34m\u001b[0m\u001b[0m\n\u001b[0;32m---> 44\u001b[0;31m             \u001b[0mtrain_step\u001b[0m\u001b[0;34m(\u001b[0m\u001b[0mtarget_audios\u001b[0m\u001b[0;34m)\u001b[0m\u001b[0;34m\u001b[0m\u001b[0;34m\u001b[0m\u001b[0m\n\u001b[0m\u001b[1;32m     45\u001b[0m \u001b[0;34m\u001b[0m\u001b[0m\n\u001b[1;32m     46\u001b[0m         \u001b[0;32mif\u001b[0m \u001b[0;34m(\u001b[0m\u001b[0mepoch\u001b[0m \u001b[0;34m+\u001b[0m \u001b[0;36m1\u001b[0m\u001b[0;34m)\u001b[0m \u001b[0;34m%\u001b[0m \u001b[0;36m5\u001b[0m \u001b[0;34m==\u001b[0m \u001b[0;36m0\u001b[0m\u001b[0;34m:\u001b[0m\u001b[0;34m\u001b[0m\u001b[0;34m\u001b[0m\u001b[0m\n",
            "\u001b[0;32m<ipython-input-15-579a8e3373ff>\u001b[0m in \u001b[0;36mtrain_step\u001b[0;34m(target_audios)\u001b[0m\n\u001b[1;32m     26\u001b[0m     \u001b[0mgen_loss\u001b[0m \u001b[0;34m=\u001b[0m \u001b[0mgenerator_loss\u001b[0m\u001b[0;34m(\u001b[0m\u001b[0mfake_output\u001b[0m\u001b[0;34m)\u001b[0m\u001b[0;34m\u001b[0m\u001b[0;34m\u001b[0m\u001b[0m\n\u001b[1;32m     27\u001b[0m \u001b[0;34m\u001b[0m\u001b[0m\n\u001b[0;32m---> 28\u001b[0;31m   \u001b[0mgradients_of_generator\u001b[0m \u001b[0;34m=\u001b[0m \u001b[0mgen_tape\u001b[0m\u001b[0;34m.\u001b[0m\u001b[0mgradient\u001b[0m\u001b[0;34m(\u001b[0m\u001b[0mgen_loss\u001b[0m\u001b[0;34m,\u001b[0m \u001b[0mgenerator\u001b[0m\u001b[0;34m.\u001b[0m\u001b[0mtrainable_variables\u001b[0m\u001b[0;34m)\u001b[0m\u001b[0;34m\u001b[0m\u001b[0;34m\u001b[0m\u001b[0m\n\u001b[0m\u001b[1;32m     29\u001b[0m   \u001b[0mgenerator_optimizer\u001b[0m\u001b[0;34m.\u001b[0m\u001b[0mapply_gradients\u001b[0m\u001b[0;34m(\u001b[0m\u001b[0mzip\u001b[0m\u001b[0;34m(\u001b[0m\u001b[0mgradients_of_generator\u001b[0m\u001b[0;34m,\u001b[0m \u001b[0mgenerator\u001b[0m\u001b[0;34m.\u001b[0m\u001b[0mtrainable_variables\u001b[0m\u001b[0;34m)\u001b[0m\u001b[0;34m)\u001b[0m\u001b[0;34m\u001b[0m\u001b[0;34m\u001b[0m\u001b[0m\n\u001b[1;32m     30\u001b[0m \u001b[0;34m\u001b[0m\u001b[0m\n",
            "\u001b[0;32m/usr/local/lib/python3.10/dist-packages/tensorflow/python/eager/backprop.py\u001b[0m in \u001b[0;36mgradient\u001b[0;34m(self, target, sources, output_gradients, unconnected_gradients)\u001b[0m\n\u001b[1;32m   1061\u001b[0m                           for x in output_gradients]\n\u001b[1;32m   1062\u001b[0m \u001b[0;34m\u001b[0m\u001b[0m\n\u001b[0;32m-> 1063\u001b[0;31m     flat_grad = imperative_grad.imperative_grad(\n\u001b[0m\u001b[1;32m   1064\u001b[0m         \u001b[0mself\u001b[0m\u001b[0;34m.\u001b[0m\u001b[0m_tape\u001b[0m\u001b[0;34m,\u001b[0m\u001b[0;34m\u001b[0m\u001b[0;34m\u001b[0m\u001b[0m\n\u001b[1;32m   1065\u001b[0m         \u001b[0mflat_targets\u001b[0m\u001b[0;34m,\u001b[0m\u001b[0;34m\u001b[0m\u001b[0;34m\u001b[0m\u001b[0m\n",
            "\u001b[0;32m/usr/local/lib/python3.10/dist-packages/tensorflow/python/eager/imperative_grad.py\u001b[0m in \u001b[0;36mimperative_grad\u001b[0;34m(tape, target, sources, output_gradients, sources_raw, unconnected_gradients)\u001b[0m\n\u001b[1;32m     65\u001b[0m         \"Unknown value for unconnected_gradients: %r\" % unconnected_gradients)\n\u001b[1;32m     66\u001b[0m \u001b[0;34m\u001b[0m\u001b[0m\n\u001b[0;32m---> 67\u001b[0;31m   return pywrap_tfe.TFE_Py_TapeGradient(\n\u001b[0m\u001b[1;32m     68\u001b[0m       \u001b[0mtape\u001b[0m\u001b[0;34m.\u001b[0m\u001b[0m_tape\u001b[0m\u001b[0;34m,\u001b[0m  \u001b[0;31m# pylint: disable=protected-access\u001b[0m\u001b[0;34m\u001b[0m\u001b[0;34m\u001b[0m\u001b[0m\n\u001b[1;32m     69\u001b[0m       \u001b[0mtarget\u001b[0m\u001b[0;34m,\u001b[0m\u001b[0;34m\u001b[0m\u001b[0;34m\u001b[0m\u001b[0m\n",
            "\u001b[0;32m/usr/local/lib/python3.10/dist-packages/tensorflow/python/eager/backprop.py\u001b[0m in \u001b[0;36m_gradient_function\u001b[0;34m(op_name, attr_tuple, num_inputs, inputs, outputs, out_grads, skip_input_indices, forward_pass_name_scope)\u001b[0m\n\u001b[1;32m    144\u001b[0m       \u001b[0mgradient_name_scope\u001b[0m \u001b[0;34m+=\u001b[0m \u001b[0mforward_pass_name_scope\u001b[0m \u001b[0;34m+\u001b[0m \u001b[0;34m\"/\"\u001b[0m\u001b[0;34m\u001b[0m\u001b[0;34m\u001b[0m\u001b[0m\n\u001b[1;32m    145\u001b[0m     \u001b[0;32mwith\u001b[0m \u001b[0mops\u001b[0m\u001b[0;34m.\u001b[0m\u001b[0mname_scope\u001b[0m\u001b[0;34m(\u001b[0m\u001b[0mgradient_name_scope\u001b[0m\u001b[0;34m)\u001b[0m\u001b[0;34m:\u001b[0m\u001b[0;34m\u001b[0m\u001b[0;34m\u001b[0m\u001b[0m\n\u001b[0;32m--> 146\u001b[0;31m       \u001b[0;32mreturn\u001b[0m \u001b[0mgrad_fn\u001b[0m\u001b[0;34m(\u001b[0m\u001b[0mmock_op\u001b[0m\u001b[0;34m,\u001b[0m \u001b[0;34m*\u001b[0m\u001b[0mout_grads\u001b[0m\u001b[0;34m)\u001b[0m\u001b[0;34m\u001b[0m\u001b[0;34m\u001b[0m\u001b[0m\n\u001b[0m\u001b[1;32m    147\u001b[0m   \u001b[0;32melse\u001b[0m\u001b[0;34m:\u001b[0m\u001b[0;34m\u001b[0m\u001b[0;34m\u001b[0m\u001b[0m\n\u001b[1;32m    148\u001b[0m     \u001b[0;32mreturn\u001b[0m \u001b[0mgrad_fn\u001b[0m\u001b[0;34m(\u001b[0m\u001b[0mmock_op\u001b[0m\u001b[0;34m,\u001b[0m \u001b[0;34m*\u001b[0m\u001b[0mout_grads\u001b[0m\u001b[0;34m)\u001b[0m\u001b[0;34m\u001b[0m\u001b[0;34m\u001b[0m\u001b[0m\n",
            "\u001b[0;32m/usr/local/lib/python3.10/dist-packages/tensorflow/python/ops/math_grad.py\u001b[0m in \u001b[0;36m_AddGrad\u001b[0;34m(op, grad)\u001b[0m\n\u001b[1;32m   1308\u001b[0m     \u001b[0mgy\u001b[0m \u001b[0;34m=\u001b[0m \u001b[0mgrad\u001b[0m\u001b[0;34m\u001b[0m\u001b[0;34m\u001b[0m\u001b[0m\n\u001b[1;32m   1309\u001b[0m   \u001b[0;32melse\u001b[0m\u001b[0;34m:\u001b[0m\u001b[0;34m\u001b[0m\u001b[0;34m\u001b[0m\u001b[0m\n\u001b[0;32m-> 1310\u001b[0;31m     \u001b[0mgy\u001b[0m \u001b[0;34m=\u001b[0m \u001b[0marray_ops\u001b[0m\u001b[0;34m.\u001b[0m\u001b[0mreshape\u001b[0m\u001b[0;34m(\u001b[0m\u001b[0mmath_ops\u001b[0m\u001b[0;34m.\u001b[0m\u001b[0mreduce_sum\u001b[0m\u001b[0;34m(\u001b[0m\u001b[0mgrad\u001b[0m\u001b[0;34m,\u001b[0m \u001b[0mry\u001b[0m\u001b[0;34m)\u001b[0m\u001b[0;34m,\u001b[0m \u001b[0msy\u001b[0m\u001b[0;34m)\u001b[0m\u001b[0;34m\u001b[0m\u001b[0;34m\u001b[0m\u001b[0m\n\u001b[0m\u001b[1;32m   1311\u001b[0m   \u001b[0;32mreturn\u001b[0m \u001b[0;34m(\u001b[0m\u001b[0mgx\u001b[0m\u001b[0;34m,\u001b[0m \u001b[0mgy\u001b[0m\u001b[0;34m)\u001b[0m\u001b[0;34m\u001b[0m\u001b[0;34m\u001b[0m\u001b[0m\n\u001b[1;32m   1312\u001b[0m \u001b[0;34m\u001b[0m\u001b[0m\n",
            "\u001b[0;32m/usr/local/lib/python3.10/dist-packages/tensorflow/python/util/traceback_utils.py\u001b[0m in \u001b[0;36merror_handler\u001b[0;34m(*args, **kwargs)\u001b[0m\n\u001b[1;32m    148\u001b[0m     \u001b[0mfiltered_tb\u001b[0m \u001b[0;34m=\u001b[0m \u001b[0;32mNone\u001b[0m\u001b[0;34m\u001b[0m\u001b[0;34m\u001b[0m\u001b[0m\n\u001b[1;32m    149\u001b[0m     \u001b[0;32mtry\u001b[0m\u001b[0;34m:\u001b[0m\u001b[0;34m\u001b[0m\u001b[0;34m\u001b[0m\u001b[0m\n\u001b[0;32m--> 150\u001b[0;31m       \u001b[0;32mreturn\u001b[0m \u001b[0mfn\u001b[0m\u001b[0;34m(\u001b[0m\u001b[0;34m*\u001b[0m\u001b[0margs\u001b[0m\u001b[0;34m,\u001b[0m \u001b[0;34m**\u001b[0m\u001b[0mkwargs\u001b[0m\u001b[0;34m)\u001b[0m\u001b[0;34m\u001b[0m\u001b[0;34m\u001b[0m\u001b[0m\n\u001b[0m\u001b[1;32m    151\u001b[0m     \u001b[0;32mexcept\u001b[0m \u001b[0mException\u001b[0m \u001b[0;32mas\u001b[0m \u001b[0me\u001b[0m\u001b[0;34m:\u001b[0m\u001b[0;34m\u001b[0m\u001b[0;34m\u001b[0m\u001b[0m\n\u001b[1;32m    152\u001b[0m       \u001b[0mfiltered_tb\u001b[0m \u001b[0;34m=\u001b[0m \u001b[0m_process_traceback_frames\u001b[0m\u001b[0;34m(\u001b[0m\u001b[0me\u001b[0m\u001b[0;34m.\u001b[0m\u001b[0m__traceback__\u001b[0m\u001b[0;34m)\u001b[0m\u001b[0;34m\u001b[0m\u001b[0;34m\u001b[0m\u001b[0m\n",
            "\u001b[0;32m/usr/local/lib/python3.10/dist-packages/tensorflow/python/util/dispatch.py\u001b[0m in \u001b[0;36mop_dispatch_handler\u001b[0;34m(*args, **kwargs)\u001b[0m\n\u001b[1;32m   1174\u001b[0m       \u001b[0;31m# Fallback dispatch system (dispatch v1):\u001b[0m\u001b[0;34m\u001b[0m\u001b[0;34m\u001b[0m\u001b[0m\n\u001b[1;32m   1175\u001b[0m       \u001b[0;32mtry\u001b[0m\u001b[0;34m:\u001b[0m\u001b[0;34m\u001b[0m\u001b[0;34m\u001b[0m\u001b[0m\n\u001b[0;32m-> 1176\u001b[0;31m         \u001b[0;32mreturn\u001b[0m \u001b[0mdispatch_target\u001b[0m\u001b[0;34m(\u001b[0m\u001b[0;34m*\u001b[0m\u001b[0margs\u001b[0m\u001b[0;34m,\u001b[0m \u001b[0;34m**\u001b[0m\u001b[0mkwargs\u001b[0m\u001b[0;34m)\u001b[0m\u001b[0;34m\u001b[0m\u001b[0;34m\u001b[0m\u001b[0m\n\u001b[0m\u001b[1;32m   1177\u001b[0m       \u001b[0;32mexcept\u001b[0m \u001b[0;34m(\u001b[0m\u001b[0mTypeError\u001b[0m\u001b[0;34m,\u001b[0m \u001b[0mValueError\u001b[0m\u001b[0;34m)\u001b[0m\u001b[0;34m:\u001b[0m\u001b[0;34m\u001b[0m\u001b[0;34m\u001b[0m\u001b[0m\n\u001b[1;32m   1178\u001b[0m         \u001b[0;31m# Note: convert_to_eager_tensor currently raises a ValueError, not a\u001b[0m\u001b[0;34m\u001b[0m\u001b[0;34m\u001b[0m\u001b[0m\n",
            "\u001b[0;32m/usr/local/lib/python3.10/dist-packages/tensorflow/python/ops/math_ops.py\u001b[0m in \u001b[0;36mreduce_sum\u001b[0;34m(input_tensor, axis, keepdims, name)\u001b[0m\n\u001b[1;32m   2362\u001b[0m   \"\"\"\n\u001b[1;32m   2363\u001b[0m \u001b[0;34m\u001b[0m\u001b[0m\n\u001b[0;32m-> 2364\u001b[0;31m   return reduce_sum_with_dims(input_tensor, axis, keepdims, name,\n\u001b[0m\u001b[1;32m   2365\u001b[0m                               _ReductionDims(input_tensor, axis))\n\u001b[1;32m   2366\u001b[0m \u001b[0;34m\u001b[0m\u001b[0m\n",
            "\u001b[0;32m/usr/local/lib/python3.10/dist-packages/tensorflow/python/ops/math_ops.py\u001b[0m in \u001b[0;36mreduce_sum_with_dims\u001b[0;34m(input_tensor, axis, keepdims, name, dims)\u001b[0m\n\u001b[1;32m   2374\u001b[0m   return _may_reduce_to_scalar(\n\u001b[1;32m   2375\u001b[0m       \u001b[0mkeepdims\u001b[0m\u001b[0;34m,\u001b[0m \u001b[0maxis\u001b[0m\u001b[0;34m,\u001b[0m\u001b[0;34m\u001b[0m\u001b[0;34m\u001b[0m\u001b[0m\n\u001b[0;32m-> 2376\u001b[0;31m       gen_math_ops._sum(input_tensor, dims, keepdims, name=name))\n\u001b[0m\u001b[1;32m   2377\u001b[0m \u001b[0;34m\u001b[0m\u001b[0m\n\u001b[1;32m   2378\u001b[0m \u001b[0;34m\u001b[0m\u001b[0m\n",
            "\u001b[0;32m/usr/local/lib/python3.10/dist-packages/tensorflow/python/ops/gen_math_ops.py\u001b[0m in \u001b[0;36m_sum\u001b[0;34m(input, axis, keep_dims, name)\u001b[0m\n\u001b[1;32m  11406\u001b[0m   \u001b[0;32mif\u001b[0m \u001b[0mtld\u001b[0m\u001b[0;34m.\u001b[0m\u001b[0mis_eager\u001b[0m\u001b[0;34m:\u001b[0m\u001b[0;34m\u001b[0m\u001b[0;34m\u001b[0m\u001b[0m\n\u001b[1;32m  11407\u001b[0m     \u001b[0;32mtry\u001b[0m\u001b[0;34m:\u001b[0m\u001b[0;34m\u001b[0m\u001b[0;34m\u001b[0m\u001b[0m\n\u001b[0;32m> 11408\u001b[0;31m       _result = pywrap_tfe.TFE_Py_FastPathExecute(\n\u001b[0m\u001b[1;32m  11409\u001b[0m         _ctx, \"Sum\", name, input, axis, \"keep_dims\", keep_dims)\n\u001b[1;32m  11410\u001b[0m       \u001b[0;32mreturn\u001b[0m \u001b[0m_result\u001b[0m\u001b[0;34m\u001b[0m\u001b[0;34m\u001b[0m\u001b[0m\n",
            "\u001b[0;31mKeyboardInterrupt\u001b[0m: "
          ]
        }
      ]
    },
    {
      "cell_type": "code",
      "source": [
        "            test = generator.predict(noise)\n",
        "            audio_data = test.ravel()\n",
        "            # Play the audio within the Jupyter Notebook\n",
        "            Audio(data=audio_data, rate=sr/reduction)"
      ],
      "metadata": {
        "id": "mrmv1Zri-jjc",
        "outputId": "0cdb0bbd-6eb5-4f1c-dba6-1e7a2b90b27a",
        "colab": {
          "base_uri": "https://localhost:8080/",
          "height": 93
        }
      },
      "execution_count": 18,
      "outputs": [
        {
          "output_type": "stream",
          "name": "stdout",
          "text": [
            "1/1 [==============================] - 0s 100ms/step\n"
          ]
        },
        {
          "output_type": "execute_result",
          "data": {
            "text/plain": [
              "<IPython.lib.display.Audio object>"
            ],
            "text/html": [
              "\n",
              "                <audio  controls=\"controls\" >\n",
              "                    <source src=\"data:audio/wav;base64,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\" type=\"audio/wav\" />\n",
              "                    Your browser does not support the audio element.\n",
              "                </audio>\n",
              "              "
            ]
          },
          "metadata": {},
          "execution_count": 18
        }
      ]
    }
  ],
  "metadata": {
    "colab": {
      "name": "Overview of Colaboratory Features",
      "provenance": [],
      "include_colab_link": true
    },
    "kernelspec": {
      "display_name": "Python 3 (ipykernel)",
      "language": "python",
      "name": "python3"
    },
    "language_info": {
      "codemirror_mode": {
        "name": "ipython",
        "version": 3
      },
      "file_extension": ".py",
      "mimetype": "text/x-python",
      "name": "python",
      "nbconvert_exporter": "python",
      "pygments_lexer": "ipython3",
      "version": "3.8.10"
    }
  },
  "nbformat": 4,
  "nbformat_minor": 0
}