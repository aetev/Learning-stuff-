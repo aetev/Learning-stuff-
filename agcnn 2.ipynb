{
 "cells": [
  {
   "cell_type": "markdown",
   "metadata": {
    "colab_type": "text",
    "id": "view-in-github"
   },
   "source": [
    "<a href=\"https://colab.research.google.com/github/aetev/Learning-stuff-/blob/main/agcnn%202.ipynb\" target=\"_parent\"><img src=\"https://colab.research.google.com/assets/colab-badge.svg\" alt=\"Open In Colab\"/></a>"
   ]
  },
  {
   "cell_type": "code",
   "execution_count": 1,
   "metadata": {
    "colab": {
     "base_uri": "https://localhost:8080/"
    },
    "id": "-g36b6KfZQeH",
    "outputId": "f9756283-b563-4d01-ff9c-df428b8b4d81"
   },
   "outputs": [
    {
     "name": "stdout",
     "output_type": "stream",
     "text": [
      "Requirement already satisfied: tensorflow_addons in /usr/local/lib/python3.8/dist-packages (0.21.0)\n",
      "Requirement already satisfied: typeguard<3.0.0,>=2.7 in /usr/local/lib/python3.8/dist-packages (from tensorflow_addons) (2.13.3)\n",
      "Requirement already satisfied: packaging in /usr/local/lib/python3.8/dist-packages (from tensorflow_addons) (23.0)\n",
      "\u001b[33mWARNING: Running pip as the 'root' user can result in broken permissions and conflicting behaviour with the system package manager. It is recommended to use a virtual environment instead: https://pip.pypa.io/warnings/venv\u001b[0m\u001b[33m\n",
      "\u001b[0m\n",
      "\u001b[1m[\u001b[0m\u001b[34;49mnotice\u001b[0m\u001b[1;39;49m]\u001b[0m\u001b[39;49m A new release of pip is available: \u001b[0m\u001b[31;49m23.0.1\u001b[0m\u001b[39;49m -> \u001b[0m\u001b[32;49m23.2.1\u001b[0m\n",
      "\u001b[1m[\u001b[0m\u001b[34;49mnotice\u001b[0m\u001b[1;39;49m]\u001b[0m\u001b[39;49m To update, run: \u001b[0m\u001b[32;49mpython3 -m pip install --upgrade pip\u001b[0m\n",
      "Requirement already satisfied: librosa in /usr/local/lib/python3.8/dist-packages (0.10.0.post2)\n",
      "Requirement already satisfied: joblib>=0.14 in /usr/local/lib/python3.8/dist-packages (from librosa) (1.3.1)\n",
      "Requirement already satisfied: decorator>=4.3.0 in /usr/local/lib/python3.8/dist-packages (from librosa) (5.1.1)\n",
      "Requirement already satisfied: soundfile>=0.12.1 in /usr/local/lib/python3.8/dist-packages (from librosa) (0.12.1)\n",
      "Requirement already satisfied: lazy-loader>=0.1 in /usr/local/lib/python3.8/dist-packages (from librosa) (0.3)\n",
      "Requirement already satisfied: typing-extensions>=4.1.1 in /usr/local/lib/python3.8/dist-packages (from librosa) (4.5.0)\n",
      "Requirement already satisfied: pooch<1.7,>=1.0 in /usr/local/lib/python3.8/dist-packages (from librosa) (1.6.0)\n",
      "Requirement already satisfied: numpy!=1.22.0,!=1.22.1,!=1.22.2,>=1.20.3 in /usr/local/lib/python3.8/dist-packages (from librosa) (1.23.5)\n",
      "Requirement already satisfied: audioread>=2.1.9 in /usr/local/lib/python3.8/dist-packages (from librosa) (3.0.0)\n",
      "Requirement already satisfied: scikit-learn>=0.20.0 in /usr/local/lib/python3.8/dist-packages (from librosa) (1.3.0)\n",
      "Requirement already satisfied: numba>=0.51.0 in /usr/local/lib/python3.8/dist-packages (from librosa) (0.57.1)\n",
      "Requirement already satisfied: soxr>=0.3.2 in /usr/local/lib/python3.8/dist-packages (from librosa) (0.3.5)\n",
      "Requirement already satisfied: msgpack>=1.0 in /usr/local/lib/python3.8/dist-packages (from librosa) (1.0.5)\n",
      "Requirement already satisfied: scipy>=1.2.0 in /usr/local/lib/python3.8/dist-packages (from librosa) (1.10.1)\n",
      "Requirement already satisfied: llvmlite<0.41,>=0.40.0dev0 in /usr/local/lib/python3.8/dist-packages (from numba>=0.51.0->librosa) (0.40.1)\n",
      "Requirement already satisfied: importlib-metadata in /usr/local/lib/python3.8/dist-packages (from numba>=0.51.0->librosa) (6.1.0)\n",
      "Requirement already satisfied: requests>=2.19.0 in /usr/lib/python3/dist-packages (from pooch<1.7,>=1.0->librosa) (2.22.0)\n",
      "Requirement already satisfied: packaging>=20.0 in /usr/local/lib/python3.8/dist-packages (from pooch<1.7,>=1.0->librosa) (23.0)\n",
      "Requirement already satisfied: appdirs>=1.3.0 in /usr/local/lib/python3.8/dist-packages (from pooch<1.7,>=1.0->librosa) (1.4.4)\n",
      "Requirement already satisfied: threadpoolctl>=2.0.0 in /usr/local/lib/python3.8/dist-packages (from scikit-learn>=0.20.0->librosa) (3.2.0)\n",
      "Requirement already satisfied: cffi>=1.0 in /usr/local/lib/python3.8/dist-packages (from soundfile>=0.12.1->librosa) (1.15.1)\n",
      "Requirement already satisfied: pycparser in /usr/local/lib/python3.8/dist-packages (from cffi>=1.0->soundfile>=0.12.1->librosa) (2.21)\n",
      "Requirement already satisfied: zipp>=0.5 in /usr/local/lib/python3.8/dist-packages (from importlib-metadata->numba>=0.51.0->librosa) (3.15.0)\n",
      "\u001b[33mWARNING: Running pip as the 'root' user can result in broken permissions and conflicting behaviour with the system package manager. It is recommended to use a virtual environment instead: https://pip.pypa.io/warnings/venv\u001b[0m\u001b[33m\n",
      "\u001b[0m\n",
      "\u001b[1m[\u001b[0m\u001b[34;49mnotice\u001b[0m\u001b[1;39;49m]\u001b[0m\u001b[39;49m A new release of pip is available: \u001b[0m\u001b[31;49m23.0.1\u001b[0m\u001b[39;49m -> \u001b[0m\u001b[32;49m23.2.1\u001b[0m\n",
      "\u001b[1m[\u001b[0m\u001b[34;49mnotice\u001b[0m\u001b[1;39;49m]\u001b[0m\u001b[39;49m To update, run: \u001b[0m\u001b[32;49mpython3 -m pip install --upgrade pip\u001b[0m\n"
     ]
    }
   ],
   "source": [
    "!pip install tensorflow_addons\n",
    "#!pip install pydub\n",
    "!pip install librosa"
   ]
  },
  {
   "cell_type": "code",
   "execution_count": 2,
   "metadata": {
    "colab": {
     "base_uri": "https://localhost:8080/"
    },
    "id": "-UiZf7YAawUu",
    "outputId": "5b7865ca-1c36-443a-f5bc-b0d27097de91"
   },
   "outputs": [
    {
     "name": "stderr",
     "output_type": "stream",
     "text": [
      "2023-08-05 00:00:35.537895: I tensorflow/core/platform/cpu_feature_guard.cc:182] This TensorFlow binary is optimized to use available CPU instructions in performance-critical operations.\n",
      "To enable the following instructions: AVX2 FMA, in other operations, rebuild TensorFlow with the appropriate compiler flags.\n",
      "/usr/local/lib/python3.8/dist-packages/tensorflow_addons/utils/tfa_eol_msg.py:23: UserWarning: \n",
      "\n",
      "TensorFlow Addons (TFA) has ended development and introduction of new features.\n",
      "TFA has entered a minimal maintenance and release mode until a planned end of life in May 2024.\n",
      "Please modify downstream libraries to take dependencies from other repositories in our TensorFlow community (e.g. Keras, Keras-CV, and Keras-NLP). \n",
      "\n",
      "For more information see: https://github.com/tensorflow/addons/issues/2807 \n",
      "\n",
      "  warnings.warn(\n"
     ]
    }
   ],
   "source": [
    "import tensorflow as tf\n",
    "from tensorflow.keras import layers\n",
    "import matplotlib.pyplot as plt\n",
    "import numpy as np\n",
    "import tensorflow_addons as tfa\n",
    "import os\n",
    "from IPython.display import Audio"
   ]
  },
  {
   "cell_type": "code",
   "execution_count": 3,
   "metadata": {
    "id": "KZA4iSHlpHeW"
   },
   "outputs": [],
   "source": [
    "import librosa\n",
    "import numpy as np\n",
    "\n",
    "def reduce_sample_rate(wav_file,reduction):\n",
    "    # Load the audio file\n",
    "    audio, sr = librosa.load(wav_file, sr=None)\n",
    "\n",
    "    # Reduce the sample rate by half\n",
    "    reduced_audio = librosa.resample(audio, orig_sr=sr, target_sr=sr // reduction)\n",
    "\n",
    "    # Convert the audio to a NumPy array\n",
    "    audio_array = np.array(reduced_audio)\n",
    "\n",
    "    return audio_array\n",
    "\n",
    "def create_sliding_window(array, window_size, stride):\n",
    "    num_windows = (len(array) - window_size) // stride + 1\n",
    "    sliding_windows = np.lib.stride_tricks.sliding_window_view(array, (window_size,))\n",
    "\n",
    "    return sliding_windows[::stride]"
   ]
  },
  {
   "cell_type": "code",
   "execution_count": 4,
   "metadata": {
    "colab": {
     "base_uri": "https://localhost:8080/"
    },
    "id": "PwZorlMxq2Rx",
    "outputId": "9ae3b349-73f3-4d97-f1d5-06e40c3c77f7"
   },
   "outputs": [
    {
     "name": "stdout",
     "output_type": "stream",
     "text": [
      "(449, 2500, 1)\n"
     ]
    }
   ],
   "source": [
    "reduction = 4\n",
    "wav_file = '/tmp/bass samples/NBKoanbandstuff.wav'\n",
    "audio, sr = librosa.load(wav_file, sr=None)\n",
    "result_array = reduce_sample_rate(wav_file,reduction)\n",
    "result_array = create_sliding_window(result_array,2500,100)\n",
    "result_array = np.expand_dims(result_array, axis=2)\n",
    "print(result_array.shape)"
   ]
  },
  {
   "cell_type": "code",
   "execution_count": 5,
   "metadata": {
    "colab": {
     "base_uri": "https://localhost:8080/",
     "height": 75
    },
    "id": "ZIzKgHj1sIvX",
    "outputId": "f3f2d37b-8d90-4e48-fe26-cad6c3794367"
   },
   "outputs": [
    {
     "data": {
      "text/html": [
       "\n",
       "                <audio  controls=\"controls\" >\n",
       "                    <source src=\"data:audio/wav;base64,UklGRqwTAABXQVZFZm10IBAAAAABAAEAESsAACJWAAACABAAZGF0YYgTAADTQiNApT3lOt44lDULMksv+yvRJ1MkbSNtHiQZMxbhEqQPjgvrBm0Cav6B+i727vEG7tPpp+U94brcD9mD1VjSxc92zZzLFsrPyIvHgcZpxSPEOcMZwsXAqr9VvhS9orsTupu4CrdutdKzDLIvsJGuzKzfqiepZqe4pR2kXqK4oGqfJ54XnSycVpvymg2bgpuinOqdYJ/toA2ifqMMosSkWajcpXalo6Y1qO2pUqvnqyetoK9hsji1QLiVu2m+/8GzxYPJW80M0X/VQNq73sXi2eb66i7v+fM6+LL7/v6XAlAGIAqmDcAQOxRMFzEaPh39ICgkoiZeKTAsKC/mMW80UjZ+OKE62DsiPdE+4z8SQalCNkSBRRVHnUgWSiNMV03sTuVQcFK/U5VVyFd7WoRc+l70YaRi9WVGZ85lcmXTY+NiW2KnX+ldDF7JW3xZPVlUW9pbO1wGXH9dB12SYNVj7lz3X/Nh0GDLXQFbplqVWKxVeVGCTCVG4UVpPw449zFmLfQpTSCJGJgULA8CCfQCBPvR9dvw0ew86SflUuEO4M/fEt4/3frcN9tw2UfYe9iQ1ifWXNTh0WPRMs2CzWjNfsgvxL3DocEpvhu5Rbdatg2ykrGirf6oZqnvp8WllqITof+gEJ1Wmnqcu5zYmNaXVZevlDGWi5e1l8+YqZaLl2acrZoNgnSXTrtZnS+L45RUnTimNqtJpsej+qbSqoqw7biMvPm9acXGx5rIp8g+zOjRQ9Xg3bvg69Mg1VPiaOby5kbos+ax5Brw8fbH9ln7sv6mA3MJZgpMEjsXfRWVGnQh7SZuKm0wrTJYM2U2GDZ6OJY7MTuXPi8/1z4eQrFDgkRoSKBJoknLSs1PD1IOU5hV7ldTY1JZgVLHXUNgyVOBVrRiEFuvWZ1d42GzZ49o2WsQbodeGFxaZcdo5GjrYk5k4mNnZyl/ZHByYCttsWwFZiVSQk44UxVUeEDvO+tLIUFTNDUurjDyNvsc2AW/DucO2wurBD/7Yfo2Aq0I0QP7/2cAZPvK9h31ufIM7ivsYOrB6KPozeZx4u/a7eCh453Z4dEP0vHPcMomx+/DWsKGwTC+R7psuIG4Nbfqsk2zTLObsImsgqvorDerwqu0qU6lfaexpienq6XKodWfY6MxpZ+iOZoPidCkJrhum4aQOppUpFqsEa+LrVaqAK19tDm1AblQv8vCX8NXwUfBmcJ3yWjOFc1ayU3I+9aa0grI3dJa2arYFteN2qnbvN+e6k7wIvSL+tL6iPuSAukLaAtOCUQO2RFGGcEdBR/3IdAksyagJ2MnECoHLBcrOC6RMbsygDKbMl85GDwgOpY8CkI+Q6NEF0YOSk1RKUvASCpM8VECUtlNpVUnXC9a0FnCX1dipWB0Z9VsL1/ZVTFdsGQIZ+dk82LvYrFtcnVmZBZhdWohZklZiE3PUh1Uz0koTzxRPUZ0Qe09TERVQgIpaB3GIpsirR29FvcT2BVxFgcX+xPVEOcMswkoB74AE/83/+n9Nf5n+bL1e/jY9X/xPe3g5frj9+Hf25/X/tST08DOYMp5yvHIcMVVwYi+9LwDurq2QrROslewQa6yrSWrFaj0qP6oH6aFo+2hzKFxoeaevpwnmrqZqpuImd6XbJi+l3abbKCZoFCgoqHVo0Sm36htqq6rDK4vr9uv97Kotmm4ibl7u8+9LcCZwlbFYscbyFbLRs41z6PSN9Xj1lLbqd5K4fblhOrA7pHz3PgB/g4DgQcbC50OzREmFFoWdxiLGjodnx4PINEi7CNlJVcorynFKx0uYy/oMX801jY+ObU7ej7VQKtCCUXQR/hJyEsXThhQdFH/UvhUG1cdWbxaxVtIXnBhx2K7Y4llKGdzaCJpC2ldaN9mPWYWZhhlgGR+ZP9ju2ICYRNfoVyOWZtVxFApTEdI7kTkQBo8YTgSNdswJixuJ0IjCiDKHWkcXRuiGiEacBlFGKEWfBSMETgOCwsCCHsEtACp/S37V/gR9dbxgu7t6jTnZ+Nk32jbrdcG1JDQVc0dyt7GycPgwN+93ro+uOS1h7NXsZivCK6GrDWr56mDqD2nDqa1pBWjVqHSnw2ezJs2mpOZ4Zjfl1KXyZcfmd2alpzvnQyfZKDEoSGjNaXlp9qp66parIOuzrCWspqz8bSttjO3N7icu3O+ir99wafENsg7zIfQlNQj2LLbROA85XDpRu1r8QL2mPrw/swCGgb/CJYLCQ4+EPsRBhT4FcUXyxnqGy8e2iBxI4gl8yfHKuYtjTAZM+g1vzjnOsQ9MkHhQllEmUdCS7ZMgk3kTwlThlVNV/pY2lr3XehgbWCRXuBgYWZRauxoUWVgZ+luAW0mZVFpnG42aXletVoQYJBpW2OnUA9Np1jfWXlIUz8XRAlHxD5XNfQwCDWXORI4MzEmKgUo1iniKiInCiMCIe4jRyLTGwkWRhQyE5kSuQ+jCHABx/1j/pH9Ifn48qfu8+oZ543kaeAN2wTXX9UU0S/MP8mpxzHEyr75u2i61riWtAazxrArrvGp0Km8qG6nW6RPoP2dCaCJol2gaJzzlvGW4Zh4m4uat5zBm3OXzZRan1mqj6cnnQyciKQ5rNmuVqwEqTmolrFvuQmyY6d5tPTG2cUfuO+0L724yV7OjcwPy7vMj8+a08vaoOOp6LbluefP7nf4h/zo/7wCDwYPCPALrg+IEXcVYxaqF/MZvR58H90fYiL0JaImIylTLrovSTA8NCs6aDv/O+RA2ETvRRZKa0+VTppOXlJvV31YF1faV55ctGG8YAxfWl+wZ5Zqmmo0aUFtb2kEZx5toXNbbZFgJWRZbVhwVWEvW+hcfmD8WLBW7FdRVPdLr0XGR+lKL06DSBdCnTrcOsA8ZT2fOtM17TFhL+EzYDMMKhMhYSG6JJMegxZBEbEPIgwyCO4ESgAH+8f1HfJR7h3qe+RS4N7c79lu1VzRQ87xyhzHmMNZwf2+Ar1auoe3GbVas9WxELCNrkustKq7qE2mlKTao0KjqaCunQebHJqjmpWb/5u0m8KbYpzcnYqfGqHFoSaiLaPmpNOmDqgqqUyqqasjraqueLAbsrKzYrVmtwS6u7yOv2PCaMVDyCbLtc5y0vnV+9io3OLgPeVM6d/sKfAS89P1ZPin+hX9eP+5AQ8EgQZPCdALiw6IEa8U4Rf6GhUeQiFwJNQnIStjLrwxzzQDOCQ7VD5NQehDwUZ/STlMnE7tUEpTq1XPV+hZ41vsXexfWGEQYxtk32WJZgFnpmYxZlVmw2U4ZaZjlmKWYdFgmV8WXldcolriWBJX6FSZUhhQiE0ASzRIo0X/QnJAvz0aO404QDb3M7UxVC/HLA0qMCcnJOogcx3lGWEW8RKIDxIMsQhJBQYCqf5E+9D3TPTP8D/trOkc5obiEt+g2z7Y5NSN0VfOMMsjyB/FSsJbv6K81blSt9+0ibI8sA2uBqz6qUKoSqaspLui+6CGn/ad1pyBm8GakJqjmhSbKZuCmwyc8pz9nfueDKBKoayiQ6S1pWunBKmXqles1a3Zr5Gx07PhtXy4+Lrpvc7A8sNax5bKT8630aDVMNkY3Z7gIuW66cjuS/Ni9+H6/P31AEsD6wXYB08KJQwZDkwQgBKKFJUX9xhmHBQeSCG5I7omoilGLBcw/DGlNmk4CD0SP2lDIUWQSTpLXE8mUPxT91SVVtdZLVmRXFZco14PXUtf01tIYV9dCV8YXrVbL15aX4pdvF/iWwJbvV17WddfOFnZWQJXqlV6VpZVk1LsUT1MhEtHRxhEe0QzQK0+PzmSNqcy+DHOLV8qWibVId0dpRpKFYkTPA6NCZoFs/8J/QP4FPX18EbuaOuM6MblDOTR4OXfk9zB2yDZUtdo1bvRL9KtzEvNqsczx4XCx8BZvri6/blZtSy0TrDyroKqSqtOpPyp7aF3pOqkVJzApfecLaJSoe+fQqC1nwOgPKBEojehz6GRogKhnqMxpLGkEKg7p4+piao9rP2uNbAVtAm1m7b7vG+6g8Mew8PGxstzzuTRGtju2HTdz+Lj4xLrVuwO8Sjz0/qE+r4DEQMKCkIKeBDjD4cU3RWKFj8aGhoEHm4dmiNMIB4pEyS4LVop1DLPLoQ3JjWcOzk83j7jQjBDSElMR39PF0xnU3JSp1xXTh5lMlK4ZFhZ92FSZLRloWbqcWRtfGn8eQNhq3yYZP9/lmPafUNn9W5tcvxiWnOtY5xlMGAFYbtWI2QKT4FgD0sUUQNNsUSlRzhCKj+UOUk5ri9hMyUp5yqyI9MeKBybFrMRdg96CcwFWwPU+kD76/KA8pHs/On050rhlOKg207c/teI1lnUfdEhz/XNgMoGyYXHOsNwwqa+qbz2udi3w7T4ssqvpq6hqyGpXagIpnaktqJGopGhj6EDorOgrZ5xn4ufap8hn1aeop0rnQecY53SnHuawZs3mSua75owm5KdYJ68n7SihaSPpy6sOa/8stu2Z7omvkLDasYRzBbOXNIw1VHYotxQ3vPjLOVS6QXs3u9h8i73e/vu/a8DxwY6C4cPVhMnF7oa1RxrIGAh4iTCJRIogyqnK/stjDCBMYo1ODdgOXk9Gj7XQn9D9EgRSZ5OTU8TVExUq1n/WLNcgWNuWiFjZWOjX9NmeGaHZk1pJmh5cb5fjnMIZxdltHT8YWttsGsNZrhkSW1ZXMZjTmMQWi9cMliTVvBS/VEqUBNOb0haSgdEg0K6QBE+cDlzOJo0STAdL2IpniYII4wdiBlJFhsPowvOBtcBHPuR+OLzsu3j613maeIF35jbVNee1U/TOM97z5zM0MmnyQ3H1cRvw+bBib/pvQ68c7rGuKy2qLXNs9yxFLEBr42tg6zHqvWoe6gdpg+lj6P6oRGhXp7jnnCc35oum6aZLZmQmU2ZlZlZmt2a6Zv+nAyedp+roFei1KOEpY6nKKlaq0GtRK+VseyzTrbwuKK7WL5XwWHElsf8ymDOFtLP1XnZqt1g4WjlpOlw7dvxsfXG+fr93AHlBdoJ5g1GEowWfhpdHq4h5STCJ3Qq6iwuL1wxjTOMNas3pDmUO5o9bj9PQTdDREULRwpJ5Eq9TIpObVAgUglUkVVyV8VYdVr4WzJdo17tXx5hUmKnYy9kZGbTZQZoDWkeaPtpv2ksaV9pTGlhaO1n/2ZEZvVky2NuYpxg9F7YXL9aZlh/Vc9SqE8ATJdIA0XoQDA9TDkzNXsxfy3UKfsljCLxHkob5RdQFK8QBA12CYEF6AEt/jL6k/bL8vvuMes751DjiN/v25TYRNVt0mvPu8xGytDHj8VYw1rBNb9rvZu70blJuKC2ErWEswWynLASr5atO6yeqkKp4ad8pgulxaNxosegNKAfnu6cp5yLmquZSpk6mNmX15fdl5iYE5kPmiCbW5zinXyfNqECo02lF6efqbarIq61sN6ytrU+uO+6uL3GwHXD98bkyVHN19Ag1OfXS9t134zioeaD6vPtH/L69ab55P27ATgFqQlBDeEQ5BTYGOEchyCSJKonqyqRLeMvZzIfNC82jDd1OX866ztOPYk+vT+mQJZCf0P9RM9GEUjOSe1LBk3bT3tRUlORVZpXSFnSWwtdKF9LYK1iZWOMZABoVWIqa9ZnsmQpa+xosmjXZtto7WcZZUVlLGWeYSNid1+YXnNbaVxrVRBUclhoSwhMOEu5RU1BKz43OiM2ETLuLW0pTCZZIcgdSBwfFSAUihDeCzgJXwV0ASb+w/oV91XyafKo6tjqwuSH4TfmddPu26PaCdBW0e7NBMuAx0TFWMMrwU29Wr77uPK5ard2tP20tLEcsZGvXq30rBOslarIqY2mO6ofpWul1qOrotyfUaFqpcGW/KL4pW6ZLJ1coMiboZukmFuYg5zOmSOdPJ00nrigiKO0o3KhMqu5q8OkwLUmq96xHcDvr4G/NrloySjIoLox1t7Ma82f10HU09yc3V7grOTO4qjxyu1e7cb4v/ce/VMAYAIKB8QLIQ6kEQ4WVRfyHeYg6B+RKDQrEywVLkI1BjO3Ngo+wTT+PYU7aDwaOx1B9kPsOhFFnELEQOFHL0eNRExKPEkbS5VKt067TTNRJE+uUchUk1Z4U45YAmHrShhhtVx/Sz9aQ2E7XaZT8WAIY9BZo2MRU1tndGIYQ+9nAVnGUclOOU6oWt07YUwnTHY10ET6OjY19TefK4wv8CmWIcQjgB+hGXkWLRXbDagSvgjmBbgGeAAb/vz9r/Qm84f4beRZ7qDxM9Ze4Yzn59AE3f/LHs+J12TAGMrWxHvBmsJbuzq7x7qZtxa0aLXqsy2xgrBCriCuSK83q1+q2aqYq5yopaZuqkmoMaQTpmqn1Z3dq8ygrptAr5WkB6Akpk+eVKTLo5GcrZ6+nKyk16KTn7Gigam3qIillqyGtiKiW7ZxxFuk276nxPW40MdbtxfXN83VuHzfC9EO06bYfNgX4Z3iEN676ufso+/w7W70Of9c+iUAVAFYCHMJNA/4EPYSsRmGHgEdQyH4JXMqFCokNqAr0DNiS9UsEDcFQfk+GkgeP3JDIknNSJxLGUdvS91Qqkx+TGdQ9lCaUz1QjFLbVlJTrVS9Vz1VxVnFWGFYbWDjWJxZ214FWoNVZVx0X4td5FoRYgpd0mfOYMNXYHhRVAFO0G2YVzNeHFXvT5dde1YPSA==\" type=\"audio/wav\" />\n",
       "                    Your browser does not support the audio element.\n",
       "                </audio>\n",
       "              "
      ],
      "text/plain": [
       "<IPython.lib.display.Audio object>"
      ]
     },
     "execution_count": 5,
     "metadata": {},
     "output_type": "execute_result"
    }
   ],
   "source": [
    "audio_data = result_array[100].ravel()\n",
    "# Play the audio within the Jupyter Notebook\n",
    "Audio(data=audio_data, rate=sr/reduction)"
   ]
  },
  {
   "cell_type": "code",
   "execution_count": 6,
   "metadata": {
    "colab": {
     "base_uri": "https://localhost:8080/"
    },
    "id": "3XZfCdyC7S_D",
    "outputId": "41153927-bc18-406b-ae9f-93aac5ee0b1e"
   },
   "outputs": [
    {
     "name": "stdout",
     "output_type": "stream",
     "text": [
      "(2500, 1)\n"
     ]
    }
   ],
   "source": [
    "#x_train = noise\n",
    "y_train = result_array\n",
    "print(y_train[0].shape)"
   ]
  },
  {
   "cell_type": "code",
   "execution_count": 7,
   "metadata": {
    "id": "MUFnmA-82FDv"
   },
   "outputs": [],
   "source": [
    "class ResNetBlock(layers.Layer):\n",
    "    def __init__(self, filters,kernel_size=3, strides=1,dilation_rate=1):\n",
    "        super(ResNetBlock, self).__init__()\n",
    "        self.conv1 = layers.Conv1D(filters, kernel_size, strides=strides,dilation_rate=dilation_rate, padding='same')\n",
    "        self.bn1 = layers.BatchNormalization()\n",
    "        self.conv2 = layers.Conv1D(filters, kernel_size, padding='same')\n",
    "        self.bn2 = layers.BatchNormalization()\n",
    "\n",
    "        if strides != 1:\n",
    "            self.residual = layers.Conv1D(filters, 1, strides=strides)\n",
    "        else:\n",
    "            self.residual = lambda x: x\n",
    "\n",
    "    def call(self, inputs, training=False):\n",
    "        x = self.conv1(inputs)\n",
    "        x = self.bn1(x, training=training)\n",
    "        x = tf.nn.relu(x)\n",
    "        x = self.conv2(x)\n",
    "        x = self.bn2(x, training=training)\n",
    "\n",
    "        r = self.residual(inputs)\n",
    "\n",
    "        x += r\n",
    "        return tf.nn.relu(x)"
   ]
  },
  {
   "cell_type": "code",
   "execution_count": 8,
   "metadata": {
    "colab": {
     "base_uri": "https://localhost:8080/"
    },
    "id": "Gh2ORgUybdzt",
    "outputId": "7bb0877b-2197-4b78-c3c8-344b1fdf1229"
   },
   "outputs": [
    {
     "name": "stderr",
     "output_type": "stream",
     "text": [
      "2023-08-05 00:00:38.011871: I tensorflow/compiler/xla/stream_executor/cuda/cuda_gpu_executor.cc:996] successful NUMA node read from SysFS had negative value (-1), but there must be at least one NUMA node, so returning NUMA node zero. See more at https://github.com/torvalds/linux/blob/v6.0/Documentation/ABI/testing/sysfs-bus-pci#L344-L355\n",
      "2023-08-05 00:00:38.015334: I tensorflow/compiler/xla/stream_executor/cuda/cuda_gpu_executor.cc:996] successful NUMA node read from SysFS had negative value (-1), but there must be at least one NUMA node, so returning NUMA node zero. See more at https://github.com/torvalds/linux/blob/v6.0/Documentation/ABI/testing/sysfs-bus-pci#L344-L355\n",
      "2023-08-05 00:00:38.015541: I tensorflow/compiler/xla/stream_executor/cuda/cuda_gpu_executor.cc:996] successful NUMA node read from SysFS had negative value (-1), but there must be at least one NUMA node, so returning NUMA node zero. See more at https://github.com/torvalds/linux/blob/v6.0/Documentation/ABI/testing/sysfs-bus-pci#L344-L355\n",
      "2023-08-05 00:00:38.016473: I tensorflow/compiler/xla/stream_executor/cuda/cuda_gpu_executor.cc:996] successful NUMA node read from SysFS had negative value (-1), but there must be at least one NUMA node, so returning NUMA node zero. See more at https://github.com/torvalds/linux/blob/v6.0/Documentation/ABI/testing/sysfs-bus-pci#L344-L355\n",
      "2023-08-05 00:00:38.016628: I tensorflow/compiler/xla/stream_executor/cuda/cuda_gpu_executor.cc:996] successful NUMA node read from SysFS had negative value (-1), but there must be at least one NUMA node, so returning NUMA node zero. See more at https://github.com/torvalds/linux/blob/v6.0/Documentation/ABI/testing/sysfs-bus-pci#L344-L355\n",
      "2023-08-05 00:00:38.016766: I tensorflow/compiler/xla/stream_executor/cuda/cuda_gpu_executor.cc:996] successful NUMA node read from SysFS had negative value (-1), but there must be at least one NUMA node, so returning NUMA node zero. See more at https://github.com/torvalds/linux/blob/v6.0/Documentation/ABI/testing/sysfs-bus-pci#L344-L355\n",
      "2023-08-05 00:00:38.517717: I tensorflow/compiler/xla/stream_executor/cuda/cuda_gpu_executor.cc:996] successful NUMA node read from SysFS had negative value (-1), but there must be at least one NUMA node, so returning NUMA node zero. See more at https://github.com/torvalds/linux/blob/v6.0/Documentation/ABI/testing/sysfs-bus-pci#L344-L355\n",
      "2023-08-05 00:00:38.517913: I tensorflow/compiler/xla/stream_executor/cuda/cuda_gpu_executor.cc:996] successful NUMA node read from SysFS had negative value (-1), but there must be at least one NUMA node, so returning NUMA node zero. See more at https://github.com/torvalds/linux/blob/v6.0/Documentation/ABI/testing/sysfs-bus-pci#L344-L355\n",
      "2023-08-05 00:00:38.518059: I tensorflow/compiler/xla/stream_executor/cuda/cuda_gpu_executor.cc:996] successful NUMA node read from SysFS had negative value (-1), but there must be at least one NUMA node, so returning NUMA node zero. See more at https://github.com/torvalds/linux/blob/v6.0/Documentation/ABI/testing/sysfs-bus-pci#L344-L355\n",
      "2023-08-05 00:00:38.518188: I tensorflow/core/common_runtime/gpu/gpu_device.cc:1635] Created device /job:localhost/replica:0/task:0/device:GPU:0 with 5875 MB memory:  -> device: 0, name: NVIDIA GeForce RTX 2080 SUPER, pci bus id: 0000:0b:00.0, compute capability: 7.5\n"
     ]
    },
    {
     "name": "stdout",
     "output_type": "stream",
     "text": [
      "Model: \"model\"\n",
      "_________________________________________________________________\n",
      " Layer (type)                Output Shape              Param #   \n",
      "=================================================================\n",
      " input_1 (InputLayer)        [(None, None, 1)]         0         \n",
      "                                                                 \n",
      " batch_normalization (BatchN  (None, None, 1)          4         \n",
      " ormalization)                                                   \n",
      "                                                                 \n",
      " res_net_block (ResNetBlock)  (None, None, 64)         13120     \n",
      "                                                                 \n",
      " dropout (Dropout)           (None, None, 64)          0         \n",
      "                                                                 \n",
      " res_net_block_1 (ResNetBloc  (None, None, 64)         25216     \n",
      " k)                                                              \n",
      "                                                                 \n",
      " res_net_block_2 (ResNetBloc  (None, None, 64)         25216     \n",
      " k)                                                              \n",
      "                                                                 \n",
      " dropout_1 (Dropout)         (None, None, 64)          0         \n",
      "                                                                 \n",
      " res_net_block_3 (ResNetBloc  (None, None, 64)         25216     \n",
      " k)                                                              \n",
      "                                                                 \n",
      " dropout_2 (Dropout)         (None, None, 64)          0         \n",
      "                                                                 \n",
      " res_net_block_4 (ResNetBloc  (None, None, 64)         25216     \n",
      " k)                                                              \n",
      "                                                                 \n",
      " dropout_3 (Dropout)         (None, None, 64)          0         \n",
      "                                                                 \n",
      " res_net_block_5 (ResNetBloc  (None, None, 64)         25216     \n",
      " k)                                                              \n",
      "                                                                 \n",
      " dropout_4 (Dropout)         (None, None, 64)          0         \n",
      "                                                                 \n",
      " global_average_pooling1d (G  (None, 64)               0         \n",
      " lobalAveragePooling1D)                                          \n",
      "                                                                 \n",
      " dense_1 (Dense)             (None, 1)                 65        \n",
      "                                                                 \n",
      "=================================================================\n",
      "Total params: 139,269\n",
      "Trainable params: 137,731\n",
      "Non-trainable params: 1,538\n",
      "_________________________________________________________________\n"
     ]
    }
   ],
   "source": [
    "def build_discriminator():\n",
    "    input_series = layers.Input(shape=(None,1))\n",
    "\n",
    "    x = layers.BatchNormalization()(input_series)\n",
    "\n",
    "    # Convolutional layers\n",
    "    x = ResNetBlock(64,3,1,1)(x)\n",
    "    x = layers.Dropout(0.2)(x)\n",
    "\n",
    "    x = ResNetBlock(64,3,1,2)(x)\n",
    "\n",
    "\n",
    "    x = ResNetBlock(64,3,1,4)(x)\n",
    "    x = layers.Dropout(0.2)(x)\n",
    "\n",
    "    x = ResNetBlock(64,3,1,8)(x)\n",
    "    x = layers.Dropout(0.2)(x)\n",
    "\n",
    "    x = ResNetBlock(64,3,1,12)(x)\n",
    "    x = layers.Dropout(0.2)(x)\n",
    "\n",
    "    x = ResNetBlock(64,3,1,24)(x)\n",
    "    x = layers.Dropout(0.2)(x)\n",
    "\n",
    "\n",
    "\n",
    "    # Global pooling\n",
    "    pooled_output = layers.GlobalAveragePooling1D()(x)\n",
    "\n",
    "    # Dense layer\n",
    "    dense_output = layers.Dense(64, activation='relu')(pooled_output)\n",
    "\n",
    "    # Dense layer\n",
    "    dense_output = layers.Dense(1, activation='sigmoid')(pooled_output)\n",
    "\n",
    "    model = tf.keras.models.Model(inputs=input_series, outputs=dense_output)\n",
    "    return model\n",
    "\n",
    "discriminator = build_discriminator()\n",
    "discriminator.summary()\n"
   ]
  },
  {
   "cell_type": "code",
   "execution_count": 9,
   "metadata": {
    "colab": {
     "base_uri": "https://localhost:8080/"
    },
    "id": "8q_-l7f8eC-i",
    "outputId": "efbfbd0c-a30a-4205-88c1-45a1b939140d"
   },
   "outputs": [
    {
     "name": "stdout",
     "output_type": "stream",
     "text": [
      "Model: \"model_1\"\n",
      "_________________________________________________________________\n",
      " Layer (type)                Output Shape              Param #   \n",
      "=================================================================\n",
      " input_2 (InputLayer)        [(None, None, 1)]         0         \n",
      "                                                                 \n",
      " batch_normalization_13 (Bat  (None, None, 1)          4         \n",
      " chNormalization)                                                \n",
      "                                                                 \n",
      " res_net_block_6 (ResNetBloc  (None, None, 64)         13120     \n",
      " k)                                                              \n",
      "                                                                 \n",
      " res_net_block_7 (ResNetBloc  (None, None, 64)         25216     \n",
      " k)                                                              \n",
      "                                                                 \n",
      " res_net_block_8 (ResNetBloc  (None, None, 64)         25216     \n",
      " k)                                                              \n",
      "                                                                 \n",
      " res_net_block_9 (ResNetBloc  (None, None, 64)         25216     \n",
      " k)                                                              \n",
      "                                                                 \n",
      " res_net_block_10 (ResNetBlo  (None, None, 64)         25216     \n",
      " ck)                                                             \n",
      "                                                                 \n",
      " conv1d_22 (Conv1D)          (None, None, 1)           65        \n",
      "                                                                 \n",
      "=================================================================\n",
      "Total params: 114,053\n",
      "Trainable params: 112,771\n",
      "Non-trainable params: 1,282\n",
      "_________________________________________________________________\n"
     ]
    }
   ],
   "source": [
    "def build_generator():\n",
    "    input_series = layers.Input(shape=(None,1))\n",
    "\n",
    "    x = layers.BatchNormalization()(input_series)\n",
    "\n",
    "    x = ResNetBlock(64,dilation_rate=12)(x)\n",
    "\n",
    "\n",
    "    x = ResNetBlock(64,dilation_rate=8)(x)\n",
    "\n",
    "\n",
    "    x = ResNetBlock(64,dilation_rate=4)(x)\n",
    "\n",
    "\n",
    "    x = ResNetBlock(64,dilation_rate=2)(x)\n",
    "\n",
    "\n",
    "    x = ResNetBlock(64,dilation_rate=1)(x)\n",
    "\n",
    "    x = layers.Conv1D(1,1)(x)\n",
    "\n",
    "\n",
    "\n",
    "    model = tf.keras.models.Model(inputs=input_series, outputs=x)\n",
    "    return model\n",
    "\n",
    "generator = build_generator()\n",
    "generator.summary()\n"
   ]
  },
  {
   "cell_type": "code",
   "execution_count": 10,
   "metadata": {
    "id": "aFFOfuDfbpD9"
   },
   "outputs": [],
   "source": [
    "# Compile models\n",
    "generator_optimizer = tf.keras.optimizers.Adam(0.0004)\n",
    "discriminator_optimizer = tf.keras.optimizers.Adam(0.0004)\n",
    "\n",
    "#generator_optimizer = tf.keras.optimizers.experimental.SGD(1e-4)\n",
    "#discriminator_optimizer = tf.keras.optimizers.experimental.SGD(1e-4)"
   ]
  },
  {
   "cell_type": "code",
   "execution_count": 11,
   "metadata": {
    "id": "T3PtShxlbn9c"
   },
   "outputs": [],
   "source": [
    "def discriminator_loss(real_output, fake_output):\n",
    "    real_loss = tf.keras.losses.BinaryCrossentropy()(tf.ones_like(real_output), real_output)\n",
    "    fake_loss = tf.keras.losses.BinaryCrossentropy()(tf.zeros_like(fake_output), fake_output)\n",
    "    total_loss = real_loss + fake_loss\n",
    "    return total_loss\n",
    "\n",
    "def generator_loss(fake_output):\n",
    "    return tf.keras.losses.BinaryCrossentropy()(tf.ones_like(fake_output), fake_output)\n",
    "\n"
   ]
  },
  {
   "cell_type": "code",
   "execution_count": 12,
   "metadata": {
    "id": "vAoSvqXLsQHq"
   },
   "outputs": [],
   "source": [
    "def print_img(generator_model):\n",
    "    # Generate and save sample images\n",
    "    noise = tf.random.normal([10, 100])\n",
    "    sampled_labels = tf.constant([[i % 10] for i in range(10)], dtype=tf.int32)\n",
    "    generated_images = generator_model.predict([noise, sampled_labels])\n",
    "    fig, axs = plt.subplots(1, 10, figsize=(10, 10))\n",
    "    for i in range(10):\n",
    "        axs[i].imshow(generated_images[i], cmap=\"gray\")\n",
    "        axs[i].axis(\"off\")\n",
    "    plt.show()"
   ]
  },
  {
   "cell_type": "code",
   "execution_count": 13,
   "metadata": {
    "colab": {
     "base_uri": "https://localhost:8080/"
    },
    "id": "PAqGbZU0Z5yl",
    "outputId": "9cf8649c-6a0d-490d-f6c5-b4fcd2053930"
   },
   "outputs": [
    {
     "name": "stderr",
     "output_type": "stream",
     "text": [
      "2023-08-05 00:00:39.937821: I tensorflow/compiler/xla/stream_executor/cuda/cuda_dnn.cc:424] Loaded cuDNN version 8600\n"
     ]
    },
    {
     "name": "stdout",
     "output_type": "stream",
     "text": [
      "1/1 [==============================] - 1s 1s/step\n",
      "(1, 10000, 1)\n"
     ]
    }
   ],
   "source": [
    "noise = tf.random.normal(shape=(1,10000,1))\n",
    "\n",
    "test = generator.predict(noise)\n",
    "print(test.shape)"
   ]
  },
  {
   "cell_type": "code",
   "execution_count": null,
   "metadata": {
    "colab": {
     "base_uri": "https://localhost:8080/",
     "height": 534
    },
    "id": "wp5mnkMVVgPV",
    "outputId": "969d9256-a14d-4273-95f5-7b7ee6abe3ad"
   },
   "outputs": [
    {
     "name": "stdout",
     "output_type": "stream",
     "text": [
      "disc_loss 0.0984539166 gen_loss 3.82932162\n",
      "disc_loss 0.0422579311 gen_loss 5.18617439\n",
      "disc_loss 0.0389638171 gen_loss 4.02532244\n",
      "disc_loss 0.021902075 gen_loss 4.07244205\n",
      "disc_loss 0.016632311 gen_loss 4.36827755\n",
      "disc_loss 0.017029047 gen_loss 4.62314701\n",
      "disc_loss 0.0188820641 gen_loss 4.62180948\n",
      "disc_loss 0.0105946576 gen_loss 4.87368679\n",
      "disc_loss 0.0194295011 gen_loss 4.8370347\n",
      "disc_loss 0.0155610228 gen_loss 4.87898922\n",
      "disc_loss 0.0119408397 gen_loss 5.13869\n",
      "disc_loss 0.0099449046 gen_loss 5.28884602\n"
     ]
    }
   ],
   "source": [
    "\n",
    "#@tf.function\n",
    "def train_step(target_audios):\n",
    "\n",
    "\n",
    "  for i in range(5):\n",
    "      noise = tf.random.normal(shape=(target_audios.shape))\n",
    "      generated_audio = generator(noise, training=True)\n",
    "      with tf.GradientTape() as disc_tape:\n",
    "\n",
    "          real_output = discriminator(target_audios, training=True)\n",
    "          fake_output = discriminator(generated_audio, training=True)\n",
    "\n",
    "          disc_loss = discriminator_loss(real_output, fake_output)\n",
    "\n",
    "      gradients_of_discriminator = disc_tape.gradient(disc_loss, discriminator.trainable_variables)\n",
    "      discriminator_optimizer.apply_gradients(zip(gradients_of_discriminator, discriminator.trainable_variables))\n",
    "\n",
    "      if i ==0:\n",
    "          weights = discriminator.get_weights()\n",
    "\n",
    "\n",
    "  with tf.GradientTape() as gen_tape:\n",
    "    noise = tf.random.normal(shape=(target_audios.shape))\n",
    "    generated_audio = generator(noise, training=True)\n",
    "    fake_output = discriminator(generated_audio, training=True)\n",
    "    gen_loss = generator_loss(fake_output)\n",
    "\n",
    "  gradients_of_generator = gen_tape.gradient(gen_loss, generator.trainable_variables)\n",
    "  generator_optimizer.apply_gradients(zip(gradients_of_generator, generator.trainable_variables))\n",
    "\n",
    "  discriminator.set_weights(weights)\n",
    "\n",
    "\n",
    "  tf.print(\"disc_loss\",disc_loss,'gen_loss',gen_loss)\n",
    "\n",
    "\n",
    "def train(generator, discriminator\n",
    "          , epochs, batch_size):\n",
    "    for epoch in range(epochs):\n",
    "        for batch in range(len(y_train) // batch_size):\n",
    "            #images = x_train[batch * batch_size: (batch+1) * batch_size]\n",
    "            target_audios = y_train[batch * batch_size: (batch+1) * batch_size]\n",
    "\n",
    "            train_step(target_audios)\n",
    "\n",
    "        if (epoch + 1) % 5 == 0:\n",
    "            print(f\"Epoch {epoch+1}/{epochs}\")\n",
    "            test = generator.predict(noise)\n",
    "            audio_data = test.ravel()\n",
    "            # Play the audio within the Jupyter Notebook\n",
    "            Audio(data=audio_data, rate=sr/reduction)\n",
    "\n",
    "\n",
    "# Train the GAN\n",
    "EPOCHS = 2000000\n",
    "BATCH_SIZE = 20\n",
    "num_unrolling_steps = 20  # Set the desired number of unrolling steps\n",
    "train(generator, discriminator, EPOCHS, BATCH_SIZE)"
   ]
  },
  {
   "cell_type": "code",
   "execution_count": 17,
   "metadata": {
    "colab": {
     "base_uri": "https://localhost:8080/",
     "height": 93
    },
    "id": "mrmv1Zri-jjc",
    "outputId": "0cdb0bbd-6eb5-4f1c-dba6-1e7a2b90b27a"
   },
   "outputs": [
    {
     "name": "stdout",
     "output_type": "stream",
     "text": [
      "1/1 [==============================] - 0s 14ms/step\n"
     ]
    },
    {
     "data": {
      "text/html": [
       "\n",
       "                <audio  controls=\"controls\" >\n",
       "                    <source src=\"data:audio/wav;base64,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\" type=\"audio/wav\" />\n",
       "                    Your browser does not support the audio element.\n",
       "                </audio>\n",
       "              "
      ],
      "text/plain": [
       "<IPython.lib.display.Audio object>"
      ]
     },
     "execution_count": 17,
     "metadata": {},
     "output_type": "execute_result"
    }
   ],
   "source": [
    "            test = generator.predict(noise)\n",
    "            audio_data = test.ravel()\n",
    "            # Play the audio within the Jupyter Notebook\n",
    "            Audio(data=audio_data, rate=sr/reduction)"
   ]
  },
  {
   "cell_type": "code",
   "execution_count": null,
   "metadata": {},
   "outputs": [],
   "source": []
  }
 ],
 "metadata": {
  "colab": {
   "include_colab_link": true,
   "name": "Overview of Colaboratory Features",
   "provenance": []
  },
  "kernelspec": {
   "display_name": "Python 3 (ipykernel)",
   "language": "python",
   "name": "python3"
  },
  "language_info": {
   "codemirror_mode": {
    "name": "ipython",
    "version": 3
   },
   "file_extension": ".py",
   "mimetype": "text/x-python",
   "name": "python",
   "nbconvert_exporter": "python",
   "pygments_lexer": "ipython3",
   "version": "3.8.10"
  }
 },
 "nbformat": 4,
 "nbformat_minor": 1
}
