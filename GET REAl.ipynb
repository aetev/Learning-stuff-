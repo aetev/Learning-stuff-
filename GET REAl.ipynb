{
 "cells": [
  {
   "cell_type": "markdown",
   "metadata": {
    "colab_type": "text",
    "id": "view-in-github"
   },
   "source": [
    "<a href=\"https://colab.research.google.com/github/aetev/Learning-stuff-/blob/main/3%20action%20deep%20q%20regularized%20i%20dk.ipynb\" target=\"_parent\"><img src=\"https://colab.research.google.com/assets/colab-badge.svg\" alt=\"Open In Colab\"/></a>"
   ]
  },
  {
   "cell_type": "code",
   "execution_count": 1,
   "metadata": {
    "colab": {
     "base_uri": "https://localhost:8080/"
    },
    "id": "TWAdRqLdGEyf",
    "outputId": "96f14b0e-9efa-4294-9cf6-893329a6c16f",
    "scrolled": true
   },
   "outputs": [
    {
     "name": "stdout",
     "output_type": "stream",
     "text": [
      "Mounted at /content/drive\n"
     ]
    }
   ],
   "source": [
    "from google.colab import drive\n",
    "drive.mount('/content/drive')"
   ]
  },
  {
   "cell_type": "code",
   "execution_count": 1,
   "metadata": {
    "colab": {
     "base_uri": "https://localhost:8080/"
    },
    "id": "kIPBOzgXLKp5",
    "outputId": "7e08e062-f248-4847-c9aa-7b81c36efbfc",
    "scrolled": true
   },
   "outputs": [
    {
     "name": "stdout",
     "output_type": "stream",
     "text": [
      "Collecting pandas_ta\n",
      "  Downloading pandas_ta-0.3.14b.tar.gz (115 kB)\n",
      "\u001b[2K     \u001b[90m━━━━━━━━━━━━━━━━━━━━━━━━━━━━━━━━━━━━━━━\u001b[0m \u001b[32m115.1/115.1 kB\u001b[0m \u001b[31m3.8 MB/s\u001b[0m eta \u001b[36m0:00:00\u001b[0m\n",
      "\u001b[?25h  Preparing metadata (setup.py) ... \u001b[?25ldone\n",
      "\u001b[?25hCollecting pandas\n",
      "  Downloading pandas-2.0.3-cp38-cp38-manylinux_2_17_x86_64.manylinux2014_x86_64.whl (12.4 MB)\n",
      "\u001b[2K     \u001b[90m━━━━━━━━━━━━━━━━━━━━━━━━━━━━━━━━━━━━━━━━\u001b[0m \u001b[32m12.4/12.4 MB\u001b[0m \u001b[31m10.4 MB/s\u001b[0m eta \u001b[36m0:00:00\u001b[0m00:01\u001b[0m00:01\u001b[0m\n",
      "\u001b[?25hCollecting tzdata>=2022.1\n",
      "  Downloading tzdata-2023.3-py2.py3-none-any.whl (341 kB)\n",
      "\u001b[2K     \u001b[90m━━━━━━━━━━━━━━━━━━━━━━━━━━━━━━━━━━━━━━━\u001b[0m \u001b[32m341.8/341.8 kB\u001b[0m \u001b[31m8.1 MB/s\u001b[0m eta \u001b[36m0:00:00\u001b[0ma \u001b[36m0:00:01\u001b[0m\n",
      "\u001b[?25hRequirement already satisfied: numpy>=1.20.3 in /usr/local/lib/python3.8/dist-packages (from pandas->pandas_ta) (1.23.5)\n",
      "Requirement already satisfied: python-dateutil>=2.8.2 in /usr/local/lib/python3.8/dist-packages (from pandas->pandas_ta) (2.8.2)\n",
      "Collecting pytz>=2020.1\n",
      "  Downloading pytz-2023.3-py2.py3-none-any.whl (502 kB)\n",
      "\u001b[2K     \u001b[90m━━━━━━━━━━━━━━━━━━━━━━━━━━━━━━━━━━━━━━━\u001b[0m \u001b[32m502.3/502.3 kB\u001b[0m \u001b[31m8.5 MB/s\u001b[0m eta \u001b[36m0:00:00\u001b[0ma \u001b[36m0:00:01\u001b[0m\n",
      "\u001b[?25hRequirement already satisfied: six>=1.5 in /usr/lib/python3/dist-packages (from python-dateutil>=2.8.2->pandas->pandas_ta) (1.14.0)\n",
      "Building wheels for collected packages: pandas_ta\n",
      "  Building wheel for pandas_ta (setup.py) ... \u001b[?25ldone\n",
      "\u001b[?25h  Created wheel for pandas_ta: filename=pandas_ta-0.3.14b0-py3-none-any.whl size=218908 sha256=93cd35a584cbca81bb78fbd38a4f3eb75e0c9a6aec90cc5e85acccf1aa27768a\n",
      "  Stored in directory: /root/.cache/pip/wheels/54/4a/75/06b8e63fce6f6d2c1baae5c208edb18eca128407b0c96e1153\n",
      "Successfully built pandas_ta\n",
      "Installing collected packages: pytz, tzdata, pandas, pandas_ta\n",
      "Successfully installed pandas-2.0.3 pandas_ta-0.3.14b0 pytz-2023.3 tzdata-2023.3\n",
      "\u001b[33mWARNING: Running pip as the 'root' user can result in broken permissions and conflicting behaviour with the system package manager. It is recommended to use a virtual environment instead: https://pip.pypa.io/warnings/venv\u001b[0m\u001b[33m\n",
      "\u001b[0m\n",
      "\u001b[1m[\u001b[0m\u001b[34;49mnotice\u001b[0m\u001b[1;39;49m]\u001b[0m\u001b[39;49m A new release of pip is available: \u001b[0m\u001b[31;49m23.0.1\u001b[0m\u001b[39;49m -> \u001b[0m\u001b[32;49m23.2.1\u001b[0m\n",
      "\u001b[1m[\u001b[0m\u001b[34;49mnotice\u001b[0m\u001b[1;39;49m]\u001b[0m\u001b[39;49m To update, run: \u001b[0m\u001b[32;49mpython3 -m pip install --upgrade pip\u001b[0m\n",
      "Collecting tf_agents[reverb]\n",
      "  Downloading tf_agents-0.17.0-py3-none-any.whl (1.4 MB)\n",
      "\u001b[2K     \u001b[90m━━━━━━━━━━━━━━━━━━━━━━━━━━━━━━━━━━━━━━━━\u001b[0m \u001b[32m1.4/1.4 MB\u001b[0m \u001b[31m9.0 MB/s\u001b[0m eta \u001b[36m0:00:00\u001b[0ma \u001b[36m0:00:01\u001b[0m\n",
      "\u001b[?25hCollecting gym<=0.23.0,>=0.17.0\n",
      "  Downloading gym-0.23.0.tar.gz (624 kB)\n",
      "\u001b[2K     \u001b[90m━━━━━━━━━━━━━━━━━━━━━━━━━━━━━━━━━━━━━━━\u001b[0m \u001b[32m624.4/624.4 kB\u001b[0m \u001b[31m9.5 MB/s\u001b[0m eta \u001b[36m0:00:00\u001b[0ma \u001b[36m0:00:01\u001b[0m\n",
      "\u001b[?25h  Installing build dependencies ... \u001b[?25ldone\n",
      "\u001b[?25h  Getting requirements to build wheel ... \u001b[?25ldone\n",
      "\u001b[?25h  Preparing metadata (pyproject.toml) ... \u001b[?25ldone\n",
      "\u001b[?25hCollecting gin-config>=0.4.0\n",
      "  Downloading gin_config-0.5.0-py3-none-any.whl (61 kB)\n",
      "\u001b[2K     \u001b[90m━━━━━━━━━━━━━━━━━━━━━━━━━━━━━━━━━━━━━━━━\u001b[0m \u001b[32m61.3/61.3 kB\u001b[0m \u001b[31m4.7 MB/s\u001b[0m eta \u001b[36m0:00:00\u001b[0m\n",
      "\u001b[?25hRequirement already satisfied: wrapt>=1.11.1 in /usr/local/lib/python3.8/dist-packages (from tf_agents[reverb]) (1.14.1)\n",
      "Collecting pygame==2.1.3\n",
      "  Downloading pygame-2.1.3-cp38-cp38-manylinux_2_17_x86_64.manylinux2014_x86_64.whl (13.7 MB)\n",
      "\u001b[2K     \u001b[90m━━━━━━━━━━━━━━━━━━━━━━━━━━━━━━━━━━━━━━━━\u001b[0m \u001b[32m13.7/13.7 MB\u001b[0m \u001b[31m10.2 MB/s\u001b[0m eta \u001b[36m0:00:00\u001b[0m00:01\u001b[0m00:01\u001b[0m\n",
      "\u001b[?25hRequirement already satisfied: six>=1.10.0 in /usr/lib/python3/dist-packages (from tf_agents[reverb]) (1.14.0)\n",
      "Requirement already satisfied: typing-extensions<4.6.0,>=3.7.4.3 in /usr/local/lib/python3.8/dist-packages (from tf_agents[reverb]) (4.5.0)\n",
      "Requirement already satisfied: numpy>=1.19.0 in /usr/local/lib/python3.8/dist-packages (from tf_agents[reverb]) (1.23.5)\n",
      "Collecting tensorflow-probability~=0.20.1\n",
      "  Downloading tensorflow_probability-0.20.1-py2.py3-none-any.whl (6.9 MB)\n",
      "\u001b[2K     \u001b[90m━━━━━━━━━━━━━━━━━━━━━━━━━━━━━━━━━━━━━━━━\u001b[0m \u001b[32m6.9/6.9 MB\u001b[0m \u001b[31m9.7 MB/s\u001b[0m eta \u001b[36m0:00:00\u001b[0m:00:01\u001b[0m00:01\u001b[0m\n",
      "\u001b[?25hCollecting cloudpickle>=1.3\n",
      "  Downloading cloudpickle-2.2.1-py3-none-any.whl (25 kB)\n",
      "Requirement already satisfied: protobuf>=3.11.3 in /usr/local/lib/python3.8/dist-packages (from tf_agents[reverb]) (4.22.1)\n",
      "Requirement already satisfied: pillow in /usr/local/lib/python3.8/dist-packages (from tf_agents[reverb]) (9.4.0)\n",
      "Requirement already satisfied: absl-py>=0.6.1 in /usr/local/lib/python3.8/dist-packages (from tf_agents[reverb]) (1.4.0)\n",
      "Collecting dm-reverb~=0.12.0\n",
      "  Downloading dm_reverb-0.12.0-cp38-cp38-manylinux2014_x86_64.whl (6.3 MB)\n",
      "\u001b[2K     \u001b[90m━━━━━━━━━━━━━━━━━━━━━━━━━━━━━━━━━━━━━━━━\u001b[0m \u001b[32m6.3/6.3 MB\u001b[0m \u001b[31m10.4 MB/s\u001b[0m eta \u001b[36m0:00:00\u001b[0m00:01\u001b[0m00:01\u001b[0m\n",
      "\u001b[?25hCollecting rlds\n",
      "  Downloading rlds-0.1.8-py3-none-manylinux2010_x86_64.whl (48 kB)\n",
      "\u001b[2K     \u001b[90m━━━━━━━━━━━━━━━━━━━━━━━━━━━━━━━━━━━━━━━━\u001b[0m \u001b[32m48.4/48.4 kB\u001b[0m \u001b[31m5.2 MB/s\u001b[0m eta \u001b[36m0:00:00\u001b[0m\n",
      "\u001b[?25hCollecting tensorflow~=2.13.0\n",
      "  Downloading tensorflow-2.13.0-cp38-cp38-manylinux_2_17_x86_64.manylinux2014_x86_64.whl (524.1 MB)\n",
      "\u001b[2K     \u001b[90m━━━━━━━━━━━━━━━━━━━━━━━━━━━━━━━━━━━━━━━\u001b[0m \u001b[32m524.1/524.1 MB\u001b[0m \u001b[31m4.7 MB/s\u001b[0m eta \u001b[36m0:00:00\u001b[0m00:01\u001b[0m00:02\u001b[0m\n",
      "\u001b[?25hCollecting dm-tree\n",
      "  Downloading dm_tree-0.1.8-cp38-cp38-manylinux_2_17_x86_64.manylinux2014_x86_64.whl (152 kB)\n",
      "\u001b[2K     \u001b[90m━━━━━━━━━━━━━━━━━━━━━━━━━━━━━━━━━━━━━━━\u001b[0m \u001b[32m152.9/152.9 kB\u001b[0m \u001b[31m8.4 MB/s\u001b[0m eta \u001b[36m0:00:00\u001b[0m\n",
      "\u001b[?25hCollecting portpicker\n",
      "  Downloading portpicker-1.6.0-py3-none-any.whl (16 kB)\n",
      "Collecting gym-notices>=0.0.4\n",
      "  Downloading gym_notices-0.0.8-py3-none-any.whl (3.0 kB)\n",
      "Requirement already satisfied: importlib-metadata>=4.10.0 in /usr/local/lib/python3.8/dist-packages (from gym<=0.23.0,>=0.17.0->tf_agents[reverb]) (6.1.0)\n",
      "Collecting keras<2.14,>=2.13.1\n",
      "  Downloading keras-2.13.1-py3-none-any.whl (1.7 MB)\n",
      "\u001b[2K     \u001b[90m━━━━━━━━━━━━━━━━━━━━━━━━━━━━━━━━━━━━━━━━\u001b[0m \u001b[32m1.7/1.7 MB\u001b[0m \u001b[31m10.4 MB/s\u001b[0m eta \u001b[36m0:00:00\u001b[0m \u001b[36m0:00:01\u001b[0mm\n",
      "\u001b[?25hRequirement already satisfied: flatbuffers>=23.1.21 in /usr/local/lib/python3.8/dist-packages (from tensorflow~=2.13.0->tf_agents[reverb]) (23.3.3)\n",
      "Requirement already satisfied: setuptools in /usr/local/lib/python3.8/dist-packages (from tensorflow~=2.13.0->tf_agents[reverb]) (67.6.0)\n",
      "Requirement already satisfied: gast<=0.4.0,>=0.2.1 in /usr/local/lib/python3.8/dist-packages (from tensorflow~=2.13.0->tf_agents[reverb]) (0.4.0)\n",
      "Requirement already satisfied: packaging in /usr/local/lib/python3.8/dist-packages (from tensorflow~=2.13.0->tf_agents[reverb]) (23.0)\n",
      "Requirement already satisfied: termcolor>=1.1.0 in /usr/local/lib/python3.8/dist-packages (from tensorflow~=2.13.0->tf_agents[reverb]) (2.2.0)\n",
      "Collecting tensorflow-estimator<2.14,>=2.13.0\n",
      "  Downloading tensorflow_estimator-2.13.0-py2.py3-none-any.whl (440 kB)\n",
      "\u001b[2K     \u001b[90m━━━━━━━━━━━━━━━━━━━━━━━━━━━━━━━━━━━━━━\u001b[0m \u001b[32m440.8/440.8 kB\u001b[0m \u001b[31m10.1 MB/s\u001b[0m eta \u001b[36m0:00:00\u001b[0ma \u001b[36m0:00:01\u001b[0m\n",
      "\u001b[?25hRequirement already satisfied: astunparse>=1.6.0 in /usr/local/lib/python3.8/dist-packages (from tensorflow~=2.13.0->tf_agents[reverb]) (1.6.3)\n",
      "Requirement already satisfied: opt-einsum>=2.3.2 in /usr/local/lib/python3.8/dist-packages (from tensorflow~=2.13.0->tf_agents[reverb]) (3.3.0)\n",
      "Requirement already satisfied: grpcio<2.0,>=1.24.3 in /usr/local/lib/python3.8/dist-packages (from tensorflow~=2.13.0->tf_agents[reverb]) (1.51.3)\n",
      "Requirement already satisfied: google-pasta>=0.1.1 in /usr/local/lib/python3.8/dist-packages (from tensorflow~=2.13.0->tf_agents[reverb]) (0.2.0)\n",
      "Requirement already satisfied: libclang>=13.0.0 in /usr/local/lib/python3.8/dist-packages (from tensorflow~=2.13.0->tf_agents[reverb]) (16.0.0)\n",
      "Requirement already satisfied: tensorflow-io-gcs-filesystem>=0.23.1 in /usr/local/lib/python3.8/dist-packages (from tensorflow~=2.13.0->tf_agents[reverb]) (0.31.0)\n",
      "Requirement already satisfied: h5py>=2.9.0 in /usr/local/lib/python3.8/dist-packages (from tensorflow~=2.13.0->tf_agents[reverb]) (3.8.0)\n",
      "Collecting tensorboard<2.14,>=2.13\n",
      "  Downloading tensorboard-2.13.0-py3-none-any.whl (5.6 MB)\n",
      "\u001b[2K     \u001b[90m━━━━━━━━━━━━━━━━━━━━━━━━━━━━━━━━━━━━━━━━\u001b[0m \u001b[32m5.6/5.6 MB\u001b[0m \u001b[31m10.3 MB/s\u001b[0m eta \u001b[36m0:00:00\u001b[0m00:01\u001b[0m00:01\u001b[0m\n",
      "\u001b[?25hRequirement already satisfied: decorator in /usr/local/lib/python3.8/dist-packages (from tensorflow-probability~=0.20.1->tf_agents[reverb]) (5.1.1)\n",
      "Requirement already satisfied: wheel<1.0,>=0.23.0 in /usr/local/lib/python3.8/dist-packages (from astunparse>=1.6.0->tensorflow~=2.13.0->tf_agents[reverb]) (0.40.0)\n",
      "Requirement already satisfied: zipp>=0.5 in /usr/local/lib/python3.8/dist-packages (from importlib-metadata>=4.10.0->gym<=0.23.0,>=0.17.0->tf_agents[reverb]) (3.15.0)\n",
      "Requirement already satisfied: requests<3,>=2.21.0 in /usr/lib/python3/dist-packages (from tensorboard<2.14,>=2.13->tensorflow~=2.13.0->tf_agents[reverb]) (2.22.0)\n",
      "Requirement already satisfied: tensorboard-data-server<0.8.0,>=0.7.0 in /usr/local/lib/python3.8/dist-packages (from tensorboard<2.14,>=2.13->tensorflow~=2.13.0->tf_agents[reverb]) (0.7.0)\n",
      "Requirement already satisfied: werkzeug>=1.0.1 in /usr/local/lib/python3.8/dist-packages (from tensorboard<2.14,>=2.13->tensorflow~=2.13.0->tf_agents[reverb]) (2.2.3)\n",
      "Collecting google-auth-oauthlib<1.1,>=0.5\n",
      "  Downloading google_auth_oauthlib-1.0.0-py2.py3-none-any.whl (18 kB)\n",
      "Requirement already satisfied: markdown>=2.6.8 in /usr/local/lib/python3.8/dist-packages (from tensorboard<2.14,>=2.13->tensorflow~=2.13.0->tf_agents[reverb]) (3.4.3)\n",
      "Requirement already satisfied: google-auth<3,>=1.6.3 in /usr/local/lib/python3.8/dist-packages (from tensorboard<2.14,>=2.13->tensorflow~=2.13.0->tf_agents[reverb]) (2.16.2)\n",
      "Requirement already satisfied: psutil in /usr/local/lib/python3.8/dist-packages (from portpicker->dm-reverb~=0.12.0->tf_agents[reverb]) (5.9.4)\n",
      "Requirement already satisfied: pyasn1-modules>=0.2.1 in /usr/local/lib/python3.8/dist-packages (from google-auth<3,>=1.6.3->tensorboard<2.14,>=2.13->tensorflow~=2.13.0->tf_agents[reverb]) (0.2.8)\n",
      "Requirement already satisfied: cachetools<6.0,>=2.0.0 in /usr/local/lib/python3.8/dist-packages (from google-auth<3,>=1.6.3->tensorboard<2.14,>=2.13->tensorflow~=2.13.0->tf_agents[reverb]) (5.3.0)\n",
      "Requirement already satisfied: rsa<5,>=3.1.4 in /usr/local/lib/python3.8/dist-packages (from google-auth<3,>=1.6.3->tensorboard<2.14,>=2.13->tensorflow~=2.13.0->tf_agents[reverb]) (4.9)\n",
      "Requirement already satisfied: requests-oauthlib>=0.7.0 in /usr/local/lib/python3.8/dist-packages (from google-auth-oauthlib<1.1,>=0.5->tensorboard<2.14,>=2.13->tensorflow~=2.13.0->tf_agents[reverb]) (1.3.1)\n",
      "Requirement already satisfied: MarkupSafe>=2.1.1 in /usr/local/lib/python3.8/dist-packages (from werkzeug>=1.0.1->tensorboard<2.14,>=2.13->tensorflow~=2.13.0->tf_agents[reverb]) (2.1.2)\n",
      "Requirement already satisfied: pyasn1<0.5.0,>=0.4.6 in /usr/local/lib/python3.8/dist-packages (from pyasn1-modules>=0.2.1->google-auth<3,>=1.6.3->tensorboard<2.14,>=2.13->tensorflow~=2.13.0->tf_agents[reverb]) (0.4.8)\n",
      "Requirement already satisfied: oauthlib>=3.0.0 in /usr/local/lib/python3.8/dist-packages (from requests-oauthlib>=0.7.0->google-auth-oauthlib<1.1,>=0.5->tensorboard<2.14,>=2.13->tensorflow~=2.13.0->tf_agents[reverb]) (3.2.2)\n",
      "Building wheels for collected packages: gym\n",
      "  Building wheel for gym (pyproject.toml) ... \u001b[?25ldone\n",
      "\u001b[?25h  Created wheel for gym: filename=gym-0.23.0-py3-none-any.whl size=697629 sha256=18eaba94f693c56a519bf94cc7828f3360bccd9122e2ccb1c64ff6b3075a41f7\n",
      "  Stored in directory: /root/.cache/pip/wheels/e7/2f/ab/68bf956c5dde73c1856d981e54292cf58385fb60bca10b7acd\n",
      "Successfully built gym\n",
      "Installing collected packages: gym-notices, gin-config, dm-tree, tensorflow-estimator, rlds, pygame, portpicker, keras, cloudpickle, tensorflow-probability, gym, dm-reverb, tf_agents, google-auth-oauthlib, tensorboard, tensorflow\n",
      "  Attempting uninstall: tensorflow-estimator\n",
      "    Found existing installation: tensorflow-estimator 2.12.0\n",
      "    Uninstalling tensorflow-estimator-2.12.0:\n",
      "      Successfully uninstalled tensorflow-estimator-2.12.0\n",
      "  Attempting uninstall: keras\n",
      "    Found existing installation: keras 2.12.0\n",
      "    Uninstalling keras-2.12.0:\n",
      "      Successfully uninstalled keras-2.12.0\n",
      "  Attempting uninstall: google-auth-oauthlib\n",
      "    Found existing installation: google-auth-oauthlib 0.4.6\n",
      "    Uninstalling google-auth-oauthlib-0.4.6:\n",
      "      Successfully uninstalled google-auth-oauthlib-0.4.6\n",
      "  Attempting uninstall: tensorboard\n",
      "    Found existing installation: tensorboard 2.12.0\n",
      "    Uninstalling tensorboard-2.12.0:\n",
      "      Successfully uninstalled tensorboard-2.12.0\n",
      "  Attempting uninstall: tensorflow\n",
      "    Found existing installation: tensorflow 2.12.0\n",
      "    Uninstalling tensorflow-2.12.0:\n",
      "      Successfully uninstalled tensorflow-2.12.0\n",
      "Successfully installed cloudpickle-2.2.1 dm-reverb-0.12.0 dm-tree-0.1.8 gin-config-0.5.0 google-auth-oauthlib-1.0.0 gym-0.23.0 gym-notices-0.0.8 keras-2.13.1 portpicker-1.6.0 pygame-2.1.3 rlds-0.1.8 tensorboard-2.13.0 tensorflow-2.13.0 tensorflow-estimator-2.13.0 tensorflow-probability-0.20.1 tf_agents-0.17.0\n",
      "\u001b[33mWARNING: Running pip as the 'root' user can result in broken permissions and conflicting behaviour with the system package manager. It is recommended to use a virtual environment instead: https://pip.pypa.io/warnings/venv\u001b[0m\u001b[33m\n",
      "\u001b[0m\n",
      "\u001b[1m[\u001b[0m\u001b[34;49mnotice\u001b[0m\u001b[1;39;49m]\u001b[0m\u001b[39;49m A new release of pip is available: \u001b[0m\u001b[31;49m23.0.1\u001b[0m\u001b[39;49m -> \u001b[0m\u001b[32;49m23.2.1\u001b[0m\n",
      "\u001b[1m[\u001b[0m\u001b[34;49mnotice\u001b[0m\u001b[1;39;49m]\u001b[0m\u001b[39;49m To update, run: \u001b[0m\u001b[32;49mpython3 -m pip install --upgrade pip\u001b[0m\n",
      "Collecting seaborn\n",
      "  Downloading seaborn-0.12.2-py3-none-any.whl (293 kB)\n",
      "\u001b[2K     \u001b[90m━━━━━━━━━━━━━━━━━━━━━━━━━━━━━━━━━━━━━━━\u001b[0m \u001b[32m293.3/293.3 kB\u001b[0m \u001b[31m6.0 MB/s\u001b[0m eta \u001b[36m0:00:00\u001b[0ma \u001b[36m0:00:01\u001b[0m\n",
      "\u001b[?25hRequirement already satisfied: matplotlib!=3.6.1,>=3.1 in /usr/local/lib/python3.8/dist-packages (from seaborn) (3.7.1)\n",
      "Requirement already satisfied: pandas>=0.25 in /usr/local/lib/python3.8/dist-packages (from seaborn) (2.0.3)\n",
      "Requirement already satisfied: numpy!=1.24.0,>=1.17 in /usr/local/lib/python3.8/dist-packages (from seaborn) (1.23.5)\n",
      "Requirement already satisfied: contourpy>=1.0.1 in /usr/local/lib/python3.8/dist-packages (from matplotlib!=3.6.1,>=3.1->seaborn) (1.0.7)\n",
      "Requirement already satisfied: python-dateutil>=2.7 in /usr/local/lib/python3.8/dist-packages (from matplotlib!=3.6.1,>=3.1->seaborn) (2.8.2)\n",
      "Requirement already satisfied: pyparsing>=2.3.1 in /usr/local/lib/python3.8/dist-packages (from matplotlib!=3.6.1,>=3.1->seaborn) (3.0.9)\n",
      "Requirement already satisfied: cycler>=0.10 in /usr/local/lib/python3.8/dist-packages (from matplotlib!=3.6.1,>=3.1->seaborn) (0.11.0)\n",
      "Requirement already satisfied: packaging>=20.0 in /usr/local/lib/python3.8/dist-packages (from matplotlib!=3.6.1,>=3.1->seaborn) (23.0)\n",
      "Requirement already satisfied: importlib-resources>=3.2.0 in /usr/local/lib/python3.8/dist-packages (from matplotlib!=3.6.1,>=3.1->seaborn) (5.12.0)\n",
      "Requirement already satisfied: fonttools>=4.22.0 in /usr/local/lib/python3.8/dist-packages (from matplotlib!=3.6.1,>=3.1->seaborn) (4.39.2)\n",
      "Requirement already satisfied: kiwisolver>=1.0.1 in /usr/local/lib/python3.8/dist-packages (from matplotlib!=3.6.1,>=3.1->seaborn) (1.4.4)\n",
      "Requirement already satisfied: pillow>=6.2.0 in /usr/local/lib/python3.8/dist-packages (from matplotlib!=3.6.1,>=3.1->seaborn) (9.4.0)\n",
      "Requirement already satisfied: tzdata>=2022.1 in /usr/local/lib/python3.8/dist-packages (from pandas>=0.25->seaborn) (2023.3)\n",
      "Requirement already satisfied: pytz>=2020.1 in /usr/local/lib/python3.8/dist-packages (from pandas>=0.25->seaborn) (2023.3)\n",
      "Requirement already satisfied: zipp>=3.1.0 in /usr/local/lib/python3.8/dist-packages (from importlib-resources>=3.2.0->matplotlib!=3.6.1,>=3.1->seaborn) (3.15.0)\n",
      "Requirement already satisfied: six>=1.5 in /usr/lib/python3/dist-packages (from python-dateutil>=2.7->matplotlib!=3.6.1,>=3.1->seaborn) (1.14.0)\n",
      "Installing collected packages: seaborn\n",
      "Successfully installed seaborn-0.12.2\n",
      "\u001b[33mWARNING: Running pip as the 'root' user can result in broken permissions and conflicting behaviour with the system package manager. It is recommended to use a virtual environment instead: https://pip.pypa.io/warnings/venv\u001b[0m\u001b[33m\n",
      "\u001b[0m\n",
      "\u001b[1m[\u001b[0m\u001b[34;49mnotice\u001b[0m\u001b[1;39;49m]\u001b[0m\u001b[39;49m A new release of pip is available: \u001b[0m\u001b[31;49m23.0.1\u001b[0m\u001b[39;49m -> \u001b[0m\u001b[32;49m23.2.1\u001b[0m\n",
      "\u001b[1m[\u001b[0m\u001b[34;49mnotice\u001b[0m\u001b[1;39;49m]\u001b[0m\u001b[39;49m To update, run: \u001b[0m\u001b[32;49mpython3 -m pip install --upgrade pip\u001b[0m\n"
     ]
    }
   ],
   "source": [
    "!pip install pandas_ta\n",
    "!pip install tf_agents[reverb]\n",
    "!pip install seaborn"
   ]
  },
  {
   "cell_type": "code",
   "execution_count": null,
   "metadata": {},
   "outputs": [],
   "source": [
    "\n",
    "import os\n",
    "os.environ[\"CUDA_VISIBLE_DEVICES\"] = \"-1\""
   ]
  },
  {
   "cell_type": "code",
   "execution_count": 1,
   "metadata": {
    "id": "mknrqfmnKQSP",
    "scrolled": true
   },
   "outputs": [
    {
     "name": "stderr",
     "output_type": "stream",
     "text": [
      "2023-09-03 03:55:37.098314: I tensorflow/core/platform/cpu_feature_guard.cc:182] This TensorFlow binary is optimized to use available CPU instructions in performance-critical operations.\n",
      "To enable the following instructions: AVX2 FMA, in other operations, rebuild TensorFlow with the appropriate compiler flags.\n"
     ]
    }
   ],
   "source": [
    "import pandas as pd\n",
    "import numpy as np\n",
    "import pandas_ta as ta\n",
    "import matplotlib.pyplot as plt\n",
    "import reverb\n",
    "import random\n",
    "import seaborn as sns\n",
    "\n",
    "import tensorflow as tf\n",
    "from tensorflow.keras import regularizers\n",
    "from tensorflow.keras import layers\n",
    "from tf_agents.agents.dqn import dqn_agent\n",
    "from tf_agents.drivers import py_driver\n",
    "from tf_agents.environments import suite_gym\n",
    "from tf_agents.environments import tf_py_environment\n",
    "from tf_agents.eval import metric_utils\n",
    "from tf_agents.metrics import tf_metrics\n",
    "from tf_agents.networks import sequential\n",
    "from tf_agents.policies import py_tf_eager_policy\n",
    "from tf_agents.policies import epsilon_greedy_policy\n",
    "from tf_agents.policies import random_tf_policy\n",
    "from tf_agents.replay_buffers import reverb_replay_buffer\n",
    "from tf_agents.replay_buffers import reverb_utils\n",
    "from tf_agents.trajectories import trajectory\n",
    "from tf_agents.specs import tensor_spec\n",
    "from tf_agents.utils import common\n",
    "from tf_agents.policies import greedy_policy\n",
    "from tf_agents.policies.epsilon_greedy_policy import EpsilonGreedyPolicy\n",
    "from tf_agents.drivers import dynamic_episode_driver\n",
    "from tf_agents.drivers.dynamic_step_driver import DynamicStepDriver\n",
    "from tf_agents.environments.batched_py_environment import BatchedPyEnvironment\n",
    "from tf_agents.networks import categorical_q_network\n",
    "from tf_agents.agents.categorical_dqn import categorical_dqn_agent\n",
    "\n",
    "from tf_agents.environments import py_environment\n",
    "from tf_agents.environments import tf_environment\n",
    "from tf_agents.environments import tf_py_environment\n",
    "from tf_agents.environments import utils\n",
    "from tf_agents.specs import array_spec\n",
    "from tf_agents.environments import wrappers\n",
    "from tf_agents.environments import suite_gym\n",
    "from tf_agents.trajectories import time_step as ts"
   ]
  },
  {
   "cell_type": "code",
   "execution_count": 2,
   "metadata": {},
   "outputs": [
    {
     "name": "stderr",
     "output_type": "stream",
     "text": [
      "2023-09-03 03:55:38.835909: I tensorflow/compiler/xla/stream_executor/cuda/cuda_gpu_executor.cc:995] successful NUMA node read from SysFS had negative value (-1), but there must be at least one NUMA node, so returning NUMA node zero. See more at https://github.com/torvalds/linux/blob/v6.0/Documentation/ABI/testing/sysfs-bus-pci#L344-L355\n",
      "2023-09-03 03:55:38.840051: I tensorflow/compiler/xla/stream_executor/cuda/cuda_gpu_executor.cc:995] successful NUMA node read from SysFS had negative value (-1), but there must be at least one NUMA node, so returning NUMA node zero. See more at https://github.com/torvalds/linux/blob/v6.0/Documentation/ABI/testing/sysfs-bus-pci#L344-L355\n",
      "2023-09-03 03:55:38.840261: I tensorflow/compiler/xla/stream_executor/cuda/cuda_gpu_executor.cc:995] successful NUMA node read from SysFS had negative value (-1), but there must be at least one NUMA node, so returning NUMA node zero. See more at https://github.com/torvalds/linux/blob/v6.0/Documentation/ABI/testing/sysfs-bus-pci#L344-L355\n"
     ]
    }
   ],
   "source": [
    "try:\n",
    "    # Disable all GPUS\n",
    "    tf.config.set_visible_devices([], 'GPU')\n",
    "    visible_devices = tf.config.get_visible_devices()\n",
    "    for device in visible_devices:\n",
    "        assert device.device_type != 'GPU'\n",
    "except:\n",
    "    # Invalid device or cannot modify virtual devices once initialized.\n",
    "    pass\n"
   ]
  },
  {
   "cell_type": "code",
   "execution_count": 3,
   "metadata": {
    "id": "81IQ0kMGZEBK"
   },
   "outputs": [],
   "source": [
    "num_iterations = 20000000 # @param {type:\"integer\"}\n",
    "\n",
    "initial_collect_steps = 100  # @param {type:\"integer\"}\n",
    "collect_steps_per_iteration =   1# @param {type:\"integer\"}\n",
    "replay_buffer_max_length = 100000  # @param {type:\"integer\"}\n",
    "\n",
    "batch_size = 64  # @param {type:\"integer\"}\n",
    "learning_rate = 1e-3  # @param {type:\"number\"}\n",
    "log_interval = 1000  # @param {type:\"integer\"}\n",
    "\n",
    "num_eval_episodes = 3  # @param {type:\"integer\"}\n",
    "eval_interval = 100000  # @param {type:\"integer\"}"
   ]
  },
  {
   "cell_type": "code",
   "execution_count": 4,
   "metadata": {
    "id": "vaIxTZWCHydp"
   },
   "outputs": [],
   "source": [
    "def get_relative_change(df, column_name):\n",
    "    relative_changes = []\n",
    "    for i in range(len(df)):\n",
    "        if i == 0:\n",
    "            relative_changes.append(0)  # First element has no previous value\n",
    "        else:\n",
    "            relative_change = (df.iloc[i] - df.iloc[i-1]) / df.iloc[i-1]\n",
    "            relative_changes.append(relative_change)\n",
    "    return pd.DataFrame({column_name: relative_changes})"
   ]
  },
  {
   "cell_type": "code",
   "execution_count": 5,
   "metadata": {
    "id": "iwSR4EWTLbDK",
    "scrolled": true
   },
   "outputs": [
    {
     "name": "stdout",
     "output_type": "stream",
     "text": [
      "             Date   Time       BO       BH       BL       BC      BCh  \\\n",
      "0      2005-05-02  00:00  1.28520  1.28520  1.28400  1.28440 -0.00080   \n",
      "1      2005-05-02  01:00  1.28440  1.28480  1.28390  1.28420 -0.00020   \n",
      "2      2005-05-02  02:00  1.28430  1.28540  1.28410  1.28510  0.00080   \n",
      "3      2005-05-02  03:00  1.28510  1.28590  1.28500  1.28510  0.00000   \n",
      "4      2005-05-02  04:00  1.28520  1.28590  1.28490  1.28550  0.00030   \n",
      "...           ...    ...      ...      ...      ...      ...      ...   \n",
      "93079  2020-04-29  18:00  1.08620  1.08851  1.08611  1.08713  0.00093   \n",
      "93080  2020-04-29  19:00  1.08711  1.08823  1.08659  1.08748  0.00037   \n",
      "93081  2020-04-29  20:00  1.08747  1.08788  1.08691  1.08708 -0.00039   \n",
      "93082  2020-04-29  21:00  1.08708  1.08740  1.08699  1.08714  0.00006   \n",
      "93083  2020-04-29  22:00  1.08728  1.08760  1.08727  1.08743  0.00015   \n",
      "\n",
      "            AO       AH       AL       AC      ACh  \n",
      "0      1.28540  1.28540  1.28420  1.28460 -0.00080  \n",
      "1      1.28460  1.28500  1.28410  1.28440 -0.00020  \n",
      "2      1.28450  1.28560  1.28430  1.28530  0.00080  \n",
      "3      1.28530  1.28610  1.28520  1.28530  0.00000  \n",
      "4      1.28540  1.28610  1.28510  1.28570  0.00030  \n",
      "...        ...      ...      ...      ...      ...  \n",
      "93079  1.08660  1.08865  1.08640  1.08726  0.00066  \n",
      "93080  1.08725  1.08837  1.08675  1.08760  0.00035  \n",
      "93081  1.08758  1.08810  1.08706  1.08808  0.00050  \n",
      "93082  1.08808  1.08814  1.08763  1.08766 -0.00042  \n",
      "93083  1.08756  1.08779  1.08749  1.08760  0.00004  \n",
      "\n",
      "[93084 rows x 12 columns]\n"
     ]
    }
   ],
   "source": [
    "df = pd.read_csv('/tmp9vsm7a39/eurusd_hour.csv')\n",
    "close = df['AC']\n",
    "open = df['AO']\n",
    "high = df['AH']\n",
    "low = df['AL']\n",
    "achange = df['ACh']\n",
    "print(df)"
   ]
  },
  {
   "cell_type": "code",
   "execution_count": 6,
   "metadata": {
    "id": "szXaEp64McUL"
   },
   "outputs": [],
   "source": [
    "RSI = ta.rsi(close,14,scalar=1)\n",
    "AROON = ta.aroon(high,low,14,scalar = 1)\n",
    "AROON_UP = AROON['AROOND_14']\n",
    "AROON_DOWN = AROON['AROONU_14']\n",
    "CCI = ta.cci(high,low,close,14)\n",
    "CCI = CCI.multiply(.001)\n",
    "CCI = CCI.add(.5)\n",
    "RVI = ta.rvi(close,high,low,14,scalar=1)\n",
    "CHANGE = achange\n",
    "CHANGE.name = 'Change'\n",
    "lookback = 10\n",
    "DIFF_enter = ta.sma(achange/np.std(achange),lookback,offset = -lookback)\n",
    "DIFF_enter.name = 'DIFF_enter'\n",
    "\n",
    "DIFF_hold = ta.sma(achange/np.std(achange),lookback,offset = -(lookback/2))\n",
    "DIFF_hold.name = 'DIFF_hold'\n",
    "\n",
    "INDICATORS = pd.concat([CHANGE,RSI,AROON_UP,AROON_DOWN,CCI,RVI,DIFF_enter,DIFF_hold],axis=1)\n",
    "\n",
    "INDICATORS = INDICATORS.dropna(axis=0)\n",
    "INDICATORS = INDICATORS.reset_index()\n",
    "\n",
    "change = INDICATORS.pop('Change')\n",
    "DIFF_enter = INDICATORS.pop('DIFF_enter')\n",
    "DIFF_hold = INDICATORS.pop('DIFF_hold')\n",
    "INDICATORS.pop('index')\n",
    "\n",
    "INDICATORS = INDICATORS.to_numpy()\n",
    "change = change.to_numpy()\n",
    "change_dev = change.std()\n",
    "change = change/change_dev\n",
    "np.set_printoptions(suppress=True)"
   ]
  },
  {
   "cell_type": "code",
   "execution_count": 7,
   "metadata": {
    "colab": {
     "base_uri": "https://localhost:8080/",
     "height": 447
    },
    "id": "0XMF1wKV6e_X",
    "outputId": "f65fc149-87be-432d-8a0d-f0dbf435734f"
   },
   "outputs": [
    {
     "data": {
      "text/plain": [
       "(5400.0, 5500.0)"
      ]
     },
     "execution_count": 7,
     "metadata": {},
     "output_type": "execute_result"
    },
    {
     "data": {
      "image/png": "[encoded data removed]",
      "text/plain": [
       "<Figure size 640x480 with 1 Axes>"
      ]
     },
     "metadata": {},
     "output_type": "display_data"
    }
   ],
   "source": [
    "plt.plot(INDICATORS)\n",
    "plt.xlim(5400,5500)\n",
    "#print(INDICATORS)"
   ]
  },
  {
   "cell_type": "code",
   "execution_count": 8,
   "metadata": {
    "id": "mcjEVE3Rh_5l"
   },
   "outputs": [],
   "source": [
    "def custom_formatter(x):\n",
    "  return f'{x:.4f}'\n",
    "\n",
    "\n",
    "def test_environment(env, num_steps):\n",
    "    # Reset the environment\n",
    "    observation = env.reset()\n",
    "\n",
    "    # Get the upper bound of the action range\n",
    "    action_spec = env.action_spec().maximum\n",
    "\n",
    "    # Loop through the time steps and take random actions\n",
    "    for _ in range(num_steps):\n",
    "        # Select a random action from the range of valid values\n",
    "        action = random.randint(0, action_spec)\n",
    "\n",
    "        # Execute the action and get the next observation, reward, done, and info\n",
    "        observation, reward, done, info = env.step(action)\n",
    "\n",
    "        # Print the current time step\n",
    "        np.set_printoptions(formatter={'float_kind':custom_formatter})\n",
    "        print(action,\"{:.4f}\".format(reward),info[5:12])\n"
   ]
  },
  {
   "cell_type": "code",
   "execution_count": 9,
   "metadata": {
    "id": "MiJi0KTZ4iOU"
   },
   "outputs": [],
   "source": [
    "def cross(cur_diff,prev_diff):\n",
    "  if cur_diff > 0 and prev_diff <= 0:\n",
    "    return 5\n",
    "  elif cur_diff < 0 and prev_diff >= 0:\n",
    "    return 5\n",
    "  else:\n",
    "    return 0\n"
   ]
  },
  {
   "cell_type": "markdown",
   "metadata": {
    "id": "WJ2nDR1p1e9U"
   },
   "source": []
  },
  {
   "cell_type": "code",
   "execution_count": 10,
   "metadata": {
    "id": "wQreCJAi-KAU"
   },
   "outputs": [],
   "source": [
    "max_ep_len = 100"
   ]
  },
  {
   "cell_type": "code",
   "execution_count": 11,
   "metadata": {},
   "outputs": [],
   "source": [
    "def SortinoRatio(df, T):\n",
    "    \"\"\"Calculates the Sortino ratio from univariate excess returns.\n",
    "\n",
    "\n",
    "    Args:\n",
    "        df ([float]): The dataframe or pandas series of univariate excess returns.\n",
    "        T ([integer]): The targeted return. \n",
    "    \"\"\"\n",
    "\n",
    "    #downside deviation:\n",
    "\n",
    "    temp = np.minimum(0, df - T)**2\n",
    "    temp_expectation = np.mean(temp)\n",
    "    downside_dev = np.sqrt(temp_expectation)\n",
    "\n",
    "    #Sortino ratio:\n",
    "\n",
    "    sortino_ratio = np.mean(df - T) / downside_dev\n",
    "\n",
    "    return(sortino_ratio)"
   ]
  },
  {
   "cell_type": "code",
   "execution_count": 12,
   "metadata": {
    "id": "HoVru2TRfnAz"
   },
   "outputs": [],
   "source": [
    "class TradingEnv(py_environment.PyEnvironment):\n",
    "\n",
    "  def __init__(self):\n",
    "    self._action_spec = array_spec.BoundedArraySpec(\n",
    "        shape=(), dtype=np.int64, minimum=0, maximum=3, name='action')\n",
    "    self._observation_spec = array_spec.BoundedArraySpec(\n",
    "        shape=(12,), dtype=np.float32, minimum=-100,maximum=100, name='observation')\n",
    "\n",
    "\n",
    "    self._state = [0] * 12\n",
    "    self._episode_ended = False\n",
    "    self._count = random.randint(10000,60000)\n",
    "    self._end_ep = self._count+max_ep_len\n",
    "    self._scaler = np.sum(np.abs(change[self._count:self._end_ep]))\n",
    "    self._balance = 0\n",
    "    self._prev_dff = 0\n",
    "    self._returns = np.array([])\n",
    "    self.trade_info = {\n",
    "    'time': 0,\n",
    "    'value': 0,\n",
    "    'direction': 0,\n",
    "    'max_val': 0,\n",
    "    'min_val': 0,\n",
    "    'max_time': 0,\n",
    "    'min_time': 0\n",
    "    }\n",
    "\n",
    "\n",
    "  def action_spec(self):\n",
    "    return self._action_spec\n",
    "\n",
    "  def observation_spec(self):\n",
    "    return self._observation_spec\n",
    "\n",
    "  def get_balance(self):\n",
    "    return self._balance\n",
    "\n",
    "  def _reset(self):\n",
    "\n",
    "    self._state = [0] * 12\n",
    "    self._episode_ended = False\n",
    "    self._count = random.randint(10000,60000)\n",
    "    self._end_ep = self._count+max_ep_len\n",
    "    self._scaler = np.sum(np.abs(change[self._count:self._end_ep]))\n",
    "    self._returns = np.array([])\n",
    "    self._balance = 0\n",
    "    self._prev_diff = 0\n",
    "    self.trade_info = {\n",
    "    'time': 0,\n",
    "    'value': 0,\n",
    "    'direction': 0,\n",
    "    'max_val': 0,\n",
    "    'min_val': 0,\n",
    "    'max_time': 0,\n",
    "    'min_time': 0\n",
    "    }\n",
    "\n",
    "    return ts.restart(np.array(self._state, dtype=np.float32))\n",
    "\n",
    "  def _step(self, action):\n",
    "\n",
    "    if self._episode_ended:\n",
    "      # The last action ended the episode. Ignore the current action and start\n",
    "      # a new episode.\n",
    "      return self.reset()\n",
    "\n",
    "\n",
    "    mult = 10\n",
    "    diff_hold = DIFF_hold[self._count]\n",
    "    profit = 0\n",
    "    reward = 0\n",
    "    cur_change = change[self._count+1]/mult\n",
    "\n",
    "    cur_direction = self.trade_info['direction']\n",
    "\n",
    "    if action == 0:\n",
    "      profit = self.trade_info['value']-.005\n",
    "      reward = profit\n",
    "      self.trade_info['value'] = cur_change\n",
    "      self.trade_info['direction'] = 1\n",
    "      self.trade_info['time'] = 0\n",
    "      self.trade_info['max_val'] = cur_change\n",
    "      self.trade_info['min_val'] = cur_change\n",
    "      self.trade_info['max_time'] = 0\n",
    "      self.trade_info['min_time'] = 0\n",
    "    elif action == 1:\n",
    "      profit = self.trade_info['value']-.005\n",
    "      reward = profit\n",
    "      self.trade_info['value'] = -cur_change\n",
    "      self.trade_info['direction'] = -1\n",
    "      self.trade_info['time'] = 0\n",
    "      self.trade_info['max_val'] = -cur_change\n",
    "      self.trade_info['min_val'] = -cur_change\n",
    "      self.trade_info['max_time'] = 0\n",
    "      self.trade_info['min_time'] = 0\n",
    "      #reward = profit if profit > 0 else profit/2\n",
    "    elif action == 2:\n",
    "      profit = self.trade_info['value']\n",
    "      reward = profit\n",
    "      self.trade_info['value'] = 0\n",
    "      self.trade_info['direction'] = 0\n",
    "      self.trade_info['time'] = 0 if cur_direction != 0 else self.trade_info['time'] + .01\n",
    "      self.trade_info['max_val'] = 0\n",
    "      self.trade_info['min_val'] = 0\n",
    "      self.trade_info['max_time'] = 0\n",
    "      self.trade_info['min_time'] = 0\n",
    "    else:\n",
    "      self.trade_info['value'] += cur_change*cur_direction\n",
    "      self.trade_info['time'] += .01\n",
    "      self.trade_info['max_val'] = max(self.trade_info['value'],self.trade_info['max_val'])\n",
    "      self.trade_info['min_val'] = min(self.trade_info['value'],self.trade_info['min_val'])\n",
    "      self.trade_info['max_time'] = 0 if self.trade_info['max_val']==self.trade_info['value'] else self.trade_info['max_time']+.01\n",
    "      self.trade_info['min_time'] = 0 if self.trade_info['min_val']==self.trade_info['value'] else self.trade_info['min_time']+.01\n",
    "\n",
    "\n",
    "\n",
    "    self._balance += profit\n",
    "    if profit != 0:\n",
    "        self._returns = np.append(self._returns, profit)  \n",
    "    \n",
    "    info_list = [\n",
    "        self.trade_info['value'],\n",
    "        self.trade_info['direction'],\n",
    "        self.trade_info['time'],\n",
    "        self.trade_info['max_val'],\n",
    "        self.trade_info['min_val'],\n",
    "        self.trade_info['max_time'],\n",
    "        self.trade_info['min_time']\n",
    "    ]\n",
    "\n",
    "\n",
    "    #update state\n",
    "    self._state = np.append(INDICATORS[self._count],info_list)\n",
    "\n",
    "    if self._count >= self._end_ep:\n",
    "      self._episode_ended = True\n",
    "      np.append(self._returns,self.trade_info['value'])\n",
    "\n",
    "    self._count += 1\n",
    "\n",
    "    if self._episode_ended:\n",
    "      #self._returns = [x for x in self._returns if x >= 0]\n",
    "      #reward = np.sum(self._returns)/self._scaler if np.sum(self._returns) != 0 else -1\n",
    "      #reward = np.mean(self._returns) if np.mean(self._returns) != 0 else -10\n",
    "      reward = SortinoRatio(self._returns,0) if np.sum(self._returns) != 0 else -10\n",
    "      return ts.termination(np.array(self._state, dtype=np.float32), reward=reward)\n",
    "    else:\n",
    "      return ts.transition(\n",
    "          np.array(self._state, dtype=np.float32), reward=reward, discount=.999)"
   ]
  },
  {
   "cell_type": "code",
   "execution_count": 13,
   "metadata": {
    "id": "s3gkt6dv_0e_"
   },
   "outputs": [],
   "source": [
    "env = TradingEnv()\n",
    "\n",
    "utils.validate_py_environment(env, episodes=2)"
   ]
  },
  {
   "cell_type": "code",
   "execution_count": 14,
   "metadata": {
    "id": "wMb4Gnsh_ktX"
   },
   "outputs": [],
   "source": [
    "train_py_env = env\n",
    "eval_py_env = env\n",
    "train_env = tf_py_environment.TFPyEnvironment(train_py_env)\n",
    "eval_env = tf_py_environment.TFPyEnvironment(eval_py_env)"
   ]
  },
  {
   "cell_type": "code",
   "execution_count": 15,
   "metadata": {
    "colab": {
     "base_uri": "https://localhost:8080/"
    },
    "id": "D3YHkyIzjE3h",
    "outputId": "7036f36a-4c63-45d3-8349-6e2c1d4b134a",
    "scrolled": true
   },
   "outputs": [
    {
     "name": "stdout",
     "output_type": "stream",
     "text": [
      "0 -0.0050 [0.0226 1.0000 0.0000 0.0226 0.0226 0.0000 0.0000]\n",
      "0 0.0176 [0.0427 1.0000 0.0000 0.0427 0.0427 0.0000 0.0000]\n",
      "2 0.0427 [0.0000 0.0000 0.0000 0.0000 0.0000 0.0000 0.0000]\n",
      "1 -0.0050 [-0.1598 -1.0000 0.0000 -0.1598 -0.1598 0.0000 0.0000]\n",
      "2 -0.1598 [0.0000 0.0000 0.0000 0.0000 0.0000 0.0000 0.0000]\n",
      "2 0.0000 [0.0000 0.0000 0.0100 0.0000 0.0000 0.0000 0.0000]\n",
      "3 0.0000 [0.0000 0.0000 0.0200 0.0000 0.0000 0.0000 0.0000]\n",
      "0 -0.0050 [0.1003 1.0000 0.0000 0.1003 0.1003 0.0000 0.0000]\n",
      "2 0.1003 [0.0000 0.0000 0.0000 0.0000 0.0000 0.0000 0.0000]\n",
      "3 0.0000 [0.0000 0.0000 0.0100 0.0000 0.0000 0.0000 0.0000]\n",
      "3 0.0000 [0.0000 0.0000 0.0200 0.0000 0.0000 0.0000 0.0000]\n",
      "2 0.0000 [0.0000 0.0000 0.0300 0.0000 0.0000 0.0000 0.0000]\n",
      "1 -0.0050 [0.1365 -1.0000 0.0000 0.1365 0.1365 0.0000 0.0000]\n",
      "3 0.0000 [0.0530 -1.0000 0.0100 0.1365 0.0530 0.0100 0.0000]\n",
      "1 0.0480 [0.1307 -1.0000 0.0000 0.1307 0.1307 0.0000 0.0000]\n",
      "2 0.1307 [0.0000 0.0000 0.0000 0.0000 0.0000 0.0000 0.0000]\n",
      "3 0.0000 [0.0000 0.0000 0.0100 0.0000 0.0000 0.0000 0.0000]\n",
      "3 0.0000 [0.0000 0.0000 0.0200 0.0000 0.0000 0.0000 0.0000]\n",
      "0 -0.0050 [-0.0201 1.0000 0.0000 -0.0201 -0.0201 0.0000 0.0000]\n",
      "2 -0.0201 [0.0000 0.0000 0.0000 0.0000 0.0000 0.0000 0.0000]\n",
      "0 -0.0050 [0.0796 1.0000 0.0000 0.0796 0.0796 0.0000 0.0000]\n",
      "1 0.0746 [0.1061 -1.0000 0.0000 0.1061 0.1061 0.0000 0.0000]\n",
      "0 0.1011 [0.0207 1.0000 0.0000 0.0207 0.0207 0.0000 0.0000]\n",
      "1 0.0157 [-0.1294 -1.0000 0.0000 -0.1294 -0.1294 0.0000 0.0000]\n",
      "1 -0.1344 [-0.0265 -1.0000 0.0000 -0.0265 -0.0265 0.0000 0.0000]\n",
      "1 -0.0315 [-0.0744 -1.0000 0.0000 -0.0744 -0.0744 0.0000 0.0000]\n",
      "3 0.0000 [0.0246 -1.0000 0.0100 0.0246 -0.0744 0.0000 0.0100]\n",
      "1 0.0196 [0.0084 -1.0000 0.0000 0.0084 0.0084 0.0000 0.0000]\n",
      "0 0.0034 [0.1236 1.0000 0.0000 0.1236 0.1236 0.0000 0.0000]\n",
      "3 0.0000 [0.0420 1.0000 0.0100 0.1236 0.0420 0.0100 0.0000]\n",
      "0 0.0370 [0.2115 1.0000 0.0000 0.2115 0.2115 0.0000 0.0000]\n",
      "3 0.0000 [-0.0136 1.0000 0.0100 0.2115 -0.0136 0.0100 0.0000]\n",
      "3 0.0000 [-0.1869 1.0000 0.0200 0.2115 -0.1869 0.0200 0.0000]\n",
      "0 -0.1919 [0.1643 1.0000 0.0000 0.1643 0.1643 0.0000 0.0000]\n",
      "0 0.1593 [0.0084 1.0000 0.0000 0.0084 0.0084 0.0000 0.0000]\n",
      "1 0.0034 [0.0951 -1.0000 0.0000 0.0951 0.0951 0.0000 0.0000]\n",
      "3 0.0000 [-0.0226 -1.0000 0.0100 0.0951 -0.0226 0.0100 0.0000]\n",
      "1 -0.0276 [-0.2859 -1.0000 0.0000 -0.2859 -0.2859 0.0000 0.0000]\n",
      "0 -0.2909 [0.0699 1.0000 0.0000 0.0699 0.0699 0.0000 0.0000]\n",
      "0 0.0649 [-0.0291 1.0000 0.0000 -0.0291 -0.0291 0.0000 0.0000]\n",
      "3 0.0000 [0.0653 1.0000 0.0100 0.0653 -0.0291 0.0000 0.0100]\n",
      "1 0.0603 [0.0045 -1.0000 0.0000 0.0045 0.0045 0.0000 0.0000]\n",
      "3 0.0000 [-0.2038 -1.0000 0.0100 0.0045 -0.2038 0.0100 0.0000]\n",
      "1 -0.2088 [0.0110 -1.0000 0.0000 0.0110 0.0110 0.0000 0.0000]\n",
      "2 0.0110 [0.0000 0.0000 0.0000 0.0000 0.0000 0.0000 0.0000]\n",
      "0 -0.0050 [0.0362 1.0000 0.0000 0.0362 0.0362 0.0000 0.0000]\n",
      "1 0.0312 [-0.0608 -1.0000 0.0000 -0.0608 -0.0608 0.0000 0.0000]\n",
      "3 0.0000 [-0.1113 -1.0000 0.0100 -0.0608 -0.1113 0.0100 0.0000]\n",
      "0 -0.1163 [-0.0052 1.0000 0.0000 -0.0052 -0.0052 0.0000 0.0000]\n",
      "3 0.0000 [-0.0692 1.0000 0.0100 -0.0052 -0.0692 0.0100 0.0000]\n",
      "0 -0.0742 [-0.0854 1.0000 0.0000 -0.0854 -0.0854 0.0000 0.0000]\n",
      "3 0.0000 [-0.0692 1.0000 0.0100 -0.0692 -0.0854 0.0000 0.0100]\n",
      "3 0.0000 [-0.0466 1.0000 0.0200 -0.0466 -0.0854 0.0000 0.0200]\n",
      "2 -0.0466 [0.0000 0.0000 0.0000 0.0000 0.0000 0.0000 0.0000]\n",
      "0 -0.0050 [-0.0019 1.0000 0.0000 -0.0019 -0.0019 0.0000 0.0000]\n",
      "2 -0.0019 [0.0000 0.0000 0.0000 0.0000 0.0000 0.0000 0.0000]\n",
      "2 0.0000 [0.0000 0.0000 0.0100 0.0000 0.0000 0.0000 0.0000]\n",
      "0 -0.0050 [0.0420 1.0000 0.0000 0.0420 0.0420 0.0000 0.0000]\n",
      "0 0.0370 [0.2083 1.0000 0.0000 0.2083 0.2083 0.0000 0.0000]\n",
      "3 0.0000 [0.3196 1.0000 0.0100 0.3196 0.2083 0.0000 0.0100]\n",
      "1 0.3146 [0.0666 -1.0000 0.0000 0.0666 0.0666 0.0000 0.0000]\n",
      "0 0.0616 [0.0530 1.0000 0.0000 0.0530 0.0530 0.0000 0.0000]\n",
      "1 0.0480 [0.2678 -1.0000 0.0000 0.2678 0.2678 0.0000 0.0000]\n",
      "3 0.0000 [0.1798 -1.0000 0.0100 0.2678 0.1798 0.0100 0.0000]\n",
      "2 0.1798 [0.0000 0.0000 0.0000 0.0000 0.0000 0.0000 0.0000]\n",
      "3 0.0000 [0.0000 0.0000 0.0100 0.0000 0.0000 0.0000 0.0000]\n",
      "1 -0.0050 [-0.0252 -1.0000 0.0000 -0.0252 -0.0252 0.0000 0.0000]\n",
      "0 -0.0302 [0.0226 1.0000 0.0000 0.0226 0.0226 0.0000 0.0000]\n",
      "0 0.0176 [0.1287 1.0000 0.0000 0.1287 0.1287 0.0000 0.0000]\n",
      "2 0.1287 [0.0000 0.0000 0.0000 0.0000 0.0000 0.0000 0.0000]\n",
      "1 -0.0050 [-0.1242 -1.0000 0.0000 -0.1242 -0.1242 0.0000 0.0000]\n",
      "3 0.0000 [-0.0718 -1.0000 0.0100 -0.0718 -0.1242 0.0000 0.0100]\n",
      "0 -0.0768 [0.0563 1.0000 0.0000 0.0563 0.0563 0.0000 0.0000]\n",
      "3 0.0000 [-0.1753 1.0000 0.0100 0.0563 -0.1753 0.0100 0.0000]\n",
      "2 -0.1753 [0.0000 0.0000 0.0000 0.0000 0.0000 0.0000 0.0000]\n",
      "0 -0.0050 [-0.2568 1.0000 0.0000 -0.2568 -0.2568 0.0000 0.0000]\n",
      "2 -0.2568 [0.0000 0.0000 0.0000 0.0000 0.0000 0.0000 0.0000]\n",
      "3 0.0000 [0.0000 0.0000 0.0100 0.0000 0.0000 0.0000 0.0000]\n",
      "3 0.0000 [0.0000 0.0000 0.0200 0.0000 0.0000 0.0000 0.0000]\n",
      "2 0.0000 [0.0000 0.0000 0.0300 0.0000 0.0000 0.0000 0.0000]\n",
      "3 0.0000 [0.0000 0.0000 0.0400 0.0000 0.0000 0.0000 0.0000]\n",
      "2 0.0000 [0.0000 0.0000 0.0500 0.0000 0.0000 0.0000 0.0000]\n",
      "3 0.0000 [0.0000 0.0000 0.0600 0.0000 0.0000 0.0000 0.0000]\n",
      "2 0.0000 [0.0000 0.0000 0.0700 0.0000 0.0000 0.0000 0.0000]\n",
      "0 -0.0050 [0.3416 1.0000 0.0000 0.3416 0.3416 0.0000 0.0000]\n",
      "0 0.3366 [0.0563 1.0000 0.0000 0.0563 0.0563 0.0000 0.0000]\n",
      "0 0.0513 [-0.0207 1.0000 0.0000 -0.0207 -0.0207 0.0000 0.0000]\n",
      "1 -0.0257 [0.0006 -1.0000 0.0000 0.0006 0.0006 0.0000 0.0000]\n",
      "1 -0.0044 [0.0039 -1.0000 0.0000 0.0039 0.0039 0.0000 0.0000]\n",
      "0 -0.0011 [-0.0032 1.0000 0.0000 -0.0032 -0.0032 0.0000 0.0000]\n",
      "1 -0.0082 [-0.0369 -1.0000 0.0000 -0.0369 -0.0369 0.0000 0.0000]\n",
      "1 -0.0419 [-0.0718 -1.0000 0.0000 -0.0718 -0.0718 0.0000 0.0000]\n",
      "2 -0.0718 [0.0000 0.0000 0.0000 0.0000 0.0000 0.0000 0.0000]\n",
      "2 0.0000 [0.0000 0.0000 0.0100 0.0000 0.0000 0.0000 0.0000]\n",
      "3 0.0000 [0.0000 0.0000 0.0200 0.0000 0.0000 0.0000 0.0000]\n",
      "2 0.0000 [0.0000 0.0000 0.0300 0.0000 0.0000 0.0000 0.0000]\n",
      "0 -0.0050 [0.0298 1.0000 0.0000 0.0298 0.0298 0.0000 0.0000]\n",
      "0 0.0248 [0.0725 1.0000 0.0000 0.0725 0.0725 0.0000 0.0000]\n",
      "0 0.0675 [-0.0634 1.0000 0.0000 -0.0634 -0.0634 0.0000 0.0000]\n",
      "1 -0.0684 [-0.1371 -1.0000 0.0000 -0.1371 -0.1371 0.0000 0.0000]\n"
     ]
    }
   ],
   "source": [
    "test_environment(env,100)"
   ]
  },
  {
   "cell_type": "code",
   "execution_count": 16,
   "metadata": {
    "colab": {
     "base_uri": "https://localhost:8080/"
    },
    "id": "2cumpJmHpHJk",
    "outputId": "a0705861-03a1-4c52-f5a7-872ff066fd49"
   },
   "outputs": [
    {
     "name": "stdout",
     "output_type": "stream",
     "text": [
      "Action Spec:\n",
      "BoundedArraySpec(shape=(), dtype=dtype('int64'), name='action', minimum=0, maximum=3)\n"
     ]
    }
   ],
   "source": [
    "print('Action Spec:')\n",
    "print(env.action_spec())"
   ]
  },
  {
   "cell_type": "code",
   "execution_count": 17,
   "metadata": {
    "id": "GZGBmV3KI0HG"
   },
   "outputs": [],
   "source": [
    "fc_layer_params = (20, 5)\n",
    "action_tensor_spec = tensor_spec.from_spec(env.action_spec())\n",
    "num_actions = action_tensor_spec.maximum - action_tensor_spec.minimum + 1\n"
   ]
  },
  {
   "cell_type": "code",
   "execution_count": 18,
   "metadata": {
    "id": "smmf6KQZMjwZ"
   },
   "outputs": [],
   "source": [
    "def activity_regularizer(multiplier, decay=0.99):\n",
    "    # Initialize moving averages for mean and variance\n",
    "    mean_avg = tf.Variable(0.0, trainable=False, name='mean_avg')\n",
    "    variance_avg = tf.Variable(1.0, trainable=False, name='variance_avg')\n",
    "\n",
    "    def regularizer(y_pred):\n",
    "        # Calculate the current mean and variance\n",
    "        current_mean = tf.reduce_mean(y_pred)\n",
    "        current_variance = tf.math.reduce_variance(y_pred)\n",
    "\n",
    "        # Update moving averages\n",
    "        update_mean = tf.compat.v1.assign(mean_avg, decay * mean_avg + (1 - decay) * current_mean)\n",
    "        update_variance = tf.compat.v1.assign(variance_avg, decay * variance_avg + (1 - decay) * current_variance)\n",
    "\n",
    "        with tf.control_dependencies([update_mean, update_variance]):\n",
    "            # Use the moving averages for regularization\n",
    "            mean = mean_avg\n",
    "            variance = variance_avg\n",
    "\n",
    "        return multiplier * (tf.square(mean - 0) + tf.square(variance - 1))\n",
    "\n",
    "    return regularizer"
   ]
  },
  {
   "cell_type": "code",
   "execution_count": 19,
   "metadata": {},
   "outputs": [],
   "source": [
    "\n",
    "\n",
    "#import base64\n",
    "#import imageio\n",
    "import matplotlib\n",
    "import matplotlib.pyplot as plt\n",
    "\n",
    "import tensorflow as tf\n",
    "\n",
    "from tf_agents.agents.dqn.dqn_agent import DqnAgent, DdqnAgent\n",
    "from tf_agents.networks.q_network import QNetwork\n",
    "\n",
    "from tf_agents.environments import suite_gym\n",
    "from tf_agents.environments import tf_py_environment\n",
    "\n",
    "from tf_agents.policies.random_tf_policy import RandomTFPolicy\n",
    "from tf_agents.replay_buffers.tf_uniform_replay_buffer import TFUniformReplayBuffer\n",
    "from tf_agents.trajectories import trajectory\n",
    "from tf_agents.utils import common\n",
    "\n",
    "# Globals\n",
    "NUMBER_EPOSODES = 1000000\n",
    "COLLECTION_STEPS = 1\n",
    "BATCH_SIZE = 32\n",
    "EVAL_EPISODES = 3\n",
    "EVAL_INTERVAL = 1000\n",
    "\n"
   ]
  },
  {
   "cell_type": "code",
   "execution_count": 20,
   "metadata": {},
   "outputs": [
    {
     "name": "stdout",
     "output_type": "stream",
     "text": [
      "Observation Spec:\n",
      "BoundedTensorSpec(shape=(12,), dtype=tf.float32, name='observation', minimum=array(-100.0000, dtype=float32), maximum=array(100.0000, dtype=float32))\n",
      "Reward Spec:\n",
      "TensorSpec(shape=(), dtype=tf.float32, name='reward')\n",
      "Action Spec:\n",
      "BoundedTensorSpec(shape=(), dtype=tf.int64, name='action', minimum=array(0), maximum=array(3))\n"
     ]
    }
   ],
   "source": [
    "print('Observation Spec:')\n",
    "print(train_env.time_step_spec().observation)\n",
    "\n",
    "print('Reward Spec:')\n",
    "print(train_env.time_step_spec().reward)\n",
    "\n",
    "print('Action Spec:')\n",
    "print(train_env.action_spec())\n",
    "\n",
    "train_env = tf_py_environment.TFPyEnvironment(env)\n",
    "evaluation_env = tf_py_environment.TFPyEnvironment(env)"
   ]
  },
  {
   "cell_type": "code",
   "execution_count": 21,
   "metadata": {},
   "outputs": [],
   "source": [
    "from tf_agents.networks import network\n",
    "\n",
    "\n",
    "class CustomQNetwork(network.Network):\n",
    "    def __init__(self, input_tensor_spec, action_spec, name='CustomQNetwork'):\n",
    "        super(CustomQNetwork, self).__init__(input_tensor_spec=input_tensor_spec,\n",
    "                                             state_spec=(),\n",
    "                                             name=name)\n",
    "        # Define your custom layers and architecture here\n",
    "        self.dense1 = layers.Dense(100,activation='gelu', activity_regularizer=activity_regularizer(0.01))\n",
    "        self.drop1 = layers.Dropout(.2)\n",
    "        self.dense2 = layers.Dense(100,activation='gelu', activity_regularizer=activity_regularizer(0.01))\n",
    "        self.drop2 = layers.Dropout(.2)\n",
    "        self.dense2 = layers.Dense(100,activation='gelu', activity_regularizer=activity_regularizer(0.01))\n",
    "        self.drop2 = layers.Dropout(.2)\n",
    "        self.q_values_layer = tf.keras.layers.Dense(action_spec.maximum - action_spec.minimum + 1,\n",
    "                                                    activation=None)\n",
    "\n",
    "    def call(self, observation, step_type=None, network_state=(), training=False):\n",
    "        # Pass the observation through your custom layers\n",
    "        x = self.dense1(observation)\n",
    "        x = self.drop1(x)\n",
    "        x = self.dense2(x)\n",
    "        x = self.drop2(x)\n",
    "        q_values = self.q_values_layer(x)\n",
    "        return q_values, network_state"
   ]
  },
  {
   "cell_type": "code",
   "execution_count": 22,
   "metadata": {},
   "outputs": [],
   "source": [
    "\n",
    "class CategoricalQNetwork(network.Network):\n",
    "    def __init__(self, input_tensor_spec, action_spec, num_atoms=51, preprocessing_layers=None,\n",
    "                 preprocessing_combiner=None, conv_layer_params=None, fc_layer_params=None,\n",
    "                 activation_fn=tf.nn.relu, name='CategoricalQNetwork'):\n",
    "        super(CategoricalQNetwork, self).__init__(input_tensor_spec=input_tensor_spec,\n",
    "                                                  state_spec=(),\n",
    "                                                  name=name)\n",
    "        # Check if action_spec is a BoundedTensorSpec\n",
    "        if not isinstance(action_spec, tensor_spec.BoundedTensorSpec):\n",
    "            raise TypeError('action_spec must be a BoundedTensorSpec. Got: %s' % (action_spec,))\n",
    "\n",
    "        self._num_actions = action_spec.maximum - action_spec.minimum + 1\n",
    "        self._num_atoms = num_atoms\n",
    "\n",
    "        # Create a BoundedTensorSpec for the q_network action\n",
    "        q_network_action_spec = tensor_spec.BoundedTensorSpec((), tf.int32,\n",
    "                                                              minimum=0,\n",
    "                                                              maximum=self._num_actions * num_atoms - 1)\n",
    "\n",
    "        # Create the q_network\n",
    "        self._q_network = CustomQNetwork(input_tensor_spec=input_tensor_spec,\n",
    "                                             action_spec=q_network_action_spec,\n",
    "                                             )\n",
    "    def call(self, observation, step_type=None, network_state=(), training=False):\n",
    "        logits, network_state = self._q_network(observation, step_type, network_state, training=training)\n",
    "        logits = tf.reshape(logits, [-1, self._num_actions, self._num_atoms])\n",
    "        return logits, network_state\n",
    "    @property\n",
    "    def num_atoms(self):\n",
    "        return self._num_atoms"
   ]
  },
  {
   "cell_type": "code",
   "execution_count": 23,
   "metadata": {},
   "outputs": [],
   "source": [
    "observation_spec = train_env.observation_spec()  # Specify the input tensor spec for your network\n",
    "action_spec = train_env.action_spec()\n",
    "num_atoms = 50\n",
    "dropout_rate = 0.2\n",
    "custom_network = CategoricalQNetwork(observation_spec,action_spec, num_atoms)"
   ]
  },
  {
   "cell_type": "code",
   "execution_count": 24,
   "metadata": {},
   "outputs": [],
   "source": [
    "optimizer = tf.compat.v1.train.AdamOptimizer(learning_rate=learning_rate)\n",
    "\n",
    "train_step_counter = tf.Variable(0)\n",
    "\n",
    "ddqn_agent = categorical_dqn_agent.CategoricalDqnAgent(\n",
    "    train_env.time_step_spec(),\n",
    "    train_env.action_spec(),\n",
    "    categorical_q_network=custom_network,\n",
    "    optimizer=optimizer,\n",
    "    min_q_value=-5,\n",
    "    max_q_value=5,\n",
    "    n_step_update=2,\n",
    "    td_errors_loss_fn=common.element_wise_squared_loss,\n",
    "    gamma=1,\n",
    "    train_step_counter=train_step_counter)\n",
    "ddqn_agent.initialize()\n"
   ]
  },
  {
   "cell_type": "code",
   "execution_count": 25,
   "metadata": {},
   "outputs": [],
   "source": [
    "def get_average_reward(environment, policy, episodes=10):\n",
    "\n",
    "    total_reward = 0.0\n",
    "\n",
    "    for _ in range(episodes):\n",
    "        time_step = environment.reset()\n",
    "        episode_reward = 0.0\n",
    "\n",
    "    while not time_step.is_last():\n",
    "        action_step = policy.action(time_step)\n",
    "        time_step = environment.step(action_step.action)\n",
    "        episode_reward += time_step.reward\n",
    "    \n",
    "    total_reward += episode_reward\n",
    "    avg_reward = total_reward / episodes\n",
    "    \n",
    "    return avg_reward.numpy()[0]"
   ]
  },
  {
   "cell_type": "code",
   "execution_count": 26,
   "metadata": {},
   "outputs": [],
   "source": [
    "class ExperienceReplay(object):\n",
    "    def __init__(self, agent, enviroment):\n",
    "        self._replay_buffer = TFUniformReplayBuffer(\n",
    "            data_spec=agent.collect_data_spec,\n",
    "            batch_size=enviroment.batch_size,\n",
    "            max_length=10000)\n",
    "        \n",
    "        self._random_policy = RandomTFPolicy(train_env.time_step_spec(),\n",
    "                                                enviroment.action_spec())\n",
    "        \n",
    "        self._fill_buffer(train_env, self._random_policy, steps=100)\n",
    "        \n",
    "        self.dataset = self._replay_buffer.as_dataset(\n",
    "            num_parallel_calls=tf.data.AUTOTUNE, \n",
    "            sample_batch_size=BATCH_SIZE, \n",
    "            num_steps=2).prefetch(tf.data.AUTOTUNE)\n",
    "\n",
    "        self.iterator = iter(self.dataset)\n",
    "        \n",
    "\n",
    "    \n",
    "    def _fill_buffer(self, enviroment, policy, steps):\n",
    "        for _ in range(steps):\n",
    "            self.timestamp_data(enviroment, policy)\n",
    "            \n",
    "    def timestamp_data(self, environment, policy):\n",
    "        time_step = environment.current_time_step()\n",
    "        action_step = policy.action(time_step)\n",
    "        next_time_step = environment.step(action_step.action)\n",
    "        timestamp_trajectory = trajectory.from_transition(time_step, action_step, next_time_step)\n",
    "\n",
    "        self._replay_buffer.add_batch(timestamp_trajectory)"
   ]
  },
  {
   "cell_type": "code",
   "execution_count": null,
   "metadata": {
    "scrolled": true
   },
   "outputs": [
    {
     "name": "stdout",
     "output_type": "stream",
     "text": [
      "**********************************\n",
      "Training DDQN\n",
      "**********************************\n",
      "WARNING:tensorflow:From /usr/local/lib/python3.8/dist-packages/tf_agents/replay_buffers/tf_uniform_replay_buffer.py:342: CounterV2 (from tensorflow.python.data.experimental.ops.counter) is deprecated and will be removed in a future version.\n",
      "Instructions for updating:\n",
      "Use `tf.data.Dataset.counter(...)` instead.\n"
     ]
    }
   ],
   "source": [
    "def train(agent):\n",
    "    experience_replay = ExperienceReplay(agent, train_env)\n",
    "\n",
    "    agent.train_step_counter.assign(0)\n",
    "\n",
    "    avg_reward = get_average_reward(evaluation_env, agent.policy, EVAL_EPISODES)\n",
    "    rewards = [avg_reward]\n",
    "\n",
    "    for _ in range(NUMBER_EPOSODES):\n",
    "\n",
    "        for _ in range(COLLECTION_STEPS):\n",
    "            experience_replay.timestamp_data(train_env, agent.collect_policy)\n",
    "\n",
    "        experience, info = next(experience_replay.iterator)\n",
    "        train_loss = agent.train(experience).loss\n",
    "\n",
    "        if agent.train_step_counter.numpy() % EVAL_INTERVAL == 0:\n",
    "            avg_reward = get_average_reward(evaluation_env, agent.policy, EVAL_EPISODES)\n",
    "            print('Episode {0} - Average reward = {1}, Loss = {2}.'.format(\n",
    "\t\t\t\t\tagent.train_step_counter.numpy(), avg_reward, train_loss))\n",
    "            rewards.append(avg_reward)\n",
    "            \n",
    "    return rewards\n",
    "\n",
    "\n",
    "print(\"**********************************\")\n",
    "print(\"Training DDQN\")\n",
    "print(\"**********************************\")\n",
    "ddqn_reward = train(ddqn_agent)"
   ]
  },
  {
   "cell_type": "code",
   "execution_count": null,
   "metadata": {
    "id": "TRBz--oy5Nxy"
   },
   "outputs": [],
   "source": [
    "def compute_avg_return_print(environment, policy, num_episodes=10):\n",
    "\n",
    "  total_return = 0.0\n",
    "  for episode in range(num_episodes):\n",
    "    balance_arr = []\n",
    "    time_step = environment.reset()\n",
    "    episode_return = 0.0\n",
    "\n",
    "    while not time_step.is_last():\n",
    "      action_step = policy.action(time_step)\n",
    "      time_step = environment.step(action_step.action)\n",
    "      obs = time_step.observation.numpy()\n",
    "\n",
    "      balance = env.get_balance()\n",
    "      balance_arr.append(balance)\n",
    "      # Print the episode number and observation at each step\n",
    "      print(f\"Episode {episode + 1}: Observation = {obs}\")\n",
    "\n",
    "      episode_return += time_step.reward\n",
    "    plt.plot(balance_arr)\n",
    "    total_return += episode_return\n",
    "\n",
    "  avg_return = total_return / num_episodes\n",
    "  return avg_return.numpy()[0]"
   ]
  },
  {
   "cell_type": "code",
   "execution_count": null,
   "metadata": {},
   "outputs": [],
   "source": [
    "avg_reward = get_average_reward(evaluation_env, ddqn_agent.policy, 1)\n",
    "print(avg_reward)"
   ]
  },
  {
   "cell_type": "code",
   "execution_count": null,
   "metadata": {
    "colab": {
     "base_uri": "https://localhost:8080/",
     "height": 1000
    },
    "id": "GSG1pY7R5Nx0",
    "outputId": "e5807b14-b756-4545-8e7e-a78151733731",
    "scrolled": true
   },
   "outputs": [],
   "source": [
    "avg_return = compute_avg_return_print(eval_env, ddqn_agent.policy, 20)\n",
    "print(avg_return)"
   ]
  },
  {
   "cell_type": "code",
   "execution_count": null,
   "metadata": {
    "colab": {
     "base_uri": "https://localhost:8080/"
    },
    "id": "x9Waz9CaPhVM",
    "outputId": "bbc3e33e-12e4-4408-c847-e033391652e8",
    "scrolled": true
   },
   "outputs": [],
   "source": [
    "weights = custom_network.get_weights()\n",
    "print(weights)"
   ]
  },
  {
   "cell_type": "code",
   "execution_count": null,
   "metadata": {},
   "outputs": [],
   "source": []
  }
 ],
 "metadata": {
  "colab": {
   "include_colab_link": true,
   "name": "Welcome To Colaboratory",
   "provenance": []
  },
  "kernelspec": {
   "display_name": "Python 3 (ipykernel)",
   "language": "python",
   "name": "python3"
  },
  "language_info": {
   "codemirror_mode": {
    "name": "ipython",
    "version": 3
   },
   "file_extension": ".py",
   "mimetype": "text/x-python",
   "name": "python",
   "nbconvert_exporter": "python",
   "pygments_lexer": "ipython3",
   "version": "3.8.10"
  }
 },
 "nbformat": 4,
 "nbformat_minor": 1
}
