{
  "nbformat": 4,
  "nbformat_minor": 0,
  "metadata": {
    "colab": {
      "provenance": [],
      "authorship_tag": "ABX9TyOsJzILnqTUwABM06YoHMKx",
      "include_colab_link": true
    },
    "kernelspec": {
      "name": "python3",
      "display_name": "Python 3"
    },
    "language_info": {
      "name": "python"
    }
  },
  "cells": [
    {
      "cell_type": "markdown",
      "metadata": {
        "id": "view-in-github",
        "colab_type": "text"
      },
      "source": [
        "<a href=\"https://colab.research.google.com/github/aetev/Learning-stuff-/blob/main/news.ipynb\" target=\"_parent\"><img src=\"https://colab.research.google.com/assets/colab-badge.svg\" alt=\"Open In Colab\"/></a>"
      ]
    },
    {
      "cell_type": "code",
      "source": [
        "import requests\n",
        "\n",
        "# Define your API key and base URL\n",
        "API_KEY = \"42abfa1c87aa4061afd4da523a6caa4b\"\n",
        "BASE_URL = 'https://newsapi.org/v2/'\n",
        "\n",
        "def get_top_headlines(country='us', category=None, page_size=10):\n",
        "    \"\"\"\n",
        "    Fetches the top headlines from NewsAPI.\n",
        "\n",
        "    :param country: The 2-letter ISO 3166-1 code of the country you want to get headlines for.\n",
        "    :param category: Category to filter news by (e.g., 'business', 'entertainment', 'health', etc.).\n",
        "    :param page_size: Number of results to return per page.\n",
        "    :return: List of articles or None if there's an error.\n",
        "    \"\"\"\n",
        "    endpoint = f'{BASE_URL}top-headlines'\n",
        "    params = {\n",
        "        'apiKey': API_KEY,\n",
        "        'country': country,\n",
        "        'category': category,\n",
        "        'pageSize': page_size\n",
        "    }\n",
        "\n",
        "    response = requests.get(endpoint, params=params)\n",
        "\n",
        "    if response.status_code == 200:\n",
        "        return response.json().get('articles', [])\n",
        "    else:\n",
        "        print(f\"Error: Unable to fetch news (Status code: {response.status_code})\")\n",
        "        return None\n",
        "\n",
        "def print_headlines(articles):\n",
        "    \"\"\"\n",
        "    Prints the headlines from a list of articles.\n",
        "\n",
        "    :param articles: List of article dictionaries.\n",
        "    \"\"\"\n",
        "    if articles:\n",
        "        for idx, article in enumerate(articles, start=1):\n",
        "            print(f\"{idx}. {article['title']}\")\n",
        "            print(f\"   Source: {article['source']['name']}\")\n",
        "            print(f\"   URL: {article['url']}\\n\")\n",
        "    else:\n",
        "        print(\"No articles found.\")\n",
        "\n",
        "if __name__ == '__main__':\n",
        "    country_code = 'us'  # You can change this to another country code if desired\n",
        "    category = 'business'  # Set this to a specific category if you want to filter (e.g., 'technology')\n",
        "\n",
        "    articles = get_top_headlines(country=country_code, category=category)\n",
        "\n",
        "    if articles:\n",
        "        print_headlines(articles)"
      ],
      "metadata": {
        "colab": {
          "base_uri": "https://localhost:8080/"
        },
        "id": "XNUGPknJ-Ry4",
        "outputId": "de1eb425-e981-4ac1-fbb6-6de1cbe3a4c8"
      },
      "execution_count": null,
      "outputs": [
        {
          "output_type": "stream",
          "name": "stdout",
          "text": [
            "1. Southwest warns employees of 'difficult decisions' ahead: report - Fox Business\n",
            "   Source: Fox Business\n",
            "   URL: https://www.foxbusiness.com/markets/southwest-warns-employees-difficult-decisions-ahead\n",
            "\n",
            "2. J.D. Vance Caught Lying About Egg Prices in Painfully Bad Video - Yahoo! Voices\n",
            "   Source: The New Republic\n",
            "   URL: https://newrepublic.com/post/186233/jd-vance-caught-lying-egg-prices-video\n",
            "\n",
            "3. BofA becomes the latest big bank to bet on new branches - Yahoo Finance\n",
            "   Source: Yahoo Entertainment\n",
            "   URL: https://finance.yahoo.com/news/bofa-becomes-the-latest-big-bank-to-bet-on-new-branches-151242038.html/\n",
            "\n",
            "4. The Cities With the Fastest Car Commutes - The Wall Street Journal\n",
            "   Source: The Wall Street Journal\n",
            "   URL: https://www.wsj.com/health/best-us-cities-car-commuters-2fbf785d\n",
            "\n",
            "5. Microsoft’s largest ever security transformation detailed in new report - The Verge\n",
            "   Source: The Verge\n",
            "   URL: https://www.theverge.com/2024/9/23/24251945/microsoft-security-report-secure-future-initiative\n",
            "\n",
            "6. J&J subsidiary files for bankruptcy again to settle talc lawsuits - Fox Business\n",
            "   Source: Fox Business\n",
            "   URL: https://www.foxbusiness.com/lifestyle/jj-subsidiary-files-bankruptcy-again-settle-talc-lawsuits\n",
            "\n",
            "7. Data shows US economy pacing for 'healthy' growth — but new 'headwinds' loom - Yahoo Finance\n",
            "   Source: Yahoo Entertainment\n",
            "   URL: https://finance.yahoo.com/news/data-shows-us-economy-pacing-for-healthy-growth--but-new-headwinds-loom-145041536.html/\n",
            "\n",
            "8. Nvidia’s stock is no longer the S&P 500’s top gainer this year. Here’s what is. - MarketWatch\n",
            "   Source: MarketWatch\n",
            "   URL: https://www.marketwatch.com/story/nvidias-stock-is-no-longer-the-s-p-500s-top-gainer-this-year-heres-what-is-7354f26b\n",
            "\n",
            "9. Trump Media stock scrapes new 52-week low in heavy trading after DJT lockup lifts - CNBC\n",
            "   Source: CNBC\n",
            "   URL: https://www.cnbc.com/2024/09/23/djt-trump-media-stock-drop-lockup.html\n",
            "\n",
            "10. Before you sign up for a store credit card, know what you’re getting into - The Associated Press\n",
            "   Source: Associated Press\n",
            "   URL: https://apnews.com/article/store-credit-cards-financial-wellness-184d8e752bf2328ad7852092fb7415c6\n",
            "\n"
          ]
        }
      ]
    }
  ]
}