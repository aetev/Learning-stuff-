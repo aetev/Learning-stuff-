{
  "nbformat": 4,
  "nbformat_minor": 0,
  "metadata": {
    "colab": {
      "provenance": [],
      "authorship_tag": "ABX9TyNbnbBdw+USNwzKi2UFV/77",
      "include_colab_link": true
    },
    "kernelspec": {
      "name": "python3",
      "display_name": "Python 3"
    },
    "language_info": {
      "name": "python"
    }
  },
  "cells": [
    {
      "cell_type": "markdown",
      "metadata": {
        "id": "view-in-github",
        "colab_type": "text"
      },
      "source": [
        "<a href=\"https://colab.research.google.com/github/aetev/Learning-stuff-/blob/main/news.ipynb\" target=\"_parent\"><img src=\"https://colab.research.google.com/assets/colab-badge.svg\" alt=\"Open In Colab\"/></a>"
      ]
    },
    {
      "cell_type": "code",
      "source": [
        "import requests\n",
        "\n",
        "# Define your API key and base URL\n",
        "API_KEY = \"42abfa1c87aa4061afd4da523a6caa4b\"\n",
        "BASE_URL = 'https://newsapi.org/v2/'\n",
        "\n",
        "def get_top_headlines(country=None, category=None, page_size=10, query = \"business\"):\n",
        "    \"\"\"\n",
        "    Fetches the top headlines from NewsAPI.\n",
        "\n",
        "    :param country: The 2-letter ISO 3166-1 code of the country you want to get headlines for.\n",
        "    :param category: Category to filter news by (e.g., 'business', 'entertainment', 'health', etc.).\n",
        "    :param page_size: Number of results to return per page.\n",
        "    :return: List of articles or None if there's an error.\n",
        "    \"\"\"\n",
        "    endpoint = f'{BASE_URL}top-headlines'\n",
        "    params = {\n",
        "        'apiKey': API_KEY,\n",
        "        'q': query,  # Searching for economy-related news\n",
        "        'country': country,\n",
        "        'category': category,\n",
        "        'pageSize': page_size\n",
        "    }\n",
        "\n",
        "    response = requests.get(endpoint, params=params)\n",
        "\n",
        "    if response.status_code == 200:\n",
        "        return response.json().get('articles', [])\n",
        "    else:\n",
        "        print(f\"Error: Unable to fetch news (Status code: {response.status_code})\")\n",
        "        return None\n",
        "\n",
        "def print_headlines(articles):\n",
        "    \"\"\"\n",
        "    Prints the headlines from a list of articles.\n",
        "\n",
        "    :param articles: List of article dictionaries.\n",
        "    \"\"\"\n",
        "    if articles:\n",
        "        for idx, article in enumerate(articles, start=1):\n",
        "            print(f\"{idx}. {article['title']}\")\n",
        "            print(f\"   Source: {article['source']['name']}\")\n",
        "            print(f\"   URL: {article['url']}\\n\")\n",
        "    else:\n",
        "        print(\"No articles found.\")\n",
        "\n",
        "if __name__ == '__main__':\n",
        "    country_code = None  # You can change this to another country code if desired\n",
        "    category = \"technology\"  # Set this to a specific category if you want to filter (e.g., 'technology')\n",
        "\n",
        "    articles = get_top_headlines()\n",
        "\n",
        "    if articles:\n",
        "        print_headlines(articles)"
      ],
      "metadata": {
        "colab": {
          "base_uri": "https://localhost:8080/"
        },
        "id": "XNUGPknJ-Ry4",
        "outputId": "83aa7c0f-455a-4b0b-a800-85993a7bc9f7"
      },
      "execution_count": 11,
      "outputs": [
        {
          "output_type": "stream",
          "name": "stdout",
          "text": [
            "1. Will Canada reduce its new immigration targets? Some analysts seem to think so\n",
            "   Source: Financial Post\n",
            "   URL: https://financialpost.com/news/economy/will-canada-reduce-immigration-targets\n",
            "\n",
            "2. Antonio Pierce blasts Raiders for 'business decisions' made in loss - ESPN\n",
            "   Source: ESPN\n",
            "   URL: https://www.espn.com/nfl/story/_/id/41389532/antonio-pierce-blasts-raiders-business-decisions-made-loss\n",
            "\n",
            "3. Harris targets small business tax break in contrast with Trump’s corporate tax cuts\n",
            "   Source: Politico\n",
            "   URL: https://www.politico.com/news/2024/09/03/harris-small-business-tax-cuts-00177210\n",
            "\n",
            "4. Checkfirst raises $1.5M pre-seed, applying AI to remote inspections and audits | TechCrunch\n",
            "   Source: TechCrunch\n",
            "   URL: https://techcrunch.com/2024/05/08/checkfirst-raises-1-5m-pre-seed-applying-ai-to-remote-inspections-and-audits/\n",
            "\n",
            "5. The country's new business hot spots, mapped\n",
            "   Source: Axios\n",
            "   URL: https://www.axios.com/2023/07/13/new-business-hot-spots\n",
            "\n"
          ]
        }
      ]
    }
  ]
}