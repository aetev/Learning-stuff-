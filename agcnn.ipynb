{
  "cells": [
    {
      "cell_type": "markdown",
      "metadata": {
        "id": "view-in-github",
        "colab_type": "text"
      },
      "source": [
        "<a href=\"https://colab.research.google.com/github/aetev/Learning-stuff-/blob/main/agcnn.ipynb\" target=\"_parent\"><img src=\"https://colab.research.google.com/assets/colab-badge.svg\" alt=\"Open In Colab\"/></a>"
      ]
    },
    {
      "cell_type": "code",
      "source": [
        "!pip install tensorflow_addons\n",
        "!pip install pydub"
      ],
      "metadata": {
        "colab": {
          "base_uri": "https://localhost:8080/"
        },
        "id": "-g36b6KfZQeH",
        "outputId": "e103b60d-39f7-4532-9139-638692905a7c"
      },
      "execution_count": 1,
      "outputs": [
        {
          "output_type": "stream",
          "name": "stdout",
          "text": [
            "Requirement already satisfied: tensorflow_addons in /usr/local/lib/python3.10/dist-packages (0.21.0)\n",
            "Requirement already satisfied: packaging in /usr/local/lib/python3.10/dist-packages (from tensorflow_addons) (23.1)\n",
            "Requirement already satisfied: typeguard<3.0.0,>=2.7 in /usr/local/lib/python3.10/dist-packages (from tensorflow_addons) (2.13.3)\n",
            "Requirement already satisfied: pydub in /usr/local/lib/python3.10/dist-packages (0.25.1)\n"
          ]
        }
      ]
    },
    {
      "cell_type": "code",
      "source": [
        "from google.colab import drive\n",
        "drive.mount('/content/drive')"
      ],
      "metadata": {
        "colab": {
          "base_uri": "https://localhost:8080/"
        },
        "id": "sgfbRifTpdLa",
        "outputId": "5bad8fd9-fdf5-4bd7-fce9-1ce6dcd5140a"
      },
      "execution_count": 2,
      "outputs": [
        {
          "output_type": "stream",
          "name": "stdout",
          "text": [
            "Drive already mounted at /content/drive; to attempt to forcibly remount, call drive.mount(\"/content/drive\", force_remount=True).\n"
          ]
        }
      ]
    },
    {
      "cell_type": "code",
      "execution_count": 3,
      "metadata": {
        "colab": {
          "base_uri": "https://localhost:8080/"
        },
        "id": "-UiZf7YAawUu",
        "outputId": "2c19504d-2167-4de3-cac1-5947129699a8"
      },
      "outputs": [
        {
          "output_type": "stream",
          "name": "stderr",
          "text": [
            "/usr/local/lib/python3.10/dist-packages/tensorflow_addons/utils/tfa_eol_msg.py:23: UserWarning: \n",
            "\n",
            "TensorFlow Addons (TFA) has ended development and introduction of new features.\n",
            "TFA has entered a minimal maintenance and release mode until a planned end of life in May 2024.\n",
            "Please modify downstream libraries to take dependencies from other repositories in our TensorFlow community (e.g. Keras, Keras-CV, and Keras-NLP). \n",
            "\n",
            "For more information see: https://github.com/tensorflow/addons/issues/2807 \n",
            "\n",
            "  warnings.warn(\n"
          ]
        }
      ],
      "source": [
        "import tensorflow as tf\n",
        "from tensorflow.keras import layers\n",
        "import matplotlib.pyplot as plt\n",
        "import numpy as np\n",
        "import tensorflow_addons as tfa\n",
        "from pydub import AudioSegment\n",
        "from pydub.utils import make_chunks\n",
        "import os\n",
        "from IPython.display import Audio"
      ]
    },
    {
      "cell_type": "code",
      "source": [
        "import os\n",
        "import librosa\n",
        "import numpy as np\n",
        "\n",
        "# Specify the folder path\n",
        "folder_path = '/content/drive/MyDrive/bass samples'\n",
        "\n",
        "# Initialize an empty list to store the audio chunks\n",
        "audio_chunks = []\n",
        "\n",
        "# Iterate through all the files in the folder\n",
        "for file_name in os.listdir(folder_path):\n",
        "    # Check if the file is a WAV file\n",
        "    if file_name.endswith('.wav'):\n",
        "        # Construct the file path\n",
        "        file_path = os.path.join(folder_path, file_name)\n",
        "\n",
        "        # Load the audio file using librosa\n",
        "        audio, sr = librosa.load(file_path, sr=None)\n",
        "\n",
        "        # Step 3: Cut the audio files into 1-second chunks with 50% overlap\n",
        "\n",
        "        # Specify the desired length of the audio chunks (in seconds)\n",
        "        chunk_length_seconds = .5\n",
        "\n",
        "        # Convert the chunk length from seconds to samples\n",
        "        chunk_length = int(chunk_length_seconds * sr)\n",
        "\n",
        "        # Calculate the overlap length (50% of chunk_length)\n",
        "        overlap_length = int(chunk_length / 2)\n",
        "\n",
        "        # Calculate the total number of chunks\n",
        "        num_chunks = int((len(audio) - chunk_length) / overlap_length) + 1\n",
        "\n",
        "        # Iterate through the audio and extract the chunks\n",
        "        for i in range(num_chunks):\n",
        "            # Calculate the starting and ending indices of the chunk\n",
        "            start_idx = i * overlap_length\n",
        "            end_idx = start_idx + chunk_length\n",
        "\n",
        "            # Extract the chunk\n",
        "            chunk = audio[start_idx:end_idx]\n",
        "\n",
        "            # Step 4: Discard any chunks that are not the desired length\n",
        "\n",
        "            if len(chunk) == chunk_length:\n",
        "                # Append the chunk to the list\n",
        "                audio_chunks.append(chunk)\n",
        "\n",
        "# Step 5: Store the chunks in a numpy array with the desired shape\n",
        "\n",
        "# Convert the list of chunks to a numpy array\n",
        "audio_array = np.array(audio_chunks)\n",
        "\n",
        "# Reshape the array to have the shape (num of chunks, length of audio, 1)\n",
        "audio_array = audio_array.reshape(len(audio_array), len(audio_array[0]), 1)\n",
        "\n",
        "noise = np.random.uniform(low=-1.0, high=1.0, size=audio_array.shape)\n",
        "\n",
        "\n"
      ],
      "metadata": {
        "id": "0-hPpkQ-ysYj"
      },
      "execution_count": 4,
      "outputs": []
    },
    {
      "cell_type": "code",
      "source": [
        "x_train = noise\n",
        "y_train = audio_array\n",
        "print(x_train.shape)"
      ],
      "metadata": {
        "colab": {
          "base_uri": "https://localhost:8080/"
        },
        "id": "3XZfCdyC7S_D",
        "outputId": "8c42c58f-59d7-4631-c7f2-322b43c7954d"
      },
      "execution_count": 5,
      "outputs": [
        {
          "output_type": "stream",
          "name": "stdout",
          "text": [
            "(94, 22050, 1)\n"
          ]
        }
      ]
    },
    {
      "cell_type": "code",
      "source": [
        "\n",
        "\n",
        "audio_data = audio_array[5].ravel()\n",
        "# Play the audio within the Jupyter Notebook\n",
        "Audio(data=audio_data, rate=sr)"
      ],
      "metadata": {
        "colab": {
          "base_uri": "https://localhost:8080/",
          "height": 75
        },
        "id": "TzsbZ33n1Efr",
        "outputId": "9e2adcd9-29bb-4367-8622-6a0e00ed9f6f"
      },
      "execution_count": 6,
      "outputs": [
        {
          "output_type": "execute_result",
          "data": {
            "text/plain": [
              "<IPython.lib.display.Audio object>"
            ],
            "text/html": [
              "\n",
              "                <audio  controls=\"controls\" >\n",
              "                    <source src=\"data:audio/wav;base64,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\" type=\"audio/wav\" />\n",
              "                    Your browser does not support the audio element.\n",
              "                </audio>\n",
              "              "
            ]
          },
          "metadata": {},
          "execution_count": 6
        }
      ]
    },
    {
      "cell_type": "code",
      "source": [
        "class ResNetBlock(layers.Layer):\n",
        "    def __init__(self, filters,kernel_size=3, strides=1,dilation_rate=1):\n",
        "        super(ResNetBlock, self).__init__()\n",
        "        self.conv1 = layers.Conv1D(filters, kernel_size, strides=strides,dilation_rate=dilation_rate, padding='same')\n",
        "        self.bn1 = layers.BatchNormalization()\n",
        "        self.conv2 = layers.Conv1D(filters, kernel_size, padding='same')\n",
        "        self.bn2 = layers.BatchNormalization()\n",
        "\n",
        "        if strides != 1:\n",
        "            self.residual = layers.Conv1D(filters, 1, strides=strides)\n",
        "        else:\n",
        "            self.residual = lambda x: x\n",
        "\n",
        "    def call(self, inputs, training=False):\n",
        "        x = self.conv1(inputs)\n",
        "        x = self.bn1(x, training=training)\n",
        "        x = tf.nn.relu(x)\n",
        "        x = self.conv2(x)\n",
        "        x = self.bn2(x, training=training)\n",
        "\n",
        "        r = self.residual(inputs)\n",
        "\n",
        "        x += r\n",
        "        return tf.nn.relu(x)"
      ],
      "metadata": {
        "id": "MUFnmA-82FDv"
      },
      "execution_count": 7,
      "outputs": []
    },
    {
      "cell_type": "code",
      "execution_count": 33,
      "metadata": {
        "id": "Gh2ORgUybdzt",
        "colab": {
          "base_uri": "https://localhost:8080/"
        },
        "outputId": "e0d3074d-7ace-4680-f056-1a034f7fb64d"
      },
      "outputs": [
        {
          "output_type": "stream",
          "name": "stdout",
          "text": [
            "Model: \"model_9\"\n",
            "_________________________________________________________________\n",
            " Layer (type)                Output Shape              Param #   \n",
            "=================================================================\n",
            " input_13 (InputLayer)       [(None, None, 1)]         0         \n",
            "                                                                 \n",
            " res_net_block_38 (ResNetBlo  (None, None, 64)         13120     \n",
            " ck)                                                             \n",
            "                                                                 \n",
            " dropout_25 (Dropout)        (None, None, 64)          0         \n",
            "                                                                 \n",
            " res_net_block_39 (ResNetBlo  (None, None, 64)         25216     \n",
            " ck)                                                             \n",
            "                                                                 \n",
            " res_net_block_40 (ResNetBlo  (None, None, 64)         25216     \n",
            " ck)                                                             \n",
            "                                                                 \n",
            " dropout_26 (Dropout)        (None, None, 64)          0         \n",
            "                                                                 \n",
            " res_net_block_41 (ResNetBlo  (None, None, 64)         25216     \n",
            " ck)                                                             \n",
            "                                                                 \n",
            " dropout_27 (Dropout)        (None, None, 64)          0         \n",
            "                                                                 \n",
            " res_net_block_42 (ResNetBlo  (None, None, 64)         25216     \n",
            " ck)                                                             \n",
            "                                                                 \n",
            " dropout_28 (Dropout)        (None, None, 64)          0         \n",
            "                                                                 \n",
            " res_net_block_43 (ResNetBlo  (None, None, 64)         25216     \n",
            " ck)                                                             \n",
            "                                                                 \n",
            " dropout_29 (Dropout)        (None, None, 64)          0         \n",
            "                                                                 \n",
            " global_average_pooling1d_7   (None, 64)               0         \n",
            " (GlobalAveragePooling1D)                                        \n",
            "                                                                 \n",
            " dense_13 (Dense)            (None, 1)                 65        \n",
            "                                                                 \n",
            "=================================================================\n",
            "Total params: 139,265\n",
            "Trainable params: 137,729\n",
            "Non-trainable params: 1,536\n",
            "_________________________________________________________________\n"
          ]
        }
      ],
      "source": [
        "def build_discriminator():\n",
        "    input_series = layers.Input(shape=(None,1))\n",
        "\n",
        "\n",
        "    # Convolutional layers\n",
        "    x = ResNetBlock(64,3,1,1)(input_series)\n",
        "    x = layers.Dropout(0.2)(x)\n",
        "\n",
        "    x = ResNetBlock(64,3,1,2)(x)\n",
        "\n",
        "\n",
        "    x = ResNetBlock(64,3,1,4)(x)\n",
        "    x = layers.Dropout(0.2)(x)\n",
        "\n",
        "    x = ResNetBlock(64,3,1,8)(x)\n",
        "    x = layers.Dropout(0.2)(x)\n",
        "\n",
        "    x = ResNetBlock(64,3,1,12)(x)\n",
        "    x = layers.Dropout(0.2)(x)\n",
        "\n",
        "    x = ResNetBlock(64,3,1,24)(x)\n",
        "    x = layers.Dropout(0.2)(x)\n",
        "\n",
        "\n",
        "\n",
        "    # Global pooling\n",
        "    pooled_output = layers.GlobalAveragePooling1D()(x)\n",
        "\n",
        "    # Dense layer\n",
        "    dense_output = layers.Dense(64, activation='relu')(pooled_output)\n",
        "\n",
        "    # Dense layer\n",
        "    dense_output = layers.Dense(1, activation='sigmoid')(pooled_output)\n",
        "\n",
        "    model = tf.keras.models.Model(inputs=input_series, outputs=dense_output)\n",
        "    return model\n",
        "\n",
        "discriminator = build_discriminator()\n",
        "discriminator_copy = build_discriminator()\n",
        "discriminator.summary()\n"
      ]
    },
    {
      "cell_type": "code",
      "source": [
        "def build_generator():\n",
        "    input_series = layers.Input(shape=(None,1))\n",
        "\n",
        "\n",
        "    x = ResNetBlock(64,dilation_rate=1)(input_series)\n",
        "\n",
        "\n",
        "    x = ResNetBlock(64,dilation_rate=2)(x)\n",
        "\n",
        "\n",
        "    x = ResNetBlock(64,dilation_rate=4)(x)\n",
        "\n",
        "\n",
        "    x = ResNetBlock(64,dilation_rate=8)(x)\n",
        "\n",
        "\n",
        "    x = ResNetBlock(1,dilation_rate=12)(x)\n",
        "\n",
        "    x = layers.Conv1D(1,1)(x)\n",
        "\n",
        "\n",
        "\n",
        "    model = tf.keras.models.Model(inputs=input_series, outputs=x)\n",
        "    return model\n",
        "\n",
        "generator = build_generator()\n",
        "generator.summary()\n"
      ],
      "metadata": {
        "id": "8q_-l7f8eC-i",
        "colab": {
          "base_uri": "https://localhost:8080/"
        },
        "outputId": "3aaf0a95-6d7f-4e67-c8ad-847182330287"
      },
      "execution_count": 34,
      "outputs": [
        {
          "output_type": "stream",
          "name": "stdout",
          "text": [
            "Model: \"model_11\"\n",
            "_________________________________________________________________\n",
            " Layer (type)                Output Shape              Param #   \n",
            "=================================================================\n",
            " input_15 (InputLayer)       [(None, None, 1)]         0         \n",
            "                                                                 \n",
            " res_net_block_50 (ResNetBlo  (None, None, 64)         13120     \n",
            " ck)                                                             \n",
            "                                                                 \n",
            " res_net_block_51 (ResNetBlo  (None, None, 64)         25216     \n",
            " ck)                                                             \n",
            "                                                                 \n",
            " res_net_block_52 (ResNetBlo  (None, None, 64)         25216     \n",
            " ck)                                                             \n",
            "                                                                 \n",
            " res_net_block_53 (ResNetBlo  (None, None, 64)         25216     \n",
            " ck)                                                             \n",
            "                                                                 \n",
            " res_net_block_54 (ResNetBlo  (None, None, 64)         205       \n",
            " ck)                                                             \n",
            "                                                                 \n",
            " conv1d_127 (Conv1D)         (None, None, 1)           65        \n",
            "                                                                 \n",
            "=================================================================\n",
            "Total params: 89,038\n",
            "Trainable params: 88,010\n",
            "Non-trainable params: 1,028\n",
            "_________________________________________________________________\n"
          ]
        }
      ]
    },
    {
      "cell_type": "code",
      "execution_count": 35,
      "metadata": {
        "id": "aFFOfuDfbpD9"
      },
      "outputs": [],
      "source": [
        "# Compile models\n",
        "generator_optimizer = tf.keras.optimizers.Adam(0.0004)\n",
        "discriminator_optimizer = tf.keras.optimizers.Adam(0.0001)\n",
        "copy_optimizer = tf.keras.optimizers.Adam(0.0004)\n",
        "\n",
        "#generator_optimizer = tf.keras.optimizers.experimental.SGD(1e-4)\n",
        "#discriminator_optimizer = tf.keras.optimizers.experimental.SGD(1e-4)"
      ]
    },
    {
      "cell_type": "code",
      "execution_count": 36,
      "metadata": {
        "id": "T3PtShxlbn9c"
      },
      "outputs": [],
      "source": [
        "def discriminator_loss(real_output, fake_output):\n",
        "    real_loss = tf.keras.losses.BinaryCrossentropy()(tf.ones_like(real_output), real_output)\n",
        "    fake_loss = tf.keras.losses.BinaryCrossentropy()(tf.zeros_like(fake_output), fake_output)\n",
        "    total_loss = real_loss + fake_loss\n",
        "    return total_loss\n",
        "\n",
        "def generator_loss(fake_output):\n",
        "    return tf.keras.losses.BinaryCrossentropy()(tf.ones_like(fake_output), fake_output)\n",
        "\n"
      ]
    },
    {
      "cell_type": "code",
      "source": [
        "def print_img(generator_model):\n",
        "    # Generate and save sample images\n",
        "    noise = tf.random.normal([10, 100])\n",
        "    sampled_labels = tf.constant([[i % 10] for i in range(10)], dtype=tf.int32)\n",
        "    generated_images = generator_model.predict([noise, sampled_labels])\n",
        "    fig, axs = plt.subplots(1, 10, figsize=(10, 10))\n",
        "    for i in range(10):\n",
        "        axs[i].imshow(generated_images[i], cmap=\"gray\")\n",
        "        axs[i].axis(\"off\")\n",
        "    plt.show()"
      ],
      "metadata": {
        "id": "vAoSvqXLsQHq"
      },
      "execution_count": 37,
      "outputs": []
    },
    {
      "cell_type": "code",
      "source": [
        "#@tf.function\n",
        "def train_step(target_audios):\n",
        "\n",
        "    batch_size = target_audios.shape[0]\n",
        "    noise = tf.random.normal(shape=(target_audios.shape))\n",
        "    generated_audio = generator(noise, training=True)\n",
        "\n",
        "\n",
        "\n",
        "    with tf.GradientTape() as disc_tape:\n",
        "\n",
        "      real_output = discriminator([target_audios], training=True)\n",
        "      fake_output = discriminator([generated_audio], training=True)\n",
        "\n",
        "      disc_loss = discriminator_loss(real_output, fake_output)\n",
        "\n",
        "    gradients_of_discriminator = disc_tape.gradient(disc_loss, discriminator.trainable_variables)\n",
        "    discriminator_optimizer.apply_gradients(zip(gradients_of_discriminator, discriminator.trainable_variables))\n",
        "\n",
        "\n",
        "    # Get the weights of model1\n",
        "    weights = discriminator.get_weights()\n",
        "\n",
        "    # Set the weights of model2 to be the same as model1\n",
        "    discriminator_copy.set_weights(weights)\n",
        "\n",
        "    for i in range(2):\n",
        "      with tf.GradientTape() as disc_copy_tape:\n",
        "\n",
        "\n",
        "        real_output = discriminator_copy([target_audios], training=True)\n",
        "        fake_output = discriminator_copy([generated_audio], training=True)\n",
        "\n",
        "        disc_loss = discriminator_loss(real_output, fake_output)\n",
        "\n",
        "      gradients_of_discriminator = disc_copy_tape.gradient(disc_loss, discriminator_copy.trainable_variables)\n",
        "      copy_optimizer.apply_gradients(zip(gradients_of_discriminator, discriminator_copy.trainable_variables))\n",
        "\n",
        "\n",
        "\n",
        "    with tf.GradientTape() as gen_tape:\n",
        "      noise = tf.random.normal(shape=target_audios.shape)\n",
        "      generated_audio = generator(noise, training=True)\n",
        "      fake_output = discriminator_copy([generated_audio], training=True)\n",
        "      gen_loss = generator_loss(fake_output)\n",
        "\n",
        "    gradients_of_generator = gen_tape.gradient(gen_loss, generator.trainable_variables)\n",
        "    generator_optimizer.apply_gradients(zip(gradients_of_generator, generator.trainable_variables))\n",
        "\n",
        "\n",
        "    tf.print(\"disc_loss\",disc_loss,'gen_loss',gen_loss)\n",
        "\n",
        "\n",
        "def train(generator, discriminator\n",
        "          , epochs, batch_size):\n",
        "    for epoch in range(epochs):\n",
        "        for batch in range(len(x_train) // batch_size):\n",
        "            #images = x_train[batch * batch_size: (batch+1) * batch_size]\n",
        "            target_audios = y_train[batch * batch_size: (batch+1) * batch_size]\n",
        "\n",
        "            train_step(target_audios)\n",
        "        '''\n",
        "        # Output training progress\n",
        "        if (epoch + 1) % 5 == 0:\n",
        "            print(f\"Epoch {epoch+1}/{epochs}\")\n",
        "            print_img(generator)\n",
        "        '''\n",
        "\n",
        "# Train the GAN\n",
        "EPOCHS = 2000000\n",
        "BATCH_SIZE = 10\n",
        "num_unrolling_steps = 5  # Set the desired number of unrolling steps\n",
        "train(generator, discriminator, EPOCHS, BATCH_SIZE)"
      ],
      "metadata": {
        "id": "CK4j3K7qtz47",
        "colab": {
          "base_uri": "https://localhost:8080/"
        },
        "outputId": "edc0eb96-74a0-48fb-a125-467762cb0caf"
      },
      "execution_count": null,
      "outputs": [
        {
          "output_type": "stream",
          "name": "stdout",
          "text": [
            "disc_loss 1.14453387 gen_loss 0.726704359\n",
            "disc_loss 1.12697697 gen_loss 0.752405822\n"
          ]
        }
      ]
    },
    {
      "cell_type": "code",
      "source": [
        "noise = noise = tf.random.normal(shape=(20000,1))\n",
        "test = generator.predict(noise)"
      ],
      "metadata": {
        "id": "PAqGbZU0Z5yl"
      },
      "execution_count": null,
      "outputs": []
    },
    {
      "cell_type": "code",
      "source": [
        "audio_data = test.ravel()\n",
        "# Play the audio within the Jupyter Notebook\n",
        "Audio(data=audio_data, rate=sr)"
      ],
      "metadata": {
        "id": "T1na8mlgaWuF"
      },
      "execution_count": null,
      "outputs": []
    }
  ],
  "metadata": {
    "colab": {
      "name": "Overview of Colaboratory Features",
      "provenance": [],
      "include_colab_link": true
    },
    "kernelspec": {
      "display_name": "Python 3 (ipykernel)",
      "language": "python",
      "name": "python3"
    },
    "language_info": {
      "codemirror_mode": {
        "name": "ipython",
        "version": 3
      },
      "file_extension": ".py",
      "mimetype": "text/x-python",
      "name": "python",
      "nbconvert_exporter": "python",
      "pygments_lexer": "ipython3",
      "version": "3.8.10"
    }
  },
  "nbformat": 4,
  "nbformat_minor": 0
}