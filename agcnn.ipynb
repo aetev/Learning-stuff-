{
  "cells": [
    {
      "cell_type": "markdown",
      "metadata": {
        "id": "view-in-github",
        "colab_type": "text"
      },
      "source": [
        "<a href=\"https://colab.research.google.com/github/aetev/Learning-stuff-/blob/main/agcnn.ipynb\" target=\"_parent\"><img src=\"https://colab.research.google.com/assets/colab-badge.svg\" alt=\"Open In Colab\"/></a>"
      ]
    },
    {
      "cell_type": "code",
      "source": [
        "!pip install tensorflow_addons\n",
        "!pip install pydub"
      ],
      "metadata": {
        "colab": {
          "base_uri": "https://localhost:8080/"
        },
        "id": "-g36b6KfZQeH",
        "outputId": "2be002a2-c95a-4c0d-fbea-0ea3bb1ef3fb"
      },
      "execution_count": 1,
      "outputs": [
        {
          "output_type": "stream",
          "name": "stdout",
          "text": [
            "Requirement already satisfied: tensorflow_addons in /usr/local/lib/python3.10/dist-packages (0.21.0)\n",
            "Requirement already satisfied: packaging in /usr/local/lib/python3.10/dist-packages (from tensorflow_addons) (23.1)\n",
            "Requirement already satisfied: typeguard<3.0.0,>=2.7 in /usr/local/lib/python3.10/dist-packages (from tensorflow_addons) (2.13.3)\n",
            "Requirement already satisfied: pydub in /usr/local/lib/python3.10/dist-packages (0.25.1)\n"
          ]
        }
      ]
    },
    {
      "cell_type": "code",
      "source": [
        "from google.colab import drive\n",
        "drive.mount('/content/drive')"
      ],
      "metadata": {
        "colab": {
          "base_uri": "https://localhost:8080/"
        },
        "id": "sgfbRifTpdLa",
        "outputId": "bfc2fef5-3f67-4306-a065-a1cb5e45600d"
      },
      "execution_count": 2,
      "outputs": [
        {
          "output_type": "stream",
          "name": "stdout",
          "text": [
            "Drive already mounted at /content/drive; to attempt to forcibly remount, call drive.mount(\"/content/drive\", force_remount=True).\n"
          ]
        }
      ]
    },
    {
      "cell_type": "code",
      "execution_count": 3,
      "metadata": {
        "colab": {
          "base_uri": "https://localhost:8080/"
        },
        "id": "-UiZf7YAawUu",
        "outputId": "53b1f23a-3c9b-44fa-edb6-024a321aee92"
      },
      "outputs": [
        {
          "output_type": "stream",
          "name": "stderr",
          "text": [
            "/usr/local/lib/python3.10/dist-packages/tensorflow_addons/utils/tfa_eol_msg.py:23: UserWarning: \n",
            "\n",
            "TensorFlow Addons (TFA) has ended development and introduction of new features.\n",
            "TFA has entered a minimal maintenance and release mode until a planned end of life in May 2024.\n",
            "Please modify downstream libraries to take dependencies from other repositories in our TensorFlow community (e.g. Keras, Keras-CV, and Keras-NLP). \n",
            "\n",
            "For more information see: https://github.com/tensorflow/addons/issues/2807 \n",
            "\n",
            "  warnings.warn(\n"
          ]
        }
      ],
      "source": [
        "import tensorflow as tf\n",
        "from tensorflow.keras import layers\n",
        "import matplotlib.pyplot as plt\n",
        "import numpy as np\n",
        "import tensorflow_addons as tfa\n",
        "from pydub import AudioSegment\n",
        "from pydub.utils import make_chunks\n",
        "import os\n",
        "from IPython.display import Audio"
      ]
    },
    {
      "cell_type": "code",
      "source": [
        "import os\n",
        "import librosa\n",
        "import numpy as np\n",
        "\n",
        "# Specify the folder path\n",
        "folder_path = '/content/drive/MyDrive/bass samples'\n",
        "\n",
        "# Initialize an empty list to store the audio chunks\n",
        "audio_chunks = []\n",
        "\n",
        "# Iterate through all the files in the folder\n",
        "for file_name in os.listdir(folder_path):\n",
        "    # Check if the file is a WAV file\n",
        "    if file_name.endswith('.wav'):\n",
        "        # Construct the file path\n",
        "        file_path = os.path.join(folder_path, file_name)\n",
        "\n",
        "        # Load the audio file using librosa\n",
        "        audio, sr = librosa.load(file_path, sr=None)\n",
        "\n",
        "        # Step 3: Cut the audio files into 1-second chunks with 50% overlap\n",
        "\n",
        "        # Specify the desired length of the audio chunks (in seconds)\n",
        "        chunk_length_seconds = .5\n",
        "\n",
        "        # Convert the chunk length from seconds to samples\n",
        "        chunk_length = int(chunk_length_seconds * sr)\n",
        "\n",
        "        # Calculate the overlap length (50% of chunk_length)\n",
        "        overlap_length = int(chunk_length / 2)\n",
        "\n",
        "        # Calculate the total number of chunks\n",
        "        num_chunks = int((len(audio) - chunk_length) / overlap_length) + 1\n",
        "\n",
        "        # Iterate through the audio and extract the chunks\n",
        "        for i in range(num_chunks):\n",
        "            # Calculate the starting and ending indices of the chunk\n",
        "            start_idx = i * overlap_length\n",
        "            end_idx = start_idx + chunk_length\n",
        "\n",
        "            # Extract the chunk\n",
        "            chunk = audio[start_idx:end_idx]\n",
        "\n",
        "            # Step 4: Discard any chunks that are not the desired length\n",
        "\n",
        "            if len(chunk) == chunk_length:\n",
        "                # Append the chunk to the list\n",
        "                audio_chunks.append(chunk)\n",
        "\n",
        "# Step 5: Store the chunks in a numpy array with the desired shape\n",
        "\n",
        "# Convert the list of chunks to a numpy array\n",
        "audio_array = np.array(audio_chunks)\n",
        "\n",
        "# Reshape the array to have the shape (num of chunks, length of audio, 1)\n",
        "audio_array = audio_array.reshape(len(audio_array), len(audio_array[0]), 1)\n",
        "\n",
        "noise = np.random.uniform(low=-1.0, high=1.0, size=audio_array.shape)\n",
        "\n",
        "\n"
      ],
      "metadata": {
        "id": "0-hPpkQ-ysYj"
      },
      "execution_count": 4,
      "outputs": []
    },
    {
      "cell_type": "code",
      "source": [
        "x_train = noise\n",
        "y_train = audio_array\n",
        "print(x_train.shape)"
      ],
      "metadata": {
        "colab": {
          "base_uri": "https://localhost:8080/"
        },
        "id": "3XZfCdyC7S_D",
        "outputId": "1bd85bf4-6dc7-455d-fc95-2128d7e3fb78"
      },
      "execution_count": 5,
      "outputs": [
        {
          "output_type": "stream",
          "name": "stdout",
          "text": [
            "(94, 22050, 1)\n"
          ]
        }
      ]
    },
    {
      "cell_type": "code",
      "source": [
        "\n",
        "\n",
        "audio_data = audio_array[5].ravel()\n",
        "# Play the audio within the Jupyter Notebook\n",
        "Audio(data=audio_data, rate=sr)"
      ],
      "metadata": {
        "colab": {
          "base_uri": "https://localhost:8080/",
          "height": 75
        },
        "id": "TzsbZ33n1Efr",
        "outputId": "2fbb4702-b5f3-4a28-df3c-d99482dd932d"
      },
      "execution_count": 6,
      "outputs": [
        {
          "output_type": "execute_result",
          "data": {
            "text/plain": [
              "<IPython.lib.display.Audio object>"
            ],
            "text/html": [
              "\n",
              "                <audio  controls=\"controls\" >\n",
              "                    <source src=\"data:audio/wav;base64,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\" type=\"audio/wav\" />\n",
              "                    Your browser does not support the audio element.\n",
              "                </audio>\n",
              "              "
            ]
          },
          "metadata": {},
          "execution_count": 6
        }
      ]
    },
    {
      "cell_type": "code",
      "execution_count": 7,
      "metadata": {
        "id": "Gh2ORgUybdzt",
        "colab": {
          "base_uri": "https://localhost:8080/"
        },
        "outputId": "48f2dc6e-395a-4dbf-e203-89677a129680"
      },
      "outputs": [
        {
          "output_type": "stream",
          "name": "stdout",
          "text": [
            "Model: \"model\"\n",
            "__________________________________________________________________________________________________\n",
            " Layer (type)                   Output Shape         Param #     Connected to                     \n",
            "==================================================================================================\n",
            " input_1 (InputLayer)           [(None, None, 1)]    0           []                               \n",
            "                                                                                                  \n",
            " conv1d (Conv1D)                (None, None, 256)    7936        ['input_1[0][0]']                \n",
            "                                                                                                  \n",
            " leaky_re_lu (LeakyReLU)        (None, None, 256)    0           ['conv1d[0][0]']                 \n",
            "                                                                                                  \n",
            " dropout (Dropout)              (None, None, 256)    0           ['leaky_re_lu[0][0]']            \n",
            "                                                                                                  \n",
            " conv1d_1 (Conv1D)              (None, None, 128)    655488      ['dropout[0][0]']                \n",
            "                                                                                                  \n",
            " leaky_re_lu_1 (LeakyReLU)      (None, None, 128)    0           ['conv1d_1[0][0]']               \n",
            "                                                                                                  \n",
            " dropout_1 (Dropout)            (None, None, 128)    0           ['leaky_re_lu_1[0][0]']          \n",
            "                                                                                                  \n",
            " concatenate (Concatenate)      (None, None, 384)    0           ['dropout_1[0][0]',              \n",
            "                                                                  'dropout[0][0]']                \n",
            "                                                                                                  \n",
            " conv1d_2 (Conv1D)              (None, None, 128)    1474688     ['concatenate[0][0]']            \n",
            "                                                                                                  \n",
            " leaky_re_lu_2 (LeakyReLU)      (None, None, 128)    0           ['conv1d_2[0][0]']               \n",
            "                                                                                                  \n",
            " dropout_2 (Dropout)            (None, None, 128)    0           ['leaky_re_lu_2[0][0]']          \n",
            "                                                                                                  \n",
            " conv1d_3 (Conv1D)              (None, None, 128)    327808      ['dropout_2[0][0]']              \n",
            "                                                                                                  \n",
            " leaky_re_lu_3 (LeakyReLU)      (None, None, 128)    0           ['conv1d_3[0][0]']               \n",
            "                                                                                                  \n",
            " dropout_3 (Dropout)            (None, None, 128)    0           ['leaky_re_lu_3[0][0]']          \n",
            "                                                                                                  \n",
            " global_average_pooling1d (Glob  (None, 128)         0           ['dropout_3[0][0]']              \n",
            " alAveragePooling1D)                                                                              \n",
            "                                                                                                  \n",
            " dense_1 (Dense)                (None, 1)            129         ['global_average_pooling1d[0][0]'\n",
            "                                                                 ]                                \n",
            "                                                                                                  \n",
            "==================================================================================================\n",
            "Total params: 2,466,049\n",
            "Trainable params: 2,466,049\n",
            "Non-trainable params: 0\n",
            "__________________________________________________________________________________________________\n"
          ]
        }
      ],
      "source": [
        "def build_discriminator():\n",
        "    input_series = layers.Input(shape=(None,1))\n",
        "\n",
        "\n",
        "    # Convolutional layers\n",
        "    x = layers.Conv1D(256, 30, strides=2 , padding='same', kernel_regularizer=tf.keras.regularizers.l2(0.01))(input_series)\n",
        "    x = layers.LeakyReLU()(x)\n",
        "    x_skip = layers.Dropout(0.2)(x)\n",
        "\n",
        "    x = layers.Conv1D(128, 20, strides=1 , padding='same',dilation_rate=10, kernel_regularizer=tf.keras.regularizers.l2(0.01))(x_skip)\n",
        "    x = layers.LeakyReLU()(x)\n",
        "    x = layers.Dropout(0.2)(x)\n",
        "\n",
        "    x = layers.Concatenate()([x,x_skip])\n",
        "\n",
        "    x = layers.Conv1D(128, 30, strides=2 , padding='same', kernel_regularizer=tf.keras.regularizers.l2(0.01))(x)\n",
        "    x = layers.LeakyReLU()(x)\n",
        "    x = layers.Dropout(0.2)(x)\n",
        "\n",
        "    x = layers.Conv1D(128, 20, strides=1 , padding='same',dilation_rate=10, kernel_regularizer=tf.keras.regularizers.l2(0.01))(x)\n",
        "    x = layers.LeakyReLU()(x)\n",
        "    x = layers.Dropout(0.2)(x)\n",
        "\n",
        "    # Global pooling\n",
        "    pooled_output = layers.GlobalAveragePooling1D()(x)\n",
        "\n",
        "    # Dense layer\n",
        "    dense_output = layers.Dense(64, activation='relu')(pooled_output)\n",
        "\n",
        "    # Dense layer\n",
        "    dense_output = layers.Dense(1, activation='sigmoid')(pooled_output)\n",
        "\n",
        "    model = tf.keras.models.Model(inputs=input_series, outputs=dense_output)\n",
        "    return model\n",
        "\n",
        "discriminator = build_discriminator()\n",
        "discriminator_copy = build_discriminator()\n",
        "discriminator.summary()\n"
      ]
    },
    {
      "cell_type": "code",
      "source": [
        "def build_generator():\n",
        "    input_series = layers.Input(shape=(None,1))\n",
        "\n",
        "\n",
        "    # Generate noise using TensorFlow\n",
        "    noise = tf.random.normal(shape=tf.shape(input_series))\n",
        "\n",
        "    # Concatenate noise with input_series\n",
        "    input_concat = tf.keras.layers.Concatenate()([input_series, noise])\n",
        "\n",
        "    # Convolutional layers\n",
        "    x = layers.Conv1D(256, 10, strides=2 , padding='same')(input_concat)\n",
        "    x = layers.LeakyReLU()(x)\n",
        "\n",
        "\n",
        "    x = layers.Conv1D(256, 10, strides=2 , padding='same')(x)\n",
        "    x = layers.LeakyReLU()(x)\n",
        "\n",
        "\n",
        "    x = layers.Conv1D(256, 10, strides=2 , padding='same')(x)\n",
        "    x = layers.LeakyReLU()(x)\n",
        "\n",
        "    x = layers.Conv1DTranspose(128, 2, strides=2, padding='same')(x)\n",
        "    x = layers.LeakyReLU()(x)\n",
        "\n",
        "    x = layers.Conv1DTranspose(128, 2, strides=2, padding='same')(x)\n",
        "    x = layers.LeakyReLU()(x)\n",
        "\n",
        "\n",
        "    # Conv1DTranspose layer for upsampling\n",
        "    x = layers.Conv1DTranspose(1, 2, strides=2, padding='same',activation='tanh')(x)\n",
        "\n",
        "\n",
        "    model = tf.keras.models.Model(inputs=input_series, outputs=x)\n",
        "    return model\n",
        "\n",
        "generator = build_generator()\n",
        "generator.summary()\n"
      ],
      "metadata": {
        "id": "8q_-l7f8eC-i"
      },
      "execution_count": null,
      "outputs": []
    },
    {
      "cell_type": "code",
      "execution_count": null,
      "metadata": {
        "id": "aFFOfuDfbpD9"
      },
      "outputs": [],
      "source": [
        "# Compile models\n",
        "generator_optimizer = tf.keras.optimizers.Adam(0.0004)\n",
        "discriminator_optimizer = tf.keras.optimizers.Adam(0.0001)\n",
        "copy_optimizer = tf.keras.optimizers.Adam(0.0004)\n",
        "\n",
        "#generator_optimizer = tf.keras.optimizers.experimental.SGD(1e-4)\n",
        "#discriminator_optimizer = tf.keras.optimizers.experimental.SGD(1e-4)"
      ]
    },
    {
      "cell_type": "code",
      "execution_count": null,
      "metadata": {
        "id": "T3PtShxlbn9c"
      },
      "outputs": [],
      "source": [
        "def discriminator_loss(real_output, fake_output):\n",
        "    real_loss = tf.keras.losses.BinaryCrossentropy()(tf.ones_like(real_output), real_output)\n",
        "    fake_loss = tf.keras.losses.BinaryCrossentropy()(tf.zeros_like(fake_output), fake_output)\n",
        "    total_loss = real_loss + fake_loss\n",
        "    return total_loss\n",
        "\n",
        "def generator_loss(fake_output):\n",
        "    return tf.keras.losses.BinaryCrossentropy()(tf.ones_like(fake_output), fake_output)\n",
        "\n"
      ]
    },
    {
      "cell_type": "code",
      "source": [
        "def print_img(generator_model):\n",
        "    # Generate and save sample images\n",
        "    noise = tf.random.normal([10, 100])\n",
        "    sampled_labels = tf.constant([[i % 10] for i in range(10)], dtype=tf.int32)\n",
        "    generated_images = generator_model.predict([noise, sampled_labels])\n",
        "    fig, axs = plt.subplots(1, 10, figsize=(10, 10))\n",
        "    for i in range(10):\n",
        "        axs[i].imshow(generated_images[i], cmap=\"gray\")\n",
        "        axs[i].axis(\"off\")\n",
        "    plt.show()"
      ],
      "metadata": {
        "id": "vAoSvqXLsQHq"
      },
      "execution_count": null,
      "outputs": []
    },
    {
      "cell_type": "code",
      "source": [
        "#@tf.function\n",
        "def train_step(target_audios):\n",
        "\n",
        "    batch_size = target_audios.shape[0]\n",
        "    noise = tf.random.normal(shape=target_audios.shape)\n",
        "    generated_audio = generator(noise, training=True)\n",
        "\n",
        "\n",
        "\n",
        "    with tf.GradientTape() as disc_tape:\n",
        "\n",
        "      real_output = discriminator([target_audios], training=True)\n",
        "      fake_output = discriminator([generated_audio], training=True)\n",
        "\n",
        "      disc_loss = discriminator_loss(real_output, fake_output)\n",
        "\n",
        "    gradients_of_discriminator = disc_tape.gradient(disc_loss, discriminator.trainable_variables)\n",
        "    discriminator_optimizer.apply_gradients(zip(gradients_of_discriminator, discriminator.trainable_variables))\n",
        "\n",
        "\n",
        "    # Get the weights of model1\n",
        "    weights = discriminator.get_weights()\n",
        "\n",
        "    # Set the weights of model2 to be the same as model1\n",
        "    discriminator_copy.set_weights(weights)\n",
        "\n",
        "    for i in range(2):\n",
        "      with tf.GradientTape() as disc_copy_tape:\n",
        "\n",
        "\n",
        "        real_output = discriminator_copy([target_audios], training=True)\n",
        "        fake_output = discriminator_copy([generated_audio], training=True)\n",
        "\n",
        "        disc_loss = discriminator_loss(real_output, fake_output)\n",
        "\n",
        "      gradients_of_discriminator = disc_copy_tape.gradient(disc_loss, discriminator_copy.trainable_variables)\n",
        "      copy_optimizer.apply_gradients(zip(gradients_of_discriminator, discriminator_copy.trainable_variables))\n",
        "\n",
        "\n",
        "\n",
        "    with tf.GradientTape() as gen_tape:\n",
        "      noise = tf.random.normal(shape=target_audios.shape)\n",
        "      generated_audio = generator(noise, training=True)\n",
        "      fake_output = discriminator_copy([generated_audio], training=True)\n",
        "      gen_loss = generator_loss(fake_output)\n",
        "\n",
        "    gradients_of_generator = gen_tape.gradient(gen_loss, generator.trainable_variables)\n",
        "    generator_optimizer.apply_gradients(zip(gradients_of_generator, generator.trainable_variables))\n",
        "\n",
        "\n",
        "    tf.print(\"disc_loss\",disc_loss,'gen_loss',gen_loss)\n",
        "\n",
        "\n",
        "def train(generator, discriminator\n",
        "          , epochs, batch_size):\n",
        "    for epoch in range(epochs):\n",
        "        for batch in range(len(x_train) // batch_size):\n",
        "            #images = x_train[batch * batch_size: (batch+1) * batch_size]\n",
        "            target_audios = y_train[batch * batch_size: (batch+1) * batch_size]\n",
        "\n",
        "            train_step(target_audios)\n",
        "        '''\n",
        "        # Output training progress\n",
        "        if (epoch + 1) % 5 == 0:\n",
        "            print(f\"Epoch {epoch+1}/{epochs}\")\n",
        "            print_img(generator)\n",
        "        '''\n",
        "\n",
        "# Train the GAN\n",
        "EPOCHS = 2000000\n",
        "BATCH_SIZE = 10\n",
        "num_unrolling_steps = 5  # Set the desired number of unrolling steps\n",
        "train(generator, discriminator, EPOCHS, BATCH_SIZE)"
      ],
      "metadata": {
        "id": "CK4j3K7qtz47"
      },
      "execution_count": null,
      "outputs": []
    },
    {
      "cell_type": "code",
      "source": [
        "noise = noise = tf.random.normal(shape=(20000,1))\n",
        "test = generator.predict(noise)"
      ],
      "metadata": {
        "id": "PAqGbZU0Z5yl"
      },
      "execution_count": null,
      "outputs": []
    },
    {
      "cell_type": "code",
      "source": [
        "audio_data = test.ravel()\n",
        "# Play the audio within the Jupyter Notebook\n",
        "Audio(data=audio_data, rate=sr)"
      ],
      "metadata": {
        "id": "T1na8mlgaWuF"
      },
      "execution_count": null,
      "outputs": []
    }
  ],
  "metadata": {
    "colab": {
      "name": "Overview of Colaboratory Features",
      "provenance": [],
      "include_colab_link": true
    },
    "kernelspec": {
      "display_name": "Python 3 (ipykernel)",
      "language": "python",
      "name": "python3"
    },
    "language_info": {
      "codemirror_mode": {
        "name": "ipython",
        "version": 3
      },
      "file_extension": ".py",
      "mimetype": "text/x-python",
      "name": "python",
      "nbconvert_exporter": "python",
      "pygments_lexer": "ipython3",
      "version": "3.8.10"
    }
  },
  "nbformat": 4,
  "nbformat_minor": 0
}