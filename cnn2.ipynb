{
  "cells": [
    {
      "cell_type": "markdown",
      "metadata": {
        "id": "view-in-github",
        "colab_type": "text"
      },
      "source": [
        "<a href=\"https://colab.research.google.com/github/aetev/Learning-stuff-/blob/main/cnn2.ipynb\" target=\"_parent\"><img src=\"https://colab.research.google.com/assets/colab-badge.svg\" alt=\"Open In Colab\"/></a>"
      ]
    },
    {
      "cell_type": "code",
      "source": [
        "pip install git+https://github.com/pvigier/perlin-numpy"
      ],
      "metadata": {
        "id": "n4kIYGiMiBuq",
        "outputId": "bd299ccb-f6fc-48f4-9a78-343e8fab7841",
        "colab": {
          "base_uri": "https://localhost:8080/"
        }
      },
      "execution_count": 1,
      "outputs": [
        {
          "output_type": "stream",
          "name": "stdout",
          "text": [
            "Collecting git+https://github.com/pvigier/perlin-numpy\n",
            "  Cloning https://github.com/pvigier/perlin-numpy to /tmp/pip-req-build-57ierh9v\n",
            "  Running command git clone --filter=blob:none --quiet https://github.com/pvigier/perlin-numpy /tmp/pip-req-build-57ierh9v\n",
            "  Resolved https://github.com/pvigier/perlin-numpy to commit 5e26837db14042e51166eb6cad4c0df2c1907016\n",
            "  Preparing metadata (setup.py) ... \u001b[?25l\u001b[?25hdone\n",
            "Requirement already satisfied: numpy>=1.15 in /usr/local/lib/python3.10/dist-packages (from perlin-numpy==0.0.0) (1.22.4)\n",
            "Building wheels for collected packages: perlin-numpy\n",
            "  Building wheel for perlin-numpy (setup.py) ... \u001b[?25l\u001b[?25hdone\n",
            "  Created wheel for perlin-numpy: filename=perlin_numpy-0.0.0-py3-none-any.whl size=4723 sha256=7b0bd36970270b3f190f8ad7c6204b1858574abd5859981088139d8389054ab1\n",
            "  Stored in directory: /tmp/pip-ephem-wheel-cache-8kcler_4/wheels/d0/67/1b/569e9d602b147a53e4ab67a3592944572d7d3886dc3a2e095e\n",
            "Successfully built perlin-numpy\n",
            "Installing collected packages: perlin-numpy\n",
            "Successfully installed perlin-numpy-0.0.0\n"
          ]
        }
      ]
    },
    {
      "cell_type": "code",
      "source": [
        "pip install noise"
      ],
      "metadata": {
        "id": "vOw2IW9dCexx",
        "outputId": "b7bb872a-c561-445f-feb0-958c9192730f",
        "colab": {
          "base_uri": "https://localhost:8080/"
        }
      },
      "execution_count": 2,
      "outputs": [
        {
          "output_type": "stream",
          "name": "stdout",
          "text": [
            "Collecting noise\n",
            "  Downloading noise-1.2.2.zip (132 kB)\n",
            "\u001b[2K     \u001b[90m━━━━━━━━━━━━━━━━━━━━━━━━━━━━━━━━━━━━━━━\u001b[0m \u001b[32m132.0/132.0 kB\u001b[0m \u001b[31m2.0 MB/s\u001b[0m eta \u001b[36m0:00:00\u001b[0m\n",
            "\u001b[?25h  Preparing metadata (setup.py) ... \u001b[?25l\u001b[?25hdone\n",
            "Building wheels for collected packages: noise\n",
            "  Building wheel for noise (setup.py) ... \u001b[?25l\u001b[?25hdone\n",
            "  Created wheel for noise: filename=noise-1.2.2-cp310-cp310-linux_x86_64.whl size=56263 sha256=0452ed87cd646b80475d293fc473a3491777c45fc153756f9b11d47d0d200ef2\n",
            "  Stored in directory: /root/.cache/pip/wheels/b2/01/64/ca2f6ed556c204d5ce2d3719a58757a5504aeb5525654692d0\n",
            "Successfully built noise\n",
            "Installing collected packages: noise\n",
            "Successfully installed noise-1.2.2\n"
          ]
        }
      ]
    },
    {
      "cell_type": "code",
      "source": [
        "pip install tensorflow_addons"
      ],
      "metadata": {
        "colab": {
          "base_uri": "https://localhost:8080/"
        },
        "id": "pzMPW1vj86xU",
        "outputId": "516b74fd-ef34-4d6f-a130-2410e4e56a61"
      },
      "execution_count": 3,
      "outputs": [
        {
          "output_type": "stream",
          "name": "stdout",
          "text": [
            "Collecting tensorflow_addons\n",
            "  Downloading tensorflow_addons-0.21.0-cp310-cp310-manylinux_2_17_x86_64.manylinux2014_x86_64.whl (612 kB)\n",
            "\u001b[2K     \u001b[90m━━━━━━━━━━━━━━━━━━━━━━━━━━━━━━━━━━━━━━━\u001b[0m \u001b[32m612.1/612.1 kB\u001b[0m \u001b[31m3.6 MB/s\u001b[0m eta \u001b[36m0:00:00\u001b[0m\n",
            "\u001b[?25hRequirement already satisfied: packaging in /usr/local/lib/python3.10/dist-packages (from tensorflow_addons) (23.1)\n",
            "Collecting typeguard<3.0.0,>=2.7 (from tensorflow_addons)\n",
            "  Downloading typeguard-2.13.3-py3-none-any.whl (17 kB)\n",
            "Installing collected packages: typeguard, tensorflow_addons\n",
            "Successfully installed tensorflow_addons-0.21.0 typeguard-2.13.3\n"
          ]
        }
      ]
    },
    {
      "cell_type": "code",
      "execution_count": 4,
      "metadata": {
        "id": "-UiZf7YAawUu",
        "colab": {
          "base_uri": "https://localhost:8080/"
        },
        "outputId": "8a0c87e2-057d-4ecb-e226-4f7cfc91a840"
      },
      "outputs": [
        {
          "output_type": "stream",
          "name": "stderr",
          "text": [
            "/usr/local/lib/python3.10/dist-packages/tensorflow_addons/utils/tfa_eol_msg.py:23: UserWarning: \n",
            "\n",
            "TensorFlow Addons (TFA) has ended development and introduction of new features.\n",
            "TFA has entered a minimal maintenance and release mode until a planned end of life in May 2024.\n",
            "Please modify downstream libraries to take dependencies from other repositories in our TensorFlow community (e.g. Keras, Keras-CV, and Keras-NLP). \n",
            "\n",
            "For more information see: https://github.com/tensorflow/addons/issues/2807 \n",
            "\n",
            "  warnings.warn(\n"
          ]
        }
      ],
      "source": [
        "import tensorflow as tf\n",
        "from tensorflow.keras import layers\n",
        "import matplotlib.pyplot as plt\n",
        "from tensorflow.keras.layers import Dropout\n",
        "import numpy as np\n",
        "from perlin_numpy import generate_perlin_noise_2d\n",
        "import noise\n",
        "from noise import pnoise2\n",
        "from noise import snoise3\n",
        "import tensorflow_addons as tfa\n",
        "from tensorflow.keras.layers import Conv2D, BatchNormalization, Activation, Add, GlobalAveragePooling2D, Dense"
      ]
    },
    {
      "cell_type": "code",
      "source": [
        "#np.random.seed(1)\n",
        "noise = generate_perlin_noise_2d((28, 28), (2, 2))\n",
        "noise = np.clip(noise,0,1)\n",
        "plt.imshow(noise, cmap='gray', interpolation='lanczos')\n",
        "plt.colorbar()"
      ],
      "metadata": {
        "id": "xHHcEjut8gxn",
        "outputId": "30049f43-0469-4abd-b6a0-69cd73297f72",
        "colab": {
          "base_uri": "https://localhost:8080/",
          "height": 448
        }
      },
      "execution_count": 5,
      "outputs": [
        {
          "output_type": "execute_result",
          "data": {
            "text/plain": [
              "<matplotlib.colorbar.Colorbar at 0x7dabd3a1f5e0>"
            ]
          },
          "metadata": {},
          "execution_count": 5
        },
        {
          "output_type": "display_data",
          "data": {
            "text/plain": [
              "<Figure size 640x480 with 2 Axes>"
            ],
            "image/png": "[encoded data removed]"
          },
          "metadata": {}
        }
      ]
    },
    {
      "cell_type": "code",
      "execution_count": 6,
      "metadata": {
        "id": "Yn4y2vCkggU1",
        "outputId": "19e98056-0bba-4c5a-d281-08a2bd34184e",
        "colab": {
          "base_uri": "https://localhost:8080/"
        }
      },
      "outputs": [
        {
          "output_type": "stream",
          "name": "stdout",
          "text": [
            "Downloading data from https://storage.googleapis.com/tensorflow/tf-keras-datasets/mnist.npz\n",
            "11490434/11490434 [==============================] - 0s 0us/step\n",
            "(28, 28)\n",
            "60000\n"
          ]
        }
      ],
      "source": [
        "\n",
        "\n",
        "# Load MNIST dataset\n",
        "(x_train, y_train), (_, _) = tf.keras.datasets.mnist.load_data()\n",
        "\n",
        "# Normalize the images to [-1, 1]\n",
        "#x_train = (x_train.astype(\"float32\") - 127.5) / 127.5\n",
        "#y_train = y_train.reshape(-1, 1)\n",
        "x_train = (x_train.astype(\"float32\")) / np.max(x_train)\n",
        "\n",
        "\n",
        "# Example usage\n",
        "image_index = 0  # Index of the image you want to retrieve\n",
        "image = x_train[image_index]\n",
        "print(image.shape)\n",
        "print(x_train.shape[0])\n"
      ]
    },
    {
      "cell_type": "code",
      "execution_count": 7,
      "metadata": {
        "id": "byx5STHdwA97",
        "outputId": "ff8897ae-2977-4973-d7be-bebe560ef398",
        "colab": {
          "base_uri": "https://localhost:8080/"
        }
      },
      "outputs": [
        {
          "output_type": "stream",
          "name": "stdout",
          "text": [
            "1.0\n"
          ]
        }
      ],
      "source": [
        "print(np.max(x_train))"
      ]
    },
    {
      "cell_type": "code",
      "execution_count": 160,
      "metadata": {
        "id": "1m-N_UiQwA98"
      },
      "outputs": [],
      "source": [
        "x_train2 = x_train[:500]\n",
        "y_train2 = y_train[:500]"
      ]
    },
    {
      "cell_type": "code",
      "source": [
        "class AddNoiseLayer(tf.keras.layers.Layer):\n",
        "    def __init__(self, stddev, probability, **kwargs):\n",
        "        super(AddNoiseLayer, self).__init__(**kwargs)\n",
        "        self.stddev = stddev\n",
        "        self.probability = probability\n",
        "\n",
        "    def call(self, inputs, training=None):\n",
        "        if training:\n",
        "\n",
        "            if tf.random.uniform(()) < self.probability:\n",
        "                perlin = generate_perlin_noise_2d((28, 28), (2, 2))\n",
        "                perlin = tf.convert_to_tensor(perlin, dtype=tf.float32)\n",
        "                perlin = tf.clip_by_value(perlin, 0, 1)\n",
        "                perlin = tf.reshape(perlin, (28, 28, 1))\n",
        "                noise = tf.random.normal(shape=tf.shape(inputs), mean=0.0, stddev=self.stddev, dtype=tf.float32)\n",
        "                output = inputs + noise * perlin\n",
        "                return tf.clip_by_value(output, 0, 1)\n",
        "            else:\n",
        "                return inputs\n",
        "        return inputs"
      ],
      "metadata": {
        "id": "hjyAeKZQhm_k"
      },
      "execution_count": 9,
      "outputs": []
    },
    {
      "cell_type": "code",
      "source": [
        "class AddNoiseLayertest(tf.keras.layers.Layer):\n",
        "    def __init__(self, stddev=.5, **kwargs):\n",
        "        super(AddNoiseLayertest, self).__init__(**kwargs)\n",
        "        self.stddev = stddev\n",
        "\n",
        "    def call(self, inputs, training=None):\n",
        "        if training:\n",
        "\n",
        "              perlin = generate_perlin_noise_2d((28, 28), (2, 2))\n",
        "              perlin = tf.convert_to_tensor(perlin, dtype=tf.float32)\n",
        "              perlin = tf.clip_by_value(perlin, 0, 1)\n",
        "              perlin = tf.reshape(perlin, (28, 28, 1))\n",
        "              noise = tf.random.normal(shape=tf.shape(inputs), mean=0.0, stddev=self.stddev, dtype=tf.float32)\n",
        "              output = inputs + noise * perlin\n",
        "              return tf.clip_by_value(output, 0, 1)\n",
        "        return inputs"
      ],
      "metadata": {
        "id": "ZcgySn2S7aV9"
      },
      "execution_count": 10,
      "outputs": []
    },
    {
      "cell_type": "code",
      "source": [
        "# Create a random 28x28 image tensor\n",
        "image = x_train[0]\n",
        "image = np.expand_dims(image,-1)\n",
        "# Instantiate the RandomNoiseLayer\n",
        "GaussianPerlinNoiseLayer = AddNoiseLayer(.5,.5)\n",
        "\n",
        "# Pass the image through the layer\n",
        "noisy_image = GaussianPerlinNoiseLayer(image,training=True)\n",
        "\n",
        "# Display the original and noisy images\n",
        "import matplotlib.pyplot as plt\n",
        "plt.subplot(1, 2, 1)\n",
        "plt.imshow(np.squeeze(image), cmap='gray')  # Display the original image\n",
        "plt.title('Original Image')\n",
        "plt.subplot(1, 2, 2)\n",
        "plt.imshow(np.squeeze(noisy_image), cmap='gray')  # Display the noisy image\n",
        "plt.title('Noisy Image')\n",
        "plt.show()\n",
        "\n",
        "print(noisy_image.shape)"
      ],
      "metadata": {
        "id": "2OrVx0P9a5b3",
        "outputId": "7277956b-9994-466a-e7f8-d327a193b868",
        "colab": {
          "base_uri": "https://localhost:8080/",
          "height": 326
        }
      },
      "execution_count": 11,
      "outputs": [
        {
          "output_type": "display_data",
          "data": {
            "text/plain": [
              "<Figure size 640x480 with 2 Axes>"
            ],
            "image/png": "[encoded data removed]"
          },
          "metadata": {}
        },
        {
          "output_type": "stream",
          "name": "stdout",
          "text": [
            "(28, 28, 1)\n"
          ]
        }
      ]
    },
    {
      "cell_type": "code",
      "source": [
        "class ResidualBlock(tf.keras.layers.Layer):\n",
        "    def __init__(self, filters, strides=1, activation='relu', **kwargs):\n",
        "        super(ResidualBlock, self).__init__(**kwargs)\n",
        "        self.filters = filters\n",
        "        self.strides = strides\n",
        "        self.activation = tf.keras.activations.get(activation)\n",
        "\n",
        "        self.conv1 = tf.keras.layers.Conv2D(filters, kernel_size=(3, 3), strides=strides, padding='same')\n",
        "        self.bn1 = tf.keras.layers.BatchNormalization()\n",
        "        self.conv2 = tf.keras.layers.Conv2D(filters, kernel_size=(3, 3), strides=1, padding='same')\n",
        "        self.bn2 = tf.keras.layers.BatchNormalization()\n",
        "        self.shortcut = tf.keras.layers.Conv2D(filters, kernel_size=(1, 1), strides=strides, padding='same')\n",
        "        self.shortcut_bn = tf.keras.layers.BatchNormalization()\n",
        "\n",
        "    def call(self, inputs, training=False):\n",
        "        x = self.conv1(inputs)\n",
        "        x = self.bn1(x, training=training)\n",
        "        x = self.activation(x)\n",
        "        x = self.conv2(x)\n",
        "        x = self.bn2(x, training=training)\n",
        "\n",
        "        shortcut = self.shortcut(inputs)\n",
        "        shortcut = self.shortcut_bn(shortcut, training=training)\n",
        "\n",
        "        x = tf.keras.layers.add([x, shortcut])\n",
        "        x = self.activation(x)\n",
        "\n",
        "        return x"
      ],
      "metadata": {
        "id": "d-drreNfINK-"
      },
      "execution_count": 12,
      "outputs": []
    },
    {
      "cell_type": "code",
      "execution_count": 13,
      "metadata": {
        "id": "Az37ZlN2wA98"
      },
      "outputs": [],
      "source": [
        "class CustomFullAug(tf.keras.layers.Layer):\n",
        "    def __init__(self, probability=.2,rot_factor=.2,height=.2,width=.2,stdev=.2):\n",
        "        super(CustomFullAug, self).__init__()\n",
        "        self.probability = probability\n",
        "\n",
        "        self.rot_factor = rot_factor\n",
        "        self.height = height\n",
        "        self.width = width\n",
        "        self.stdev = stdev\n",
        "        self.flip_layer = tf.keras.layers.RandomFlip()\n",
        "        self.zoom_layer = tf.keras.layers.RandomZoom(height_factor=height,width_factor=width)\n",
        "        self.rotation_layer = tf.keras.layers.RandomRotation(factor=rot_factor)\n",
        "        self.noise_layer = AddNoiseLayertest()\n",
        "\n",
        "    def call(self, inputs=.2, training=True):\n",
        "        if tf.random.uniform(()) < self.probability:\n",
        "            #flipped_data = self.flip_layer(inputs, training=training)\n",
        "            rotated_data = self.rotation_layer(inputs, training=training)\n",
        "            zoomed_data = self.zoom_layer(rotated_data, training=training)\n",
        "            noised = self.noise_layer(zoomed_data, training=training)\n",
        "            return noised\n",
        "        else:\n",
        "            return inputs"
      ]
    },
    {
      "cell_type": "code",
      "execution_count": 14,
      "metadata": {
        "id": "PQmqod6AwA99"
      },
      "outputs": [],
      "source": [
        "\n",
        "class CustomFlipLayer(tf.keras.layers.Layer):\n",
        "    def __init__(self, probability):\n",
        "        super(CustomFlipLayer, self).__init__()\n",
        "        self.probability = probability\n",
        "        self.flip_layer = tf.keras.layers.RandomFlip()\n",
        "\n",
        "    def call(self, inputs=.2, training=True):\n",
        "        if tf.random.uniform(()) < self.probability:\n",
        "            flipped_data = self.flip_layer(inputs, training=training)\n",
        "            return flipped_data\n",
        "        else:\n",
        "            return inputs"
      ]
    },
    {
      "cell_type": "code",
      "execution_count": 15,
      "metadata": {
        "id": "R9x_RWeTwA9-"
      },
      "outputs": [],
      "source": [
        "class CustomRotationLayer(tf.keras.layers.Layer):\n",
        "    def __init__(self, probability, factor):\n",
        "        super(CustomRotationLayer, self).__init__()\n",
        "        self.probability = probability\n",
        "        self.factor = factor\n",
        "        self.rotation_layer = tf.keras.layers.RandomRotation(factor=factor)\n",
        "\n",
        "    def call(self, inputs, training=True):\n",
        "        if tf.random.uniform(()) < self.probability:\n",
        "            rotated_data = self.rotation_layer(inputs, training=training)\n",
        "            return rotated_data\n",
        "        else:\n",
        "            return inputs"
      ]
    },
    {
      "cell_type": "code",
      "execution_count": 16,
      "metadata": {
        "id": "UyP6lt7NwA9_"
      },
      "outputs": [],
      "source": [
        "class CustomZoomLayer(tf.keras.layers.Layer):\n",
        "    def __init__(self, probability,height, width):\n",
        "        super(CustomZoomLayer, self).__init__()\n",
        "        self.probability = probability\n",
        "        self.height = height\n",
        "        self.width = width\n",
        "        self.zoom_layer = tf.keras.layers.RandomZoom(height_factor=height,width_factor=width)\n",
        "\n",
        "    def call(self, inputs, training=False):\n",
        "        if tf.random.uniform(()) < self.probability:\n",
        "            zoomed_data = self.zoom_layer(inputs, training=training)\n",
        "            return zoomed_data\n",
        "        else:\n",
        "            return inputs"
      ]
    },
    {
      "cell_type": "code",
      "source": [
        "def build_generator():\n",
        "    noise_shape = (28,28,1)\n",
        "    noise = layers.Input(shape=noise_shape)\n",
        "    input_digit = layers.Input(shape=(1,), dtype=\"int32\")\n",
        "    digit_embedding = layers.Embedding(10, 28*28)(input_digit)\n",
        "    digit_embedding = layers.Reshape((28, 28, 1))(digit_embedding)\n",
        "\n",
        "    x = layers.Concatenate()([noise, digit_embedding])\n",
        "\n",
        "    x1 = layers.Conv2D(128, kernel_size=2, strides=2, padding='same', activation='relu')(x)\n",
        "    x1 = layers.BatchNormalization()(x1)\n",
        "    x1 = layers.Dropout(0.5)(x1)\n",
        "\n",
        "    x2 = layers.Conv2D(128, kernel_size=2, strides=1, padding='same', activation='relu')(x1)\n",
        "    x2 = layers.BatchNormalization()(x2)\n",
        "    x2 = layers.Dropout(0.5)(x2)\n",
        "\n",
        "    x3 = layers.Conv2D(128, kernel_size=2, strides=1, padding='same', activation='relu')(x2)\n",
        "    x3 = layers.BatchNormalization()(x3)\n",
        "    x3 = layers.Dropout(0.5)(x3)\n",
        "\n",
        "    x4 = layers.Conv2DTranspose(128, 2, strides=1, padding=\"same\", activation=\"relu\")(x3)\n",
        "    x4 = layers.BatchNormalization()(x4)\n",
        "    x4 = layers.Dropout(0.5)(x4)\n",
        "\n",
        "    x5 = layers.Conv2DTranspose(128, 2, strides=1, padding=\"same\", activation=\"relu\")(x4)\n",
        "    x5 = layers.BatchNormalization()(x5)\n",
        "    x5 = layers.Dropout(0.5)(x5)\n",
        "\n",
        "    x6 = layers.Conv2DTranspose(128, 2, strides=2, padding=\"same\", activation=\"relu\")(x5)\n",
        "    x6 = layers.BatchNormalization()(x6)\n",
        "    x6 = layers.Dropout(0.5)(x6)\n",
        "\n",
        "    # Upsample x3 to match the shape of x6\n",
        "    x3_upsampled = layers.UpSampling2D()(x3)\n",
        "    x3_upsampled = layers.Conv2D(1,(1,1))(x3_upsampled)\n",
        "\n",
        "    # Skip connection from upsampled x3 to x6\n",
        "    x6 = layers.Add()([x3_upsampled, x6])\n",
        "\n",
        "    x7 = layers.Conv2D(1, kernel_size=2, strides=1, padding='same', activation='sigmoid')(x6)\n",
        "\n",
        "    model = tf.keras.models.Model(inputs=[noise, input_digit], outputs=x7)\n",
        "    return model\n",
        "\n",
        "generator = build_generator()\n",
        "generator.summary()"
      ],
      "metadata": {
        "id": "vyOx5JqbrffI",
        "outputId": "f072d2fc-5785-4b53-8459-dd2f80df2837",
        "colab": {
          "base_uri": "https://localhost:8080/"
        }
      },
      "execution_count": 154,
      "outputs": [
        {
          "output_type": "stream",
          "name": "stdout",
          "text": [
            "Model: \"model_50\"\n",
            "__________________________________________________________________________________________________\n",
            " Layer (type)                   Output Shape         Param #     Connected to                     \n",
            "==================================================================================================\n",
            " input_120 (InputLayer)         [(None, 1)]          0           []                               \n",
            "                                                                                                  \n",
            " embedding_44 (Embedding)       (None, 1, 784)       7840        ['input_120[0][0]']              \n",
            "                                                                                                  \n",
            " input_119 (InputLayer)         [(None, 28, 28, 1)]  0           []                               \n",
            "                                                                                                  \n",
            " reshape_47 (Reshape)           (None, 28, 28, 1)    0           ['embedding_44[0][0]']           \n",
            "                                                                                                  \n",
            " concatenate_43 (Concatenate)   (None, 28, 28, 2)    0           ['input_119[0][0]',              \n",
            "                                                                  'reshape_47[0][0]']             \n",
            "                                                                                                  \n",
            " conv2d_164 (Conv2D)            (None, 14, 14, 128)  1152        ['concatenate_43[0][0]']         \n",
            "                                                                                                  \n",
            " batch_normalization_72 (BatchN  (None, 14, 14, 128)  512        ['conv2d_164[0][0]']             \n",
            " ormalization)                                                                                    \n",
            "                                                                                                  \n",
            " dropout_106 (Dropout)          (None, 14, 14, 128)  0           ['batch_normalization_72[0][0]'] \n",
            "                                                                                                  \n",
            " conv2d_165 (Conv2D)            (None, 14, 14, 128)  65664       ['dropout_106[0][0]']            \n",
            "                                                                                                  \n",
            " batch_normalization_73 (BatchN  (None, 14, 14, 128)  512        ['conv2d_165[0][0]']             \n",
            " ormalization)                                                                                    \n",
            "                                                                                                  \n",
            " dropout_107 (Dropout)          (None, 14, 14, 128)  0           ['batch_normalization_73[0][0]'] \n",
            "                                                                                                  \n",
            " conv2d_166 (Conv2D)            (None, 14, 14, 128)  65664       ['dropout_107[0][0]']            \n",
            "                                                                                                  \n",
            " batch_normalization_74 (BatchN  (None, 14, 14, 128)  512        ['conv2d_166[0][0]']             \n",
            " ormalization)                                                                                    \n",
            "                                                                                                  \n",
            " dropout_108 (Dropout)          (None, 14, 14, 128)  0           ['batch_normalization_74[0][0]'] \n",
            "                                                                                                  \n",
            " conv2d_transpose_43 (Conv2DTra  (None, 14, 14, 128)  65664      ['dropout_108[0][0]']            \n",
            " nspose)                                                                                          \n",
            "                                                                                                  \n",
            " batch_normalization_75 (BatchN  (None, 14, 14, 128)  512        ['conv2d_transpose_43[0][0]']    \n",
            " ormalization)                                                                                    \n",
            "                                                                                                  \n",
            " dropout_109 (Dropout)          (None, 14, 14, 128)  0           ['batch_normalization_75[0][0]'] \n",
            "                                                                                                  \n",
            " conv2d_transpose_44 (Conv2DTra  (None, 14, 14, 128)  65664      ['dropout_109[0][0]']            \n",
            " nspose)                                                                                          \n",
            "                                                                                                  \n",
            " batch_normalization_76 (BatchN  (None, 14, 14, 128)  512        ['conv2d_transpose_44[0][0]']    \n",
            " ormalization)                                                                                    \n",
            "                                                                                                  \n",
            " dropout_110 (Dropout)          (None, 14, 14, 128)  0           ['batch_normalization_76[0][0]'] \n",
            "                                                                                                  \n",
            " conv2d_transpose_45 (Conv2DTra  (None, 28, 28, 128)  65664      ['dropout_110[0][0]']            \n",
            " nspose)                                                                                          \n",
            "                                                                                                  \n",
            " up_sampling2d_14 (UpSampling2D  (None, 28, 28, 128)  0          ['dropout_108[0][0]']            \n",
            " )                                                                                                \n",
            "                                                                                                  \n",
            " batch_normalization_77 (BatchN  (None, 28, 28, 128)  512        ['conv2d_transpose_45[0][0]']    \n",
            " ormalization)                                                                                    \n",
            "                                                                                                  \n",
            " conv2d_167 (Conv2D)            (None, 28, 28, 1)    129         ['up_sampling2d_14[0][0]']       \n",
            "                                                                                                  \n",
            " dropout_111 (Dropout)          (None, 28, 28, 128)  0           ['batch_normalization_77[0][0]'] \n",
            "                                                                                                  \n",
            " add_8 (Add)                    (None, 28, 28, 128)  0           ['conv2d_167[0][0]',             \n",
            "                                                                  'dropout_111[0][0]']            \n",
            "                                                                                                  \n",
            " conv2d_168 (Conv2D)            (None, 28, 28, 1)    513         ['add_8[0][0]']                  \n",
            "                                                                                                  \n",
            "==================================================================================================\n",
            "Total params: 341,026\n",
            "Trainable params: 339,490\n",
            "Non-trainable params: 1,536\n",
            "__________________________________________________________________________________________________\n"
          ]
        }
      ]
    },
    {
      "cell_type": "code",
      "source": [
        "class ResnetBlock(layers.Layer):\n",
        "    def __init__(self, filters, strides=1):\n",
        "        super(ResnetBlock, self).__init__()\n",
        "        self.filters = filters\n",
        "        self.strides = strides\n",
        "\n",
        "        self.conv1 = layers.Conv2D(filters, (3, 3), strides=strides, padding='same')\n",
        "        self.bn1 = layers.BatchNormalization()\n",
        "\n",
        "        self.conv2 = layers.Conv2D(filters, (3, 3), strides=1, padding='same')\n",
        "        self.bn2 = layers.BatchNormalization()\n",
        "\n",
        "        if strides != 1:\n",
        "            self.residual = layers.Conv2D(filters, (1, 1), strides=strides)\n",
        "        else:\n",
        "            self.residual = lambda x: x\n",
        "\n",
        "    def call(self, inputs, training=False):\n",
        "        res = self.residual(inputs)\n",
        "\n",
        "        x = self.conv1(inputs)\n",
        "        x = self.bn1(x, training=training)\n",
        "        x = tf.nn.relu(x)\n",
        "\n",
        "        x = self.conv2(x)\n",
        "        x = self.bn2(x, training=training)\n",
        "\n",
        "        x += res\n",
        "        return tf.nn.relu(x)"
      ],
      "metadata": {
        "id": "_uz0NXfLw7qi"
      },
      "execution_count": 149,
      "outputs": []
    },
    {
      "cell_type": "code",
      "execution_count": 152,
      "metadata": {
        "colab": {
          "base_uri": "https://localhost:8080/"
        },
        "id": "Gh2ORgUybdzt",
        "outputId": "699a8d11-49ef-45ee-9df3-d9c414e18bbf"
      },
      "outputs": [
        {
          "output_type": "stream",
          "name": "stdout",
          "text": [
            "Model: \"model_48\"\n",
            "__________________________________________________________________________________________________\n",
            " Layer (type)                   Output Shape         Param #     Connected to                     \n",
            "==================================================================================================\n",
            " input_116 (InputLayer)         [(None, 1)]          0           []                               \n",
            "                                                                                                  \n",
            " embedding_43 (Embedding)       (None, 1, 784)       7840        ['input_116[0][0]']              \n",
            "                                                                                                  \n",
            " input_115 (InputLayer)         [(None, 28, 28, 1)]  0           []                               \n",
            "                                                                                                  \n",
            " reshape_46 (Reshape)           (None, 28, 28, 1)    0           ['embedding_43[0][0]']           \n",
            "                                                                                                  \n",
            " concatenate_42 (Concatenate)   (None, 28, 28, 2)    0           ['input_115[0][0]',              \n",
            "                                                                  'reshape_46[0][0]']             \n",
            "                                                                                                  \n",
            " resnet_block_6 (ResnetBlock)   (None, 14, 14, 64)   38848       ['concatenate_42[0][0]']         \n",
            "                                                                                                  \n",
            " resnet_block_7 (ResnetBlock)   (None, 7, 7, 64)     78528       ['resnet_block_6[0][0]']         \n",
            "                                                                                                  \n",
            " resnet_block_8 (ResnetBlock)   (None, 4, 4, 64)     78528       ['resnet_block_7[0][0]']         \n",
            "                                                                                                  \n",
            " resnet_block_9 (ResnetBlock)   (None, 2, 2, 64)     78528       ['resnet_block_8[0][0]']         \n",
            "                                                                                                  \n",
            " flatten_23 (Flatten)           (None, 256)          0           ['resnet_block_9[0][0]']         \n",
            "                                                                                                  \n",
            " dense_29 (Dense)               (None, 1)            257         ['flatten_23[0][0]']             \n",
            "                                                                                                  \n",
            "==================================================================================================\n",
            "Total params: 282,529\n",
            "Trainable params: 281,505\n",
            "Non-trainable params: 1,024\n",
            "__________________________________________________________________________________________________\n"
          ]
        }
      ],
      "source": [
        "\n",
        "def build_discriminator():\n",
        "    input_image = layers.Input(shape=(28, 28, 1))\n",
        "    digit_input = layers.Input(shape=(1,), dtype=\"int32\")\n",
        "    digit_embedding_2d = layers.Embedding(10, 28*28)(digit_input)\n",
        "    digit_embedding_2d = layers.Reshape((28, 28, 1))(digit_embedding_2d)\n",
        "\n",
        "    #noise = AddNoiseLayer(stddev=0.2,probability=.1)(input_image)  # Pass the input image through the PerlinNoiseLayer\n",
        "    #aug = CustomFullAug(probability=.01)(input_image)\n",
        "    merged_input = layers.Concatenate()([input_image, digit_embedding_2d])\n",
        "\n",
        "    x = ResnetBlock(64,2)(merged_input)\n",
        "    x = ResnetBlock(64,2)(x)\n",
        "    x = ResnetBlock(64,2)(x)\n",
        "    x = ResnetBlock(64,2)(x)\n",
        "\n",
        "\n",
        "    x = layers.Flatten()(x)\n",
        "    x = layers.Dense(1, activation=\"sigmoid\")(x)\n",
        "\n",
        "    model = tf.keras.models.Model(inputs=[input_image, digit_input], outputs=x)\n",
        "    return model\n",
        "\n",
        "discriminator = build_discriminator()\n",
        "discriminator.summary()"
      ]
    },
    {
      "cell_type": "code",
      "execution_count": 155,
      "metadata": {
        "colab": {
          "base_uri": "https://localhost:8080/"
        },
        "id": "AJslCMmLbhHU",
        "outputId": "4f8ad4ec-65e9-4281-d535-1739810ee374"
      },
      "outputs": [
        {
          "output_type": "stream",
          "name": "stdout",
          "text": [
            "Model: \"model_51\"\n",
            "__________________________________________________________________________________________________\n",
            " Layer (type)                   Output Shape         Param #     Connected to                     \n",
            "==================================================================================================\n",
            " input_121 (InputLayer)         [(None, 28, 28, 1)]  0           []                               \n",
            "                                                                                                  \n",
            " input_122 (InputLayer)         [(None, 1)]          0           []                               \n",
            "                                                                                                  \n",
            " model_50 (Functional)          (None, 28, 28, 1)    341026      ['input_121[0][0]',              \n",
            "                                                                  'input_122[0][0]']              \n",
            "                                                                                                  \n",
            " model_48 (Functional)          (None, 1)            282529      ['model_50[0][0]',               \n",
            "                                                                  'input_122[0][0]']              \n",
            "                                                                                                  \n",
            "==================================================================================================\n",
            "Total params: 623,555\n",
            "Trainable params: 620,995\n",
            "Non-trainable params: 2,560\n",
            "__________________________________________________________________________________________________\n"
          ]
        }
      ],
      "source": [
        "# Define the GAN model\n",
        "def build_gan(generator, discriminator):\n",
        "    noise_shape = (28,28,1)\n",
        "    digit_shape = (1,)\n",
        "    noise = layers.Input(shape=noise_shape)\n",
        "    digit = layers.Input(shape=digit_shape)\n",
        "\n",
        "    generated_image = generator([noise, digit])\n",
        "\n",
        "    discriminator_output = discriminator([generated_image, digit])\n",
        "    model = tf.keras.models.Model(inputs=[noise, digit], outputs=discriminator_output)\n",
        "    return model\n",
        "\n",
        "gan = build_gan(generator, discriminator)\n",
        "gan.summary()\n",
        "\n",
        "\n"
      ]
    },
    {
      "cell_type": "code",
      "execution_count": 156,
      "metadata": {
        "id": "aFFOfuDfbpD9"
      },
      "outputs": [],
      "source": [
        "# Compile models\n",
        "generator_optimizer = tf.keras.optimizers.Adam(1e-4)\n",
        "discriminator_optimizer = tf.keras.optimizers.Adam(1e-4)\n",
        "\n",
        "generator_optimizer = tf.keras.optimizers.experimental.SGD(1e-4)\n",
        "discriminator_optimizer = tf.keras.optimizers.experimental.SGD(1e-4)"
      ]
    },
    {
      "cell_type": "code",
      "execution_count": 157,
      "metadata": {
        "id": "T3PtShxlbn9c"
      },
      "outputs": [],
      "source": [
        "def discriminator_loss(real_output, fake_output):\n",
        "    real_loss = tf.keras.losses.BinaryCrossentropy()(tf.ones_like(real_output), real_output)\n",
        "    fake_loss = tf.keras.losses.BinaryCrossentropy()(tf.zeros_like(fake_output), fake_output)\n",
        "    total_loss = real_loss + fake_loss\n",
        "    return total_loss\n",
        "\n",
        "def generator_loss(fake_output):\n",
        "    return tf.keras.losses.BinaryCrossentropy()(tf.ones_like(fake_output), fake_output)\n",
        "\n"
      ]
    },
    {
      "cell_type": "code",
      "source": [
        "def compute_ssim(images):\n",
        "    combined_ssim = 0.0\n",
        "    num_pairs = 0\n",
        "\n",
        "    for i in range(len(images)):\n",
        "        for j in range(i+1, len(images)):\n",
        "            ssim = tf.image.ssim(images[i], images[j], max_val=1.0)\n",
        "            combined_ssim += ssim\n",
        "            num_pairs += 1\n",
        "\n",
        "    if num_pairs > 0:\n",
        "        combined_ssim /= num_pairs\n",
        "\n",
        "    return combined_ssim"
      ],
      "metadata": {
        "id": "ClziHF7K8zRd"
      },
      "execution_count": 158,
      "outputs": []
    },
    {
      "cell_type": "code",
      "source": [
        "@tf.function\n",
        "def train_step(images, labels,num_unrolling_steps):\n",
        "    batch_size = images.shape[0]\n",
        "    noise = tf.random.normal([batch_size, 28, 28, 1])\n",
        "\n",
        "\n",
        "    generated_images = generator([noise, labels], training=True)\n",
        "    real_output = discriminator([images, labels], training=True)\n",
        "    fake_output = discriminator([generated_images, labels], training=True)\n",
        "    disc_loss = discriminator_loss(real_output, fake_output)\n",
        "    gen_loss = generator_loss(fake_output)\n",
        "\n",
        "\n",
        "    for _ in range(num_unrolling_steps if disc_loss>.5 else 1):\n",
        "        with tf.GradientTape() as disc_tape:\n",
        "            generated_images = generator([noise, labels], training=True)\n",
        "\n",
        "            real_output = discriminator([images, labels], training=True)\n",
        "            fake_output = discriminator([generated_images, labels], training=True)\n",
        "\n",
        "            disc_loss = discriminator_loss(real_output, fake_output)\n",
        "\n",
        "        gradients_of_discriminator = disc_tape.gradient(disc_loss, discriminator.trainable_variables)\n",
        "        discriminator_optimizer.apply_gradients(zip(gradients_of_discriminator, discriminator.trainable_variables))\n",
        "\n",
        "    with tf.GradientTape() as gen_tape:\n",
        "        generated_images = generator([noise, labels], training=True)\n",
        "        fake_output = discriminator([generated_images, labels], training=True)\n",
        "        ssim = compute_ssim(generated_images[:5])\n",
        "        #gen_loss += ssim*.2\n",
        "        gen_loss = generator_loss(fake_output)\n",
        "    gradients_of_generator = gen_tape.gradient(gen_loss, generator.trainable_variables)\n",
        "    generator_optimizer.apply_gradients(zip(gradients_of_generator, generator.trainable_variables))\n",
        "\n",
        "\n",
        "\n",
        "    tf.print(\"disc_loss\",disc_loss,'gen_loss',gen_loss,'ssim',ssim)\n",
        "def train(generator, discriminator, gan, epochs, batch_size,num_unrolling_steps):\n",
        "    for epoch in range(epochs):\n",
        "        for batch in range(len(x_train2) // batch_size):\n",
        "            images = x_train2[batch * batch_size: (batch+1) * batch_size]\n",
        "            labels = y_train2[batch * batch_size: (batch+1) * batch_size]\n",
        "\n",
        "            train_step(images, labels,num_unrolling_steps)\n",
        "\n",
        "        # Output training progress\n",
        "        if (epoch + 1) % 5 == 0:\n",
        "            print(f\"Epoch {epoch+1}/{epochs}\")\n",
        "            # Generate and save sample images\n",
        "            noise = tf.random.normal([10, 28, 28, 1])\n",
        "            sampled_labels = tf.constant([[i % 10] for i in range(10)], dtype=tf.int32)\n",
        "            generated_images = generator.predict([noise, sampled_labels])\n",
        "            generated_images = generated_images#(generated_images * 0.5) + 0.5  # Rescale images from [-1, 1] to [0, 1]\n",
        "            fig, axs = plt.subplots(1, 10, figsize=(10, 10))\n",
        "            for i in range(10):\n",
        "                axs[i].imshow(generated_images[i], cmap=\"gray\")\n",
        "                axs[i].axis(\"off\")\n",
        "            plt.show()\n",
        "\n",
        "# Train the GAN\n",
        "EPOCHS = 20000\n",
        "BATCH_SIZE = 100\n",
        "num_unrolling_steps = 5  # Set the desired number of unrolling steps\n",
        "train(generator, discriminator, gan, EPOCHS, BATCH_SIZE,num_unrolling_steps=num_unrolling_steps)"
      ],
      "metadata": {
        "id": "I9tkhx29t3tc",
        "outputId": "2bf8ba03-4151-4776-e3b7-d022a8595c3f",
        "colab": {
          "base_uri": "https://localhost:8080/",
          "height": 906
        }
      },
      "execution_count": null,
      "outputs": [
        {
          "output_type": "stream",
          "name": "stdout",
          "text": [
            "disc_loss 0.96572268 gen_loss 1.06365466 ssim 0.0318840258\n",
            "disc_loss 1.12490618 gen_loss 1.00804186 ssim 0.0448272601\n",
            "disc_loss 1.19142318 gen_loss 1.03826332 ssim 0.0177723635\n",
            "disc_loss 1.24705029 gen_loss 1.00673652 ssim 0.00811948627\n",
            "disc_loss 1.08381248 gen_loss 1.10133576 ssim 0.0184860658\n",
            "disc_loss 0.96885407 gen_loss 1.04465544 ssim 0.0017316736\n",
            "disc_loss 1.07932568 gen_loss 1.08360529 ssim 0.00150726514\n",
            "disc_loss 1.16945648 gen_loss 1.07664311 ssim 0.0102487803\n",
            "disc_loss 1.18412197 gen_loss 1.09527385 ssim -0.00161215477\n",
            "disc_loss 1.06302547 gen_loss 1.06346667 ssim 0.0222499948\n",
            "disc_loss 0.902072191 gen_loss 1.0777185 ssim 0.0193374362\n",
            "disc_loss 1.04754686 gen_loss 1.03862703 ssim 0.0129477922\n",
            "disc_loss 1.08307254 gen_loss 1.08305538 ssim -0.00178759324\n",
            "disc_loss 1.06603479 gen_loss 1.1074965 ssim 0.00430996111\n",
            "disc_loss 0.968672514 gen_loss 1.123492 ssim 0.0140421009\n",
            "disc_loss 0.810762286 gen_loss 1.17847705 ssim 0.0278015584\n",
            "disc_loss 0.969865501 gen_loss 1.167207 ssim 0.0197076537\n",
            "disc_loss 1.10419011 gen_loss 1.12752044 ssim 0.0134134442\n",
            "disc_loss 1.02461076 gen_loss 1.06543171 ssim 0.00934929866\n",
            "disc_loss 0.965415 gen_loss 1.07847142 ssim 0.0206333343\n",
            "disc_loss 0.789580822 gen_loss 1.1201303 ssim 0.00845093094\n",
            "disc_loss 0.921875119 gen_loss 1.08649778 ssim 0.0120971901\n",
            "disc_loss 0.967869163 gen_loss 1.12595081 ssim 0.0114327883\n",
            "disc_loss 1.0260849 gen_loss 1.16697812 ssim 0.0103012761\n",
            "disc_loss 0.886911333 gen_loss 1.14648008 ssim 0.00267971749\n",
            "Epoch 5/20000\n",
            "1/1 [==============================] - 0s 84ms/step\n"
          ]
        },
        {
          "output_type": "display_data",
          "data": {
            "text/plain": [
              "<Figure size 1000x1000 with 10 Axes>"
            ],
            "image/png": "[encoded data removed]"
          },
          "metadata": {}
        },
        {
          "output_type": "stream",
          "name": "stdout",
          "text": [
            "disc_loss 0.797837734 gen_loss 1.17923975 ssim 0.00138479029\n",
            "disc_loss 0.870953321 gen_loss 1.14086115 ssim 0.0180431493\n",
            "disc_loss 0.926340401 gen_loss 1.12039697 ssim -0.00719971349\n",
            "disc_loss 0.931376815 gen_loss 1.15603256 ssim 0.00162694452\n",
            "disc_loss 0.848856688 gen_loss 1.27008498 ssim -0.00118867308\n",
            "disc_loss 0.72120434 gen_loss 1.16812968 ssim -0.016622914\n",
            "disc_loss 0.79092139 gen_loss 1.27267492 ssim 0.0136196613\n",
            "disc_loss 0.947948456 gen_loss 1.24027109 ssim 0.0398052819\n",
            "disc_loss 0.913804054 gen_loss 1.0955807 ssim 0.0453017764\n",
            "disc_loss 0.875349879 gen_loss 1.21154761 ssim -0.0274678\n",
            "disc_loss 0.709833443 gen_loss 1.20303655 ssim -0.0209752303\n",
            "disc_loss 0.785735548 gen_loss 1.31426477 ssim -0.0119996266\n",
            "disc_loss 0.847578883 gen_loss 1.23299587 ssim -0.0133530376\n",
            "disc_loss 0.872848868 gen_loss 1.33769 ssim 0.021176314\n",
            "disc_loss 0.776872814 gen_loss 1.28443384 ssim -0.0236177053\n",
            "disc_loss 0.675626636 gen_loss 1.32633579 ssim -0.0108622797\n",
            "disc_loss 0.743757367 gen_loss 1.32151234 ssim 0.0305008683\n"
          ]
        }
      ]
    }
  ],
  "metadata": {
    "colab": {
      "name": "Overview of Colaboratory Features",
      "provenance": [],
      "include_colab_link": true
    },
    "kernelspec": {
      "display_name": "Python 3 (ipykernel)",
      "language": "python",
      "name": "python3"
    },
    "language_info": {
      "codemirror_mode": {
        "name": "ipython",
        "version": 3
      },
      "file_extension": ".py",
      "mimetype": "text/x-python",
      "name": "python",
      "nbconvert_exporter": "python",
      "pygments_lexer": "ipython3",
      "version": "3.8.10"
    }
  },
  "nbformat": 4,
  "nbformat_minor": 0
}