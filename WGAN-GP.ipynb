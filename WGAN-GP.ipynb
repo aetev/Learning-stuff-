{
  "cells": [
    {
      "cell_type": "markdown",
      "metadata": {
        "id": "view-in-github",
        "colab_type": "text"
      },
      "source": [
        "<a href=\"https://colab.research.google.com/github/aetev/Learning-stuff-/blob/main/WGAN-GP.ipynb\" target=\"_parent\"><img src=\"https://colab.research.google.com/assets/colab-badge.svg\" alt=\"Open In Colab\"/></a>"
      ]
    },
    {
      "cell_type": "code",
      "execution_count": 1,
      "metadata": {
        "colab": {
          "base_uri": "https://localhost:8080/"
        },
        "id": "-g36b6KfZQeH",
        "outputId": "79952dc5-45bf-4770-f7de-0e5f7665feee"
      },
      "outputs": [
        {
          "output_type": "stream",
          "name": "stdout",
          "text": [
            "Requirement already satisfied: librosa in /usr/local/lib/python3.10/dist-packages (0.10.0.post2)\n",
            "Requirement already satisfied: audioread>=2.1.9 in /usr/local/lib/python3.10/dist-packages (from librosa) (3.0.0)\n",
            "Requirement already satisfied: numpy!=1.22.0,!=1.22.1,!=1.22.2,>=1.20.3 in /usr/local/lib/python3.10/dist-packages (from librosa) (1.23.5)\n",
            "Requirement already satisfied: scipy>=1.2.0 in /usr/local/lib/python3.10/dist-packages (from librosa) (1.10.1)\n",
            "Requirement already satisfied: scikit-learn>=0.20.0 in /usr/local/lib/python3.10/dist-packages (from librosa) (1.2.2)\n",
            "Requirement already satisfied: joblib>=0.14 in /usr/local/lib/python3.10/dist-packages (from librosa) (1.3.2)\n",
            "Requirement already satisfied: decorator>=4.3.0 in /usr/local/lib/python3.10/dist-packages (from librosa) (4.4.2)\n",
            "Requirement already satisfied: numba>=0.51.0 in /usr/local/lib/python3.10/dist-packages (from librosa) (0.56.4)\n",
            "Requirement already satisfied: soundfile>=0.12.1 in /usr/local/lib/python3.10/dist-packages (from librosa) (0.12.1)\n",
            "Requirement already satisfied: pooch<1.7,>=1.0 in /usr/local/lib/python3.10/dist-packages (from librosa) (1.6.0)\n",
            "Requirement already satisfied: soxr>=0.3.2 in /usr/local/lib/python3.10/dist-packages (from librosa) (0.3.5)\n",
            "Requirement already satisfied: typing-extensions>=4.1.1 in /usr/local/lib/python3.10/dist-packages (from librosa) (4.7.1)\n",
            "Requirement already satisfied: lazy-loader>=0.1 in /usr/local/lib/python3.10/dist-packages (from librosa) (0.3)\n",
            "Requirement already satisfied: msgpack>=1.0 in /usr/local/lib/python3.10/dist-packages (from librosa) (1.0.5)\n",
            "Requirement already satisfied: llvmlite<0.40,>=0.39.0dev0 in /usr/local/lib/python3.10/dist-packages (from numba>=0.51.0->librosa) (0.39.1)\n",
            "Requirement already satisfied: setuptools in /usr/local/lib/python3.10/dist-packages (from numba>=0.51.0->librosa) (67.7.2)\n",
            "Requirement already satisfied: appdirs>=1.3.0 in /usr/local/lib/python3.10/dist-packages (from pooch<1.7,>=1.0->librosa) (1.4.4)\n",
            "Requirement already satisfied: packaging>=20.0 in /usr/local/lib/python3.10/dist-packages (from pooch<1.7,>=1.0->librosa) (23.1)\n",
            "Requirement already satisfied: requests>=2.19.0 in /usr/local/lib/python3.10/dist-packages (from pooch<1.7,>=1.0->librosa) (2.31.0)\n",
            "Requirement already satisfied: threadpoolctl>=2.0.0 in /usr/local/lib/python3.10/dist-packages (from scikit-learn>=0.20.0->librosa) (3.2.0)\n",
            "Requirement already satisfied: cffi>=1.0 in /usr/local/lib/python3.10/dist-packages (from soundfile>=0.12.1->librosa) (1.15.1)\n",
            "Requirement already satisfied: pycparser in /usr/local/lib/python3.10/dist-packages (from cffi>=1.0->soundfile>=0.12.1->librosa) (2.21)\n",
            "Requirement already satisfied: charset-normalizer<4,>=2 in /usr/local/lib/python3.10/dist-packages (from requests>=2.19.0->pooch<1.7,>=1.0->librosa) (3.2.0)\n",
            "Requirement already satisfied: idna<4,>=2.5 in /usr/local/lib/python3.10/dist-packages (from requests>=2.19.0->pooch<1.7,>=1.0->librosa) (3.4)\n",
            "Requirement already satisfied: urllib3<3,>=1.21.1 in /usr/local/lib/python3.10/dist-packages (from requests>=2.19.0->pooch<1.7,>=1.0->librosa) (2.0.4)\n",
            "Requirement already satisfied: certifi>=2017.4.17 in /usr/local/lib/python3.10/dist-packages (from requests>=2.19.0->pooch<1.7,>=1.0->librosa) (2023.7.22)\n"
          ]
        }
      ],
      "source": [
        "\n",
        "!pip install librosa"
      ]
    },
    {
      "cell_type": "code",
      "source": [
        "from google.colab import drive\n",
        "drive.mount('/content/drive')"
      ],
      "metadata": {
        "id": "kq4KEMDwylHv",
        "outputId": "583bdd86-5270-4c51-f8c1-b0ccf4e4057a",
        "colab": {
          "base_uri": "https://localhost:8080/"
        }
      },
      "execution_count": 2,
      "outputs": [
        {
          "output_type": "stream",
          "name": "stdout",
          "text": [
            "Drive already mounted at /content/drive; to attempt to forcibly remount, call drive.mount(\"/content/drive\", force_remount=True).\n"
          ]
        }
      ]
    },
    {
      "cell_type": "code",
      "execution_count": 3,
      "metadata": {
        "id": "-UiZf7YAawUu"
      },
      "outputs": [],
      "source": [
        "import tensorflow as tf\n",
        "from tensorflow.keras import layers\n",
        "import matplotlib.pyplot as plt\n",
        "import numpy as np\n",
        "import os\n",
        "from IPython.display import Audio"
      ]
    },
    {
      "cell_type": "code",
      "execution_count": 4,
      "metadata": {
        "id": "KZA4iSHlpHeW"
      },
      "outputs": [],
      "source": [
        "import librosa\n",
        "import numpy as np\n",
        "\n",
        "def create_mel_spectrogram(audio_array, sample_rate):\n",
        "    # Compute the Mel spectrogram\n",
        "    mel_spectrogram = librosa.feature.melspectrogram(y=np.squeeze(audio_array), sr=sample_rate)\n",
        "\n",
        "    # Convert to decibels\n",
        "    mel_spectrogram_db = librosa.power_to_db(mel_spectrogram, ref=np.max)\n",
        "    return mel_spectrogram_db\n",
        "\n",
        "\n",
        "def create_mel_spectrograms(audio_array, sample_rate):\n",
        "    num_samples, _, _ = audio_array.shape\n",
        "    num_mels = 128  # Number of Mel bins\n",
        "    hop_length = 512  # Hop length for the spectrogram\n",
        "\n",
        "    mel_spectrograms = []\n",
        "\n",
        "    for i in range(num_samples):\n",
        "        # Compute the Mel spectrogram\n",
        "        mel_spectrogram = librosa.feature.melspectrogram(y=np.squeeze(audio_array[i]), sr=sample_rate, hop_length=hop_length, n_mels=num_mels)\n",
        "\n",
        "        # Convert to decibels\n",
        "        mel_spectrogram_db = librosa.power_to_db(mel_spectrogram, ref=np.max)\n",
        "\n",
        "        # Append the Mel spectrogram to the list\n",
        "        mel_spectrograms.append(mel_spectrogram_db)\n",
        "\n",
        "    # Convert the list of Mel spectrograms to a numpy array\n",
        "    mel_spectrograms = np.array(mel_spectrograms)\n",
        "\n",
        "    # Reshape the array to match the desired dimensions\n",
        "    mel_spectrograms = mel_spectrograms.reshape(num_samples, num_mels, -1, 1)\n",
        "\n",
        "    return mel_spectrograms\n",
        "\n",
        "def plot_spec(array,sample_rate):\n",
        "    # Plot the Mel spectrogram\n",
        "    reshaped_array = np.squeeze(array)\n",
        "    plt.figure(figsize=(10, 4))\n",
        "    librosa.display.specshow(reshaped_array, x_axis='time', y_axis='mel', sr=sample_rate, fmax=8000)\n",
        "    plt.colorbar(format='%+2.0f dB')\n",
        "    plt.title('Mel Spectrogram')\n",
        "    plt.tight_layout()\n",
        "    plt.show()\n",
        "def downsample_array(arr, factor, axis):\n",
        "    return arr.take(np.arange(0, arr.shape[axis], factor), axis)\n",
        "\n",
        "def create_sliding_window(array, window_size, stride):\n",
        "    num_windows = (len(array) - window_size) // stride + 1\n",
        "    sliding_windows = np.lib.stride_tricks.sliding_window_view(array, (window_size,))\n",
        "\n",
        "    return sliding_windows[::stride]"
      ]
    },
    {
      "cell_type": "code",
      "execution_count": 5,
      "metadata": {
        "id": "PwZorlMxq2Rx"
      },
      "outputs": [],
      "source": [
        "reduction = 12\n",
        "wav_file = '/content/drive/MyDrive/bass samples/NBKoanbandstuff.wav'\n",
        "audio, sr = librosa.load(wav_file, sr=None)\n",
        "audio_dev = np.std(audio)\n",
        "audio = audio/audio_dev\n",
        "result_array = create_sliding_window(audio,44100,100)\n",
        "result_array = np.expand_dims(result_array, axis=2)\n",
        "result_array = downsample_array(result_array,reduction,1)"
      ]
    },
    {
      "cell_type": "code",
      "execution_count": 6,
      "metadata": {
        "colab": {
          "base_uri": "https://localhost:8080/",
          "height": 410
        },
        "id": "ZIzKgHj1sIvX",
        "outputId": "4017d8f5-b01d-4002-d1a9-5491db757e5a"
      },
      "outputs": [
        {
          "output_type": "stream",
          "name": "stdout",
          "text": [
            "(100, 128, 8, 1)\n"
          ]
        },
        {
          "output_type": "display_data",
          "data": {
            "text/plain": [
              "<Figure size 1000x400 with 2 Axes>"
            ],
            "image/png": "[encoded data removed]"
          },
          "metadata": {}
        },
        {
          "output_type": "execute_result",
          "data": {
            "text/plain": [
              "<IPython.lib.display.Audio object>"
            ],
            "text/html": [
              "\n",
              "                <audio  controls=\"controls\" >\n",
              "                    <source src=\"data:audio/wav;base64,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\" type=\"audio/wav\" />\n",
              "                    Your browser does not support the audio element.\n",
              "                </audio>\n",
              "              "
            ]
          },
          "metadata": {},
          "execution_count": 6
        }
      ],
      "source": [
        "\n",
        "\n",
        "spec = create_mel_spectrograms(result_array[100:200],sr/reduction)\n",
        "print(spec.shape)\n",
        "plot_spec(spec[0],sr/reduction)\n",
        "audio_data = result_array[100].ravel()\n",
        "# Play the audio within the Jupyter Notebook\n",
        "Audio(data=audio_data, rate=sr/reduction)"
      ]
    },
    {
      "cell_type": "code",
      "execution_count": 7,
      "metadata": {
        "colab": {
          "base_uri": "https://localhost:8080/"
        },
        "id": "3XZfCdyC7S_D",
        "outputId": "fbbac091-d171-4917-9f1a-7bb766e48e7e"
      },
      "outputs": [
        {
          "output_type": "stream",
          "name": "stdout",
          "text": [
            "(3675, 1)\n"
          ]
        }
      ],
      "source": [
        "#x_train = noise\n",
        "y_train = result_array\n",
        "print(y_train[0].shape)"
      ]
    },
    {
      "cell_type": "code",
      "execution_count": 8,
      "metadata": {
        "id": "MUFnmA-82FDv"
      },
      "outputs": [],
      "source": [
        "class ResNetBlock(layers.Layer):\n",
        "    def __init__(self, filters,kernel_size=3, strides=1,dilation_rate=1):\n",
        "        super(ResNetBlock, self).__init__()\n",
        "        self.conv1 = layers.Conv1D(filters, kernel_size, strides=strides,dilation_rate=dilation_rate, padding='same')\n",
        "        self.conv2 = layers.Conv1D(filters, kernel_size, padding='same')\n",
        "\n",
        "        if strides != 1:\n",
        "            self.residual = layers.Conv1D(filters, 1, strides=strides)\n",
        "        else:\n",
        "            self.residual = lambda x: x\n",
        "\n",
        "    def call(self, inputs, training=False):\n",
        "        x = self.conv1(inputs)\n",
        "        x = tf.nn.relu(x)\n",
        "        x = self.conv2(x)\n",
        "\n",
        "        r = self.residual(inputs)\n",
        "\n",
        "        x += r\n",
        "        return tf.nn.relu(x)"
      ]
    },
    {
      "cell_type": "code",
      "source": [
        "class ResNetBlockup(layers.Layer):\n",
        "    def __init__(self, filters, kernel_size=3, strides=1, dilation_rate=1):\n",
        "        super(ResNetBlockup, self).__init__()\n",
        "        self.conv1 = layers.Conv1DTranspose(filters, kernel_size, strides=strides, dilation_rate=dilation_rate, padding='same')\n",
        "        self.bn1 = layers.BatchNormalization()\n",
        "        self.conv2 = layers.Conv1DTranspose(filters, kernel_size, padding='same')\n",
        "        self.bn2 = layers.BatchNormalization()\n",
        "\n",
        "        if strides != 1:\n",
        "            self.residual = layers.Conv1DTranspose(filters, 1, strides=strides)\n",
        "        else:\n",
        "            self.residual = lambda x: x\n",
        "\n",
        "    def call(self, inputs, training=False):\n",
        "        x = self.conv1(inputs)\n",
        "        x = self.bn1(x, training=training)\n",
        "        x = tf.nn.relu(x)\n",
        "        x = self.conv2(x)\n",
        "        x = self.bn2(x, training=training)\n",
        "\n",
        "        r = self.residual(inputs)\n",
        "\n",
        "        x += r\n",
        "        return tf.nn.relu(x)"
      ],
      "metadata": {
        "id": "qBopciVs0FBC"
      },
      "execution_count": 9,
      "outputs": []
    },
    {
      "cell_type": "code",
      "execution_count": 10,
      "metadata": {
        "colab": {
          "base_uri": "https://localhost:8080/"
        },
        "id": "Gh2ORgUybdzt",
        "outputId": "7975849e-c687-43ae-82b0-7d9015d997ec"
      },
      "outputs": [
        {
          "output_type": "stream",
          "name": "stdout",
          "text": [
            "Model: \"model\"\n",
            "__________________________________________________________________________________________________\n",
            " Layer (type)                   Output Shape         Param #     Connected to                     \n",
            "==================================================================================================\n",
            " input_1 (InputLayer)           [(None, None, 1)]    0           []                               \n",
            "                                                                                                  \n",
            " input_2 (InputLayer)           [(None, None, None,  0           []                               \n",
            "                                 1)]                                                              \n",
            "                                                                                                  \n",
            " res_net_block (ResNetBlock)    (None, None, 64)     12736       ['input_1[0][0]']                \n",
            "                                                                                                  \n",
            " conv2d (Conv2D)                (None, None, None,   1664        ['input_2[0][0]']                \n",
            "                                64)                                                               \n",
            "                                                                                                  \n",
            " layer_normalization (LayerNorm  (None, None, 64)    128         ['res_net_block[0][0]']          \n",
            " alization)                                                                                       \n",
            "                                                                                                  \n",
            " layer_normalization_4 (LayerNo  (None, None, None,   128        ['conv2d[0][0]']                 \n",
            " rmalization)                   64)                                                               \n",
            "                                                                                                  \n",
            " res_net_block_1 (ResNetBlock)  (None, None, 64)     28864       ['layer_normalization[0][0]']    \n",
            "                                                                                                  \n",
            " conv2d_1 (Conv2D)              (None, None, None,   36928       ['layer_normalization_4[0][0]']  \n",
            "                                64)                                                               \n",
            "                                                                                                  \n",
            " layer_normalization_1 (LayerNo  (None, None, 64)    128         ['res_net_block_1[0][0]']        \n",
            " rmalization)                                                                                     \n",
            "                                                                                                  \n",
            " layer_normalization_5 (LayerNo  (None, None, None,   128        ['conv2d_1[0][0]']               \n",
            " rmalization)                   64)                                                               \n",
            "                                                                                                  \n",
            " res_net_block_2 (ResNetBlock)  (None, None, 64)     28864       ['layer_normalization_1[0][0]']  \n",
            "                                                                                                  \n",
            " conv2d_2 (Conv2D)              (None, None, None,   36928       ['layer_normalization_5[0][0]']  \n",
            "                                64)                                                               \n",
            "                                                                                                  \n",
            " layer_normalization_2 (LayerNo  (None, None, 64)    128         ['res_net_block_2[0][0]']        \n",
            " rmalization)                                                                                     \n",
            "                                                                                                  \n",
            " layer_normalization_6 (LayerNo  (None, None, None,   128        ['conv2d_2[0][0]']               \n",
            " rmalization)                   64)                                                               \n",
            "                                                                                                  \n",
            " res_net_block_3 (ResNetBlock)  (None, None, 512)    919040      ['layer_normalization_2[0][0]']  \n",
            "                                                                                                  \n",
            " res_net_block_4 (ResNetBlock)  (None, None, None,   919040      ['layer_normalization_6[0][0]']  \n",
            "                                512)                                                              \n",
            "                                                                                                  \n",
            " layer_normalization_3 (LayerNo  (None, None, 512)   1024        ['res_net_block_3[0][0]']        \n",
            " rmalization)                                                                                     \n",
            "                                                                                                  \n",
            " layer_normalization_7 (LayerNo  (None, None, None,   1024       ['res_net_block_4[0][0]']        \n",
            " rmalization)                   512)                                                              \n",
            "                                                                                                  \n",
            " global_average_pooling1d (Glob  (None, 512)         0           ['layer_normalization_3[0][0]']  \n",
            " alAveragePooling1D)                                                                              \n",
            "                                                                                                  \n",
            " global_average_pooling2d (Glob  (None, 512)         0           ['layer_normalization_7[0][0]']  \n",
            " alAveragePooling2D)                                                                              \n",
            "                                                                                                  \n",
            " concatenate (Concatenate)      (None, 1024)         0           ['global_average_pooling1d[0][0]'\n",
            "                                                                 , 'global_average_pooling2d[0][0]\n",
            "                                                                 ']                               \n",
            "                                                                                                  \n",
            " dense (Dense)                  (None, 200)          205000      ['concatenate[0][0]']            \n",
            "                                                                                                  \n",
            " layer_normalization_8 (LayerNo  (None, 200)         400         ['dense[0][0]']                  \n",
            " rmalization)                                                                                     \n",
            "                                                                                                  \n",
            " dense_1 (Dense)                (None, 64)           12864       ['layer_normalization_8[0][0]']  \n",
            "                                                                                                  \n",
            " dense_2 (Dense)                (None, 1)            65          ['dense_1[0][0]']                \n",
            "                                                                                                  \n",
            "==================================================================================================\n",
            "Total params: 2,205,209\n",
            "Trainable params: 2,205,209\n",
            "Non-trainable params: 0\n",
            "__________________________________________________________________________________________________\n"
          ]
        }
      ],
      "source": [
        "def build_discriminator():\n",
        "    input_series = layers.Input(shape=(None, 1))\n",
        "    input_img = layers.Input(shape=(None, None, 1))\n",
        "\n",
        "    # Convolutional layers for series\n",
        "    x_series = ResNetBlock(64, 3, 2, 1)(input_series)\n",
        "    x_series = layers.LayerNormalization()(x_series)\n",
        "\n",
        "    x_series = ResNetBlock(64, 3, 2, 1)(x_series)\n",
        "    x_series = layers.LayerNormalization()(x_series)\n",
        "\n",
        "    x_series = ResNetBlock(64, 3, 2, 1)(x_series)\n",
        "    x_series = layers.LayerNormalization()(x_series)\n",
        "\n",
        "    x_series = ResNetBlock(512, 3, 2, 1)(x_series)\n",
        "    x_series = layers.LayerNormalization()(x_series)\n",
        "\n",
        "    # Convolutional layers for image\n",
        "    x_img = layers.Conv2D(64,5,2,padding='same')(input_img)\n",
        "    x_img = layers.LayerNormalization()(x_img)\n",
        "\n",
        "    x_img = layers.Conv2D(64,3,2,padding='same')(x_img)\n",
        "    x_img = layers.LayerNormalization()(x_img)\n",
        "\n",
        "    x_img = layers.Conv2D(64,3,2,padding='same')(x_img)\n",
        "    x_img = layers.LayerNormalization()(x_img)\n",
        "\n",
        "    x_img = ResNetBlock(512, 3, 2, 1)(x_img)\n",
        "    x_img = layers.LayerNormalization()(x_img)\n",
        "\n",
        "    # Concatenate series and image features\n",
        "\n",
        "\n",
        "    # Global pooling\n",
        "    pooled_series = layers.GlobalAveragePooling1D()(x_series)\n",
        "    pooled_img = layers.GlobalAveragePooling2D()(x_img)\n",
        "    pooled_output = layers.Concatenate()([pooled_series, pooled_img])\n",
        "\n",
        "\n",
        "    # Dense layers\n",
        "    dense_output = layers.Dense(200, activation='relu')(pooled_output)\n",
        "    dense_output = layers.LayerNormalization()(dense_output)\n",
        "\n",
        "    dense_output = layers.Dense(64, activation='relu')(dense_output)\n",
        "\n",
        "    dense_output = layers.Dense(1, activation='linear')(dense_output)\n",
        "\n",
        "    model = tf.keras.models.Model(inputs=[input_series, input_img], outputs=dense_output)\n",
        "    return model\n",
        "\n",
        "discriminator = build_discriminator()\n",
        "discriminator.summary()"
      ]
    },
    {
      "cell_type": "code",
      "execution_count": 11,
      "metadata": {
        "colab": {
          "base_uri": "https://localhost:8080/"
        },
        "id": "8q_-l7f8eC-i",
        "outputId": "c2b0d9d7-085a-4105-f56c-5e7db0a9446e"
      },
      "outputs": [
        {
          "output_type": "stream",
          "name": "stdout",
          "text": [
            "Model: \"model_1\"\n",
            "_________________________________________________________________\n",
            " Layer (type)                Output Shape              Param #   \n",
            "=================================================================\n",
            " input_3 (InputLayer)        [(None, None, 1)]         0         \n",
            "                                                                 \n",
            " batch_normalization (BatchN  (None, None, 1)          4         \n",
            " ormalization)                                                   \n",
            "                                                                 \n",
            " res_net_block_5 (ResNetBloc  (None, None, 64)         16768     \n",
            " k)                                                              \n",
            "                                                                 \n",
            " res_net_block_6 (ResNetBloc  (None, None, 64)         32896     \n",
            " k)                                                              \n",
            "                                                                 \n",
            " res_net_block_7 (ResNetBloc  (None, None, 64)         32896     \n",
            " k)                                                              \n",
            "                                                                 \n",
            " res_net_block_8 (ResNetBloc  (None, None, 64)         32896     \n",
            " k)                                                              \n",
            "                                                                 \n",
            " res_net_block_9 (ResNetBloc  (None, None, 64)         32896     \n",
            " k)                                                              \n",
            "                                                                 \n",
            " res_net_block_10 (ResNetBlo  (None, None, 64)         32896     \n",
            " ck)                                                             \n",
            "                                                                 \n",
            " conv1d_27 (Conv1D)          (None, None, 1)           65        \n",
            "                                                                 \n",
            "=================================================================\n",
            "Total params: 181,317\n",
            "Trainable params: 181,315\n",
            "Non-trainable params: 2\n",
            "_________________________________________________________________\n"
          ]
        }
      ],
      "source": [
        "def build_generator():\n",
        "    input_series = layers.Input(shape=(None,1))\n",
        "\n",
        "    x = layers.BatchNormalization()(input_series)\n",
        "\n",
        "    x = ResNetBlock(64,4,strides=1,dilation_rate=24)(x)\n",
        "\n",
        "    x = ResNetBlock(64,4,strides=1,dilation_rate=12)(x)\n",
        "\n",
        "    x = ResNetBlock(64,4,strides=1,dilation_rate=6)(x)\n",
        "\n",
        "    x = ResNetBlock(64,4,strides=1,dilation_rate=4)(x)\n",
        "\n",
        "    x = ResNetBlock(64,4,strides=1,dilation_rate=2)(x)\n",
        "\n",
        "    x = ResNetBlock(64,4,strides=1,dilation_rate=1)(x)\n",
        "\n",
        "    x = layers.Conv1D(1,1)(x)\n",
        "\n",
        "\n",
        "\n",
        "    model = tf.keras.models.Model(inputs=input_series, outputs=x)\n",
        "    return model\n",
        "\n",
        "generator = build_generator()\n",
        "generator.summary()\n"
      ]
    },
    {
      "cell_type": "code",
      "execution_count": 12,
      "metadata": {
        "id": "aFFOfuDfbpD9"
      },
      "outputs": [],
      "source": [
        "# Compile models\n",
        "generator_optimizer = tf.keras.optimizers.Adam(0.0004)\n",
        "discriminator_optimizer = tf.keras.optimizers.Adam(0.0004)\n",
        "\n",
        "#generator_optimizer = tf.keras.optimizers.experimental.SGD(1e-4)\n",
        "#discriminator_optimizer = tf.keras.optimizers.experimental.SGD(1e-4)"
      ]
    },
    {
      "cell_type": "code",
      "source": [
        "def gradient_penalty(real, fake, discriminator):\n",
        "    batch_size = real.shape[0]\n",
        "    epsilon = tf.random.uniform([batch_size, 1, 1], 0.0, 1.0)\n",
        "    interpolated = epsilon * real + (1 - epsilon) * fake\n",
        "\n",
        "    with tf.GradientTape() as tape:\n",
        "        tape.watch(interpolated)\n",
        "        pred = discriminator(interpolated, training=True)\n",
        "\n",
        "    gradients = tape.gradient(pred, [interpolated])[0]\n",
        "    norm = tf.sqrt(tf.reduce_sum(tf.square(gradients), axis=[1, 2]))\n",
        "    gp = tf.reduce_mean((norm - 1.0) ** 2)\n",
        "\n",
        "    return gp\n",
        "\n",
        "def gradient_penalty(real, fake, discriminator):\n",
        "    batch_size = real.shape[0]\n",
        "    epsilon = tf.random.uniform([batch_size, 1, 1], 0.0, 1.0)\n",
        "    interpolated = epsilon * real + (1 - epsilon) * fake\n",
        "\n",
        "    with tf.GradientTape() as tape:\n",
        "        tape.watch(interpolated)\n",
        "        pred = discriminator([interpolated, interpolated], training=True)\n",
        "\n",
        "    gradients = tape.gradient(pred, [interpolated])[0]\n",
        "    norm = tf.sqrt(tf.reduce_sum(tf.square(gradients), axis=[1, 2]))\n",
        "    gp = tf.reduce_mean((norm - 1.0) ** 2)\n",
        "\n",
        "    return gp"
      ],
      "metadata": {
        "id": "DpBCjazdvotg"
      },
      "execution_count": 13,
      "outputs": []
    },
    {
      "cell_type": "code",
      "execution_count": 14,
      "metadata": {
        "id": "T3PtShxlbn9c"
      },
      "outputs": [],
      "source": [
        "def discriminator_loss(real_output, fake_output, gradient_penalty):\n",
        "    return tf.reduce_mean(fake_output) - tf.reduce_mean(real_output) + gradient_penalty\n",
        "\n",
        "def generator_loss(fake_output):\n",
        "    return -tf.reduce_mean(fake_output)\n",
        "\n"
      ]
    },
    {
      "cell_type": "code",
      "source": [
        "def clip_discriminator_weights(discriminator):\n",
        "    for l in discriminator.layers:\n",
        "        weights = l.get_weights()\n",
        "        weights = [tf.clip_by_value(w, -0.01, 0.01) for w in weights]\n",
        "        l.set_weights(weights)"
      ],
      "metadata": {
        "id": "a8RtXmHLZHWu"
      },
      "execution_count": 15,
      "outputs": []
    },
    {
      "cell_type": "code",
      "execution_count": 16,
      "metadata": {
        "id": "vAoSvqXLsQHq"
      },
      "outputs": [],
      "source": [
        "def print_img(generator_model):\n",
        "    # Generate and save sample images\n",
        "    noise = tf.random.normal([10, 100])\n",
        "    sampled_labels = tf.constant([[i % 10] for i in range(10)], dtype=tf.int32)\n",
        "    generated_images = generator_model.predict([noise, sampled_labels])\n",
        "    fig, axs = plt.subplots(1, 10, figsize=(10, 10))\n",
        "    for i in range(10):\n",
        "        axs[i].imshow(generated_images[i], cmap=\"gray\")\n",
        "        axs[i].axis(\"off\")\n",
        "    plt.show()"
      ]
    },
    {
      "cell_type": "code",
      "execution_count": 17,
      "metadata": {
        "colab": {
          "base_uri": "https://localhost:8080/"
        },
        "id": "PAqGbZU0Z5yl",
        "outputId": "f91aa21a-88d5-45f1-984d-f848726d7793"
      },
      "outputs": [
        {
          "output_type": "stream",
          "name": "stdout",
          "text": [
            "1/1 [==============================] - 1s 745ms/step\n",
            "(1, 10000, 1)\n"
          ]
        }
      ],
      "source": [
        "noise = tf.random.normal(shape=(1,10000,1))\n",
        "\n",
        "test = generator.predict(noise)\n",
        "print(test.shape)"
      ]
    },
    {
      "cell_type": "code",
      "execution_count": null,
      "metadata": {
        "id": "wp5mnkMVVgPV"
      },
      "outputs": [],
      "source": [
        "\n",
        "#@tf.function\n",
        "def train_step(target_audios):\n",
        "  real_spec = create_mel_spectrograms(target_audios,sr/reduction)\n",
        "\n",
        "  for i in range(2):\n",
        "\n",
        "      # Get the shape of the target_audios tensor\n",
        "      shape = tf.shape(target_audios)\n",
        "\n",
        "\n",
        "      # Generate noise using tf.random.normal()\n",
        "      noise = tf.random.normal((shape))\n",
        "      generated_audio = generator(noise, training=True)\n",
        "      fake_spec = create_mel_spectrograms(generated_audio,sr/reduction)\n",
        "      with tf.GradientTape() as disc_tape:\n",
        "\n",
        "          real_output = discriminator((target_audios,real_spec), training=True)\n",
        "          fake_output = discriminator((generated_audio,fake_spec), training=True)\n",
        "\n",
        "\n",
        "          gp = gradient_penalty(target_audios, generated_audio, discriminator)\n",
        "          disc_loss = discriminator_loss(real_output, fake_output, gp)\n",
        "\n",
        "      gradients_of_discriminator = disc_tape.gradient(disc_loss, discriminator.trainable_variables)\n",
        "      discriminator_optimizer.apply_gradients(zip(gradients_of_discriminator, discriminator.trainable_variables))\n",
        "      #clip_discriminator_weights(discriminator)\n",
        "\n",
        "      if i ==0:\n",
        "          weights = discriminator.get_weights()\n",
        "\n",
        "\n",
        "  with tf.GradientTape() as gen_tape:\n",
        "    noise = tf.random.normal(shape=(target_audios.shape))\n",
        "    generated_audio = generator(noise, training=True)\n",
        "    fake_spec = create_mel_spectrograms(generated_audio,sr/reduction)\n",
        "    fake_output = discriminator((generated_audio,fake_spec), training=True)\n",
        "    gen_loss = generator_loss(fake_output)\n",
        "\n",
        "  gradients_of_generator = gen_tape.gradient(gen_loss, generator.trainable_variables)\n",
        "  generator_optimizer.apply_gradients(zip(gradients_of_generator, generator.trainable_variables))\n",
        "\n",
        "  discriminator.set_weights(weights)\n",
        "\n",
        "\n",
        "  tf.print(\"disc_loss\",disc_loss,'gen_loss',gen_loss,\"real_loss\",real_output,\"fake_loss\",fake_output)\n",
        "\n",
        "\n",
        "def train(generator, discriminator\n",
        "          , epochs, batch_size):\n",
        "    for epoch in range(epochs):\n",
        "        for batch in range(len(y_train) // batch_size):\n",
        "            #images = x_train[batch * batch_size: (batch+1) * batch_size]\n",
        "            target_audios = y_train[batch * batch_size: (batch+1) * batch_size]\n",
        "\n",
        "            train_step(target_audios)\n",
        "\n",
        "        if (epoch + 1) % 5 == 0:\n",
        "            print(f\"Epoch {epoch+1}/{epochs}\")\n",
        "            test = generator.predict(noise)\n",
        "            audio_data = test.ravel()\n",
        "            # Play the audio within the Jupyter Notebook\n",
        "            Audio(data=audio_data, rate=sr/reduction)\n",
        "\n",
        "\n",
        "# Train the GAN\n",
        "EPOCHS = 2000000\n",
        "BATCH_SIZE = 10\n",
        "num_unrolling_steps = 20  # Set the desired number of unrolling steps\n",
        "train(generator, discriminator, EPOCHS, BATCH_SIZE)"
      ]
    },
    {
      "cell_type": "code",
      "execution_count": 20,
      "metadata": {
        "id": "mrmv1Zri-jjc",
        "colab": {
          "base_uri": "https://localhost:8080/",
          "height": 93
        },
        "outputId": "77664bfc-3317-40d0-bb23-45f476144bba"
      },
      "outputs": [
        {
          "output_type": "stream",
          "name": "stdout",
          "text": [
            "1/1 [==============================] - 0s 102ms/step\n"
          ]
        },
        {
          "output_type": "execute_result",
          "data": {
            "text/plain": [
              "<IPython.lib.display.Audio object>"
            ],
            "text/html": [
              "\n",
              "                <audio  controls=\"controls\" >\n",
              "                    <source src=\"data:audio/wav;base64,UklGRkROAABXQVZFZm10IBAAAAABAAEAWw4AALYcAAACABAAZGF0YSBOAADrD10W5xw0IDMlLi/pM2E1mD9GQ6JHr0qUU/JIWUkuVZxjQmaMbTtWB1RhTRhPKVQ8TrFM+F0wW4phg1p4R5JLGlg6Vc9ZjlPrUU5KbTsfSBtEf0fbUVNIB0UzRMJDaUjaQ0dKjkjMSe5ND0pHPp9EG0i0RiFQ0lSwVnZJoE+aRP9DFE0CTChQo0viQFhDJEcGQhdNNk+jTzRb5l50aRZWiFynYr1ftHDHWDxXQFGsS0pO20yhR3xJbEmLROpH8zpYPvY+7ju4Peg3yzs9NUErmCjjLf8qyjJvL5gsAyoUMbEs8izeLqUvxy4XK5wtwC9pNX86mjRHOoo3IzwZOAdEM1FyUnJQxkmMO0lDFUflROtMwUUiSqtFbjllOpI07DiUNaw9MDcvNgw4GzQjOWI3GTFmM4AzkzFyM1I2hTEnOYA/fUHdOWpCT0PfR7ZSGEdWSVJMC1X9U9dKIleSUX5qrW48ZaZuZWSgYNBkWWkMZ/l5nGRPaA1h8Uu4UwpXq2P4VkthxFpCYcVYKEtBYG5QBFYLVIZNO1PAR2tKO0NPQ5xGMVCCSulOt1ODV+Fe5Es4XXpe6mL0a5taxGWSYUdSLVosW59cn2V/V8pKzlW+TddRBVgdRlRCVk1gSbtGm0PPPI9DTT1PN8E66DSjQRY+N0PiPxJCaTyeSIRO2lJyXBZQWlEiRulEKkaNOupKnE5nWalTaE8bSdJDIlxPVhhZnmKkW39YPEuMThdKrUiITghXCk/oVuVDL0CkPLY9I0G4QQxHX0W9UOlOmT1hRdFErz7iSPM84jqMM6c95zolRjZF4UDMQlhDyThgRB9R3k5sU71F4Do9QUM/7j4SRjxBKT61Qg87TEIhPuhCDTuMPWE54zvxNBg25TWkOOg2vDTqPCc3OC3OOC818TSIPxMw5jE0NWE0ZDZ2OLo43z/ARodAozojNZc3VTFXNfMrdixGK8In7iVYH3gk7ihHLD0rcy5QLkYxCjZULxMowzT5NOMoQUTcNX4ucDKkNJIsaz25MhQ4ekIDPAg9bEQgPbQ7sUMSOBQ00kVSOj1DqkSXQKBCjjumNCc2ij+EQZBNLDq7PTM5KT4HPTkuPT2fO5pAbkGdNDo2fDLLNFw3JTv+PBk4izNWMYw0vDreRIY7VTqTM2g6HjWvMx825jYuOdg1mjQ4NVk5ITSkO203rjMMRaU+pU/pRd06ZEYqPxxAC0PQM+Mz4DJ4LOkqRC5MME0o6SkrLv8qHjQwNEAweTaQNfI4bC+HNHox3TkQO7E09T0XPzc9a0EJTNlO6lN/UbM+hUkeSOZQMVGTRXhKjUOAPrU8BzxAPwFEKUk5SP9DWEeaTjRD6k5JS34/8EyFS+hCyUfyNnMy4DT4NHA0cjW9LbkwTC1xLzosky2oL5ksHSqRKHwqFCjhKIor9C0LNzs3dzuEOfcxhj8JPeo4zT6mPlE4J0GHL9gvkDBTKpQwzC8UMbMueSpiLZAs8CtTLnMuECwnLgotsC1NM2wufyycMwM0/jC6NywubTR1OHU3WTUmMboyRDAPLm41dC66Lbg4tDM/L5k0TinoLnotEyoyKw0uvzaKLlosxDZnPfs35kV5OG8/rTcPPpA6MDl2O5E7rjnWM/Y6XzofPBQ++T2dOsxDhUCkMWo6p0AxREpM2DaqPrI4+TlxPGhEWz73Q/FEmTd2R99AdEBNS6w6tDb5N3A0JzEVMT0yfy8kL5Q0wS7WKyQ8tTx1RWBBMDtNOrQ1IECZO+RHf1HfUq5RvUfpTa1L01QeT4JKTkjNShVCfzXhPWozlkCbQsRCsDt2OI0zXDCKOqY7nURVRNA61Dm2Q4xIL0UFVhNYi2SiXyhP8UFvSP1OJ1ChTEBDqUSsPvY2TzhzMI814jnwO8Y8JDdyOWE4RjTUOMc1By5LNsU4Hj3NNcozmzzWPN1EBkHNOQNAKj0oQvdFHjy4Q0FEo0bzOVk4dzsHP+1ASUWmR2pMXFQ8V2BJMVqfW/1Xm22rV8lSIlLzVypLrFVPVqNU9lOKVTdg9VqGXj9TnlV7XZdi8mlIWxFUqFMHVl1TikvmTi9KA02BR+JIGk+nQ/85oUGkOStAPEQFP69CrT7SOss4VTSZPv07FD+VSJFHqVCGQ5ZJJk8NSsVQOUNARW5J90YjUbJOqkVwS+49qzx8PzpBoj8uOPk8UziANw04bS1LNDU1DjlAMX03eDSsM/Y3oDCnPIE+pDU/Oj4wXDPnNUMyiy9jKqIpVSd0K80keyzTKiUtCivXL+Y2JDCYMfE9Lzt0PYs76TeJMXM9bDbjPP481zcYOLcw9iyMLfgu0DPNLRkq6yiMK90xajGDN1M0HTC0NcgrjypCM7I4gDiKPlgs3zT3L68n6DZGNkg6dTxhNRw5fDS5LNQvEzSHNG4zGDAzOrQ6uznTRgc+fD+TRbc/iT5BOSFHzUUJR5RAfzoaQao7dDQNQMVIYUNKTbw3UTkHOq033j3NPNlBykcoRoBNHU+AVeNLp1BSW0hYvmx3VSRnV2IhaF5jvlMaYOFdxWekWTZYeVHrR4NL1kblSABKrkGrPDQ3nzjJNvw5kTkpPh82ITmxP/I2Akd9PiY80DpfNB81wC+4Mv8wNDgVNUYs7yrbKh8rsyoxKtcqBixiMIczfzd2OPY9TURrOzg0iUanRD9CIFJVQANIbT3tQyU8jDuwPvo/1z5cMuE3uzQ/Nx05dDoSNk1C+UIqPdFA804ZVeteQFTsUEdV4VhITGNGhUWlSAZE6DXZPYI9UDp3POU5HzhxPyNBQzwDQMg720K4RZ9OSFq+W9ZXs0QZQW5EYzy/TK1HikJ0SZdADz9pP5UxLzZpOvo3ejiUO/M3iz2oOuUy0DPsQ3xK4kqNSLpBG0VaRrlBkzdYNrtG6UXWSEY9jjcWNdYyHTEjM5s96D/sRxZEiENqSeBHrEpjVi5Yol5aYu5T00T/RBg8hUOXQ65CXUGXOVU4TzndOg487TwDOyE3WzJOPtI+uDVmRWY0OS8kK2Ys6ikZJYgnOiXLKFwkECTyJgImxSlhLVki0SxgLJws4C5cJmYr2it3JVAvlizHOIAzOCv3OLsz7zzMNgsuGDHZL1cwNy92LTk4hDnsNQtD3TsWQ2lMT0KtUJFM2k7pSxFB5EMDQHA8DjtQRglFZ0J8OqtBiUB3PoxESjjUP548KD1KM3A0/jKJMNUzTTS9OmREgDjdPWk+Wj/9QS80CjoUP8JB1DwbOvA7SUG+OBM/kzqgNJRLZ0hJTNlLBFD1SlhAx0vQQK5R4k+SRhNGaUK5SapBijkXOcw3rDnnOxw6SDiQNTEvuy+oLpsxDzWLK7E2KzNXMQ01fi6lNks0zSnFLzEv7C3AMKMllymzKp4rUiwfL5guZzMnOv4zHjM5PEc9zj8/OngwXy5uLiMoCim4KDApgylIKaoqeiQ6JtEkMiuOLOksbjRJOA9A3DnAMgw+wzy9RjFFC0EuPx5CQ0KrO+hGOkvxRwBPsFThWelhql+ZaeVidWIXVylWr1cEWlxZuU3SSEZBj0fmQmhHakeeTEdRgE0rSg9Hb1diTh5JNFWuSXtaJFNuTKVJz0SDPphBiT2rOFREGzpoP6A5sTvqOuw5fzXCMU8y5DjrNGIs7zaBMH02DDNkK3gvIS9HNoU0ZDn5Np072z0TOoFPxlKnWFhQX1B2TWhPAFQ7SJxRpVxnYZ5aZFFITxhL71yoURxTtFnoWxpd40+YQ89KQEm1PnpMtkq2TQ5b20fSUM1NVUU1SEY7uTxPP7Y+LzmTMoAw+y8TKqwvBDWsOdw/Qji+NRcwbirrMn0uOzFCPWw4ezrWNqkuKzOoMuQsJzOkN4k7RzdJN604aDXyR8BAtT9XTm1PXkzpUbpTSFmyaHxQiFZ3bOFbmnHHW2ZVYk7jS7ZGLD2zSghBckf2PWQ5mDYUO147DTkmQMQ0WzwCQWQ7FEaaQk85Vz9jNOgxpTOcMmIx1TQMO6c0JDbQPkA8rkE5SlQ9P0N3OHw45DWxOYE46zrVMUwy8Tv8ORxDvTbdN0431TrhM2U26TMHNhA2XzUAQ+9F3ES+QZo8PDixPK9Cezj7QG5Cfz8VRXU79zTWRDxEqD4CToc9Tz72SUs78T0bQa85/T0qQFM+hD+vRM0/7DtiRQA18EWKQb07KUCBOYo4DTnAMmUtiy8QK2cziy8TMOY1DzP6L5Qq9S1eLzwsjjFAMHo/wURNPGFAkzjPL5453zqVNBA6/Dw8PS8+czAeLpUvii/QL/gvjS99K7wsOSupJGErAy4nMxI0gzMjOLsyxzXMMYszqTfwMHE6VELmPLtIz1RSV/dWo1U6VwlILVY1VJJPCGCoTmRfEmFIVulUL1TfUqdU8lEXTUhC1EZgRw9HQkhRQPFKWEm1RIU+azuiPQM2qzxoOHVDOTyWOgA8dzJWOu811jAlOhdBbD+5SU82IzY+PwY+FURGPa1EMUIFSbc9wT1IOlc/Xj8kNwRDVj7OPwZIij5tPxNLZD/kN5JHBUFMROpR8kPcT6tPrUSuSec+mTd+NCs2JzTnMQMxXzDRLp0rMipgJnItPy/sL9I2tyvoKGkx0yvvKikugC9ZM2EzujSVLTM3sTiaP/ZFPD0ON7c98ElRUGBPFj/iN6c8Kz2XQ1o/Iy8mPpQ72zIZQMQxbzMeNsg3ujLtPVo7sTO+RexD6T84ScM+mUQXRypDEkEoUcNXilskVFBRImQYWFJ0FnRgaY1vuWbhYWtdJFW8U0xaY0/eVLpPTkrISSxEhkcnQ61BFVLnT89PhEwaRFZAKEcsPCw7XDjtM8s1KjH7MnwsQit6LYYv2C+8MKg0YzRFOpxKVTtNSihGlkNDRg88eTryNNY7tjzzRshDe0HLP5w/jUDYPfxJckJQRhBQ+k3UVL5E6D1qPts3BzmwQIJGU0MQPnVDRjVCRmlOKExyTQhHgkBtRk8/OjUaQYRAw0HNQbg0HzO6OIE5UjhnP7I1yTppNsIucyqgLHAt4S/wL0c08DNtMbJAGUJXP3dIqEMXTSNT1U0uTNdWE1o/W15YeFRwTG1d0ViEVnRNPkgCSb9A6UAFQMJCaUOqOb017T/oORU2uEAONUw3OTiBMB0yLzRrNzA2RTxPObsz+0kGTi9N9lyMUD5JX1jwWeRauGLBT8NQ/2XUVOtYFF/ES2xSGlWtW05XW05FR7tB3UT1S4FSOk3rTUxISEu7StE8F0o1RmNHz0wjR69FkknQOnc7sjYVN406q0B/QLI/ZkfEUCVPNkEBRx9ThksyXTJG6EawR+9KqUTwPZNPXVgHXJBU+1z/YGtxHHJzX0Zefl8mZ/BhWly0XyhTa2wxX2FapFn5VgpRg1RkTmBS9VGoTYtTF09TSLdMHkl6SyhB1EfSS/JYV1GeRhw+YEMWPwxNBUIAQshX/0/iV59aq0K9UMBNIlJWTk5ROFP6SThIMkloTK1Omk+TTABQ4EmDVDpVIEY5SZdGmk1wSNg7RkY9QgRKgUkDSxtI3ESYT51C1kVfWnpXInQyaFBekmHxW0NfQV/zZzxl0G5UZvtixmXvTD5i52KRYata/FkHUz9K0lIcSfhYWFgDXOtP1lJOTu5Lfk/rRy5NCEb2POM2Ljb0M9owBTh/OYs2Fz5ZQRFCt0FOPxE82DqJPSxBMUVlP5M0zDEbLcgoWCz2K8Y1aCxPLdwr6y6eKnErhi7bM2U68zy6M1Q1bzfDNV45iTLMPLY9FDuLNoNCJ0T3TCg+OUcBQNY7ZFB2PJxDFT/8Q09F0ELQP+VBJzU+Or02ADz3N5Q6STeyMaE1bC9MMeUwaCxZMZgyCjKcM1I6KD/aPho+lToFPMQ/Rz/qQkg7tzvAORk5xD70PjlA0UgfRfA+elFiTSpD4EovPLE+sTJ+PAw29jm0PhUyDzIkK6UsCScHLbUqVyyAM+ktNzHDOpAyWTvKNhItDjGrK9okViUVKeokpSTdI3kmgCQILB4oYyaqMEguwi8oNeYniSryJH4pmigaK8gw9zLEMqkwLECwOTVC/VLHR5VSl0+7SnpDcj9WPfI1fEMqQsZJ0UI6P1s87kMrS49NTVPfS0lREUqZRrpKW0TLSX5BwEalQkg7LT+ZP7ZB6j1TQ8Q+sjOsR/RBOEBuT4tDvz2iR+84jzgINAk1ezo0N+s0YjL1NB0umTMENykzUUDzQdE7FULvQfQ8cjErOms5VDC8Qis3OjSqMikwuCt+LrAzcC+lLa8u7jIQNgsw/DEJLz4u2TBPNLQycTSqOj47MTcQPvpHE1HgRd9Y5ljJTadlwEctR4RH6kQQP+RBTUaWPogxMy/eLvAqNi3VMoM1wjIWOAA2qTC7Np9CCUJ3Qm9EsU6fTf8+lEVPR4Y/KEIfPDQ/4T6rOiUz6jlJNXY0gjcwNrA5MzpYNLY0KzzbNu4940C6OKk+jT+4Muk3aDqaNVpBgTHyNNQ2TjaHOos3RDfhM7o14zcxMl8xjixeOB8xNC7IOm49fEFxR/Y4ji+5OuM4iTdnPlg0AD3qNAsyJzWTMMA5FzO4MRY02jSxMdM0YC7XMwY8dD3sQb5GU1JQU6dXB10sVFFuR2BAXDhonFJBVGxKZUumQ0Y/KT3YNSE3ozXON2wxxDYpNO02kjwgNaw2nj7KPHE/rDlTLtMyEzCmJ8AvoTSrNek4QzaCNfo0YD0xQBg3slMfTgpGJ2YRTUFFulOPQ6k5fkB1PYQ6mzv3NYs6nTBCMjY0cC4tN4o3ozbhMK0rYihVJGUiPyWjKN8p7imhJn0mPSRfJ+kqjCauN48yRDXpMmwsWSnnJs0obCS4Ln0qOyYCKSYqZShbL98wfigiP1g6zkOZRn9EEEJ3RkpKmD/jSAJGykTGQSA1jD1gOpw+ZDvrNCtKcUeBR8xQiz7NSTRJUUPISUdLzUkNUuU6UTr6Ny43wDa+OOc0PDZANNkwADFjK4s3oTliONRGVUHWTApOuUoMS7dFr0vgRlBQxUQkRJhA4jeYNUo76TfwOqs2QTMHNPAzzi1sKrUsjiwYKukwUTAkN1c4pjNINKM0sTUNMRU4kz6dQ7tS1Up7Qp8+hkmfRi5GM0+pTtFYSlrqSEZRUEKeRJBH5U/WT8xMdj9DOEFKzz8LVOFVTU3+Us9PIE4mTpJMklr2V1VWLVZ4TZ9CGEm8Q1M+ukGuQZQ7fED3Nfw4BzgqNn05yTetNcouCit+J50mSB/aIyci/iXZKBgnkC4qLBsyei/aJ805ZzJMPtlFRTpMPIg4vjH4NG859Ti+Pao7D0JcPPQ13zUqK/4yyDAgL8EzRyvtLWsnfiHDJAQmhyLHJWgqhCm3LWMrAyhnLw4x+zOpLJs1szIkObU7HzRORFFBPUT6SIJIIVKGUURT5k2yS11Vs0/hWkZS1ULVTOxAIDeaPwRBLUPDRJY66TtfQapCk037RWdCk02ESahXRlHXUbxZXUPGWC1WNlOETl1Jk0PmPOpC0EFnQ6BKYEDCPgdNLz7SQBBOf0c0WXlKikJTPxVGA0VrQUpGDT73RClJTkRxQTFFEk8nVYxXckJDRnNDzEY5Ozg2ijnPLv02LDL9NBYwyCgJLtwpTS4GK6ot7i6ML6gtYC0gL3AuIzKKNcgsQjHdK381KDKlLrkw9C90MQ4udzEwMJEzpDkPOgI5ZUMFSZFON0IERpdawE1YYftSHVatUbJT9UMeRXJUAlREWxdM70zqRo1EukUUQ69BGU8XRANK8Ez0U+5TuFK7T99UtFV2XUJV7U6WT79JPktKRZRDjkcgQNs4AUrnSG1JWloZUW5aJ1WLTtNTUk2CWNlXH1J6T+JIi0SHSe5BpT+3Rx46ikW5O8tAdkFOO7c4TDVnNK4xVzZwMZw6lDuXPPg1lDFTPGw3tTd5QOc+kUeOQk48aTjbMhQ26DZmM6IywD4/PZ44czKBRO9ArE8+RSI7l0RjRwpNdUxnPn9BhEO7O6o8UTk2N+ZCyEJBS51II0N9SvNPTljTUMBhuWGDZIRmLVVMWZRYm19PVqJMf1DKU+1XtltyRlxFLUraULpKXT+bTudLwUojUJE/1D0hRW9JRUuMSUdHMVGuVARNCkQJV79S21yIXHpIWFEMS05MP0WjQo0/okGDPwNFtUOaS6RGAz+uQjA7zTWsN0VAikbBSMs9+TjDRX073EJERuY7e0gBTmo+XUW/NWo3CDkQNv82AD3vQmg6dC/vPEw6GDFNSKAyPzcGNRYyOixZLi4mrCmSKfoobikvKWEqvysfMswtAjmJLxck5i7PLm8tRC4RKg4vlTIONXMsoDblONE0R0ISMKo2nS9GMG4z2zPKNzU6Sy00Mk0uoiw7MX0rOi8mNZI1Ej8rOAovUDHILX8vuCiVN6s2EjflMwMoHi3HKtIsTjIvORQ4ZDmhNW00VTJbPsJB00SIRl5GKjZgOTA1sTScN/IvKzUfMSExnzJ4NSg+MjqsM6s8mTX8N7Y7WUPeQM9GFDszN4Q3OzduLwg1BDiHNF87yDnXPzI5FjobPTA7qD7VOOI28jwPNtJEgkSfPk5CWze6Pp06AzwOTZZP4EwZSm9AvUBzN5dAVTy7NttBekL6R/w4hzp2OXU+0DrTQ/BRylK2Vz5R5ELESNJJWFLeRhZO50ydTz9PoEufScA/pj1wOfE6Cjw3NOE0pTFcKzItfi/TKIAxFzM0N4gw4zAGNWEu7jeUMhgvrDQdLJwodiYIJ2Iopi+gMOsslyQoLhIrFSsfL5sxiTkwO+ErOTSVMvg1FTZFN70/hUv0VG9QB0UgSx9XEl89Y35OElfiVq9lk08bUYlOuUyeW9xQllJyXNBQ+1hrVlxRfFWWW+BQd1SeW8dqVm/IWJNeWVwIZt1tgmLFYSxelWIfXmxbW04eTqJQ+UWgQUM6jTueOIw9OThKPzY2PzGKM9ou8CxPMqI0NzMqN3wqRytJI8skoSfsKjQtzCtrL+AvPy4xPHQ9/kK4R2Y0S0MJPkI/XUkaP803bz7MO+4/DUPUNPw50zMrMh81Xy04OSU2bDYFONg9vj2dPLo2sDnLPRlHrkQXOgw6yzq7OMk86TkbPAZKdUIQSwtLvD+1RVpG5UCrTY5InjqLSZ1AbTqARaIz4jfjPSw6dD6nPkE44DX3MPotYyo5KpgprCiALmUp4i8SMp8n+i4NMQYldzCQM+wwvjL6LQYucS9pK4sm+CytM0U1PDSCOJk6+EEYSgo6oEJRSARTb1OaPpA89z3XOQE61TwaRxlLnkHzPm1La1MiWzRN9j/vP70870D1NlwyljxTOlE9QDkPLuA6vULlPnpAL0DzRIpI0z7HODo/VUAITopEVT3yPaI4czazPHw+jUfOQAk24z4qQbREwEHXPGU6GEArT/FP1knzS9JKwUhdRrM8m0c4OTZAvT8BOZ1ASzbFMActQzFlM94uMjcZL7oqCSsILGww8SpzNic3gDtTPMwy30C/Ps48cUv2Q19PMlELTOJHslAhURVYSldSUbRZFlp8bm9qUmRLWjlQ61v1UO1dA1GmTq5QlEgNQNE8Bz1SOvM91EKmQM5E0z5zPp9Edj0ASWdHYUGXQ0xBX0U8Sho/xTxERs5C/0enTa48REloSudRyFZvRTlJz01DTjhIXU5HSzdOOUyQRFNCBUa2Ru1AsUR+Ovc3BUIyOvJFbkRAP9dGQTs2RpdEKUF+P1s9yTvsNns2jTkFOVUuU0B/Ojs16UdGNIM12zq8PSs8Oz5kNIo0cDB8Ko0u7C+TNQM23TReLCAywzSPMQU4LS+uKxk6UDwlQn01HjFXODA3GD/bN3UvMDvOOxU8WUJBNLE2S0m0PpBMrE5YSOZSLkMESYpNXUoVSSRFH0ACPBI9PjX8NlUvzTV0MXkzvjMlMYQ1hDC0MiY11TTBNTI0FDB5MwBAc0ERRy1HHTwGOftJzT2yRGNPa06GUtxF1TzcObI7vT1JR11EsD2rQjFHsEEsQbpH9EaVTHZI6kDvP7c9Nzn+L6Qy4DIsLVEtLzC5MVsvyCwUN1g60DipRBA5LkD4Rt5OQ0WRQHNFUEYxUGJCHEKJSRFAfT41SSdFPEsZRWJD3ECNQ+U8MECPO04/bkMIOvVDDUx0UZVTD0cpQadFG0YfV2BPWE4fTtNNO1MDRCY3p0ZmRLVCoUy+On47lzfBNQY4CDevMtIywzauNE4tyixGL4M2kjLyLK0xpS4eMeAvJSYnLQwvJTMtNeEpvCseKNsgMCy8KNssYy2TIrsoxSYkJq0qKCY8JoksMC8aLKAzZjEwLdIuIDesNbc/5jfCLtI0nzPnMgMz/zLCK+85ETu7PtA9tzV2OOI7X0WIQo5AWk6KRcM3IklVOcg+/j5vN1I4sD7HQ0pEP0DPRDxEF1JvUeZD3llyUKZeG1vBUAlRclN2QyVAo0jJS8JPYURPSptQ3Vl+Xx9adVOVY1ttW3UXaM5qimwSa8pWt2RTX8JePWfaVHtTvU5bSKFKxUk0QQ9UIk7jTipVHkUrRGtHAEB8ObpLizy8OWwzOzKYK+srBDK+NuU3bjSkLzMzHjGLLpkyMipKK/0wrzEIN2MwOCt9K5sq6ihXLbc1ZS4XMwY5KkQ6RbM0jTZzNqwyITt1N442Zj/8OHk/7j7bP+5EPj5qRq1MHUsjVgw+r0TPPQFHSkSdPZg8r0FBQAI+LUakNyU8uUZpSfRUK0/MShlNf0OIP8FIaURkSxFMNEPbU5dItUWbSrc46TjRPUQ5OT0nMyo0GztcNaM7VED+PUNHjkd7UDhKLFoiW9FOWVd4VFdTl19KV6VFHFtEVk5XOmZKTmdR4FrgX+NTi1dzS/BIV0mSPM8/ez83OE46nDqcMwM61j91N2U5bTwaO5k0ST0+PGw2V0D5LwM4izcuNpM1XDfhObgxZzsPNU01gz0oQbtFKEJ6PYI/ODQ1NfQ0njE6M0svFzEtMo0tZisqL4Ay6zHUNqxBXjxQTBdFuDP5RKs2mzOUOGU97DqwPlQ4EjAxNckyNDViNyg2ezcSOhosLS+ULPgx9i2HKAspQSx6KTcwvTDGLaI40Tq2QLdAvjy5P1c5Q0pkR2NCgj+CNt83ITeVNoou3DqzNIE4cThIK9QyFDJOMUMz8zUjMGUyXS1tK5grri3cN3s1gDqINgY0jUKwOudBkDnrQJNBFD0xPPo6kjtePZ09tjgBMfE9QztMOdxBMzWlNCc0+jMkM8MykDwuNugrSi9IMfUvyTQ0K8AunDXvOl8+nzk8Nvg4kTJWL58qojDHNNIyXTAnK4EtKikILysr8y2UMYI0DDzsM7subzR4MwU5czVVNIs4HkafQK47DEiTRA5KU048OhpIoULiRUlAUD3oR55GeD/pRB9M3FIeWbtHhUzBSidUclhRUQhPeFhKUJxXdFqPZxF0vGUqZKBz0nHPecxtKFRDUAVQokjtSLRJG0YSRsFN+kfTQ9BH7k2oVRNS5FRnUXpJ30qHP+pC4EefQg5NJ1JcTrNRT0ufS5pMVEoQSYJHnEMbP2w7RDJOMvIxZjYXMmIqtDSVNCA5TzfgLrAt+jTxL9AsATYDOp4+a0lkPLI3pzP1N7UywzU6Oc1A6UOgPtxBrziBMnRA+ToIOtZNoUmYR5g9xjVhNAM2EDClMwAxFjQ9LvkpLTKnMBY1ADPXLrAwIjFnNq4s7zVWNkk9VDxZM3kt0DmAObQ9B0VpPKw4j0QAPog99kavPMo3kkc8RbJAHViQPFY4SjqVNUAwETc5NHw1cDi2L141lTtILwIy+ju1ODQ2IUVjRjxF3Ud5QGlDx08pThhMZUz/VlxWk2BYWgNOh1tWTs5RPFihUohW1VTDTGpN+kJwQSpAtjbMOo42FDcWOoQvtC5jLWAshC7BML4w5TQPN5pA6y/gMfk7QEZnQ2Y7dDDzMhc1zSxGLWA0pi9jNLA17TOqL0Q16jQmNCo9pT9BQDA/1jLIKgg03DKmMCI1MioQMc4q4yW7KTMr9S49MBAvwC2eLu41hzIvLlNFNEIWQg5TZ0KNPidODj98QRVO7ktcQlw/qDlFOnpAoTb9OeVB+TxGShY/9TbTOC812Dh9MRk6LzSdKi41dDCkNaY5PzA9Mg834iyvMsc6/zT4QnpCjUWYQz5FvUkwPIdDsktVSoxV0Ef5SKNVi1OfTLlPBFDiVfpPK1klTOBRJE6lUMFUj0XyRwNM4EjlPiVQH0ObTvVOSD9MRlI/tkbmOnFISkKVRDU80juIS4dHY0cWQ045mkGUPhJKsETCR4dEdkUBRQY53EsATBtTPFRcSH1UXk+qUwlSnlX4WD1ZklNYSPxOU03OT65YylDBTN1RGE76Q3ZI60wcTIpiJ15xaoVrt2GrWf5dbVjmTfdriFjoZX9imlqIUXhRYlrPW2hfQ1IxUilSgVZPXLhXWlu6WnJkLF6WUB9VKVBIVWhWk00eS9ROaEkCTENO00p+S0lJh0xORKdV61bjV4xYFk0wUMlLyz4FRfVHXT38QftDMziXQFNCx0E2SDA+OUD9PflKGTqCS1tL+kaUSRtBBUDXRv1GyUfGPCU9vUCxQyhAKzgqNkg03i9wLP4ujixpK8Ynuim+J6EtsytrLRAyVTNDPDc3yjGrQzFIPEnLUdxGRFQZVYRNLVkDWs5b9F57VCla8FDNTzxOVkWpTSNGQE37TgBGwkFzRPI6UEHyO7c5Wz1yPsQ95UJhOC5CBEZLSyVFdT8vOz9BNELzMQdEZkLFQ4ND9z2bPxdDWkTlQdQ9N0mBTmxLVVPxSrJHn07GRfk8okk1RaZJkE/SRkxMfEApPWs92DoFPvRGNUZIRZk7/jexPFxA2T9ZR1c8rUVpRMVCHT5DL2433zL0MaA0Qy7DMzAvNixjLNIzUzapOXY8WDr4QDxDTUMPPg08sD5GSBxIPT7XOuY8PTJpRWFCID7XQsw2WjXWNr80aTYRMRkyvzJhNpU5UzAWLrgvUy+IMm0rfSxgK8Es8yMNKxwwizbnPwI5KDO5OIs80T6MN2M1B0clTtRWkFPQQ3hBMkYXSqpJYz3OSVhN4UeuRXs1rTKFMa0zWTPVL1M3njQsNFkxACs3Mgc15zeKPTxE4k6/QTdECkDWQJxAwTySMkU3pkWQSLtQQUJ4PKw7pj0sRD87DUXJTlVXv1dQTEhDcEQCTVVM6UVASRVEzUHPN3YzATkKNSg2jkGjRbY6FUk4SQ4/DU+KQ6k9A1RkTjNDFF7GO2pK30axSl9F104RUj9H80X2SuJLYVaYRhZGzkfNRghKUkR+R0g8l0NCQ5xAcEmTR9RJQEmLRR5FtErwRn89ojvKQgZFxUOePjY5dzWPNUYyiDASLog1KDVNOZA02zI1OEI5pTXpQTRLxkwpU2FAvT5AQ+RA9kwgPcBA+zrAPCA8Hj0tSDFDM0QMQfFCq0C7PjlCnkFaTHY910pMP19EJkzLRDVV3FCGVUBQCEZFR2tBCEaBQ25K+0S7QLw+6TbiOeYwrTduNdE6hT/RO/w/OkTxR91GbD0RP6NEgT3mTqlFekbzSDo/9j1USpNI+lG8TjJFKUjuPOs8wTsrPFQ7kDXaL8ovpS80L6Ixci9fLQ4z5y9bL3g5LTllPO826TlgOA85KkXCQxlKcUm0Pg1IKkFVTkVQ3U3ARcdCqECdP2g/3zwvO6s5v0fsRcZHC0kZO6BAnUY7PyxF20zrS99N2UC7PJU6BEU2Sv9N2kizQmBItkghQHU+TE+6Vkhbg1X+SSRFo0j9Pz5EzT6UO8s89TgGPg4+ljckN50tFTTRMx83HDYQNT0xRjOpLnIxRTZnMcFBMD+tQwtMkjYvNzBA4UfCR4pCaTm6Ntc1DjOtNFkubTd5OYM7rzdQONk1Vj6DQFNCiEPOSa1A/TyvRhdFdEnrRGs5DEI+PeA+fUeHQa9BlUR4PV842Dt+Q8VFuTm6S0hFIkRvVQA+vDqiRAVB0T0IRSU8FzbJL/AtcimIKXguri0PKnwlfCQOI7MiHCJ+J4chTiJPIC8e+h70IUwcbR4VHjcewRwSG98WjxiYGZUbQRooG94f/x3dItgl2CGjL40r3TOGMEgtnjZDNjU9fzKWOJ8wnzJ8MqUxYDX5NEIzJC0dO7k7tDmRR/04MjmeQDYxQC/VOLs4sj1HP1g5Cj6UPFo7FkiXS3tWolUDRqNHAztwQoc/gTaPPF05pjYTNi08zzaUO5NAxEk9SvtKOlOTV/lPklIWSL9ICUYzSaFDLD1AQXQ8R0H1P8c3MjTVMoUz+zMRN3s7Az8IN+I9pEE5Qs9TGUYZRA5VpVUKW/pLA0MGRkVGO0YPR+o8eT0kQJE57z7QNcc0wD8MO3U/0ERVS8NIRE6SWUZGe2V4ZAldeGetWohYT04MRuZDsEH2RBxHREOxS/pE0UMaVR5Ld17EYwhRM2FbTa9UU1HXTrJD8EMtPMg4YzzZNY5BXzxEO208/D7xQr9IfkDvQeVGNEjTR19FkDwOS+1D8EXQSl88/0cBQvk9akIXMz456DXUOHI0jjhSMT05xTa/LQ9CQD0xQqZLqTVjNks4BDYAOHg7fzPHNzU67TzYOSU1tEFeOKtF8jnxPq0+HDsdO9s4VT1iPvFGgDu4QCBR8VFEYnRdrz81UgJR0k9uUMdV0k+5XA9Ze00WVgBMt1DUVWZH+DniQkZDE0BCOxU04zqbNhw5KDK7NG43Jz6GOoQ42T84QFFGrjw3L8UwFC/5MoctFypeM0sxsC41M0o2/S06QY9ElkCKS5lLOVJHTzpISjzORg0/Vz1eRDtBeUJOSLRDlEFpR2Y6Bzb2PGI5lj7jPpYufTgSMIA0uTqGM+Q4SzX2NvU0/zEAMpc4iDjINn86sTboNvg71S8IM/g2eTPVNWkzay+hMxk+rkDbOyU4OTFbMUk2ASqvLaos0ytKKvEw2yt9KuM3eTnSN/E2vDLOLMowKTDpNkRAMT2WP5Y/cTgFP2I7RELWTzRVgFzsV+ZGHENhOhI4tz9cRqpHb0XnOjJEoUATSBNSTkjiULVWnk9yTC9DP0XeRnVEADndQRg/2UAHO4s4ikDyRLtTGkuhSO1L5kYySXI+tTZFM1I2MC28LJ4t4SdNL30uqy1bMf4sNTVMNSkw6DV1OfY5Jj67MRU2XDhfMp41pDBFNOowBTJAM3IxPzWDMuw+ADu9PMpHs0bLWfhcXUjmSsk/0UBjOrY70jdgN/I3sTQyNEszGDK1Njs9Iz7XTXxRzVLFReRCSEZUSGJRa1FoVuBk5V6WYlVaAEBNUcxLMlFNWX1R2lpqVExEREYDSj9CVkeWTKdLkVK9TMtHUEULP247F0KaQHhIqUpsR/ldm1wjVDFbN0jnTLtPUVJ/TaRIMkOiRPs+yjcwPzo/O0L7RHpTd00KXzBRzEWLUjVOw0jYRqpKe0uxTy5DNTvSTNhOGFXuZYNKgEzsSytMtUHKVO5bilgTWl1JOUhwRxZGRDvISmVJX1C5VCFJikE4TKNBrkUeSj1JzUc3RdJADkGrQ0A71DPMNt83yTzKPR41+DSpN/UxIjiEOX48GkMEPHU9fEasTadQKETIPxA7d0JXMw05Tz46OX1JwEDbRFRFyT04R1tH/0UbVddSbFUFVhRPGVQJV3tJ3FgKVv9V5VaQQyhIqkKJR6VGIEReSro/z0CHSkFKvEilUfE/CUnVRdc78kPxQpFB7klSOyc9Kz2IN/Q4zD1aQno8dUz8SgZLOFhpSO1SuFg8TChhi2FuXOtpV08SR99HekGqSXE7UT7LOlQ44TGQNOsv4TO9O6Q6fUF7QgNKP1EQQ1FB31SGVhFTRlKARR5IG1EhVLNNXEkBSZRHc0cIQwI8FUMWTPBJ9VMYVYJVe1T/TL1JtUzLQaRETz9nOsFA9j8KQNs9Fjr7N0U2nDTWO8IyBUA7PUU5l0CXOJ0zCza7Nd01KDhlNPQvsS7JNwc00i1JQYRAYEVeQXU2NzrPNUY+hzxUOTQ9wjtVOzo+PDWHNSU+NT+cSEpEX0rMT6tDXkhJT/5ORmBlXi9XRFqRSI9M1EYkSN5MVE8xVtdOf0dqRwY8pDrhRidKQVPzTndENkACPpw0fDygRMI8x0P9RxJIgkshQW06ATirM/g2azfIOn054DMMMJAp1ChWJWQu0TFqL2g0MS/+KRgj+SLUIxQhHyUUJVok1CG4HKsa5RuPHhkh8iR5JcwoACpZKr0ukirLQNw9njUHQOsxDzQqNWEwlDU5Nko4M0SkRHI6iztqNn4uuDADOls7pURIOvIwtzZ1MUAzljoEM582iUd0RmFM9kPRQE5B10Z4PKc8xDk1ORo2ej2kPQQ+MD0lNPIzTDi7OxY4zz1lOVkwojrkKH0spymrLMYnGizeK7gqXiLoIsEjXR91IXUjkB9bI5olfCQ1KBwkOiceKDsqYyeILqg3GD1mPyNHa0ERQo5J9T3OQ11OhFu/ZLdark7vTqdDlUMMT61EDEHqSRRFBTomSwwx2zUxNrY29zGMNxgxKTKuMCMxmS9SK002uTN0OuY4ZTnMOlwv+jFHNcs3Jzf/Mm8urjdWNMovjkAVPc9C3kRZP5E8mTggOzE38TzFOHA5Bjx9Nfw1CjghO9o2T0D6PltCO0fRSX9JQUjXON80yD80RDhAWz7POU86HzqqNsgtKTiHPKhDV0J2O1A+tTtiNiI2yj2TPj1LVkTQOidB0UX6RI86n0qEStxRzkrlPLpHv0L6Sz5JTkmJSSJIMFJbSV1GwFQWTcJLCEk/QjpK10nqRkJBxkS7Plo61UYSQBFLO1VjT11UaUNXQaw970L9N7I930StRWZGYzquNK4vyjpyOn0+Ez6cNTY16TGYM7crXCftL88vmTRlMl4t4DLVOOhAPEOLNGU8xz+RP7pKNkXYSJdLMETyPi1BH0I0RZlK2D+yNi9FRz/nQmBNuToORuRGy0DiSWlLpDq6S5pSAlN0ZWpJNlduXyhYFVc6TelKHFAVS2RIhUrbSIpRG09SRKJAWj12SXE/9jzhQP1BUj6zNOEydTB8Ni8xOzMXP6pC6EP/RiRBwzy7TxJQlkfVWUtUJVc+V1JNsT6RQMxEJ0ifTcdNylQkTFRBGEfhQQ5BnkPCTcdLx1WpULBLelKbVcFQFE8pTiZQtVqMSJFb31aGUARTJET2RJdBEUciRSw/90NrOgA3/zgvOdA47j63Lt43XjYbOUlARjZNNGg6gDIqOMo+jzcWP5w/GkKOQnI10zXpL8IvDzJuM9w2uzDqJxUn5SWEJR4pxCyALQYxBzqrO0gvxC4zONI0wj9bMyoycizwMPQqyC37MRYxRTnUO/U9jjejOos8jzb+QAhENU6iRHM6u0lgS6tTTlOmSbhGWVKdXSNX8U1cUsBWf0vDWRFOSU4eWhNRlUlqSTlEikLBPcRA/EjJRiNKd0BJOx415T7WNkI2HD3kPjI4TC/jKoktgCuWMlIvMCv5Mbk05zcoMt0vwTLkLZY3ITcoMeE1fzGnLxEsaTIVON82PUBxQEFFSExdS09Vg0oBSCVZDFskbPNZcF30YLFqol0KWtRdxlm+ZpxhiXcfflh37XoyaXJu8GfKaxpq2lwCY9Ndo2V1Xcdek02BYFJeb2MUcDtiJVzhW+9bh1ptWcZbmFEnX4xn73EXe0Jsp2bobfJz433/fyNtcGbMZIRiCmhtXNBSn1MNUaxNak2fUC9OplJJTItO0FA1V3popme6W49YukyuSjJKaUq2RWFP4EGxPx9Ks0XmTyVU/EtwSkpBwUHFOnY/DkcJRLtD30UuPmRBADvINVg0IjSxNoAx/zPXMdgsWDG1Lr03ZDoyOL03Bjx4Q8dBLUsbSXZKmFMoUpJZNlLaT7tNA0uwTDZTxV2XV3FIzloIUvVr3Gf5U6tlyGIwYz9kA1pMVNBcVFmvYcpjuV4ZavpsYWveaPRjBWZfaaVjbFYadStuiW+deSRhol5SYfJkIWmdWN5UJk8dRslFWEcJSIxHQEbTPUI/AUN/PvRHGjtNNftD0D4IPQo7RDPNL6YrHy17MPYtODFKJtIiJSSiH2wcUybDHUEe2yNAIdscdiPzGJYZlR4qHLccByMpHGAg0xzuGTgdkSAjJfkkmSStI7ggniNJJNUeKShjKrEmPy89MI0ygzRILj4qWDiiPK87tD09P5hB3kC+Prs98ztVUCdT7lcsVoBKLE6VUkNJg1HkU6pbRVdEQydH+0ZKOq5CxTuqOYc8kjlqQYg8wTtUN+k+RT55P+dIjD6SRspR51doX5lMVU7pRiA9UU3IR1JKBkySPgk54TV0NVIzYTiIOFg5dUEvQO4/TEB+ME85IjYZL0I0ZzNuK58sJCSsJPEiMyD6HXwe2SF7H2glwiNIIm0gtCWqIe8i8i1FLF008S7IKzIu7TPALI41yjUUMnBGykMTRe9IbjRbSHREHT5QTl4+xkH4QLVDFD7pNzI960GzPuRJfj52NOQ9ez1xOJI0gzWNNjU7DDiCNRw5TDUuOzdAf0A8S45JP0f2QrpHxT2DReBElT6UQ144+jlBOOM7N0CdPKBBYzoSSENFsTkfPBk2XTmuNt41KjhUN/Y3UTaoNSgyMDlfOKUz/jp4R5BI5VJvQH4+jTuYONE92j9JQgNGvkH8RQo+/TRLNvg8CDqxPvY5qjsORzREXUh3VqtCOVBSVMJNb1oSTmhJOVwLUbtWPVlQUA9VCU9VUIdLzE1aXOFNSEtZU+ZYxVTIUuhCc0hFRv1PdkYZRfZQz0qFWYVOBEpYTpJODlE9RwpAE0gWP8NIg0y+S59N1UqjU8RUTk9QarFlnGehbSZermERWSZee1fTWWhWJlRhSeRJz0I5Ri9KbT8FRqo+aDwAOpxBx00ASJ88sT/wQRJAPT+HOoo07To6PDRBpkEXOVM8tzV0L2U0sTwwQC8/dDhvO6c+WDkIM5Apky+rL0stVCtpKAcn5CLXI/shpR+xJ1onpSgVJtwiWiR/IZkmFSpLLAEsJChaKp4nWC9BK5swDTd+OW0zwjSfLfkjQDT5MSsxBjNfKlYoWC4GLOksVDDBLd00VjKZNUUuQybVOt01XShwPZgupi8IMSQxDS7VN8Mxhy2WOqs2XzVKPVQzIzjwOvs21jAqOUQ2/DtBPAwy3DL+NZIvTjYSOEUqiz6KOZY4HjhrM+kuwShHNgkzEzOyOb0qWDCPM7UxMjuGMQUtgDd5NBQ81zeGM3cxozdjOUcy8D0pOS45jT4pO287yEjcRiFJ9knOOv9DmUIKRLBH3zvfPw1HlEp5SsdEgFNHW/decWG/VNJQb1uZVWxVt0zBPgdC1zxtPZs6KjovOUQ18DfEM3Q4/jzzOE47HjVwOKc7Vjd0QmhDZUj0Ueg6K0RoTRNNvlKbT9k7OUp2RfhEBlHfQuU+MUf4PSo4YT30MgAyNTi4NVs7EjnBNJI5fDnJOs8620kATxlQPkwsSUBI/0xsSzpB20xKQHVNeUziTHxNGELyPqI5P0XRQtpBJkcxQ8dAEEj5QRVIYEuWRZxD5UDjPItEMkEAT7RQp1SJWO9JeUKXSkZJXFMPUmlGoVS3VA5W5lOgTONLhlT4YlNazV2kVpRV61fxSG9Lk1EgUWpOBVIwTWRWd0/VR5xEQjZ9QPU3FDsyO9oznDegNkYvKDBGNko0+zpZN8Y1ADxFTC9Ma0IvQy9BlDlQRjdI20KWT/JP/1FBWP9MUVEhTsFNJlUzUiVjpVc+VFtaQVbrYKFfllzRYo5Z3mLzXJNjF05UVP1U2k8wTnRQZVZjV5lVN0pRThJJi0T5VeVMKVseYN1TIV0FU2tP/lAoTTRL9lBrUfNMhU98Qis+OkFAQQtEGUaEQPJHVEoEQ81J4kruTD5MxEbSSD1OHlIhVg1T+V0QWRpmCFVKVzJXUE7Maeta81voZ91PBVlzV+Jbx2DcT2RKYE+zTO5LCkjtQs0+oT/dRcpCbERIRPM5Rjo7QdtBT0lsPUYvrTWFNBc1TzdYL9ItHCtKKYom0SJmKJMrvC5hMYonjymwLOAn8Su+L1AxCjUBMgItgTMdMRQuUzVJLOopdipoKaMmbCdAKlEsJi4wKXIryDDcNBM2wixfKSAmcCkvJBUlGia4K+UnmiPVLMIvDC98OFApXjEuMdA0hzV9Kew71TxsPKVElziYPSlGN0WoTXBDmVAMRDJBCkeYP6k/W0AUNkpBtj9tOK9BnzhZRrRCEzU6N4s9y0BJQzBF1D4dTHZKbEzEUCZTrVO4TvRP/ErNQx5S+0G+Q09CPD36Oac/cDaRP6pAfUi1SPc4XEOFQHpBpz2TPVg9Q0LuPzBAkkAcNnU7W0FhSKFGoj+1N0k1hjHXMOkvljINMMozMS9/M2s04Dr9QOk/wD7jOEI1TjnOMj4sWTU8On86zz2SO65HmkVxPw9MqEgsVJxcBVjgYjROR1UdUVFLZkwRR0hOE0yzQvs6xUIjO9w9AEToQ8tLZVaCXG1YvEspUr9O8FbyUaVXQlPAYWtR7FGmVpBNLlETXDxiMlvOZM1Q4lANU1pK20kuR5ZGDEavSXk9pDalQoU/1D1rQCo0FzoWLncuiCqGLxoroiToJ9AnnyoqKtYtbSnbMssuPiwsNus5vizRQ+UsjCw6Ji4kZiWNJNIkUSSZIzwgXiBWHL8dQyCeI+khyyjaKDEuNirqJF4k4CRwJqcenSiGKK8svy/xKWYuaDBGLQEx7y91M9I4RETmS3hLDD/wNSQ6xzrQQRdErT/1RBpBA0j6Rvg5+UfmSMBHJkU/Rg1EjEM3P1I6J0LEO+NBkT3mNGQ7bj/XMZc61zXhOBU94jCXNpU0Cjq9OK86Hz/EPds31jiXM7owgTPXK104AjmHPBM7PDXINdg3UkB8Pa8urkonRbczhVVcQFY/LEQ2PRM0oD4GR9pA6EA7POQ7hT6PPms2uUGkQl9JB04HOWs16TENMfEsvDCiMasuwS4oK1YqjymVMbgsZzdIOu89oUPPQJtW0VITXelegFg4b0JnZmCbZ35SOVrxVc9QYE9FUe1PclUCT6JX+FZfUC1eRleXXeNYwVenUwRmSFt+Y2Bn1WjLYuVrR2OsW/trEF0xWBZdnFFLVKxXoEdJS8lJN0WASlFEhzwKQDk+tUBCQL42fjeJQvNBRUzuStBSxlPoTwtZskxRU9loHGVEcQhpe2ToautX9VBuU2xULU9pT0JLckigTXFOAVcwS21VclcJSr5nGmC5W+Vrr1JGUYtXM1PxXOZjAF46bKpm8GOtXnZKhFS0VCtTT1AbTAdJ/UQMP/g4/0GORGVPTUkcSGBJrExxSxhDfEVAQx9AmUnTTalOOlzjTR5ebF4XRVBbuUoNTGBNy00sTSdDYzvxQTpA4TeiQFQwITbSLnov7y6VLCwyOzDNNA8wnjlwPRM1CE3nR4w5hlOCNxk88UCHPoE+3DjYMrUwSixtJsAp1CXFJ0EuSjC3LqA1qDFQLTA1Wy5/Ll050jTdPVc5SDGnLsUsRCzFLuszKzMUNt8uMiwVNG01pDdZPn440TWBOloy6SzPLHEmzCeyJ80rxyo6JRgmZygUKD4n2C0FLG00ai9PMSMyuzIYM9EsJTV6NpE51jklOM0wpz+0Sm9LKU/jQwxDlkPWOUY1LDEbN+gvkS+mMbMu1y6nMkkwiDALNVY4WT7RNUE5BDoLN5897jY8OB06nDHLOqk9iTn4OlY6CTz/QmpBhkMURsk8iUC3NlpJjEM9P3dGbDNcNt00GjxZNQM79D0jQn43iUHiRX4/PU4QQ2BG7Et9Q6VE50QAPqdAi0ajOotAUU5BU1xZXE2qVc9Uf1m4UKFTB1NgUphOGU2UUSlU1VlQXepJeFx/Vu5KnFcEQ5s8QkTMOyBBQEToP4E+zkPQSKhK8FTBVRtNSWmbXW9rA2eLV1tP3GEFTopQgUwoU8JR5UYmV/pVIVLJWMFLGUL2U5xT1FA8T2JPWFYQVIZCX0kbTSZQj1GyPyRLsU7gSS9TCT9COrs6tjRcMTYwcy1pKhsrJChUKYEqzynILqosxi/sNbwy1j5aNws/kkTrQ+461DspMbAx1itELMEsSCnnLakwsTI7Lvc0wjkOLn5EZkjtNkNWXkRzQn82fDouPW46r0jDPA46ijhOLy8skDF4M9M0ljJ1MHo2QC26KYgpJipnKPwvRTN5NTg1Rj84RcZCej1+SypISUYsSnE5PEIJP+JCTEAjR9xFcTwAPeo26UptRG5EIknBORk+vjpzP8Q5WTpfNmIyVDgpPYZKLUhqPAM54j7CPP8260BdQr9Kn0suRGtJEz/xQUpMk1EkTXBOE0smSo9NVTveRXJF6EIWTAJLI0dWTy9QbFkEVOFGNkrzT3NRQkfIQz8+30A5PMRA0Eg5ReNFnj6AOCk5pjyfOrQ1qDXdPso8GDkbOC9JGEcgTxNG9j5jP2dH8z34RqVOCUdcT9Y2wzyANnc7ZjvjOME8BDwxOqU9yz5SRidJ1UHXPiA/CzxiOVc5BDVDNq461jpSPkg9nDkiR3s9DT2uQb06jj6EOVg5dT4WP7U9sEV6SQNFzkVQU75TqVVOWVhN6VcWXihVnFo3XQFPElzLaUVo+nkRby5qWGTUW01TdFEEX6Nd+GVsXnFS6UjUVulNXEh6W4BU9WFHXzRNL0XsV/dMzEu0WaZJslpmWEpWKWLxU25ZeV83XV9amF5cXqVnPmmJbA9xt1kTZFZgxWYnb21g31tPVKlVT0XSSV9DKkL+RaM7XD9pQvdBREf8PCcwDTEJMaIqvi0GLDUyjTGWLa02ojbKQhhAYDv7RoFCtUKwSNc2yzyEOLMydjpNOFA6MTgTLCov8SvVLwUrOTPSMcwxsTgCL/c45jpvM1805zeUM9s8hjU4MV8yyy+JMxQ5lzVPOsA6Ji2HMo86djvDRA03GTlaOS06JzZONMM0ZjLTLnExdCz2MGIrKSx7K9sm0Ss1LkArvTG3O4w38EOROaA54En7ShJKgFVSTWhGaTvgQ7o7YT2bQ6g6BzerOI01WzTeNRsxrztoQQBIXUPkQpVKhEZcRzY7yzRlOGU2pzqQMnc5OjlgPyI/4T/aQ/JFUj7KQZVKDEzHWJRFqj2AOwU40znhPFM4sj7tSHVG80SgQCQ3VkTMSMhGiFBwQxhAMD/OPTc+5UA1QjBPAlWXVztWt0qmQ0JC2EBKOuk8Oj9ZQaw4njWUP/xBC0n1TJ1GIUwPT0BIPz4GRWVLNEzyTEFMqFW/W11QEFAmWrhJZWYDVyhOY2bXZVln8GPpURVZ+lqzZIpUjkrBZXBgB2MgYPdLkVW5VBhf7FnASAtezk/EUbZWs1G+XkZdu1FLWVpZMlreWwtg9FXLYnJrx2YwcMteek5cTPFJj0PKRmlLbkkaR5Y6yDcUMS46kDEuOgk6bjSmOUwxKzcTMtwzADcuMwQ3pjQsPSI+hDmeQE1EcE9NVVdZIEpJTlRMjk1pTTo6t0SWRttGlEMNQq5FXkgnP3lAxUNhREI8yTetO089eDpNOiU8kzjJRbo/v0XbRypQHVQhUHZP0k76TolNEkGjQx1E0FIOVB5Pw010RVVEqEsoRFpKHFgHWgJZ6kqpQ+hAt0HSQTxIi03BUL9J90rtRTNGwlP/Qw1RhFZ5UxtdtEi5O4g33zlOOME4sTxuNFkwvzKALJkxYzOmLfc0DTK6LeozRzgDOW82hDHWK98tgDAIL0Uo/Ct6KGErCy1dJb0mySYxLaEpnSv+Lf0t3DiQNtc6RDdoMEYxAzNYLk0uDTf6M81EnkHFOYI/jTZ1NSM6tj3aQbJDwkHTR59DnENiQIQ+B0ZFQ0RO8VLAWU9OmkWxROk9302bR9JDo1CMSWVIZEdlNi83EzivNkY4ATNvPWE46DpQM3cu1jf1OUQ9yD+qSCJJLE2qQ982wS7+N9A1wzaKPG8yBTAJLdUo/SQGLKIrpCiENLcxHjKQPQgnBirwLD8nzyq2LJ4qXy09LyojdiuBLU8ykjn8M9IqgDcmNpo9bj83Nr8zBTkWOM4sYDsJR8pGeEdVQOo7DT2rQhZHND4yS9FQn1BOViRPEEjxYF1TEVGRWgFLu0dqRhdFCUw8R1M/tEOzPwtHXVAqVBhfxFTMXy1dQFLJWtxoU141bZ1aJl0fWVdK5kUMQwZFzUDvQclFBERUQDxOG045UDdf2U8ZUFln9WIYXoxq7FcsV7ha0lGMTm9T70j1TnVLLT2kRLZBJUvSRUhEqk4XTMVGWU8WUmFZCVYGUnZK4lr6W0RTKFKJT+9R91nfUhpTmVX/U11WJEPVSOdCz0kWRtc8RDyHNtAwdjHZPpo4x0EaOXowhC7RLPwxdCrNLiYvxjXWM0IrFi5wK1QwxjSaOWM+ljrmOt038jaDOPo/yUXsRYlFakv3TkVQoE5lSTY7fkVBQoY9OUNuMD4zhjLeLTMr4S3lMAAvLTA6NFg0okDkQII+TT2DNMU56zOlNQYycDDdL/orlycLKsko7SELKL8eZyIAJlYmUi6AKMUfdyNSKL0lTB9OJ18oTy6UL1Un3ij4MGEueDSKPoI76UkqPhc/Pjw0NLg0HysLL4ktCi/3KZIkVyFvItkdQCQ2Jp8iCyxvLYEuqynhK/EoZiAVL6kriyueN1IqbCVgK2QkjylGKbcsIyzwKmE1DDH9LyU0jy8hN9MyvjfgOiFEK0e1RtpF/kxyUghf1VNFVUZkOWYdaHldik7KUStSTlqrSqRP+lrPXc1hNlYsVfpVnVhmWZpRS0yoUhFPnkRhQLAz5DrCNBoy8DWZNoo1SzMAMFUrHDcvMuM0MDQcM7suKjJ/MqMtcjbEMEM2+zizM5I81TpMN9s0tT30PWRC11CYS0NHa04vONg73D/nPfhIRUzTRExBhzvhRCs/4EG6TTtbn2BZWqBTz0y/VgVdRVAnSitZUVwZXulV+0cISmVPNk4FR/VLTFdhYGldN1hxSz5JgEoqP1lHD0BYPmxEbED4N71GCjdaPfI/izRrN9k4PzsNNmU2wzYhOz1Elj9mQ5FKNklESqZJUEe8QhFSiFfAYOVsmGimVs9cFlmwTIdg2FMMT8NSkkr3SI5LuUahPwNBbz2oOC85cjz4Pbw/4zThNYYzVTJfO1IyKzOtM144ezJzPDo63UKRShlJz1uRWbhYJ1oRSS5N6E8GUMpKUEC0QIlAUERuSz1CRkiaSmtFhlxPUHFUXWVOX5pjB1JCTCVKnki2QVc85D5bOF873DVZOZM4oT+pSZlLMktYSm1Lfk36QfNCgkUYThhCL0jIQp03o0x6Q2lDK05KQWtBgkEzQIk7LUOiQmdCD0FDQLhHV0IcRQs4TUIhRapFMEzoOQ44vTvOOU4+pTbVOAI7ZDtkOqoyjjVzMaI4BjrnNpZCgDhUMuI22CwNKbIu+C3dMhAwmCreMDwybTFCMmEy1zHgL/Q6ukEjQLJGgTg5MJQ1mDalPJU28zmDPKA5ZzzyMPUyVjurOYo4Ujx/NDE98jSHMWoxOyyAKtgsMi2FJngyXDHNKzs6qjZGOuM9tTfNNDs6AkQRSP9Bpzg9MD0y+TJLMHgw/Da4MNRA0T1cNvtH+kWrPzNRlkNSSTg6bUbTRkhDeFRtSuFFD0OqP1pG80yaSyNE8kKISxJLF0WxOqw3QDvgNvQ+Mz4INV4/Nzh8MX0+fTwKPlJCkzBwNdAupjMuOkA1Ezi2Mp0seyxXLaQmmynnLVIybiyULFcpOiXCKREq1yUhJVQmiSYyJREfOR2WJYsjnCi4I5EhPCKJITcj6CClKukm+STYMCoy/C2jN5cqyy+ZMPwwTS0MMdcyAjLrNFo4qzKiOQNB4kJjSkk7cjoZOBZAazzuQCxDMj3QQRFDZky1WcdQpVTPUlFF0lGaPjs6XEgmSaZN/EhzOwU7YUZjPFQ81UqDS/NKpVdnQEE+GUAdRvs+akQ0P4lMQj9XNbU6GDnGPU80aD2+N708M0FFOqVB8ke1UNVLjD4xSgNTwlfXWKhGfUQQRU1EITiZQlJB1UkkRB08QTN1NMk03zPxN/A0akB6Nl805jUmOFo+lTrBQg9JbkfkQ8k/4j8WO8JIBUYhVTBbllkpTeNFt0f7QZxKBjpzRItExEgGP8w7ZElPSm1OsUvJQVxLAlazUnVRsUzHU95afVN6VdZcGFycZshPUFnKTX1cTFk+TQxTWEu7UFVNDFNYTjBLBU5mT5JM4kwLQJc7N0NMP4dDcD9aNY41xTqcNsg24jazOvg7eThjOfAz5jX4OVxBGkFGNBY5cziBNcA6xjzNQpM8RzhYNlM4DTbaN+NDKzyXPhxFQ1HoVTNFhk9gTcVW3GAoVxFd01mvW2tiL1GwS3FQek+KV5NLp0J5TyVM8lK6S8dLqUlxQDFKd0GAPqxFeEBzPhc9uDuQPR08XkArRA1FmkDMQ+RJVz/VSMZD3ULIPzs7STlWOkpB3T8aNXlIr02QTfJdokEmRAxWTVaGWXpNnT9AQmQ/cD7FM+ZEUkKxQjxHGjyHOnJCSTtQN8k87DUhMWA4hDrEQM8yQjnePII5UkDPN7pA2TrQQJxBmDjzRUA//DwrP2I7xTvGPf09Cj3hOJw+6Tz4O7g/8j3/PZNYEljiWjRYWka2QehNBkhfSmlTW0+RVpFOpUIBRSxGI0Q8R+tJb0CnRH5K8k4TV6lVRUYJUHhMAz6wUrpQHkyjW0hJg0B5QF88L0R/R0ZC5juoPbA4iDI5PQs7nzqsSM8+4zwnPNMzuy16KssighcFDQ==\" type=\"audio/wav\" />\n",
              "                    Your browser does not support the audio element.\n",
              "                </audio>\n",
              "              "
            ]
          },
          "metadata": {},
          "execution_count": 20
        }
      ],
      "source": [
        "test = generator.predict(noise)\n",
        "audio_data = test.ravel()\n",
        "# Play the audio within the Jupyter Notebook\n",
        "Audio(data=audio_data, rate=sr/reduction)"
      ]
    }
  ],
  "metadata": {
    "colab": {
      "name": "Overview of Colaboratory Features",
      "provenance": [],
      "include_colab_link": true
    },
    "kernelspec": {
      "display_name": "Python 3 (ipykernel)",
      "language": "python",
      "name": "python3"
    },
    "language_info": {
      "codemirror_mode": {
        "name": "ipython",
        "version": 3
      },
      "file_extension": ".py",
      "mimetype": "text/x-python",
      "name": "python",
      "nbconvert_exporter": "python",
      "pygments_lexer": "ipython3",
      "version": "3.8.10"
    }
  },
  "nbformat": 4,
  "nbformat_minor": 0
}