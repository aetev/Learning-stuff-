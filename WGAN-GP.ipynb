{
  "cells": [
    {
      "cell_type": "markdown",
      "metadata": {
        "id": "view-in-github",
        "colab_type": "text"
      },
      "source": [
        "<a href=\"https://colab.research.google.com/github/aetev/Learning-stuff-/blob/main/WGAN-GP.ipynb\" target=\"_parent\"><img src=\"https://colab.research.google.com/assets/colab-badge.svg\" alt=\"Open In Colab\"/></a>"
      ]
    },
    {
      "cell_type": "code",
      "execution_count": 1,
      "metadata": {
        "colab": {
          "base_uri": "https://localhost:8080/"
        },
        "id": "-g36b6KfZQeH",
        "outputId": "6c1b68e8-343e-4f45-80e9-5f8c25643770"
      },
      "outputs": [
        {
          "output_type": "stream",
          "name": "stdout",
          "text": [
            "Requirement already satisfied: librosa in /usr/local/lib/python3.10/dist-packages (0.10.0.post2)\n",
            "Requirement already satisfied: audioread>=2.1.9 in /usr/local/lib/python3.10/dist-packages (from librosa) (3.0.0)\n",
            "Requirement already satisfied: numpy!=1.22.0,!=1.22.1,!=1.22.2,>=1.20.3 in /usr/local/lib/python3.10/dist-packages (from librosa) (1.23.5)\n",
            "Requirement already satisfied: scipy>=1.2.0 in /usr/local/lib/python3.10/dist-packages (from librosa) (1.10.1)\n",
            "Requirement already satisfied: scikit-learn>=0.20.0 in /usr/local/lib/python3.10/dist-packages (from librosa) (1.2.2)\n",
            "Requirement already satisfied: joblib>=0.14 in /usr/local/lib/python3.10/dist-packages (from librosa) (1.3.2)\n",
            "Requirement already satisfied: decorator>=4.3.0 in /usr/local/lib/python3.10/dist-packages (from librosa) (4.4.2)\n",
            "Requirement already satisfied: numba>=0.51.0 in /usr/local/lib/python3.10/dist-packages (from librosa) (0.56.4)\n",
            "Requirement already satisfied: soundfile>=0.12.1 in /usr/local/lib/python3.10/dist-packages (from librosa) (0.12.1)\n",
            "Requirement already satisfied: pooch<1.7,>=1.0 in /usr/local/lib/python3.10/dist-packages (from librosa) (1.6.0)\n",
            "Requirement already satisfied: soxr>=0.3.2 in /usr/local/lib/python3.10/dist-packages (from librosa) (0.3.5)\n",
            "Requirement already satisfied: typing-extensions>=4.1.1 in /usr/local/lib/python3.10/dist-packages (from librosa) (4.7.1)\n",
            "Requirement already satisfied: lazy-loader>=0.1 in /usr/local/lib/python3.10/dist-packages (from librosa) (0.3)\n",
            "Requirement already satisfied: msgpack>=1.0 in /usr/local/lib/python3.10/dist-packages (from librosa) (1.0.5)\n",
            "Requirement already satisfied: llvmlite<0.40,>=0.39.0dev0 in /usr/local/lib/python3.10/dist-packages (from numba>=0.51.0->librosa) (0.39.1)\n",
            "Requirement already satisfied: setuptools in /usr/local/lib/python3.10/dist-packages (from numba>=0.51.0->librosa) (67.7.2)\n",
            "Requirement already satisfied: appdirs>=1.3.0 in /usr/local/lib/python3.10/dist-packages (from pooch<1.7,>=1.0->librosa) (1.4.4)\n",
            "Requirement already satisfied: packaging>=20.0 in /usr/local/lib/python3.10/dist-packages (from pooch<1.7,>=1.0->librosa) (23.1)\n",
            "Requirement already satisfied: requests>=2.19.0 in /usr/local/lib/python3.10/dist-packages (from pooch<1.7,>=1.0->librosa) (2.31.0)\n",
            "Requirement already satisfied: threadpoolctl>=2.0.0 in /usr/local/lib/python3.10/dist-packages (from scikit-learn>=0.20.0->librosa) (3.2.0)\n",
            "Requirement already satisfied: cffi>=1.0 in /usr/local/lib/python3.10/dist-packages (from soundfile>=0.12.1->librosa) (1.15.1)\n",
            "Requirement already satisfied: pycparser in /usr/local/lib/python3.10/dist-packages (from cffi>=1.0->soundfile>=0.12.1->librosa) (2.21)\n",
            "Requirement already satisfied: charset-normalizer<4,>=2 in /usr/local/lib/python3.10/dist-packages (from requests>=2.19.0->pooch<1.7,>=1.0->librosa) (3.2.0)\n",
            "Requirement already satisfied: idna<4,>=2.5 in /usr/local/lib/python3.10/dist-packages (from requests>=2.19.0->pooch<1.7,>=1.0->librosa) (3.4)\n",
            "Requirement already satisfied: urllib3<3,>=1.21.1 in /usr/local/lib/python3.10/dist-packages (from requests>=2.19.0->pooch<1.7,>=1.0->librosa) (2.0.4)\n",
            "Requirement already satisfied: certifi>=2017.4.17 in /usr/local/lib/python3.10/dist-packages (from requests>=2.19.0->pooch<1.7,>=1.0->librosa) (2023.7.22)\n"
          ]
        }
      ],
      "source": [
        "\n",
        "!pip install librosa"
      ]
    },
    {
      "cell_type": "code",
      "source": [
        "from google.colab import drive\n",
        "drive.mount('/content/drive')"
      ],
      "metadata": {
        "id": "kq4KEMDwylHv",
        "outputId": "18a49119-4cd5-4e79-b2c2-e56fdd031f12",
        "colab": {
          "base_uri": "https://localhost:8080/"
        }
      },
      "execution_count": 2,
      "outputs": [
        {
          "output_type": "stream",
          "name": "stdout",
          "text": [
            "Mounted at /content/drive\n"
          ]
        }
      ]
    },
    {
      "cell_type": "code",
      "execution_count": 3,
      "metadata": {
        "id": "-UiZf7YAawUu"
      },
      "outputs": [],
      "source": [
        "import tensorflow as tf\n",
        "from tensorflow.keras import layers\n",
        "import matplotlib.pyplot as plt\n",
        "import numpy as np\n",
        "import os\n",
        "from IPython.display import Audio"
      ]
    },
    {
      "cell_type": "code",
      "execution_count": 52,
      "metadata": {
        "id": "KZA4iSHlpHeW"
      },
      "outputs": [],
      "source": [
        "import librosa\n",
        "import numpy as np\n",
        "\n",
        "def create_mel_spectrogram(audio_array, sample_rate):\n",
        "    # Compute the Mel spectrogram\n",
        "    mel_spectrogram = librosa.feature.melspectrogram(y=np.squeeze(audio_array), sr=sample_rate)\n",
        "\n",
        "    # Convert to decibels\n",
        "    mel_spectrogram_db = librosa.power_to_db(mel_spectrogram, ref=np.max)\n",
        "    return mel_spectrogram_db\n",
        "\n",
        "\n",
        "def create_mel_spectrograms(audio_array, sample_rate):\n",
        "    num_samples, _, _ = audio_array.shape\n",
        "    num_mels = 128  # Number of Mel bins\n",
        "    hop_length = 512  # Hop length for the spectrogram\n",
        "\n",
        "    mel_spectrograms = []\n",
        "\n",
        "    for i in range(num_samples):\n",
        "        # Compute the Mel spectrogram\n",
        "        mel_spectrogram = librosa.feature.melspectrogram(y=np.squeeze(audio_array[i]), sr=sample_rate, hop_length=hop_length, n_mels=num_mels)\n",
        "\n",
        "        # Convert to decibels\n",
        "        mel_spectrogram_db = librosa.power_to_db(mel_spectrogram, ref=np.max)\n",
        "\n",
        "        # Append the Mel spectrogram to the list\n",
        "        mel_spectrograms.append(mel_spectrogram_db)\n",
        "\n",
        "    # Convert the list of Mel spectrograms to a numpy array\n",
        "    mel_spectrograms = np.array(mel_spectrograms)\n",
        "\n",
        "    # Reshape the array to match the desired dimensions\n",
        "    mel_spectrograms = mel_spectrograms.reshape(num_samples, num_mels, -1, 1)\n",
        "\n",
        "    return mel_spectrograms\n",
        "\n",
        "def plot_spec(array,sample_rate):\n",
        "    # Plot the Mel spectrogram\n",
        "    reshaped_array = np.squeeze(array)\n",
        "    plt.figure(figsize=(10, 4))\n",
        "    librosa.display.specshow(reshaped_array, x_axis='time', y_axis='mel', sr=sample_rate, fmax=8000)\n",
        "    plt.colorbar(format='%+2.0f dB')\n",
        "    plt.title('Mel Spectrogram')\n",
        "    plt.tight_layout()\n",
        "    plt.show()\n",
        "def downsample_array(arr, factor, axis):\n",
        "    return arr.take(np.arange(0, arr.shape[axis], factor), axis)\n",
        "\n",
        "def create_sliding_window(array, window_size, stride):\n",
        "    num_windows = (len(array) - window_size) // stride + 1\n",
        "    sliding_windows = np.lib.stride_tricks.sliding_window_view(array, (window_size,))\n",
        "\n",
        "    return sliding_windows[::stride]"
      ]
    },
    {
      "cell_type": "code",
      "execution_count": 36,
      "metadata": {
        "id": "PwZorlMxq2Rx"
      },
      "outputs": [],
      "source": [
        "reduction = 12\n",
        "wav_file = '/content/drive/MyDrive/bass samples/NBKoanbandstuff.wav'\n",
        "audio, sr = librosa.load(wav_file, sr=None)\n",
        "audio_dev = np.std(audio)\n",
        "audio = audio/audio_dev\n",
        "result_array = create_sliding_window(audio,44100,100)\n",
        "result_array = np.expand_dims(result_array, axis=2)\n",
        "result_array = downsample_array(result_array,reduction,1)"
      ]
    },
    {
      "cell_type": "code",
      "execution_count": 54,
      "metadata": {
        "colab": {
          "base_uri": "https://localhost:8080/",
          "height": 410
        },
        "id": "ZIzKgHj1sIvX",
        "outputId": "a1df23b2-2eca-460f-e091-90a3d125abed"
      },
      "outputs": [
        {
          "output_type": "stream",
          "name": "stdout",
          "text": [
            "(100, 128, 8, 1)\n"
          ]
        },
        {
          "output_type": "display_data",
          "data": {
            "text/plain": [
              "<Figure size 1000x400 with 2 Axes>"
            ],
            "image/png": "[encoded data removed]"
          },
          "metadata": {}
        },
        {
          "output_type": "execute_result",
          "data": {
            "text/plain": [
              "<IPython.lib.display.Audio object>"
            ],
            "text/html": [
              "\n",
              "                <audio  controls=\"controls\" >\n",
              "                    <source src=\"data:audio/wav;base64,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\" type=\"audio/wav\" />\n",
              "                    Your browser does not support the audio element.\n",
              "                </audio>\n",
              "              "
            ]
          },
          "metadata": {},
          "execution_count": 54
        }
      ],
      "source": [
        "\n",
        "\n",
        "spec = create_mel_spectrograms(result_array[100:200],sr/reduction)\n",
        "print(spec.shape)\n",
        "plot_spec(spec[0],sr/reduction)\n",
        "audio_data = result_array[100].ravel()\n",
        "# Play the audio within the Jupyter Notebook\n",
        "Audio(data=audio_data, rate=sr/reduction)"
      ]
    },
    {
      "cell_type": "code",
      "execution_count": 7,
      "metadata": {
        "colab": {
          "base_uri": "https://localhost:8080/"
        },
        "id": "3XZfCdyC7S_D",
        "outputId": "40c500fa-720b-4d7f-cc36-7418fbc81534"
      },
      "outputs": [
        {
          "output_type": "stream",
          "name": "stdout",
          "text": [
            "(3675, 1)\n"
          ]
        }
      ],
      "source": [
        "#x_train = noise\n",
        "y_train = result_array\n",
        "print(y_train[0].shape)"
      ]
    },
    {
      "cell_type": "code",
      "execution_count": 8,
      "metadata": {
        "id": "MUFnmA-82FDv"
      },
      "outputs": [],
      "source": [
        "class ResNetBlock(layers.Layer):\n",
        "    def __init__(self, filters,kernel_size=3, strides=1,dilation_rate=1):\n",
        "        super(ResNetBlock, self).__init__()\n",
        "        self.conv1 = layers.Conv1D(filters, kernel_size, strides=strides,dilation_rate=dilation_rate, padding='same')\n",
        "        self.conv2 = layers.Conv1D(filters, kernel_size, padding='same')\n",
        "\n",
        "        if strides != 1:\n",
        "            self.residual = layers.Conv1D(filters, 1, strides=strides)\n",
        "        else:\n",
        "            self.residual = lambda x: x\n",
        "\n",
        "    def call(self, inputs, training=False):\n",
        "        x = self.conv1(inputs)\n",
        "        x = tf.nn.relu(x)\n",
        "        x = self.conv2(x)\n",
        "\n",
        "        r = self.residual(inputs)\n",
        "\n",
        "        x += r\n",
        "        return tf.nn.relu(x)"
      ]
    },
    {
      "cell_type": "code",
      "source": [
        "class ResNetBlockup(layers.Layer):\n",
        "    def __init__(self, filters, kernel_size=3, strides=1, dilation_rate=1):\n",
        "        super(ResNetBlockup, self).__init__()\n",
        "        self.conv1 = layers.Conv1DTranspose(filters, kernel_size, strides=strides, dilation_rate=dilation_rate, padding='same')\n",
        "        self.bn1 = layers.BatchNormalization()\n",
        "        self.conv2 = layers.Conv1DTranspose(filters, kernel_size, padding='same')\n",
        "        self.bn2 = layers.BatchNormalization()\n",
        "\n",
        "        if strides != 1:\n",
        "            self.residual = layers.Conv1DTranspose(filters, 1, strides=strides)\n",
        "        else:\n",
        "            self.residual = lambda x: x\n",
        "\n",
        "    def call(self, inputs, training=False):\n",
        "        x = self.conv1(inputs)\n",
        "        x = self.bn1(x, training=training)\n",
        "        x = tf.nn.relu(x)\n",
        "        x = self.conv2(x)\n",
        "        x = self.bn2(x, training=training)\n",
        "\n",
        "        r = self.residual(inputs)\n",
        "\n",
        "        x += r\n",
        "        return tf.nn.relu(x)"
      ],
      "metadata": {
        "id": "qBopciVs0FBC"
      },
      "execution_count": null,
      "outputs": []
    },
    {
      "cell_type": "code",
      "execution_count": 10,
      "metadata": {
        "colab": {
          "base_uri": "https://localhost:8080/"
        },
        "id": "Gh2ORgUybdzt",
        "outputId": "587b8d06-0ce8-46a9-9fdd-2f0e23bab4b3"
      },
      "outputs": [
        {
          "output_type": "stream",
          "name": "stdout",
          "text": [
            "Model: \"model\"\n",
            "_________________________________________________________________\n",
            " Layer (type)                Output Shape              Param #   \n",
            "=================================================================\n",
            " input_2 (InputLayer)        [(None, None, 1)]         0         \n",
            "                                                                 \n",
            " res_net_block_1 (ResNetBloc  (None, None, 64)         12736     \n",
            " k)                                                              \n",
            "                                                                 \n",
            " layer_normalization (LayerN  (None, None, 64)         128       \n",
            " ormalization)                                                   \n",
            "                                                                 \n",
            " res_net_block_2 (ResNetBloc  (None, None, 64)         28864     \n",
            " k)                                                              \n",
            "                                                                 \n",
            " layer_normalization_1 (Laye  (None, None, 64)         128       \n",
            " rNormalization)                                                 \n",
            "                                                                 \n",
            " res_net_block_3 (ResNetBloc  (None, None, 64)         28864     \n",
            " k)                                                              \n",
            "                                                                 \n",
            " layer_normalization_2 (Laye  (None, None, 64)         128       \n",
            " rNormalization)                                                 \n",
            "                                                                 \n",
            " res_net_block_4 (ResNetBloc  (None, None, 512)        919040    \n",
            " k)                                                              \n",
            "                                                                 \n",
            " layer_normalization_3 (Laye  (None, None, 512)        1024      \n",
            " rNormalization)                                                 \n",
            "                                                                 \n",
            " global_average_pooling1d (G  (None, 512)              0         \n",
            " lobalAveragePooling1D)                                          \n",
            "                                                                 \n",
            " dense_1 (Dense)             (None, 64)                32832     \n",
            "                                                                 \n",
            " dense_2 (Dense)             (None, 1)                 65        \n",
            "                                                                 \n",
            "=================================================================\n",
            "Total params: 1,023,809\n",
            "Trainable params: 1,023,809\n",
            "Non-trainable params: 0\n",
            "_________________________________________________________________\n"
          ]
        }
      ],
      "source": [
        "def build_discriminator():\n",
        "    input_series = layers.Input(shape=(None,1))\n",
        "    input_series = layers.Input(shape=(None,1))\n",
        "\n",
        "\n",
        "\n",
        "    # Convolutional layers\n",
        "    x = ResNetBlock(64,3,2,1)(input_series)\n",
        "    x = layers.LayerNormalization()(x)\n",
        "\n",
        "    x = ResNetBlock(64,3,2,1)(x)\n",
        "    x = layers.LayerNormalization()(x)\n",
        "\n",
        "    x = ResNetBlock(64,3,2,1)(x)\n",
        "    x = layers.LayerNormalization()(x)\n",
        "\n",
        "    x = ResNetBlock(512,3,2,1)(x)\n",
        "    x = layers.LayerNormalization()(x)\n",
        "\n",
        "\n",
        "\n",
        "\n",
        "    # Global pooling\n",
        "    pooled_output = layers.GlobalAveragePooling1D()(x)\n",
        "\n",
        "\n",
        "    # Dense layer\n",
        "    dense_output = layers.Dense(200, activation='relu')(pooled_output)\n",
        "\n",
        "    dense_output = layers.LayerNormalization()(dense_output)\n",
        "\n",
        "    dense_output = layers.Dense(64, activation='relu')(pooled_output)\n",
        "\n",
        "\n",
        "    # Dense layer\n",
        "    dense_output = layers.Dense(1, activation='linear')(dense_output)\n",
        "\n",
        "    model = tf.keras.models.Model(inputs=input_series, outputs=dense_output)\n",
        "    return model\n",
        "\n",
        "discriminator = build_discriminator()\n",
        "discriminator.summary()\n"
      ]
    },
    {
      "cell_type": "code",
      "execution_count": 11,
      "metadata": {
        "colab": {
          "base_uri": "https://localhost:8080/"
        },
        "id": "8q_-l7f8eC-i",
        "outputId": "b14fbd8b-f918-40e2-c1e8-97103627f28b"
      },
      "outputs": [
        {
          "output_type": "stream",
          "name": "stdout",
          "text": [
            "Model: \"model_1\"\n",
            "_________________________________________________________________\n",
            " Layer (type)                Output Shape              Param #   \n",
            "=================================================================\n",
            " input_3 (InputLayer)        [(None, None, 1)]         0         \n",
            "                                                                 \n",
            " batch_normalization (BatchN  (None, None, 1)          4         \n",
            " ormalization)                                                   \n",
            "                                                                 \n",
            " res_net_block_5 (ResNetBloc  (None, None, 64)         16768     \n",
            " k)                                                              \n",
            "                                                                 \n",
            " res_net_block_6 (ResNetBloc  (None, None, 64)         32896     \n",
            " k)                                                              \n",
            "                                                                 \n",
            " res_net_block_7 (ResNetBloc  (None, None, 64)         32896     \n",
            " k)                                                              \n",
            "                                                                 \n",
            " res_net_block_8 (ResNetBloc  (None, None, 64)         32896     \n",
            " k)                                                              \n",
            "                                                                 \n",
            " res_net_block_9 (ResNetBloc  (None, None, 64)         32896     \n",
            " k)                                                              \n",
            "                                                                 \n",
            " res_net_block_10 (ResNetBlo  (None, None, 64)         32896     \n",
            " ck)                                                             \n",
            "                                                                 \n",
            " conv1d_27 (Conv1D)          (None, None, 1)           65        \n",
            "                                                                 \n",
            "=================================================================\n",
            "Total params: 181,317\n",
            "Trainable params: 181,315\n",
            "Non-trainable params: 2\n",
            "_________________________________________________________________\n"
          ]
        }
      ],
      "source": [
        "def build_generator():\n",
        "    input_series = layers.Input(shape=(None,1))\n",
        "\n",
        "    x = layers.BatchNormalization()(input_series)\n",
        "\n",
        "    x = ResNetBlock(64,4,strides=1,dilation_rate=1)(x)\n",
        "\n",
        "    x = ResNetBlock(64,4,strides=1,dilation_rate=2)(x)\n",
        "\n",
        "    x = ResNetBlock(64,4,strides=1,dilation_rate=4)(x)\n",
        "\n",
        "    x = ResNetBlock(64,4,strides=1,dilation_rate=6)(x)\n",
        "\n",
        "    x = ResNetBlock(64,4,strides=1,dilation_rate=12)(x)\n",
        "\n",
        "    x = ResNetBlock(64,4,strides=1,dilation_rate=24)(x)\n",
        "\n",
        "    x = layers.Conv1D(1,1)(x)\n",
        "\n",
        "\n",
        "\n",
        "    model = tf.keras.models.Model(inputs=input_series, outputs=x)\n",
        "    return model\n",
        "\n",
        "generator = build_generator()\n",
        "generator.summary()\n"
      ]
    },
    {
      "cell_type": "code",
      "execution_count": 12,
      "metadata": {
        "id": "aFFOfuDfbpD9"
      },
      "outputs": [],
      "source": [
        "# Compile models\n",
        "generator_optimizer = tf.keras.optimizers.Adam(0.0004)\n",
        "discriminator_optimizer = tf.keras.optimizers.Adam(0.0004)\n",
        "\n",
        "#generator_optimizer = tf.keras.optimizers.experimental.SGD(1e-4)\n",
        "#discriminator_optimizer = tf.keras.optimizers.experimental.SGD(1e-4)"
      ]
    },
    {
      "cell_type": "code",
      "source": [
        "def gradient_penalty(real, fake, discriminator):\n",
        "    batch_size = real.shape[0]\n",
        "    epsilon = tf.random.uniform([batch_size, 1, 1], 0.0, 1.0)\n",
        "    interpolated = epsilon * real + (1 - epsilon) * fake\n",
        "\n",
        "    with tf.GradientTape() as tape:\n",
        "        tape.watch(interpolated)\n",
        "        pred = discriminator(interpolated, training=True)\n",
        "\n",
        "    gradients = tape.gradient(pred, [interpolated])[0]\n",
        "    norm = tf.sqrt(tf.reduce_sum(tf.square(gradients), axis=[1, 2]))\n",
        "    gp = tf.reduce_mean((norm - 1.0) ** 2)\n",
        "\n",
        "    return gp"
      ],
      "metadata": {
        "id": "DpBCjazdvotg"
      },
      "execution_count": 13,
      "outputs": []
    },
    {
      "cell_type": "code",
      "execution_count": 14,
      "metadata": {
        "id": "T3PtShxlbn9c"
      },
      "outputs": [],
      "source": [
        "def discriminator_loss(real_output, fake_output, gradient_penalty):\n",
        "    return tf.reduce_mean(fake_output) - tf.reduce_mean(real_output) + gradient_penalty\n",
        "\n",
        "def generator_loss(fake_output):\n",
        "    return -tf.reduce_mean(fake_output)\n",
        "\n"
      ]
    },
    {
      "cell_type": "code",
      "source": [
        "def clip_discriminator_weights(discriminator):\n",
        "    for l in discriminator.layers:\n",
        "        weights = l.get_weights()\n",
        "        weights = [tf.clip_by_value(w, -0.01, 0.01) for w in weights]\n",
        "        l.set_weights(weights)"
      ],
      "metadata": {
        "id": "a8RtXmHLZHWu"
      },
      "execution_count": 15,
      "outputs": []
    },
    {
      "cell_type": "code",
      "execution_count": null,
      "metadata": {
        "id": "vAoSvqXLsQHq"
      },
      "outputs": [],
      "source": [
        "def print_img(generator_model):\n",
        "    # Generate and save sample images\n",
        "    noise = tf.random.normal([10, 100])\n",
        "    sampled_labels = tf.constant([[i % 10] for i in range(10)], dtype=tf.int32)\n",
        "    generated_images = generator_model.predict([noise, sampled_labels])\n",
        "    fig, axs = plt.subplots(1, 10, figsize=(10, 10))\n",
        "    for i in range(10):\n",
        "        axs[i].imshow(generated_images[i], cmap=\"gray\")\n",
        "        axs[i].axis(\"off\")\n",
        "    plt.show()"
      ]
    },
    {
      "cell_type": "code",
      "execution_count": 16,
      "metadata": {
        "colab": {
          "base_uri": "https://localhost:8080/"
        },
        "id": "PAqGbZU0Z5yl",
        "outputId": "2e797064-ecc3-4d62-912e-ee724e9f302a"
      },
      "outputs": [
        {
          "output_type": "stream",
          "name": "stdout",
          "text": [
            "1/1 [==============================] - 1s 562ms/step\n",
            "(1, 10000, 1)\n"
          ]
        }
      ],
      "source": [
        "noise = tf.random.normal(shape=(1,10000,1))\n",
        "\n",
        "test = generator.predict(noise)\n",
        "print(test.shape)"
      ]
    },
    {
      "cell_type": "code",
      "execution_count": 17,
      "metadata": {
        "id": "wp5mnkMVVgPV",
        "outputId": "c4759c43-e3fd-45e4-b4bf-74c20c0896d5",
        "colab": {
          "base_uri": "https://localhost:8080/",
          "height": 1000
        }
      },
      "outputs": [
        {
          "output_type": "stream",
          "name": "stdout",
          "text": [
            "disc_loss -5.3187604 gen_loss 9.6581192\n",
            "disc_loss -5.25168133 gen_loss 6.71461487\n",
            "disc_loss 1.08136833 gen_loss -1.87072492\n",
            "disc_loss -2.11425757 gen_loss 1.53900933\n",
            "disc_loss -5.06843567 gen_loss 4.74056149\n",
            "disc_loss -7.87966251 gen_loss 7.53392649\n",
            "disc_loss -10.9057121 gen_loss 10.151453\n",
            "disc_loss -14.6800137 gen_loss 12.3307667\n",
            "disc_loss -17.6277924 gen_loss 13.8625698\n",
            "disc_loss -20.7116032 gen_loss 15.1687374\n",
            "disc_loss -23.0558434 gen_loss 16.4693203\n",
            "disc_loss -25.2548275 gen_loss 17.7180595\n",
            "disc_loss -27.8083096 gen_loss 18.4938984\n",
            "disc_loss -29.3643932 gen_loss 19.6800842\n",
            "disc_loss -30.4668941 gen_loss 20.5164661\n",
            "disc_loss -31.0199375 gen_loss 20.8076534\n",
            "disc_loss -25.7297649 gen_loss 19.1868744\n",
            "disc_loss -7.77736282 gen_loss 4.12926865\n",
            "disc_loss 1.12276793 gen_loss -12.4788094\n",
            "disc_loss -2.02585173 gen_loss -8.82887077\n",
            "disc_loss -4.23793364 gen_loss -5.22734594\n",
            "disc_loss -6.81533194 gen_loss -0.911469162\n",
            "disc_loss -10.0324783 gen_loss 3.92109823\n",
            "disc_loss -14.0393353 gen_loss 9.08616829\n",
            "disc_loss -18.5462151 gen_loss 13.5040741\n",
            "disc_loss -22.9624901 gen_loss 16.7777195\n",
            "disc_loss -27.1716652 gen_loss 19.1004143\n",
            "disc_loss -31.1152744 gen_loss 20.715641\n",
            "disc_loss -34.2059898 gen_loss 21.79949\n",
            "disc_loss -36.5366516 gen_loss 22.7269802\n",
            "disc_loss -39.3334427 gen_loss 24.7566643\n",
            "disc_loss -41.8099403 gen_loss 26.1116905\n",
            "disc_loss -43.9060211 gen_loss 26.9947109\n",
            "disc_loss -46.2025795 gen_loss 28.5119381\n",
            "disc_loss -47.997345 gen_loss 28.7105293\n",
            "disc_loss -50.1732178 gen_loss 30.5204735\n",
            "disc_loss -52.781517 gen_loss 31.0084419\n",
            "disc_loss -54.0074425 gen_loss 32.6011047\n",
            "disc_loss -56.9961853 gen_loss 33.5677414\n",
            "disc_loss -58.6982651 gen_loss 34.8674545\n",
            "disc_loss -61.092083 gen_loss 36.4510612\n",
            "disc_loss -63.2322273 gen_loss 37.0899963\n",
            "disc_loss -64.7824402 gen_loss 38.1753\n",
            "disc_loss -67.036438 gen_loss 40.0272827\n",
            "disc_loss -70.0455246 gen_loss 41.0904617\n",
            "disc_loss -71.2030869 gen_loss 42.3719177\n",
            "disc_loss -73.7691345 gen_loss 43.3304253\n",
            "disc_loss -76.6806793 gen_loss 44.776825\n",
            "disc_loss -78.9866943 gen_loss 45.9192\n",
            "disc_loss -81.166008 gen_loss 47.1082954\n",
            "disc_loss -83.0791245 gen_loss 48.2481918\n",
            "disc_loss -85.5341644 gen_loss 49.2665596\n",
            "disc_loss -87.0772552 gen_loss 50.5507889\n",
            "disc_loss -88.3425827 gen_loss 51.0839882\n",
            "disc_loss -91.105011 gen_loss 52.7229729\n",
            "disc_loss -94.5084839 gen_loss 53.7669754\n",
            "disc_loss -96.0509949 gen_loss 55.4885063\n",
            "disc_loss -97.7600861 gen_loss 55.7113762\n",
            "disc_loss -98.775238 gen_loss 57.1771164\n",
            "disc_loss -102.361191 gen_loss 58.8870163\n",
            "disc_loss -102.749855 gen_loss 60.3338394\n",
            "disc_loss -107.735847 gen_loss 60.3849373\n",
            "disc_loss -109.765045 gen_loss 62.6500473\n",
            "disc_loss -112.4795 gen_loss 63.9542961\n",
            "disc_loss -114.84391 gen_loss 65.1547165\n",
            "disc_loss -116.939606 gen_loss 66.5572891\n",
            "disc_loss -119.591988 gen_loss 68.0532761\n",
            "disc_loss -122.101738 gen_loss 69.4863129\n",
            "disc_loss -124.704269 gen_loss 70.4634705\n",
            "disc_loss -127.18766 gen_loss 72.1932373\n",
            "disc_loss -129.657654 gen_loss 73.3855667\n",
            "disc_loss -132.001266 gen_loss 74.7834473\n",
            "disc_loss -134.641586 gen_loss 76.1755676\n",
            "disc_loss -137.313736 gen_loss 77.2896271\n",
            "disc_loss -139.673523 gen_loss 79.0461426\n",
            "disc_loss -142.284744 gen_loss 80.3544159\n",
            "disc_loss -144.844604 gen_loss 81.8912354\n",
            "disc_loss -147.221161 gen_loss 83.0630875\n",
            "disc_loss -149.887772 gen_loss 84.6239853\n",
            "disc_loss -153.029755 gen_loss 86.2373199\n",
            "disc_loss -155.55162 gen_loss 87.4424286\n",
            "disc_loss -158.376022 gen_loss 89.1812897\n",
            "disc_loss -160.840332 gen_loss 90.5336304\n",
            "disc_loss -162.750931 gen_loss 91.2045288\n",
            "disc_loss -165.408051 gen_loss 92.8191528\n",
            "disc_loss -167.885864 gen_loss 94.7500458\n",
            "disc_loss -171.380371 gen_loss 96.6326904\n",
            "disc_loss -174.404343 gen_loss 97.9900131\n",
            "disc_loss -176.762146 gen_loss 99.1740875\n",
            "disc_loss -180.419952 gen_loss 101.284752\n",
            "disc_loss -182.954803 gen_loss 102.802\n",
            "disc_loss -186.180771 gen_loss 104.421776\n",
            "disc_loss -189.212097 gen_loss 106.091476\n",
            "disc_loss -191.600433 gen_loss 107.642784\n",
            "disc_loss -195.2117 gen_loss 109.06205\n",
            "disc_loss -196.521774 gen_loss 110.309372\n",
            "disc_loss -194.195053 gen_loss 109.701271\n",
            "disc_loss -199.564392 gen_loss 111.37114\n",
            "disc_loss -202.228607 gen_loss 114.082619\n",
            "disc_loss -203.956924 gen_loss 116.848328\n",
            "disc_loss -204.873489 gen_loss 119.009132\n",
            "disc_loss -214.303772 gen_loss 119.746506\n",
            "disc_loss -215.176147 gen_loss 121.245224\n",
            "disc_loss -214.16713 gen_loss 123.839622\n",
            "disc_loss -222.090912 gen_loss 125.525063\n",
            "disc_loss -226.44664 gen_loss 127.348671\n",
            "disc_loss -230.253723 gen_loss 129.201874\n",
            "disc_loss -233.672333 gen_loss 130.753387\n",
            "disc_loss -238.797958 gen_loss 130.814667\n",
            "disc_loss -241.452087 gen_loss 134.355133\n",
            "disc_loss -242.602798 gen_loss 134.515091\n",
            "disc_loss -244.413406 gen_loss 135.902252\n",
            "disc_loss -248.72757 gen_loss 137.955902\n",
            "disc_loss -254.359573 gen_loss 140.425583\n",
            "disc_loss -258.04541 gen_loss 142.970901\n",
            "disc_loss -261.845673 gen_loss 145.259888\n",
            "disc_loss -266.452301 gen_loss 145.739334\n",
            "disc_loss -263.771454 gen_loss 149.153122\n",
            "disc_loss -265.058228 gen_loss 150.301743\n",
            "disc_loss -271.221283 gen_loss 151.928452\n",
            "disc_loss -268.706512 gen_loss 154.023941\n",
            "disc_loss -269.337494 gen_loss 156.241959\n",
            "disc_loss -285.044647 gen_loss 158.304764\n",
            "disc_loss -278.025146 gen_loss 159.85704\n",
            "disc_loss -282.316864 gen_loss 160.807785\n",
            "disc_loss -272.851471 gen_loss 162.809418\n",
            "disc_loss -278.36972 gen_loss 163.145966\n",
            "disc_loss -234.113937 gen_loss 163.541779\n",
            "disc_loss -264.659454 gen_loss 164.092209\n",
            "disc_loss -266.632751 gen_loss 167.664307\n",
            "disc_loss -283.030457 gen_loss 170.804703\n",
            "disc_loss -285.613098 gen_loss 169.219635\n",
            "disc_loss -299.315308 gen_loss 172.179413\n",
            "disc_loss -308.150024 gen_loss 175.115738\n",
            "disc_loss -311.066315 gen_loss 178.354156\n",
            "disc_loss -323.176727 gen_loss 177.282928\n",
            "disc_loss -313.907104 gen_loss 167.828537\n",
            "disc_loss -315.270905 gen_loss 184.073837\n",
            "disc_loss -336.143402 gen_loss 185.534592\n",
            "disc_loss -302.636597 gen_loss 187.24649\n",
            "disc_loss -314.205597 gen_loss 185.98584\n",
            "disc_loss -256.081604 gen_loss 190.255\n",
            "disc_loss -192.355316 gen_loss 190.609299\n",
            "disc_loss -102.379211 gen_loss 190.520355\n",
            "disc_loss -63.2390289 gen_loss 191.888809\n",
            "disc_loss -100.859665 gen_loss 193.925537\n",
            "disc_loss -115.822464 gen_loss 191.764359\n",
            "disc_loss -150.598907 gen_loss 161.138702\n",
            "disc_loss -138.443222 gen_loss 155.250458\n",
            "disc_loss -132.283051 gen_loss 112.734665\n",
            "disc_loss -33.3741913 gen_loss -72.4165878\n",
            "disc_loss 4.36696768 gen_loss -167.041534\n",
            "disc_loss -1.01592684 gen_loss -162.786148\n",
            "disc_loss -2.23375654 gen_loss -160.276398\n",
            "disc_loss -3.04247928 gen_loss -157.782379\n",
            "disc_loss -3.50722456 gen_loss -155.48645\n",
            "disc_loss -3.64720893 gen_loss -153.417694\n",
            "disc_loss -4.07598448 gen_loss -151.446411\n",
            "disc_loss -4.52017832 gen_loss -149.462418\n",
            "disc_loss -5.04510069 gen_loss -147.650452\n",
            "disc_loss -5.85116482 gen_loss -145.880569\n",
            "disc_loss -6.95447636 gen_loss -144.087494\n",
            "disc_loss -8.0992384 gen_loss -142.227295\n",
            "disc_loss -9.74432755 gen_loss -140.228195\n",
            "disc_loss -11.5368509 gen_loss -137.960556\n",
            "disc_loss -13.9072351 gen_loss -135.313385\n",
            "disc_loss -16.770853 gen_loss -132.284714\n",
            "disc_loss -19.93116 gen_loss -128.774612\n",
            "disc_loss -24.0667324 gen_loss -124.626625\n",
            "disc_loss -29.3594551 gen_loss -119.97081\n",
            "disc_loss -35.2586975 gen_loss -114.694107\n",
            "disc_loss -41.426033 gen_loss -108.621017\n",
            "disc_loss -48.7688866 gen_loss -101.326607\n",
            "disc_loss -56.7428894 gen_loss -93.3343735\n",
            "disc_loss -64.6211395 gen_loss -84.7132721\n",
            "disc_loss -72.1988602 gen_loss -75.0487213\n",
            "disc_loss -80.9380875 gen_loss -64.2450409\n",
            "disc_loss -89.2892838 gen_loss -52.6379089\n",
            "disc_loss -98.42836 gen_loss -40.6363\n",
            "disc_loss -111.909538 gen_loss -28.373394\n",
            "disc_loss -122.527054 gen_loss -16.5416336\n",
            "disc_loss -133.622009 gen_loss -4.28328705\n",
            "disc_loss -147.869736 gen_loss 8.0975256\n",
            "disc_loss -159.654953 gen_loss 20.1489601\n",
            "disc_loss -175.0495 gen_loss 31.4343605\n",
            "disc_loss -188.512253 gen_loss 35.3364944\n",
            "disc_loss -199.65741 gen_loss 37.2273178\n",
            "disc_loss -201.46611 gen_loss 38.6004105\n",
            "disc_loss -210.818039 gen_loss 40.0463943\n",
            "disc_loss -208.324677 gen_loss 43.3222313\n",
            "disc_loss -215.643311 gen_loss 46.8164787\n",
            "disc_loss -219.657486 gen_loss 43.8267708\n",
            "disc_loss -227.081009 gen_loss 51.0225143\n",
            "disc_loss -218.446793 gen_loss 48.7699432\n",
            "disc_loss -213.825073 gen_loss 53.2468071\n",
            "disc_loss -223.198166 gen_loss 25.9221458\n",
            "disc_loss -200.079468 gen_loss 57.6202507\n",
            "disc_loss -204.73909 gen_loss 57.0915451\n",
            "disc_loss -188.983139 gen_loss 57.7218704\n",
            "disc_loss -171.164505 gen_loss 60.6665726\n",
            "disc_loss -177.743652 gen_loss 64.7856522\n",
            "disc_loss -216.318665 gen_loss 49.1033363\n",
            "disc_loss -142.726776 gen_loss 39.664856\n",
            "disc_loss 21.7208633 gen_loss -153.705078\n",
            "disc_loss -69.8067856 gen_loss -111.569557\n",
            "disc_loss -121.996872 gen_loss -29.965847\n",
            "disc_loss -165.512344 gen_loss 28.5255585\n",
            "disc_loss -215.055573 gen_loss 84.0056305\n",
            "disc_loss -275.666 gen_loss 136.665283\n",
            "disc_loss -322.898407 gen_loss 179.850967\n",
            "disc_loss -369.89621 gen_loss 201.661896\n",
            "disc_loss -405.170135 gen_loss 201.557556\n",
            "disc_loss -396.718079 gen_loss 202.275192\n",
            "disc_loss -417.527893 gen_loss 204.16\n",
            "disc_loss -417.688141 gen_loss 207.680511\n"
          ]
        },
        {
          "output_type": "error",
          "ename": "KeyboardInterrupt",
          "evalue": "ignored",
          "traceback": [
            "\u001b[0;31m---------------------------------------------------------------------------\u001b[0m",
            "\u001b[0;31mKeyboardInterrupt\u001b[0m                         Traceback (most recent call last)",
            "\u001b[0;32m<ipython-input-17-f854c3fec48d>\u001b[0m in \u001b[0;36m<cell line: 65>\u001b[0;34m()\u001b[0m\n\u001b[1;32m     63\u001b[0m \u001b[0mBATCH_SIZE\u001b[0m \u001b[0;34m=\u001b[0m \u001b[0;36m10\u001b[0m\u001b[0;34m\u001b[0m\u001b[0;34m\u001b[0m\u001b[0m\n\u001b[1;32m     64\u001b[0m \u001b[0mnum_unrolling_steps\u001b[0m \u001b[0;34m=\u001b[0m \u001b[0;36m20\u001b[0m  \u001b[0;31m# Set the desired number of unrolling steps\u001b[0m\u001b[0;34m\u001b[0m\u001b[0;34m\u001b[0m\u001b[0m\n\u001b[0;32m---> 65\u001b[0;31m \u001b[0mtrain\u001b[0m\u001b[0;34m(\u001b[0m\u001b[0mgenerator\u001b[0m\u001b[0;34m,\u001b[0m \u001b[0mdiscriminator\u001b[0m\u001b[0;34m,\u001b[0m \u001b[0mEPOCHS\u001b[0m\u001b[0;34m,\u001b[0m \u001b[0mBATCH_SIZE\u001b[0m\u001b[0;34m)\u001b[0m\u001b[0;34m\u001b[0m\u001b[0;34m\u001b[0m\u001b[0m\n\u001b[0m",
            "\u001b[0;32m<ipython-input-17-f854c3fec48d>\u001b[0m in \u001b[0;36mtrain\u001b[0;34m(generator, discriminator, epochs, batch_size)\u001b[0m\n\u001b[1;32m     49\u001b[0m             \u001b[0mtarget_audios\u001b[0m \u001b[0;34m=\u001b[0m \u001b[0my_train\u001b[0m\u001b[0;34m[\u001b[0m\u001b[0mbatch\u001b[0m \u001b[0;34m*\u001b[0m \u001b[0mbatch_size\u001b[0m\u001b[0;34m:\u001b[0m \u001b[0;34m(\u001b[0m\u001b[0mbatch\u001b[0m\u001b[0;34m+\u001b[0m\u001b[0;36m1\u001b[0m\u001b[0;34m)\u001b[0m \u001b[0;34m*\u001b[0m \u001b[0mbatch_size\u001b[0m\u001b[0;34m]\u001b[0m\u001b[0;34m\u001b[0m\u001b[0;34m\u001b[0m\u001b[0m\n\u001b[1;32m     50\u001b[0m \u001b[0;34m\u001b[0m\u001b[0m\n\u001b[0;32m---> 51\u001b[0;31m             \u001b[0mtrain_step\u001b[0m\u001b[0;34m(\u001b[0m\u001b[0mtarget_audios\u001b[0m\u001b[0;34m)\u001b[0m\u001b[0;34m\u001b[0m\u001b[0;34m\u001b[0m\u001b[0m\n\u001b[0m\u001b[1;32m     52\u001b[0m \u001b[0;34m\u001b[0m\u001b[0m\n\u001b[1;32m     53\u001b[0m         \u001b[0;32mif\u001b[0m \u001b[0;34m(\u001b[0m\u001b[0mepoch\u001b[0m \u001b[0;34m+\u001b[0m \u001b[0;36m1\u001b[0m\u001b[0;34m)\u001b[0m \u001b[0;34m%\u001b[0m \u001b[0;36m5\u001b[0m \u001b[0;34m==\u001b[0m \u001b[0;36m0\u001b[0m\u001b[0;34m:\u001b[0m\u001b[0;34m\u001b[0m\u001b[0;34m\u001b[0m\u001b[0m\n",
            "\u001b[0;32m<ipython-input-17-f854c3fec48d>\u001b[0m in \u001b[0;36mtrain_step\u001b[0;34m(target_audios)\u001b[0m\n\u001b[1;32m     11\u001b[0m       \u001b[0;31m# Generate noise using tf.random.normal()\u001b[0m\u001b[0;34m\u001b[0m\u001b[0;34m\u001b[0m\u001b[0m\n\u001b[1;32m     12\u001b[0m       \u001b[0mnoise\u001b[0m \u001b[0;34m=\u001b[0m \u001b[0mtf\u001b[0m\u001b[0;34m.\u001b[0m\u001b[0mrandom\u001b[0m\u001b[0;34m.\u001b[0m\u001b[0mnormal\u001b[0m\u001b[0;34m(\u001b[0m\u001b[0;34m(\u001b[0m\u001b[0mshape\u001b[0m\u001b[0;34m)\u001b[0m\u001b[0;34m)\u001b[0m\u001b[0;34m\u001b[0m\u001b[0;34m\u001b[0m\u001b[0m\n\u001b[0;32m---> 13\u001b[0;31m       \u001b[0mgenerated_audio\u001b[0m \u001b[0;34m=\u001b[0m \u001b[0mgenerator\u001b[0m\u001b[0;34m(\u001b[0m\u001b[0mnoise\u001b[0m\u001b[0;34m,\u001b[0m \u001b[0mtraining\u001b[0m\u001b[0;34m=\u001b[0m\u001b[0;32mTrue\u001b[0m\u001b[0;34m)\u001b[0m\u001b[0;34m\u001b[0m\u001b[0;34m\u001b[0m\u001b[0m\n\u001b[0m\u001b[1;32m     14\u001b[0m       \u001b[0;32mwith\u001b[0m \u001b[0mtf\u001b[0m\u001b[0;34m.\u001b[0m\u001b[0mGradientTape\u001b[0m\u001b[0;34m(\u001b[0m\u001b[0;34m)\u001b[0m \u001b[0;32mas\u001b[0m \u001b[0mdisc_tape\u001b[0m\u001b[0;34m:\u001b[0m\u001b[0;34m\u001b[0m\u001b[0;34m\u001b[0m\u001b[0m\n\u001b[1;32m     15\u001b[0m \u001b[0;34m\u001b[0m\u001b[0m\n",
            "\u001b[0;32m/usr/local/lib/python3.10/dist-packages/keras/utils/traceback_utils.py\u001b[0m in \u001b[0;36merror_handler\u001b[0;34m(*args, **kwargs)\u001b[0m\n\u001b[1;32m     63\u001b[0m         \u001b[0mfiltered_tb\u001b[0m \u001b[0;34m=\u001b[0m \u001b[0;32mNone\u001b[0m\u001b[0;34m\u001b[0m\u001b[0;34m\u001b[0m\u001b[0m\n\u001b[1;32m     64\u001b[0m         \u001b[0;32mtry\u001b[0m\u001b[0;34m:\u001b[0m\u001b[0;34m\u001b[0m\u001b[0;34m\u001b[0m\u001b[0m\n\u001b[0;32m---> 65\u001b[0;31m             \u001b[0;32mreturn\u001b[0m \u001b[0mfn\u001b[0m\u001b[0;34m(\u001b[0m\u001b[0;34m*\u001b[0m\u001b[0margs\u001b[0m\u001b[0;34m,\u001b[0m \u001b[0;34m**\u001b[0m\u001b[0mkwargs\u001b[0m\u001b[0;34m)\u001b[0m\u001b[0;34m\u001b[0m\u001b[0;34m\u001b[0m\u001b[0m\n\u001b[0m\u001b[1;32m     66\u001b[0m         \u001b[0;32mexcept\u001b[0m \u001b[0mException\u001b[0m \u001b[0;32mas\u001b[0m \u001b[0me\u001b[0m\u001b[0;34m:\u001b[0m\u001b[0;34m\u001b[0m\u001b[0;34m\u001b[0m\u001b[0m\n\u001b[1;32m     67\u001b[0m             \u001b[0mfiltered_tb\u001b[0m \u001b[0;34m=\u001b[0m \u001b[0m_process_traceback_frames\u001b[0m\u001b[0;34m(\u001b[0m\u001b[0me\u001b[0m\u001b[0;34m.\u001b[0m\u001b[0m__traceback__\u001b[0m\u001b[0;34m)\u001b[0m\u001b[0;34m\u001b[0m\u001b[0;34m\u001b[0m\u001b[0m\n",
            "\u001b[0;32m/usr/local/lib/python3.10/dist-packages/keras/engine/training.py\u001b[0m in \u001b[0;36m__call__\u001b[0;34m(self, *args, **kwargs)\u001b[0m\n\u001b[1;32m    556\u001b[0m             \u001b[0mlayout_map_lib\u001b[0m\u001b[0;34m.\u001b[0m\u001b[0m_map_subclass_model_variable\u001b[0m\u001b[0;34m(\u001b[0m\u001b[0mself\u001b[0m\u001b[0;34m,\u001b[0m \u001b[0mself\u001b[0m\u001b[0;34m.\u001b[0m\u001b[0m_layout_map\u001b[0m\u001b[0;34m)\u001b[0m\u001b[0;34m\u001b[0m\u001b[0;34m\u001b[0m\u001b[0m\n\u001b[1;32m    557\u001b[0m \u001b[0;34m\u001b[0m\u001b[0m\n\u001b[0;32m--> 558\u001b[0;31m         \u001b[0;32mreturn\u001b[0m \u001b[0msuper\u001b[0m\u001b[0;34m(\u001b[0m\u001b[0;34m)\u001b[0m\u001b[0;34m.\u001b[0m\u001b[0m__call__\u001b[0m\u001b[0;34m(\u001b[0m\u001b[0;34m*\u001b[0m\u001b[0margs\u001b[0m\u001b[0;34m,\u001b[0m \u001b[0;34m**\u001b[0m\u001b[0mkwargs\u001b[0m\u001b[0;34m)\u001b[0m\u001b[0;34m\u001b[0m\u001b[0;34m\u001b[0m\u001b[0m\n\u001b[0m\u001b[1;32m    559\u001b[0m \u001b[0;34m\u001b[0m\u001b[0m\n\u001b[1;32m    560\u001b[0m     \u001b[0;34m@\u001b[0m\u001b[0mdoc_controls\u001b[0m\u001b[0;34m.\u001b[0m\u001b[0mdoc_in_current_and_subclasses\u001b[0m\u001b[0;34m\u001b[0m\u001b[0;34m\u001b[0m\u001b[0m\n",
            "\u001b[0;32m/usr/local/lib/python3.10/dist-packages/keras/utils/traceback_utils.py\u001b[0m in \u001b[0;36merror_handler\u001b[0;34m(*args, **kwargs)\u001b[0m\n\u001b[1;32m     63\u001b[0m         \u001b[0mfiltered_tb\u001b[0m \u001b[0;34m=\u001b[0m \u001b[0;32mNone\u001b[0m\u001b[0;34m\u001b[0m\u001b[0;34m\u001b[0m\u001b[0m\n\u001b[1;32m     64\u001b[0m         \u001b[0;32mtry\u001b[0m\u001b[0;34m:\u001b[0m\u001b[0;34m\u001b[0m\u001b[0;34m\u001b[0m\u001b[0m\n\u001b[0;32m---> 65\u001b[0;31m             \u001b[0;32mreturn\u001b[0m \u001b[0mfn\u001b[0m\u001b[0;34m(\u001b[0m\u001b[0;34m*\u001b[0m\u001b[0margs\u001b[0m\u001b[0;34m,\u001b[0m \u001b[0;34m**\u001b[0m\u001b[0mkwargs\u001b[0m\u001b[0;34m)\u001b[0m\u001b[0;34m\u001b[0m\u001b[0;34m\u001b[0m\u001b[0m\n\u001b[0m\u001b[1;32m     66\u001b[0m         \u001b[0;32mexcept\u001b[0m \u001b[0mException\u001b[0m \u001b[0;32mas\u001b[0m \u001b[0me\u001b[0m\u001b[0;34m:\u001b[0m\u001b[0;34m\u001b[0m\u001b[0;34m\u001b[0m\u001b[0m\n\u001b[1;32m     67\u001b[0m             \u001b[0mfiltered_tb\u001b[0m \u001b[0;34m=\u001b[0m \u001b[0m_process_traceback_frames\u001b[0m\u001b[0;34m(\u001b[0m\u001b[0me\u001b[0m\u001b[0;34m.\u001b[0m\u001b[0m__traceback__\u001b[0m\u001b[0;34m)\u001b[0m\u001b[0;34m\u001b[0m\u001b[0;34m\u001b[0m\u001b[0m\n",
            "\u001b[0;32m/usr/local/lib/python3.10/dist-packages/keras/engine/base_layer.py\u001b[0m in \u001b[0;36m__call__\u001b[0;34m(self, *args, **kwargs)\u001b[0m\n\u001b[1;32m   1143\u001b[0m                     \u001b[0mself\u001b[0m\u001b[0;34m.\u001b[0m\u001b[0m_compute_dtype_object\u001b[0m\u001b[0;34m\u001b[0m\u001b[0;34m\u001b[0m\u001b[0m\n\u001b[1;32m   1144\u001b[0m                 ):\n\u001b[0;32m-> 1145\u001b[0;31m                     \u001b[0moutputs\u001b[0m \u001b[0;34m=\u001b[0m \u001b[0mcall_fn\u001b[0m\u001b[0;34m(\u001b[0m\u001b[0minputs\u001b[0m\u001b[0;34m,\u001b[0m \u001b[0;34m*\u001b[0m\u001b[0margs\u001b[0m\u001b[0;34m,\u001b[0m \u001b[0;34m**\u001b[0m\u001b[0mkwargs\u001b[0m\u001b[0;34m)\u001b[0m\u001b[0;34m\u001b[0m\u001b[0;34m\u001b[0m\u001b[0m\n\u001b[0m\u001b[1;32m   1146\u001b[0m \u001b[0;34m\u001b[0m\u001b[0m\n\u001b[1;32m   1147\u001b[0m                 \u001b[0;32mif\u001b[0m \u001b[0mself\u001b[0m\u001b[0;34m.\u001b[0m\u001b[0m_activity_regularizer\u001b[0m\u001b[0;34m:\u001b[0m\u001b[0;34m\u001b[0m\u001b[0;34m\u001b[0m\u001b[0m\n",
            "\u001b[0;32m/usr/local/lib/python3.10/dist-packages/keras/utils/traceback_utils.py\u001b[0m in \u001b[0;36merror_handler\u001b[0;34m(*args, **kwargs)\u001b[0m\n\u001b[1;32m     94\u001b[0m         \u001b[0mbound_signature\u001b[0m \u001b[0;34m=\u001b[0m \u001b[0;32mNone\u001b[0m\u001b[0;34m\u001b[0m\u001b[0;34m\u001b[0m\u001b[0m\n\u001b[1;32m     95\u001b[0m         \u001b[0;32mtry\u001b[0m\u001b[0;34m:\u001b[0m\u001b[0;34m\u001b[0m\u001b[0;34m\u001b[0m\u001b[0m\n\u001b[0;32m---> 96\u001b[0;31m             \u001b[0;32mreturn\u001b[0m \u001b[0mfn\u001b[0m\u001b[0;34m(\u001b[0m\u001b[0;34m*\u001b[0m\u001b[0margs\u001b[0m\u001b[0;34m,\u001b[0m \u001b[0;34m**\u001b[0m\u001b[0mkwargs\u001b[0m\u001b[0;34m)\u001b[0m\u001b[0;34m\u001b[0m\u001b[0;34m\u001b[0m\u001b[0m\n\u001b[0m\u001b[1;32m     97\u001b[0m         \u001b[0;32mexcept\u001b[0m \u001b[0mException\u001b[0m \u001b[0;32mas\u001b[0m \u001b[0me\u001b[0m\u001b[0;34m:\u001b[0m\u001b[0;34m\u001b[0m\u001b[0;34m\u001b[0m\u001b[0m\n\u001b[1;32m     98\u001b[0m             \u001b[0;32mif\u001b[0m \u001b[0mhasattr\u001b[0m\u001b[0;34m(\u001b[0m\u001b[0me\u001b[0m\u001b[0;34m,\u001b[0m \u001b[0;34m\"_keras_call_info_injected\"\u001b[0m\u001b[0;34m)\u001b[0m\u001b[0;34m:\u001b[0m\u001b[0;34m\u001b[0m\u001b[0;34m\u001b[0m\u001b[0m\n",
            "\u001b[0;32m/usr/local/lib/python3.10/dist-packages/keras/engine/functional.py\u001b[0m in \u001b[0;36mcall\u001b[0;34m(self, inputs, training, mask)\u001b[0m\n\u001b[1;32m    510\u001b[0m             \u001b[0ma\u001b[0m \u001b[0mlist\u001b[0m \u001b[0mof\u001b[0m \u001b[0mtensors\u001b[0m \u001b[0;32mif\u001b[0m \u001b[0mthere\u001b[0m \u001b[0mare\u001b[0m \u001b[0mmore\u001b[0m \u001b[0mthan\u001b[0m \u001b[0mone\u001b[0m \u001b[0moutputs\u001b[0m\u001b[0;34m.\u001b[0m\u001b[0;34m\u001b[0m\u001b[0;34m\u001b[0m\u001b[0m\n\u001b[1;32m    511\u001b[0m         \"\"\"\n\u001b[0;32m--> 512\u001b[0;31m         \u001b[0;32mreturn\u001b[0m \u001b[0mself\u001b[0m\u001b[0;34m.\u001b[0m\u001b[0m_run_internal_graph\u001b[0m\u001b[0;34m(\u001b[0m\u001b[0minputs\u001b[0m\u001b[0;34m,\u001b[0m \u001b[0mtraining\u001b[0m\u001b[0;34m=\u001b[0m\u001b[0mtraining\u001b[0m\u001b[0;34m,\u001b[0m \u001b[0mmask\u001b[0m\u001b[0;34m=\u001b[0m\u001b[0mmask\u001b[0m\u001b[0;34m)\u001b[0m\u001b[0;34m\u001b[0m\u001b[0;34m\u001b[0m\u001b[0m\n\u001b[0m\u001b[1;32m    513\u001b[0m \u001b[0;34m\u001b[0m\u001b[0m\n\u001b[1;32m    514\u001b[0m     \u001b[0;32mdef\u001b[0m \u001b[0mcompute_output_shape\u001b[0m\u001b[0;34m(\u001b[0m\u001b[0mself\u001b[0m\u001b[0;34m,\u001b[0m \u001b[0minput_shape\u001b[0m\u001b[0;34m)\u001b[0m\u001b[0;34m:\u001b[0m\u001b[0;34m\u001b[0m\u001b[0;34m\u001b[0m\u001b[0m\n",
            "\u001b[0;32m/usr/local/lib/python3.10/dist-packages/keras/engine/functional.py\u001b[0m in \u001b[0;36m_run_internal_graph\u001b[0;34m(self, inputs, training, mask)\u001b[0m\n\u001b[1;32m    667\u001b[0m \u001b[0;34m\u001b[0m\u001b[0m\n\u001b[1;32m    668\u001b[0m                 \u001b[0margs\u001b[0m\u001b[0;34m,\u001b[0m \u001b[0mkwargs\u001b[0m \u001b[0;34m=\u001b[0m \u001b[0mnode\u001b[0m\u001b[0;34m.\u001b[0m\u001b[0mmap_arguments\u001b[0m\u001b[0;34m(\u001b[0m\u001b[0mtensor_dict\u001b[0m\u001b[0;34m)\u001b[0m\u001b[0;34m\u001b[0m\u001b[0;34m\u001b[0m\u001b[0m\n\u001b[0;32m--> 669\u001b[0;31m                 \u001b[0moutputs\u001b[0m \u001b[0;34m=\u001b[0m \u001b[0mnode\u001b[0m\u001b[0;34m.\u001b[0m\u001b[0mlayer\u001b[0m\u001b[0;34m(\u001b[0m\u001b[0;34m*\u001b[0m\u001b[0margs\u001b[0m\u001b[0;34m,\u001b[0m \u001b[0;34m**\u001b[0m\u001b[0mkwargs\u001b[0m\u001b[0;34m)\u001b[0m\u001b[0;34m\u001b[0m\u001b[0;34m\u001b[0m\u001b[0m\n\u001b[0m\u001b[1;32m    670\u001b[0m \u001b[0;34m\u001b[0m\u001b[0m\n\u001b[1;32m    671\u001b[0m                 \u001b[0;31m# Update tensor_dict.\u001b[0m\u001b[0;34m\u001b[0m\u001b[0;34m\u001b[0m\u001b[0m\n",
            "\u001b[0;32m/usr/local/lib/python3.10/dist-packages/keras/utils/traceback_utils.py\u001b[0m in \u001b[0;36merror_handler\u001b[0;34m(*args, **kwargs)\u001b[0m\n\u001b[1;32m     63\u001b[0m         \u001b[0mfiltered_tb\u001b[0m \u001b[0;34m=\u001b[0m \u001b[0;32mNone\u001b[0m\u001b[0;34m\u001b[0m\u001b[0;34m\u001b[0m\u001b[0m\n\u001b[1;32m     64\u001b[0m         \u001b[0;32mtry\u001b[0m\u001b[0;34m:\u001b[0m\u001b[0;34m\u001b[0m\u001b[0;34m\u001b[0m\u001b[0m\n\u001b[0;32m---> 65\u001b[0;31m             \u001b[0;32mreturn\u001b[0m \u001b[0mfn\u001b[0m\u001b[0;34m(\u001b[0m\u001b[0;34m*\u001b[0m\u001b[0margs\u001b[0m\u001b[0;34m,\u001b[0m \u001b[0;34m**\u001b[0m\u001b[0mkwargs\u001b[0m\u001b[0;34m)\u001b[0m\u001b[0;34m\u001b[0m\u001b[0;34m\u001b[0m\u001b[0m\n\u001b[0m\u001b[1;32m     66\u001b[0m         \u001b[0;32mexcept\u001b[0m \u001b[0mException\u001b[0m \u001b[0;32mas\u001b[0m \u001b[0me\u001b[0m\u001b[0;34m:\u001b[0m\u001b[0;34m\u001b[0m\u001b[0;34m\u001b[0m\u001b[0m\n\u001b[1;32m     67\u001b[0m             \u001b[0mfiltered_tb\u001b[0m \u001b[0;34m=\u001b[0m \u001b[0m_process_traceback_frames\u001b[0m\u001b[0;34m(\u001b[0m\u001b[0me\u001b[0m\u001b[0;34m.\u001b[0m\u001b[0m__traceback__\u001b[0m\u001b[0;34m)\u001b[0m\u001b[0;34m\u001b[0m\u001b[0;34m\u001b[0m\u001b[0m\n",
            "\u001b[0;32m/usr/local/lib/python3.10/dist-packages/keras/engine/base_layer.py\u001b[0m in \u001b[0;36m__call__\u001b[0;34m(self, *args, **kwargs)\u001b[0m\n\u001b[1;32m   1143\u001b[0m                     \u001b[0mself\u001b[0m\u001b[0;34m.\u001b[0m\u001b[0m_compute_dtype_object\u001b[0m\u001b[0;34m\u001b[0m\u001b[0;34m\u001b[0m\u001b[0m\n\u001b[1;32m   1144\u001b[0m                 ):\n\u001b[0;32m-> 1145\u001b[0;31m                     \u001b[0moutputs\u001b[0m \u001b[0;34m=\u001b[0m \u001b[0mcall_fn\u001b[0m\u001b[0;34m(\u001b[0m\u001b[0minputs\u001b[0m\u001b[0;34m,\u001b[0m \u001b[0;34m*\u001b[0m\u001b[0margs\u001b[0m\u001b[0;34m,\u001b[0m \u001b[0;34m**\u001b[0m\u001b[0mkwargs\u001b[0m\u001b[0;34m)\u001b[0m\u001b[0;34m\u001b[0m\u001b[0;34m\u001b[0m\u001b[0m\n\u001b[0m\u001b[1;32m   1146\u001b[0m \u001b[0;34m\u001b[0m\u001b[0m\n\u001b[1;32m   1147\u001b[0m                 \u001b[0;32mif\u001b[0m \u001b[0mself\u001b[0m\u001b[0;34m.\u001b[0m\u001b[0m_activity_regularizer\u001b[0m\u001b[0;34m:\u001b[0m\u001b[0;34m\u001b[0m\u001b[0;34m\u001b[0m\u001b[0m\n",
            "\u001b[0;32m/usr/local/lib/python3.10/dist-packages/keras/utils/traceback_utils.py\u001b[0m in \u001b[0;36merror_handler\u001b[0;34m(*args, **kwargs)\u001b[0m\n\u001b[1;32m     94\u001b[0m         \u001b[0mbound_signature\u001b[0m \u001b[0;34m=\u001b[0m \u001b[0;32mNone\u001b[0m\u001b[0;34m\u001b[0m\u001b[0;34m\u001b[0m\u001b[0m\n\u001b[1;32m     95\u001b[0m         \u001b[0;32mtry\u001b[0m\u001b[0;34m:\u001b[0m\u001b[0;34m\u001b[0m\u001b[0;34m\u001b[0m\u001b[0m\n\u001b[0;32m---> 96\u001b[0;31m             \u001b[0;32mreturn\u001b[0m \u001b[0mfn\u001b[0m\u001b[0;34m(\u001b[0m\u001b[0;34m*\u001b[0m\u001b[0margs\u001b[0m\u001b[0;34m,\u001b[0m \u001b[0;34m**\u001b[0m\u001b[0mkwargs\u001b[0m\u001b[0;34m)\u001b[0m\u001b[0;34m\u001b[0m\u001b[0;34m\u001b[0m\u001b[0m\n\u001b[0m\u001b[1;32m     97\u001b[0m         \u001b[0;32mexcept\u001b[0m \u001b[0mException\u001b[0m \u001b[0;32mas\u001b[0m \u001b[0me\u001b[0m\u001b[0;34m:\u001b[0m\u001b[0;34m\u001b[0m\u001b[0;34m\u001b[0m\u001b[0m\n\u001b[1;32m     98\u001b[0m             \u001b[0;32mif\u001b[0m \u001b[0mhasattr\u001b[0m\u001b[0;34m(\u001b[0m\u001b[0me\u001b[0m\u001b[0;34m,\u001b[0m \u001b[0;34m\"_keras_call_info_injected\"\u001b[0m\u001b[0;34m)\u001b[0m\u001b[0;34m:\u001b[0m\u001b[0;34m\u001b[0m\u001b[0;34m\u001b[0m\u001b[0m\n",
            "\u001b[0;32m<ipython-input-8-32b43960753b>\u001b[0m in \u001b[0;36mcall\u001b[0;34m(self, inputs, training)\u001b[0m\n\u001b[1;32m     11\u001b[0m \u001b[0;34m\u001b[0m\u001b[0m\n\u001b[1;32m     12\u001b[0m     \u001b[0;32mdef\u001b[0m \u001b[0mcall\u001b[0m\u001b[0;34m(\u001b[0m\u001b[0mself\u001b[0m\u001b[0;34m,\u001b[0m \u001b[0minputs\u001b[0m\u001b[0;34m,\u001b[0m \u001b[0mtraining\u001b[0m\u001b[0;34m=\u001b[0m\u001b[0;32mFalse\u001b[0m\u001b[0;34m)\u001b[0m\u001b[0;34m:\u001b[0m\u001b[0;34m\u001b[0m\u001b[0;34m\u001b[0m\u001b[0m\n\u001b[0;32m---> 13\u001b[0;31m         \u001b[0mx\u001b[0m \u001b[0;34m=\u001b[0m \u001b[0mself\u001b[0m\u001b[0;34m.\u001b[0m\u001b[0mconv1\u001b[0m\u001b[0;34m(\u001b[0m\u001b[0minputs\u001b[0m\u001b[0;34m)\u001b[0m\u001b[0;34m\u001b[0m\u001b[0;34m\u001b[0m\u001b[0m\n\u001b[0m\u001b[1;32m     14\u001b[0m         \u001b[0mx\u001b[0m \u001b[0;34m=\u001b[0m \u001b[0mtf\u001b[0m\u001b[0;34m.\u001b[0m\u001b[0mnn\u001b[0m\u001b[0;34m.\u001b[0m\u001b[0mrelu\u001b[0m\u001b[0;34m(\u001b[0m\u001b[0mx\u001b[0m\u001b[0;34m)\u001b[0m\u001b[0;34m\u001b[0m\u001b[0;34m\u001b[0m\u001b[0m\n\u001b[1;32m     15\u001b[0m         \u001b[0mx\u001b[0m \u001b[0;34m=\u001b[0m \u001b[0mself\u001b[0m\u001b[0;34m.\u001b[0m\u001b[0mconv2\u001b[0m\u001b[0;34m(\u001b[0m\u001b[0mx\u001b[0m\u001b[0;34m)\u001b[0m\u001b[0;34m\u001b[0m\u001b[0;34m\u001b[0m\u001b[0m\n",
            "\u001b[0;32m/usr/local/lib/python3.10/dist-packages/keras/utils/traceback_utils.py\u001b[0m in \u001b[0;36merror_handler\u001b[0;34m(*args, **kwargs)\u001b[0m\n\u001b[1;32m     63\u001b[0m         \u001b[0mfiltered_tb\u001b[0m \u001b[0;34m=\u001b[0m \u001b[0;32mNone\u001b[0m\u001b[0;34m\u001b[0m\u001b[0;34m\u001b[0m\u001b[0m\n\u001b[1;32m     64\u001b[0m         \u001b[0;32mtry\u001b[0m\u001b[0;34m:\u001b[0m\u001b[0;34m\u001b[0m\u001b[0;34m\u001b[0m\u001b[0m\n\u001b[0;32m---> 65\u001b[0;31m             \u001b[0;32mreturn\u001b[0m \u001b[0mfn\u001b[0m\u001b[0;34m(\u001b[0m\u001b[0;34m*\u001b[0m\u001b[0margs\u001b[0m\u001b[0;34m,\u001b[0m \u001b[0;34m**\u001b[0m\u001b[0mkwargs\u001b[0m\u001b[0;34m)\u001b[0m\u001b[0;34m\u001b[0m\u001b[0;34m\u001b[0m\u001b[0m\n\u001b[0m\u001b[1;32m     66\u001b[0m         \u001b[0;32mexcept\u001b[0m \u001b[0mException\u001b[0m \u001b[0;32mas\u001b[0m \u001b[0me\u001b[0m\u001b[0;34m:\u001b[0m\u001b[0;34m\u001b[0m\u001b[0;34m\u001b[0m\u001b[0m\n\u001b[1;32m     67\u001b[0m             \u001b[0mfiltered_tb\u001b[0m \u001b[0;34m=\u001b[0m \u001b[0m_process_traceback_frames\u001b[0m\u001b[0;34m(\u001b[0m\u001b[0me\u001b[0m\u001b[0;34m.\u001b[0m\u001b[0m__traceback__\u001b[0m\u001b[0;34m)\u001b[0m\u001b[0;34m\u001b[0m\u001b[0;34m\u001b[0m\u001b[0m\n",
            "\u001b[0;32m/usr/local/lib/python3.10/dist-packages/keras/engine/base_layer.py\u001b[0m in \u001b[0;36m__call__\u001b[0;34m(self, *args, **kwargs)\u001b[0m\n\u001b[1;32m   1143\u001b[0m                     \u001b[0mself\u001b[0m\u001b[0;34m.\u001b[0m\u001b[0m_compute_dtype_object\u001b[0m\u001b[0;34m\u001b[0m\u001b[0;34m\u001b[0m\u001b[0m\n\u001b[1;32m   1144\u001b[0m                 ):\n\u001b[0;32m-> 1145\u001b[0;31m                     \u001b[0moutputs\u001b[0m \u001b[0;34m=\u001b[0m \u001b[0mcall_fn\u001b[0m\u001b[0;34m(\u001b[0m\u001b[0minputs\u001b[0m\u001b[0;34m,\u001b[0m \u001b[0;34m*\u001b[0m\u001b[0margs\u001b[0m\u001b[0;34m,\u001b[0m \u001b[0;34m**\u001b[0m\u001b[0mkwargs\u001b[0m\u001b[0;34m)\u001b[0m\u001b[0;34m\u001b[0m\u001b[0;34m\u001b[0m\u001b[0m\n\u001b[0m\u001b[1;32m   1146\u001b[0m \u001b[0;34m\u001b[0m\u001b[0m\n\u001b[1;32m   1147\u001b[0m                 \u001b[0;32mif\u001b[0m \u001b[0mself\u001b[0m\u001b[0;34m.\u001b[0m\u001b[0m_activity_regularizer\u001b[0m\u001b[0;34m:\u001b[0m\u001b[0;34m\u001b[0m\u001b[0;34m\u001b[0m\u001b[0m\n",
            "\u001b[0;32m/usr/local/lib/python3.10/dist-packages/keras/utils/traceback_utils.py\u001b[0m in \u001b[0;36merror_handler\u001b[0;34m(*args, **kwargs)\u001b[0m\n\u001b[1;32m     94\u001b[0m         \u001b[0mbound_signature\u001b[0m \u001b[0;34m=\u001b[0m \u001b[0;32mNone\u001b[0m\u001b[0;34m\u001b[0m\u001b[0;34m\u001b[0m\u001b[0m\n\u001b[1;32m     95\u001b[0m         \u001b[0;32mtry\u001b[0m\u001b[0;34m:\u001b[0m\u001b[0;34m\u001b[0m\u001b[0;34m\u001b[0m\u001b[0m\n\u001b[0;32m---> 96\u001b[0;31m             \u001b[0;32mreturn\u001b[0m \u001b[0mfn\u001b[0m\u001b[0;34m(\u001b[0m\u001b[0;34m*\u001b[0m\u001b[0margs\u001b[0m\u001b[0;34m,\u001b[0m \u001b[0;34m**\u001b[0m\u001b[0mkwargs\u001b[0m\u001b[0;34m)\u001b[0m\u001b[0;34m\u001b[0m\u001b[0;34m\u001b[0m\u001b[0m\n\u001b[0m\u001b[1;32m     97\u001b[0m         \u001b[0;32mexcept\u001b[0m \u001b[0mException\u001b[0m \u001b[0;32mas\u001b[0m \u001b[0me\u001b[0m\u001b[0;34m:\u001b[0m\u001b[0;34m\u001b[0m\u001b[0;34m\u001b[0m\u001b[0m\n\u001b[1;32m     98\u001b[0m             \u001b[0;32mif\u001b[0m \u001b[0mhasattr\u001b[0m\u001b[0;34m(\u001b[0m\u001b[0me\u001b[0m\u001b[0;34m,\u001b[0m \u001b[0;34m\"_keras_call_info_injected\"\u001b[0m\u001b[0;34m)\u001b[0m\u001b[0;34m:\u001b[0m\u001b[0;34m\u001b[0m\u001b[0;34m\u001b[0m\u001b[0m\n",
            "\u001b[0;32m/usr/local/lib/python3.10/dist-packages/keras/layers/convolutional/base_conv.py\u001b[0m in \u001b[0;36mcall\u001b[0;34m(self, inputs)\u001b[0m\n\u001b[1;32m    288\u001b[0m             )\n\u001b[1;32m    289\u001b[0m         \u001b[0;32melse\u001b[0m\u001b[0;34m:\u001b[0m\u001b[0;34m\u001b[0m\u001b[0;34m\u001b[0m\u001b[0m\n\u001b[0;32m--> 290\u001b[0;31m             \u001b[0moutputs\u001b[0m \u001b[0;34m=\u001b[0m \u001b[0mself\u001b[0m\u001b[0;34m.\u001b[0m\u001b[0mconvolution_op\u001b[0m\u001b[0;34m(\u001b[0m\u001b[0minputs\u001b[0m\u001b[0;34m,\u001b[0m \u001b[0mself\u001b[0m\u001b[0;34m.\u001b[0m\u001b[0mkernel\u001b[0m\u001b[0;34m)\u001b[0m\u001b[0;34m\u001b[0m\u001b[0;34m\u001b[0m\u001b[0m\n\u001b[0m\u001b[1;32m    291\u001b[0m \u001b[0;34m\u001b[0m\u001b[0m\n\u001b[1;32m    292\u001b[0m         \u001b[0;32mif\u001b[0m \u001b[0mself\u001b[0m\u001b[0;34m.\u001b[0m\u001b[0muse_bias\u001b[0m\u001b[0;34m:\u001b[0m\u001b[0;34m\u001b[0m\u001b[0;34m\u001b[0m\u001b[0m\n",
            "\u001b[0;32m/usr/local/lib/python3.10/dist-packages/keras/layers/convolutional/base_conv.py\u001b[0m in \u001b[0;36mconvolution_op\u001b[0;34m(self, inputs, kernel)\u001b[0m\n\u001b[1;32m    260\u001b[0m             \u001b[0mtf_padding\u001b[0m \u001b[0;34m=\u001b[0m \u001b[0mself\u001b[0m\u001b[0;34m.\u001b[0m\u001b[0mpadding\u001b[0m\u001b[0;34m\u001b[0m\u001b[0;34m\u001b[0m\u001b[0m\n\u001b[1;32m    261\u001b[0m \u001b[0;34m\u001b[0m\u001b[0m\n\u001b[0;32m--> 262\u001b[0;31m         return tf.nn.convolution(\n\u001b[0m\u001b[1;32m    263\u001b[0m             \u001b[0minputs\u001b[0m\u001b[0;34m,\u001b[0m\u001b[0;34m\u001b[0m\u001b[0;34m\u001b[0m\u001b[0m\n\u001b[1;32m    264\u001b[0m             \u001b[0mkernel\u001b[0m\u001b[0;34m,\u001b[0m\u001b[0;34m\u001b[0m\u001b[0;34m\u001b[0m\u001b[0m\n",
            "\u001b[0;32m/usr/local/lib/python3.10/dist-packages/tensorflow/python/util/traceback_utils.py\u001b[0m in \u001b[0;36merror_handler\u001b[0;34m(*args, **kwargs)\u001b[0m\n\u001b[1;32m    148\u001b[0m     \u001b[0mfiltered_tb\u001b[0m \u001b[0;34m=\u001b[0m \u001b[0;32mNone\u001b[0m\u001b[0;34m\u001b[0m\u001b[0;34m\u001b[0m\u001b[0m\n\u001b[1;32m    149\u001b[0m     \u001b[0;32mtry\u001b[0m\u001b[0;34m:\u001b[0m\u001b[0;34m\u001b[0m\u001b[0;34m\u001b[0m\u001b[0m\n\u001b[0;32m--> 150\u001b[0;31m       \u001b[0;32mreturn\u001b[0m \u001b[0mfn\u001b[0m\u001b[0;34m(\u001b[0m\u001b[0;34m*\u001b[0m\u001b[0margs\u001b[0m\u001b[0;34m,\u001b[0m \u001b[0;34m**\u001b[0m\u001b[0mkwargs\u001b[0m\u001b[0;34m)\u001b[0m\u001b[0;34m\u001b[0m\u001b[0;34m\u001b[0m\u001b[0m\n\u001b[0m\u001b[1;32m    151\u001b[0m     \u001b[0;32mexcept\u001b[0m \u001b[0mException\u001b[0m \u001b[0;32mas\u001b[0m \u001b[0me\u001b[0m\u001b[0;34m:\u001b[0m\u001b[0;34m\u001b[0m\u001b[0;34m\u001b[0m\u001b[0m\n\u001b[1;32m    152\u001b[0m       \u001b[0mfiltered_tb\u001b[0m \u001b[0;34m=\u001b[0m \u001b[0m_process_traceback_frames\u001b[0m\u001b[0;34m(\u001b[0m\u001b[0me\u001b[0m\u001b[0;34m.\u001b[0m\u001b[0m__traceback__\u001b[0m\u001b[0;34m)\u001b[0m\u001b[0;34m\u001b[0m\u001b[0;34m\u001b[0m\u001b[0m\n",
            "\u001b[0;32m/usr/local/lib/python3.10/dist-packages/tensorflow/python/util/dispatch.py\u001b[0m in \u001b[0;36mop_dispatch_handler\u001b[0;34m(*args, **kwargs)\u001b[0m\n\u001b[1;32m   1174\u001b[0m       \u001b[0;31m# Fallback dispatch system (dispatch v1):\u001b[0m\u001b[0;34m\u001b[0m\u001b[0;34m\u001b[0m\u001b[0m\n\u001b[1;32m   1175\u001b[0m       \u001b[0;32mtry\u001b[0m\u001b[0;34m:\u001b[0m\u001b[0;34m\u001b[0m\u001b[0;34m\u001b[0m\u001b[0m\n\u001b[0;32m-> 1176\u001b[0;31m         \u001b[0;32mreturn\u001b[0m \u001b[0mdispatch_target\u001b[0m\u001b[0;34m(\u001b[0m\u001b[0;34m*\u001b[0m\u001b[0margs\u001b[0m\u001b[0;34m,\u001b[0m \u001b[0;34m**\u001b[0m\u001b[0mkwargs\u001b[0m\u001b[0;34m)\u001b[0m\u001b[0;34m\u001b[0m\u001b[0;34m\u001b[0m\u001b[0m\n\u001b[0m\u001b[1;32m   1177\u001b[0m       \u001b[0;32mexcept\u001b[0m \u001b[0;34m(\u001b[0m\u001b[0mTypeError\u001b[0m\u001b[0;34m,\u001b[0m \u001b[0mValueError\u001b[0m\u001b[0;34m)\u001b[0m\u001b[0;34m:\u001b[0m\u001b[0;34m\u001b[0m\u001b[0;34m\u001b[0m\u001b[0m\n\u001b[1;32m   1178\u001b[0m         \u001b[0;31m# Note: convert_to_eager_tensor currently raises a ValueError, not a\u001b[0m\u001b[0;34m\u001b[0m\u001b[0;34m\u001b[0m\u001b[0m\n",
            "\u001b[0;32m/usr/local/lib/python3.10/dist-packages/tensorflow/python/ops/nn_ops.py\u001b[0m in \u001b[0;36mconvolution_v2\u001b[0;34m(input, filters, strides, padding, data_format, dilations, name)\u001b[0m\n\u001b[1;32m   1179\u001b[0m     \u001b[0mdilations\u001b[0m\u001b[0;34m=\u001b[0m\u001b[0;32mNone\u001b[0m\u001b[0;34m,\u001b[0m\u001b[0;34m\u001b[0m\u001b[0;34m\u001b[0m\u001b[0m\n\u001b[1;32m   1180\u001b[0m     name=None):\n\u001b[0;32m-> 1181\u001b[0;31m   return convolution_internal(\n\u001b[0m\u001b[1;32m   1182\u001b[0m       \u001b[0minput\u001b[0m\u001b[0;34m,\u001b[0m  \u001b[0;31m# pylint: disable=redefined-builtin\u001b[0m\u001b[0;34m\u001b[0m\u001b[0;34m\u001b[0m\u001b[0m\n\u001b[1;32m   1183\u001b[0m       \u001b[0mfilters\u001b[0m\u001b[0;34m,\u001b[0m\u001b[0;34m\u001b[0m\u001b[0;34m\u001b[0m\u001b[0m\n",
            "\u001b[0;32m/usr/local/lib/python3.10/dist-packages/tensorflow/python/ops/nn_ops.py\u001b[0m in \u001b[0;36mconvolution_internal\u001b[0;34m(input, filters, strides, padding, data_format, dilations, name, call_from_convolution, num_spatial_dims)\u001b[0m\n\u001b[1;32m   1336\u001b[0m           \u001b[0mdata_format\u001b[0m\u001b[0;34m=\u001b[0m\u001b[0mdata_format\u001b[0m\u001b[0;34m,\u001b[0m\u001b[0;34m\u001b[0m\u001b[0;34m\u001b[0m\u001b[0m\n\u001b[1;32m   1337\u001b[0m           num_spatial_dims=num_spatial_dims)\n\u001b[0;32m-> 1338\u001b[0;31m       \u001b[0;32mreturn\u001b[0m \u001b[0mop\u001b[0m\u001b[0;34m(\u001b[0m\u001b[0minput\u001b[0m\u001b[0;34m,\u001b[0m \u001b[0mfilters\u001b[0m\u001b[0;34m)\u001b[0m\u001b[0;34m\u001b[0m\u001b[0;34m\u001b[0m\u001b[0m\n\u001b[0m\u001b[1;32m   1339\u001b[0m \u001b[0;34m\u001b[0m\u001b[0m\n\u001b[1;32m   1340\u001b[0m \u001b[0;34m\u001b[0m\u001b[0m\n",
            "\u001b[0;32m/usr/local/lib/python3.10/dist-packages/tensorflow/python/ops/nn_ops.py\u001b[0m in \u001b[0;36m__call__\u001b[0;34m(self, inp, filter)\u001b[0m\n\u001b[1;32m   1497\u001b[0m           num_spatial_dims=self.num_spatial_dims)\n\u001b[1;32m   1498\u001b[0m     \u001b[0;32melse\u001b[0m\u001b[0;34m:\u001b[0m\u001b[0;34m\u001b[0m\u001b[0;34m\u001b[0m\u001b[0m\n\u001b[0;32m-> 1499\u001b[0;31m       \u001b[0;32mreturn\u001b[0m \u001b[0mself\u001b[0m\u001b[0;34m.\u001b[0m\u001b[0mconv_op\u001b[0m\u001b[0;34m(\u001b[0m\u001b[0minp\u001b[0m\u001b[0;34m,\u001b[0m \u001b[0mfilter\u001b[0m\u001b[0;34m)\u001b[0m\u001b[0;34m\u001b[0m\u001b[0;34m\u001b[0m\u001b[0m\n\u001b[0m\u001b[1;32m   1500\u001b[0m \u001b[0;34m\u001b[0m\u001b[0m\n\u001b[1;32m   1501\u001b[0m \u001b[0;34m\u001b[0m\u001b[0m\n",
            "\u001b[0;32m/usr/local/lib/python3.10/dist-packages/tensorflow/python/ops/nn_ops.py\u001b[0m in \u001b[0;36m__call__\u001b[0;34m(self, inp, filter)\u001b[0m\n\u001b[1;32m    900\u001b[0m \u001b[0;34m\u001b[0m\u001b[0m\n\u001b[1;32m    901\u001b[0m   \u001b[0;32mdef\u001b[0m \u001b[0m__call__\u001b[0m\u001b[0;34m(\u001b[0m\u001b[0mself\u001b[0m\u001b[0;34m,\u001b[0m \u001b[0minp\u001b[0m\u001b[0;34m,\u001b[0m \u001b[0mfilter\u001b[0m\u001b[0;34m)\u001b[0m\u001b[0;34m:\u001b[0m  \u001b[0;31m# pylint: disable=redefined-builtin\u001b[0m\u001b[0;34m\u001b[0m\u001b[0;34m\u001b[0m\u001b[0m\n\u001b[0;32m--> 902\u001b[0;31m     \u001b[0;32mreturn\u001b[0m \u001b[0mself\u001b[0m\u001b[0;34m.\u001b[0m\u001b[0mcall\u001b[0m\u001b[0;34m(\u001b[0m\u001b[0minp\u001b[0m\u001b[0;34m,\u001b[0m \u001b[0mfilter\u001b[0m\u001b[0;34m)\u001b[0m\u001b[0;34m\u001b[0m\u001b[0;34m\u001b[0m\u001b[0m\n\u001b[0m\u001b[1;32m    903\u001b[0m \u001b[0;34m\u001b[0m\u001b[0m\n\u001b[1;32m    904\u001b[0m \u001b[0;34m\u001b[0m\u001b[0m\n",
            "\u001b[0;32m/usr/local/lib/python3.10/dist-packages/tensorflow/python/ops/nn_ops.py\u001b[0m in \u001b[0;36m_with_space_to_batch_call\u001b[0;34m(self, inp, filter)\u001b[0m\n\u001b[1;32m    885\u001b[0m         input=inp, block_shape=dilation_rate, paddings=paddings)\n\u001b[1;32m    886\u001b[0m \u001b[0;34m\u001b[0m\u001b[0m\n\u001b[0;32m--> 887\u001b[0;31m     \u001b[0mresult\u001b[0m \u001b[0;34m=\u001b[0m \u001b[0mself\u001b[0m\u001b[0;34m.\u001b[0m\u001b[0mop\u001b[0m\u001b[0;34m(\u001b[0m\u001b[0minput_converted\u001b[0m\u001b[0;34m,\u001b[0m \u001b[0mfilter\u001b[0m\u001b[0;34m)\u001b[0m\u001b[0;34m\u001b[0m\u001b[0;34m\u001b[0m\u001b[0m\n\u001b[0m\u001b[1;32m    888\u001b[0m \u001b[0;34m\u001b[0m\u001b[0m\n\u001b[1;32m    889\u001b[0m     result_converted = array_ops.batch_to_space_nd(\n",
            "\u001b[0;32m/usr/local/lib/python3.10/dist-packages/tensorflow/python/ops/nn_ops.py\u001b[0m in \u001b[0;36m__call__\u001b[0;34m(self, inp, filter)\u001b[0m\n\u001b[1;32m    417\u001b[0m \u001b[0;34m\u001b[0m\u001b[0m\n\u001b[1;32m    418\u001b[0m   \u001b[0;32mdef\u001b[0m \u001b[0m__call__\u001b[0m\u001b[0;34m(\u001b[0m\u001b[0mself\u001b[0m\u001b[0;34m,\u001b[0m \u001b[0minp\u001b[0m\u001b[0;34m,\u001b[0m \u001b[0mfilter\u001b[0m\u001b[0;34m)\u001b[0m\u001b[0;34m:\u001b[0m  \u001b[0;31m# pylint: disable=redefined-builtin\u001b[0m\u001b[0;34m\u001b[0m\u001b[0;34m\u001b[0m\u001b[0m\n\u001b[0;32m--> 419\u001b[0;31m     return self.conv_op(\n\u001b[0m\u001b[1;32m    420\u001b[0m         \u001b[0minput\u001b[0m\u001b[0;34m=\u001b[0m\u001b[0minp\u001b[0m\u001b[0;34m,\u001b[0m\u001b[0;34m\u001b[0m\u001b[0;34m\u001b[0m\u001b[0m\n\u001b[1;32m    421\u001b[0m         \u001b[0mfilter\u001b[0m\u001b[0;34m=\u001b[0m\u001b[0mfilter\u001b[0m\u001b[0;34m,\u001b[0m\u001b[0;34m\u001b[0m\u001b[0;34m\u001b[0m\u001b[0m\n",
            "\u001b[0;32m/usr/local/lib/python3.10/dist-packages/tensorflow/python/ops/nn_ops.py\u001b[0m in \u001b[0;36m_conv1d\u001b[0;34m(self, input, filter, strides, padding, data_format, name)\u001b[0m\n\u001b[1;32m    407\u001b[0m   \u001b[0;31m# pylint: disable=redefined-builtin\u001b[0m\u001b[0;34m\u001b[0m\u001b[0;34m\u001b[0m\u001b[0m\n\u001b[1;32m    408\u001b[0m   \u001b[0;32mdef\u001b[0m \u001b[0m_conv1d\u001b[0m\u001b[0;34m(\u001b[0m\u001b[0mself\u001b[0m\u001b[0;34m,\u001b[0m \u001b[0minput\u001b[0m\u001b[0;34m,\u001b[0m \u001b[0mfilter\u001b[0m\u001b[0;34m,\u001b[0m \u001b[0mstrides\u001b[0m\u001b[0;34m,\u001b[0m \u001b[0mpadding\u001b[0m\u001b[0;34m,\u001b[0m \u001b[0mdata_format\u001b[0m\u001b[0;34m,\u001b[0m \u001b[0mname\u001b[0m\u001b[0;34m)\u001b[0m\u001b[0;34m:\u001b[0m\u001b[0;34m\u001b[0m\u001b[0;34m\u001b[0m\u001b[0m\n\u001b[0;32m--> 409\u001b[0;31m     return conv1d(\n\u001b[0m\u001b[1;32m    410\u001b[0m         \u001b[0mvalue\u001b[0m\u001b[0;34m=\u001b[0m\u001b[0minput\u001b[0m\u001b[0;34m,\u001b[0m\u001b[0;34m\u001b[0m\u001b[0;34m\u001b[0m\u001b[0m\n\u001b[1;32m    411\u001b[0m         \u001b[0mfilters\u001b[0m\u001b[0;34m=\u001b[0m\u001b[0mfilter\u001b[0m\u001b[0;34m,\u001b[0m\u001b[0;34m\u001b[0m\u001b[0;34m\u001b[0m\u001b[0m\n",
            "\u001b[0;32m/usr/local/lib/python3.10/dist-packages/tensorflow/python/util/traceback_utils.py\u001b[0m in \u001b[0;36merror_handler\u001b[0;34m(*args, **kwargs)\u001b[0m\n\u001b[1;32m    148\u001b[0m     \u001b[0mfiltered_tb\u001b[0m \u001b[0;34m=\u001b[0m \u001b[0;32mNone\u001b[0m\u001b[0;34m\u001b[0m\u001b[0;34m\u001b[0m\u001b[0m\n\u001b[1;32m    149\u001b[0m     \u001b[0;32mtry\u001b[0m\u001b[0;34m:\u001b[0m\u001b[0;34m\u001b[0m\u001b[0;34m\u001b[0m\u001b[0m\n\u001b[0;32m--> 150\u001b[0;31m       \u001b[0;32mreturn\u001b[0m \u001b[0mfn\u001b[0m\u001b[0;34m(\u001b[0m\u001b[0;34m*\u001b[0m\u001b[0margs\u001b[0m\u001b[0;34m,\u001b[0m \u001b[0;34m**\u001b[0m\u001b[0mkwargs\u001b[0m\u001b[0;34m)\u001b[0m\u001b[0;34m\u001b[0m\u001b[0;34m\u001b[0m\u001b[0m\n\u001b[0m\u001b[1;32m    151\u001b[0m     \u001b[0;32mexcept\u001b[0m \u001b[0mException\u001b[0m \u001b[0;32mas\u001b[0m \u001b[0me\u001b[0m\u001b[0;34m:\u001b[0m\u001b[0;34m\u001b[0m\u001b[0;34m\u001b[0m\u001b[0m\n\u001b[1;32m    152\u001b[0m       \u001b[0mfiltered_tb\u001b[0m \u001b[0;34m=\u001b[0m \u001b[0m_process_traceback_frames\u001b[0m\u001b[0;34m(\u001b[0m\u001b[0me\u001b[0m\u001b[0;34m.\u001b[0m\u001b[0m__traceback__\u001b[0m\u001b[0;34m)\u001b[0m\u001b[0;34m\u001b[0m\u001b[0;34m\u001b[0m\u001b[0m\n",
            "\u001b[0;32m/usr/local/lib/python3.10/dist-packages/tensorflow/python/util/dispatch.py\u001b[0m in \u001b[0;36mop_dispatch_handler\u001b[0;34m(*args, **kwargs)\u001b[0m\n\u001b[1;32m   1174\u001b[0m       \u001b[0;31m# Fallback dispatch system (dispatch v1):\u001b[0m\u001b[0;34m\u001b[0m\u001b[0;34m\u001b[0m\u001b[0m\n\u001b[1;32m   1175\u001b[0m       \u001b[0;32mtry\u001b[0m\u001b[0;34m:\u001b[0m\u001b[0;34m\u001b[0m\u001b[0;34m\u001b[0m\u001b[0m\n\u001b[0;32m-> 1176\u001b[0;31m         \u001b[0;32mreturn\u001b[0m \u001b[0mdispatch_target\u001b[0m\u001b[0;34m(\u001b[0m\u001b[0;34m*\u001b[0m\u001b[0margs\u001b[0m\u001b[0;34m,\u001b[0m \u001b[0;34m**\u001b[0m\u001b[0mkwargs\u001b[0m\u001b[0;34m)\u001b[0m\u001b[0;34m\u001b[0m\u001b[0;34m\u001b[0m\u001b[0m\n\u001b[0m\u001b[1;32m   1177\u001b[0m       \u001b[0;32mexcept\u001b[0m \u001b[0;34m(\u001b[0m\u001b[0mTypeError\u001b[0m\u001b[0;34m,\u001b[0m \u001b[0mValueError\u001b[0m\u001b[0;34m)\u001b[0m\u001b[0;34m:\u001b[0m\u001b[0;34m\u001b[0m\u001b[0;34m\u001b[0m\u001b[0m\n\u001b[1;32m   1178\u001b[0m         \u001b[0;31m# Note: convert_to_eager_tensor currently raises a ValueError, not a\u001b[0m\u001b[0;34m\u001b[0m\u001b[0;34m\u001b[0m\u001b[0m\n",
            "\u001b[0;32m/usr/local/lib/python3.10/dist-packages/tensorflow/python/util/deprecation.py\u001b[0m in \u001b[0;36mnew_func\u001b[0;34m(*args, **kwargs)\u001b[0m\n\u001b[1;32m    646\u001b[0m                   \u001b[0;34m'in a future version'\u001b[0m \u001b[0;32mif\u001b[0m \u001b[0mdate\u001b[0m \u001b[0;32mis\u001b[0m \u001b[0;32mNone\u001b[0m \u001b[0;32melse\u001b[0m\u001b[0;34m\u001b[0m\u001b[0;34m\u001b[0m\u001b[0m\n\u001b[1;32m    647\u001b[0m                   ('after %s' % date), instructions)\n\u001b[0;32m--> 648\u001b[0;31m       \u001b[0;32mreturn\u001b[0m \u001b[0mfunc\u001b[0m\u001b[0;34m(\u001b[0m\u001b[0;34m*\u001b[0m\u001b[0margs\u001b[0m\u001b[0;34m,\u001b[0m \u001b[0;34m**\u001b[0m\u001b[0mkwargs\u001b[0m\u001b[0;34m)\u001b[0m\u001b[0;34m\u001b[0m\u001b[0;34m\u001b[0m\u001b[0m\n\u001b[0m\u001b[1;32m    649\u001b[0m \u001b[0;34m\u001b[0m\u001b[0m\n\u001b[1;32m    650\u001b[0m     doc = _add_deprecated_arg_value_notice_to_docstring(func.__doc__, date,\n",
            "\u001b[0;32m/usr/local/lib/python3.10/dist-packages/tensorflow/python/util/deprecation.py\u001b[0m in \u001b[0;36mnew_func\u001b[0;34m(*args, **kwargs)\u001b[0m\n\u001b[1;32m    646\u001b[0m                   \u001b[0;34m'in a future version'\u001b[0m \u001b[0;32mif\u001b[0m \u001b[0mdate\u001b[0m \u001b[0;32mis\u001b[0m \u001b[0;32mNone\u001b[0m \u001b[0;32melse\u001b[0m\u001b[0;34m\u001b[0m\u001b[0;34m\u001b[0m\u001b[0m\n\u001b[1;32m    647\u001b[0m                   ('after %s' % date), instructions)\n\u001b[0;32m--> 648\u001b[0;31m       \u001b[0;32mreturn\u001b[0m \u001b[0mfunc\u001b[0m\u001b[0;34m(\u001b[0m\u001b[0;34m*\u001b[0m\u001b[0margs\u001b[0m\u001b[0;34m,\u001b[0m \u001b[0;34m**\u001b[0m\u001b[0mkwargs\u001b[0m\u001b[0;34m)\u001b[0m\u001b[0;34m\u001b[0m\u001b[0;34m\u001b[0m\u001b[0m\n\u001b[0m\u001b[1;32m    649\u001b[0m \u001b[0;34m\u001b[0m\u001b[0m\n\u001b[1;32m    650\u001b[0m     doc = _add_deprecated_arg_value_notice_to_docstring(func.__doc__, date,\n",
            "\u001b[0;32m/usr/local/lib/python3.10/dist-packages/tensorflow/python/ops/nn_ops.py\u001b[0m in \u001b[0;36mconv1d\u001b[0;34m(value, filters, stride, padding, use_cudnn_on_gpu, data_format, name, input, dilations)\u001b[0m\n\u001b[1;32m   2065\u001b[0m     \u001b[0mfilters\u001b[0m \u001b[0;34m=\u001b[0m \u001b[0marray_ops\u001b[0m\u001b[0;34m.\u001b[0m\u001b[0mexpand_dims\u001b[0m\u001b[0;34m(\u001b[0m\u001b[0mfilters\u001b[0m\u001b[0;34m,\u001b[0m \u001b[0;36m0\u001b[0m\u001b[0;34m)\u001b[0m\u001b[0;34m\u001b[0m\u001b[0;34m\u001b[0m\u001b[0m\n\u001b[1;32m   2066\u001b[0m     \u001b[0;32mif\u001b[0m \u001b[0mvalue\u001b[0m\u001b[0;34m.\u001b[0m\u001b[0mshape\u001b[0m\u001b[0;34m.\u001b[0m\u001b[0mndims\u001b[0m \u001b[0;32min\u001b[0m \u001b[0;34m(\u001b[0m\u001b[0;36m4\u001b[0m\u001b[0;34m,\u001b[0m \u001b[0;36m3\u001b[0m\u001b[0;34m,\u001b[0m \u001b[0;36m2\u001b[0m\u001b[0;34m,\u001b[0m \u001b[0;36m1\u001b[0m\u001b[0;34m,\u001b[0m \u001b[0;36m0\u001b[0m\u001b[0;34m,\u001b[0m \u001b[0;32mNone\u001b[0m\u001b[0;34m)\u001b[0m\u001b[0;34m:\u001b[0m\u001b[0;34m\u001b[0m\u001b[0;34m\u001b[0m\u001b[0m\n\u001b[0;32m-> 2067\u001b[0;31m       result = gen_nn_ops.conv2d(\n\u001b[0m\u001b[1;32m   2068\u001b[0m           \u001b[0mvalue\u001b[0m\u001b[0;34m,\u001b[0m\u001b[0;34m\u001b[0m\u001b[0;34m\u001b[0m\u001b[0m\n\u001b[1;32m   2069\u001b[0m           \u001b[0mfilters\u001b[0m\u001b[0;34m,\u001b[0m\u001b[0;34m\u001b[0m\u001b[0;34m\u001b[0m\u001b[0m\n",
            "\u001b[0;32m/usr/local/lib/python3.10/dist-packages/tensorflow/python/ops/gen_nn_ops.py\u001b[0m in \u001b[0;36mconv2d\u001b[0;34m(input, filter, strides, padding, use_cudnn_on_gpu, explicit_paddings, data_format, dilations, name)\u001b[0m\n\u001b[1;32m   1109\u001b[0m       \u001b[0;32mpass\u001b[0m\u001b[0;34m\u001b[0m\u001b[0;34m\u001b[0m\u001b[0m\n\u001b[1;32m   1110\u001b[0m     \u001b[0;32mtry\u001b[0m\u001b[0;34m:\u001b[0m\u001b[0;34m\u001b[0m\u001b[0;34m\u001b[0m\u001b[0m\n\u001b[0;32m-> 1111\u001b[0;31m       return conv2d_eager_fallback(\n\u001b[0m\u001b[1;32m   1112\u001b[0m           \u001b[0minput\u001b[0m\u001b[0;34m,\u001b[0m \u001b[0mfilter\u001b[0m\u001b[0;34m,\u001b[0m \u001b[0mstrides\u001b[0m\u001b[0;34m=\u001b[0m\u001b[0mstrides\u001b[0m\u001b[0;34m,\u001b[0m \u001b[0muse_cudnn_on_gpu\u001b[0m\u001b[0;34m=\u001b[0m\u001b[0muse_cudnn_on_gpu\u001b[0m\u001b[0;34m,\u001b[0m\u001b[0;34m\u001b[0m\u001b[0;34m\u001b[0m\u001b[0m\n\u001b[1;32m   1113\u001b[0m           \u001b[0mpadding\u001b[0m\u001b[0;34m=\u001b[0m\u001b[0mpadding\u001b[0m\u001b[0;34m,\u001b[0m \u001b[0mexplicit_paddings\u001b[0m\u001b[0;34m=\u001b[0m\u001b[0mexplicit_paddings\u001b[0m\u001b[0;34m,\u001b[0m\u001b[0;34m\u001b[0m\u001b[0;34m\u001b[0m\u001b[0m\n",
            "\u001b[0;32m/usr/local/lib/python3.10/dist-packages/tensorflow/python/ops/gen_nn_ops.py\u001b[0m in \u001b[0;36mconv2d_eager_fallback\u001b[0;34m(input, filter, strides, padding, use_cudnn_on_gpu, explicit_paddings, data_format, dilations, name, ctx)\u001b[0m\n\u001b[1;32m   1198\u001b[0m   \u001b[0muse_cudnn_on_gpu\u001b[0m\u001b[0;34m,\u001b[0m \u001b[0;34m\"padding\"\u001b[0m\u001b[0;34m,\u001b[0m \u001b[0mpadding\u001b[0m\u001b[0;34m,\u001b[0m \u001b[0;34m\"explicit_paddings\"\u001b[0m\u001b[0;34m,\u001b[0m\u001b[0;34m\u001b[0m\u001b[0;34m\u001b[0m\u001b[0m\n\u001b[1;32m   1199\u001b[0m   explicit_paddings, \"data_format\", data_format, \"dilations\", dilations)\n\u001b[0;32m-> 1200\u001b[0;31m   _result = _execute.execute(b\"Conv2D\", 1, inputs=_inputs_flat, attrs=_attrs,\n\u001b[0m\u001b[1;32m   1201\u001b[0m                              ctx=ctx, name=name)\n\u001b[1;32m   1202\u001b[0m   \u001b[0;32mif\u001b[0m \u001b[0m_execute\u001b[0m\u001b[0;34m.\u001b[0m\u001b[0mmust_record_gradient\u001b[0m\u001b[0;34m(\u001b[0m\u001b[0;34m)\u001b[0m\u001b[0;34m:\u001b[0m\u001b[0;34m\u001b[0m\u001b[0;34m\u001b[0m\u001b[0m\n",
            "\u001b[0;32m/usr/local/lib/python3.10/dist-packages/tensorflow/python/eager/execute.py\u001b[0m in \u001b[0;36mquick_execute\u001b[0;34m(op_name, num_outputs, inputs, attrs, ctx, name)\u001b[0m\n\u001b[1;32m     50\u001b[0m   \u001b[0;32mtry\u001b[0m\u001b[0;34m:\u001b[0m\u001b[0;34m\u001b[0m\u001b[0;34m\u001b[0m\u001b[0m\n\u001b[1;32m     51\u001b[0m     \u001b[0mctx\u001b[0m\u001b[0;34m.\u001b[0m\u001b[0mensure_initialized\u001b[0m\u001b[0;34m(\u001b[0m\u001b[0;34m)\u001b[0m\u001b[0;34m\u001b[0m\u001b[0;34m\u001b[0m\u001b[0m\n\u001b[0;32m---> 52\u001b[0;31m     tensors = pywrap_tfe.TFE_Py_Execute(ctx._handle, device_name, op_name,\n\u001b[0m\u001b[1;32m     53\u001b[0m                                         inputs, attrs, num_outputs)\n\u001b[1;32m     54\u001b[0m   \u001b[0;32mexcept\u001b[0m \u001b[0mcore\u001b[0m\u001b[0;34m.\u001b[0m\u001b[0m_NotOkStatusException\u001b[0m \u001b[0;32mas\u001b[0m \u001b[0me\u001b[0m\u001b[0;34m:\u001b[0m\u001b[0;34m\u001b[0m\u001b[0;34m\u001b[0m\u001b[0m\n",
            "\u001b[0;31mKeyboardInterrupt\u001b[0m: "
          ]
        }
      ],
      "source": [
        "\n",
        "#@tf.function\n",
        "def train_step(target_audios):\n",
        "\n",
        "\n",
        "  for i in range(2):\n",
        "\n",
        "      # Get the shape of the target_audios tensor\n",
        "      shape = tf.shape(target_audios)\n",
        "\n",
        "\n",
        "      # Generate noise using tf.random.normal()\n",
        "      noise = tf.random.normal((shape))\n",
        "      generated_audio = generator(noise, training=True)\n",
        "      with tf.GradientTape() as disc_tape:\n",
        "\n",
        "          real_output = discriminator(target_audios, training=True)\n",
        "          fake_output = discriminator(generated_audio, training=True)\n",
        "          gp = gradient_penalty(target_audios, generated_audio, discriminator)\n",
        "          disc_loss = discriminator_loss(real_output, fake_output, gp)\n",
        "\n",
        "      gradients_of_discriminator = disc_tape.gradient(disc_loss, discriminator.trainable_variables)\n",
        "      discriminator_optimizer.apply_gradients(zip(gradients_of_discriminator, discriminator.trainable_variables))\n",
        "      #clip_discriminator_weights(discriminator)\n",
        "\n",
        "      if i ==0:\n",
        "          weights = discriminator.get_weights()\n",
        "\n",
        "\n",
        "  with tf.GradientTape() as gen_tape:\n",
        "    noise = tf.random.normal(shape=(target_audios.shape))\n",
        "    generated_audio = generator(noise, training=True)\n",
        "    fake_output = discriminator(generated_audio, training=True)\n",
        "    gen_loss = generator_loss(fake_output)\n",
        "\n",
        "  gradients_of_generator = gen_tape.gradient(gen_loss, generator.trainable_variables)\n",
        "  generator_optimizer.apply_gradients(zip(gradients_of_generator, generator.trainable_variables))\n",
        "\n",
        "  discriminator.set_weights(weights)\n",
        "\n",
        "\n",
        "  tf.print(\"disc_loss\",disc_loss,'gen_loss',gen_loss)\n",
        "\n",
        "\n",
        "def train(generator, discriminator\n",
        "          , epochs, batch_size):\n",
        "    for epoch in range(epochs):\n",
        "        for batch in range(len(y_train) // batch_size):\n",
        "            #images = x_train[batch * batch_size: (batch+1) * batch_size]\n",
        "            target_audios = y_train[batch * batch_size: (batch+1) * batch_size]\n",
        "\n",
        "            train_step(target_audios)\n",
        "\n",
        "        if (epoch + 1) % 5 == 0:\n",
        "            print(f\"Epoch {epoch+1}/{epochs}\")\n",
        "            test = generator.predict(noise)\n",
        "            audio_data = test.ravel()\n",
        "            # Play the audio within the Jupyter Notebook\n",
        "            Audio(data=audio_data, rate=sr/reduction)\n",
        "\n",
        "\n",
        "# Train the GAN\n",
        "EPOCHS = 2000000\n",
        "BATCH_SIZE = 10\n",
        "num_unrolling_steps = 20  # Set the desired number of unrolling steps\n",
        "train(generator, discriminator, EPOCHS, BATCH_SIZE)"
      ]
    },
    {
      "cell_type": "code",
      "execution_count": 18,
      "metadata": {
        "id": "mrmv1Zri-jjc",
        "colab": {
          "base_uri": "https://localhost:8080/",
          "height": 93
        },
        "outputId": "fccbacc4-d707-4923-e5c2-4f9dae1a57eb"
      },
      "outputs": [
        {
          "output_type": "stream",
          "name": "stdout",
          "text": [
            "1/1 [==============================] - 0s 83ms/step\n"
          ]
        },
        {
          "output_type": "execute_result",
          "data": {
            "text/plain": [
              "<IPython.lib.display.Audio object>"
            ],
            "text/html": [
              "\n",
              "                <audio  controls=\"controls\" >\n",
              "                    <source src=\"data:audio/wav;base64,UklGRkROAABXQVZFZm10IBAAAAABAAEAWw4AALYcAAACABAAZGF0YSBOAACDHxsa7TAHLOs2OS1nOPsRVi65Gzk35ThKQDZAlT66SMQkxkYcOjZFJ0FdPaMoO0M5LCczUUj3Q3U1fUntQQJI9EKHSUlFJ1fsVLpZDli+UD1V2UsqWaE5ClvySCdUD1LAVd0/fVg5QmFQ2VDBV+tDi1whVqhVg2FjWpI45l1TUTZRaFscVulSOFa7VZhTYFhXW2hbGVp2W+FWimB7YhRgHFocYNJPFVRkTZhRVz0lTXdM60yZUQhF01IiQEdQBD14Vh5Pz1R5VhZSYUU2VNlYZFkQU6dWFU6RUkVMH12yGldRk0alUWdULUqyTV5TYUryUelVFFxRS8hYKVHOVSFbgFliWBRbDluVTBpZP0qAVJdSqVKITilQtE/aUyxXQk+9UHJW6lTsVAJfqjcMWZZKGFXaRWNXXB5GUF5HCkOxWRE3nktAQ0FHhD9QUFtLNEhFTGtPilPiW3Fa0U80UbNPjFFBVNVSFlA5Sm1KBU4SSK5UQktiShtLbkahTbNQ+EaQSRNRG0/nUpZN9UhoT7tP+FA1WapVGFFlT41PfTv9TEZIJlTBT41MmkV0TscpXEpnSYxRs1ADS+FJfFOwUIRQTVv7WJNVi1XVW2M/fkwPT6xbLlxEUpZZIFE9TEpGG1q2Bt5eST9SWP9WbF/BShhkBFtXY6xseWKJZwllZmTpXANuyWdEZFZqMmFdTStTRFuyVx1gBlHyZ2hD8lswUrJockNqV5Zd0GT/X35eCGJIWJtenVbFVANSHVnnON1apE7uTlxbFj3gQZRP5FdzTYZeZl6PUeRUhFSaUNJSwlI5TjVBhEb0RG9Vt0mjT8NHOVO0Q/dGIk0uSYtP30tgU6tJ7E7cSmFRUUMnSNVIvUz7SuhIsE5nPswpQ0WRSZ1Td00MVKFLfE+0Rz1VrBZnRmE9wkFTQgdCCT+BQXNBAEONSXNN7kiXSopFyEe+TJdQy0gXTBBE9D/mP5A+SD3VO9021TnSN+0jQRksL9IBrSVBL848sD5aPMdB9ztYQ0lGMUSwS/lB+kwMPHpHai7jQtI2VEOjNUA1Yjb1LhM0Ii+gNZ0mQjdlPYA7sUPcRBFL0EvXSn1NSExvSChH1EURQidEXEBuPf867TF6MvI0pSyNOPM1/zMLNq08uSBDOz85gzxNQOE/C0FmRSpGgkYbSR1GSkQXQ6lDzEDrQHtDoT0VLZcvwSQhEU0tYC8PNlM7TzMyN6U7IjoyRcRBhEZWSJVK3Ug1SpBI41RoTJdNdEHNSU49iEGDMk82nCluOIA2xipwOyrhJDvjEClI3iKfQztEdkMDTA5GPkwCUmlJi0mqTGNLLFHiSYpL30ezSeJFMkZ5JdI91CKbPYs80zwWQrxA5EBzP25DBkiuRaBOykEkRsNEfUFqPqs/5DUbPIM4YDh6NRA7kDXxMjwxKjzjB+o2vi9bNrI3bTYvOTk6ASFrOn4lED1lQCIqIDhYOcw9aUPqOy5GDSJBPms6Lz8QRYBAAEXoROlByEW0Q91BQEMDQ+BIFkf4SWdDRELPQQg9/Dz2P7s93DpOOu4xzSwpNAIxtzWGLuw0+DpUPvY5WTiMO487vz14PxNB60CXOQ1BeizqPRA0iT+vJDsxmyOrNooPPToONho9vDV2PlYhH0ZJMPpIm0XNTNJKKUq2QFFCuzjKR5hFaTtwQ8U5Nz6uPFxJ+hxDRrJGhkVASnVHqEYMSr5KGk3YVPtODU15TLFJ4U1TUJdLnlCvTS5H5EbUPlI3xTwaPLc1XD+XP1lDhD4fQ84/1EG6SLRKHVHMTaNKelPbQStIPUlTUjhHwkDsQYM1bEBaNYBPSivpO+k04EmsBqhL8h39SnRPdE8RXNpZV1IKVPRMx1B9Wdxb50sQT49QgUquShxTbi5WSpJAGUWiSqNAOEPIRmtJzUciTu9Dsk2qRXVLo0OOUGlKWEbTQwJHDhTJOUg2LjL1PZU5UTzGP0VBvT4EQl5Id0FXR9dGmkWKRu9H9D/2R4RDLECOQP9Aj0L/P9xCpj81RzhHskMFQC9NFEI4TsRD3U+xIs5GV0WGRQdJLkNxSWhCsEN+SkQ+G01vQm1NlziCUjQ201qYUf1VElX0VJtJMVfqR/9YtF8ZWyBVhlYVVbhSe1e1RAFGklrBXFRZHlz6WTpf+WPmZuplKGkNbcNoiGrGaO5xMXH+cX5seXSaWmFid16mYyZcf1bRVwdZkk5kYTVW61qQWh9gkUIhV245CR5jWzJXemAZX39cz1weaste/mjHSUtejFFyXgNWGk1HZP5bW13sVXZaXj+/S1xJR1CgStdaV1DkUPJVPlMBVcZb/12SXSZeB1dvTxdaS1IDSsFEuEszNBNUW0hfSmY5NUQ4Rb1DXkkXJkVH0T8eQ4BJ5D92Qu1FvUULPrtEAkJsP6Y8wz79N2g/Dj9sOVY7AzVXOIEtjzXXMWI0iDQBM4Qt9jAPMV0wQTgvKsk1NzhRNaE7OTzYPr87/0ODMZxCQUIBRXNGy0XvQxhEsDyfPmA6lzhENlA+0CkIQNk+/z54RRdBd0RLR4BKPEhoTdxHEkp3RaVJ3kMkRM5A20O6P4Y40USwLYxEvTMPRx4SYDUpH8lFmTDhRzBN9UjhRtFLXjWQNfVPR0kLUzhZO1NHUfRYwUmMUllUSFXRT09Vrk8GV2hgVWGZWLhhF1xkXclau1V+U3tZ/lBpUjFYITBOSl5Gs0i3TUJMSFOoS3pRzUx+Tu5MAkuDSKNJc06BTFJNfEGATiU1VEWwRRRJiz64O/FFxw3jRdYhFEhGR0pISEA4SqlN7EtHUXZKR1NGTV5QrkedTFBEVkrUSCFG90FvQU1B6EZTRNxBhEhOSiNIkElYUJQ91VBETgdWq1emSI1OeEQxRnU9OknRME08VTuwQGk6kkAQREM1O0MHPeJEc0xOSbFIokXoRuFHdEomS5VHrUjyRzFGQkk0RxBBFUBuQ+47OkkDIxlCtD8DOxVGoElLSlxOVkRNTVEo+EycLOlPtDzcSnlLmEg2UWxGPU3VTkJFWVEvR+xIt0gRSm1A10x5TaxAkU8yP/JHjEJoTfQ29k2RRS5HXUWYOM5FWkwpRdpIJEkgSr9LvUeZRjRBx0heQ8FJj0jIQwpDgEjtS65MeUV5SIBAgENAQ+lFrju6RNw9OUSTPKRJgzA6P4xAmUqjKDxEskRbPeFGPkMHSm1OYUKoSQVHiEf7RiBS2zZKQ5NHLj4xPV9Fs0dpTHpKR0aISUpM80GXS31G4knsS7ROOkcwUVRGqUztTa1QmTozSaJHIEVHS4xKh0ncTydLlUofUalEXVHWTKBLG0MvS7M7tTnjSxgTWk5KOQdHKEwuSelM8kkBUBhNiFVOS7FZDkivV3VTn1P3V81TTE8oSnNJIUb2RrBMlkMkR45IjUV4Sy1Ll0beM7hLoUPVU2c+9UneQERKIEzMSAhKCkcORGBKs0bISalF/0jWQsNIikBvQ/9BUEYRRYVBTEf/QWNJ5URHRidLaEpaSo1T9kXpODlJfUoqSk9OKUc/LpdEYkbePKFBakPgQf9FLkRKTfMz2k30SLpNlVD+TslLyUYSSP9KWlEES9VMIkX/Q65B1FKfQtdENkoTQ5lFG0ZhUcQbQUQFQaMoqlGmSrJP6E1bS4NMFFrTS8BWSkIZT3c871IeLhNKGD3WR71M1EiCSyFL6UW9R1ZMlFFdT9lRGEidT9dDiE68SnFNnkNsQ/hAOUAIRAIowkJXMFJAq0BwRmEq1Tn7PrdETErzSkBHt0qGR+tDekZTR1RGg0WpREpDCTEpRQhEikszQJJCaUNJRZxFL0pYPWJB/UJ5RdlFXkHmQMI+DECcQTRGKzFUPys6LDu4OvZD/zPJPDFBtEJjOaQ66ES+ORQ7aTjvPSE7hTytPUUuO0GNITFBxCtPQIIcnzlVPNc+7kmhPYVIS0T/RV4/yUdMPJ5DBD9iQ6FHPEcdRCdBQkKmPnE/RERxRF9Dn0OgQltG7UTHSOZAzUMXQ2dGUUhSR8FA2kBtQCMzLzyLPqkziTxeOlA/UD99RgE8vkEwQA5DB0B4RY5CU0C4Qwc/VT23TR4zpkrIQfRHnkH0TJdIMUTnU4A0xj22SetRsyplUohKmEzIXKBJdFPxTAVV+j2tU75Qhlh3Wwdg3l1fYzhie2ILZRVhAVwLXLtW4VkwVUxSwVHdUDZLJFNvPkxFoTz3Qh1I5VOSPHpKWFRvNaJTg1D5VRxa+E3BUjZOlFEdUUtSKj+VSH9Gc1P0PuVMC03PMsFFp0giUtNV9EI9U31BlE+wWfxM8lDIUgJOzlEbTCZRzTR9S4ZFqEZdUslGPkjOR5xCsEMIUmVNyEOURoo+aT4vQDNLuCoYSJ834D9TOKI6Sx9MQsYUozRGP5o3GjnTNmU+ihIEPeM8kzmcQiU4bjvCPSo79TvfQzk8gT/OPWY5pTovOz08AzX7P/03LTyTPLs2zzi5NjI07jlkPVMuDDxbN4E2sDYOP00u6DmSPGo+hEGMOr88oTKzO843zjruP6QzdDohMUc2yDRLPKI31TqgOPs3vhqlNgYhJDKXNc03/jqvOg82TzqsMZc0WD0jOmU3/DEMPN0ZeDyJN/45BEACNwE4qjYzOPQmAzhqPVsswDdDMy83AjMTPEhA3S5QP/M5jzwsOk87sDPgPMU8rj5uPJU8WzgUOjE6HjgVQNI7YzzIO1I9/zMROg4xLzzsOdE4IDvANOY3Vj3nOvo4LzfpO1Qx3TiUOVsiiD+WMhQ93jN8O1Qf5UOkPtg+QUECQQI5rD7YQWk7LT7DPwA9pT1LPZs6QUWtRHVAPEIORCok60LUPv9BsEQyRkdBLUaySctE6UEpRqY+xTuNOg0zURsrO6wzG0AxPXU3ekAtMOxEUh/tRmo1I0KORCBFx0SpSvZHFESHQvlFOSOhQMc0FD6MPNk6+DsuQfAssjlkOt87NDviPUQ04T0QPnpAtDyYOkw2wDq9Oqs0uzzEOfc1PjUIOZ4ijSmINuQ3zTmUPPY8gzyjODw+qC1LP3c75z+tQnQ74z8jQcsw9z74P347qjxDQhpBH0S/QyRI6DqATSdCVk2CSXhE1UcTUGtKnEe4Te1Ha0QaQY1GlCl5Q+tBZkX/SixI5TqlSYBFCT+iUjlRTVWyVkBPlVT3S0JUeUlUV6FLLkeuSehJWlDTQdVQ4VZBK3FTUkp1VKBY0FicWJZfyV2DY2RlA15vZVtgKV/SXa5qRkUmXwxY3FMBVP1TDkldUkNJRVDvTVFMpEpJUXlNylOxUa9XxFCWXCRL6VSAShJLslDMRFJI3kX4SDJKBkLvPspDIS2dIpI60TnyIvQ51j9bPDJIvUeORElOzEK1R2VEzUezS5RHZ03RPSxM0UagRY1Elj1uOy4+rz9KP5tBiERpQzxIsUjbShdQbUplS/lQ209gSkBLVT9QPlc7qD+fMno8bjY+OFU7oTgqPNxB20RYQ8FR0kggUCxVTlNXWEBRXFnaVKlTSVCuS8RN+UgdT/U46lBgNBVNPi9VQFgPnUhFOqZRcFhpWZRcGVz6X+JeDWPtW5VjlV3rV71jhkzpXuldF2J2R5ddOka/WoNScVVqWMJiV17MZBZsIj2XcCdoPXZjb0d0bm7jaxdsQGucQpBmLV5CaUplbGX+ZalkgWLWZTNj+mBWYrhhaVw/Wl1kCFaCX9BjKlqRXjhYglcwYzZbDlsRYetjP1JtWVRMlUGOVPI0+VuyPaRa/TS7XtMeA1BNUbVZN2W3Yy1j92UEZ5lm0W2vciNr7GVxXyRdv1QFVd9bP0suT95IQE4cOIFUkSmCTapSrlmcUbJUdVSAUrVZnFhpYTo+OFBsTPZSTU1+UjFF1EubRo1LIEYKVMcw/UpaQ+BIykrCUC9DGVD3SIdHV0qpScJELUmBQUdJq0izRpNDmUuiLK5FS0HWRqRElkGHRc02BEOlPxhG7kYYR1BCuUvTOT5IEkZHTS9NEUt0TtNLn06wSPFJMUbGSG9BaUiXQoVLTkbJSG4/IEz2Ql5N11HKSBhRuE/KVU1ZFVZpWtlWwVU4UnpOFE/IUxBIfEsORZRPHRgGTQIGzj8mOm5OBFeBVyxW81N7XMpczV6DZuldlls3VFVYZD9BWCFOIVV+TdxHDjpzRZM5UjA6TJpMak1xVmhI8k4rVU5cFFzeXChWgFW0TkdN8UHdVXFUZFVnVB1QfEidTaJWrDpnV7ZWWVi8WOJM0VoURuZQvUyJWns9ClMqUQBO2lZfVylZuFWAW2FTXVh/VEpWGVI3UpVQkFQUSsBXPDVfSRxCSEqRODVGOkTVQtNSeDfHUWlNL0tLVGJSPE4pVhlWREsAV21PVle6UKtPgk97UFY3fkuVRP0/GUnXSBNPVFDGTh5SKU2DTStVEFkPWAxX5liPVe1aL13jVtFbHlQNUchKoktzO9VMKz06TH45BkIqIXRFtA8iQlVFFkN4UBxNn0nDTA5EwU9vS8BQgE84RCRKM0NHTFdKgkHHSYdF1D4GPGFEKhrcQUhG+EuXTldOx0lbTEpPo0w/TuNQU0gTRyZDf0DtNzM/Wj7NOplD+jIEOwIzi0DROMdDa0jmRa9DV0KcQrNIK0LuSoJDgUP9PWdEAib6OdM1GTr7Pz8x5j+uPRw6DEIaQYhIrkMqSHlCKksuRm5IwEwjTalMGExhR4Q+8kNFQ4JBlkGeRANGQ0UTQ0dHOSs1SOxDtkUwRIlMhTukRDVBwESRPt5C40XkN2BBJDm4S2ZJgER/TIFH5kf3RftFdhR2RGlC7U1vTKFKn0aPSkND5UYrSpBJ9kPjQLZBbi5kRmE46DzJQEBB0kFXQFo+KT2aRMQ+lUStP6JG1yUqQ54mFDYRRU5EtkblO2pA6jl5PPM6iD0kMT47ajy0QqQ8tkBHRnpFLUaGQ+1HxkVdQLpAhjt1N1Y+sjwsO3M7hT/wPa0+cEFdP3JCQj+FRs08tkPLQbU/BkE+Qb1DlUAZQac/XkWTSRJDYkgIQNtHYUBdRX1CxzTqN4xE5ERNRH1M5UJIRUs8CEtfIsFJ9UYDQ8pJp0KHSdpHtlgKPU9KpkPZSmtVSEdKTVlNlEzDSM1SQ0M+UP9NakoCR+pPwDBkOesuGUR4RrlO61BNTGxOhEhrUx1NulB1U9tDgExcTVFShlRYV4FRK04QS01MPkvzTNVICFNGUPxSq1BtUEI50kZwR3VNilEoTm9Moz6bQX9GoCIvS8stV0dnRVFE4k6CTRhNLE+zUR1Q007UUmhQN0olTURJLU+WSqhJkj/VSTYjlErdPudDgEX+Q1lDakd/Ou4zp0b+RBBKGEFISLBK4UYzU+5IClTRUDhHZUhZUFNGz04VS3lNuEVMTHdKRU9XUoFLkFH/TTBI1E0ERx9EmkQpRlo2ekyFQEpGNEwYSYZMSkfOSUY2GUO8RRk3D1bmL45GfkbPTfszHE+5TfZOnVFzTWxNxE5PR/tLZkuYT5NW+lZuWRtY41LnWCBWO1biTlRVYEE0S1dKp01QUcVQV08EUStP2UtcU3dNEVPNVIZY9FddVkhWBVAHORJRET/nU75QpUqvSsdFTztyLehHbDsFR9lURE2kViZQhFrSTZZdxFk/VyBYRlF4Uhtb9l39XdNfql++U/tUHlm2UL9YIF6YWA5fZFXdWNtXg1w/V0pd+1dLVcdMs1hVLG1QYVCSVXZWMFSzVdFQeU2EViRZVVjEWh1ZWVG2UxRXA1hZVyxOXFDOTBdDsUSmVWI33U3DTmJYh0mpUGdWtE89X1dapmEfYWpXY1nTVk9aSVr2U4lTrk6rTOhKKk6vPxQ7JUplUUA9WVH8TQNRL1i1VHlVS1u3WdBVCVBmXYNLiVBRUXZTtzXZTk5Hmj8pS6tCPUf4UCgttlCAUH9Yt1XmU/FYr1k8WYdYfVotXqJVvlIaTh9N407uTYtMXlX/SvhN20rDUQJPrlQsTPVXzk5ZT4JMBFXPLIxInET2RmZKg0AvPXk9WUDySBJD5UhgSEk5Cz6/QupEdk4NS/NKCEcrTP9JZkrlRFZCpTYwSqQzX0PjSNFCKznSNu9Kl/ugRWg51UIvTDxNF03gR31J1UKBTKI4/EhVKRVBzjuIRMNILzcpRPE8tjxCQyBFAkG5QKRE1EDaRlVKxkH+Q6hA50DNR3s/vkFQOj46WjXiRQ8G4j9vO09BvUVBR+NFPksSR0w/rUKZQJhAMznWO/EkizjVMME29S17No8eVDUxNAk3CUCMNXQ/+jseQyw/sERBPdBEgTycOT9BSkH/M044pzsAFTM3yCAYK3Yc8zIWNso+HkOWQoBHyUinSmJOv1AbUbJSkk6rTwNOHlAQTn9NLkYfRXVAGkJHQyc9QD7MO4M8wjj1QzkrOEEDQo5FdU5UT2xQd1APTi9NOFI3VOJN2VBOUI5JGkljTxstP0HiPcg+pEb/RrdALzJjR/ge41FnOWtPs1GRUytQH1YlUfJYtlFuVrhUok6LTv5N+0mmTANNcFeIUt9M20YrVA0guVLpSutYYFf/T7JMh1AvP+VE1VIDSJVREUuKSLlBiFj/HsZStk/uRFtPkEo3QxFGPk0qOBZTPk3iTDNEmEfZRQdLgkv8TPNG4EX3PiNNnDbvQn9A70gnOZVHXDMXR3A/Jj6UPzlD/To0Ruo9f0NfQbBLq0SWRKNIU0VtSgBInkUZSvVAMkICQJ9Dx0N9SJRE90G6QoRDrUBZQSFKXTbhSDZCNzv4RLdEo0wsTbFF7EVsR2M93ELgPqQhKToOPp00AUyZC91E2TspSQdH1kRrSUdJpjgtRMNPMj2oVrZIFk8ZQrFSbUweRm9SyjwXRk1D4VAXCeJHyDnzU9JXrFanVW9U41PFT1ZabmD9PIlOoEY4RP5QpEjuSDJLqkafQs1J7kj7QMZKAkk5TOJQoVVWUjtWz02NS49Ok1CKU8dLtU3CQUJG/UVuR8Qs4ifiODo1fUCsSzwnf0jLRv5I/UxeVC1RBk2BSGtLbD39U1xN3koDTphG1EbtRyBJCTUrSdhGW0MfU7M8A0qER+pUiTN6WflPa07LUQtJRzhDTeVJz0PzUoFCnUqZTaRMl1LUTK9Wik/qVSdTIlUDSi5WBUmyUcdQWU4nTDZMTUMyQI1D+0eaTQBD70rzQH5IUjmjT9QUqESaQa1DRUyxQJpAfDWFRcYuQU4lR/Y7bkgNOws5DkkPU54YrlFfQu5I9kO3SMEviU7RSDNEzFDVSZY8qUGrQqwlhU52SfFDekSxP7NAxkf2SGxE3kmgSLZGE0ozSdtFp0bcRz1E30u0QrpGXjosQCNAhTq1QrI9xzbEL7Y/7SaLOS8+7kIDSYxM6kcbTuNKvUv1SoRN6Ex2SThLh0eQR4FHjErLRY5MxUWpTJ5DnUZkRgtSIx+HSOVF4EQ0SB5ICTvvMBZGhTgDUTFC10l+RYhIOEthTFhT21MSQ3hLK0wdRnhPt02bTo9O4VMjTjNTFUo9RoxDTk1YRg1PJkmNSP9Ma1EhUyNQMlaETI5Qpk0hU6hEAFmYTLlNmFcsVulOWVTYVqhAz1iNUnRWHlhITxZRfFRlUApV4VGTVppKIVd/U/NTHF1IVjlcvFNpWGI+zVIxTnVUJlqOTmZXO0S9UqtOd1yrVPNSdVL3RwBXwTCUR35QZVA/SjdXGzonTKlSCFNPV7VTclprRV1JXUmLQqNGxk73VgNXLU92V6RJBVESVx5ZRljrWJpWl1RGUY9b1jyNXCRUTlJKSqRO+UQAV9tN9FCwShxSWD3zUUBHnUh0V3FUBFduVMBLaE6uTCZKPUv4S5RFeUAoSKU3bkHxQMJIm0QDRGdDDU2/MeZFPkYURnZGID8HQjE06z4AQdk9I0X/KMg8ZzTlOUpD+0E8TOBG4EUIPxhJkztATKZJCkqwTY5JZEwTSaZD1kfRRvtC30EWSQwfPD+rPPJHAk/eT6FMrEk+S9FHck78RjVQ2EQSPuQ++EmHGB5Egki5OYpLVD1PS1A9Dk0TNDlOsFADUDFT7Up7TfhHf09FRZRMoyo7ReoqBjoZOjE9DCjuO2xA/zr1Sk8/8UHKRaFRGTnRSU1J7UbySZ8+PUVxHfBBNDZ7OrU8HyCQKaE3hTdmQR1FUUg0RjFLrUgxTLdUJ1BVTMJMGUixQtdLr0ROQQJCoj9SOhw/WEDpMjxEPkWLTFdQBE5wTspGmUruTlBSPlWRTjJVyVPAUm1ZlFMLVOBMcVWKMdNWkSEtTidDW1PuN0lOpU1tRdpV8E3RV69XqlyJWIpcAmF2VwBjnEarWZRbi2FTYexecF7oXo5cbWXhS91aNEqmVstJjVQUOHFm+0m5aeNKBW6HYLVp32xNZFx1PnXybpV34nrgbqJ3yG9uZnFr/GOXYUFhMmBoVMhaRVYFWJBV22LFYVhm22oBYalrclrxZ/RdKmTcU9JYxEV1VO5TJ0/hWBhPDVI8RPFeQvSZU5Y1IFRkVfFV+l2YYMdZCFg1YQhX/F2+WTJPU1K/XJNKsFUoV8c1eFZKSSxPHU6CUa5TkFYOTsVZzFQbWo1QAmE4QqRV1lu5VPpVRVEUUjZPEUwvTMNPqFLbSktQ3E2UUs1IlFbxQGBVm1AOUo5PfVBcOWhQXUNUUJ5VL1LAUIlHClnORglbZVcRXeU+IE0RS5NRLT9tSO5L6Um9RGRMgyqnTFtD8VM/RodY+jQtVd5KpVU8ODtOmEZaSMxHADC0PnxJREjyQTpLBT85QVEug0n8E4pHYUGlQx5L3EUWS0FQF03vTcJRnU4eTOdJ1UfmSQtMo0x3Rd5GQiIuOmYujTUAOQU4tTV3OEc28DmtO1JBkjl2Pa9Dfz/wQZc41D3NOUE6RTqrNnA3jDTMM7owyDhwIn48tzIlN5MzDDPzFM8vpC02NUU9xT5BPQg5sTu4MxY/eTo/QO44G0CFNUs++T6sQv9H5T5JQfxC1UEgP4dBkjxUQgdChUSDOz9DbTVfPu0zTT8EJsk5kDdHOAk/0idjREI5kUbCSIxDi0sPQdFO/zWhTPRMZ1CpTdFC90baQ4Q9TUNOSXYpokI3Q1g4S0jzQ+dIskwGTpZJgE2mTTJEjUiBQx5KjkgeQiJEbklVN+5FqECHSG1D2UF2QnlGlTBwRtM7mUe/RT5FVUZNQoFHHkSXSXVI60TuR+5C/0OCRXRGKkaNPtVJlka9S1xOrU2VTr1S1EmITQxGSEcQQ/xJj0IGRjJJ5kXZR2xDY0MQQ0lCfkCoRFg70D3lRfBD3U6sRXtN8Ui7S7BKPkeMRdRFNjyLN783sDb3K40yOkCnO91FTkFvQTZFhE84InRNgUZGS05QhE7rTk1NOFJSTRBVTE7tTxpAA0ocRihKtU7aOgFOqkC5TTlMqEyXSyFK/EV2TRpI/UsBTDZKEEn8ScxErEcGSn9MbE3RTZZLWUlOSxxIDkstRS5KYT6+Qg1H6zDzOfpFbEXVOtU2NUByGA5EnBz5MphJUD0JUIlPBU3MTf9NKVRaVOdT9FOkVJdNlEyETdlDnEvnReRGaUbbRPo7pEbcPGhBm0NpTgohukU8QcZH21SaT0BIE06bQ2RA5kLPS1Uj5UDFPKQ+uEZGOn5GsyxJPps9/0SCSClBLUodNPpFb0X2SJVJ5U3mSJdDF09jSN1KcUW0Sk0mUEBqQZZBX0qVPfxHt0NKSclIgEaqSnREK01cP09R7S56SNxDfEo9QKdHSUF5Rx9EfkPvSrxOt0ChSNJDzD79UMQ/F1QZU/tRk1HlUGgtsU4MNv1PdEodTms4z0T/Qc1ISUr8IElN5U5jVNtVQl2gWaJdgFzgWxZaUF3PVQhWFVLlUfVW1FKXW75OFlXlRtNM7z9VV2NNCFdZWx9IUFw6UGRZjUyUS/1Ja08COchHVjcYT3BEXEcBTR1AtiaFTUpNXVdTWe9VC1REVS5cjlkfXFdhGVV2V4FQIU31VGtQvkIWMqFSYQ/uU/hPp1XtVpxdLF4pZRRlX17NZmZi7WOZYtNo9VVJaKJWi1PtUdJKuVBEQMNIV0qlTXtR51KRShNMOE3tUv1Y2mLxQXZWY1P9TONTp0o7U8FQK05BRzJWnD/sRL9MmzgmLZM7E01tIVlVY0lBUYxYL1ElUbhRKk7xVPxSzVDnVR9WoVO9UZJXPE3EVfxLekzxR4xNGkG2TNVEfE0XQhhQs0cVTTRQOlJEUMhNz1UAMaVEskBURCVFvUNqQ3dAJEIKP81GeEXuQLBFmkJERe5B5ExbOMRCZzuDPTMtHjT8OEkxXzk7NeE8/ihRNKg02CHvIN8zmTqRQsE7w0NlQCdD2kArR8Y6WUJWP6RBxD51RVdDMEX6QIw8nTszPYkxoTAVPFo1ZjwBPcZGIiLcQmQ+f0GTQ7FExUQ5QRBBNUMURb5E9UHPPOY9BDdaQsw7MjrJN5E/gyTwPbs5Bz92QKxDs0A3PUFDVUEZRHdDokdkGmpDKT5oRnFJX0FPP39EATraRPYvX00TJ6RBcz6vRN8tUETNQg9MolHFUZ1SVVZXUGNUNVbgXJVQXlqUTsZMnUpNQwFFw0uERKA8pkXsPBVCWD6USqQqD0tqRnpMi0r6RHg3OUudSxNLk01DRw5BdT+QQ900CTyrNSghtTwHItk4ByBVQrJBk0fHTLFLek2uSCRHlEmfUDhPblRNUElKg0RKRFZGUS+kQnUv5jugOOM0hDOoNlowzjq8PDc83j9JRFg/KD3YRCU+QT+TQF89bTXGNwAyMTVqOhk3EjIVOLgyfjELMkE33w65Mj8tPzBJMyspJCEQL2EqDS+cNwo2+zMPOK4uYjVHOlI/kDitNVs0wze1Mlsy3zSjG3UwdyvDLg4qQC/iGK0teCzVLG4rXzIJMJI8SB5EOzs94TwNOw88Hzz4N3c4tjiDOJE5czy4Nko5MDm2PDBBHELNRCxIs0bKQeM9ukPcPeFDgEXqPyBDIkAcQPM+kTxzKE093jthPIpDQTOoQUNDZ0koSVxMnE09TOFKZkxDSA9QuU9dTGs9fDzVO6wy5jktPTQz8Dq8P6o2xEgKBwo+nT62SHFX4UszSv5J/UokXeNSSlR2UZBN4EcGTLJaRyU6VqxIO0tRSk9RngpnRlk9BUuBUEVQzkPwSBRDPEX/St9RsVHWVCJNHksFUhFRGU+QUe1Mw0m/TaNJ80i5RAVDbErGSONHBEdZN6cWzTegNa0+MUPWO9tD7T9pQwBC1EeDRQ9C3kR6PnZHADZzTIw7y0bqPcRC6DlTNv48XzNOP287tT+1NQA9HjXRQmQ+u0gbO9hBfTLqRkUmPj42P+0/skL9Pjs/qj+cQEJBtkXwNZVDuT5JOF0+xz86QllEjT9VPnRB/D1yOsVBQTSmQQtCH0Q2Pu1L2zoJQiE8/EEzIitDajyDOLtAujgzPgU8+ERDIno/yjxYPApCujYiOF07GjxkOWdC3zktN9w4EjaCPDY7mj9VMzo7wjZlNQAwEjX3KWM2VzY+L6c7rhMRLv4pUSz/IQMv0DptJ1M0mzbVOitDJUDHO68+2znsQJA/gUNbOwZAFT1KPC1Awz7lPlQ8dz+zPBZCGyRoPRUnUzokPRBBbTwkPEE5Ozh9OYk8IDJaPGw6lz6TOpI7VjsvQbM/ez/OO6lA2T0fPn4/1DKcQRg6E0TTOsVCgxBDQk0ctz4JRxQe/Ea8PYFDDkR4RK9LY0J3SIpHlEksT/1MVlERUmFQHlT0WFtVOle2VtdYfk/3VepbIE+gVZlLGU06UZFZsz+lRp9S9T77TTI/6Vus/dlM+UFrUlNESE8XVEdVCFR3VXZdyF/9V/taLlLQUdFRc1L5MrBN5i4JPGNF/z7TSWNFlUhwTvVJ0VZTTJldKFJeVs9aw1pLYRlY+VuyVFlWBFJFSn9J10UyQjNEt0w8JidNHT0MSsJL8lIeUXBa/FbTVAtWiVvCR/dYkU8KUQFR9klJTedK2kp4RedG6T3kP0kodT4nJIIaMEI9M/NEUElMR1JL901DTjhIkFQGURhRmlWEQ95LKlLUTvVHYUwNQ74+i0IxR14smUyyP/dEOE2GVJkzUFBrUNNTM10oW+xZd1V8UCtPAVVdVHFN5FPcSwRKs1JqWqFRv07ZTmZMjVVCUyNQBFYhUflP0k7SUl5EK0+7RlpHzVGsCO1KWkR0R3lObUmDS/lUdzXVR7hJxVbhT5hZBlVtX9lPTVm1XCpiOVnRV3dYP1S2VoBSPVr3PFpPg0tUTchSw0fYTDpXRlRNTDtVSkfYSJNM50xCSoNU8VMsUElYTUZ1SPJHxEa6Pu4/WkFsLXJHjzokRtws/TOiOUZFekqFSxhMZ05DR2xLSkvuSxRVV1ODTIxNs0zhS+pMfUo9SZI5bEKsQDFGp0SjRRxD2kN0RPNBO0hIQ4tDhUFWS+k6PkOXQd1FPjr2Pro9cz4fQZU4fz0nQJ1AwD7jQJk30DPcOQk/byuJRKhA1zuCRFg2zjt0P3lC9kAnSKVIVEj0TxhIwk4KS5pK20svTQJCH0VvQ6FEmUfBTe095kpdSMBGnUZ6Sd1GfkpbRYdJXzlSR8JA50ETPkM8MzihPUI9qy2XJ7M20ThzQt0+cEHXN2dGLUKAO1RGuT8YRSs+wkEHQYdM/yPkRF8+uT12RJpFFkgnRmRJKUWcS1dOgkreSj5HRkdGSupMdUhxTbVHSkHARVE9bjmaOFI+6AQNO5k4CjiKQYM8zj6VRg5KzkQUTkhJHkWKQy49nD8vQ55HYkWOQ7REIj4TQ7NAvD7BR+E9MkcsL8xRHAGDSbFDIEphU5tOg0d9Sb1ODka4TlFPOUtlMs9NLzt3VPhSMU+WUldHyU48TZFLmE7sTRlFIEkwTSIyUlKfRwpS0Uy+TQtJilN9QDtJVUwBS3pQwEOuTn41AUpPRM1QvUYXRGJIf0o7P8FR10cLU25G/UmcRexLOT6XTqE1PUnfS45JfE03PNtIyURESEdMNkT2S5Y7QEpOR3dHdkwYTptOdU7DSCxLiUrTRt9EvU7pLzdKQUYJShtKbE+FSClUTVPpUWdUYlK5ULJTgkuwUVdOPVDqSIBVOxiITG9DJU5bThJLXUH0SmxLY0MiTnlTU065T+dKwk/ERA9Q70jnUaVQ70K4R5JEM0G0OsRKUU7hP/lLk0rnTAJLMVjtSvdUYU0eUK8hAlUyPolS31KsSRRD2lISTbpL+1JDUZ5VMlz/VjdUVl/iWFlb5F0NVZdYsVOLUR1RyFIWSd1O20bnSjxEsEcgQ/A9TlMmQYNG+j/gR9AuOEd4SKYbFU1MP2pGjUKfSykZn0u7RSFEwE8XTTBEeUxLSgFBF1I5TCBIO0z5PMg/pUVrSJ9HE0dUQUpFPj1UQ8A9u0fvRvZHiUv0SGRFQUMVRuBB7klLQUpD4TcDQGk2yEG+RV8zHkFCQNQwqj2WPm4xVz6KPJE/d0miQG1CsUtnOyVKZ0TAT3NDj0vrSMdLdkx8RPZKOErrROxDekh5NHlBjUG+QctEv0npSqBKkkd0T4k8FE4vRztPKE9/SFtSGUugRtdElE+pKrk/l0DYPSw6QDdbQP4AzkC0FLUzVUOgPWlNrkVNR31L2VGyUAFMg1XCSShK3ERVSyFFDEMURNM0OjnfMBMyxiv8N2Ef/zubOjkz7UAXPxE750F8RYBAJEFHPyIzyS8BN4g0JjS0NNAwqTF5KWovfRHUKT0woy44OLI20TiXPW462DnIOik5JDbNN4405y30M5Iz3i6mMIQwRSPbLXwpiC46LyAwWi8cMo4zgTCwMp4z/TKRNLoxGDDYLIAvRiwjLoUpWymMKHMl9TKiEZQt1CtuMI0x/i3hNwAmuTZRMdA38i22NR8l1TfQMr05STuoOD081jCSKYU5nDRMPpE+sEZRJmY+BT8FPKBDK0F6P4lIUEU/Q1VD4kWyMmZGFD3yRtxAi0LqPU9DXEFKQ8g/vj4IOvU5wkHpNE07wz4aRW1DKkIiQOEnYDtvPJJAfTibS6k/qUKANqlHnPlURx49ykEARztB2kFXSFlBzjo2TNhIbkkgSAVD8jmBTP1JxU5iTtRC20JBRRdHSUS4SPk+eEJsQBNIkyKHQ+M+eD63R19O4jYIRKhD3kS5SNBFn0uYRHlL0kMFTchHnkraR2pJPEYYRPxIlUQ+TVVC8EqIRdFKR0pKSQZVRECPVwZN5FCNUJ9QLEKsShJLTUTXTBdI2UfDPzJEhTsFSq9NZ0DGUtY+jU3ES/BK8UdxTSVOv0oPUAM6DlECRBxLmFBpTdBN+FBWP7Y6YVAKNTRRKEhUUZND5E4vT+JQYFqQUVZUdlOeTjBRilEiTtBRBlT7SrxU8EZOSttEgEohSdRLfEeITFZDDkctPl5McizbSm0/+UonRfpLMiORTIgxg0faR0xJJ0a4Ru1FQkkzRVdL/EYcTJY5U0sIJUNEtUSgRgVInjy+RYw99kKcRxwsp0gyRo5NWEWfRfRERU7BNWZSqjehUS1IbUjuTY5EmkYFUWtPj059WLZFtU5SR9pZcEMPUvhPxVCRPttMBU45VDZXzFMQWSVS01QxUsxXuVRkXRddZV/zVqRfjla8XR5RDVnFUyhWQlVRS2pWTjMvVN82vVVSLkVMj0UlUF9I0VIpUN5U50q+WBdBqVKYWuRZU2IUWV1ekVqGXP1NFFiEUjpRplmtSg1OSE9DSaEvqEsvTRZFvVdQTrFXz1ebUvFNMVjMQy9NbUr6RNhPK1AXSflIg0x/QYdJJkeoQVdC30GzO5hKbEg5N51GhEG/QJxOnTeKQWBIzUb4RA1FhFEsC4pDjz96SHVQqUaKRWtGWT+kP2hKLko9Rl1B8UNIQB9FDEmkQCxHpj9xRdVD7EjfPU4/XUCEPw5EyDa5Pp4znjx4KghHYwsvOZ0v2DkkLE4ynDiQNT9EojODQkdMSzkNRlhE2ktCTDhO+EihS4BI7kntQQpSJyRmSXhGk0rxT1ZOak1wT/NMXFGiUClX6VaDUjRV2VU5XNFap1U1XG5V+VNpT91VW0VpULFKS08KT7ZQ20/5SRZMy0H5THxFlERNPClG703CNvdNVE4iMYpSrFLDT1dcOE9wTjtW02J8O5Rbn1h9Tt1cHVTMT+piB1bjVHRenmJ/NgZailbxVRRou2Klabpxn23xaSRuvmrMY6JlNmXOX/hgd18FW1RgDFJyXflerEu2VvBYZix6Xc5LuGWVX1leTmK4WwVgW2H3XQpawV/mYKdZHF5Paaow72BMXD5QjWePTgZmWGbMYMJlqG/vW9xgn2jnZkpt3mbRbuNgJmJLXlJkxV0PUvdeUTSuW99ceGBPbZ5bR2NsYgFayFaeY71feVoRbAJXfllqV4hbFko7XXFfH1OvWDNT3FOlYLxEDlv2Xl1frWHvYy1l3mOLZsdrVmIFZgBjHVrKYOFeU2MoX+ZiWFkJYGZStFr1U5hXWlxPV3ljdFhgaPRZ5mMrYNhkdV8YWOZaoFcWQWVZoUYRTzxMfk7hTjBV5FQgVzpfQFHxV/c/Ok4KP+9duFufYu1e3l52XmdZB1x4WT1RTFMYT/c6uhxPQBM/2FHETJtWgzoNT89MOUwBXDlRX1gVVERY2UUaX0RYqVqRXohQfk9QTaRG90adRz1LdE08Q11KekOxOVxBgVQUBPpMXUrLTAZT5lD7TyNUsE3ESj5TFFBAR9dPC0rwSPZQ306fS3VOm0Z4Q7NFYEZ5S09E/UuFN8xPvFLzU6dUKFoOUPJbKlVeWnRIslDJSDlD1lPfMtBQsT0PVTNGI0x6UJlUcjR/T7NON1wnYKRfwVcXVBZQhFNeXD1ZNVR7VRVMFE4nUbxSOCwhNvBE5U1eT0FexkrNXDVY1VvBaXVWI2LpVmFeWFR7aUFvClydZENhojn6XE1cuFXNWuhWP1t9ZrdlhmIOWqhj7kT6ZpVlNVhlZTFXFlicVcthoCH9WAFQvljFVuRQiVF5VfVRGU1GXapXlktlUdpROju8Ux9WIFa1WtFNsVN/S+xO3UqwU4tLfViJURNWOkyYUZpG2lBNVGRI+lUPNQRIB0KnUlNA/VNNV+9SnVRLToNTLFBTVDtWnE6JVNBC4lcTRf1VPEfeVLFL/U20UuFD0zhPTBFHMUQZVc862VJYTfFOcFetVOxPhVMMVAtRrFGqVs1JMFHQTtNMb1R7S1VRhE0ESxFKYlGkTRVHA1D8RClHBUQoU00VylFgN1JGB0srSwlGpkjrSxg/G1HTRLRJpUSWS2McGk2EOhVI603dUFhDn06WSUJR3k+cVchJyVOmT7dN9VcDUZpWClGNV2hF4FLEP9BEKUbqR05CmkllTQ5DNk9TRT5LL1UCOWJNPkYxSb1Jd0rzSCA9vUQNLiI/dTPOORA1Hj4qR2wsm0bJRINBd09zTKxOy1OYTlNLOVTeVwlHVFbWTj1FCU1BSWY2EVHBLHZIPkxeTANQo1GcU9VTXVsuWg9agV1UWxpZEVliVt1OIlVuU/tQ2ky3TXdDwkVhRzsyvCzFRoQ6iEi/RqhAZT9cQj1KA0u4UQtLeUTYRsRMbTuIRzJShSoeRihDYkooL7hH+T+gSaRCt0HhLF5JVUSvRBpKK1DHRFdcnFPsTLFalE1QTxlNAFEjPP9VPVLnUctSH00tSzhT3UhsTMpUWE3JSNRFw0J5QYZESkVkPwFIvEPhQrs7MEQ9LRVB6TvxRtUxLEJOPU4/BEU1P0w9FEIvOs06+TbgN0klLDjqHcExNjXhHzk4FyrYNIUzGTf4Omg9tz9kPMw/qEDVQA46Yz4rPKc/gDuYN51CvyKAOYAwhinNNjkxAj4nGx5AyivkRNdInURcRi1H6EQuRppGzkXERgNHH0KqQrBBNkBbQHNB8D7iP7A4MDmIOQA5+ztyODtCoDm8PwQ6j0BBKEw/Zj8EOUJD6DIMQ78+mT5TPblABTqaPHg4az9sMqpBPDOJPe88EDG0Q5suqjl9PYlA20aNTd1F50t5RpNOzUnqVatEK00WT5JHSlIFNJtKpDHCP3pFajczPQ5Awzx4QApLGkZNP31TXU/4Vb1a+VL4UxxU9U7wU35YK03NTFRGBz94RI9Koj2QQahL4h3cS8Yp5kxyRZZHvkrGTZJPOUnCScZHck6YTAxSCUXlTUM080WROQA+n0rjQXhDEj7HQxUqAEH9QsNDIUOPR19E+j8tRec6DSn7P5E+XyqrPd07Rz/dQkNB5T5PQbJBZz8XPmI/j0S0Q+1M/0dyRihG8kFfQZg6zEPrOZ47GjujP341AjwWOXI9gj9YSCxExT/6QIRB2j8sPu5Edx4wP248gEG1P7Q8vjtTNtU2Cj7eMhJBWDz4QdY/REEORN5Gvju5RpdBmUW+TJZHQUxoPfJDIUCER1dBJj0MN9s4FjthPxNUARVhReFA6UpvT2FJo1G5SZ9M9kuoV/M4E1HCQ85HQ0MlRmVCIUXsNxFAtzedKXBCbzJzRaRKkVeEWllaXVzSVYleBF36ZNVcMF4rVhJYw1WpWiRUmUvGUQRFtU6pRLdQbzPmUa1PWlatWpRYzVbYWjRg0lqOXapVoln+U+BZjFZ+XI9Sq05HUMVB+kWeRbdT9UXoS0BK7kItNllNCkfoWedYOVN1TkVfHjjJWn5cRGM/SN5XwlLnVSRlG1BAZadjUVTHX8RBX1xnTbhVUF4jYU9fHluqZOg4ql+HYRFtmmwCY+9f1WA1YlRcS2rPXmRgxVnTWrRYG14aVs5TpFpSUoVRq1PXSzxMfFASXOpTqlAIUxFTBFiKUYNjjEglWvNSDl6SK9RauU/aV5pX/VYgXjxZZWAFVqZQVV1bXV1hs1w1WOJdql9KWnRjc2KgXk5Zw11FSS1cMF2CWhNir2I7W7ZfNVxXVlZCs1qfU9tWCFzuTFxZCVR5UAtNk10XPJ5S2VYJNAVX70uwXTteIF/VV0pcBVPtUmRVu1pXUelaLFpmT7Jhz0h7V7FJM1tuOQ1czllYV2tdG1lHYS1g/l3MX/hZf1hAVbFgiy2TUmFOd1ASWBxPxlQFROxNVUrSVMVZXlM3WYZXolMzWhtbyFqBUZRZtk1oS2o770nTI8pCBUI2L7VIODlCSXRDLkBFUYA6r0wRS7tLqEnsRzpX60I/VlBMbFVfVJ5I+EZrTtsz20c8S+1FoEboRAxDGi8DQoZDuUrWSrRE9E3UQa9GcE4QTqZSQ04kVENQyU3UUtRPPU2vR8VPEDAjS5IZQ0XYH0lALDpzQB09FjwORGRF/1F+TmBW/1BhVbhX61lzV9dY/FTxUaVPsku7QlJBpzxrOP1B7C9sNaBBfT5NOqA+W1DCGo5O90gSUeFXB1ZkV2JXv1ZQU1ZX5lYwUqFR7UoaS3NJxUzyNF02ZSNDOJw7s0nVTZ1RcFQ1VkBbF17BWoVj2V0VYHNjvWIUXSVdg1z1WDtc61GRTilIwk18UxJPeVC8Vn1PuVXjT1REA1V+U3lFC060VeMcQViUQf1RGlpzV+hRHlrFVOdEAVtFYPFHMl3KVsQ8il6ZWDtYZFcXUrxQS1j/U7lYbzBNWhY/f2YQWUZYE118XAdZA1bvYbBRzFDkUwdYPEUTU3tU+VXDWDZTX1oJSmxR3Ew2TlldfjjhWpFVKlRjVRxPM1TfSXtbDUJWVRRRu0+jQ8FWkiREV0lUnVR8VuRSlj8oR3JRRlFSVgRUE1IBTelY7FFlWlBUpln0UPFSZUcNTLlLE0xGTBpH20pZPWBMlDwOP7pGTkOHRAhAJEbxFww3zToVMj1ELDySPYc9Ij9hPBVE/TqkPos19y0WOtVBDidUPkE8wUP2OIA68jbaOZI8bzi6ROIm0j7XPtI/0T/JQX5BP0NVQwY9LkOZPno7kTkZOOM2izzsN6k5fjijOA43zTg2M6k3VjjwO3w7ozmlN1o1WToGNeI8eS6/OSk2wzaTPLUoaT3YMz84QTzIP5Ma5Tz5PHk2SEroR7hAjkxcSkA8YkjXSU9FQ03cOK5FdysBSRw0I0q2QME7okajQ9Y9/kaGTDU/pExKS79LHlM5UMtQ/E75U95Lh1XvRzVKuTG0OiQ4fjQIKuYlbDihM5Y/BjHURd02SEDbQntLdkhWUadDAEYFTsBN7FXxUexQrETASohGIElVTBdKBUZqRvNI0zeASxBD5EQySAJJ0U6YTY5JuUjbTbZNnlLJUzlPdkxUUNZKYErNSLJJ6kfwRoVDUEXmS81INUUrRvpMWjrvSyxFMkZbRwpRzEf6TvROxkWRTjBNskbGTcRLikVxTn5FB034RYhMdkiUVwU881GdTvlUWFSDVfdM/1jhMYlaW0n7VcRV/ljPU/FSV1xKRA1LGU7AUC9WzFUsTdVTtFSYTRFehksnU+1MXU+dRdZHhU4tR6hOB0U7UnRBAFAzTGNPek/HV5RXA1ShVHFSBFJ0SzVbhT9RVFBEEUbBN/E/8BnGO7o06T0vSUZHyEUGRPpIqkiwUPRQaE2YUORLn0izTVtHtUHmRYNBET9SPaZC3jHpQ+Y0Z0IRMVhAUze1PK5P5RWKSWxH60o5T9dMX1AbUCpPLlG/Ul9WoVEYVrlYmFVuVNJTVkQJTWxM5UhuRGRFa0OpQiI+SlJBFdxOoEK7UZ1H4U72QntP6DxXUldHzU+4R3FAYEJqRPNAAUDnSiM0iz69MuxFlvQnOM48R0DsTAhGHUS+Q1xBYEAcS79JW1C7RIZA+jtwSUJJbEHLRhg/GjoXPtk/LTp5QaM9L0AQRklDFUGuQ/hDNzthR1hAa0BpPiw1OzdVOkAx7Dh6N6c4sjYGPhc8ykIqPR0+NT8QRzxAgD0fQfY2eTffMjI9gvg3LnIi9C2/MwgtWi9ZMGMynzeMNfNEBisXP386jEHgSTpGH0KGPxk8/UHjPWY8oTu0N+04vT6dKu4Yxj2PNYJEBUFOUwA1lU6sQ0RKx0ovSjxJjkSCS8g7304cTNhQFE5YSCdHCUljSUpI/kqlTtJKgE8XTmhNHkpjSt9LlVO0SMlNpUt4RD5ANEi1NxM5azyXQNc/X0OURQtFb0lqP+9GTUF3TrkxtTdaP89CM0O1SqhGC1DKQH9LakO0TQlBw0pxSUtG9koXUeo3+Uu8R7JDEEm3SCxDUEY0RaxHAT4XQahC7jEtSJtBrkkXT4JRs0frR7NHC0b4RJxIgkQRR/9JNEg5ToZJP0y/Ql5HZEJkS6BFZkUrMPRCNT4SQlBBQjnMQU9DLkWCO0hPHi40QLE8kU60CcpGPz8QSNxIq0MrSaRHzkOIQzlD1T3wRxU9SUDPOJlCWEFvP8BBmzuVPUpBqUnnS3JLykkHSe1OxFVQUshPZ1M2PCxPN0vYS+NDaEbVQ/ZDWUDTQoU3RUadPLNSwS1zVb9S4lXxV4lTvFfIVuxbiVKiUgNTOk8KT2BN1kzmQbBNZkMCSfBE6UX3GUBHVUJ9T4xSjFKKTsJSOU/KT7pV5FOWTDhSCUo+QTtPa0D3PnlCVkPvKUFAUkBFNcZAcz0TSHBTzVIfSlZVCVIZSblPFVyiNDNY6k1ZTN1R808CRwpGe026O9BLhUdrTiYjIUGAQgJDvFSFQtFQMUnLRsFCq06TPc5IIUbTR4dNg0bNSaxHmEdkTHFMQlD5SatIBTzmQHlKzjcjTTEcJz3COmlMBTGLSQtIw0hfTM1HsVAkQ8xJJUcNS4xOYVA3S5lLzUq/SH9L5EpDSJlIuEKHR1lFJUpXSBZL6kBFQWpEkkpoSmZLh0g2RlhQjkTGSa80T1DlJZBQ3lKHSmNZvk6hVEBSDVIMUOFPSktOS7BIo0v6SmNU104JUoZR8EioSuJR80ujVBZTrk86T/pQ9k7ETudYhUfpUhdLbE0TKeZPQyEaSOU1jEXuHOpBu0KoOWFPw0SpUBVUM1K+THdVFVYLWYdWtVMnTA1UZEntTkA/U0gDRJlKcEl9SHs0z0XPQrZKPFFoRChSsEYwRk5JVkoyPUtDiULxPp1DUECDQP1AFTuaPy5CkEZ0P0xHcyepQLNCWksDQjBDNjucON44BEOLC+hAwjOYPdo2cUVuBZNC7D38Py9O6EuHRldHHEiiPO5Mp00nR1xHkz5jPyNCxEJHPhpAcy/kOrEsW0AdOlE/Aj40QcNDhkLmQnlAJz6+P+hA8UAkQoc3xUA5OTVAsTXDPkIkhzhlGQ4/8CQaQd89ST+uPMpAEz0mQ+tHY0P6R/REKUnBRuJLOUgcTaZKsUkoSHhJBELcSB1FW0gjSTxJ/0nySfxHSkjcTbZG3U/pPSFKazUcT403LkoUQ4tH1EVtRsVHTENARiRDMka0K8dQjQ/WQ0Y/y0V3Q75HzUZDQQZOw0emRWZK3EhRO3pKC0oiVNVSPVI/TqxL/1YrOB5SEUkkTXBNXlJEQGNViFkQVSVftFjcXBleJVk1VeNWyFlKUhxaD0rmVYtOj1IDT49PPFGvUWlPjE4XTdxSlk2tVU9GBVAFPnRKvUTpTgI+1j59PTNE20HgOUFKKUinQPJGRUk9OvtK/0onOFFNEz2YTVtCLUP1RFZH70mqSvA/3UUNPG9ADUpQRT1IaUogRwZL5ksrUR1IfEreQy9EAUsYS0s4ZkSyPO0+B0R8PK82E0CDOT87lTh2QzcmBzzEN75BNT+dRPJBOELHRqBE70gHQrRHhDhCRRxBRT2wP1Q6gTVZMwBCDBicO3wxCz2XJtM/fzNgRVlFaEQTSplGmUVwSa1En0dXRRNHgUHVSUQ31T0qO9xF1T7hPJxHTjF6Jms/b0ebOXFMtksNTnhO81CDUI1NnU3fSbo/zEXvSZcwEEnBRBtIAE38TVFEY075Si5LkFbFVzJQa1gYUlxQZlSsTtVT30/oQm9B7Ud6Q1tDjk6yI3VGIUUKSt1HrFCyQi1Nd1JiUNxgwFMeXC9YdVSIWK5ZI09mUZNQL0mnUAxXujy8TwlL7VB7VyVa/1GrWMdPZk6cVHRUzFDkUipQ9E5XT8VREVD7SZRMY1A+Tw5RO0xYVcBFQlZZPfdVNEqFTeVIe0pWMwRPrz2UR0Q1iziuJKc/ukSZOo9SElKKUxZU4FLSWFpgf1rHWsJUc1X7WZJYvEtkT7ZGQEjfPwxSrfYBRNUyHEWiSmdMJE2TTJJIbEzYVh9UTU/LUSBNqEw0UXdUYUp0TZdDDEILQis3aUTDNVA3U0IUQERMvz/SR7w7qEQvScRMa0I2TbsuAkeKQ5xJaz4XRrFAH0WvRqdGikBHSxAs+kIrI8JKPSCvRiU9C0bzRmZEBUovSEpCKFAcRSJLWkkQUKZOf06BTtxSSjn+Sr1Ez0BwSE5BIkbKR7xHOjpxQSJHeC3YSs88kkNGTUtK40t9T/FJL0s6TUJNy0vTSqJI5keXRuJJYD2pOlE7lz2tQj8+nkAYRABCU0RUO2tMzQ5cRao0G0hlTj5PIlJiTSZNEUihReFH5UQQQEk87kVMJ6BFEUGBSPJD6kTGOwREf0VZQQ5GhEvNS9lL/0XvRj9IxjvVTURFtTxCQJQ7Yi6/NJ882wyEP3Y4EDycPzpAkUF4SF9LQ0prSuxKxkd0ShRCRUDsQuA+lT02O0IoPjfdLZEqCy8gPOgUszqONY5C3SvmQdRC0EKrRFhEGUYoRI1CGkkLRElC5kM+QfE5GT/WOIBCzD23O180uDZCOEUzDz5FOz0/8jzGQCI+gkkzQdtMOUjiStpK8kgvRyhCa0ZnSxNO00wRSxRBqEKZQ6lAuzFOTHIoDEJ4O7RL7h+tS9hBfk2wU5pOp1J/VS5TLVNlWBdVV1gaWSFPkEYjR8xTckGxT0tAB0kdNr5O8zzDRedW3kW8XshbkWTNT1ViTVdXXB9mr1PXXBVcX1rgWzVcP1nsV1dT+VaiVsZbx18CX4Bf3VdDXjZXLF3MVNtbG1QGWrFQ9Vq6SqhVLEPUXPYlc1IjRElTgUDoT5VTElXYTMBR5lH6Tv9clkCHVSFPa0+xVndA9k67MZVNT0j2UelUJkyuVTZSQE8CVl9fvEa+WudGKlbHV4ZamFOEUP5MoUU2STxL2DFQSB9CPkOtSi9Oij1LTPdBzEfaS1tLakWuQN5CkT2JQrU5uUEFNXw3nTKkQLUaVjZ+NnwtBDs/Oco+dEPBOlo/TD7kQMtAtjvqPH89dDglO2VCQTHUOho7kTIGOMg3kDh2NhM83T2cQa5AbkDBQN5BFUB2SA498EJvP5897jpQPZwupzfQNkMwxjdEMCU1+jOMMBUrcjfIGhA2IDiNJ2k5BzkYO4s+CTwBPeQ53judOmMzXDvINiRBPjmGOoI8oDGtKo81XB4MN3owdjz1JRY4ODhgPlM8Jz4CPRI/Ez/YPVhBE0HSQKhEFkBZOXc4eDqGMFg34TMdMvc1yzQFMsg5dhZ3OIc52T2VPXc7SDi6Ozo1FTlRP/g/eT3wORo5mCl3OXI0jjz9O0cxkzGgNdwUASWMMp8zkTlbNlo12yXhNYUwKiwfP507zDvPO1A2ljihPIVCDCudPxUvcTYbO7QzVTZpOuU1FDysNg08gDfsM9g2WDmCQ1M8Gj4ePd06pDyxPkM730BAOs44HDjaPmg2cjl+OEg42TrKOXY8fDhPNuU7/jlgO/A47z0ZOCo3vUTGIOFBxDsJSM0pNUKRQOtFZ0lAQfxIBkeOQHg+y0EKOIVHokgfRadGRkiITVlIsEcMTb9MX007S59UaDHuTP1KW1EkS5xQ8kloTLI7XEuaIXlMdC+ESckseTydSAY5P1WtN4lMYVEVTFVWO07kVHZYaFy3WvZhrV8pWiBYY1/hUgNk7FlEVuBTnUzWWM9QSVCHULtXRFTJV8Ve1yyRWRZSBFetX5FdW1aIWMBXhFM7YOhaTlwWXaNSDlldWrVSV1GBX5c2tk1LTF07zDYxSrxKOEoGVAJLBlGKTZFM1C93VidSylcPXNNWXlOcWWhWL1maV25X2lGBUjpPHFb2PVNTiE9VWY5T3lPJTztJVUkXS5tAnEN0UBxQdFDiTfpYvy8DXI1X51YbWhRWd03pUTpOWUkBTutSRUr9TWZEDkIYR4RE/UeaT39Bh06OTcZL1EqBUHtNWU7NU/NO6UxBTOVM5DwvRc5GVkaZQW9KGy0CLDc48UHNOntOQkaOU1gwikyzUOxUT1pUVShQkFNfWnBWZFR+XQlET1G4RTRVIjVFTtQ461GQJ7dPC1A4Tq1PAk2oU/hcO2G5WGVc81orWy9g6GTwXmJf5FvCVs1eJ1vSWJJeElcaWFRWRl9fTM1Z6TxmV6pPS1qRWcNITFeBVYVizmPrbUZmtmP7Y3ZsemjDcJhpdmffXZVfbVgBZ75a7Go7Ul1XhFdrXfY010QBW79br204cnxjH3QkYF5oNW7/f9lfaG6XaJhhpG1BaXF8wUmXZqpj7GNlZ9dsPGViZvZpXWnzbz9pc231X05nRGUob/Jp0GVsWgFhn1LCYltf6FVaWLBXyk6BU6NeIlW6W+tURFnCN8NZJk2dTgRdn0fmVhJSrk+NRvdRpEZFUk9RNVJFTVFS7FMlSyFcgVRnV51UX1bTL4lJ8Ec5TKFSEVA3S6tSPEnSTJxORlNUTNtQ+Eb2R91Pj0JhT5lB6EhoTV9LoUiQRepI1kJXP3ZGIj+URXNAHkPJK2ZB3inYQqE31T80QDo/xT8RPtdAIURvP2BGkjdpPeM1nUCFMfU9BDQhHgwpEiXR+Ggo8QhRJYIoKip6J6ErgDC9I/c18DLKON012i+SK3oymTE0LnwvOSRwIVQajyLlEtcb+BKbGhcZQBlgFn31LBBTCA==\" type=\"audio/wav\" />\n",
              "                    Your browser does not support the audio element.\n",
              "                </audio>\n",
              "              "
            ]
          },
          "metadata": {},
          "execution_count": 18
        }
      ],
      "source": [
        "test = generator.predict(noise)\n",
        "audio_data = test.ravel()\n",
        "# Play the audio within the Jupyter Notebook\n",
        "Audio(data=audio_data, rate=sr/reduction)"
      ]
    }
  ],
  "metadata": {
    "colab": {
      "name": "Overview of Colaboratory Features",
      "provenance": [],
      "include_colab_link": true
    },
    "kernelspec": {
      "display_name": "Python 3 (ipykernel)",
      "language": "python",
      "name": "python3"
    },
    "language_info": {
      "codemirror_mode": {
        "name": "ipython",
        "version": 3
      },
      "file_extension": ".py",
      "mimetype": "text/x-python",
      "name": "python",
      "nbconvert_exporter": "python",
      "pygments_lexer": "ipython3",
      "version": "3.8.10"
    }
  },
  "nbformat": 4,
  "nbformat_minor": 0
}