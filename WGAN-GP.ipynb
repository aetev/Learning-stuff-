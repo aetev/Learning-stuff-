{
  "cells": [
    {
      "cell_type": "markdown",
      "metadata": {
        "id": "view-in-github",
        "colab_type": "text"
      },
      "source": [
        "<a href=\"https://colab.research.google.com/github/aetev/Learning-stuff-/blob/main/WGAN-GP.ipynb\" target=\"_parent\"><img src=\"https://colab.research.google.com/assets/colab-badge.svg\" alt=\"Open In Colab\"/></a>"
      ]
    },
    {
      "cell_type": "code",
      "execution_count": 1,
      "metadata": {
        "colab": {
          "base_uri": "https://localhost:8080/"
        },
        "id": "-g36b6KfZQeH",
        "outputId": "bb30531d-a6d1-4b5f-c7c4-c633a37f7a77"
      },
      "outputs": [
        {
          "output_type": "stream",
          "name": "stdout",
          "text": [
            "Requirement already satisfied: librosa in /usr/local/lib/python3.10/dist-packages (0.10.0.post2)\n",
            "Requirement already satisfied: audioread>=2.1.9 in /usr/local/lib/python3.10/dist-packages (from librosa) (3.0.0)\n",
            "Requirement already satisfied: numpy!=1.22.0,!=1.22.1,!=1.22.2,>=1.20.3 in /usr/local/lib/python3.10/dist-packages (from librosa) (1.23.5)\n",
            "Requirement already satisfied: scipy>=1.2.0 in /usr/local/lib/python3.10/dist-packages (from librosa) (1.10.1)\n",
            "Requirement already satisfied: scikit-learn>=0.20.0 in /usr/local/lib/python3.10/dist-packages (from librosa) (1.2.2)\n",
            "Requirement already satisfied: joblib>=0.14 in /usr/local/lib/python3.10/dist-packages (from librosa) (1.3.2)\n",
            "Requirement already satisfied: decorator>=4.3.0 in /usr/local/lib/python3.10/dist-packages (from librosa) (4.4.2)\n",
            "Requirement already satisfied: numba>=0.51.0 in /usr/local/lib/python3.10/dist-packages (from librosa) (0.56.4)\n",
            "Requirement already satisfied: soundfile>=0.12.1 in /usr/local/lib/python3.10/dist-packages (from librosa) (0.12.1)\n",
            "Requirement already satisfied: pooch<1.7,>=1.0 in /usr/local/lib/python3.10/dist-packages (from librosa) (1.6.0)\n",
            "Requirement already satisfied: soxr>=0.3.2 in /usr/local/lib/python3.10/dist-packages (from librosa) (0.3.5)\n",
            "Requirement already satisfied: typing-extensions>=4.1.1 in /usr/local/lib/python3.10/dist-packages (from librosa) (4.7.1)\n",
            "Requirement already satisfied: lazy-loader>=0.1 in /usr/local/lib/python3.10/dist-packages (from librosa) (0.3)\n",
            "Requirement already satisfied: msgpack>=1.0 in /usr/local/lib/python3.10/dist-packages (from librosa) (1.0.5)\n",
            "Requirement already satisfied: llvmlite<0.40,>=0.39.0dev0 in /usr/local/lib/python3.10/dist-packages (from numba>=0.51.0->librosa) (0.39.1)\n",
            "Requirement already satisfied: setuptools in /usr/local/lib/python3.10/dist-packages (from numba>=0.51.0->librosa) (67.7.2)\n",
            "Requirement already satisfied: appdirs>=1.3.0 in /usr/local/lib/python3.10/dist-packages (from pooch<1.7,>=1.0->librosa) (1.4.4)\n",
            "Requirement already satisfied: packaging>=20.0 in /usr/local/lib/python3.10/dist-packages (from pooch<1.7,>=1.0->librosa) (23.1)\n",
            "Requirement already satisfied: requests>=2.19.0 in /usr/local/lib/python3.10/dist-packages (from pooch<1.7,>=1.0->librosa) (2.31.0)\n",
            "Requirement already satisfied: threadpoolctl>=2.0.0 in /usr/local/lib/python3.10/dist-packages (from scikit-learn>=0.20.0->librosa) (3.2.0)\n",
            "Requirement already satisfied: cffi>=1.0 in /usr/local/lib/python3.10/dist-packages (from soundfile>=0.12.1->librosa) (1.15.1)\n",
            "Requirement already satisfied: pycparser in /usr/local/lib/python3.10/dist-packages (from cffi>=1.0->soundfile>=0.12.1->librosa) (2.21)\n",
            "Requirement already satisfied: charset-normalizer<4,>=2 in /usr/local/lib/python3.10/dist-packages (from requests>=2.19.0->pooch<1.7,>=1.0->librosa) (3.2.0)\n",
            "Requirement already satisfied: idna<4,>=2.5 in /usr/local/lib/python3.10/dist-packages (from requests>=2.19.0->pooch<1.7,>=1.0->librosa) (3.4)\n",
            "Requirement already satisfied: urllib3<3,>=1.21.1 in /usr/local/lib/python3.10/dist-packages (from requests>=2.19.0->pooch<1.7,>=1.0->librosa) (2.0.4)\n",
            "Requirement already satisfied: certifi>=2017.4.17 in /usr/local/lib/python3.10/dist-packages (from requests>=2.19.0->pooch<1.7,>=1.0->librosa) (2023.7.22)\n"
          ]
        }
      ],
      "source": [
        "\n",
        "!pip install librosa"
      ]
    },
    {
      "cell_type": "code",
      "source": [
        "from google.colab import drive\n",
        "drive.mount('/content/drive')"
      ],
      "metadata": {
        "id": "kq4KEMDwylHv",
        "outputId": "23bf0b7f-a1ef-4a28-b4f7-30767f6e5a0b",
        "colab": {
          "base_uri": "https://localhost:8080/"
        }
      },
      "execution_count": 2,
      "outputs": [
        {
          "output_type": "stream",
          "name": "stdout",
          "text": [
            "Mounted at /content/drive\n"
          ]
        }
      ]
    },
    {
      "cell_type": "code",
      "execution_count": 3,
      "metadata": {
        "id": "-UiZf7YAawUu"
      },
      "outputs": [],
      "source": [
        "import tensorflow as tf\n",
        "from tensorflow.keras import layers\n",
        "import matplotlib.pyplot as plt\n",
        "import numpy as np\n",
        "import os\n",
        "from IPython.display import Audio"
      ]
    },
    {
      "cell_type": "code",
      "execution_count": 4,
      "metadata": {
        "id": "KZA4iSHlpHeW"
      },
      "outputs": [],
      "source": [
        "import librosa\n",
        "import numpy as np\n",
        "\n",
        "def create_mel_spectrogram(audio_array, sample_rate):\n",
        "    # Compute the Mel spectrogram\n",
        "    mel_spectrogram = librosa.feature.melspectrogram(y=np.squeeze(audio_array), sr=sample_rate)\n",
        "\n",
        "    # Convert to decibels\n",
        "    mel_spectrogram_db = librosa.power_to_db(mel_spectrogram, ref=np.max)\n",
        "    return mel_spectrogram_db\n",
        "\n",
        "\n",
        "def create_mel_spectrograms(audio_array, sample_rate):\n",
        "    num_samples, _, _ = audio_array.shape\n",
        "    num_mels = 128  # Number of Mel bins\n",
        "    hop_length = 512  # Hop length for the spectrogram\n",
        "\n",
        "    mel_spectrograms = []\n",
        "\n",
        "    for i in range(num_samples):\n",
        "        # Compute the Mel spectrogram\n",
        "        mel_spectrogram = librosa.feature.melspectrogram(y=np.squeeze(audio_array[i]), sr=sample_rate, hop_length=hop_length, n_mels=num_mels)\n",
        "\n",
        "        # Convert to decibels\n",
        "        mel_spectrogram_db = librosa.power_to_db(mel_spectrogram, ref=np.max)\n",
        "\n",
        "        # Append the Mel spectrogram to the list\n",
        "        mel_spectrograms.append(mel_spectrogram_db)\n",
        "\n",
        "    # Convert the list of Mel spectrograms to a numpy array\n",
        "    mel_spectrograms = np.array(mel_spectrograms)\n",
        "\n",
        "    # Reshape the array to match the desired dimensions\n",
        "    mel_spectrograms = mel_spectrograms.reshape(num_samples, num_mels, -1, 1)\n",
        "\n",
        "    return mel_spectrograms\n",
        "\n",
        "def plot_spec(array,sample_rate):\n",
        "    # Plot the Mel spectrogram\n",
        "    reshaped_array = np.squeeze(array)\n",
        "    plt.figure(figsize=(10, 4))\n",
        "    librosa.display.specshow(reshaped_array, x_axis='time', y_axis='mel', sr=sample_rate, fmax=8000)\n",
        "    plt.colorbar(format='%+2.0f dB')\n",
        "    plt.title('Mel Spectrogram')\n",
        "    plt.tight_layout()\n",
        "    plt.show()\n",
        "def downsample_array(arr, factor, axis):\n",
        "    return arr.take(np.arange(0, arr.shape[axis], factor), axis)\n",
        "\n",
        "def create_sliding_window(array, window_size, stride):\n",
        "    num_windows = (len(array) - window_size) // stride + 1\n",
        "    sliding_windows = np.lib.stride_tricks.sliding_window_view(array, (window_size,))\n",
        "\n",
        "    return sliding_windows[::stride]"
      ]
    },
    {
      "cell_type": "code",
      "execution_count": 5,
      "metadata": {
        "id": "PwZorlMxq2Rx"
      },
      "outputs": [],
      "source": [
        "reduction = 12\n",
        "wav_file = '/content/drive/MyDrive/bass samples/NBKoanbandstuff.wav'\n",
        "audio, sr = librosa.load(wav_file, sr=None)\n",
        "audio_dev = np.std(audio)\n",
        "audio = audio/audio_dev\n",
        "result_array = create_sliding_window(audio,44100,100)\n",
        "result_array = np.expand_dims(result_array, axis=2)\n",
        "result_array = downsample_array(result_array,reduction,1)"
      ]
    },
    {
      "cell_type": "code",
      "execution_count": 6,
      "metadata": {
        "colab": {
          "base_uri": "https://localhost:8080/",
          "height": 358
        },
        "id": "ZIzKgHj1sIvX",
        "outputId": "719fb831-168b-40e1-aa53-528890b5abb8"
      },
      "outputs": [
        {
          "output_type": "stream",
          "name": "stdout",
          "text": [
            "(100, 128, 8, 1)\n"
          ]
        },
        {
          "output_type": "display_data",
          "data": {
            "text/plain": [
              "<Figure size 1000x400 with 2 Axes>"
            ],
            "image/png": "[encoded data removed]"
          },
          "metadata": {}
        },
        {
          "output_type": "execute_result",
          "data": {
            "text/plain": [
              "<IPython.lib.display.Audio object>"
            ],
            "text/html": [
              "\n",
              "                <audio  controls=\"controls\" >\n",
              "                    <source src=\"data:audio/wav;base64,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\" type=\"audio/wav\" />\n",
              "                    Your browser does not support the audio element.\n",
              "                </audio>\n",
              "              "
            ]
          },
          "metadata": {},
          "execution_count": 6
        }
      ],
      "source": [
        "\n",
        "\n",
        "spec = create_mel_spectrograms(result_array[100:200],sr/reduction)\n",
        "print(spec.shape)\n",
        "plot_spec(spec[0],sr/reduction)\n",
        "audio_data = result_array[100].ravel()\n",
        "# Play the audio within the Jupyter Notebook\n",
        "Audio(data=audio_data, rate=sr/reduction)"
      ]
    },
    {
      "cell_type": "code",
      "execution_count": 7,
      "metadata": {
        "colab": {
          "base_uri": "https://localhost:8080/"
        },
        "id": "3XZfCdyC7S_D",
        "outputId": "5a885e39-4a46-4447-fcab-63b4ef8adeb3"
      },
      "outputs": [
        {
          "output_type": "stream",
          "name": "stdout",
          "text": [
            "(3675, 1)\n"
          ]
        }
      ],
      "source": [
        "#x_train = noise\n",
        "y_train = result_array\n",
        "print(y_train[0].shape)"
      ]
    },
    {
      "cell_type": "code",
      "execution_count": 8,
      "metadata": {
        "id": "MUFnmA-82FDv"
      },
      "outputs": [],
      "source": [
        "class ResNetBlock(layers.Layer):\n",
        "    def __init__(self, filters,kernel_size=3, strides=1,dilation_rate=1):\n",
        "        super(ResNetBlock, self).__init__()\n",
        "        self.conv1 = layers.Conv1D(filters, kernel_size, strides=strides,dilation_rate=dilation_rate, padding='same')\n",
        "        self.conv2 = layers.Conv1D(filters, kernel_size, padding='same')\n",
        "\n",
        "        if strides != 1:\n",
        "            self.residual = layers.Conv1D(filters, 1, strides=strides)\n",
        "        else:\n",
        "            self.residual = lambda x: x\n",
        "\n",
        "    def call(self, inputs, training=False):\n",
        "        x = self.conv1(inputs)\n",
        "        x = tf.nn.relu(x)\n",
        "        x = self.conv2(x)\n",
        "\n",
        "        r = self.residual(inputs)\n",
        "\n",
        "        x += r\n",
        "        return tf.nn.relu(x)"
      ]
    },
    {
      "cell_type": "code",
      "source": [
        "class ResNetBlockup(layers.Layer):\n",
        "    def __init__(self, filters, kernel_size=3, strides=1, dilation_rate=1):\n",
        "        super(ResNetBlockup, self).__init__()\n",
        "        self.conv1 = layers.Conv1DTranspose(filters, kernel_size, strides=strides, dilation_rate=dilation_rate, padding='same')\n",
        "        self.bn1 = layers.BatchNormalization()\n",
        "        self.conv2 = layers.Conv1DTranspose(filters, kernel_size, padding='same')\n",
        "        self.bn2 = layers.BatchNormalization()\n",
        "\n",
        "        if strides != 1:\n",
        "            self.residual = layers.Conv1DTranspose(filters, 1, strides=strides)\n",
        "        else:\n",
        "            self.residual = lambda x: x\n",
        "\n",
        "    def call(self, inputs, training=False):\n",
        "        x = self.conv1(inputs)\n",
        "        x = self.bn1(x, training=training)\n",
        "        x = tf.nn.relu(x)\n",
        "        x = self.conv2(x)\n",
        "        x = self.bn2(x, training=training)\n",
        "\n",
        "        r = self.residual(inputs)\n",
        "\n",
        "        x += r\n",
        "        return tf.nn.relu(x)"
      ],
      "metadata": {
        "id": "qBopciVs0FBC"
      },
      "execution_count": 9,
      "outputs": []
    },
    {
      "cell_type": "code",
      "execution_count": 10,
      "metadata": {
        "colab": {
          "base_uri": "https://localhost:8080/"
        },
        "id": "Gh2ORgUybdzt",
        "outputId": "25504f66-0977-465b-d727-55e77c81b937"
      },
      "outputs": [
        {
          "output_type": "stream",
          "name": "stdout",
          "text": [
            "Model: \"model\"\n",
            "__________________________________________________________________________________________________\n",
            " Layer (type)                   Output Shape         Param #     Connected to                     \n",
            "==================================================================================================\n",
            " input_1 (InputLayer)           [(None, None, 1)]    0           []                               \n",
            "                                                                                                  \n",
            " input_2 (InputLayer)           [(None, None, None,  0           []                               \n",
            "                                 1)]                                                              \n",
            "                                                                                                  \n",
            " res_net_block (ResNetBlock)    (None, None, 64)     12736       ['input_1[0][0]']                \n",
            "                                                                                                  \n",
            " conv2d (Conv2D)                (None, None, None,   1664        ['input_2[0][0]']                \n",
            "                                64)                                                               \n",
            "                                                                                                  \n",
            " layer_normalization (LayerNorm  (None, None, 64)    128         ['res_net_block[0][0]']          \n",
            " alization)                                                                                       \n",
            "                                                                                                  \n",
            " layer_normalization_4 (LayerNo  (None, None, None,   128        ['conv2d[0][0]']                 \n",
            " rmalization)                   64)                                                               \n",
            "                                                                                                  \n",
            " res_net_block_1 (ResNetBlock)  (None, None, 64)     28864       ['layer_normalization[0][0]']    \n",
            "                                                                                                  \n",
            " conv2d_1 (Conv2D)              (None, None, None,   36928       ['layer_normalization_4[0][0]']  \n",
            "                                64)                                                               \n",
            "                                                                                                  \n",
            " layer_normalization_1 (LayerNo  (None, None, 64)    128         ['res_net_block_1[0][0]']        \n",
            " rmalization)                                                                                     \n",
            "                                                                                                  \n",
            " layer_normalization_5 (LayerNo  (None, None, None,   128        ['conv2d_1[0][0]']               \n",
            " rmalization)                   64)                                                               \n",
            "                                                                                                  \n",
            " res_net_block_2 (ResNetBlock)  (None, None, 64)     28864       ['layer_normalization_1[0][0]']  \n",
            "                                                                                                  \n",
            " conv2d_2 (Conv2D)              (None, None, None,   36928       ['layer_normalization_5[0][0]']  \n",
            "                                64)                                                               \n",
            "                                                                                                  \n",
            " layer_normalization_2 (LayerNo  (None, None, 64)    128         ['res_net_block_2[0][0]']        \n",
            " rmalization)                                                                                     \n",
            "                                                                                                  \n",
            " layer_normalization_6 (LayerNo  (None, None, None,   128        ['conv2d_2[0][0]']               \n",
            " rmalization)                   64)                                                               \n",
            "                                                                                                  \n",
            " res_net_block_3 (ResNetBlock)  (None, None, 512)    919040      ['layer_normalization_2[0][0]']  \n",
            "                                                                                                  \n",
            " res_net_block_4 (ResNetBlock)  (None, None, None,   919040      ['layer_normalization_6[0][0]']  \n",
            "                                512)                                                              \n",
            "                                                                                                  \n",
            " layer_normalization_3 (LayerNo  (None, None, 512)   1024        ['res_net_block_3[0][0]']        \n",
            " rmalization)                                                                                     \n",
            "                                                                                                  \n",
            " layer_normalization_7 (LayerNo  (None, None, None,   1024       ['res_net_block_4[0][0]']        \n",
            " rmalization)                   512)                                                              \n",
            "                                                                                                  \n",
            " global_average_pooling1d (Glob  (None, 512)         0           ['layer_normalization_3[0][0]']  \n",
            " alAveragePooling1D)                                                                              \n",
            "                                                                                                  \n",
            " global_average_pooling2d (Glob  (None, 512)         0           ['layer_normalization_7[0][0]']  \n",
            " alAveragePooling2D)                                                                              \n",
            "                                                                                                  \n",
            " concatenate (Concatenate)      (None, 1024)         0           ['global_average_pooling1d[0][0]'\n",
            "                                                                 , 'global_average_pooling2d[0][0]\n",
            "                                                                 ']                               \n",
            "                                                                                                  \n",
            " dense (Dense)                  (None, 200)          205000      ['concatenate[0][0]']            \n",
            "                                                                                                  \n",
            " layer_normalization_8 (LayerNo  (None, 200)         400         ['dense[0][0]']                  \n",
            " rmalization)                                                                                     \n",
            "                                                                                                  \n",
            " dense_1 (Dense)                (None, 64)           12864       ['layer_normalization_8[0][0]']  \n",
            "                                                                                                  \n",
            " dense_2 (Dense)                (None, 1)            65          ['dense_1[0][0]']                \n",
            "                                                                                                  \n",
            "==================================================================================================\n",
            "Total params: 2,205,209\n",
            "Trainable params: 2,205,209\n",
            "Non-trainable params: 0\n",
            "__________________________________________________________________________________________________\n"
          ]
        }
      ],
      "source": [
        "def build_discriminator():\n",
        "    input_series = layers.Input(shape=(None, 1))\n",
        "    input_img = layers.Input(shape=(None, None, 1))\n",
        "\n",
        "    # Convolutional layers for series\n",
        "    x_series = ResNetBlock(64, 3, 2, 1)(input_series)\n",
        "    x_series = layers.LayerNormalization()(x_series)\n",
        "\n",
        "    x_series = ResNetBlock(64, 3, 2, 1)(x_series)\n",
        "    x_series = layers.LayerNormalization()(x_series)\n",
        "\n",
        "    x_series = ResNetBlock(64, 3, 2, 1)(x_series)\n",
        "    x_series = layers.LayerNormalization()(x_series)\n",
        "\n",
        "    x_series = ResNetBlock(512, 3, 2, 1)(x_series)\n",
        "    x_series = layers.LayerNormalization()(x_series)\n",
        "\n",
        "    # Convolutional layers for image\n",
        "    x_img = layers.Conv2D(64,5,2,padding='same')(input_img)\n",
        "    x_img = layers.LayerNormalization()(x_img)\n",
        "\n",
        "    x_img = layers.Conv2D(64,3,2,padding='same')(x_img)\n",
        "    x_img = layers.LayerNormalization()(x_img)\n",
        "\n",
        "    x_img = layers.Conv2D(64,3,2,padding='same')(x_img)\n",
        "    x_img = layers.LayerNormalization()(x_img)\n",
        "\n",
        "    x_img = ResNetBlock(512, 3, 2, 1)(x_img)\n",
        "    x_img = layers.LayerNormalization()(x_img)\n",
        "\n",
        "    # Concatenate series and image features\n",
        "\n",
        "\n",
        "    # Global pooling\n",
        "    pooled_series = layers.GlobalAveragePooling1D()(x_series)\n",
        "    pooled_img = layers.GlobalAveragePooling2D()(x_img)\n",
        "    pooled_output = layers.Concatenate()([pooled_series, pooled_img])\n",
        "\n",
        "\n",
        "    # Dense layers\n",
        "    dense_output = layers.Dense(200, activation='relu')(pooled_output)\n",
        "    dense_output = layers.LayerNormalization()(dense_output)\n",
        "\n",
        "    dense_output = layers.Dense(64, activation='relu')(dense_output)\n",
        "\n",
        "    dense_output = layers.Dense(1, activation='linear')(dense_output)\n",
        "\n",
        "    model = tf.keras.models.Model(inputs=[input_series, input_img], outputs=dense_output)\n",
        "    return model\n",
        "\n",
        "discriminator = build_discriminator()\n",
        "discriminator.summary()"
      ]
    },
    {
      "cell_type": "code",
      "execution_count": 11,
      "metadata": {
        "colab": {
          "base_uri": "https://localhost:8080/"
        },
        "id": "8q_-l7f8eC-i",
        "outputId": "7d972933-b5e6-41cb-8490-8ed1b6629b3d"
      },
      "outputs": [
        {
          "output_type": "stream",
          "name": "stdout",
          "text": [
            "Model: \"model_1\"\n",
            "_________________________________________________________________\n",
            " Layer (type)                Output Shape              Param #   \n",
            "=================================================================\n",
            " input_3 (InputLayer)        [(None, None, 1)]         0         \n",
            "                                                                 \n",
            " batch_normalization (BatchN  (None, None, 1)          4         \n",
            " ormalization)                                                   \n",
            "                                                                 \n",
            " res_net_block_5 (ResNetBloc  (None, None, 64)         16768     \n",
            " k)                                                              \n",
            "                                                                 \n",
            " res_net_block_6 (ResNetBloc  (None, None, 64)         32896     \n",
            " k)                                                              \n",
            "                                                                 \n",
            " res_net_block_7 (ResNetBloc  (None, None, 64)         32896     \n",
            " k)                                                              \n",
            "                                                                 \n",
            " res_net_block_8 (ResNetBloc  (None, None, 64)         32896     \n",
            " k)                                                              \n",
            "                                                                 \n",
            " res_net_block_9 (ResNetBloc  (None, None, 64)         32896     \n",
            " k)                                                              \n",
            "                                                                 \n",
            " res_net_block_10 (ResNetBlo  (None, None, 64)         32896     \n",
            " ck)                                                             \n",
            "                                                                 \n",
            " conv1d_27 (Conv1D)          (None, None, 1)           65        \n",
            "                                                                 \n",
            "=================================================================\n",
            "Total params: 181,317\n",
            "Trainable params: 181,315\n",
            "Non-trainable params: 2\n",
            "_________________________________________________________________\n"
          ]
        }
      ],
      "source": [
        "def build_generator():\n",
        "    input_series = layers.Input(shape=(None,1))\n",
        "\n",
        "    x = layers.BatchNormalization()(input_series)\n",
        "\n",
        "    x = ResNetBlock(64,4,strides=1,dilation_rate=24)(x)\n",
        "\n",
        "    x = ResNetBlock(64,4,strides=1,dilation_rate=12)(x)\n",
        "\n",
        "    x = ResNetBlock(64,4,strides=1,dilation_rate=6)(x)\n",
        "\n",
        "    x = ResNetBlock(64,4,strides=1,dilation_rate=4)(x)\n",
        "\n",
        "    x = ResNetBlock(64,4,strides=1,dilation_rate=2)(x)\n",
        "\n",
        "    x = ResNetBlock(64,4,strides=1,dilation_rate=1)(x)\n",
        "\n",
        "    x = layers.Conv1D(1,1)(x)\n",
        "\n",
        "\n",
        "\n",
        "    model = tf.keras.models.Model(inputs=input_series, outputs=x)\n",
        "    return model\n",
        "\n",
        "generator = build_generator()\n",
        "generator.summary()\n"
      ]
    },
    {
      "cell_type": "code",
      "execution_count": 19,
      "metadata": {
        "id": "aFFOfuDfbpD9"
      },
      "outputs": [],
      "source": [
        "# Compile models\n",
        "#generator_optimizer = tf.keras.optimizers.Adam(0.0004)\n",
        "#discriminator_optimizer = tf.keras.optimizers.Adam(0.0004)\n",
        "\n",
        "generator_optimizer = tf.keras.optimizers.experimental.SGD(1e-4)\n",
        "discriminator_optimizer = tf.keras.optimizers.experimental.SGD(1e-4)"
      ]
    },
    {
      "cell_type": "code",
      "source": [
        "def gradient_penalty(real, fake, discriminator):\n",
        "    batch_size = real.shape[0]\n",
        "    epsilon = tf.random.uniform([batch_size, 1, 1], 0.0, 1.0)\n",
        "    interpolated = epsilon * real + (1 - epsilon) * fake\n",
        "\n",
        "    with tf.GradientTape() as tape:\n",
        "        tape.watch(interpolated)\n",
        "        pred = discriminator(interpolated, training=True)\n",
        "\n",
        "    gradients = tape.gradient(pred, [interpolated])[0]\n",
        "    norm = tf.sqrt(tf.reduce_sum(tf.square(gradients), axis=[1, 2]))\n",
        "    gp = tf.reduce_mean((norm - 1.0) ** 2)\n",
        "\n",
        "    return gp\n",
        "\n",
        "def gradient_penalty(real, fake, discriminator):\n",
        "    batch_size = real.shape[0]\n",
        "    epsilon = tf.random.uniform([batch_size, 1, 1], 0.0, 1.0)\n",
        "    interpolated = epsilon * real + (1 - epsilon) * fake\n",
        "\n",
        "    with tf.GradientTape() as tape:\n",
        "        tape.watch(interpolated)\n",
        "        pred = discriminator([interpolated, interpolated], training=True)\n",
        "\n",
        "    gradients = tape.gradient(pred, [interpolated])[0]\n",
        "    norm = tf.sqrt(tf.reduce_sum(tf.square(gradients), axis=[1, 2]))\n",
        "    gp = tf.reduce_mean((norm - 1.0) ** 2)\n",
        "\n",
        "    return gp"
      ],
      "metadata": {
        "id": "DpBCjazdvotg"
      },
      "execution_count": 13,
      "outputs": []
    },
    {
      "cell_type": "code",
      "execution_count": 14,
      "metadata": {
        "id": "T3PtShxlbn9c"
      },
      "outputs": [],
      "source": [
        "def discriminator_loss(real_output, fake_output, gradient_penalty):\n",
        "    return tf.reduce_mean(fake_output) - tf.reduce_mean(real_output) + gradient_penalty\n",
        "\n",
        "def generator_loss(fake_output):\n",
        "    return -tf.reduce_mean(fake_output)\n",
        "\n"
      ]
    },
    {
      "cell_type": "code",
      "source": [
        "def clip_discriminator_weights(discriminator):\n",
        "    for l in discriminator.layers:\n",
        "        weights = l.get_weights()\n",
        "        weights = [tf.clip_by_value(w, -0.01, 0.01) for w in weights]\n",
        "        l.set_weights(weights)"
      ],
      "metadata": {
        "id": "a8RtXmHLZHWu"
      },
      "execution_count": 15,
      "outputs": []
    },
    {
      "cell_type": "code",
      "execution_count": 16,
      "metadata": {
        "id": "vAoSvqXLsQHq"
      },
      "outputs": [],
      "source": [
        "def print_img(generator_model):\n",
        "    # Generate and save sample images\n",
        "    noise = tf.random.normal([10, 100])\n",
        "    sampled_labels = tf.constant([[i % 10] for i in range(10)], dtype=tf.int32)\n",
        "    generated_images = generator_model.predict([noise, sampled_labels])\n",
        "    fig, axs = plt.subplots(1, 10, figsize=(10, 10))\n",
        "    for i in range(10):\n",
        "        axs[i].imshow(generated_images[i], cmap=\"gray\")\n",
        "        axs[i].axis(\"off\")\n",
        "    plt.show()"
      ]
    },
    {
      "cell_type": "code",
      "execution_count": 17,
      "metadata": {
        "colab": {
          "base_uri": "https://localhost:8080/"
        },
        "id": "PAqGbZU0Z5yl",
        "outputId": "1fa25ed1-ffbd-4d90-b419-2fcd69cc0cb8"
      },
      "outputs": [
        {
          "output_type": "stream",
          "name": "stdout",
          "text": [
            "1/1 [==============================] - 1s 745ms/step\n",
            "(1, 10000, 1)\n"
          ]
        }
      ],
      "source": [
        "noise = tf.random.normal(shape=(1,10000,1))\n",
        "\n",
        "test = generator.predict(noise)\n",
        "print(test.shape)"
      ]
    },
    {
      "cell_type": "code",
      "execution_count": 20,
      "metadata": {
        "id": "wp5mnkMVVgPV",
        "outputId": "9af443ae-e388-464b-d854-76f0ae1165a4",
        "colab": {
          "base_uri": "https://localhost:8080/",
          "height": 1000
        }
      },
      "outputs": [
        {
          "output_type": "stream",
          "name": "stdout",
          "text": [
            "disc_loss 0.65817064 gen_loss -0.404653221\n",
            "disc_loss -0.011720717 gen_loss -0.0804180726\n",
            "disc_loss -0.489937 gen_loss 0.192444578\n",
            "disc_loss -0.83331722 gen_loss 0.441377163\n",
            "disc_loss -1.0209496 gen_loss 0.574063838\n",
            "disc_loss -1.19532752 gen_loss 0.721312702\n",
            "disc_loss -1.38462758 gen_loss 0.782324\n",
            "disc_loss -1.45775485 gen_loss 0.869973\n",
            "disc_loss -1.49036777 gen_loss 0.815374672\n",
            "disc_loss -1.12096334 gen_loss 0.510226786\n",
            "disc_loss -0.70355 gen_loss -0.0441826731\n",
            "disc_loss -0.239875019 gen_loss -0.652964592\n",
            "disc_loss -0.00504666567 gen_loss -0.951007962\n",
            "disc_loss 0.0268354416 gen_loss -1.09699368\n",
            "disc_loss -0.0113361478 gen_loss -1.10951197\n",
            "disc_loss -0.112922251 gen_loss -1.12412441\n",
            "disc_loss -0.263746023 gen_loss -1.10803366\n",
            "disc_loss -0.27853626 gen_loss -1.02459264\n",
            "disc_loss -0.403536439 gen_loss -0.95506084\n",
            "disc_loss -0.467119753 gen_loss -0.900709808\n",
            "disc_loss -0.603352606 gen_loss -0.837749839\n",
            "disc_loss -0.688275158 gen_loss -0.752061\n",
            "disc_loss -0.84348309 gen_loss -0.666221261\n",
            "disc_loss -1.03075433 gen_loss -0.551886082\n",
            "disc_loss -1.17642617 gen_loss -0.425164223\n",
            "disc_loss -1.34563303 gen_loss -0.341077238\n",
            "disc_loss -1.57266951 gen_loss -0.29232794\n",
            "disc_loss -1.71347046 gen_loss -0.236117408\n",
            "disc_loss -1.80891776 gen_loss -0.163089857\n",
            "disc_loss -1.96516347 gen_loss -0.0460883453\n",
            "disc_loss -2.07430315 gen_loss -0.0280753784\n",
            "disc_loss -2.15397382 gen_loss -0.0244485326\n",
            "disc_loss -2.22694373 gen_loss 0.0180362668\n",
            "disc_loss -2.21529245 gen_loss -0.107134342\n",
            "disc_loss -2.03221464 gen_loss -0.302458227\n",
            "disc_loss -1.88367224 gen_loss -0.571249664\n",
            "disc_loss -1.55690145 gen_loss -0.875054538\n",
            "disc_loss -1.4950844 gen_loss -1.03050315\n",
            "disc_loss -1.48543084 gen_loss -1.18631411\n",
            "disc_loss -1.69195735 gen_loss -1.05531299\n",
            "disc_loss -2.12312651 gen_loss -0.826516271\n",
            "disc_loss -2.50069523 gen_loss -0.598489165\n",
            "disc_loss -2.96144724 gen_loss -0.322645396\n",
            "disc_loss -3.45676661 gen_loss -0.0786897\n",
            "disc_loss -3.88091159 gen_loss 0.233091041\n",
            "disc_loss -4.45570564 gen_loss 0.398198783\n",
            "disc_loss -4.84992361 gen_loss 0.687318444\n",
            "disc_loss -5.30073452 gen_loss 0.907005489\n",
            "disc_loss -5.79254341 gen_loss 1.19385362\n",
            "disc_loss -6.26412582 gen_loss 1.35439694\n",
            "disc_loss -6.82596207 gen_loss 1.61418307\n",
            "disc_loss -7.30054903 gen_loss 1.91639042\n",
            "disc_loss -7.71423483 gen_loss 2.07299018\n",
            "disc_loss -8.0868187 gen_loss 2.24323893\n",
            "disc_loss -8.44604301 gen_loss 2.41053343\n",
            "disc_loss -8.64390373 gen_loss 2.57780457\n",
            "disc_loss -8.87988663 gen_loss 2.47340345\n",
            "disc_loss -8.86125374 gen_loss 2.28373837\n",
            "disc_loss -8.28744602 gen_loss 1.65181983\n",
            "disc_loss -4.92558956 gen_loss -1.36487007\n",
            "disc_loss -2.2101841 gen_loss -4.5544672\n",
            "disc_loss -2.79333925 gen_loss -4.36534595\n",
            "disc_loss -3.17442465 gen_loss -4.01422501\n",
            "disc_loss -3.6181488 gen_loss -3.77642179\n",
            "disc_loss -3.85435534 gen_loss -3.47618341\n",
            "disc_loss -4.10890436 gen_loss -3.34187627\n",
            "disc_loss -4.32816887 gen_loss -3.0282073\n",
            "disc_loss -4.81352139 gen_loss -2.70353055\n",
            "disc_loss -5.19323301 gen_loss -2.27930021\n",
            "disc_loss -5.66061687 gen_loss -1.63080561\n",
            "disc_loss -6.01396942 gen_loss -1.38376272\n",
            "disc_loss -6.53700447 gen_loss -0.933536172\n",
            "disc_loss -7.0543561 gen_loss -0.498061568\n",
            "disc_loss -7.22261858 gen_loss -0.563609\n",
            "disc_loss -7.85001 gen_loss -0.078384921\n",
            "disc_loss -7.56942129 gen_loss -0.358291388\n",
            "disc_loss -8.31080914 gen_loss 0.187142164\n",
            "disc_loss -8.70259762 gen_loss 0.210138038\n",
            "disc_loss -8.92083931 gen_loss 1.06062913\n",
            "disc_loss -8.67995739 gen_loss 0.240626544\n",
            "disc_loss -9.2601738 gen_loss 1.20759177\n",
            "disc_loss -8.65151882 gen_loss 1.12247121\n",
            "disc_loss -9.37619781 gen_loss 0.568547368\n"
          ]
        },
        {
          "output_type": "error",
          "ename": "KeyboardInterrupt",
          "evalue": "ignored",
          "traceback": [
            "\u001b[0;31m---------------------------------------------------------------------------\u001b[0m",
            "\u001b[0;31mKeyboardInterrupt\u001b[0m                         Traceback (most recent call last)",
            "\u001b[0;32m<ipython-input-20-37e25e77ab50>\u001b[0m in \u001b[0;36m<cell line: 69>\u001b[0;34m()\u001b[0m\n\u001b[1;32m     67\u001b[0m \u001b[0mBATCH_SIZE\u001b[0m \u001b[0;34m=\u001b[0m \u001b[0;36m10\u001b[0m\u001b[0;34m\u001b[0m\u001b[0;34m\u001b[0m\u001b[0m\n\u001b[1;32m     68\u001b[0m \u001b[0mnum_unrolling_steps\u001b[0m \u001b[0;34m=\u001b[0m \u001b[0;36m20\u001b[0m  \u001b[0;31m# Set the desired number of unrolling steps\u001b[0m\u001b[0;34m\u001b[0m\u001b[0;34m\u001b[0m\u001b[0m\n\u001b[0;32m---> 69\u001b[0;31m \u001b[0mtrain\u001b[0m\u001b[0;34m(\u001b[0m\u001b[0mgenerator\u001b[0m\u001b[0;34m,\u001b[0m \u001b[0mdiscriminator\u001b[0m\u001b[0;34m,\u001b[0m \u001b[0mEPOCHS\u001b[0m\u001b[0;34m,\u001b[0m \u001b[0mBATCH_SIZE\u001b[0m\u001b[0;34m)\u001b[0m\u001b[0;34m\u001b[0m\u001b[0;34m\u001b[0m\u001b[0m\n\u001b[0m",
            "\u001b[0;32m<ipython-input-20-37e25e77ab50>\u001b[0m in \u001b[0;36mtrain\u001b[0;34m(generator, discriminator, epochs, batch_size)\u001b[0m\n\u001b[1;32m     53\u001b[0m             \u001b[0mtarget_audios\u001b[0m \u001b[0;34m=\u001b[0m \u001b[0my_train\u001b[0m\u001b[0;34m[\u001b[0m\u001b[0mbatch\u001b[0m \u001b[0;34m*\u001b[0m \u001b[0mbatch_size\u001b[0m\u001b[0;34m:\u001b[0m \u001b[0;34m(\u001b[0m\u001b[0mbatch\u001b[0m\u001b[0;34m+\u001b[0m\u001b[0;36m1\u001b[0m\u001b[0;34m)\u001b[0m \u001b[0;34m*\u001b[0m \u001b[0mbatch_size\u001b[0m\u001b[0;34m]\u001b[0m\u001b[0;34m\u001b[0m\u001b[0;34m\u001b[0m\u001b[0m\n\u001b[1;32m     54\u001b[0m \u001b[0;34m\u001b[0m\u001b[0m\n\u001b[0;32m---> 55\u001b[0;31m             \u001b[0mtrain_step\u001b[0m\u001b[0;34m(\u001b[0m\u001b[0mtarget_audios\u001b[0m\u001b[0;34m)\u001b[0m\u001b[0;34m\u001b[0m\u001b[0;34m\u001b[0m\u001b[0m\n\u001b[0m\u001b[1;32m     56\u001b[0m \u001b[0;34m\u001b[0m\u001b[0m\n\u001b[1;32m     57\u001b[0m         \u001b[0;32mif\u001b[0m \u001b[0;34m(\u001b[0m\u001b[0mepoch\u001b[0m \u001b[0;34m+\u001b[0m \u001b[0;36m1\u001b[0m\u001b[0;34m)\u001b[0m \u001b[0;34m%\u001b[0m \u001b[0;36m5\u001b[0m \u001b[0;34m==\u001b[0m \u001b[0;36m0\u001b[0m\u001b[0;34m:\u001b[0m\u001b[0;34m\u001b[0m\u001b[0;34m\u001b[0m\u001b[0m\n",
            "\u001b[0;32m<ipython-input-20-37e25e77ab50>\u001b[0m in \u001b[0;36mtrain_step\u001b[0;34m(target_audios)\u001b[0m\n\u001b[1;32m     19\u001b[0m \u001b[0;34m\u001b[0m\u001b[0m\n\u001b[1;32m     20\u001b[0m \u001b[0;34m\u001b[0m\u001b[0m\n\u001b[0;32m---> 21\u001b[0;31m           \u001b[0mgp\u001b[0m \u001b[0;34m=\u001b[0m \u001b[0mgradient_penalty\u001b[0m\u001b[0;34m(\u001b[0m\u001b[0mtarget_audios\u001b[0m\u001b[0;34m,\u001b[0m \u001b[0mgenerated_audio\u001b[0m\u001b[0;34m,\u001b[0m \u001b[0mdiscriminator\u001b[0m\u001b[0;34m)\u001b[0m\u001b[0;34m\u001b[0m\u001b[0;34m\u001b[0m\u001b[0m\n\u001b[0m\u001b[1;32m     22\u001b[0m           \u001b[0mdisc_loss\u001b[0m \u001b[0;34m=\u001b[0m \u001b[0mdiscriminator_loss\u001b[0m\u001b[0;34m(\u001b[0m\u001b[0mreal_output\u001b[0m\u001b[0;34m,\u001b[0m \u001b[0mfake_output\u001b[0m\u001b[0;34m,\u001b[0m \u001b[0mgp\u001b[0m\u001b[0;34m)\u001b[0m\u001b[0;34m\u001b[0m\u001b[0;34m\u001b[0m\u001b[0m\n\u001b[1;32m     23\u001b[0m \u001b[0;34m\u001b[0m\u001b[0m\n",
            "\u001b[0;32m<ipython-input-13-191b27e6c168>\u001b[0m in \u001b[0;36mgradient_penalty\u001b[0;34m(real, fake, discriminator)\u001b[0m\n\u001b[1;32m     23\u001b[0m         \u001b[0mpred\u001b[0m \u001b[0;34m=\u001b[0m \u001b[0mdiscriminator\u001b[0m\u001b[0;34m(\u001b[0m\u001b[0;34m[\u001b[0m\u001b[0minterpolated\u001b[0m\u001b[0;34m,\u001b[0m \u001b[0minterpolated\u001b[0m\u001b[0;34m]\u001b[0m\u001b[0;34m,\u001b[0m \u001b[0mtraining\u001b[0m\u001b[0;34m=\u001b[0m\u001b[0;32mTrue\u001b[0m\u001b[0;34m)\u001b[0m\u001b[0;34m\u001b[0m\u001b[0;34m\u001b[0m\u001b[0m\n\u001b[1;32m     24\u001b[0m \u001b[0;34m\u001b[0m\u001b[0m\n\u001b[0;32m---> 25\u001b[0;31m     \u001b[0mgradients\u001b[0m \u001b[0;34m=\u001b[0m \u001b[0mtape\u001b[0m\u001b[0;34m.\u001b[0m\u001b[0mgradient\u001b[0m\u001b[0;34m(\u001b[0m\u001b[0mpred\u001b[0m\u001b[0;34m,\u001b[0m \u001b[0;34m[\u001b[0m\u001b[0minterpolated\u001b[0m\u001b[0;34m]\u001b[0m\u001b[0;34m)\u001b[0m\u001b[0;34m[\u001b[0m\u001b[0;36m0\u001b[0m\u001b[0;34m]\u001b[0m\u001b[0;34m\u001b[0m\u001b[0;34m\u001b[0m\u001b[0m\n\u001b[0m\u001b[1;32m     26\u001b[0m     \u001b[0mnorm\u001b[0m \u001b[0;34m=\u001b[0m \u001b[0mtf\u001b[0m\u001b[0;34m.\u001b[0m\u001b[0msqrt\u001b[0m\u001b[0;34m(\u001b[0m\u001b[0mtf\u001b[0m\u001b[0;34m.\u001b[0m\u001b[0mreduce_sum\u001b[0m\u001b[0;34m(\u001b[0m\u001b[0mtf\u001b[0m\u001b[0;34m.\u001b[0m\u001b[0msquare\u001b[0m\u001b[0;34m(\u001b[0m\u001b[0mgradients\u001b[0m\u001b[0;34m)\u001b[0m\u001b[0;34m,\u001b[0m \u001b[0maxis\u001b[0m\u001b[0;34m=\u001b[0m\u001b[0;34m[\u001b[0m\u001b[0;36m1\u001b[0m\u001b[0;34m,\u001b[0m \u001b[0;36m2\u001b[0m\u001b[0;34m]\u001b[0m\u001b[0;34m)\u001b[0m\u001b[0;34m)\u001b[0m\u001b[0;34m\u001b[0m\u001b[0;34m\u001b[0m\u001b[0m\n\u001b[1;32m     27\u001b[0m     \u001b[0mgp\u001b[0m \u001b[0;34m=\u001b[0m \u001b[0mtf\u001b[0m\u001b[0;34m.\u001b[0m\u001b[0mreduce_mean\u001b[0m\u001b[0;34m(\u001b[0m\u001b[0;34m(\u001b[0m\u001b[0mnorm\u001b[0m \u001b[0;34m-\u001b[0m \u001b[0;36m1.0\u001b[0m\u001b[0;34m)\u001b[0m \u001b[0;34m**\u001b[0m \u001b[0;36m2\u001b[0m\u001b[0;34m)\u001b[0m\u001b[0;34m\u001b[0m\u001b[0;34m\u001b[0m\u001b[0m\n",
            "\u001b[0;32m/usr/local/lib/python3.10/dist-packages/tensorflow/python/eager/backprop.py\u001b[0m in \u001b[0;36mgradient\u001b[0;34m(self, target, sources, output_gradients, unconnected_gradients)\u001b[0m\n\u001b[1;32m   1061\u001b[0m                           for x in output_gradients]\n\u001b[1;32m   1062\u001b[0m \u001b[0;34m\u001b[0m\u001b[0m\n\u001b[0;32m-> 1063\u001b[0;31m     flat_grad = imperative_grad.imperative_grad(\n\u001b[0m\u001b[1;32m   1064\u001b[0m         \u001b[0mself\u001b[0m\u001b[0;34m.\u001b[0m\u001b[0m_tape\u001b[0m\u001b[0;34m,\u001b[0m\u001b[0;34m\u001b[0m\u001b[0;34m\u001b[0m\u001b[0m\n\u001b[1;32m   1065\u001b[0m         \u001b[0mflat_targets\u001b[0m\u001b[0;34m,\u001b[0m\u001b[0;34m\u001b[0m\u001b[0;34m\u001b[0m\u001b[0m\n",
            "\u001b[0;32m/usr/local/lib/python3.10/dist-packages/tensorflow/python/eager/imperative_grad.py\u001b[0m in \u001b[0;36mimperative_grad\u001b[0;34m(tape, target, sources, output_gradients, sources_raw, unconnected_gradients)\u001b[0m\n\u001b[1;32m     65\u001b[0m         \"Unknown value for unconnected_gradients: %r\" % unconnected_gradients)\n\u001b[1;32m     66\u001b[0m \u001b[0;34m\u001b[0m\u001b[0m\n\u001b[0;32m---> 67\u001b[0;31m   return pywrap_tfe.TFE_Py_TapeGradient(\n\u001b[0m\u001b[1;32m     68\u001b[0m       \u001b[0mtape\u001b[0m\u001b[0;34m.\u001b[0m\u001b[0m_tape\u001b[0m\u001b[0;34m,\u001b[0m  \u001b[0;31m# pylint: disable=protected-access\u001b[0m\u001b[0;34m\u001b[0m\u001b[0;34m\u001b[0m\u001b[0m\n\u001b[1;32m     69\u001b[0m       \u001b[0mtarget\u001b[0m\u001b[0;34m,\u001b[0m\u001b[0;34m\u001b[0m\u001b[0;34m\u001b[0m\u001b[0m\n",
            "\u001b[0;32m/usr/local/lib/python3.10/dist-packages/tensorflow/python/eager/backprop.py\u001b[0m in \u001b[0;36m_gradient_function\u001b[0;34m(op_name, attr_tuple, num_inputs, inputs, outputs, out_grads, skip_input_indices, forward_pass_name_scope)\u001b[0m\n\u001b[1;32m    144\u001b[0m       \u001b[0mgradient_name_scope\u001b[0m \u001b[0;34m+=\u001b[0m \u001b[0mforward_pass_name_scope\u001b[0m \u001b[0;34m+\u001b[0m \u001b[0;34m\"/\"\u001b[0m\u001b[0;34m\u001b[0m\u001b[0;34m\u001b[0m\u001b[0m\n\u001b[1;32m    145\u001b[0m     \u001b[0;32mwith\u001b[0m \u001b[0mops\u001b[0m\u001b[0;34m.\u001b[0m\u001b[0mname_scope\u001b[0m\u001b[0;34m(\u001b[0m\u001b[0mgradient_name_scope\u001b[0m\u001b[0;34m)\u001b[0m\u001b[0;34m:\u001b[0m\u001b[0;34m\u001b[0m\u001b[0;34m\u001b[0m\u001b[0m\n\u001b[0;32m--> 146\u001b[0;31m       \u001b[0;32mreturn\u001b[0m \u001b[0mgrad_fn\u001b[0m\u001b[0;34m(\u001b[0m\u001b[0mmock_op\u001b[0m\u001b[0;34m,\u001b[0m \u001b[0;34m*\u001b[0m\u001b[0mout_grads\u001b[0m\u001b[0;34m)\u001b[0m\u001b[0;34m\u001b[0m\u001b[0;34m\u001b[0m\u001b[0m\n\u001b[0m\u001b[1;32m    147\u001b[0m   \u001b[0;32melse\u001b[0m\u001b[0;34m:\u001b[0m\u001b[0;34m\u001b[0m\u001b[0;34m\u001b[0m\u001b[0m\n\u001b[1;32m    148\u001b[0m     \u001b[0;32mreturn\u001b[0m \u001b[0mgrad_fn\u001b[0m\u001b[0;34m(\u001b[0m\u001b[0mmock_op\u001b[0m\u001b[0;34m,\u001b[0m \u001b[0;34m*\u001b[0m\u001b[0mout_grads\u001b[0m\u001b[0;34m)\u001b[0m\u001b[0;34m\u001b[0m\u001b[0;34m\u001b[0m\u001b[0m\n",
            "\u001b[0;32m/usr/local/lib/python3.10/dist-packages/tensorflow/python/ops/nn_grad.py\u001b[0m in \u001b[0;36m_Conv2DGrad\u001b[0;34m(op, grad)\u001b[0m\n\u001b[1;32m    580\u001b[0m   \u001b[0;31m# in Eager mode.\u001b[0m\u001b[0;34m\u001b[0m\u001b[0;34m\u001b[0m\u001b[0m\n\u001b[1;32m    581\u001b[0m   return [\n\u001b[0;32m--> 582\u001b[0;31m       gen_nn_ops.conv2d_backprop_input(\n\u001b[0m\u001b[1;32m    583\u001b[0m           \u001b[0mshape_0\u001b[0m\u001b[0;34m,\u001b[0m\u001b[0;34m\u001b[0m\u001b[0;34m\u001b[0m\u001b[0m\n\u001b[1;32m    584\u001b[0m           \u001b[0mop\u001b[0m\u001b[0;34m.\u001b[0m\u001b[0minputs\u001b[0m\u001b[0;34m[\u001b[0m\u001b[0;36m1\u001b[0m\u001b[0;34m]\u001b[0m\u001b[0;34m,\u001b[0m\u001b[0;34m\u001b[0m\u001b[0;34m\u001b[0m\u001b[0m\n",
            "\u001b[0;32m/usr/local/lib/python3.10/dist-packages/tensorflow/python/ops/gen_nn_ops.py\u001b[0m in \u001b[0;36mconv2d_backprop_input\u001b[0;34m(input_sizes, filter, out_backprop, strides, padding, use_cudnn_on_gpu, explicit_paddings, data_format, dilations, name)\u001b[0m\n\u001b[1;32m   1617\u001b[0m   \u001b[0;32mif\u001b[0m \u001b[0mtld\u001b[0m\u001b[0;34m.\u001b[0m\u001b[0mis_eager\u001b[0m\u001b[0;34m:\u001b[0m\u001b[0;34m\u001b[0m\u001b[0;34m\u001b[0m\u001b[0m\n\u001b[1;32m   1618\u001b[0m     \u001b[0;32mtry\u001b[0m\u001b[0;34m:\u001b[0m\u001b[0;34m\u001b[0m\u001b[0;34m\u001b[0m\u001b[0m\n\u001b[0;32m-> 1619\u001b[0;31m       _result = pywrap_tfe.TFE_Py_FastPathExecute(\n\u001b[0m\u001b[1;32m   1620\u001b[0m         \u001b[0m_ctx\u001b[0m\u001b[0;34m,\u001b[0m \u001b[0;34m\"Conv2DBackpropInput\"\u001b[0m\u001b[0;34m,\u001b[0m \u001b[0mname\u001b[0m\u001b[0;34m,\u001b[0m \u001b[0minput_sizes\u001b[0m\u001b[0;34m,\u001b[0m \u001b[0mfilter\u001b[0m\u001b[0;34m,\u001b[0m \u001b[0mout_backprop\u001b[0m\u001b[0;34m,\u001b[0m\u001b[0;34m\u001b[0m\u001b[0;34m\u001b[0m\u001b[0m\n\u001b[1;32m   1621\u001b[0m         \u001b[0;34m\"strides\"\u001b[0m\u001b[0;34m,\u001b[0m \u001b[0mstrides\u001b[0m\u001b[0;34m,\u001b[0m \u001b[0;34m\"use_cudnn_on_gpu\"\u001b[0m\u001b[0;34m,\u001b[0m \u001b[0muse_cudnn_on_gpu\u001b[0m\u001b[0;34m,\u001b[0m \u001b[0;34m\"padding\"\u001b[0m\u001b[0;34m,\u001b[0m\u001b[0;34m\u001b[0m\u001b[0;34m\u001b[0m\u001b[0m\n",
            "\u001b[0;31mKeyboardInterrupt\u001b[0m: "
          ]
        }
      ],
      "source": [
        "\n",
        "#@tf.function\n",
        "def train_step(target_audios):\n",
        "  real_spec = create_mel_spectrograms(target_audios,sr/reduction)\n",
        "\n",
        "  for i in range(2):\n",
        "\n",
        "      # Get the shape of the target_audios tensor\n",
        "      shape = tf.shape(target_audios)\n",
        "\n",
        "\n",
        "      # Generate noise using tf.random.normal()\n",
        "      noise = tf.random.normal((shape))\n",
        "      generated_audio = generator(noise, training=True)\n",
        "      fake_spec = create_mel_spectrograms(generated_audio,sr/reduction)\n",
        "      with tf.GradientTape() as disc_tape:\n",
        "\n",
        "          real_output = discriminator((target_audios,real_spec), training=True)\n",
        "          fake_output = discriminator((generated_audio,fake_spec), training=True)\n",
        "\n",
        "\n",
        "          gp = gradient_penalty(target_audios, generated_audio, discriminator)\n",
        "          disc_loss = discriminator_loss(real_output, fake_output, gp)\n",
        "\n",
        "      gradients_of_discriminator = disc_tape.gradient(disc_loss, discriminator.trainable_variables)\n",
        "      discriminator_optimizer.apply_gradients(zip(gradients_of_discriminator, discriminator.trainable_variables))\n",
        "      #clip_discriminator_weights(discriminator)\n",
        "\n",
        "      if i ==0:\n",
        "          weights = discriminator.get_weights()\n",
        "\n",
        "\n",
        "  with tf.GradientTape() as gen_tape:\n",
        "    noise = tf.random.normal(shape=(target_audios.shape))\n",
        "    generated_audio = generator(noise, training=True)\n",
        "    fake_spec = create_mel_spectrograms(generated_audio,sr/reduction)\n",
        "    fake_output = discriminator((generated_audio,fake_spec), training=True)\n",
        "    gen_loss = generator_loss(fake_output)\n",
        "\n",
        "  gradients_of_generator = gen_tape.gradient(gen_loss, generator.trainable_variables)\n",
        "  generator_optimizer.apply_gradients(zip(gradients_of_generator, generator.trainable_variables))\n",
        "\n",
        "  discriminator.set_weights(weights)\n",
        "\n",
        "\n",
        "  tf.print(\"disc_loss\",disc_loss,'gen_loss',gen_loss)\n",
        "\n",
        "\n",
        "def train(generator, discriminator\n",
        "          , epochs, batch_size):\n",
        "    for epoch in range(epochs):\n",
        "        for batch in range(len(y_train) // batch_size):\n",
        "            #images = x_train[batch * batch_size: (batch+1) * batch_size]\n",
        "            target_audios = y_train[batch * batch_size: (batch+1) * batch_size]\n",
        "\n",
        "            train_step(target_audios)\n",
        "\n",
        "        if (epoch + 1) % 5 == 0:\n",
        "            print(f\"Epoch {epoch+1}/{epochs}\")\n",
        "            test = generator.predict(noise)\n",
        "            audio_data = test.ravel()\n",
        "            # Play the audio within the Jupyter Notebook\n",
        "            Audio(data=audio_data, rate=sr/reduction)\n",
        "\n",
        "\n",
        "# Train the GAN\n",
        "EPOCHS = 2000000\n",
        "BATCH_SIZE = 10\n",
        "num_unrolling_steps = 20  # Set the desired number of unrolling steps\n",
        "train(generator, discriminator, EPOCHS, BATCH_SIZE)"
      ]
    },
    {
      "cell_type": "code",
      "execution_count": 21,
      "metadata": {
        "id": "mrmv1Zri-jjc",
        "colab": {
          "base_uri": "https://localhost:8080/",
          "height": 93
        },
        "outputId": "52e39452-5d7e-4aa2-a3aa-0cf2e9467bb2"
      },
      "outputs": [
        {
          "output_type": "stream",
          "name": "stdout",
          "text": [
            "1/1 [==============================] - 0s 320ms/step\n"
          ]
        },
        {
          "output_type": "execute_result",
          "data": {
            "text/plain": [
              "<IPython.lib.display.Audio object>"
            ],
            "text/html": [
              "\n",
              "                <audio  controls=\"controls\" >\n",
              "                    <source src=\"data:audio/wav;base64,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\" type=\"audio/wav\" />\n",
              "                    Your browser does not support the audio element.\n",
              "                </audio>\n",
              "              "
            ]
          },
          "metadata": {},
          "execution_count": 21
        }
      ],
      "source": [
        "test = generator.predict(noise)\n",
        "audio_data = test.ravel()\n",
        "# Play the audio within the Jupyter Notebook\n",
        "Audio(data=audio_data, rate=sr/reduction)"
      ]
    }
  ],
  "metadata": {
    "colab": {
      "name": "Overview of Colaboratory Features",
      "provenance": [],
      "include_colab_link": true
    },
    "kernelspec": {
      "display_name": "Python 3 (ipykernel)",
      "language": "python",
      "name": "python3"
    },
    "language_info": {
      "codemirror_mode": {
        "name": "ipython",
        "version": 3
      },
      "file_extension": ".py",
      "mimetype": "text/x-python",
      "name": "python",
      "nbconvert_exporter": "python",
      "pygments_lexer": "ipython3",
      "version": "3.8.10"
    }
  },
  "nbformat": 4,
  "nbformat_minor": 0
}