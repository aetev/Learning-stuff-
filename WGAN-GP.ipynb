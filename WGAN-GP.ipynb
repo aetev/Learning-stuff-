{
  "cells": [
    {
      "cell_type": "markdown",
      "metadata": {
        "id": "view-in-github",
        "colab_type": "text"
      },
      "source": [
        "<a href=\"https://colab.research.google.com/github/aetev/Learning-stuff-/blob/main/WGAN-GP.ipynb\" target=\"_parent\"><img src=\"https://colab.research.google.com/assets/colab-badge.svg\" alt=\"Open In Colab\"/></a>"
      ]
    },
    {
      "cell_type": "code",
      "execution_count": 1,
      "metadata": {
        "colab": {
          "base_uri": "https://localhost:8080/"
        },
        "id": "-g36b6KfZQeH",
        "outputId": "03984b48-fc78-4337-c88b-38309c0704f2"
      },
      "outputs": [
        {
          "output_type": "stream",
          "name": "stdout",
          "text": [
            "Requirement already satisfied: tensorflow_addons in /usr/local/lib/python3.10/dist-packages (0.21.0)\n",
            "Requirement already satisfied: packaging in /usr/local/lib/python3.10/dist-packages (from tensorflow_addons) (23.1)\n",
            "Requirement already satisfied: typeguard<3.0.0,>=2.7 in /usr/local/lib/python3.10/dist-packages (from tensorflow_addons) (2.13.3)\n",
            "Requirement already satisfied: librosa in /usr/local/lib/python3.10/dist-packages (0.10.0.post2)\n",
            "Requirement already satisfied: audioread>=2.1.9 in /usr/local/lib/python3.10/dist-packages (from librosa) (3.0.0)\n",
            "Requirement already satisfied: numpy!=1.22.0,!=1.22.1,!=1.22.2,>=1.20.3 in /usr/local/lib/python3.10/dist-packages (from librosa) (1.22.4)\n",
            "Requirement already satisfied: scipy>=1.2.0 in /usr/local/lib/python3.10/dist-packages (from librosa) (1.10.1)\n",
            "Requirement already satisfied: scikit-learn>=0.20.0 in /usr/local/lib/python3.10/dist-packages (from librosa) (1.2.2)\n",
            "Requirement already satisfied: joblib>=0.14 in /usr/local/lib/python3.10/dist-packages (from librosa) (1.3.1)\n",
            "Requirement already satisfied: decorator>=4.3.0 in /usr/local/lib/python3.10/dist-packages (from librosa) (4.4.2)\n",
            "Requirement already satisfied: numba>=0.51.0 in /usr/local/lib/python3.10/dist-packages (from librosa) (0.56.4)\n",
            "Requirement already satisfied: soundfile>=0.12.1 in /usr/local/lib/python3.10/dist-packages (from librosa) (0.12.1)\n",
            "Requirement already satisfied: pooch<1.7,>=1.0 in /usr/local/lib/python3.10/dist-packages (from librosa) (1.6.0)\n",
            "Requirement already satisfied: soxr>=0.3.2 in /usr/local/lib/python3.10/dist-packages (from librosa) (0.3.5)\n",
            "Requirement already satisfied: typing-extensions>=4.1.1 in /usr/local/lib/python3.10/dist-packages (from librosa) (4.7.1)\n",
            "Requirement already satisfied: lazy-loader>=0.1 in /usr/local/lib/python3.10/dist-packages (from librosa) (0.3)\n",
            "Requirement already satisfied: msgpack>=1.0 in /usr/local/lib/python3.10/dist-packages (from librosa) (1.0.5)\n",
            "Requirement already satisfied: llvmlite<0.40,>=0.39.0dev0 in /usr/local/lib/python3.10/dist-packages (from numba>=0.51.0->librosa) (0.39.1)\n",
            "Requirement already satisfied: setuptools in /usr/local/lib/python3.10/dist-packages (from numba>=0.51.0->librosa) (67.7.2)\n",
            "Requirement already satisfied: appdirs>=1.3.0 in /usr/local/lib/python3.10/dist-packages (from pooch<1.7,>=1.0->librosa) (1.4.4)\n",
            "Requirement already satisfied: packaging>=20.0 in /usr/local/lib/python3.10/dist-packages (from pooch<1.7,>=1.0->librosa) (23.1)\n",
            "Requirement already satisfied: requests>=2.19.0 in /usr/local/lib/python3.10/dist-packages (from pooch<1.7,>=1.0->librosa) (2.27.1)\n",
            "Requirement already satisfied: threadpoolctl>=2.0.0 in /usr/local/lib/python3.10/dist-packages (from scikit-learn>=0.20.0->librosa) (3.2.0)\n",
            "Requirement already satisfied: cffi>=1.0 in /usr/local/lib/python3.10/dist-packages (from soundfile>=0.12.1->librosa) (1.15.1)\n",
            "Requirement already satisfied: pycparser in /usr/local/lib/python3.10/dist-packages (from cffi>=1.0->soundfile>=0.12.1->librosa) (2.21)\n",
            "Requirement already satisfied: urllib3<1.27,>=1.21.1 in /usr/local/lib/python3.10/dist-packages (from requests>=2.19.0->pooch<1.7,>=1.0->librosa) (1.26.16)\n",
            "Requirement already satisfied: certifi>=2017.4.17 in /usr/local/lib/python3.10/dist-packages (from requests>=2.19.0->pooch<1.7,>=1.0->librosa) (2023.7.22)\n",
            "Requirement already satisfied: charset-normalizer~=2.0.0 in /usr/local/lib/python3.10/dist-packages (from requests>=2.19.0->pooch<1.7,>=1.0->librosa) (2.0.12)\n",
            "Requirement already satisfied: idna<4,>=2.5 in /usr/local/lib/python3.10/dist-packages (from requests>=2.19.0->pooch<1.7,>=1.0->librosa) (3.4)\n"
          ]
        }
      ],
      "source": [
        "!pip install tensorflow_addons\n",
        "#!pip install pydub\n",
        "!pip install librosa"
      ]
    },
    {
      "cell_type": "code",
      "source": [
        "from google.colab import drive\n",
        "drive.mount('/content/drive')"
      ],
      "metadata": {
        "id": "kq4KEMDwylHv",
        "outputId": "c561625f-4dfd-4d33-d481-5f6d3be071ae",
        "colab": {
          "base_uri": "https://localhost:8080/"
        }
      },
      "execution_count": null,
      "outputs": [
        {
          "output_type": "stream",
          "name": "stdout",
          "text": [
            "Drive already mounted at /content/drive; to attempt to forcibly remount, call drive.mount(\"/content/drive\", force_remount=True).\n"
          ]
        }
      ]
    },
    {
      "cell_type": "code",
      "execution_count": null,
      "metadata": {
        "colab": {
          "base_uri": "https://localhost:8080/"
        },
        "id": "-UiZf7YAawUu",
        "outputId": "88fca3e1-8c6b-48e4-d860-5736e327b4fa"
      },
      "outputs": [
        {
          "output_type": "stream",
          "name": "stderr",
          "text": [
            "/usr/local/lib/python3.10/dist-packages/tensorflow_addons/utils/tfa_eol_msg.py:23: UserWarning: \n",
            "\n",
            "TensorFlow Addons (TFA) has ended development and introduction of new features.\n",
            "TFA has entered a minimal maintenance and release mode until a planned end of life in May 2024.\n",
            "Please modify downstream libraries to take dependencies from other repositories in our TensorFlow community (e.g. Keras, Keras-CV, and Keras-NLP). \n",
            "\n",
            "For more information see: https://github.com/tensorflow/addons/issues/2807 \n",
            "\n",
            "  warnings.warn(\n"
          ]
        }
      ],
      "source": [
        "import tensorflow as tf\n",
        "from tensorflow.keras import layers\n",
        "import matplotlib.pyplot as plt\n",
        "import numpy as np\n",
        "import tensorflow_addons as tfa\n",
        "import os\n",
        "from IPython.display import Audio"
      ]
    },
    {
      "cell_type": "code",
      "execution_count": null,
      "metadata": {
        "id": "KZA4iSHlpHeW"
      },
      "outputs": [],
      "source": [
        "import librosa\n",
        "import numpy as np\n",
        "\n",
        "def downsample_array(arr, factor, axis):\n",
        "    return arr.take(np.arange(0, arr.shape[axis], factor), axis)\n",
        "\n",
        "def create_sliding_window(array, window_size, stride):\n",
        "    num_windows = (len(array) - window_size) // stride + 1\n",
        "    sliding_windows = np.lib.stride_tricks.sliding_window_view(array, (window_size,))\n",
        "\n",
        "    return sliding_windows[::stride]"
      ]
    },
    {
      "cell_type": "code",
      "execution_count": null,
      "metadata": {
        "id": "PwZorlMxq2Rx"
      },
      "outputs": [],
      "source": [
        "reduction = 12\n",
        "wav_file = '/content/drive/MyDrive/bass samples/NBKoanbandstuff.wav'\n",
        "audio, sr = librosa.load(wav_file, sr=None)\n",
        "audio_dev = np.std(audio)\n",
        "audio = audio/audio_dev\n",
        "result_array = create_sliding_window(audio,44100,100)\n",
        "result_array = np.expand_dims(result_array, axis=2)\n",
        "result_array = downsample_array(result_array,reduction,1)"
      ]
    },
    {
      "cell_type": "code",
      "execution_count": null,
      "metadata": {
        "colab": {
          "base_uri": "https://localhost:8080/",
          "height": 75
        },
        "id": "ZIzKgHj1sIvX",
        "outputId": "cfb075e1-4037-450e-a12a-66f34e7f1c44"
      },
      "outputs": [
        {
          "output_type": "execute_result",
          "data": {
            "text/plain": [
              "<IPython.lib.display.Audio object>"
            ],
            "text/html": [
              "\n",
              "                <audio  controls=\"controls\" >\n",
              "                    <source src=\"data:audio/wav;base64,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\" type=\"audio/wav\" />\n",
              "                    Your browser does not support the audio element.\n",
              "                </audio>\n",
              "              "
            ]
          },
          "metadata": {},
          "execution_count": 6
        }
      ],
      "source": [
        "\n",
        "\n",
        "audio_data = result_array[100].ravel()\n",
        "# Play the audio within the Jupyter Notebook\n",
        "Audio(data=audio_data, rate=sr/reduction)"
      ]
    },
    {
      "cell_type": "code",
      "execution_count": null,
      "metadata": {
        "colab": {
          "base_uri": "https://localhost:8080/"
        },
        "id": "3XZfCdyC7S_D",
        "outputId": "e5ac907d-e770-4c00-b945-b728bf89b812"
      },
      "outputs": [
        {
          "output_type": "stream",
          "name": "stdout",
          "text": [
            "(3675, 1)\n"
          ]
        }
      ],
      "source": [
        "#x_train = noise\n",
        "y_train = result_array\n",
        "print(y_train[0].shape)"
      ]
    },
    {
      "cell_type": "code",
      "execution_count": null,
      "metadata": {
        "id": "MUFnmA-82FDv"
      },
      "outputs": [],
      "source": [
        "class ResNetBlock(layers.Layer):\n",
        "    def __init__(self, filters,kernel_size=3, strides=1,dilation_rate=1):\n",
        "        super(ResNetBlock, self).__init__()\n",
        "        self.conv1 = layers.Conv1D(filters, kernel_size, strides=strides,dilation_rate=dilation_rate, padding='same')\n",
        "        self.bn1 = layers.BatchNormalization()\n",
        "        self.conv2 = layers.Conv1D(filters, kernel_size, padding='same')\n",
        "        self.bn2 = layers.BatchNormalization()\n",
        "\n",
        "        if strides != 1:\n",
        "            self.residual = layers.Conv1D(filters, 1, strides=strides)\n",
        "        else:\n",
        "            self.residual = lambda x: x\n",
        "\n",
        "    def call(self, inputs, training=False):\n",
        "        x = self.conv1(inputs)\n",
        "        x = self.bn1(x, training=training)\n",
        "        x = tf.nn.relu(x)\n",
        "        x = self.conv2(x)\n",
        "        x = self.bn2(x, training=training)\n",
        "\n",
        "        r = self.residual(inputs)\n",
        "\n",
        "        x += r\n",
        "        return tf.nn.relu(x)"
      ]
    },
    {
      "cell_type": "code",
      "source": [
        "class ResNetBlockup(layers.Layer):\n",
        "    def __init__(self, filters, kernel_size=3, strides=1, dilation_rate=1):\n",
        "        super(ResNetBlockup, self).__init__()\n",
        "        self.conv1 = layers.Conv1DTranspose(filters, kernel_size, strides=strides, dilation_rate=dilation_rate, padding='same')\n",
        "        self.bn1 = layers.BatchNormalization()\n",
        "        self.conv2 = layers.Conv1DTranspose(filters, kernel_size, padding='same')\n",
        "        self.bn2 = layers.BatchNormalization()\n",
        "\n",
        "        if strides != 1:\n",
        "            self.residual = layers.Conv1DTranspose(filters, 1, strides=strides)\n",
        "        else:\n",
        "            self.residual = lambda x: x\n",
        "\n",
        "    def call(self, inputs, training=False):\n",
        "        x = self.conv1(inputs)\n",
        "        x = self.bn1(x, training=training)\n",
        "        x = tf.nn.relu(x)\n",
        "        x = self.conv2(x)\n",
        "        x = self.bn2(x, training=training)\n",
        "\n",
        "        r = self.residual(inputs)\n",
        "\n",
        "        x += r\n",
        "        return tf.nn.relu(x)"
      ],
      "metadata": {
        "id": "qBopciVs0FBC"
      },
      "execution_count": null,
      "outputs": []
    },
    {
      "cell_type": "code",
      "execution_count": null,
      "metadata": {
        "colab": {
          "base_uri": "https://localhost:8080/"
        },
        "id": "Gh2ORgUybdzt",
        "outputId": "b3c88a15-7f48-47f8-ba8e-13f2372a84aa"
      },
      "outputs": [
        {
          "output_type": "stream",
          "name": "stdout",
          "text": [
            "Model: \"model\"\n",
            "_________________________________________________________________\n",
            " Layer (type)                Output Shape              Param #   \n",
            "=================================================================\n",
            " input_1 (InputLayer)        [(None, None, 1)]         0         \n",
            "                                                                 \n",
            " batch_normalization (BatchN  (None, None, 1)          4         \n",
            " ormalization)                                                   \n",
            "                                                                 \n",
            " res_net_block (ResNetBlock)  (None, None, 64)         17280     \n",
            "                                                                 \n",
            " dropout (Dropout)           (None, None, 64)          0         \n",
            "                                                                 \n",
            " res_net_block_1 (ResNetBloc  (None, None, 64)         33408     \n",
            " k)                                                              \n",
            "                                                                 \n",
            " res_net_block_2 (ResNetBloc  (None, None, 64)         33408     \n",
            " k)                                                              \n",
            "                                                                 \n",
            " dropout_1 (Dropout)         (None, None, 64)          0         \n",
            "                                                                 \n",
            " res_net_block_3 (ResNetBloc  (None, None, 64)         33408     \n",
            " k)                                                              \n",
            "                                                                 \n",
            " dropout_2 (Dropout)         (None, None, 64)          0         \n",
            "                                                                 \n",
            " res_net_block_4 (ResNetBloc  (None, None, 64)         33408     \n",
            " k)                                                              \n",
            "                                                                 \n",
            " dropout_3 (Dropout)         (None, None, 64)          0         \n",
            "                                                                 \n",
            " res_net_block_5 (ResNetBloc  (None, None, 64)         33408     \n",
            " k)                                                              \n",
            "                                                                 \n",
            " dropout_4 (Dropout)         (None, None, 64)          0         \n",
            "                                                                 \n",
            " global_average_pooling1d (G  (None, 64)               0         \n",
            " lobalAveragePooling1D)                                          \n",
            "                                                                 \n",
            " dense_1 (Dense)             (None, 1)                 65        \n",
            "                                                                 \n",
            "=================================================================\n",
            "Total params: 184,389\n",
            "Trainable params: 182,851\n",
            "Non-trainable params: 1,538\n",
            "_________________________________________________________________\n"
          ]
        }
      ],
      "source": [
        "def build_discriminator():\n",
        "    input_series = layers.Input(shape=(None,1))\n",
        "\n",
        "    x = layers.BatchNormalization()(input_series)\n",
        "\n",
        "    # Convolutional layers\n",
        "    x = ResNetBlock(64,4,1,1)(x)\n",
        "    x = layers.Dropout(0.2)(x)\n",
        "\n",
        "    x = ResNetBlock(64,4,1,2)(x)\n",
        "\n",
        "\n",
        "    x = ResNetBlock(64,4,1,4)(x)\n",
        "    x = layers.Dropout(0.2)(x)\n",
        "\n",
        "    x = ResNetBlock(64,4,1,8)(x)\n",
        "    x = layers.Dropout(0.2)(x)\n",
        "\n",
        "    x = ResNetBlock(64,4,1,12)(x)\n",
        "    x = layers.Dropout(0.2)(x)\n",
        "\n",
        "    x = ResNetBlock(64,4,1,24)(x)\n",
        "    x = layers.Dropout(0.2)(x)\n",
        "\n",
        "\n",
        "\n",
        "    # Global pooling\n",
        "    pooled_output = layers.GlobalAveragePooling1D()(x)\n",
        "\n",
        "    # Dense layer\n",
        "    dense_output = layers.Dense(64, activation='relu')(pooled_output)\n",
        "\n",
        "    # Dense layer\n",
        "    dense_output = layers.Dense(1, activation='linear')(pooled_output)\n",
        "\n",
        "    model = tf.keras.models.Model(inputs=input_series, outputs=dense_output)\n",
        "    return model\n",
        "\n",
        "discriminator = build_discriminator()\n",
        "discriminator.summary()\n"
      ]
    },
    {
      "cell_type": "code",
      "execution_count": null,
      "metadata": {
        "colab": {
          "base_uri": "https://localhost:8080/"
        },
        "id": "8q_-l7f8eC-i",
        "outputId": "999bad35-ec0a-4714-cc8e-10454b73b946"
      },
      "outputs": [
        {
          "output_type": "stream",
          "name": "stdout",
          "text": [
            "Model: \"model_1\"\n",
            "_________________________________________________________________\n",
            " Layer (type)                Output Shape              Param #   \n",
            "=================================================================\n",
            " input_2 (InputLayer)        [(None, None, 1)]         0         \n",
            "                                                                 \n",
            " batch_normalization_13 (Bat  (None, None, 1)          4         \n",
            " chNormalization)                                                \n",
            "                                                                 \n",
            " res_net_block_6 (ResNetBloc  (None, None, 64)         17280     \n",
            " k)                                                              \n",
            "                                                                 \n",
            " res_net_block_7 (ResNetBloc  (None, None, 64)         33408     \n",
            " k)                                                              \n",
            "                                                                 \n",
            " res_net_block_8 (ResNetBloc  (None, None, 64)         33408     \n",
            " k)                                                              \n",
            "                                                                 \n",
            " res_net_block_9 (ResNetBloc  (None, None, 64)         33408     \n",
            " k)                                                              \n",
            "                                                                 \n",
            " res_net_block_10 (ResNetBlo  (None, None, 64)         33408     \n",
            " ck)                                                             \n",
            "                                                                 \n",
            " res_net_block_11 (ResNetBlo  (None, None, 64)         33408     \n",
            " ck)                                                             \n",
            "                                                                 \n",
            " conv1d_24 (Conv1D)          (None, None, 1)           65        \n",
            "                                                                 \n",
            "=================================================================\n",
            "Total params: 184,389\n",
            "Trainable params: 182,851\n",
            "Non-trainable params: 1,538\n",
            "_________________________________________________________________\n"
          ]
        }
      ],
      "source": [
        "def build_generator():\n",
        "    input_series = layers.Input(shape=(None,1))\n",
        "\n",
        "    x = layers.BatchNormalization()(input_series)\n",
        "\n",
        "    x = ResNetBlock(64,4,strides=1,dilation_rate=1)(x)\n",
        "\n",
        "    x = ResNetBlock(64,4,strides=1,dilation_rate=2)(x)\n",
        "\n",
        "    x = ResNetBlock(64,4,strides=1,dilation_rate=4)(x)\n",
        "\n",
        "    x = ResNetBlock(64,4,strides=1,dilation_rate=6)(x)\n",
        "\n",
        "    x = ResNetBlock(64,4,strides=1,dilation_rate=12)(x)\n",
        "\n",
        "    x = ResNetBlock(64,4,strides=1,dilation_rate=24)(x)\n",
        "\n",
        "    x = layers.Conv1D(1,1)(x)\n",
        "\n",
        "\n",
        "\n",
        "    model = tf.keras.models.Model(inputs=input_series, outputs=x)\n",
        "    return model\n",
        "\n",
        "generator = build_generator()\n",
        "generator.summary()\n"
      ]
    },
    {
      "cell_type": "code",
      "execution_count": null,
      "metadata": {
        "id": "aFFOfuDfbpD9"
      },
      "outputs": [],
      "source": [
        "# Compile models\n",
        "generator_optimizer = tf.keras.optimizers.Adam(0.0004)\n",
        "discriminator_optimizer = tf.keras.optimizers.Adam(0.0004)\n",
        "\n",
        "#generator_optimizer = tf.keras.optimizers.experimental.SGD(1e-4)\n",
        "#discriminator_optimizer = tf.keras.optimizers.experimental.SGD(1e-4)"
      ]
    },
    {
      "cell_type": "code",
      "source": [
        "def gradient_penalty(real, fake, discriminator):\n",
        "    batch_size = real.shape[0]\n",
        "    epsilon = tf.random.uniform([batch_size, 1, 1], 0.0, 1.0)\n",
        "    interpolated = epsilon * real + (1 - epsilon) * fake\n",
        "\n",
        "    with tf.GradientTape() as tape:\n",
        "        tape.watch(interpolated)\n",
        "        pred = discriminator(interpolated, training=True)\n",
        "\n",
        "    gradients = tape.gradient(pred, [interpolated])[0]\n",
        "    norm = tf.sqrt(tf.reduce_sum(tf.square(gradients), axis=[1, 2]))\n",
        "    gp = tf.reduce_mean((norm - 1.0) ** 2)\n",
        "\n",
        "    return gp"
      ],
      "metadata": {
        "id": "DpBCjazdvotg"
      },
      "execution_count": null,
      "outputs": []
    },
    {
      "cell_type": "code",
      "execution_count": null,
      "metadata": {
        "id": "T3PtShxlbn9c"
      },
      "outputs": [],
      "source": [
        "def discriminator_loss(real_output, fake_output, gradient_penalty):\n",
        "    return tf.reduce_mean(fake_output) - tf.reduce_mean(real_output) + gradient_penalty\n",
        "\n",
        "def generator_loss(fake_output):\n",
        "    return -tf.reduce_mean(fake_output)\n",
        "\n"
      ]
    },
    {
      "cell_type": "code",
      "source": [
        "def clip_discriminator_weights(discriminator):\n",
        "    for l in discriminator.layers:\n",
        "        weights = l.get_weights()\n",
        "        weights = [tf.clip_by_value(w, -0.01, 0.01) for w in weights]\n",
        "        l.set_weights(weights)"
      ],
      "metadata": {
        "id": "a8RtXmHLZHWu"
      },
      "execution_count": null,
      "outputs": []
    },
    {
      "cell_type": "code",
      "execution_count": null,
      "metadata": {
        "id": "vAoSvqXLsQHq"
      },
      "outputs": [],
      "source": [
        "def print_img(generator_model):\n",
        "    # Generate and save sample images\n",
        "    noise = tf.random.normal([10, 100])\n",
        "    sampled_labels = tf.constant([[i % 10] for i in range(10)], dtype=tf.int32)\n",
        "    generated_images = generator_model.predict([noise, sampled_labels])\n",
        "    fig, axs = plt.subplots(1, 10, figsize=(10, 10))\n",
        "    for i in range(10):\n",
        "        axs[i].imshow(generated_images[i], cmap=\"gray\")\n",
        "        axs[i].axis(\"off\")\n",
        "    plt.show()"
      ]
    },
    {
      "cell_type": "code",
      "execution_count": null,
      "metadata": {
        "colab": {
          "base_uri": "https://localhost:8080/"
        },
        "id": "PAqGbZU0Z5yl",
        "outputId": "e0d5d88e-72db-48df-9c5f-d299dd423187"
      },
      "outputs": [
        {
          "output_type": "stream",
          "name": "stdout",
          "text": [
            "1/1 [==============================] - 1s 1s/step\n",
            "(1, 10000, 1)\n"
          ]
        }
      ],
      "source": [
        "noise = tf.random.normal(shape=(1,10000,1))\n",
        "\n",
        "test = generator.predict(noise)\n",
        "print(test.shape)"
      ]
    },
    {
      "cell_type": "code",
      "execution_count": null,
      "metadata": {
        "id": "wp5mnkMVVgPV",
        "outputId": "bdd629cb-03a7-462b-ff31-3239aaa226cc",
        "colab": {
          "base_uri": "https://localhost:8080/",
          "height": 1000
        }
      },
      "outputs": [
        {
          "output_type": "stream",
          "name": "stdout",
          "text": [
            "disc_loss 0.484564185 gen_loss -0.471388817\n",
            "disc_loss 0.148690462 gen_loss -0.726761937\n",
            "disc_loss -0.0074070096 gen_loss -0.952836692\n",
            "disc_loss -0.118462086 gen_loss -1.30932975\n",
            "disc_loss -0.0877890587 gen_loss -1.69683862\n",
            "disc_loss -0.184310317 gen_loss -1.97225308\n",
            "disc_loss -0.107052982 gen_loss -2.16077805\n",
            "disc_loss -0.23757112 gen_loss -2.29412985\n",
            "disc_loss -0.218940973 gen_loss -2.48343921\n",
            "disc_loss -0.493789554 gen_loss -2.4641366\n",
            "disc_loss -0.582155943 gen_loss -2.44511199\n",
            "disc_loss -0.801891923 gen_loss -2.36041\n",
            "disc_loss -1.10971749 gen_loss -2.2431705\n",
            "disc_loss -1.236238 gen_loss -2.38271976\n",
            "disc_loss -1.39141726 gen_loss -2.299299\n",
            "disc_loss -1.54254031 gen_loss -2.31800795\n",
            "disc_loss -1.71450353 gen_loss -2.30476499\n",
            "disc_loss -1.86034942 gen_loss -2.44656301\n",
            "disc_loss -2.02116513 gen_loss -2.44130826\n",
            "disc_loss -2.07382321 gen_loss -2.32121658\n",
            "disc_loss -2.10767174 gen_loss -2.63949013\n",
            "disc_loss -2.20857906 gen_loss -2.63222384\n",
            "disc_loss -2.14267349 gen_loss -2.80276537\n",
            "disc_loss -2.25339 gen_loss -2.95180082\n",
            "disc_loss -2.28730822 gen_loss -3.07453275\n",
            "disc_loss -2.21887565 gen_loss -3.30231476\n",
            "disc_loss -2.44420385 gen_loss -3.34084702\n",
            "disc_loss -2.2444644 gen_loss -3.44838452\n",
            "disc_loss -2.4647491 gen_loss -3.67155194\n",
            "disc_loss -2.34566736 gen_loss -3.47680044\n",
            "disc_loss -2.42484283 gen_loss -3.50228953\n",
            "disc_loss -2.4487493 gen_loss -3.45007849\n",
            "disc_loss -2.46769476 gen_loss -3.31676531\n",
            "disc_loss -2.42134571 gen_loss -3.1341188\n",
            "disc_loss -2.67502356 gen_loss -3.14602232\n",
            "disc_loss -2.40599632 gen_loss -2.77044678\n",
            "disc_loss -2.37314844 gen_loss -2.98517\n",
            "disc_loss -2.3438158 gen_loss -2.83790898\n",
            "disc_loss -2.22221422 gen_loss -2.71970773\n",
            "disc_loss -2.53071976 gen_loss -2.72006416\n",
            "disc_loss -2.70860767 gen_loss -1.9758774\n",
            "disc_loss -2.51198435 gen_loss -3.27975321\n",
            "disc_loss -2.72306871 gen_loss -1.04992318\n",
            "disc_loss -1.94059753 gen_loss -2.17134881\n",
            "disc_loss -1.41362596 gen_loss -6.07637167\n",
            "disc_loss -0.944677711 gen_loss -5.86408186\n",
            "disc_loss -1.0410701 gen_loss -4.65840435\n",
            "disc_loss -2.00494862 gen_loss -1.78886628\n",
            "disc_loss -1.41859007 gen_loss -1.0431329\n",
            "disc_loss -2.81606388 gen_loss -3.35481453\n",
            "disc_loss -2.85894 gen_loss -4.59162807\n",
            "disc_loss -3.36182451 gen_loss -2.35731983\n",
            "disc_loss -3.33392715 gen_loss -0.995020092\n",
            "disc_loss -3.49842954 gen_loss -2.04265285\n",
            "disc_loss -3.57419634 gen_loss -3.76888156\n",
            "disc_loss -3.66513538 gen_loss -1.57418191\n",
            "disc_loss -2.6087842 gen_loss -1.80825305\n",
            "disc_loss -3.27053618 gen_loss -4.78720808\n",
            "disc_loss -2.79047179 gen_loss -4.01678658\n",
            "disc_loss -2.83017492 gen_loss -2.89800215\n",
            "disc_loss -2.42133307 gen_loss -2.7173245\n",
            "disc_loss -2.08972573 gen_loss -3.96754193\n",
            "disc_loss -2.04330468 gen_loss -4.33628607\n",
            "disc_loss -2.17014265 gen_loss -4.35847378\n",
            "disc_loss -2.2040596 gen_loss -3.7325902\n",
            "disc_loss -2.58032751 gen_loss -2.70813322\n",
            "disc_loss -3.12202358 gen_loss -2.11779261\n",
            "disc_loss -3.31464958 gen_loss -1.94252968\n",
            "disc_loss -3.55176926 gen_loss -1.96483779\n",
            "disc_loss -3.77656031 gen_loss -1.57038271\n",
            "disc_loss -4.35184765 gen_loss -0.989198089\n",
            "disc_loss -4.43541813 gen_loss -0.569447219\n",
            "disc_loss -4.84371376 gen_loss -0.491918176\n",
            "disc_loss -5.00177574 gen_loss 0.108501747\n",
            "disc_loss -5.4814024 gen_loss 0.166546792\n",
            "disc_loss -5.64221621 gen_loss 0.513237298\n",
            "disc_loss -5.8298645 gen_loss 0.0521845333\n",
            "disc_loss -5.80995846 gen_loss 0.706896305\n",
            "disc_loss -5.71985579 gen_loss 0.464964867\n",
            "disc_loss -5.78205681 gen_loss 0.825600624\n",
            "disc_loss -5.57362 gen_loss 0.59451884\n",
            "disc_loss -4.7113328 gen_loss 1.24142945\n",
            "disc_loss -5.24931669 gen_loss -0.769428134\n",
            "disc_loss -5.58106804 gen_loss 0.965777099\n",
            "disc_loss -5.44364357 gen_loss 1.02316928\n",
            "disc_loss -5.55068207 gen_loss 0.529296339\n",
            "disc_loss -5.94091845 gen_loss 1.05810475\n",
            "disc_loss -6.41843462 gen_loss 1.33784044\n",
            "disc_loss -6.62919235 gen_loss 1.44081652\n",
            "disc_loss -7.15942717 gen_loss 1.52069354\n",
            "disc_loss -7.50852919 gen_loss 1.81611121\n",
            "disc_loss -8.03763 gen_loss 2.0550971\n",
            "disc_loss -8.53806686 gen_loss 2.22022581\n",
            "disc_loss -8.73145294 gen_loss 2.24832749\n",
            "disc_loss -9.11857891 gen_loss 2.43246579\n",
            "disc_loss -9.37404346 gen_loss 2.50685596\n",
            "disc_loss -9.64217472 gen_loss 2.66001\n",
            "disc_loss -9.88733768 gen_loss 2.70827389\n",
            "disc_loss -10.0015917 gen_loss 2.68225241\n",
            "disc_loss -10.0428991 gen_loss 2.80210948\n",
            "disc_loss -10.2304964 gen_loss 2.96638298\n",
            "disc_loss -10.1958313 gen_loss 3.03255844\n",
            "disc_loss -9.92560768 gen_loss 3.17957377\n",
            "disc_loss -9.99251556 gen_loss 3.12927914\n",
            "disc_loss -10.0581226 gen_loss 3.00466609\n",
            "disc_loss -10.0305901 gen_loss 2.98409581\n",
            "disc_loss -9.77404 gen_loss 2.95721745\n",
            "disc_loss -9.60040855 gen_loss 2.89048505\n",
            "disc_loss -9.32483482 gen_loss 3.00785828\n",
            "disc_loss -9.41542721 gen_loss 2.76287222\n",
            "disc_loss -8.8502512 gen_loss 2.70312023\n",
            "disc_loss -8.3072443 gen_loss 2.69307375\n",
            "disc_loss -7.88889551 gen_loss 2.00747871\n",
            "disc_loss -7.10715866 gen_loss 3.11485052\n",
            "disc_loss -8.27155685 gen_loss 0.554143608\n",
            "disc_loss -7.17434835 gen_loss 2.12717\n",
            "disc_loss -4.4487977 gen_loss 2.88115931\n",
            "disc_loss -5.30419827 gen_loss -1.98709607\n",
            "disc_loss -2.99175 gen_loss -3.96373558\n",
            "disc_loss -2.00068736 gen_loss -2.07468295\n",
            "disc_loss -2.03275704 gen_loss 0.0418307558\n",
            "disc_loss -2.79609942 gen_loss 0.99289608\n",
            "disc_loss -3.1384325 gen_loss 0.499100119\n",
            "disc_loss -4.41443539 gen_loss -0.237050265\n",
            "disc_loss -5.75690937 gen_loss -0.118687674\n",
            "disc_loss -6.8822422 gen_loss 0.686929882\n",
            "disc_loss -7.9276638 gen_loss 1.51151443\n",
            "disc_loss -8.77707 gen_loss 2.23645449\n",
            "disc_loss -9.48304749 gen_loss 2.76179099\n",
            "disc_loss -9.85930634 gen_loss 2.85698366\n",
            "disc_loss -10.4120502 gen_loss 2.829813\n",
            "disc_loss -10.958621 gen_loss 3.00248504\n",
            "disc_loss -11.2629833 gen_loss 3.24282956\n",
            "disc_loss -11.585144 gen_loss 3.3822453\n"
          ]
        },
        {
          "output_type": "error",
          "ename": "KeyboardInterrupt",
          "evalue": "ignored",
          "traceback": [
            "\u001b[0;31m---------------------------------------------------------------------------\u001b[0m",
            "\u001b[0;31mKeyboardInterrupt\u001b[0m                         Traceback (most recent call last)",
            "\u001b[0;32m<ipython-input-18-f854c3fec48d>\u001b[0m in \u001b[0;36m<cell line: 65>\u001b[0;34m()\u001b[0m\n\u001b[1;32m     63\u001b[0m \u001b[0mBATCH_SIZE\u001b[0m \u001b[0;34m=\u001b[0m \u001b[0;36m10\u001b[0m\u001b[0;34m\u001b[0m\u001b[0;34m\u001b[0m\u001b[0m\n\u001b[1;32m     64\u001b[0m \u001b[0mnum_unrolling_steps\u001b[0m \u001b[0;34m=\u001b[0m \u001b[0;36m20\u001b[0m  \u001b[0;31m# Set the desired number of unrolling steps\u001b[0m\u001b[0;34m\u001b[0m\u001b[0;34m\u001b[0m\u001b[0m\n\u001b[0;32m---> 65\u001b[0;31m \u001b[0mtrain\u001b[0m\u001b[0;34m(\u001b[0m\u001b[0mgenerator\u001b[0m\u001b[0;34m,\u001b[0m \u001b[0mdiscriminator\u001b[0m\u001b[0;34m,\u001b[0m \u001b[0mEPOCHS\u001b[0m\u001b[0;34m,\u001b[0m \u001b[0mBATCH_SIZE\u001b[0m\u001b[0;34m)\u001b[0m\u001b[0;34m\u001b[0m\u001b[0;34m\u001b[0m\u001b[0m\n\u001b[0m",
            "\u001b[0;32m<ipython-input-18-f854c3fec48d>\u001b[0m in \u001b[0;36mtrain\u001b[0;34m(generator, discriminator, epochs, batch_size)\u001b[0m\n\u001b[1;32m     49\u001b[0m             \u001b[0mtarget_audios\u001b[0m \u001b[0;34m=\u001b[0m \u001b[0my_train\u001b[0m\u001b[0;34m[\u001b[0m\u001b[0mbatch\u001b[0m \u001b[0;34m*\u001b[0m \u001b[0mbatch_size\u001b[0m\u001b[0;34m:\u001b[0m \u001b[0;34m(\u001b[0m\u001b[0mbatch\u001b[0m\u001b[0;34m+\u001b[0m\u001b[0;36m1\u001b[0m\u001b[0;34m)\u001b[0m \u001b[0;34m*\u001b[0m \u001b[0mbatch_size\u001b[0m\u001b[0;34m]\u001b[0m\u001b[0;34m\u001b[0m\u001b[0;34m\u001b[0m\u001b[0m\n\u001b[1;32m     50\u001b[0m \u001b[0;34m\u001b[0m\u001b[0m\n\u001b[0;32m---> 51\u001b[0;31m             \u001b[0mtrain_step\u001b[0m\u001b[0;34m(\u001b[0m\u001b[0mtarget_audios\u001b[0m\u001b[0;34m)\u001b[0m\u001b[0;34m\u001b[0m\u001b[0;34m\u001b[0m\u001b[0m\n\u001b[0m\u001b[1;32m     52\u001b[0m \u001b[0;34m\u001b[0m\u001b[0m\n\u001b[1;32m     53\u001b[0m         \u001b[0;32mif\u001b[0m \u001b[0;34m(\u001b[0m\u001b[0mepoch\u001b[0m \u001b[0;34m+\u001b[0m \u001b[0;36m1\u001b[0m\u001b[0;34m)\u001b[0m \u001b[0;34m%\u001b[0m \u001b[0;36m5\u001b[0m \u001b[0;34m==\u001b[0m \u001b[0;36m0\u001b[0m\u001b[0;34m:\u001b[0m\u001b[0;34m\u001b[0m\u001b[0;34m\u001b[0m\u001b[0m\n",
            "\u001b[0;32m<ipython-input-18-f854c3fec48d>\u001b[0m in \u001b[0;36mtrain_step\u001b[0;34m(target_audios)\u001b[0m\n\u001b[1;32m     19\u001b[0m           \u001b[0mdisc_loss\u001b[0m \u001b[0;34m=\u001b[0m \u001b[0mdiscriminator_loss\u001b[0m\u001b[0;34m(\u001b[0m\u001b[0mreal_output\u001b[0m\u001b[0;34m,\u001b[0m \u001b[0mfake_output\u001b[0m\u001b[0;34m,\u001b[0m \u001b[0mgp\u001b[0m\u001b[0;34m)\u001b[0m\u001b[0;34m\u001b[0m\u001b[0;34m\u001b[0m\u001b[0m\n\u001b[1;32m     20\u001b[0m \u001b[0;34m\u001b[0m\u001b[0m\n\u001b[0;32m---> 21\u001b[0;31m       \u001b[0mgradients_of_discriminator\u001b[0m \u001b[0;34m=\u001b[0m \u001b[0mdisc_tape\u001b[0m\u001b[0;34m.\u001b[0m\u001b[0mgradient\u001b[0m\u001b[0;34m(\u001b[0m\u001b[0mdisc_loss\u001b[0m\u001b[0;34m,\u001b[0m \u001b[0mdiscriminator\u001b[0m\u001b[0;34m.\u001b[0m\u001b[0mtrainable_variables\u001b[0m\u001b[0;34m)\u001b[0m\u001b[0;34m\u001b[0m\u001b[0;34m\u001b[0m\u001b[0m\n\u001b[0m\u001b[1;32m     22\u001b[0m       \u001b[0mdiscriminator_optimizer\u001b[0m\u001b[0;34m.\u001b[0m\u001b[0mapply_gradients\u001b[0m\u001b[0;34m(\u001b[0m\u001b[0mzip\u001b[0m\u001b[0;34m(\u001b[0m\u001b[0mgradients_of_discriminator\u001b[0m\u001b[0;34m,\u001b[0m \u001b[0mdiscriminator\u001b[0m\u001b[0;34m.\u001b[0m\u001b[0mtrainable_variables\u001b[0m\u001b[0;34m)\u001b[0m\u001b[0;34m)\u001b[0m\u001b[0;34m\u001b[0m\u001b[0;34m\u001b[0m\u001b[0m\n\u001b[1;32m     23\u001b[0m       \u001b[0;31m#clip_discriminator_weights(discriminator)\u001b[0m\u001b[0;34m\u001b[0m\u001b[0;34m\u001b[0m\u001b[0m\n",
            "\u001b[0;32m/usr/local/lib/python3.10/dist-packages/tensorflow/python/eager/backprop.py\u001b[0m in \u001b[0;36mgradient\u001b[0;34m(self, target, sources, output_gradients, unconnected_gradients)\u001b[0m\n\u001b[1;32m   1061\u001b[0m                           for x in output_gradients]\n\u001b[1;32m   1062\u001b[0m \u001b[0;34m\u001b[0m\u001b[0m\n\u001b[0;32m-> 1063\u001b[0;31m     flat_grad = imperative_grad.imperative_grad(\n\u001b[0m\u001b[1;32m   1064\u001b[0m         \u001b[0mself\u001b[0m\u001b[0;34m.\u001b[0m\u001b[0m_tape\u001b[0m\u001b[0;34m,\u001b[0m\u001b[0;34m\u001b[0m\u001b[0;34m\u001b[0m\u001b[0m\n\u001b[1;32m   1065\u001b[0m         \u001b[0mflat_targets\u001b[0m\u001b[0;34m,\u001b[0m\u001b[0;34m\u001b[0m\u001b[0;34m\u001b[0m\u001b[0m\n",
            "\u001b[0;32m/usr/local/lib/python3.10/dist-packages/tensorflow/python/eager/imperative_grad.py\u001b[0m in \u001b[0;36mimperative_grad\u001b[0;34m(tape, target, sources, output_gradients, sources_raw, unconnected_gradients)\u001b[0m\n\u001b[1;32m     65\u001b[0m         \"Unknown value for unconnected_gradients: %r\" % unconnected_gradients)\n\u001b[1;32m     66\u001b[0m \u001b[0;34m\u001b[0m\u001b[0m\n\u001b[0;32m---> 67\u001b[0;31m   return pywrap_tfe.TFE_Py_TapeGradient(\n\u001b[0m\u001b[1;32m     68\u001b[0m       \u001b[0mtape\u001b[0m\u001b[0;34m.\u001b[0m\u001b[0m_tape\u001b[0m\u001b[0;34m,\u001b[0m  \u001b[0;31m# pylint: disable=protected-access\u001b[0m\u001b[0;34m\u001b[0m\u001b[0;34m\u001b[0m\u001b[0m\n\u001b[1;32m     69\u001b[0m       \u001b[0mtarget\u001b[0m\u001b[0;34m,\u001b[0m\u001b[0;34m\u001b[0m\u001b[0;34m\u001b[0m\u001b[0m\n",
            "\u001b[0;32m/usr/local/lib/python3.10/dist-packages/tensorflow/python/eager/backprop.py\u001b[0m in \u001b[0;36m_gradient_function\u001b[0;34m(op_name, attr_tuple, num_inputs, inputs, outputs, out_grads, skip_input_indices, forward_pass_name_scope)\u001b[0m\n\u001b[1;32m    144\u001b[0m       \u001b[0mgradient_name_scope\u001b[0m \u001b[0;34m+=\u001b[0m \u001b[0mforward_pass_name_scope\u001b[0m \u001b[0;34m+\u001b[0m \u001b[0;34m\"/\"\u001b[0m\u001b[0;34m\u001b[0m\u001b[0;34m\u001b[0m\u001b[0m\n\u001b[1;32m    145\u001b[0m     \u001b[0;32mwith\u001b[0m \u001b[0mops\u001b[0m\u001b[0;34m.\u001b[0m\u001b[0mname_scope\u001b[0m\u001b[0;34m(\u001b[0m\u001b[0mgradient_name_scope\u001b[0m\u001b[0;34m)\u001b[0m\u001b[0;34m:\u001b[0m\u001b[0;34m\u001b[0m\u001b[0;34m\u001b[0m\u001b[0m\n\u001b[0;32m--> 146\u001b[0;31m       \u001b[0;32mreturn\u001b[0m \u001b[0mgrad_fn\u001b[0m\u001b[0;34m(\u001b[0m\u001b[0mmock_op\u001b[0m\u001b[0;34m,\u001b[0m \u001b[0;34m*\u001b[0m\u001b[0mout_grads\u001b[0m\u001b[0;34m)\u001b[0m\u001b[0;34m\u001b[0m\u001b[0;34m\u001b[0m\u001b[0m\n\u001b[0m\u001b[1;32m    147\u001b[0m   \u001b[0;32melse\u001b[0m\u001b[0;34m:\u001b[0m\u001b[0;34m\u001b[0m\u001b[0;34m\u001b[0m\u001b[0m\n\u001b[1;32m    148\u001b[0m     \u001b[0;32mreturn\u001b[0m \u001b[0mgrad_fn\u001b[0m\u001b[0;34m(\u001b[0m\u001b[0mmock_op\u001b[0m\u001b[0;34m,\u001b[0m \u001b[0;34m*\u001b[0m\u001b[0mout_grads\u001b[0m\u001b[0;34m)\u001b[0m\u001b[0;34m\u001b[0m\u001b[0;34m\u001b[0m\u001b[0m\n",
            "\u001b[0;32m/usr/local/lib/python3.10/dist-packages/tensorflow/python/ops/nn_grad.py\u001b[0m in \u001b[0;36m_Conv2DBackpropInputGrad\u001b[0;34m(op, grad)\u001b[0m\n\u001b[1;32m     43\u001b[0m   return [\n\u001b[1;32m     44\u001b[0m       \u001b[0;32mNone\u001b[0m\u001b[0;34m,\u001b[0m\u001b[0;34m\u001b[0m\u001b[0;34m\u001b[0m\u001b[0m\n\u001b[0;32m---> 45\u001b[0;31m       gen_nn_ops.conv2d_backprop_filter(\n\u001b[0m\u001b[1;32m     46\u001b[0m           \u001b[0mgrad\u001b[0m\u001b[0;34m,\u001b[0m\u001b[0;34m\u001b[0m\u001b[0;34m\u001b[0m\u001b[0m\n\u001b[1;32m     47\u001b[0m           \u001b[0marray_ops\u001b[0m\u001b[0;34m.\u001b[0m\u001b[0mshape\u001b[0m\u001b[0;34m(\u001b[0m\u001b[0mop\u001b[0m\u001b[0;34m.\u001b[0m\u001b[0minputs\u001b[0m\u001b[0;34m[\u001b[0m\u001b[0;36m1\u001b[0m\u001b[0;34m]\u001b[0m\u001b[0;34m)\u001b[0m\u001b[0;34m,\u001b[0m\u001b[0;34m\u001b[0m\u001b[0;34m\u001b[0m\u001b[0m\n",
            "\u001b[0;32m/usr/local/lib/python3.10/dist-packages/tensorflow/python/ops/gen_nn_ops.py\u001b[0m in \u001b[0;36mconv2d_backprop_filter\u001b[0;34m(input, filter_sizes, out_backprop, strides, padding, use_cudnn_on_gpu, explicit_paddings, data_format, dilations, name)\u001b[0m\n\u001b[1;32m   1253\u001b[0m   \u001b[0;32mif\u001b[0m \u001b[0mtld\u001b[0m\u001b[0;34m.\u001b[0m\u001b[0mis_eager\u001b[0m\u001b[0;34m:\u001b[0m\u001b[0;34m\u001b[0m\u001b[0;34m\u001b[0m\u001b[0m\n\u001b[1;32m   1254\u001b[0m     \u001b[0;32mtry\u001b[0m\u001b[0;34m:\u001b[0m\u001b[0;34m\u001b[0m\u001b[0;34m\u001b[0m\u001b[0m\n\u001b[0;32m-> 1255\u001b[0;31m       _result = pywrap_tfe.TFE_Py_FastPathExecute(\n\u001b[0m\u001b[1;32m   1256\u001b[0m         \u001b[0m_ctx\u001b[0m\u001b[0;34m,\u001b[0m \u001b[0;34m\"Conv2DBackpropFilter\"\u001b[0m\u001b[0;34m,\u001b[0m \u001b[0mname\u001b[0m\u001b[0;34m,\u001b[0m \u001b[0minput\u001b[0m\u001b[0;34m,\u001b[0m \u001b[0mfilter_sizes\u001b[0m\u001b[0;34m,\u001b[0m \u001b[0mout_backprop\u001b[0m\u001b[0;34m,\u001b[0m\u001b[0;34m\u001b[0m\u001b[0;34m\u001b[0m\u001b[0m\n\u001b[1;32m   1257\u001b[0m         \u001b[0;34m\"strides\"\u001b[0m\u001b[0;34m,\u001b[0m \u001b[0mstrides\u001b[0m\u001b[0;34m,\u001b[0m \u001b[0;34m\"use_cudnn_on_gpu\"\u001b[0m\u001b[0;34m,\u001b[0m \u001b[0muse_cudnn_on_gpu\u001b[0m\u001b[0;34m,\u001b[0m \u001b[0;34m\"padding\"\u001b[0m\u001b[0;34m,\u001b[0m\u001b[0;34m\u001b[0m\u001b[0;34m\u001b[0m\u001b[0m\n",
            "\u001b[0;31mKeyboardInterrupt\u001b[0m: "
          ]
        }
      ],
      "source": [
        "\n",
        "#@tf.function\n",
        "def train_step(target_audios):\n",
        "\n",
        "\n",
        "  for i in range(2):\n",
        "\n",
        "      # Get the shape of the target_audios tensor\n",
        "      shape = tf.shape(target_audios)\n",
        "\n",
        "\n",
        "      # Generate noise using tf.random.normal()\n",
        "      noise = tf.random.normal((shape))\n",
        "      generated_audio = generator(noise, training=True)\n",
        "      with tf.GradientTape() as disc_tape:\n",
        "\n",
        "          real_output = discriminator(target_audios, training=True)\n",
        "          fake_output = discriminator(generated_audio, training=True)\n",
        "          gp = gradient_penalty(target_audios, generated_audio, discriminator)\n",
        "          disc_loss = discriminator_loss(real_output, fake_output, gp)\n",
        "\n",
        "      gradients_of_discriminator = disc_tape.gradient(disc_loss, discriminator.trainable_variables)\n",
        "      discriminator_optimizer.apply_gradients(zip(gradients_of_discriminator, discriminator.trainable_variables))\n",
        "      #clip_discriminator_weights(discriminator)\n",
        "\n",
        "      if i ==0:\n",
        "          weights = discriminator.get_weights()\n",
        "\n",
        "\n",
        "  with tf.GradientTape() as gen_tape:\n",
        "    noise = tf.random.normal(shape=(target_audios.shape))\n",
        "    generated_audio = generator(noise, training=True)\n",
        "    fake_output = discriminator(generated_audio, training=True)\n",
        "    gen_loss = generator_loss(fake_output)\n",
        "\n",
        "  gradients_of_generator = gen_tape.gradient(gen_loss, generator.trainable_variables)\n",
        "  generator_optimizer.apply_gradients(zip(gradients_of_generator, generator.trainable_variables))\n",
        "\n",
        "  discriminator.set_weights(weights)\n",
        "\n",
        "\n",
        "  tf.print(\"disc_loss\",disc_loss,'gen_loss',gen_loss)\n",
        "\n",
        "\n",
        "def train(generator, discriminator\n",
        "          , epochs, batch_size):\n",
        "    for epoch in range(epochs):\n",
        "        for batch in range(len(y_train) // batch_size):\n",
        "            #images = x_train[batch * batch_size: (batch+1) * batch_size]\n",
        "            target_audios = y_train[batch * batch_size: (batch+1) * batch_size]\n",
        "\n",
        "            train_step(target_audios)\n",
        "\n",
        "        if (epoch + 1) % 5 == 0:\n",
        "            print(f\"Epoch {epoch+1}/{epochs}\")\n",
        "            test = generator.predict(noise)\n",
        "            audio_data = test.ravel()\n",
        "            # Play the audio within the Jupyter Notebook\n",
        "            Audio(data=audio_data, rate=sr/reduction)\n",
        "\n",
        "\n",
        "# Train the GAN\n",
        "EPOCHS = 2000000\n",
        "BATCH_SIZE = 10\n",
        "num_unrolling_steps = 20  # Set the desired number of unrolling steps\n",
        "train(generator, discriminator, EPOCHS, BATCH_SIZE)"
      ]
    },
    {
      "cell_type": "code",
      "execution_count": 19,
      "metadata": {
        "id": "mrmv1Zri-jjc",
        "colab": {
          "base_uri": "https://localhost:8080/",
          "height": 93
        },
        "outputId": "2664ddc0-4025-48b9-bb57-3fbb83a922cc"
      },
      "outputs": [
        {
          "output_type": "stream",
          "name": "stdout",
          "text": [
            "1/1 [==============================] - 0s 135ms/step\n"
          ]
        },
        {
          "output_type": "execute_result",
          "data": {
            "text/plain": [
              "<IPython.lib.display.Audio object>"
            ],
            "text/html": [
              "\n",
              "                <audio  controls=\"controls\" >\n",
              "                    <source src=\"data:audio/wav;base64,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\" type=\"audio/wav\" />\n",
              "                    Your browser does not support the audio element.\n",
              "                </audio>\n",
              "              "
            ]
          },
          "metadata": {},
          "execution_count": 19
        }
      ],
      "source": [
        "test = generator.predict(noise)\n",
        "audio_data = test.ravel()\n",
        "# Play the audio within the Jupyter Notebook\n",
        "Audio(data=audio_data, rate=sr/reduction)"
      ]
    }
  ],
  "metadata": {
    "colab": {
      "name": "Overview of Colaboratory Features",
      "provenance": [],
      "include_colab_link": true
    },
    "kernelspec": {
      "display_name": "Python 3 (ipykernel)",
      "language": "python",
      "name": "python3"
    },
    "language_info": {
      "codemirror_mode": {
        "name": "ipython",
        "version": 3
      },
      "file_extension": ".py",
      "mimetype": "text/x-python",
      "name": "python",
      "nbconvert_exporter": "python",
      "pygments_lexer": "ipython3",
      "version": "3.8.10"
    }
  },
  "nbformat": 4,
  "nbformat_minor": 0
}